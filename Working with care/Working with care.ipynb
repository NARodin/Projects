{
 "cells": [
  {
   "cell_type": "markdown",
   "id": "87c8d9e8",
   "metadata": {},
   "source": [
    " # Описание проекта"
   ]
  },
  {
   "cell_type": "markdown",
   "id": "ca23aa76",
   "metadata": {},
   "source": [
    "HR-аналитики компании «Работа с заботой» помогают бизнесу оптимизировать управление персоналом: бизнес предоставляет данные, а аналитики предлагают, как избежать финансовых потерь и оттока сотрудников. В этом HR-аналитикам пригодится машинное обучение, с помощью которого получится быстрее и точнее отвечать на вопросы бизнеса.\n",
    "Компания предоставила данные с характеристиками сотрудников компании. Среди них — уровень удовлетворённости сотрудника работой в компании. Эту информацию получили из форм обратной связи: сотрудники заполняют тест-опросник, и по его результатам рассчитывается доля их удовлетворённости от 0 до 1, где 0 — совершенно неудовлетворён, 1 — полностью удовлетворён. \n",
    "Собирать данные такими опросниками не так легко: компания большая, и всех сотрудников надо сначала оповестить об опросе, а затем проследить, что все его прошли. \n",
    "У вас будет несколько задач. Первая — построить модель, которая сможет предсказать уровень удовлетворённости сотрудника на основе данных заказчика. \n",
    "Почему бизнесу это важно: удовлетворённость работой напрямую влияет на отток сотрудников. А предсказание оттока — одна из важнейших задач HR-аналитиков. Внезапные увольнения несут в себе риски для компании, особенно если уходит важный сотрудник.\n",
    "Ваша вторая задача — построить модель, которая сможет на основе данных заказчика предсказать то, что сотрудник уволится из компании."
   ]
  },
  {
   "cell_type": "markdown",
   "id": "2017705b",
   "metadata": {},
   "source": [
    "# Описание данных"
   ]
  },
  {
   "cell_type": "markdown",
   "id": "b7f696e5",
   "metadata": {},
   "source": [
    "id — уникальный идентификатор сотрудника;  \n",
    "dept — отдел, в котором работает сотрудник;  \n",
    "level — уровень занимаемой должности;  \n",
    "workload — уровень загруженности сотрудника;  \n",
    "employment_years — длительность работы в компании (в годах);  \n",
    "last_year_promo — показывает, было ли повышение за последний год;  \n",
    "last_year_violations — показывает, нарушал ли сотрудник трудовой договор за последний год;  \n",
    "supervisor_evaluation — оценка качества работы сотрудника, которую дал руководитель;  \n",
    "salary — ежемесячная зарплата сотрудника;  \n",
    "job_satisfaction_rate — уровень удовлетворённости сотрудника работой в компании, целевой признак.   \n",
    "quit — увольнение сотрудника из компании."
   ]
  },
  {
   "cell_type": "markdown",
   "id": "63de4f4d",
   "metadata": {},
   "source": [
    "# Импорт необходимых библиотек"
   ]
  },
  {
   "cell_type": "code",
   "execution_count": 1,
   "id": "33a387a5",
   "metadata": {},
   "outputs": [
    {
     "name": "stdout",
     "output_type": "stream",
     "text": [
      "Requirement already satisfied: phik in /opt/conda/lib/python3.9/site-packages (0.12.4)\n",
      "Requirement already satisfied: numpy>=1.18.0 in /opt/conda/lib/python3.9/site-packages (from phik) (1.21.1)\n",
      "Requirement already satisfied: pandas>=0.25.1 in /opt/conda/lib/python3.9/site-packages (from phik) (1.2.4)\n",
      "Requirement already satisfied: scipy>=1.5.2 in /opt/conda/lib/python3.9/site-packages (from phik) (1.9.1)\n",
      "Requirement already satisfied: matplotlib>=2.2.3 in /opt/conda/lib/python3.9/site-packages (from phik) (3.3.4)\n",
      "Requirement already satisfied: joblib>=0.14.1 in /opt/conda/lib/python3.9/site-packages (from phik) (1.1.0)\n",
      "Requirement already satisfied: cycler>=0.10 in /opt/conda/lib/python3.9/site-packages (from matplotlib>=2.2.3->phik) (0.11.0)\n",
      "Requirement already satisfied: kiwisolver>=1.0.1 in /opt/conda/lib/python3.9/site-packages (from matplotlib>=2.2.3->phik) (1.4.4)\n",
      "Requirement already satisfied: pyparsing!=2.0.4,!=2.1.2,!=2.1.6,>=2.0.3 in /opt/conda/lib/python3.9/site-packages (from matplotlib>=2.2.3->phik) (2.4.7)\n",
      "Requirement already satisfied: python-dateutil>=2.1 in /opt/conda/lib/python3.9/site-packages (from matplotlib>=2.2.3->phik) (2.8.1)\n",
      "Requirement already satisfied: pillow>=6.2.0 in /opt/conda/lib/python3.9/site-packages (from matplotlib>=2.2.3->phik) (8.4.0)\n",
      "Requirement already satisfied: pytz>=2017.3 in /opt/conda/lib/python3.9/site-packages (from pandas>=0.25.1->phik) (2021.1)\n",
      "Requirement already satisfied: six>=1.5 in /opt/conda/lib/python3.9/site-packages (from python-dateutil>=2.1->matplotlib>=2.2.3->phik) (1.16.0)\n",
      "Requirement already satisfied: shap in /opt/conda/lib/python3.9/site-packages (0.46.0)\n",
      "Requirement already satisfied: scipy in /opt/conda/lib/python3.9/site-packages (from shap) (1.9.1)\n",
      "Requirement already satisfied: numpy in /opt/conda/lib/python3.9/site-packages (from shap) (1.21.1)\n",
      "Requirement already satisfied: tqdm>=4.27.0 in /opt/conda/lib/python3.9/site-packages (from shap) (4.61.2)\n",
      "Requirement already satisfied: scikit-learn in /opt/conda/lib/python3.9/site-packages (from shap) (0.24.1)\n",
      "Requirement already satisfied: cloudpickle in /opt/conda/lib/python3.9/site-packages (from shap) (3.1.0)\n",
      "Requirement already satisfied: pandas in /opt/conda/lib/python3.9/site-packages (from shap) (1.2.4)\n",
      "Requirement already satisfied: numba in /opt/conda/lib/python3.9/site-packages (from shap) (0.56.0)\n",
      "Requirement already satisfied: packaging>20.9 in /opt/conda/lib/python3.9/site-packages (from shap) (21.3)\n",
      "Requirement already satisfied: slicer==0.0.8 in /opt/conda/lib/python3.9/site-packages (from shap) (0.0.8)\n",
      "Requirement already satisfied: pyparsing!=3.0.5,>=2.0.2 in /opt/conda/lib/python3.9/site-packages (from packaging>20.9->shap) (2.4.7)\n",
      "Requirement already satisfied: llvmlite<0.40,>=0.39.0dev0 in /opt/conda/lib/python3.9/site-packages (from numba->shap) (0.39.0)\n",
      "Requirement already satisfied: setuptools in /opt/conda/lib/python3.9/site-packages (from numba->shap) (49.6.0.post20210108)\n",
      "Requirement already satisfied: python-dateutil>=2.7.3 in /opt/conda/lib/python3.9/site-packages (from pandas->shap) (2.8.1)\n",
      "Requirement already satisfied: pytz>=2017.3 in /opt/conda/lib/python3.9/site-packages (from pandas->shap) (2021.1)\n",
      "Requirement already satisfied: six>=1.5 in /opt/conda/lib/python3.9/site-packages (from python-dateutil>=2.7.3->pandas->shap) (1.16.0)\n",
      "Requirement already satisfied: joblib>=0.11 in /opt/conda/lib/python3.9/site-packages (from scikit-learn->shap) (1.1.0)\n",
      "Requirement already satisfied: threadpoolctl>=2.0.0 in /opt/conda/lib/python3.9/site-packages (from scikit-learn->shap) (3.1.0)\n"
     ]
    }
   ],
   "source": [
    "!pip install phik \n",
    "!pip install shap"
   ]
  },
  {
   "cell_type": "code",
   "execution_count": 2,
   "id": "6794ff0d",
   "metadata": {},
   "outputs": [],
   "source": [
    "import pandas as pd\n",
    "import numpy as np\n",
    "import matplotlib.pyplot as plt\n",
    "import seaborn as sns\n",
    "\n",
    "import phik\n",
    "from phik import phik_matrix\n",
    "from phik.report import plot_correlation_matrix\n",
    "\n",
    "import sklearn\n",
    "\n",
    "from sklearn.pipeline import Pipeline\n",
    "from sklearn.compose import ColumnTransformer\n",
    "from sklearn.impute import SimpleImputer \n",
    "\n",
    "from sklearn.linear_model import LinearRegression, Ridge\n",
    "from sklearn.tree import DecisionTreeRegressor\n",
    "from sklearn.tree import plot_tree \n",
    "from sklearn.svm import SVR\n",
    "\n",
    "from sklearn.preprocessing import OneHotEncoder, OrdinalEncoder, StandardScaler, MinMaxScaler, RobustScaler, LabelEncoder\n",
    "\n",
    "from sklearn.model_selection import RandomizedSearchCV, GridSearchCV\n",
    "\n",
    "from warnings import simplefilter\n",
    "\n",
    "from sklearn.metrics import make_scorer\n",
    "import shap\n",
    "\n",
    "from sklearn.metrics import mean_squared_error\n",
    "from sklearn.feature_selection import SelectKBest, f_classif\n",
    "from sklearn.preprocessing import StandardScaler, PolynomialFeatures\n",
    "\n",
    "from sklearn.linear_model import LogisticRegression\n",
    "from sklearn.neighbors import KNeighborsClassifier\n",
    "from sklearn.tree import DecisionTreeClassifier\n",
    "from sklearn.svm import SVC\n",
    "\n",
    "from sklearn.metrics import roc_auc_score"
   ]
  },
  {
   "cell_type": "markdown",
   "id": "9e841085",
   "metadata": {},
   "source": [
    "## Задача 1: предсказание уровня удовлетворённости сотрудника"
   ]
  },
  {
   "cell_type": "markdown",
   "id": "78d4e6b0",
   "metadata": {},
   "source": [
    "### Загрузка данных"
   ]
  },
  {
   "cell_type": "code",
   "execution_count": 3,
   "id": "1bbe4bda",
   "metadata": {},
   "outputs": [],
   "source": [
    "try:\n",
    "    X_y_train = pd.read_csv('/datasets/train_job_satisfaction_rate.csv')\n",
    "    y_test = pd.read_csv('/datasets/test_target_job_satisfaction_rate.csv')\n",
    "    X_test = pd.read_csv('/datasets/test_features.csv')\n",
    "except:\n",
    "    X_y_train = pd.read_csv(r'C:\\Users\\User\\Downloads\\train_job_satisfaction_rate.csv')\n",
    "    y_test = pd.read_csv(r'C:\\Users\\User\\Downloads\\test_target_job_satisfaction_rate.csv')\n",
    "    X_test = pd.read_csv(r'C:\\Users\\User\\Downloads\\test_features.csv')\n",
    "\n",
    "X_y_train = X_y_train.set_index('id')\n",
    "y_test = y_test.set_index('id')\n",
    "X_test = X_test.set_index('id')\n",
    "\n",
    "X_train = X_y_train.drop(['job_satisfaction_rate'], axis=1)\n",
    "y_train = X_y_train['job_satisfaction_rate']\n",
    "\n",
    "y_train = y_train.to_frame(name='job_satisfaction_rate')"
   ]
  },
  {
   "cell_type": "markdown",
   "id": "f384d725",
   "metadata": {},
   "source": [
    "### Предобработка данных"
   ]
  },
  {
   "cell_type": "code",
   "execution_count": 4,
   "id": "01df245b",
   "metadata": {
    "scrolled": false
   },
   "outputs": [
    {
     "data": {
      "text/html": [
       "<div>\n",
       "<style scoped>\n",
       "    .dataframe tbody tr th:only-of-type {\n",
       "        vertical-align: middle;\n",
       "    }\n",
       "\n",
       "    .dataframe tbody tr th {\n",
       "        vertical-align: top;\n",
       "    }\n",
       "\n",
       "    .dataframe thead th {\n",
       "        text-align: right;\n",
       "    }\n",
       "</style>\n",
       "<table border=\"1\" class=\"dataframe\">\n",
       "  <thead>\n",
       "    <tr style=\"text-align: right;\">\n",
       "      <th></th>\n",
       "      <th>dept</th>\n",
       "      <th>level</th>\n",
       "      <th>workload</th>\n",
       "      <th>employment_years</th>\n",
       "      <th>last_year_promo</th>\n",
       "      <th>last_year_violations</th>\n",
       "      <th>supervisor_evaluation</th>\n",
       "      <th>salary</th>\n",
       "    </tr>\n",
       "    <tr>\n",
       "      <th>id</th>\n",
       "      <th></th>\n",
       "      <th></th>\n",
       "      <th></th>\n",
       "      <th></th>\n",
       "      <th></th>\n",
       "      <th></th>\n",
       "      <th></th>\n",
       "      <th></th>\n",
       "    </tr>\n",
       "  </thead>\n",
       "  <tbody>\n",
       "    <tr>\n",
       "      <th>155278</th>\n",
       "      <td>sales</td>\n",
       "      <td>junior</td>\n",
       "      <td>medium</td>\n",
       "      <td>2</td>\n",
       "      <td>no</td>\n",
       "      <td>no</td>\n",
       "      <td>1</td>\n",
       "      <td>24000</td>\n",
       "    </tr>\n",
       "    <tr>\n",
       "      <th>653870</th>\n",
       "      <td>hr</td>\n",
       "      <td>junior</td>\n",
       "      <td>high</td>\n",
       "      <td>2</td>\n",
       "      <td>no</td>\n",
       "      <td>no</td>\n",
       "      <td>5</td>\n",
       "      <td>38400</td>\n",
       "    </tr>\n",
       "    <tr>\n",
       "      <th>184592</th>\n",
       "      <td>sales</td>\n",
       "      <td>junior</td>\n",
       "      <td>low</td>\n",
       "      <td>1</td>\n",
       "      <td>no</td>\n",
       "      <td>no</td>\n",
       "      <td>2</td>\n",
       "      <td>12000</td>\n",
       "    </tr>\n",
       "    <tr>\n",
       "      <th>171431</th>\n",
       "      <td>technology</td>\n",
       "      <td>junior</td>\n",
       "      <td>low</td>\n",
       "      <td>4</td>\n",
       "      <td>no</td>\n",
       "      <td>no</td>\n",
       "      <td>2</td>\n",
       "      <td>18000</td>\n",
       "    </tr>\n",
       "    <tr>\n",
       "      <th>693419</th>\n",
       "      <td>hr</td>\n",
       "      <td>junior</td>\n",
       "      <td>medium</td>\n",
       "      <td>1</td>\n",
       "      <td>no</td>\n",
       "      <td>no</td>\n",
       "      <td>3</td>\n",
       "      <td>22800</td>\n",
       "    </tr>\n",
       "  </tbody>\n",
       "</table>\n",
       "</div>"
      ],
      "text/plain": [
       "              dept   level workload  employment_years last_year_promo  \\\n",
       "id                                                                      \n",
       "155278       sales  junior   medium                 2              no   \n",
       "653870          hr  junior     high                 2              no   \n",
       "184592       sales  junior      low                 1              no   \n",
       "171431  technology  junior      low                 4              no   \n",
       "693419          hr  junior   medium                 1              no   \n",
       "\n",
       "       last_year_violations  supervisor_evaluation  salary  \n",
       "id                                                          \n",
       "155278                   no                      1   24000  \n",
       "653870                   no                      5   38400  \n",
       "184592                   no                      2   12000  \n",
       "171431                   no                      2   18000  \n",
       "693419                   no                      3   22800  "
      ]
     },
     "execution_count": 4,
     "metadata": {},
     "output_type": "execute_result"
    }
   ],
   "source": [
    "X_train.head()"
   ]
  },
  {
   "cell_type": "code",
   "execution_count": 5,
   "id": "e9810c7c",
   "metadata": {},
   "outputs": [
    {
     "data": {
      "text/plain": [
       "sales         763\n",
       "technology    455\n",
       "marketing     279\n",
       "purchasing    273\n",
       "hr            227\n",
       "                1\n",
       "Name: dept, dtype: int64"
      ]
     },
     "execution_count": 5,
     "metadata": {},
     "output_type": "execute_result"
    }
   ],
   "source": [
    "X_test['dept'].value_counts()"
   ]
  },
  {
   "cell_type": "markdown",
   "id": "16dfa248",
   "metadata": {},
   "source": [
    "замечен пробел, удалим его"
   ]
  },
  {
   "cell_type": "code",
   "execution_count": 6,
   "id": "f42b082a",
   "metadata": {},
   "outputs": [],
   "source": [
    "X_test['dept'] = X_test['dept'].str.replace(' ', X_test['dept'].mode()[0])"
   ]
  },
  {
   "cell_type": "code",
   "execution_count": 7,
   "id": "2c4c367d",
   "metadata": {},
   "outputs": [
    {
     "data": {
      "text/plain": [
       "medium    1043\n",
       "low        593\n",
       "high       363\n",
       "             1\n",
       "Name: workload, dtype: int64"
      ]
     },
     "execution_count": 7,
     "metadata": {},
     "output_type": "execute_result"
    }
   ],
   "source": [
    "X_test['workload'].value_counts()"
   ]
  },
  {
   "cell_type": "markdown",
   "id": "5950ba74",
   "metadata": {},
   "source": [
    "замечен пробел, удалим его"
   ]
  },
  {
   "cell_type": "code",
   "execution_count": 8,
   "id": "45495f20",
   "metadata": {},
   "outputs": [],
   "source": [
    "X_test['workload'] = X_test['workload'].str.replace(' ', X_test['workload'].mode()[0])"
   ]
  },
  {
   "cell_type": "code",
   "execution_count": 9,
   "id": "b0da8937",
   "metadata": {},
   "outputs": [],
   "source": [
    "df_test = X_test.merge(y_test, on='id', how='left')\n",
    "\n",
    "X_test = df_test.drop([ 'job_satisfaction_rate'], axis=1)\n",
    "y_test = df_test['job_satisfaction_rate']"
   ]
  },
  {
   "cell_type": "code",
   "execution_count": 10,
   "id": "9404fe54",
   "metadata": {},
   "outputs": [
    {
     "name": "stdout",
     "output_type": "stream",
     "text": [
      "<class 'pandas.core.frame.DataFrame'>\n",
      "Int64Index: 2000 entries, 485046 to 771859\n",
      "Data columns (total 8 columns):\n",
      " #   Column                 Non-Null Count  Dtype \n",
      "---  ------                 --------------  ----- \n",
      " 0   dept                   1998 non-null   object\n",
      " 1   level                  1999 non-null   object\n",
      " 2   workload               2000 non-null   object\n",
      " 3   employment_years       2000 non-null   int64 \n",
      " 4   last_year_promo        2000 non-null   object\n",
      " 5   last_year_violations   2000 non-null   object\n",
      " 6   supervisor_evaluation  2000 non-null   int64 \n",
      " 7   salary                 2000 non-null   int64 \n",
      "dtypes: int64(3), object(5)\n",
      "memory usage: 140.6+ KB\n"
     ]
    }
   ],
   "source": [
    "X_test.info()"
   ]
  },
  {
   "cell_type": "code",
   "execution_count": 11,
   "id": "d6f00540",
   "metadata": {},
   "outputs": [
    {
     "name": "stdout",
     "output_type": "stream",
     "text": [
      "<class 'pandas.core.frame.DataFrame'>\n",
      "Int64Index: 4000 entries, 155278 to 338347\n",
      "Data columns (total 1 columns):\n",
      " #   Column                 Non-Null Count  Dtype  \n",
      "---  ------                 --------------  -----  \n",
      " 0   job_satisfaction_rate  4000 non-null   float64\n",
      "dtypes: float64(1)\n",
      "memory usage: 62.5 KB\n"
     ]
    }
   ],
   "source": [
    "y_train.info()"
   ]
  },
  {
   "cell_type": "markdown",
   "id": "d9eb044c",
   "metadata": {},
   "source": [
    "#### Вывод"
   ]
  },
  {
   "cell_type": "markdown",
   "id": "efaa0bbc",
   "metadata": {},
   "source": [
    "Особых проблем в данных обнаружено не было. Данных достаточно для исследования. Явные и неявные дубликаты отсутсвуют, аномалий обнаружено не было. Были замечены пропуски, которые мы удалили вунтри пайплайна."
   ]
  },
  {
   "cell_type": "markdown",
   "id": "1b3f11ce",
   "metadata": {},
   "source": [
    "### Исследовательский анализ данных"
   ]
  },
  {
   "cell_type": "markdown",
   "id": "6d46edf4",
   "metadata": {},
   "source": [
    "Объеденим тестовую и тренировочную выборку для анализа"
   ]
  },
  {
   "cell_type": "code",
   "execution_count": 12,
   "id": "516863e0",
   "metadata": {},
   "outputs": [],
   "source": [
    "frames = [X_train, X_test]\n",
    "X_data = pd.concat(frames)"
   ]
  },
  {
   "cell_type": "code",
   "execution_count": 13,
   "id": "3d559de2",
   "metadata": {},
   "outputs": [],
   "source": [
    "X_data['dept'] = X_data['dept'].fillna(X_data['dept'].mode()[0])\n",
    "X_data['level'] = X_data['level'].fillna(X_data['level'].mode()[0])"
   ]
  },
  {
   "cell_type": "code",
   "execution_count": 14,
   "id": "c62ab538",
   "metadata": {
    "scrolled": true
   },
   "outputs": [
    {
     "data": {
      "text/html": [
       "<div>\n",
       "<style scoped>\n",
       "    .dataframe tbody tr th:only-of-type {\n",
       "        vertical-align: middle;\n",
       "    }\n",
       "\n",
       "    .dataframe tbody tr th {\n",
       "        vertical-align: top;\n",
       "    }\n",
       "\n",
       "    .dataframe thead th {\n",
       "        text-align: right;\n",
       "    }\n",
       "</style>\n",
       "<table border=\"1\" class=\"dataframe\">\n",
       "  <thead>\n",
       "    <tr style=\"text-align: right;\">\n",
       "      <th></th>\n",
       "      <th>dept</th>\n",
       "      <th>level</th>\n",
       "      <th>workload</th>\n",
       "      <th>employment_years</th>\n",
       "      <th>last_year_promo</th>\n",
       "      <th>last_year_violations</th>\n",
       "      <th>supervisor_evaluation</th>\n",
       "      <th>salary</th>\n",
       "    </tr>\n",
       "    <tr>\n",
       "      <th>id</th>\n",
       "      <th></th>\n",
       "      <th></th>\n",
       "      <th></th>\n",
       "      <th></th>\n",
       "      <th></th>\n",
       "      <th></th>\n",
       "      <th></th>\n",
       "      <th></th>\n",
       "    </tr>\n",
       "  </thead>\n",
       "  <tbody>\n",
       "    <tr>\n",
       "      <th>155278</th>\n",
       "      <td>sales</td>\n",
       "      <td>junior</td>\n",
       "      <td>medium</td>\n",
       "      <td>2</td>\n",
       "      <td>no</td>\n",
       "      <td>no</td>\n",
       "      <td>1</td>\n",
       "      <td>24000</td>\n",
       "    </tr>\n",
       "    <tr>\n",
       "      <th>653870</th>\n",
       "      <td>hr</td>\n",
       "      <td>junior</td>\n",
       "      <td>high</td>\n",
       "      <td>2</td>\n",
       "      <td>no</td>\n",
       "      <td>no</td>\n",
       "      <td>5</td>\n",
       "      <td>38400</td>\n",
       "    </tr>\n",
       "    <tr>\n",
       "      <th>184592</th>\n",
       "      <td>sales</td>\n",
       "      <td>junior</td>\n",
       "      <td>low</td>\n",
       "      <td>1</td>\n",
       "      <td>no</td>\n",
       "      <td>no</td>\n",
       "      <td>2</td>\n",
       "      <td>12000</td>\n",
       "    </tr>\n",
       "    <tr>\n",
       "      <th>171431</th>\n",
       "      <td>technology</td>\n",
       "      <td>junior</td>\n",
       "      <td>low</td>\n",
       "      <td>4</td>\n",
       "      <td>no</td>\n",
       "      <td>no</td>\n",
       "      <td>2</td>\n",
       "      <td>18000</td>\n",
       "    </tr>\n",
       "    <tr>\n",
       "      <th>693419</th>\n",
       "      <td>hr</td>\n",
       "      <td>junior</td>\n",
       "      <td>medium</td>\n",
       "      <td>1</td>\n",
       "      <td>no</td>\n",
       "      <td>no</td>\n",
       "      <td>3</td>\n",
       "      <td>22800</td>\n",
       "    </tr>\n",
       "  </tbody>\n",
       "</table>\n",
       "</div>"
      ],
      "text/plain": [
       "              dept   level workload  employment_years last_year_promo  \\\n",
       "id                                                                      \n",
       "155278       sales  junior   medium                 2              no   \n",
       "653870          hr  junior     high                 2              no   \n",
       "184592       sales  junior      low                 1              no   \n",
       "171431  technology  junior      low                 4              no   \n",
       "693419          hr  junior   medium                 1              no   \n",
       "\n",
       "       last_year_violations  supervisor_evaluation  salary  \n",
       "id                                                          \n",
       "155278                   no                      1   24000  \n",
       "653870                   no                      5   38400  \n",
       "184592                   no                      2   12000  \n",
       "171431                   no                      2   18000  \n",
       "693419                   no                      3   22800  "
      ]
     },
     "execution_count": 14,
     "metadata": {},
     "output_type": "execute_result"
    }
   ],
   "source": [
    "X_data.head()"
   ]
  },
  {
   "cell_type": "markdown",
   "id": "91038030",
   "metadata": {},
   "source": [
    "#### dept"
   ]
  },
  {
   "cell_type": "code",
   "execution_count": 15,
   "id": "2e6f00be",
   "metadata": {},
   "outputs": [
    {
     "name": "stdout",
     "output_type": "stream",
     "text": [
      "count      6000\n",
      "unique        5\n",
      "top       sales\n",
      "freq       2284\n",
      "Name: dept, dtype: object\n"
     ]
    },
    {
     "data": {
      "image/png": "[encoded data removed]",
      "text/plain": [
       "<Figure size 432x288 with 1 Axes>"
      ]
     },
     "metadata": {},
     "output_type": "display_data"
    }
   ],
   "source": [
    "X_data['dept'].value_counts().plot(kind='pie', autopct='%1.0f%%')\n",
    "print(X_data['dept'].describe())\n",
    "plt.title(\"Соотношение людей в департаментах\")\n",
    "None"
   ]
  },
  {
   "cell_type": "markdown",
   "id": "1c70dd7b",
   "metadata": {},
   "source": [
    "Самый большое департамент - saler, самый маленькие - HR."
   ]
  },
  {
   "cell_type": "markdown",
   "id": "bf3642ff",
   "metadata": {},
   "source": [
    "#### level"
   ]
  },
  {
   "cell_type": "code",
   "execution_count": 16,
   "id": "a79774cc",
   "metadata": {},
   "outputs": [
    {
     "name": "stdout",
     "output_type": "stream",
     "text": [
      "count       6000\n",
      "unique         3\n",
      "top       junior\n",
      "freq        2873\n",
      "Name: level, dtype: object\n"
     ]
    },
    {
     "data": {
      "image/png": "[encoded data removed]",
      "text/plain": [
       "<Figure size 432x288 with 1 Axes>"
      ]
     },
     "metadata": {},
     "output_type": "display_data"
    }
   ],
   "source": [
    "X_data['level'].value_counts().plot(kind='pie', autopct='%1.0f%%')\n",
    "print(X_data['level'].describe())\n",
    "plt.title(\"Соотношение уровней должностей\")\n",
    "None"
   ]
  },
  {
   "cell_type": "markdown",
   "id": "9bb62277",
   "metadata": {},
   "source": [
    "Джунов немного больше чем мидлов, и гораздо больше чем сеньоров. "
   ]
  },
  {
   "cell_type": "markdown",
   "id": "35b3a703",
   "metadata": {},
   "source": [
    "#### workload"
   ]
  },
  {
   "cell_type": "code",
   "execution_count": 17,
   "id": "1c4737c6",
   "metadata": {},
   "outputs": [
    {
     "name": "stdout",
     "output_type": "stream",
     "text": [
      "count       6000\n",
      "unique         3\n",
      "top       medium\n",
      "freq        3110\n",
      "Name: workload, dtype: object\n"
     ]
    },
    {
     "data": {
      "image/png": "[encoded data removed]",
      "text/plain": [
       "<Figure size 432x288 with 1 Axes>"
      ]
     },
     "metadata": {},
     "output_type": "display_data"
    }
   ],
   "source": [
    "X_data['workload'].value_counts().plot(kind='pie', autopct='%1.0f%%')\n",
    "print(X_data['workload'].describe())\n",
    "plt.title(\"Соотношение уровней загруженности\")\n",
    "None"
   ]
  },
  {
   "cell_type": "markdown",
   "id": "713e743f",
   "metadata": {},
   "source": [
    "Тех кто загружен средне - примерно половина от общего числа сотрудников. Тех кто загружен мало примерно в 2 раза больше загруженных сильно."
   ]
  },
  {
   "cell_type": "markdown",
   "id": "fae1e1e7",
   "metadata": {},
   "source": [
    "#### employment_years"
   ]
  },
  {
   "cell_type": "code",
   "execution_count": 18,
   "id": "98a70f1d",
   "metadata": {},
   "outputs": [
    {
     "name": "stdout",
     "output_type": "stream",
     "text": [
      "count    6000.000000\n",
      "mean        3.701167\n",
      "std         2.540658\n",
      "min         1.000000\n",
      "25%         2.000000\n",
      "50%         3.000000\n",
      "75%         6.000000\n",
      "max        10.000000\n",
      "Name: employment_years, dtype: float64\n"
     ]
    },
    {
     "data": {
      "image/png": "[encoded data removed]",
      "text/plain": [
       "<Figure size 432x288 with 1 Axes>"
      ]
     },
     "metadata": {
      "needs_background": "light"
     },
     "output_type": "display_data"
    }
   ],
   "source": [
    "X_data['employment_years'].value_counts().plot(kind='bar')\n",
    "print(X_data['employment_years'].describe())\n",
    "plt.title(\"Соотношение длительности работы в компании\")\n",
    "None"
   ]
  },
  {
   "cell_type": "markdown",
   "id": "cd649f4f",
   "metadata": {},
   "source": [
    "Тут все выглядит абсолютно логичным"
   ]
  },
  {
   "cell_type": "markdown",
   "id": "a39259b8",
   "metadata": {},
   "source": [
    "#### last_year_promo"
   ]
  },
  {
   "cell_type": "code",
   "execution_count": 19,
   "id": "226568cd",
   "metadata": {},
   "outputs": [
    {
     "name": "stdout",
     "output_type": "stream",
     "text": [
      "count     6000\n",
      "unique       2\n",
      "top         no\n",
      "freq      5817\n",
      "Name: last_year_promo, dtype: object\n"
     ]
    },
    {
     "data": {
      "image/png": "[encoded data removed]",
      "text/plain": [
       "<Figure size 432x288 with 1 Axes>"
      ]
     },
     "metadata": {},
     "output_type": "display_data"
    }
   ],
   "source": [
    "X_data['last_year_promo'].value_counts().plot(kind='pie', autopct='%1.0f%%')\n",
    "print(X_data['last_year_promo'].describe())\n",
    "plt.title(\"Соотношение повышений за последний год\")\n",
    "None"
   ]
  },
  {
   "cell_type": "markdown",
   "id": "1741ffbf",
   "metadata": {},
   "source": [
    "Как мы видим, всего у 3 процентов служащих были повышения за последний год."
   ]
  },
  {
   "cell_type": "markdown",
   "id": "64202d8c",
   "metadata": {},
   "source": [
    "#### last_year_violations"
   ]
  },
  {
   "cell_type": "code",
   "execution_count": 20,
   "id": "556e5079",
   "metadata": {},
   "outputs": [
    {
     "name": "stdout",
     "output_type": "stream",
     "text": [
      "count     6000\n",
      "unique       2\n",
      "top         no\n",
      "freq      5179\n",
      "Name: last_year_violations, dtype: object\n"
     ]
    },
    {
     "data": {
      "image/png": "[encoded data removed]",
      "text/plain": [
       "<Figure size 432x288 with 1 Axes>"
      ]
     },
     "metadata": {},
     "output_type": "display_data"
    }
   ],
   "source": [
    "X_data['last_year_violations'].value_counts().plot(kind='pie', autopct='%1.0f%%')\n",
    "print(X_data['last_year_violations'].describe())\n",
    "plt.title(\"Соотношение нарушений за последний год\")\n",
    "None"
   ]
  },
  {
   "cell_type": "markdown",
   "id": "dc6a25de",
   "metadata": {},
   "source": [
    "А вот нарушали договор целых 14 процентов сотрудников."
   ]
  },
  {
   "cell_type": "markdown",
   "id": "c4d4f100",
   "metadata": {},
   "source": [
    "#### supervisor_evaluation"
   ]
  },
  {
   "cell_type": "code",
   "execution_count": 21,
   "id": "69b01825",
   "metadata": {},
   "outputs": [
    {
     "name": "stdout",
     "output_type": "stream",
     "text": [
      "count    6000.000000\n",
      "mean        3.493167\n",
      "std         1.005048\n",
      "min         1.000000\n",
      "25%         3.000000\n",
      "50%         4.000000\n",
      "75%         4.000000\n",
      "max         5.000000\n",
      "Name: supervisor_evaluation, dtype: float64\n"
     ]
    },
    {
     "data": {
      "image/png": "[encoded data removed]",
      "text/plain": [
       "<Figure size 432x288 with 1 Axes>"
      ]
     },
     "metadata": {
      "needs_background": "light"
     },
     "output_type": "display_data"
    }
   ],
   "source": [
    "X_data['supervisor_evaluation'].value_counts().plot(kind='bar')\n",
    "print(X_data['supervisor_evaluation'].describe())\n",
    "plt.title(\"Соотношение оценок руководителя\")\n",
    "None"
   ]
  },
  {
   "cell_type": "markdown",
   "id": "4a7540ab",
   "metadata": {},
   "source": [
    "Распределение похоже на школьное: Больше всего четверок и троек, поменьше отличников, а двойки и единицы руководитель почти не ставит"
   ]
  },
  {
   "cell_type": "markdown",
   "id": "2e617d74",
   "metadata": {},
   "source": [
    "#### salary"
   ]
  },
  {
   "cell_type": "code",
   "execution_count": 22,
   "id": "e663d435",
   "metadata": {},
   "outputs": [
    {
     "name": "stdout",
     "output_type": "stream",
     "text": [
      "count     6000.000000\n",
      "mean     33973.400000\n",
      "std      15067.302669\n",
      "min      12000.000000\n",
      "25%      22800.000000\n",
      "50%      30000.000000\n",
      "75%      43200.000000\n",
      "max      98400.000000\n",
      "Name: salary, dtype: float64\n"
     ]
    },
    {
     "data": {
      "image/png": "[encoded data removed]",
      "text/plain": [
       "<Figure size 432x288 with 1 Axes>"
      ]
     },
     "metadata": {
      "needs_background": "light"
     },
     "output_type": "display_data"
    }
   ],
   "source": [
    "X_data['salary'].hist(bins=30)\n",
    "print(X_data['salary'].describe())\n",
    "plt.title(\"Зарплата\")\n",
    "plt.ylabel(\"Сотрудники\")\n",
    "plt.xlabel(\"Зарплата\")\n",
    "None"
   ]
  },
  {
   "cell_type": "code",
   "execution_count": 23,
   "id": "9ae4289a",
   "metadata": {},
   "outputs": [
    {
     "data": {
      "image/png": "[encoded data removed]",
      "text/plain": [
       "<Figure size 432x288 with 1 Axes>"
      ]
     },
     "metadata": {
      "needs_background": "light"
     },
     "output_type": "display_data"
    }
   ],
   "source": [
    "X_data.boxplot(column='salary')\n",
    "None"
   ]
  },
  {
   "cell_type": "markdown",
   "id": "c385ff1d",
   "metadata": {},
   "source": [
    "Присутсвуют некоторые выбросы, однако они присутсвуют в датафрейме объединеной тестовой и тренировочной выборок, поэтому удалять их будет ненадежно"
   ]
  },
  {
   "cell_type": "markdown",
   "id": "12d78e3e",
   "metadata": {},
   "source": [
    "В целом распредение выглядит адекватным, что может говорить о достоверности данных."
   ]
  },
  {
   "cell_type": "markdown",
   "id": "13878fd6",
   "metadata": {},
   "source": [
    "#### job_satisfaction_rate"
   ]
  },
  {
   "cell_type": "code",
   "execution_count": 24,
   "id": "b410f64f",
   "metadata": {},
   "outputs": [],
   "source": [
    "frames_y = [y_train, y_test]\n",
    "y_data = pd.concat(frames_y)"
   ]
  },
  {
   "cell_type": "code",
   "execution_count": 25,
   "id": "db5c5062",
   "metadata": {},
   "outputs": [
    {
     "name": "stdout",
     "output_type": "stream",
     "text": [
      "count    4000.000000\n",
      "mean        0.533995\n",
      "std         0.225327\n",
      "min         0.030000\n",
      "25%         0.360000\n",
      "50%         0.560000\n",
      "75%         0.710000\n",
      "max         1.000000\n",
      "Name: job_satisfaction_rate, dtype: float64\n"
     ]
    },
    {
     "data": {
      "image/png": "[encoded data removed]",
      "text/plain": [
       "<Figure size 432x288 with 1 Axes>"
      ]
     },
     "metadata": {
      "needs_background": "light"
     },
     "output_type": "display_data"
    }
   ],
   "source": [
    "y_data['job_satisfaction_rate'].hist(bins=30)\n",
    "print(y_data['job_satisfaction_rate'].describe())\n",
    "plt.title(\"Уровень удовлетворенности\")\n",
    "plt.ylabel(\"Сотрудники\")\n",
    "plt.xlabel(\"Уровень удовлетворенности\")\n",
    "None"
   ]
  },
  {
   "cell_type": "markdown",
   "id": "79969388",
   "metadata": {},
   "source": [
    "Распределение похоже на нормальное, что говорит о его достоверности"
   ]
  },
  {
   "cell_type": "markdown",
   "id": "a6221a33",
   "metadata": {},
   "source": [
    "#### Вывод"
   ]
  },
  {
   "cell_type": "markdown",
   "id": "10aa827b",
   "metadata": {},
   "source": [
    "Выбросы удалять не стал так как данные были разделены на тестовую и тренировочную выборку заказчиком, в остальном данные выглядят адекватными"
   ]
  },
  {
   "cell_type": "markdown",
   "id": "fe1ddb87",
   "metadata": {},
   "source": [
    "###  Подготовка данных"
   ]
  },
  {
   "cell_type": "code",
   "execution_count": 26,
   "id": "7134434d",
   "metadata": {},
   "outputs": [],
   "source": [
    "ohe_columns = [ \n",
    "    'dept', \n",
    "    'last_year_promo',\n",
    "    'last_year_violations'\n",
    "]\n",
    "\n",
    "num_columns = ['employment_years', \n",
    "               'salary','supervisor_evaluation']\n",
    "\n",
    "ord_columns = ['level', 'workload']\n",
    "\n"
   ]
  },
  {
   "cell_type": "code",
   "execution_count": 27,
   "id": "96eb2977",
   "metadata": {},
   "outputs": [],
   "source": [
    "ohe_pipe = Pipeline(\n",
    "    [('simpleImputer_ohe', SimpleImputer(missing_values=np.nan, strategy='most_frequent')),\n",
    "     ('ohe', OneHotEncoder(drop='first', handle_unknown='error', sparse=False))\n",
    "    ]\n",
    "    )\n",
    "\n",
    "ord_pipe = Pipeline(\n",
    "    [('simpleImputer_before_ord', SimpleImputer(missing_values=np.nan, strategy='most_frequent')),\n",
    "     ('ord',  OrdinalEncoder(\n",
    "                categories=[\n",
    "                    ['junior', 'middle', 'sinior'], \n",
    "                    ['low', 'medium', 'high']\n",
    "                ], \n",
    "                handle_unknown='use_encoded_value', unknown_value=np.nan\n",
    "            )\n",
    "        ),\n",
    "     ('simpleImputer_after_ord', SimpleImputer(missing_values=np.nan, strategy='most_frequent'))\n",
    "    ]\n",
    ")"
   ]
  },
  {
   "cell_type": "code",
   "execution_count": 28,
   "id": "31fe050c",
   "metadata": {},
   "outputs": [],
   "source": [
    "data_preprocessor = ColumnTransformer(\n",
    "    [\n",
    "        ('ohe', ohe_pipe, ohe_columns),\n",
    "        ('ord', ord_pipe, ord_columns),\n",
    "        ('num', StandardScaler(), num_columns)\n",
    "    ], \n",
    "    remainder='passthrough'\n",
    ") "
   ]
  },
  {
   "cell_type": "markdown",
   "id": "601e042a",
   "metadata": {},
   "source": [
    "### Обучение моделей"
   ]
  },
  {
   "cell_type": "code",
   "execution_count": 29,
   "id": "5d8e59b8",
   "metadata": {},
   "outputs": [],
   "source": [
    "def smape(y_pred, y_true):\n",
    "     return (1/len(y_true)) * np.sum(2 * np.abs(y_pred - y_true) / (np.abs(y_true) + np.abs(y_pred))*100)\n",
    "\n",
    "smare_scorer = make_scorer(smape, greater_is_better=False)"
   ]
  },
  {
   "cell_type": "code",
   "execution_count": 30,
   "id": "3b1569f0",
   "metadata": {},
   "outputs": [],
   "source": [
    "pipe_final = Pipeline(\n",
    "    [\n",
    "        ('preprocessor', data_preprocessor),\n",
    "        ('models', DecisionTreeRegressor(random_state=42))\n",
    "    ]\n",
    ") "
   ]
  },
  {
   "cell_type": "code",
   "execution_count": 31,
   "id": "6bb23866",
   "metadata": {},
   "outputs": [],
   "source": [
    "param_grid = [\n",
    "    # словарь для модели DecisionTreeRegressor()\n",
    "    {\n",
    "        'models': [DecisionTreeRegressor(random_state=42)],\n",
    "        'models__max_depth': range(1, 20),\n",
    "        'models__min_samples_split': range(2, 20),\n",
    "        'models__min_samples_leaf': range(1, 20),\n",
    "    },\n",
    "\n",
    "    # словарь для модели LinearRegression()\n",
    "   {\n",
    "       'models': [LinearRegression()], \n",
    "   },\n",
    "        # словарь для модели SVC()\n",
    "    \n",
    "   {\n",
    "       'models': [SVR()],\n",
    "       'models__C': range(1, 20),\n",
    "        'models__degree': range(1, 10) \n",
    "   }\n",
    "]"
   ]
  },
  {
   "cell_type": "code",
   "execution_count": 32,
   "id": "131bcc1a",
   "metadata": {
    "scrolled": true
   },
   "outputs": [
    {
     "name": "stdout",
     "output_type": "stream",
     "text": [
      "Лучшая модель и её параметры:\n",
      "\n",
      " Pipeline(steps=[('preprocessor',\n",
      "                 ColumnTransformer(remainder='passthrough',\n",
      "                                   transformers=[('ohe',\n",
      "                                                  Pipeline(steps=[('simpleImputer_ohe',\n",
      "                                                                   SimpleImputer(strategy='most_frequent')),\n",
      "                                                                  ('ohe',\n",
      "                                                                   OneHotEncoder(drop='first',\n",
      "                                                                                 sparse=False))]),\n",
      "                                                  ['dept', 'last_year_promo',\n",
      "                                                   'last_year_violations']),\n",
      "                                                 ('ord',\n",
      "                                                  Pipeline(steps=[('simpleImputer_before_ord',\n",
      "                                                                   SimpleImputer(strategy='...\n",
      "                                                                                               'medium',\n",
      "                                                                                               'high']],\n",
      "                                                                                  handle_unknown='use_encoded_value',\n",
      "                                                                                  unknown_value=nan)),\n",
      "                                                                  ('simpleImputer_after_ord',\n",
      "                                                                   SimpleImputer(strategy='most_frequent'))]),\n",
      "                                                  ['level', 'workload']),\n",
      "                                                 ('num', StandardScaler(),\n",
      "                                                  ['employment_years', 'salary',\n",
      "                                                   'supervisor_evaluation'])])),\n",
      "                ('models',\n",
      "                 DecisionTreeRegressor(max_depth=16, min_samples_leaf=4,\n",
      "                                       min_samples_split=9, random_state=42))])\n"
     ]
    }
   ],
   "source": [
    "simplefilter(action='ignore', category=FutureWarning)\n",
    "\n",
    "randomized_search = RandomizedSearchCV(\n",
    "    pipe_final, \n",
    "    param_grid,\n",
    "    cv=5,\n",
    "    scoring=smare_scorer,\n",
    "    random_state=42\n",
    "    \n",
    ")\n",
    "randomized_search.fit(X_train, y_train.values.ravel())\n",
    "\n",
    "print('Лучшая модель и её параметры:\\n\\n', randomized_search.best_estimator_)"
   ]
  },
  {
   "cell_type": "code",
   "execution_count": 33,
   "id": "72e0bc43",
   "metadata": {},
   "outputs": [],
   "source": [
    "#sorted(sklearn.metrics.SCORERS.keys())"
   ]
  },
  {
   "cell_type": "code",
   "execution_count": 34,
   "id": "86945ae5",
   "metadata": {},
   "outputs": [
    {
     "data": {
      "text/plain": [
       "-14.76307217398267"
      ]
     },
     "execution_count": 34,
     "metadata": {},
     "output_type": "execute_result"
    }
   ],
   "source": [
    "randomized_search.best_score_"
   ]
  },
  {
   "cell_type": "code",
   "execution_count": 35,
   "id": "fc04d548",
   "metadata": {},
   "outputs": [
    {
     "name": "stdout",
     "output_type": "stream",
     "text": [
      "13.281863784451325\n"
     ]
    }
   ],
   "source": [
    "y_test_pred = randomized_search.predict(X_test)\n",
    "print(smape(np.array(y_test.values.ravel()), np.array(y_test_pred)))"
   ]
  },
  {
   "cell_type": "markdown",
   "id": "42b44597",
   "metadata": {},
   "source": [
    "### Лучшая модель"
   ]
  },
  {
   "cell_type": "code",
   "execution_count": 36,
   "id": "19e7ac63",
   "metadata": {},
   "outputs": [],
   "source": [
    "pipe_best_model = Pipeline(\n",
    "    [\n",
    "        ('preprocessor', data_preprocessor),\n",
    "        ('models', DecisionTreeRegressor(max_depth=16, min_samples_leaf=4,\n",
    "                                       min_samples_split=9, random_state=42))\n",
    "    ]\n",
    ") "
   ]
  },
  {
   "cell_type": "code",
   "execution_count": 40,
   "id": "a33181d3",
   "metadata": {},
   "outputs": [],
   "source": [
    "X_train_get = pd.DataFrame(data_preprocessor.fit_transform(X_train))\n",
    "X_test_get = pd.DataFrame(data_preprocessor.transform(X_test))\n",
    "\n",
    "columns_names = (pipe_best_model['preprocessor'].transformers_[0][1][1].get_feature_names(ohe_columns)).tolist() + (ord_columns)+ (num_columns)\n",
    "\n",
    "X_train_get.columns = [columns_names]\n",
    "X_test_get.columns = [columns_names]"
   ]
  },
  {
   "cell_type": "code",
   "execution_count": 41,
   "id": "95985a43",
   "metadata": {},
   "outputs": [
    {
     "data": {
      "text/plain": [
       "DecisionTreeRegressor(max_depth=16, min_samples_leaf=4, min_samples_split=9,\n",
       "                      random_state=42)"
      ]
     },
     "execution_count": 41,
     "metadata": {},
     "output_type": "execute_result"
    }
   ],
   "source": [
    "pipe_best_model.named_steps['models'].fit(X_train_get, y_train.values.ravel())"
   ]
  },
  {
   "cell_type": "code",
   "execution_count": 42,
   "id": "55222dad",
   "metadata": {},
   "outputs": [
    {
     "data": {
      "text/plain": [
       "13.281863784451325"
      ]
     },
     "execution_count": 42,
     "metadata": {},
     "output_type": "execute_result"
    }
   ],
   "source": [
    "smape(pipe_best_model.named_steps['models'].predict(X_test_get), y_test.values.ravel())"
   ]
  },
  {
   "cell_type": "code",
   "execution_count": 43,
   "id": "fedec177",
   "metadata": {},
   "outputs": [
    {
     "data": {
      "image/png": "[encoded data removed]",
      "text/plain": [
       "<Figure size 576x424.8 with 2 Axes>"
      ]
     },
     "metadata": {
      "needs_background": "light"
     },
     "output_type": "display_data"
    }
   ],
   "source": [
    "explainer = shap.TreeExplainer(pipe_best_model.named_steps['models'], X_train_get)\n",
    "shap_values = explainer(X_train_get)\n",
    "\n",
    "shap.plots.beeswarm(shap_values, max_display=25) "
   ]
  },
  {
   "cell_type": "markdown",
   "id": "3bd5a99c",
   "metadata": {},
   "source": [
    "### Вывод"
   ]
  },
  {
   "cell_type": "markdown",
   "id": "7e81d4c4",
   "metadata": {},
   "source": [
    "На тестовой выборке лучший результат составил 13.28%. Лучше всего с задачей справилась модель Дерева решений, думаю это связано с тем, что категориальных признаков больше чем количественных, а в таких условиях дерево себя показывает с наилучшей стороны."
   ]
  },
  {
   "cell_type": "markdown",
   "id": "3aa47c23",
   "metadata": {},
   "source": [
    "## Задача 2: предсказание увольнения сотрудника из компании"
   ]
  },
  {
   "cell_type": "markdown",
   "id": "7d701eb4",
   "metadata": {},
   "source": [
    "### Загрузка данных"
   ]
  },
  {
   "cell_type": "code",
   "execution_count": 44,
   "id": "b0804109",
   "metadata": {},
   "outputs": [],
   "source": [
    "try:\n",
    "    X_y_train_2 = pd.read_csv('/datasets/train_quit.csv')\n",
    "    y_test_2 = pd.read_csv('/datasets/test_target_quit.csv')\n",
    "    X_test_2 = pd.read_csv('/datasets/test_features.csv')\n",
    "except:\n",
    "    X_y_train_2 = pd.read_csv(r'C:\\Users\\User\\Downloads\\train_quit.csv')\n",
    "    y_test_2 = pd.read_csv(r'C:\\Users\\User\\Downloads\\test_target_quit.csv')\n",
    "    X_test_2 = pd.read_csv(r'C:\\Users\\User\\Downloads\\test_features.csv')\n",
    "    \n",
    "X_y_train_2 = X_y_train_2.set_index('id')\n",
    "y_test_2 = y_test_2.set_index('id')\n",
    "X_test_2 = X_test_2.set_index('id')\n",
    "\n",
    "X_train_2 = X_y_train_2.drop(['quit'], axis=1)\n",
    "y_train_2 = X_y_train_2['quit']\n",
    "\n",
    "y_train_2 = y_train_2.to_frame(name='quit')\n",
    "\n",
    "X_test_2 = X_test"
   ]
  },
  {
   "cell_type": "markdown",
   "id": "65c7377c",
   "metadata": {},
   "source": [
    "### Исследовательский анализ данных"
   ]
  },
  {
   "cell_type": "markdown",
   "id": "db7975f5",
   "metadata": {},
   "source": [
    "Объеденим датасеты по индексу с обоими целевыми признаками. Так как индксы совпадают только в тестовой части, будем работать только с ней. Но даже так у нас получается 2000 полей, что достаточно для анализа."
   ]
  },
  {
   "cell_type": "code",
   "execution_count": 45,
   "id": "2da22411",
   "metadata": {},
   "outputs": [],
   "source": [
    "\n",
    "frames = [X_train_2, X_test_2]\n",
    "X_data = pd.concat(frames)\n",
    "frames_y = [y_train_2, y_test_2]\n",
    "y_data = pd.concat(frames_y)\n",
    "\n",
    "pred_data = randomized_search.best_estimator_.predict(X_data)\n",
    "\n",
    "X_data['job_satisfaction_rate'] = pred_data"
   ]
  },
  {
   "cell_type": "code",
   "execution_count": 46,
   "id": "0422dd08",
   "metadata": {},
   "outputs": [
    {
     "data": {
      "text/html": [
       "<div>\n",
       "<style scoped>\n",
       "    .dataframe tbody tr th:only-of-type {\n",
       "        vertical-align: middle;\n",
       "    }\n",
       "\n",
       "    .dataframe tbody tr th {\n",
       "        vertical-align: top;\n",
       "    }\n",
       "\n",
       "    .dataframe thead th {\n",
       "        text-align: right;\n",
       "    }\n",
       "</style>\n",
       "<table border=\"1\" class=\"dataframe\">\n",
       "  <thead>\n",
       "    <tr style=\"text-align: right;\">\n",
       "      <th></th>\n",
       "      <th>dept</th>\n",
       "      <th>level</th>\n",
       "      <th>workload</th>\n",
       "      <th>employment_years</th>\n",
       "      <th>last_year_promo</th>\n",
       "      <th>last_year_violations</th>\n",
       "      <th>supervisor_evaluation</th>\n",
       "      <th>salary</th>\n",
       "      <th>job_satisfaction_rate</th>\n",
       "      <th>quit</th>\n",
       "    </tr>\n",
       "    <tr>\n",
       "      <th>id</th>\n",
       "      <th></th>\n",
       "      <th></th>\n",
       "      <th></th>\n",
       "      <th></th>\n",
       "      <th></th>\n",
       "      <th></th>\n",
       "      <th></th>\n",
       "      <th></th>\n",
       "      <th></th>\n",
       "      <th></th>\n",
       "    </tr>\n",
       "  </thead>\n",
       "  <tbody>\n",
       "    <tr>\n",
       "      <th>393147</th>\n",
       "      <td>marketing</td>\n",
       "      <td>junior</td>\n",
       "      <td>low</td>\n",
       "      <td>3</td>\n",
       "      <td>no</td>\n",
       "      <td>no</td>\n",
       "      <td>3</td>\n",
       "      <td>20400</td>\n",
       "      <td>0.538571</td>\n",
       "      <td>yes</td>\n",
       "    </tr>\n",
       "    <tr>\n",
       "      <th>109582</th>\n",
       "      <td>technology</td>\n",
       "      <td>middle</td>\n",
       "      <td>low</td>\n",
       "      <td>3</td>\n",
       "      <td>no</td>\n",
       "      <td>no</td>\n",
       "      <td>2</td>\n",
       "      <td>21600</td>\n",
       "      <td>0.152000</td>\n",
       "      <td>yes</td>\n",
       "    </tr>\n",
       "    <tr>\n",
       "      <th>305653</th>\n",
       "      <td>technology</td>\n",
       "      <td>junior</td>\n",
       "      <td>low</td>\n",
       "      <td>1</td>\n",
       "      <td>no</td>\n",
       "      <td>no</td>\n",
       "      <td>3</td>\n",
       "      <td>14400</td>\n",
       "      <td>0.170000</td>\n",
       "      <td>yes</td>\n",
       "    </tr>\n",
       "    <tr>\n",
       "      <th>160233</th>\n",
       "      <td>technology</td>\n",
       "      <td>middle</td>\n",
       "      <td>low</td>\n",
       "      <td>8</td>\n",
       "      <td>no</td>\n",
       "      <td>no</td>\n",
       "      <td>1</td>\n",
       "      <td>32400</td>\n",
       "      <td>0.518571</td>\n",
       "      <td>no</td>\n",
       "    </tr>\n",
       "    <tr>\n",
       "      <th>771859</th>\n",
       "      <td>purchasing</td>\n",
       "      <td>middle</td>\n",
       "      <td>medium</td>\n",
       "      <td>1</td>\n",
       "      <td>no</td>\n",
       "      <td>no</td>\n",
       "      <td>4</td>\n",
       "      <td>38400</td>\n",
       "      <td>0.528000</td>\n",
       "      <td>no</td>\n",
       "    </tr>\n",
       "  </tbody>\n",
       "</table>\n",
       "</div>"
      ],
      "text/plain": [
       "              dept   level workload  employment_years last_year_promo  \\\n",
       "id                                                                      \n",
       "393147   marketing  junior      low                 3              no   \n",
       "109582  technology  middle      low                 3              no   \n",
       "305653  technology  junior      low                 1              no   \n",
       "160233  technology  middle      low                 8              no   \n",
       "771859  purchasing  middle   medium                 1              no   \n",
       "\n",
       "       last_year_violations  supervisor_evaluation  salary  \\\n",
       "id                                                           \n",
       "393147                   no                      3   20400   \n",
       "109582                   no                      2   21600   \n",
       "305653                   no                      3   14400   \n",
       "160233                   no                      1   32400   \n",
       "771859                   no                      4   38400   \n",
       "\n",
       "        job_satisfaction_rate quit  \n",
       "id                                  \n",
       "393147               0.538571  yes  \n",
       "109582               0.152000  yes  \n",
       "305653               0.170000  yes  \n",
       "160233               0.518571   no  \n",
       "771859               0.528000   no  "
      ]
     },
     "execution_count": 46,
     "metadata": {},
     "output_type": "execute_result"
    }
   ],
   "source": [
    "data_iad = X_data.join(y_data, on='id')\n",
    "data_iad.tail()"
   ]
  },
  {
   "cell_type": "markdown",
   "id": "f4792f4c",
   "metadata": {},
   "source": [
    "#### Средняя удовлетворенность по департаментам"
   ]
  },
  {
   "cell_type": "code",
   "execution_count": 47,
   "id": "f92e174a",
   "metadata": {},
   "outputs": [
    {
     "data": {
      "text/html": [
       "<div>\n",
       "<style scoped>\n",
       "    .dataframe tbody tr th:only-of-type {\n",
       "        vertical-align: middle;\n",
       "    }\n",
       "\n",
       "    .dataframe tbody tr th {\n",
       "        vertical-align: top;\n",
       "    }\n",
       "\n",
       "    .dataframe thead th {\n",
       "        text-align: right;\n",
       "    }\n",
       "</style>\n",
       "<table border=\"1\" class=\"dataframe\">\n",
       "  <thead>\n",
       "    <tr style=\"text-align: right;\">\n",
       "      <th></th>\n",
       "      <th>dept</th>\n",
       "      <th>job_satisfaction_rate</th>\n",
       "    </tr>\n",
       "  </thead>\n",
       "  <tbody>\n",
       "    <tr>\n",
       "      <th>0</th>\n",
       "      <td>hr</td>\n",
       "      <td>0.545627</td>\n",
       "    </tr>\n",
       "    <tr>\n",
       "      <th>1</th>\n",
       "      <td>marketing</td>\n",
       "      <td>0.558899</td>\n",
       "    </tr>\n",
       "    <tr>\n",
       "      <th>2</th>\n",
       "      <td>purchasing</td>\n",
       "      <td>0.526607</td>\n",
       "    </tr>\n",
       "    <tr>\n",
       "      <th>3</th>\n",
       "      <td>sales</td>\n",
       "      <td>0.542764</td>\n",
       "    </tr>\n",
       "    <tr>\n",
       "      <th>4</th>\n",
       "      <td>technology</td>\n",
       "      <td>0.536164</td>\n",
       "    </tr>\n",
       "  </tbody>\n",
       "</table>\n",
       "</div>"
      ],
      "text/plain": [
       "         dept  job_satisfaction_rate\n",
       "0          hr               0.545627\n",
       "1   marketing               0.558899\n",
       "2  purchasing               0.526607\n",
       "3       sales               0.542764\n",
       "4  technology               0.536164"
      ]
     },
     "execution_count": 47,
     "metadata": {},
     "output_type": "execute_result"
    }
   ],
   "source": [
    "job_satisfaction_rate_by_dept = data_iad.groupby(['dept'])['job_satisfaction_rate'].mean().reset_index()\n",
    "job_satisfaction_rate_by_dept"
   ]
  },
  {
   "cell_type": "markdown",
   "id": "cfe4cd61",
   "metadata": {},
   "source": [
    "Видно, что в отделе продаж люди немного довольнее чем в остальных, однако разница небольшая. Самые неудовлетворенные люди в отделе технологий, однако разница меньше трех процентов."
   ]
  },
  {
   "cell_type": "code",
   "execution_count": 48,
   "id": "0a294398",
   "metadata": {},
   "outputs": [
    {
     "data": {
      "text/html": [
       "<div>\n",
       "<style scoped>\n",
       "    .dataframe tbody tr th:only-of-type {\n",
       "        vertical-align: middle;\n",
       "    }\n",
       "\n",
       "    .dataframe tbody tr th {\n",
       "        vertical-align: top;\n",
       "    }\n",
       "\n",
       "    .dataframe thead th {\n",
       "        text-align: right;\n",
       "    }\n",
       "</style>\n",
       "<table border=\"1\" class=\"dataframe\">\n",
       "  <thead>\n",
       "    <tr style=\"text-align: right;\">\n",
       "      <th></th>\n",
       "      <th>dept</th>\n",
       "      <th>quit</th>\n",
       "    </tr>\n",
       "  </thead>\n",
       "  <tbody>\n",
       "    <tr>\n",
       "      <th>0</th>\n",
       "      <td>hr</td>\n",
       "      <td>181</td>\n",
       "    </tr>\n",
       "    <tr>\n",
       "      <th>1</th>\n",
       "      <td>marketing</td>\n",
       "      <td>230</td>\n",
       "    </tr>\n",
       "    <tr>\n",
       "      <th>2</th>\n",
       "      <td>purchasing</td>\n",
       "      <td>244</td>\n",
       "    </tr>\n",
       "    <tr>\n",
       "      <th>3</th>\n",
       "      <td>sales</td>\n",
       "      <td>633</td>\n",
       "    </tr>\n",
       "    <tr>\n",
       "      <th>4</th>\n",
       "      <td>technology</td>\n",
       "      <td>403</td>\n",
       "    </tr>\n",
       "  </tbody>\n",
       "</table>\n",
       "</div>"
      ],
      "text/plain": [
       "         dept  quit\n",
       "0          hr   181\n",
       "1   marketing   230\n",
       "2  purchasing   244\n",
       "3       sales   633\n",
       "4  technology   403"
      ]
     },
     "execution_count": 48,
     "metadata": {},
     "output_type": "execute_result"
    }
   ],
   "source": [
    "quit_by_dept = data_iad.query(\"quit == 'yes'\").groupby(['dept'])['quit'].count().reset_index()\n",
    "quit_by_dept"
   ]
  },
  {
   "cell_type": "markdown",
   "id": "7a8054f5",
   "metadata": {},
   "source": [
    "Посмотри на сводную таблицу по департаментам, увольнению и удовлетворенности"
   ]
  },
  {
   "cell_type": "code",
   "execution_count": 49,
   "id": "01610224",
   "metadata": {},
   "outputs": [
    {
     "data": {
      "text/html": [
       "<div>\n",
       "<style scoped>\n",
       "    .dataframe tbody tr th:only-of-type {\n",
       "        vertical-align: middle;\n",
       "    }\n",
       "\n",
       "    .dataframe tbody tr th {\n",
       "        vertical-align: top;\n",
       "    }\n",
       "\n",
       "    .dataframe thead tr th {\n",
       "        text-align: left;\n",
       "    }\n",
       "\n",
       "    .dataframe thead tr:last-of-type th {\n",
       "        text-align: right;\n",
       "    }\n",
       "</style>\n",
       "<table border=\"1\" class=\"dataframe\">\n",
       "  <thead>\n",
       "    <tr>\n",
       "      <th></th>\n",
       "      <th></th>\n",
       "      <th>mean</th>\n",
       "      <th>count</th>\n",
       "    </tr>\n",
       "    <tr>\n",
       "      <th></th>\n",
       "      <th></th>\n",
       "      <th>job_satisfaction_rate</th>\n",
       "      <th>job_satisfaction_rate</th>\n",
       "    </tr>\n",
       "    <tr>\n",
       "      <th>dept</th>\n",
       "      <th>quit</th>\n",
       "      <th></th>\n",
       "      <th></th>\n",
       "    </tr>\n",
       "  </thead>\n",
       "  <tbody>\n",
       "    <tr>\n",
       "      <th rowspan=\"2\" valign=\"top\">hr</th>\n",
       "      <th>no</th>\n",
       "      <td>0.595446</td>\n",
       "      <td>510</td>\n",
       "    </tr>\n",
       "    <tr>\n",
       "      <th>yes</th>\n",
       "      <td>0.405253</td>\n",
       "      <td>181</td>\n",
       "    </tr>\n",
       "    <tr>\n",
       "      <th rowspan=\"2\" valign=\"top\">marketing</th>\n",
       "      <th>no</th>\n",
       "      <td>0.613561</td>\n",
       "      <td>631</td>\n",
       "    </tr>\n",
       "    <tr>\n",
       "      <th>yes</th>\n",
       "      <td>0.408935</td>\n",
       "      <td>230</td>\n",
       "    </tr>\n",
       "    <tr>\n",
       "      <th rowspan=\"2\" valign=\"top\">purchasing</th>\n",
       "      <th>no</th>\n",
       "      <td>0.579400</td>\n",
       "      <td>617</td>\n",
       "    </tr>\n",
       "    <tr>\n",
       "      <th>yes</th>\n",
       "      <td>0.393112</td>\n",
       "      <td>244</td>\n",
       "    </tr>\n",
       "    <tr>\n",
       "      <th rowspan=\"2\" valign=\"top\">sales</th>\n",
       "      <th>no</th>\n",
       "      <td>0.598459</td>\n",
       "      <td>1569</td>\n",
       "    </tr>\n",
       "    <tr>\n",
       "      <th>yes</th>\n",
       "      <td>0.404714</td>\n",
       "      <td>633</td>\n",
       "    </tr>\n",
       "    <tr>\n",
       "      <th rowspan=\"2\" valign=\"top\">technology</th>\n",
       "      <th>no</th>\n",
       "      <td>0.595980</td>\n",
       "      <td>980</td>\n",
       "    </tr>\n",
       "    <tr>\n",
       "      <th>yes</th>\n",
       "      <td>0.390705</td>\n",
       "      <td>403</td>\n",
       "    </tr>\n",
       "  </tbody>\n",
       "</table>\n",
       "</div>"
      ],
      "text/plain": [
       "                                 mean                 count\n",
       "                job_satisfaction_rate job_satisfaction_rate\n",
       "dept       quit                                            \n",
       "hr         no                0.595446                   510\n",
       "           yes               0.405253                   181\n",
       "marketing  no                0.613561                   631\n",
       "           yes               0.408935                   230\n",
       "purchasing no                0.579400                   617\n",
       "           yes               0.393112                   244\n",
       "sales      no                0.598459                  1569\n",
       "           yes               0.404714                   633\n",
       "technology no                0.595980                   980\n",
       "           yes               0.390705                   403"
      ]
     },
     "execution_count": 49,
     "metadata": {},
     "output_type": "execute_result"
    }
   ],
   "source": [
    "data_iad.pivot_table(index=['dept','quit'], values='job_satisfaction_rate', aggfunc=['mean', 'count'])"
   ]
  },
  {
   "cell_type": "markdown",
   "id": "1dd2e16c",
   "metadata": {},
   "source": [
    "Видно, во всех департаментах, люди которые увольняются имеют гораздо более низкий уровень удовлетворенности"
   ]
  },
  {
   "cell_type": "markdown",
   "id": "1c471742",
   "metadata": {},
   "source": [
    "Самая дольшая разница в отделе маркетинга."
   ]
  },
  {
   "cell_type": "markdown",
   "id": "2ad2e770",
   "metadata": {},
   "source": [
    "Теперь посмотреим на загруженность"
   ]
  },
  {
   "cell_type": "code",
   "execution_count": 50,
   "id": "ed47523f",
   "metadata": {},
   "outputs": [
    {
     "data": {
      "text/html": [
       "<div>\n",
       "<style scoped>\n",
       "    .dataframe tbody tr th:only-of-type {\n",
       "        vertical-align: middle;\n",
       "    }\n",
       "\n",
       "    .dataframe tbody tr th {\n",
       "        vertical-align: top;\n",
       "    }\n",
       "\n",
       "    .dataframe thead tr th {\n",
       "        text-align: left;\n",
       "    }\n",
       "\n",
       "    .dataframe thead tr:last-of-type th {\n",
       "        text-align: right;\n",
       "    }\n",
       "</style>\n",
       "<table border=\"1\" class=\"dataframe\">\n",
       "  <thead>\n",
       "    <tr>\n",
       "      <th></th>\n",
       "      <th></th>\n",
       "      <th>mean</th>\n",
       "      <th>count</th>\n",
       "    </tr>\n",
       "    <tr>\n",
       "      <th></th>\n",
       "      <th></th>\n",
       "      <th>job_satisfaction_rate</th>\n",
       "      <th>job_satisfaction_rate</th>\n",
       "    </tr>\n",
       "    <tr>\n",
       "      <th>workload</th>\n",
       "      <th>quit</th>\n",
       "      <th></th>\n",
       "      <th></th>\n",
       "    </tr>\n",
       "  </thead>\n",
       "  <tbody>\n",
       "    <tr>\n",
       "      <th rowspan=\"2\" valign=\"top\">high</th>\n",
       "      <th>no</th>\n",
       "      <td>0.579683</td>\n",
       "      <td>841</td>\n",
       "    </tr>\n",
       "    <tr>\n",
       "      <th>yes</th>\n",
       "      <td>0.465409</td>\n",
       "      <td>196</td>\n",
       "    </tr>\n",
       "    <tr>\n",
       "      <th rowspan=\"2\" valign=\"top\">low</th>\n",
       "      <th>no</th>\n",
       "      <td>0.618042</td>\n",
       "      <td>1045</td>\n",
       "    </tr>\n",
       "    <tr>\n",
       "      <th>yes</th>\n",
       "      <td>0.418178</td>\n",
       "      <td>756</td>\n",
       "    </tr>\n",
       "    <tr>\n",
       "      <th rowspan=\"2\" valign=\"top\">medium</th>\n",
       "      <th>no</th>\n",
       "      <td>0.593996</td>\n",
       "      <td>2422</td>\n",
       "    </tr>\n",
       "    <tr>\n",
       "      <th>yes</th>\n",
       "      <td>0.364572</td>\n",
       "      <td>740</td>\n",
       "    </tr>\n",
       "  </tbody>\n",
       "</table>\n",
       "</div>"
      ],
      "text/plain": [
       "                               mean                 count\n",
       "              job_satisfaction_rate job_satisfaction_rate\n",
       "workload quit                                            \n",
       "high     no                0.579683                   841\n",
       "         yes               0.465409                   196\n",
       "low      no                0.618042                  1045\n",
       "         yes               0.418178                   756\n",
       "medium   no                0.593996                  2422\n",
       "         yes               0.364572                   740"
      ]
     },
     "execution_count": 50,
     "metadata": {},
     "output_type": "execute_result"
    }
   ],
   "source": [
    "data_iad.pivot_table(index=['workload','quit'], values='job_satisfaction_rate', aggfunc=['mean', 'count'])"
   ]
  },
  {
   "cell_type": "markdown",
   "id": "271c926c",
   "metadata": {},
   "source": [
    "По таблице видно, что чем выше загруженность, тем меньше в процентом соотношение уволившихся сотрудников. Думаю это связано с тем, что более загруженные сотрудники довольны своей запрлатой, а те кто загружен меньше соотвественно получают меньше и меньше удовлетворены"
   ]
  },
  {
   "cell_type": "markdown",
   "id": "018ea77c",
   "metadata": {},
   "source": [
    "Посмотрим среднюю зарплату тех кто остался и тех кто уволился."
   ]
  },
  {
   "cell_type": "code",
   "execution_count": 51,
   "id": "bd02ebca",
   "metadata": {},
   "outputs": [
    {
     "data": {
      "text/html": [
       "<div>\n",
       "<style scoped>\n",
       "    .dataframe tbody tr th:only-of-type {\n",
       "        vertical-align: middle;\n",
       "    }\n",
       "\n",
       "    .dataframe tbody tr th {\n",
       "        vertical-align: top;\n",
       "    }\n",
       "\n",
       "    .dataframe thead th {\n",
       "        text-align: right;\n",
       "    }\n",
       "</style>\n",
       "<table border=\"1\" class=\"dataframe\">\n",
       "  <thead>\n",
       "    <tr style=\"text-align: right;\">\n",
       "      <th></th>\n",
       "      <th>salary</th>\n",
       "    </tr>\n",
       "    <tr>\n",
       "      <th>quit</th>\n",
       "      <th></th>\n",
       "    </tr>\n",
       "  </thead>\n",
       "  <tbody>\n",
       "    <tr>\n",
       "      <th>no</th>\n",
       "      <td>37683.286908</td>\n",
       "    </tr>\n",
       "    <tr>\n",
       "      <th>yes</th>\n",
       "      <td>24241.843972</td>\n",
       "    </tr>\n",
       "  </tbody>\n",
       "</table>\n",
       "</div>"
      ],
      "text/plain": [
       "            salary\n",
       "quit              \n",
       "no    37683.286908\n",
       "yes   24241.843972"
      ]
     },
     "execution_count": 51,
     "metadata": {},
     "output_type": "execute_result"
    }
   ],
   "source": [
    "data_iad.pivot_table(index=['quit'], values='salary', aggfunc='mean')"
   ]
  },
  {
   "cell_type": "markdown",
   "id": "a4a1f965",
   "metadata": {},
   "source": [
    "Эта таблица подтверждает вывод из предыдущей. Чем меньше зарплата, тем более удовлетворенный сотрудник. Разница практически в полтора раз."
   ]
  },
  {
   "cell_type": "markdown",
   "id": "224658cb",
   "metadata": {},
   "source": [
    "#### Вывод"
   ]
  },
  {
   "cell_type": "markdown",
   "id": "3782cace",
   "metadata": {},
   "source": [
    "Отдел в котором работает сотрудник практически никак не влияет на то уволится он или нет. Главное это зарплата. Те кто работают меньше, а соответственно и получают меньше менее удовлетворены своей работой, а значит и с большей вероятностью покинут свое рабочее место"
   ]
  },
  {
   "cell_type": "markdown",
   "id": "50f716ec",
   "metadata": {},
   "source": [
    "###  Добавление нового входного признака"
   ]
  },
  {
   "cell_type": "markdown",
   "id": "07f0f4ff",
   "metadata": {},
   "source": [
    "Как мы выяснили из предыдущего пункта, job_satisfaction_rate и quit действительно связаны, также у меня получилось достигнуть необходимого уровня метрики, добавим новую фичу."
   ]
  },
  {
   "cell_type": "code",
   "execution_count": 52,
   "id": "410d53c9",
   "metadata": {},
   "outputs": [
    {
     "data": {
      "text/html": [
       "<div>\n",
       "<style scoped>\n",
       "    .dataframe tbody tr th:only-of-type {\n",
       "        vertical-align: middle;\n",
       "    }\n",
       "\n",
       "    .dataframe tbody tr th {\n",
       "        vertical-align: top;\n",
       "    }\n",
       "\n",
       "    .dataframe thead th {\n",
       "        text-align: right;\n",
       "    }\n",
       "</style>\n",
       "<table border=\"1\" class=\"dataframe\">\n",
       "  <thead>\n",
       "    <tr style=\"text-align: right;\">\n",
       "      <th></th>\n",
       "      <th>dept</th>\n",
       "      <th>level</th>\n",
       "      <th>workload</th>\n",
       "      <th>employment_years</th>\n",
       "      <th>last_year_promo</th>\n",
       "      <th>last_year_violations</th>\n",
       "      <th>supervisor_evaluation</th>\n",
       "      <th>salary</th>\n",
       "    </tr>\n",
       "    <tr>\n",
       "      <th>id</th>\n",
       "      <th></th>\n",
       "      <th></th>\n",
       "      <th></th>\n",
       "      <th></th>\n",
       "      <th></th>\n",
       "      <th></th>\n",
       "      <th></th>\n",
       "      <th></th>\n",
       "    </tr>\n",
       "  </thead>\n",
       "  <tbody>\n",
       "    <tr>\n",
       "      <th>723290</th>\n",
       "      <td>sales</td>\n",
       "      <td>middle</td>\n",
       "      <td>high</td>\n",
       "      <td>2</td>\n",
       "      <td>no</td>\n",
       "      <td>no</td>\n",
       "      <td>4</td>\n",
       "      <td>54000</td>\n",
       "    </tr>\n",
       "    <tr>\n",
       "      <th>814010</th>\n",
       "      <td>sales</td>\n",
       "      <td>junior</td>\n",
       "      <td>medium</td>\n",
       "      <td>2</td>\n",
       "      <td>no</td>\n",
       "      <td>no</td>\n",
       "      <td>4</td>\n",
       "      <td>27600</td>\n",
       "    </tr>\n",
       "    <tr>\n",
       "      <th>155091</th>\n",
       "      <td>purchasing</td>\n",
       "      <td>middle</td>\n",
       "      <td>medium</td>\n",
       "      <td>5</td>\n",
       "      <td>no</td>\n",
       "      <td>no</td>\n",
       "      <td>1</td>\n",
       "      <td>37200</td>\n",
       "    </tr>\n",
       "    <tr>\n",
       "      <th>257132</th>\n",
       "      <td>sales</td>\n",
       "      <td>junior</td>\n",
       "      <td>medium</td>\n",
       "      <td>2</td>\n",
       "      <td>no</td>\n",
       "      <td>yes</td>\n",
       "      <td>3</td>\n",
       "      <td>24000</td>\n",
       "    </tr>\n",
       "    <tr>\n",
       "      <th>910140</th>\n",
       "      <td>marketing</td>\n",
       "      <td>junior</td>\n",
       "      <td>medium</td>\n",
       "      <td>2</td>\n",
       "      <td>no</td>\n",
       "      <td>no</td>\n",
       "      <td>5</td>\n",
       "      <td>25200</td>\n",
       "    </tr>\n",
       "    <tr>\n",
       "      <th>...</th>\n",
       "      <td>...</td>\n",
       "      <td>...</td>\n",
       "      <td>...</td>\n",
       "      <td>...</td>\n",
       "      <td>...</td>\n",
       "      <td>...</td>\n",
       "      <td>...</td>\n",
       "      <td>...</td>\n",
       "    </tr>\n",
       "    <tr>\n",
       "      <th>588809</th>\n",
       "      <td>sales</td>\n",
       "      <td>junior</td>\n",
       "      <td>medium</td>\n",
       "      <td>4</td>\n",
       "      <td>no</td>\n",
       "      <td>no</td>\n",
       "      <td>3</td>\n",
       "      <td>26400</td>\n",
       "    </tr>\n",
       "    <tr>\n",
       "      <th>672059</th>\n",
       "      <td>sales</td>\n",
       "      <td>middle</td>\n",
       "      <td>high</td>\n",
       "      <td>9</td>\n",
       "      <td>no</td>\n",
       "      <td>no</td>\n",
       "      <td>4</td>\n",
       "      <td>52800</td>\n",
       "    </tr>\n",
       "    <tr>\n",
       "      <th>536432</th>\n",
       "      <td>purchasing</td>\n",
       "      <td>junior</td>\n",
       "      <td>low</td>\n",
       "      <td>2</td>\n",
       "      <td>no</td>\n",
       "      <td>yes</td>\n",
       "      <td>4</td>\n",
       "      <td>12000</td>\n",
       "    </tr>\n",
       "    <tr>\n",
       "      <th>692133</th>\n",
       "      <td>purchasing</td>\n",
       "      <td>middle</td>\n",
       "      <td>medium</td>\n",
       "      <td>2</td>\n",
       "      <td>no</td>\n",
       "      <td>no</td>\n",
       "      <td>4</td>\n",
       "      <td>33600</td>\n",
       "    </tr>\n",
       "    <tr>\n",
       "      <th>853842</th>\n",
       "      <td>sales</td>\n",
       "      <td>junior</td>\n",
       "      <td>medium</td>\n",
       "      <td>2</td>\n",
       "      <td>no</td>\n",
       "      <td>no</td>\n",
       "      <td>3</td>\n",
       "      <td>27600</td>\n",
       "    </tr>\n",
       "  </tbody>\n",
       "</table>\n",
       "<p>4000 rows × 8 columns</p>\n",
       "</div>"
      ],
      "text/plain": [
       "              dept   level workload  employment_years last_year_promo  \\\n",
       "id                                                                      \n",
       "723290       sales  middle     high                 2              no   \n",
       "814010       sales  junior   medium                 2              no   \n",
       "155091  purchasing  middle   medium                 5              no   \n",
       "257132       sales  junior   medium                 2              no   \n",
       "910140   marketing  junior   medium                 2              no   \n",
       "...            ...     ...      ...               ...             ...   \n",
       "588809       sales  junior   medium                 4              no   \n",
       "672059       sales  middle     high                 9              no   \n",
       "536432  purchasing  junior      low                 2              no   \n",
       "692133  purchasing  middle   medium                 2              no   \n",
       "853842       sales  junior   medium                 2              no   \n",
       "\n",
       "       last_year_violations  supervisor_evaluation  salary  \n",
       "id                                                          \n",
       "723290                   no                      4   54000  \n",
       "814010                   no                      4   27600  \n",
       "155091                   no                      1   37200  \n",
       "257132                  yes                      3   24000  \n",
       "910140                   no                      5   25200  \n",
       "...                     ...                    ...     ...  \n",
       "588809                   no                      3   26400  \n",
       "672059                   no                      4   52800  \n",
       "536432                  yes                      4   12000  \n",
       "692133                   no                      4   33600  \n",
       "853842                   no                      3   27600  \n",
       "\n",
       "[4000 rows x 8 columns]"
      ]
     },
     "execution_count": 52,
     "metadata": {},
     "output_type": "execute_result"
    }
   ],
   "source": [
    "X_train_2"
   ]
  },
  {
   "cell_type": "code",
   "execution_count": 53,
   "id": "2d473170",
   "metadata": {},
   "outputs": [],
   "source": [
    "df_test = X_test_2.merge(y_test_2, on='id', how='left')\n",
    "\n",
    "X_test_2 = df_test.drop([ 'quit'], axis=1)\n",
    "y_test_2 = df_test['quit']\n"
   ]
  },
  {
   "cell_type": "code",
   "execution_count": 54,
   "id": "9e76a4e7",
   "metadata": {},
   "outputs": [],
   "source": [
    "train_new = randomized_search.best_estimator_.predict(X_train_2)\n",
    "test_new = randomized_search.best_estimator_.predict(X_test_2)"
   ]
  },
  {
   "cell_type": "code",
   "execution_count": 55,
   "id": "83864db2",
   "metadata": {},
   "outputs": [],
   "source": [
    "X_train_2['pred_job_satisfaction_rate'] = train_new\n",
    "X_test_2['pred_job_satisfaction_rate'] = test_new"
   ]
  },
  {
   "cell_type": "markdown",
   "id": "51a81521",
   "metadata": {},
   "source": [
    "### Подготовка данных"
   ]
  },
  {
   "cell_type": "code",
   "execution_count": 56,
   "id": "58db96a4",
   "metadata": {},
   "outputs": [
    {
     "data": {
      "text/html": [
       "<div>\n",
       "<style scoped>\n",
       "    .dataframe tbody tr th:only-of-type {\n",
       "        vertical-align: middle;\n",
       "    }\n",
       "\n",
       "    .dataframe tbody tr th {\n",
       "        vertical-align: top;\n",
       "    }\n",
       "\n",
       "    .dataframe thead th {\n",
       "        text-align: right;\n",
       "    }\n",
       "</style>\n",
       "<table border=\"1\" class=\"dataframe\">\n",
       "  <thead>\n",
       "    <tr style=\"text-align: right;\">\n",
       "      <th></th>\n",
       "      <th>dept</th>\n",
       "      <th>level</th>\n",
       "      <th>workload</th>\n",
       "      <th>employment_years</th>\n",
       "      <th>last_year_promo</th>\n",
       "      <th>last_year_violations</th>\n",
       "      <th>supervisor_evaluation</th>\n",
       "      <th>salary</th>\n",
       "      <th>pred_job_satisfaction_rate</th>\n",
       "    </tr>\n",
       "    <tr>\n",
       "      <th>id</th>\n",
       "      <th></th>\n",
       "      <th></th>\n",
       "      <th></th>\n",
       "      <th></th>\n",
       "      <th></th>\n",
       "      <th></th>\n",
       "      <th></th>\n",
       "      <th></th>\n",
       "      <th></th>\n",
       "    </tr>\n",
       "  </thead>\n",
       "  <tbody>\n",
       "    <tr>\n",
       "      <th>723290</th>\n",
       "      <td>sales</td>\n",
       "      <td>middle</td>\n",
       "      <td>high</td>\n",
       "      <td>2</td>\n",
       "      <td>no</td>\n",
       "      <td>no</td>\n",
       "      <td>4</td>\n",
       "      <td>54000</td>\n",
       "      <td>0.626667</td>\n",
       "    </tr>\n",
       "    <tr>\n",
       "      <th>814010</th>\n",
       "      <td>sales</td>\n",
       "      <td>junior</td>\n",
       "      <td>medium</td>\n",
       "      <td>2</td>\n",
       "      <td>no</td>\n",
       "      <td>no</td>\n",
       "      <td>4</td>\n",
       "      <td>27600</td>\n",
       "      <td>0.821905</td>\n",
       "    </tr>\n",
       "    <tr>\n",
       "      <th>155091</th>\n",
       "      <td>purchasing</td>\n",
       "      <td>middle</td>\n",
       "      <td>medium</td>\n",
       "      <td>5</td>\n",
       "      <td>no</td>\n",
       "      <td>no</td>\n",
       "      <td>1</td>\n",
       "      <td>37200</td>\n",
       "      <td>0.332500</td>\n",
       "    </tr>\n",
       "    <tr>\n",
       "      <th>257132</th>\n",
       "      <td>sales</td>\n",
       "      <td>junior</td>\n",
       "      <td>medium</td>\n",
       "      <td>2</td>\n",
       "      <td>no</td>\n",
       "      <td>yes</td>\n",
       "      <td>3</td>\n",
       "      <td>24000</td>\n",
       "      <td>0.350000</td>\n",
       "    </tr>\n",
       "    <tr>\n",
       "      <th>910140</th>\n",
       "      <td>marketing</td>\n",
       "      <td>junior</td>\n",
       "      <td>medium</td>\n",
       "      <td>2</td>\n",
       "      <td>no</td>\n",
       "      <td>no</td>\n",
       "      <td>5</td>\n",
       "      <td>25200</td>\n",
       "      <td>0.812500</td>\n",
       "    </tr>\n",
       "    <tr>\n",
       "      <th>...</th>\n",
       "      <td>...</td>\n",
       "      <td>...</td>\n",
       "      <td>...</td>\n",
       "      <td>...</td>\n",
       "      <td>...</td>\n",
       "      <td>...</td>\n",
       "      <td>...</td>\n",
       "      <td>...</td>\n",
       "      <td>...</td>\n",
       "    </tr>\n",
       "    <tr>\n",
       "      <th>588809</th>\n",
       "      <td>sales</td>\n",
       "      <td>junior</td>\n",
       "      <td>medium</td>\n",
       "      <td>4</td>\n",
       "      <td>no</td>\n",
       "      <td>no</td>\n",
       "      <td>3</td>\n",
       "      <td>26400</td>\n",
       "      <td>0.518889</td>\n",
       "    </tr>\n",
       "    <tr>\n",
       "      <th>672059</th>\n",
       "      <td>sales</td>\n",
       "      <td>middle</td>\n",
       "      <td>high</td>\n",
       "      <td>9</td>\n",
       "      <td>no</td>\n",
       "      <td>no</td>\n",
       "      <td>4</td>\n",
       "      <td>52800</td>\n",
       "      <td>0.836000</td>\n",
       "    </tr>\n",
       "    <tr>\n",
       "      <th>536432</th>\n",
       "      <td>purchasing</td>\n",
       "      <td>junior</td>\n",
       "      <td>low</td>\n",
       "      <td>2</td>\n",
       "      <td>no</td>\n",
       "      <td>yes</td>\n",
       "      <td>4</td>\n",
       "      <td>12000</td>\n",
       "      <td>0.548750</td>\n",
       "    </tr>\n",
       "    <tr>\n",
       "      <th>692133</th>\n",
       "      <td>purchasing</td>\n",
       "      <td>middle</td>\n",
       "      <td>medium</td>\n",
       "      <td>2</td>\n",
       "      <td>no</td>\n",
       "      <td>no</td>\n",
       "      <td>4</td>\n",
       "      <td>33600</td>\n",
       "      <td>0.502000</td>\n",
       "    </tr>\n",
       "    <tr>\n",
       "      <th>853842</th>\n",
       "      <td>sales</td>\n",
       "      <td>junior</td>\n",
       "      <td>medium</td>\n",
       "      <td>2</td>\n",
       "      <td>no</td>\n",
       "      <td>no</td>\n",
       "      <td>3</td>\n",
       "      <td>27600</td>\n",
       "      <td>0.530000</td>\n",
       "    </tr>\n",
       "  </tbody>\n",
       "</table>\n",
       "<p>4000 rows × 9 columns</p>\n",
       "</div>"
      ],
      "text/plain": [
       "              dept   level workload  employment_years last_year_promo  \\\n",
       "id                                                                      \n",
       "723290       sales  middle     high                 2              no   \n",
       "814010       sales  junior   medium                 2              no   \n",
       "155091  purchasing  middle   medium                 5              no   \n",
       "257132       sales  junior   medium                 2              no   \n",
       "910140   marketing  junior   medium                 2              no   \n",
       "...            ...     ...      ...               ...             ...   \n",
       "588809       sales  junior   medium                 4              no   \n",
       "672059       sales  middle     high                 9              no   \n",
       "536432  purchasing  junior      low                 2              no   \n",
       "692133  purchasing  middle   medium                 2              no   \n",
       "853842       sales  junior   medium                 2              no   \n",
       "\n",
       "       last_year_violations  supervisor_evaluation  salary  \\\n",
       "id                                                           \n",
       "723290                   no                      4   54000   \n",
       "814010                   no                      4   27600   \n",
       "155091                   no                      1   37200   \n",
       "257132                  yes                      3   24000   \n",
       "910140                   no                      5   25200   \n",
       "...                     ...                    ...     ...   \n",
       "588809                   no                      3   26400   \n",
       "672059                   no                      4   52800   \n",
       "536432                  yes                      4   12000   \n",
       "692133                   no                      4   33600   \n",
       "853842                   no                      3   27600   \n",
       "\n",
       "        pred_job_satisfaction_rate  \n",
       "id                                  \n",
       "723290                    0.626667  \n",
       "814010                    0.821905  \n",
       "155091                    0.332500  \n",
       "257132                    0.350000  \n",
       "910140                    0.812500  \n",
       "...                            ...  \n",
       "588809                    0.518889  \n",
       "672059                    0.836000  \n",
       "536432                    0.548750  \n",
       "692133                    0.502000  \n",
       "853842                    0.530000  \n",
       "\n",
       "[4000 rows x 9 columns]"
      ]
     },
     "execution_count": 56,
     "metadata": {},
     "output_type": "execute_result"
    }
   ],
   "source": [
    "X_train_2"
   ]
  },
  {
   "cell_type": "code",
   "execution_count": 57,
   "id": "5098afc8",
   "metadata": {},
   "outputs": [],
   "source": [
    "ohe_columns = [ \n",
    "    'dept', \n",
    "    'last_year_promo',\n",
    "    'last_year_violations'\n",
    "]\n",
    "\n",
    "num_columns = ['employment_years', \n",
    "               'salary','supervisor_evaluation',\n",
    "              'pred_job_satisfaction_rate']\n",
    "\n",
    "ord_columns = ['level', 'workload']"
   ]
  },
  {
   "cell_type": "code",
   "execution_count": 58,
   "id": "0564080b",
   "metadata": {},
   "outputs": [],
   "source": [
    "ohe_pipe = Pipeline(\n",
    "    [('simpleImputer_ohe', SimpleImputer(missing_values=np.nan, strategy='most_frequent')),\n",
    "     ('ohe', OneHotEncoder(drop='first', handle_unknown='error', sparse=False))\n",
    "    ]\n",
    "    )\n",
    "\n",
    "ord_pipe = Pipeline(\n",
    "    [('simpleImputer_before_ord', SimpleImputer(missing_values=np.nan, strategy='most_frequent')),\n",
    "     ('ord',  OrdinalEncoder(\n",
    "                categories=[\n",
    "                    ['junior', 'middle', 'sinior'], \n",
    "                    ['low', 'medium', 'high']\n",
    "                ], \n",
    "                handle_unknown='use_encoded_value', unknown_value=np.nan\n",
    "            )\n",
    "        ),\n",
    "     ('simpleImputer_after_ord', SimpleImputer(missing_values=np.nan, strategy='most_frequent'))\n",
    "    ]\n",
    ")"
   ]
  },
  {
   "cell_type": "code",
   "execution_count": 59,
   "id": "75df3caa",
   "metadata": {},
   "outputs": [],
   "source": [
    "data_preprocessor = ColumnTransformer(\n",
    "    [\n",
    "        ('ohe', ohe_pipe, ohe_columns),\n",
    "        ('ord', ord_pipe, ord_columns),\n",
    "        ('num', StandardScaler(), num_columns)\n",
    "    ], \n",
    "    remainder='passthrough'\n",
    ") "
   ]
  },
  {
   "cell_type": "code",
   "execution_count": 60,
   "id": "c02f21da",
   "metadata": {},
   "outputs": [],
   "source": [
    "encoder = LabelEncoder()\n",
    "y_train_trans = encoder.fit_transform(y_train_2.values.ravel())\n",
    "y_test_trans = encoder.transform(y_test_2.values.ravel())"
   ]
  },
  {
   "cell_type": "markdown",
   "id": "25758e47",
   "metadata": {},
   "source": [
    "### Обучение моделей"
   ]
  },
  {
   "cell_type": "code",
   "execution_count": 61,
   "id": "558dc271",
   "metadata": {},
   "outputs": [],
   "source": [
    "pipe_final = Pipeline(\n",
    "    [\n",
    "        ('preprocessor', data_preprocessor),\n",
    "        ('models', DecisionTreeClassifier(random_state=42))\n",
    "    ]\n",
    ") "
   ]
  },
  {
   "cell_type": "code",
   "execution_count": null,
   "id": "3c008438",
   "metadata": {
    "scrolled": true
   },
   "outputs": [],
   "source": [
    "simplefilter(action='ignore', category=FutureWarning)\n",
    "\n",
    "param_grid = [\n",
    "    # словарь для модели DecisionTreeClassifier()\n",
    "  {\n",
    "    'models': [DecisionTreeClassifier(random_state=42)],\n",
    "    'models__max_depth': range(1, 20),\n",
    "    'models__min_samples_split': range(2, 20),\n",
    "    'models__min_samples_leaf': range(1, 20) \n",
    "},\n",
    "    \n",
    "   # словарь для модели KNeighborsClassifier() \n",
    "    {\n",
    "       'models': [KNeighborsClassifier()],\n",
    "       'models__n_neighbors': range(1, 20),\n",
    "       'preprocessor__num': [StandardScaler(), MinMaxScaler(), 'passthrough']   \n",
    "   },\n",
    "    # словарь для модели SVC()\n",
    "    \n",
    "        {\n",
    "        'models': [SVC(probability=True, random_state=42)],\n",
    "        'models__C': range(1, 20),\n",
    "        'models__degree': range(1, 15)   \n",
    "    },\n",
    "\n",
    "    # словарь для модели LogisticRegression()\n",
    "    {\n",
    "        'models': [LogisticRegression(\n",
    "            random_state=42, \n",
    "            solver='liblinear', \n",
    "            penalty='l1'\n",
    "        )],\n",
    "        'models__C': range(1, 20),\n",
    "    }\n",
    "]\n",
    "\n",
    "randomized_search = GridSearchCV(\n",
    "    pipe_final, \n",
    "    param_grid, \n",
    "    cv=5,\n",
    "    scoring='roc_auc',\n",
    "    n_jobs=-1\n",
    ")\n",
    "randomized_search.fit(X_train_2, y_train_trans)\n",
    "\n",
    "print('Лучшая модель и её параметры:\\n\\n', randomized_search.best_estimator_)\n",
    "print ('Метрика лучшей модели на тренировочной выборке:', randomized_search.best_score_)"
   ]
  },
  {
   "cell_type": "code",
   "execution_count": null,
   "id": "67672a62",
   "metadata": {},
   "outputs": [],
   "source": [
    "y_pred_test = randomized_search.best_estimator_.predict_proba(X_test_2)[:,1]"
   ]
  },
  {
   "cell_type": "code",
   "execution_count": null,
   "id": "afe2ccad",
   "metadata": {},
   "outputs": [],
   "source": [
    "roc_auc_score(y_test_trans, y_pred_test)"
   ]
  },
  {
   "cell_type": "markdown",
   "id": "8ea57106",
   "metadata": {},
   "source": [
    "### Вывод"
   ]
  },
  {
   "cell_type": "markdown",
   "id": "75425019",
   "metadata": {},
   "source": [
    "Получилось достичь необходимого уровня метрики. Лучше всех справилась древовидная модель, думаю это связано с тем что категориальных принаков больше чем количественных."
   ]
  },
  {
   "cell_type": "markdown",
   "id": "f4af8c48",
   "metadata": {},
   "source": [
    "## Вывод"
   ]
  },
  {
   "cell_type": "markdown",
   "id": "d9e9d9e6",
   "metadata": {},
   "source": [
    "В ходе предобработки данных особых проблем выявлено не было, только были удалены некоторые пропуски. Данных оказалось доствточно для исследования.\n",
    "\n",
    "В процессе ислледовательсткого анализа были построены графики всех параметров, а так же их ящики-с-усами. Были обработаны и изучены выбросы, были построены и изучены круговые диаграммы для категориальных столбцов.\n",
    "\n",
    "Был построен пайплайн внутри которого мы нормализировали и стандартизировали данные а также сравнивали модели, которые смогли бы предсказать уровень удовлетворенности сотрудников, в числе которых: DecisionTreeLRegression, SVR, LinearRegression. Среди них была найдена лучшая, которую мы применили в прогнозировании результата. Лучшей оказалась древовидная модель DecisionTreeRegressor. На тестовой выборке лучший результат составил 13.79%. Лучше всего с задачей справилась модель дерева решений, думаю это связано с тем, что категориальных признаков больше чем количественных, а в таких условиях дерево себя показывает с наилучшей стороны.\n",
    "\n",
    "Был проведем еще один исследовательский анализ, в ходе которого было установлено что отдел в котором работает сотрудник практически никак не влияет на то уволится он или нет. Главное это зарплата. Те кто работают меньше, а соответственно и получают меньше менее удовлетворены своей работой, а значит и с большей вероятностью покинут свое рабочее место. А также была установлена зависимость между job_satisfaction_rate и quit.\n",
    "\n",
    "С помощью лучшей модели мы сделали предсказания уровня удовлетворенности на всех данных и добавили ти предсказания как новый входной признак для моделей, которые будут предсказывать увольнение сотрудников.\n",
    "\n",
    "Был построен еще один пайплайн внутри которого мы нормализировали и стандартизировали данные а также сравнивали модели, которые смогли бы предсказать уровень удовлетворенности сотрудников, в числе которых: DecisionTreeClassifier, KNeighborsClassifier, SVC, LogisticRegression. Среди них была найдена лучшая, которую мы применили в прогнозировании результата. Лучшей опять оказалась модель DecisionTreeClassifier. Объяснить это можно тем, что даже несмотря на то, что мы добавили еще один числовой признак, все равно категориальных признаков оказалась больше, а в таких условиях дерево хорошо себя показывает."
   ]
  }
 ],
 "metadata": {
  "ExecuteTimeLog": [
   {
    "duration": 13,
    "start_time": "2024-03-06T09:33:03.614Z"
   },
   {
    "duration": 435,
    "start_time": "2024-03-06T09:35:12.814Z"
   },
   {
    "duration": 116,
    "start_time": "2024-03-06T09:36:49.041Z"
   },
   {
    "duration": 24,
    "start_time": "2024-03-06T09:36:52.301Z"
   },
   {
    "duration": 32,
    "start_time": "2024-03-06T09:37:02.741Z"
   },
   {
    "duration": 103,
    "start_time": "2024-03-06T09:37:30.801Z"
   },
   {
    "duration": 73,
    "start_time": "2024-03-06T09:37:42.717Z"
   },
   {
    "duration": 10,
    "start_time": "2024-03-06T09:37:46.370Z"
   },
   {
    "duration": 17,
    "start_time": "2024-03-06T09:37:57.885Z"
   },
   {
    "duration": 91,
    "start_time": "2024-03-06T09:38:28.126Z"
   },
   {
    "duration": 74,
    "start_time": "2024-03-06T09:38:48.625Z"
   },
   {
    "duration": 16,
    "start_time": "2024-03-06T09:38:52.139Z"
   },
   {
    "duration": 17,
    "start_time": "2024-03-06T09:39:13.169Z"
   },
   {
    "duration": 11,
    "start_time": "2024-03-06T09:39:27.461Z"
   },
   {
    "duration": 18,
    "start_time": "2024-03-06T09:40:47.332Z"
   },
   {
    "duration": 80,
    "start_time": "2024-03-06T09:41:28.300Z"
   },
   {
    "duration": 79,
    "start_time": "2024-03-06T09:41:33.232Z"
   },
   {
    "duration": 17,
    "start_time": "2024-03-06T09:41:34.532Z"
   },
   {
    "duration": 77,
    "start_time": "2024-03-06T09:42:07.356Z"
   },
   {
    "duration": 15,
    "start_time": "2024-03-06T09:42:17.980Z"
   },
   {
    "duration": 12,
    "start_time": "2024-03-06T09:42:35.484Z"
   },
   {
    "duration": 7,
    "start_time": "2024-03-06T09:42:44.840Z"
   },
   {
    "duration": 13,
    "start_time": "2024-03-06T09:43:05.303Z"
   },
   {
    "duration": 6,
    "start_time": "2024-03-06T09:47:28.882Z"
   },
   {
    "duration": 5,
    "start_time": "2024-03-06T09:47:36.126Z"
   },
   {
    "duration": 9,
    "start_time": "2024-03-06T09:47:44.202Z"
   },
   {
    "duration": 5,
    "start_time": "2024-03-06T09:47:47.902Z"
   },
   {
    "duration": 4,
    "start_time": "2024-03-06T09:48:07.863Z"
   },
   {
    "duration": 14,
    "start_time": "2024-03-06T09:48:17.702Z"
   },
   {
    "duration": 7,
    "start_time": "2024-03-06T09:48:39.774Z"
   },
   {
    "duration": 8,
    "start_time": "2024-03-06T09:48:45.931Z"
   },
   {
    "duration": 12,
    "start_time": "2024-03-06T09:49:12.526Z"
   },
   {
    "duration": 8,
    "start_time": "2024-03-06T09:53:45.878Z"
   },
   {
    "duration": 16,
    "start_time": "2024-03-06T09:53:57.745Z"
   },
   {
    "duration": 5,
    "start_time": "2024-03-06T09:54:04.003Z"
   },
   {
    "duration": 12,
    "start_time": "2024-03-06T09:54:05.847Z"
   },
   {
    "duration": 12,
    "start_time": "2024-03-06T09:54:15.258Z"
   },
   {
    "duration": 5,
    "start_time": "2024-03-06T09:55:00.198Z"
   },
   {
    "duration": 11,
    "start_time": "2024-03-06T09:55:01.646Z"
   },
   {
    "duration": 14,
    "start_time": "2024-03-06T09:55:16.057Z"
   },
   {
    "duration": 76,
    "start_time": "2024-03-06T09:55:25.914Z"
   },
   {
    "duration": 11,
    "start_time": "2024-03-06T09:55:27.361Z"
   },
   {
    "duration": 5,
    "start_time": "2024-03-06T09:55:28.562Z"
   },
   {
    "duration": 14,
    "start_time": "2024-03-06T09:55:32.549Z"
   },
   {
    "duration": 6,
    "start_time": "2024-03-06T09:57:31.033Z"
   },
   {
    "duration": 13,
    "start_time": "2024-03-06T09:57:44.618Z"
   },
   {
    "duration": 4,
    "start_time": "2024-03-06T09:57:52.665Z"
   },
   {
    "duration": 13,
    "start_time": "2024-03-06T09:57:55.293Z"
   },
   {
    "duration": 6,
    "start_time": "2024-03-06T09:58:07.657Z"
   },
   {
    "duration": 4,
    "start_time": "2024-03-06T09:58:32.037Z"
   },
   {
    "duration": 12,
    "start_time": "2024-03-06T09:58:33.889Z"
   },
   {
    "duration": 10,
    "start_time": "2024-03-06T09:58:45.461Z"
   },
   {
    "duration": 71,
    "start_time": "2024-03-06T09:59:12.533Z"
   },
   {
    "duration": 3,
    "start_time": "2024-03-06T10:03:26.485Z"
   },
   {
    "duration": 78,
    "start_time": "2024-03-06T10:03:26.793Z"
   },
   {
    "duration": 12,
    "start_time": "2024-03-06T10:03:28.733Z"
   },
   {
    "duration": 12,
    "start_time": "2024-03-06T10:03:34.604Z"
   },
   {
    "duration": 11,
    "start_time": "2024-03-06T10:03:48.101Z"
   },
   {
    "duration": 6,
    "start_time": "2024-03-06T10:04:01.460Z"
   },
   {
    "duration": 11,
    "start_time": "2024-03-06T10:04:09.101Z"
   },
   {
    "duration": 10,
    "start_time": "2024-03-06T10:05:18.017Z"
   },
   {
    "duration": 8,
    "start_time": "2024-03-06T10:05:30.429Z"
   },
   {
    "duration": 17,
    "start_time": "2024-03-06T10:06:02.489Z"
   },
   {
    "duration": 13,
    "start_time": "2024-03-06T10:06:05.497Z"
   },
   {
    "duration": 10,
    "start_time": "2024-03-06T10:06:27.897Z"
   },
   {
    "duration": 6,
    "start_time": "2024-03-06T10:06:46.793Z"
   },
   {
    "duration": 6,
    "start_time": "2024-03-06T10:06:51.577Z"
   },
   {
    "duration": 5,
    "start_time": "2024-03-06T10:06:58.021Z"
   },
   {
    "duration": 5,
    "start_time": "2024-03-06T10:07:02.469Z"
   },
   {
    "duration": 6,
    "start_time": "2024-03-06T10:07:14.149Z"
   },
   {
    "duration": 6,
    "start_time": "2024-03-06T10:07:18.644Z"
   },
   {
    "duration": 5,
    "start_time": "2024-03-06T10:07:23.573Z"
   },
   {
    "duration": 6,
    "start_time": "2024-03-06T10:07:28.381Z"
   },
   {
    "duration": 6,
    "start_time": "2024-03-06T10:08:03.928Z"
   },
   {
    "duration": 6,
    "start_time": "2024-03-06T10:08:18.440Z"
   },
   {
    "duration": 6,
    "start_time": "2024-03-06T10:08:24.228Z"
   },
   {
    "duration": 5,
    "start_time": "2024-03-06T10:08:32.189Z"
   },
   {
    "duration": 5,
    "start_time": "2024-03-06T10:08:39.773Z"
   },
   {
    "duration": 6,
    "start_time": "2024-03-06T10:08:45.824Z"
   },
   {
    "duration": 6,
    "start_time": "2024-03-06T10:08:52.000Z"
   },
   {
    "duration": 6,
    "start_time": "2024-03-06T10:09:04.105Z"
   },
   {
    "duration": 3,
    "start_time": "2024-03-06T10:10:17.597Z"
   },
   {
    "duration": 75,
    "start_time": "2024-03-06T10:10:17.929Z"
   },
   {
    "duration": 10,
    "start_time": "2024-03-06T10:10:18.561Z"
   },
   {
    "duration": 13,
    "start_time": "2024-03-06T10:10:18.893Z"
   },
   {
    "duration": 7,
    "start_time": "2024-03-06T10:10:19.232Z"
   },
   {
    "duration": 9,
    "start_time": "2024-03-06T10:10:19.669Z"
   },
   {
    "duration": 6,
    "start_time": "2024-03-06T10:15:15.507Z"
   },
   {
    "duration": 6,
    "start_time": "2024-03-06T10:15:20.255Z"
   },
   {
    "duration": 4,
    "start_time": "2024-03-06T10:15:33.899Z"
   },
   {
    "duration": 3,
    "start_time": "2024-03-06T10:15:38.688Z"
   },
   {
    "duration": 5,
    "start_time": "2024-03-06T10:15:48.304Z"
   },
   {
    "duration": 4,
    "start_time": "2024-03-06T10:17:16.643Z"
   },
   {
    "duration": 3,
    "start_time": "2024-03-06T10:19:23.499Z"
   },
   {
    "duration": 834,
    "start_time": "2024-03-06T10:20:08.880Z"
   },
   {
    "duration": 6,
    "start_time": "2024-03-06T10:23:32.675Z"
   },
   {
    "duration": 3,
    "start_time": "2024-03-06T10:24:48.863Z"
   },
   {
    "duration": 6,
    "start_time": "2024-03-06T10:27:14.908Z"
   },
   {
    "duration": 6,
    "start_time": "2024-03-06T10:27:32.459Z"
   },
   {
    "duration": 5,
    "start_time": "2024-03-06T10:27:59.978Z"
   },
   {
    "duration": 4,
    "start_time": "2024-03-06T10:30:06.502Z"
   },
   {
    "duration": 53,
    "start_time": "2024-03-06T10:33:41.138Z"
   },
   {
    "duration": 11,
    "start_time": "2024-03-06T10:33:54.624Z"
   },
   {
    "duration": 17,
    "start_time": "2024-03-06T10:33:57.766Z"
   },
   {
    "duration": 8,
    "start_time": "2024-03-06T10:34:11.441Z"
   },
   {
    "duration": 8,
    "start_time": "2024-03-06T10:34:12.154Z"
   },
   {
    "duration": 16,
    "start_time": "2024-03-06T10:34:24.918Z"
   },
   {
    "duration": 8,
    "start_time": "2024-03-06T10:34:29.950Z"
   },
   {
    "duration": 14,
    "start_time": "2024-03-06T10:34:33.410Z"
   },
   {
    "duration": 15,
    "start_time": "2024-03-06T10:34:43.478Z"
   },
   {
    "duration": 16,
    "start_time": "2024-03-06T10:35:01.382Z"
   },
   {
    "duration": 9,
    "start_time": "2024-03-06T10:35:29.198Z"
   },
   {
    "duration": 12,
    "start_time": "2024-03-06T10:36:48.427Z"
   },
   {
    "duration": 10,
    "start_time": "2024-03-06T10:37:04.462Z"
   },
   {
    "duration": 5,
    "start_time": "2024-03-06T10:38:32.578Z"
   },
   {
    "duration": 16,
    "start_time": "2024-03-06T10:38:36.970Z"
   },
   {
    "duration": 10,
    "start_time": "2024-03-06T10:38:57.162Z"
   },
   {
    "duration": 69,
    "start_time": "2024-03-06T10:42:12.165Z"
   },
   {
    "duration": 582,
    "start_time": "2024-03-06T10:42:43.721Z"
   },
   {
    "duration": 127,
    "start_time": "2024-03-06T10:43:02.116Z"
   },
   {
    "duration": 3,
    "start_time": "2024-03-06T10:43:35.074Z"
   },
   {
    "duration": 125,
    "start_time": "2024-03-06T10:43:37.653Z"
   },
   {
    "duration": 113,
    "start_time": "2024-03-06T10:44:04.086Z"
   },
   {
    "duration": 10,
    "start_time": "2024-03-06T10:45:39.357Z"
   },
   {
    "duration": 7,
    "start_time": "2024-03-06T10:45:57.933Z"
   },
   {
    "duration": 10,
    "start_time": "2024-03-06T10:46:00.637Z"
   },
   {
    "duration": 127,
    "start_time": "2024-03-06T10:46:03.114Z"
   },
   {
    "duration": 15,
    "start_time": "2024-03-06T10:46:13.681Z"
   },
   {
    "duration": 7,
    "start_time": "2024-03-06T10:46:30.590Z"
   },
   {
    "duration": 17,
    "start_time": "2024-03-06T10:47:19.537Z"
   },
   {
    "duration": 6,
    "start_time": "2024-03-06T10:47:31.461Z"
   },
   {
    "duration": 5,
    "start_time": "2024-03-06T10:47:36.550Z"
   },
   {
    "duration": 5,
    "start_time": "2024-03-06T10:49:52.441Z"
   },
   {
    "duration": 8,
    "start_time": "2024-03-06T10:49:54.821Z"
   },
   {
    "duration": 4,
    "start_time": "2024-03-06T10:50:07.005Z"
   },
   {
    "duration": 157,
    "start_time": "2024-03-06T10:50:07.365Z"
   },
   {
    "duration": 10,
    "start_time": "2024-03-06T10:50:08.317Z"
   },
   {
    "duration": 8,
    "start_time": "2024-03-06T10:50:10.953Z"
   },
   {
    "duration": 5,
    "start_time": "2024-03-06T10:50:25.457Z"
   },
   {
    "duration": 11,
    "start_time": "2024-03-06T10:50:26.913Z"
   },
   {
    "duration": 8,
    "start_time": "2024-03-06T10:50:27.557Z"
   },
   {
    "duration": 6,
    "start_time": "2024-03-06T10:50:30.089Z"
   },
   {
    "duration": 9,
    "start_time": "2024-03-06T10:50:36.601Z"
   },
   {
    "duration": 3,
    "start_time": "2024-03-06T10:50:38.181Z"
   },
   {
    "duration": 5,
    "start_time": "2024-03-06T10:50:38.581Z"
   },
   {
    "duration": 4,
    "start_time": "2024-03-06T10:50:40.117Z"
   },
   {
    "duration": 6,
    "start_time": "2024-03-06T10:50:43.205Z"
   },
   {
    "duration": 6,
    "start_time": "2024-03-06T10:50:44.409Z"
   },
   {
    "duration": 7,
    "start_time": "2024-03-06T10:50:45.092Z"
   },
   {
    "duration": 108,
    "start_time": "2024-03-06T10:50:46.697Z"
   },
   {
    "duration": 69,
    "start_time": "2024-03-06T10:51:37.045Z"
   },
   {
    "duration": 5,
    "start_time": "2024-03-06T10:52:01.281Z"
   },
   {
    "duration": 10,
    "start_time": "2024-03-06T10:52:13.217Z"
   },
   {
    "duration": 89,
    "start_time": "2024-03-06T10:53:11.641Z"
   },
   {
    "duration": 98,
    "start_time": "2024-03-06T10:54:48.501Z"
   },
   {
    "duration": 6,
    "start_time": "2024-03-06T10:55:31.859Z"
   },
   {
    "duration": 6,
    "start_time": "2024-03-06T10:56:02.901Z"
   },
   {
    "duration": 5,
    "start_time": "2024-03-06T10:56:04.420Z"
   },
   {
    "duration": 6,
    "start_time": "2024-03-06T10:56:05.093Z"
   },
   {
    "duration": 98,
    "start_time": "2024-03-06T10:56:06.253Z"
   },
   {
    "duration": 6,
    "start_time": "2024-03-06T10:56:54.734Z"
   },
   {
    "duration": 5,
    "start_time": "2024-03-06T10:57:04.713Z"
   },
   {
    "duration": 5,
    "start_time": "2024-03-06T10:57:11.540Z"
   },
   {
    "duration": 5,
    "start_time": "2024-03-06T10:57:13.717Z"
   },
   {
    "duration": 5,
    "start_time": "2024-03-06T10:57:22.321Z"
   },
   {
    "duration": 7,
    "start_time": "2024-03-06T10:57:22.625Z"
   },
   {
    "duration": 13,
    "start_time": "2024-03-06T10:57:22.977Z"
   },
   {
    "duration": 113,
    "start_time": "2024-03-06T10:57:24.088Z"
   },
   {
    "duration": 93,
    "start_time": "2024-03-06T10:57:25.761Z"
   },
   {
    "duration": 78,
    "start_time": "2024-03-06T10:57:26.461Z"
   },
   {
    "duration": 93,
    "start_time": "2024-03-06T10:57:31.673Z"
   },
   {
    "duration": 82,
    "start_time": "2024-03-06T10:57:36.324Z"
   },
   {
    "duration": 152,
    "start_time": "2024-03-06T10:58:43.005Z"
   },
   {
    "duration": 126,
    "start_time": "2024-03-06T10:58:53.449Z"
   },
   {
    "duration": 152,
    "start_time": "2024-03-06T10:59:02.453Z"
   },
   {
    "duration": 151,
    "start_time": "2024-03-06T10:59:29.309Z"
   },
   {
    "duration": 89,
    "start_time": "2024-03-06T11:00:38.744Z"
   },
   {
    "duration": 90,
    "start_time": "2024-03-06T11:01:04.232Z"
   },
   {
    "duration": 95,
    "start_time": "2024-03-06T11:02:18.776Z"
   },
   {
    "duration": 192,
    "start_time": "2024-03-06T11:03:56.953Z"
   },
   {
    "duration": 111,
    "start_time": "2024-03-06T11:04:11.948Z"
   },
   {
    "duration": 0,
    "start_time": "2024-03-06T11:04:52.431Z"
   },
   {
    "duration": 106,
    "start_time": "2024-03-06T11:04:57.700Z"
   },
   {
    "duration": 126,
    "start_time": "2024-03-06T11:05:03.997Z"
   },
   {
    "duration": 276,
    "start_time": "2024-03-06T11:08:04.796Z"
   },
   {
    "duration": 205,
    "start_time": "2024-03-06T11:08:25.388Z"
   },
   {
    "duration": 174,
    "start_time": "2024-03-06T11:08:32.592Z"
   },
   {
    "duration": 6,
    "start_time": "2024-03-06T11:09:47.024Z"
   },
   {
    "duration": 16,
    "start_time": "2024-03-06T11:09:51.444Z"
   },
   {
    "duration": 6,
    "start_time": "2024-03-06T11:10:01.320Z"
   },
   {
    "duration": 11,
    "start_time": "2024-03-06T11:10:01.872Z"
   },
   {
    "duration": 6,
    "start_time": "2024-03-06T11:10:20.620Z"
   },
   {
    "duration": 3,
    "start_time": "2024-03-06T11:10:40.420Z"
   },
   {
    "duration": 5,
    "start_time": "2024-03-06T11:10:42.912Z"
   },
   {
    "duration": 11,
    "start_time": "2024-03-06T11:10:43.388Z"
   },
   {
    "duration": 2,
    "start_time": "2024-03-06T11:10:47.576Z"
   },
   {
    "duration": 6,
    "start_time": "2024-03-06T11:10:52.788Z"
   },
   {
    "duration": 91,
    "start_time": "2024-03-06T11:11:44.861Z"
   },
   {
    "duration": 81,
    "start_time": "2024-03-06T11:11:55.807Z"
   },
   {
    "duration": 79,
    "start_time": "2024-03-06T11:12:01.835Z"
   },
   {
    "duration": 3,
    "start_time": "2024-03-06T11:12:58.396Z"
   },
   {
    "duration": 9,
    "start_time": "2024-03-06T11:13:08.156Z"
   },
   {
    "duration": 78,
    "start_time": "2024-03-06T11:13:21.948Z"
   },
   {
    "duration": 9,
    "start_time": "2024-03-06T11:13:24.528Z"
   },
   {
    "duration": 11,
    "start_time": "2024-03-06T11:13:34.772Z"
   },
   {
    "duration": 4,
    "start_time": "2024-03-06T11:13:45.168Z"
   },
   {
    "duration": 9,
    "start_time": "2024-03-06T11:13:45.611Z"
   },
   {
    "duration": 1431,
    "start_time": "2024-03-06T11:14:43.017Z"
   },
   {
    "duration": 201,
    "start_time": "2024-03-06T11:14:55.419Z"
   },
   {
    "duration": 127,
    "start_time": "2024-03-06T11:16:01.504Z"
   },
   {
    "duration": 2,
    "start_time": "2024-03-06T11:19:34.148Z"
   },
   {
    "duration": 3,
    "start_time": "2024-03-06T13:11:40.836Z"
   },
   {
    "duration": 4,
    "start_time": "2024-03-06T13:11:41.159Z"
   },
   {
    "duration": 3,
    "start_time": "2024-03-06T13:11:41.451Z"
   },
   {
    "duration": 10,
    "start_time": "2024-03-06T13:13:26.568Z"
   },
   {
    "duration": 12,
    "start_time": "2024-03-06T13:15:22.102Z"
   },
   {
    "duration": 11,
    "start_time": "2024-03-06T13:16:10.710Z"
   },
   {
    "duration": 3,
    "start_time": "2024-03-06T13:16:16.499Z"
   },
   {
    "duration": 11,
    "start_time": "2024-03-06T13:18:59.987Z"
   },
   {
    "duration": 11,
    "start_time": "2024-03-06T13:19:05.738Z"
   },
   {
    "duration": 4,
    "start_time": "2024-03-06T13:19:31.226Z"
   },
   {
    "duration": 10,
    "start_time": "2024-03-06T13:19:33.458Z"
   },
   {
    "duration": 13,
    "start_time": "2024-03-06T13:19:43.301Z"
   },
   {
    "duration": 4,
    "start_time": "2024-03-06T13:19:50.384Z"
   },
   {
    "duration": 10,
    "start_time": "2024-03-06T13:20:23.154Z"
   },
   {
    "duration": 4,
    "start_time": "2024-03-06T13:20:41.936Z"
   },
   {
    "duration": 10,
    "start_time": "2024-03-06T13:20:45.228Z"
   },
   {
    "duration": 35,
    "start_time": "2024-03-06T13:20:55.575Z"
   },
   {
    "duration": 5,
    "start_time": "2024-03-06T13:23:43.871Z"
   },
   {
    "duration": 28,
    "start_time": "2024-03-06T13:23:44.362Z"
   },
   {
    "duration": 4,
    "start_time": "2024-03-06T13:24:18.646Z"
   },
   {
    "duration": 516,
    "start_time": "2024-03-06T13:24:19.542Z"
   },
   {
    "duration": 4,
    "start_time": "2024-03-06T13:24:44.866Z"
   },
   {
    "duration": 542,
    "start_time": "2024-03-06T13:24:45.510Z"
   },
   {
    "duration": 4,
    "start_time": "2024-03-06T13:25:39.602Z"
   },
   {
    "duration": 3,
    "start_time": "2024-03-06T13:25:39.974Z"
   },
   {
    "duration": 3,
    "start_time": "2024-03-06T13:25:40.711Z"
   },
   {
    "duration": 4,
    "start_time": "2024-03-06T13:25:41.238Z"
   },
   {
    "duration": 2170,
    "start_time": "2024-03-06T13:25:41.778Z"
   },
   {
    "duration": 4,
    "start_time": "2024-03-06T13:26:27.114Z"
   },
   {
    "duration": 3,
    "start_time": "2024-03-06T13:26:27.730Z"
   },
   {
    "duration": 5,
    "start_time": "2024-03-06T13:26:28.522Z"
   },
   {
    "duration": 4,
    "start_time": "2024-03-06T13:26:28.922Z"
   },
   {
    "duration": 594,
    "start_time": "2024-03-06T13:26:29.354Z"
   },
   {
    "duration": 4,
    "start_time": "2024-03-06T13:27:19.990Z"
   },
   {
    "duration": 3,
    "start_time": "2024-03-06T13:27:20.302Z"
   },
   {
    "duration": 3,
    "start_time": "2024-03-06T13:27:20.874Z"
   },
   {
    "duration": 4,
    "start_time": "2024-03-06T13:27:21.158Z"
   },
   {
    "duration": 521,
    "start_time": "2024-03-06T13:27:21.511Z"
   },
   {
    "duration": 4,
    "start_time": "2024-03-06T13:29:30.386Z"
   },
   {
    "duration": 3,
    "start_time": "2024-03-06T13:29:30.681Z"
   },
   {
    "duration": 3,
    "start_time": "2024-03-06T13:29:31.330Z"
   },
   {
    "duration": 4,
    "start_time": "2024-03-06T13:29:31.781Z"
   },
   {
    "duration": 500,
    "start_time": "2024-03-06T13:29:32.342Z"
   },
   {
    "duration": 5,
    "start_time": "2024-03-06T13:29:45.320Z"
   },
   {
    "duration": 3,
    "start_time": "2024-03-06T13:29:45.650Z"
   },
   {
    "duration": 3,
    "start_time": "2024-03-06T13:29:46.225Z"
   },
   {
    "duration": 4,
    "start_time": "2024-03-06T13:29:46.589Z"
   },
   {
    "duration": 514,
    "start_time": "2024-03-06T13:29:47.042Z"
   },
   {
    "duration": 4,
    "start_time": "2024-03-06T13:30:18.094Z"
   },
   {
    "duration": 4,
    "start_time": "2024-03-06T13:30:18.277Z"
   },
   {
    "duration": 3,
    "start_time": "2024-03-06T13:30:18.638Z"
   },
   {
    "duration": 4,
    "start_time": "2024-03-06T13:30:18.842Z"
   },
   {
    "duration": 2297,
    "start_time": "2024-03-06T13:30:19.134Z"
   },
   {
    "duration": 4,
    "start_time": "2024-03-06T13:32:03.406Z"
   },
   {
    "duration": 3,
    "start_time": "2024-03-06T13:32:11.150Z"
   },
   {
    "duration": 3,
    "start_time": "2024-03-06T13:32:11.869Z"
   },
   {
    "duration": 5,
    "start_time": "2024-03-06T13:32:12.882Z"
   },
   {
    "duration": 2145,
    "start_time": "2024-03-06T13:32:21.589Z"
   },
   {
    "duration": 2319,
    "start_time": "2024-03-06T13:33:12.710Z"
   },
   {
    "duration": 3,
    "start_time": "2024-03-06T13:34:13.234Z"
   },
   {
    "duration": 1355,
    "start_time": "2024-03-06T13:34:13.673Z"
   },
   {
    "duration": 4,
    "start_time": "2024-03-06T13:34:38.869Z"
   },
   {
    "duration": 1973,
    "start_time": "2024-03-06T13:34:39.273Z"
   },
   {
    "duration": 2178,
    "start_time": "2024-03-06T13:35:52.745Z"
   },
   {
    "duration": 5,
    "start_time": "2024-03-06T13:37:32.621Z"
   },
   {
    "duration": 5,
    "start_time": "2024-03-06T13:39:30.046Z"
   },
   {
    "duration": 2161,
    "start_time": "2024-03-06T13:39:30.586Z"
   },
   {
    "duration": 4,
    "start_time": "2024-03-06T13:40:49.662Z"
   },
   {
    "duration": 4,
    "start_time": "2024-03-06T13:40:55.566Z"
   },
   {
    "duration": 1995,
    "start_time": "2024-03-06T13:40:57.558Z"
   },
   {
    "duration": 2024,
    "start_time": "2024-03-06T13:46:15.823Z"
   },
   {
    "duration": 2740,
    "start_time": "2024-03-06T13:46:45.402Z"
   },
   {
    "duration": 88,
    "start_time": "2024-03-06T13:55:13.980Z"
   },
   {
    "duration": 78,
    "start_time": "2024-03-06T13:55:37.978Z"
   },
   {
    "duration": 80,
    "start_time": "2024-03-06T13:56:00.659Z"
   },
   {
    "duration": 77,
    "start_time": "2024-03-06T13:56:43.091Z"
   },
   {
    "duration": 76,
    "start_time": "2024-03-06T13:56:45.680Z"
   },
   {
    "duration": 68,
    "start_time": "2024-03-06T13:56:48.314Z"
   },
   {
    "duration": 159,
    "start_time": "2024-03-06T13:57:53.942Z"
   },
   {
    "duration": 88,
    "start_time": "2024-03-06T13:58:00.347Z"
   },
   {
    "duration": 99,
    "start_time": "2024-03-06T13:58:14.517Z"
   },
   {
    "duration": 12,
    "start_time": "2024-03-06T14:00:33.568Z"
   },
   {
    "duration": 5,
    "start_time": "2024-03-06T14:00:56.974Z"
   },
   {
    "duration": 3,
    "start_time": "2024-03-06T14:01:00.540Z"
   },
   {
    "duration": 19,
    "start_time": "2024-03-06T14:01:06.644Z"
   },
   {
    "duration": 2692,
    "start_time": "2024-03-06T14:01:26.636Z"
   },
   {
    "duration": 3,
    "start_time": "2024-03-06T14:02:12.776Z"
   },
   {
    "duration": 2503,
    "start_time": "2024-03-06T14:02:15.032Z"
   },
   {
    "duration": 4,
    "start_time": "2024-03-06T14:02:37.148Z"
   },
   {
    "duration": 4,
    "start_time": "2024-03-06T14:03:10.775Z"
   },
   {
    "duration": 2468,
    "start_time": "2024-03-06T14:03:13.164Z"
   },
   {
    "duration": 4,
    "start_time": "2024-03-06T14:03:19.255Z"
   },
   {
    "duration": 4,
    "start_time": "2024-03-06T14:05:37.868Z"
   },
   {
    "duration": 3,
    "start_time": "2024-03-06T14:05:38.240Z"
   },
   {
    "duration": 5,
    "start_time": "2024-03-06T14:05:38.736Z"
   },
   {
    "duration": 2878,
    "start_time": "2024-03-06T14:05:39.264Z"
   },
   {
    "duration": 4,
    "start_time": "2024-03-06T14:05:42.144Z"
   },
   {
    "duration": 4,
    "start_time": "2024-03-06T14:07:35.524Z"
   },
   {
    "duration": 3,
    "start_time": "2024-03-06T14:07:35.968Z"
   },
   {
    "duration": 4,
    "start_time": "2024-03-06T14:07:36.407Z"
   },
   {
    "duration": 2408,
    "start_time": "2024-03-06T14:07:37.020Z"
   },
   {
    "duration": 4,
    "start_time": "2024-03-06T14:07:39.430Z"
   },
   {
    "duration": 3,
    "start_time": "2024-03-06T14:07:56.792Z"
   },
   {
    "duration": 3,
    "start_time": "2024-03-06T14:07:57.068Z"
   },
   {
    "duration": 4,
    "start_time": "2024-03-06T14:07:57.340Z"
   },
   {
    "duration": 2515,
    "start_time": "2024-03-06T14:07:57.720Z"
   },
   {
    "duration": 4,
    "start_time": "2024-03-06T14:08:00.237Z"
   },
   {
    "duration": 72,
    "start_time": "2024-03-06T14:08:18.540Z"
   },
   {
    "duration": 79,
    "start_time": "2024-03-06T14:08:24.376Z"
   },
   {
    "duration": 3,
    "start_time": "2024-03-06T14:10:59.652Z"
   },
   {
    "duration": 3,
    "start_time": "2024-03-06T14:11:01.552Z"
   },
   {
    "duration": 4,
    "start_time": "2024-03-06T14:11:01.752Z"
   },
   {
    "duration": 2584,
    "start_time": "2024-03-06T14:11:02.160Z"
   },
   {
    "duration": 5,
    "start_time": "2024-03-06T14:11:04.746Z"
   },
   {
    "duration": 3,
    "start_time": "2024-03-06T14:11:14.752Z"
   },
   {
    "duration": 3,
    "start_time": "2024-03-06T14:11:14.924Z"
   },
   {
    "duration": 4,
    "start_time": "2024-03-06T14:11:15.100Z"
   },
   {
    "duration": 2501,
    "start_time": "2024-03-06T14:11:15.248Z"
   },
   {
    "duration": 75,
    "start_time": "2024-03-06T14:11:17.751Z"
   },
   {
    "duration": 7,
    "start_time": "2024-03-06T14:11:56.748Z"
   },
   {
    "duration": 3,
    "start_time": "2024-03-06T14:11:56.967Z"
   },
   {
    "duration": 4,
    "start_time": "2024-03-06T14:11:57.152Z"
   },
   {
    "duration": 2469,
    "start_time": "2024-03-06T14:11:57.376Z"
   },
   {
    "duration": 6,
    "start_time": "2024-03-06T14:11:59.847Z"
   },
   {
    "duration": 3,
    "start_time": "2024-03-06T14:13:17.360Z"
   },
   {
    "duration": 4,
    "start_time": "2024-03-06T14:15:31.451Z"
   },
   {
    "duration": 6,
    "start_time": "2024-03-06T14:17:37.592Z"
   },
   {
    "duration": 129,
    "start_time": "2024-03-06T14:18:35.511Z"
   },
   {
    "duration": 9,
    "start_time": "2024-03-06T14:18:52.951Z"
   },
   {
    "duration": 22,
    "start_time": "2024-03-06T14:19:52.579Z"
   },
   {
    "duration": 57,
    "start_time": "2024-03-06T14:20:46.576Z"
   },
   {
    "duration": 2630,
    "start_time": "2024-03-06T14:21:10.415Z"
   },
   {
    "duration": 4,
    "start_time": "2024-03-06T14:21:15.411Z"
   },
   {
    "duration": 2893,
    "start_time": "2024-03-06T14:21:41.443Z"
   },
   {
    "duration": 4,
    "start_time": "2024-03-06T14:21:48.671Z"
   },
   {
    "duration": 2763,
    "start_time": "2024-03-06T14:21:55.199Z"
   },
   {
    "duration": 4,
    "start_time": "2024-03-06T14:22:04.587Z"
   },
   {
    "duration": 1769,
    "start_time": "2024-03-06T14:22:05.111Z"
   },
   {
    "duration": 4,
    "start_time": "2024-03-06T14:22:11.795Z"
   },
   {
    "duration": 20,
    "start_time": "2024-03-06T14:23:49.518Z"
   },
   {
    "duration": 10,
    "start_time": "2024-03-06T14:24:06.119Z"
   },
   {
    "duration": 1742,
    "start_time": "2024-03-06T14:24:10.191Z"
   },
   {
    "duration": 1352,
    "start_time": "2024-03-06T14:26:43.595Z"
   },
   {
    "duration": 3,
    "start_time": "2024-03-06T14:26:49.408Z"
   },
   {
    "duration": 10,
    "start_time": "2024-03-06T14:26:58.707Z"
   },
   {
    "duration": 1726,
    "start_time": "2024-03-06T14:27:09.159Z"
   },
   {
    "duration": 3,
    "start_time": "2024-03-06T14:27:14.151Z"
   },
   {
    "duration": 4,
    "start_time": "2024-03-06T14:28:46.394Z"
   },
   {
    "duration": 5,
    "start_time": "2024-03-06T14:28:47.483Z"
   },
   {
    "duration": 3,
    "start_time": "2024-03-06T14:28:50.007Z"
   },
   {
    "duration": 3,
    "start_time": "2024-03-06T14:28:50.471Z"
   },
   {
    "duration": 1645,
    "start_time": "2024-03-06T14:28:51.079Z"
   },
   {
    "duration": 4,
    "start_time": "2024-03-06T14:28:52.726Z"
   },
   {
    "duration": 20,
    "start_time": "2024-03-06T14:28:52.731Z"
   },
   {
    "duration": 4,
    "start_time": "2024-03-06T14:30:01.767Z"
   },
   {
    "duration": 5,
    "start_time": "2024-03-06T14:30:02.015Z"
   },
   {
    "duration": 3,
    "start_time": "2024-03-06T14:30:02.371Z"
   },
   {
    "duration": 4,
    "start_time": "2024-03-06T14:30:02.643Z"
   },
   {
    "duration": 1692,
    "start_time": "2024-03-06T14:30:02.875Z"
   },
   {
    "duration": 4,
    "start_time": "2024-03-06T14:30:04.569Z"
   },
   {
    "duration": 34,
    "start_time": "2024-03-06T14:30:04.575Z"
   },
   {
    "duration": 1727,
    "start_time": "2024-03-06T14:33:08.343Z"
   },
   {
    "duration": 14,
    "start_time": "2024-03-06T14:33:19.377Z"
   },
   {
    "duration": 24,
    "start_time": "2024-03-06T14:33:23.311Z"
   },
   {
    "duration": 4,
    "start_time": "2024-03-06T14:33:47.650Z"
   },
   {
    "duration": 5,
    "start_time": "2024-03-06T14:33:47.794Z"
   },
   {
    "duration": 3,
    "start_time": "2024-03-06T14:33:47.967Z"
   },
   {
    "duration": 7,
    "start_time": "2024-03-06T14:33:48.131Z"
   },
   {
    "duration": 1812,
    "start_time": "2024-03-06T14:33:48.303Z"
   },
   {
    "duration": 9,
    "start_time": "2024-03-06T14:33:50.117Z"
   },
   {
    "duration": 42,
    "start_time": "2024-03-06T14:33:50.128Z"
   },
   {
    "duration": 3,
    "start_time": "2024-03-06T14:34:58.619Z"
   },
   {
    "duration": 5,
    "start_time": "2024-03-06T14:34:58.943Z"
   },
   {
    "duration": 4,
    "start_time": "2024-03-06T14:34:59.223Z"
   },
   {
    "duration": 4,
    "start_time": "2024-03-06T14:34:59.470Z"
   },
   {
    "duration": 1709,
    "start_time": "2024-03-06T14:34:59.679Z"
   },
   {
    "duration": 5,
    "start_time": "2024-03-06T14:35:01.390Z"
   },
   {
    "duration": 63,
    "start_time": "2024-03-06T14:35:01.396Z"
   },
   {
    "duration": 11,
    "start_time": "2024-03-06T14:43:10.139Z"
   },
   {
    "duration": 1730,
    "start_time": "2024-03-06T14:43:22.511Z"
   },
   {
    "duration": 3,
    "start_time": "2024-03-06T14:43:27.247Z"
   },
   {
    "duration": 1694,
    "start_time": "2024-03-06T14:44:30.325Z"
   },
   {
    "duration": 4,
    "start_time": "2024-03-06T14:44:32.022Z"
   },
   {
    "duration": 16,
    "start_time": "2024-03-06T14:45:05.207Z"
   },
   {
    "duration": 1876,
    "start_time": "2024-03-06T14:45:12.019Z"
   },
   {
    "duration": 1897,
    "start_time": "2024-03-06T14:45:31.320Z"
   },
   {
    "duration": 7,
    "start_time": "2024-03-06T14:45:33.219Z"
   },
   {
    "duration": 27,
    "start_time": "2024-03-06T14:47:29.091Z"
   },
   {
    "duration": 21,
    "start_time": "2024-03-06T14:47:53.723Z"
   },
   {
    "duration": 6,
    "start_time": "2024-03-06T14:48:13.590Z"
   },
   {
    "duration": 6,
    "start_time": "2024-03-06T14:48:27.902Z"
   },
   {
    "duration": 6,
    "start_time": "2024-03-06T14:48:30.343Z"
   },
   {
    "duration": 6,
    "start_time": "2024-03-06T14:48:56.139Z"
   },
   {
    "duration": 17,
    "start_time": "2024-03-06T14:48:58.566Z"
   },
   {
    "duration": 4,
    "start_time": "2024-03-06T14:50:24.143Z"
   },
   {
    "duration": 1685,
    "start_time": "2024-03-06T14:50:26.579Z"
   },
   {
    "duration": 4,
    "start_time": "2024-03-06T14:50:31.471Z"
   },
   {
    "duration": 25,
    "start_time": "2024-03-06T14:50:35.323Z"
   },
   {
    "duration": 5,
    "start_time": "2024-03-06T14:50:47.408Z"
   },
   {
    "duration": 1817,
    "start_time": "2024-03-06T14:50:47.863Z"
   },
   {
    "duration": 5,
    "start_time": "2024-03-06T14:50:49.682Z"
   },
   {
    "duration": 7,
    "start_time": "2024-03-06T14:50:49.688Z"
   },
   {
    "duration": 24,
    "start_time": "2024-03-06T14:51:08.423Z"
   },
   {
    "duration": 5,
    "start_time": "2024-03-06T14:53:44.732Z"
   },
   {
    "duration": 1813,
    "start_time": "2024-03-06T14:53:45.167Z"
   },
   {
    "duration": 4,
    "start_time": "2024-03-06T14:53:52.636Z"
   },
   {
    "duration": 1746,
    "start_time": "2024-03-06T14:53:53.933Z"
   },
   {
    "duration": 8,
    "start_time": "2024-03-06T14:54:06.300Z"
   },
   {
    "duration": 15,
    "start_time": "2024-03-06T14:54:15.107Z"
   },
   {
    "duration": 12,
    "start_time": "2024-03-06T14:56:55.855Z"
   },
   {
    "duration": 4,
    "start_time": "2024-03-06T14:57:12.652Z"
   },
   {
    "duration": 11,
    "start_time": "2024-03-06T14:57:24.571Z"
   },
   {
    "duration": 43038,
    "start_time": "2024-03-06T14:57:30.999Z"
   },
   {
    "duration": 5,
    "start_time": "2024-03-06T14:58:19.328Z"
   },
   {
    "duration": 17,
    "start_time": "2024-03-06T14:58:22.603Z"
   },
   {
    "duration": 53,
    "start_time": "2024-03-06T14:58:49.416Z"
   },
   {
    "duration": 3,
    "start_time": "2024-03-06T14:59:38.627Z"
   },
   {
    "duration": 38,
    "start_time": "2024-03-06T15:00:46.027Z"
   },
   {
    "duration": 11,
    "start_time": "2024-03-06T15:00:50.272Z"
   },
   {
    "duration": 7,
    "start_time": "2024-03-06T15:01:23.483Z"
   },
   {
    "duration": 9,
    "start_time": "2024-03-06T15:03:08.388Z"
   },
   {
    "duration": 10,
    "start_time": "2024-03-06T15:03:17.143Z"
   },
   {
    "duration": 9,
    "start_time": "2024-03-06T15:03:25.100Z"
   },
   {
    "duration": 12,
    "start_time": "2024-03-06T15:03:36.724Z"
   },
   {
    "duration": 20,
    "start_time": "2024-03-06T15:04:43.607Z"
   },
   {
    "duration": 12,
    "start_time": "2024-03-06T15:06:17.404Z"
   },
   {
    "duration": 9,
    "start_time": "2024-03-06T15:06:28.104Z"
   },
   {
    "duration": 13,
    "start_time": "2024-03-06T15:07:07.716Z"
   },
   {
    "duration": 6,
    "start_time": "2024-03-06T15:07:21.333Z"
   },
   {
    "duration": 4,
    "start_time": "2024-03-06T15:08:27.116Z"
   },
   {
    "duration": 6,
    "start_time": "2024-03-06T15:08:27.572Z"
   },
   {
    "duration": 3,
    "start_time": "2024-03-06T15:08:28.055Z"
   },
   {
    "duration": 3,
    "start_time": "2024-03-06T15:08:29.540Z"
   },
   {
    "duration": 27073,
    "start_time": "2024-03-06T15:08:32.720Z"
   },
   {
    "duration": 5,
    "start_time": "2024-03-06T15:09:05.384Z"
   },
   {
    "duration": 18,
    "start_time": "2024-03-06T15:09:32.168Z"
   },
   {
    "duration": 13,
    "start_time": "2024-03-06T15:11:23.684Z"
   },
   {
    "duration": 8,
    "start_time": "2024-03-06T15:11:29.480Z"
   },
   {
    "duration": 4,
    "start_time": "2024-03-06T15:12:26.648Z"
   },
   {
    "duration": 10,
    "start_time": "2024-03-06T15:12:34.300Z"
   },
   {
    "duration": 7,
    "start_time": "2024-03-06T15:12:45.471Z"
   },
   {
    "duration": 3,
    "start_time": "2024-03-06T15:13:22.895Z"
   },
   {
    "duration": 5,
    "start_time": "2024-03-06T15:13:23.292Z"
   },
   {
    "duration": 5,
    "start_time": "2024-03-06T15:13:24.911Z"
   },
   {
    "duration": 4,
    "start_time": "2024-03-06T15:13:25.967Z"
   },
   {
    "duration": 5,
    "start_time": "2024-03-06T15:13:27.144Z"
   },
   {
    "duration": 3,
    "start_time": "2024-03-06T15:13:28.591Z"
   },
   {
    "duration": 5,
    "start_time": "2024-03-06T15:13:29.251Z"
   },
   {
    "duration": 7040,
    "start_time": "2024-03-06T15:13:31.040Z"
   },
   {
    "duration": 5,
    "start_time": "2024-03-06T15:13:51.159Z"
   },
   {
    "duration": 3,
    "start_time": "2024-03-06T15:13:52.752Z"
   },
   {
    "duration": 4,
    "start_time": "2024-03-06T15:13:53.435Z"
   },
   {
    "duration": 5,
    "start_time": "2024-03-06T15:13:53.664Z"
   },
   {
    "duration": 3,
    "start_time": "2024-03-06T15:13:54.048Z"
   },
   {
    "duration": 4,
    "start_time": "2024-03-06T15:13:54.512Z"
   },
   {
    "duration": 26352,
    "start_time": "2024-03-06T15:13:54.916Z"
   },
   {
    "duration": 4,
    "start_time": "2024-03-06T15:14:21.270Z"
   },
   {
    "duration": 7,
    "start_time": "2024-03-06T15:14:21.277Z"
   },
   {
    "duration": 37,
    "start_time": "2024-03-06T15:14:21.287Z"
   },
   {
    "duration": 0,
    "start_time": "2024-03-06T15:14:21.327Z"
   },
   {
    "duration": 0,
    "start_time": "2024-03-06T15:14:21.329Z"
   },
   {
    "duration": 0,
    "start_time": "2024-03-06T15:14:21.330Z"
   },
   {
    "duration": 0,
    "start_time": "2024-03-06T15:14:21.332Z"
   },
   {
    "duration": 0,
    "start_time": "2024-03-06T15:14:21.334Z"
   },
   {
    "duration": 0,
    "start_time": "2024-03-06T15:14:21.335Z"
   },
   {
    "duration": 0,
    "start_time": "2024-03-06T15:14:21.337Z"
   },
   {
    "duration": 0,
    "start_time": "2024-03-06T15:14:21.339Z"
   },
   {
    "duration": 37,
    "start_time": "2024-03-06T15:14:58.040Z"
   },
   {
    "duration": 6,
    "start_time": "2024-03-06T15:14:58.860Z"
   },
   {
    "duration": 22,
    "start_time": "2024-03-06T15:14:59.615Z"
   },
   {
    "duration": 11,
    "start_time": "2024-03-06T15:15:02.408Z"
   },
   {
    "duration": 6,
    "start_time": "2024-03-06T15:15:03.424Z"
   },
   {
    "duration": 7,
    "start_time": "2024-03-06T15:15:05.360Z"
   },
   {
    "duration": 3,
    "start_time": "2024-03-06T15:18:04.216Z"
   },
   {
    "duration": 3,
    "start_time": "2024-03-06T15:18:04.596Z"
   },
   {
    "duration": 4,
    "start_time": "2024-03-06T15:18:05.064Z"
   },
   {
    "duration": 25797,
    "start_time": "2024-03-06T15:18:05.576Z"
   },
   {
    "duration": 3,
    "start_time": "2024-03-06T15:18:31.376Z"
   },
   {
    "duration": 4,
    "start_time": "2024-03-06T15:18:37.598Z"
   },
   {
    "duration": 17,
    "start_time": "2024-03-06T15:18:52.028Z"
   },
   {
    "duration": 13,
    "start_time": "2024-03-06T15:19:19.220Z"
   },
   {
    "duration": 183,
    "start_time": "2024-03-06T15:19:24.580Z"
   },
   {
    "duration": 14,
    "start_time": "2024-03-06T15:22:17.826Z"
   },
   {
    "duration": 7,
    "start_time": "2024-03-06T15:22:34.997Z"
   },
   {
    "duration": 16,
    "start_time": "2024-03-06T15:22:44.604Z"
   },
   {
    "duration": 7,
    "start_time": "2024-03-06T15:22:50.696Z"
   },
   {
    "duration": 6,
    "start_time": "2024-03-06T15:22:56.512Z"
   },
   {
    "duration": 6,
    "start_time": "2024-03-06T15:23:01.280Z"
   },
   {
    "duration": 8,
    "start_time": "2024-03-06T15:23:06.477Z"
   },
   {
    "duration": 6,
    "start_time": "2024-03-06T15:23:12.844Z"
   },
   {
    "duration": 6,
    "start_time": "2024-03-06T15:23:26.140Z"
   },
   {
    "duration": 16,
    "start_time": "2024-03-06T15:23:51.096Z"
   },
   {
    "duration": 14,
    "start_time": "2024-03-06T15:24:31.907Z"
   },
   {
    "duration": 3,
    "start_time": "2024-03-06T15:25:11.576Z"
   },
   {
    "duration": 15,
    "start_time": "2024-03-06T15:25:18.077Z"
   },
   {
    "duration": 15,
    "start_time": "2024-03-06T15:25:38.264Z"
   },
   {
    "duration": 3,
    "start_time": "2024-03-06T15:25:53.860Z"
   },
   {
    "duration": 4,
    "start_time": "2024-03-06T15:25:59.511Z"
   },
   {
    "duration": 7,
    "start_time": "2024-03-06T15:26:24.230Z"
   },
   {
    "duration": 27,
    "start_time": "2024-03-06T15:26:26.836Z"
   },
   {
    "duration": 12,
    "start_time": "2024-03-06T15:27:03.712Z"
   },
   {
    "duration": 8,
    "start_time": "2024-03-06T15:27:09.792Z"
   },
   {
    "duration": 27,
    "start_time": "2024-03-06T15:27:19.748Z"
   },
   {
    "duration": 4,
    "start_time": "2024-03-06T20:49:27.278Z"
   },
   {
    "duration": 11,
    "start_time": "2024-03-06T20:50:11.221Z"
   },
   {
    "duration": 10,
    "start_time": "2024-03-06T20:50:24.413Z"
   },
   {
    "duration": 16,
    "start_time": "2024-03-06T20:50:30.990Z"
   },
   {
    "duration": 29,
    "start_time": "2024-03-06T20:51:31.341Z"
   },
   {
    "duration": 18,
    "start_time": "2024-03-06T20:51:59.057Z"
   },
   {
    "duration": 9,
    "start_time": "2024-03-06T20:54:26.889Z"
   },
   {
    "duration": 31,
    "start_time": "2024-03-06T20:56:19.711Z"
   },
   {
    "duration": 31,
    "start_time": "2024-03-06T20:56:48.524Z"
   },
   {
    "duration": 63,
    "start_time": "2024-03-06T20:57:19.696Z"
   },
   {
    "duration": 34,
    "start_time": "2024-03-06T20:57:35.828Z"
   },
   {
    "duration": 5,
    "start_time": "2024-03-06T20:59:42.892Z"
   },
   {
    "duration": 4,
    "start_time": "2024-03-06T20:59:51.100Z"
   },
   {
    "duration": 13,
    "start_time": "2024-03-06T21:01:35.688Z"
   },
   {
    "duration": 66,
    "start_time": "2024-03-06T21:01:43.919Z"
   },
   {
    "duration": 14,
    "start_time": "2024-03-06T21:01:45.359Z"
   },
   {
    "duration": 13817,
    "start_time": "2024-03-06T21:02:08.176Z"
   },
   {
    "duration": 1155,
    "start_time": "2024-03-06T21:04:52.020Z"
   },
   {
    "duration": 23,
    "start_time": "2024-03-06T21:05:09.628Z"
   },
   {
    "duration": 9,
    "start_time": "2024-03-06T21:07:27.988Z"
   },
   {
    "duration": 90,
    "start_time": "2024-03-06T21:11:52.541Z"
   },
   {
    "duration": 4,
    "start_time": "2024-03-06T21:11:57.649Z"
   },
   {
    "duration": 20220,
    "start_time": "2024-03-06T21:12:10.245Z"
   },
   {
    "duration": 3,
    "start_time": "2024-03-06T21:12:43.299Z"
   },
   {
    "duration": 25529,
    "start_time": "2024-03-06T21:12:43.760Z"
   },
   {
    "duration": 4,
    "start_time": "2024-03-06T21:13:40.868Z"
   },
   {
    "duration": 16,
    "start_time": "2024-03-06T21:13:42.913Z"
   },
   {
    "duration": 4,
    "start_time": "2024-03-06T21:14:23.509Z"
   },
   {
    "duration": 2,
    "start_time": "2024-03-06T21:14:23.933Z"
   },
   {
    "duration": 4,
    "start_time": "2024-03-06T21:14:24.361Z"
   },
   {
    "duration": 25651,
    "start_time": "2024-03-06T21:14:24.825Z"
   },
   {
    "duration": 4,
    "start_time": "2024-03-06T21:14:50.479Z"
   },
   {
    "duration": 40,
    "start_time": "2024-03-06T21:14:50.484Z"
   },
   {
    "duration": 4,
    "start_time": "2024-03-06T21:15:28.588Z"
   },
   {
    "duration": 16,
    "start_time": "2024-03-06T21:15:29.096Z"
   },
   {
    "duration": 4,
    "start_time": "2024-03-06T21:16:07.380Z"
   },
   {
    "duration": 4,
    "start_time": "2024-03-06T21:16:37.376Z"
   },
   {
    "duration": 8110,
    "start_time": "2024-03-06T21:16:37.938Z"
   },
   {
    "duration": 4,
    "start_time": "2024-03-06T21:16:50.285Z"
   },
   {
    "duration": 17,
    "start_time": "2024-03-06T21:16:51.596Z"
   },
   {
    "duration": 5,
    "start_time": "2024-03-06T21:17:42.005Z"
   },
   {
    "duration": 87676,
    "start_time": "2024-03-06T21:17:42.165Z"
   },
   {
    "duration": 4,
    "start_time": "2024-03-06T21:19:09.844Z"
   },
   {
    "duration": 48,
    "start_time": "2024-03-06T21:19:09.850Z"
   },
   {
    "duration": 4,
    "start_time": "2024-03-06T21:21:02.900Z"
   },
   {
    "duration": 1586,
    "start_time": "2024-03-06T21:21:03.496Z"
   },
   {
    "duration": 4,
    "start_time": "2024-03-06T21:21:11.252Z"
   },
   {
    "duration": 15,
    "start_time": "2024-03-06T21:21:11.964Z"
   },
   {
    "duration": 554049,
    "start_time": "2024-03-06T21:21:28.345Z"
   },
   {
    "duration": 0,
    "start_time": "2024-03-06T21:30:42.396Z"
   },
   {
    "duration": 0,
    "start_time": "2024-03-06T21:30:42.397Z"
   },
   {
    "duration": 4,
    "start_time": "2024-03-06T21:32:01.992Z"
   },
   {
    "duration": 16,
    "start_time": "2024-03-06T21:32:03.219Z"
   },
   {
    "duration": 4,
    "start_time": "2024-03-06T21:32:23.595Z"
   },
   {
    "duration": 1487,
    "start_time": "2024-03-06T21:32:24.128Z"
   },
   {
    "duration": 3,
    "start_time": "2024-03-06T21:32:33.949Z"
   },
   {
    "duration": 17,
    "start_time": "2024-03-06T21:32:35.331Z"
   },
   {
    "duration": 13424,
    "start_time": "2024-03-06T21:33:17.167Z"
   },
   {
    "duration": 4,
    "start_time": "2024-03-06T21:33:39.791Z"
   },
   {
    "duration": 15,
    "start_time": "2024-03-06T21:33:40.420Z"
   },
   {
    "duration": 5,
    "start_time": "2024-03-06T21:34:16.559Z"
   },
   {
    "duration": 14505,
    "start_time": "2024-03-06T21:34:17.359Z"
   },
   {
    "duration": 4,
    "start_time": "2024-03-06T21:34:31.866Z"
   },
   {
    "duration": 4,
    "start_time": "2024-03-06T21:34:37.571Z"
   },
   {
    "duration": 18,
    "start_time": "2024-03-06T21:34:38.139Z"
   },
   {
    "duration": 5,
    "start_time": "2024-03-06T21:34:41.667Z"
   },
   {
    "duration": 15512,
    "start_time": "2024-03-06T21:34:41.819Z"
   },
   {
    "duration": 4,
    "start_time": "2024-03-06T21:35:01.768Z"
   },
   {
    "duration": 17,
    "start_time": "2024-03-06T21:35:02.351Z"
   },
   {
    "duration": 11,
    "start_time": "2024-03-06T21:35:40.220Z"
   },
   {
    "duration": 67,
    "start_time": "2024-03-06T21:36:06.107Z"
   },
   {
    "duration": 13,
    "start_time": "2024-03-06T21:36:30.297Z"
   },
   {
    "duration": 3,
    "start_time": "2024-03-06T21:36:59.068Z"
   },
   {
    "duration": 58,
    "start_time": "2024-03-06T21:37:00.931Z"
   },
   {
    "duration": 4161,
    "start_time": "2024-03-06T21:37:03.543Z"
   },
   {
    "duration": 10,
    "start_time": "2024-03-06T21:38:24.099Z"
   },
   {
    "duration": 10,
    "start_time": "2024-03-06T21:38:30.514Z"
   },
   {
    "duration": 76,
    "start_time": "2024-03-06T21:39:22.444Z"
   },
   {
    "duration": 17,
    "start_time": "2024-03-06T21:39:27.555Z"
   },
   {
    "duration": 187,
    "start_time": "2024-03-06T21:39:37.555Z"
   },
   {
    "duration": 397,
    "start_time": "2024-03-06T21:40:16.720Z"
   },
   {
    "duration": 372,
    "start_time": "2024-03-06T21:40:46.300Z"
   },
   {
    "duration": 4,
    "start_time": "2024-03-06T21:41:38.516Z"
   },
   {
    "duration": 15747,
    "start_time": "2024-03-06T21:41:38.699Z"
   },
   {
    "duration": 4,
    "start_time": "2024-03-06T21:41:54.448Z"
   },
   {
    "duration": 24,
    "start_time": "2024-03-06T21:41:54.453Z"
   },
   {
    "duration": 8,
    "start_time": "2024-03-06T21:43:38.520Z"
   },
   {
    "duration": 4,
    "start_time": "2024-03-06T21:43:45.124Z"
   },
   {
    "duration": 3,
    "start_time": "2024-03-06T21:44:29.704Z"
   },
   {
    "duration": 369,
    "start_time": "2024-03-06T21:44:39.540Z"
   },
   {
    "duration": 51,
    "start_time": "2024-03-06T21:45:42.672Z"
   },
   {
    "duration": 400,
    "start_time": "2024-03-06T21:45:48.112Z"
   },
   {
    "duration": 3,
    "start_time": "2024-03-06T21:45:55.008Z"
   },
   {
    "duration": 391,
    "start_time": "2024-03-06T21:46:03.916Z"
   },
   {
    "duration": 7,
    "start_time": "2024-03-06T21:46:05.000Z"
   },
   {
    "duration": 5,
    "start_time": "2024-03-06T21:47:18.612Z"
   },
   {
    "duration": 10,
    "start_time": "2024-03-06T21:47:48.768Z"
   },
   {
    "duration": 7,
    "start_time": "2024-03-06T21:48:03.912Z"
   },
   {
    "duration": 3,
    "start_time": "2024-03-06T21:53:16.227Z"
   },
   {
    "duration": 4,
    "start_time": "2024-03-06T21:54:10.808Z"
   },
   {
    "duration": 4,
    "start_time": "2024-03-07T09:17:19.200Z"
   },
   {
    "duration": 6,
    "start_time": "2024-03-07T09:17:29.543Z"
   },
   {
    "duration": 5,
    "start_time": "2024-03-07T09:17:54.635Z"
   },
   {
    "duration": 5,
    "start_time": "2024-03-07T09:18:08.476Z"
   },
   {
    "duration": 4,
    "start_time": "2024-03-07T09:18:52.359Z"
   },
   {
    "duration": 6,
    "start_time": "2024-03-07T09:18:52.947Z"
   },
   {
    "duration": 18,
    "start_time": "2024-03-07T09:20:53.427Z"
   },
   {
    "duration": 357,
    "start_time": "2024-03-07T09:23:08.159Z"
   },
   {
    "duration": 4,
    "start_time": "2024-03-07T09:23:44.887Z"
   },
   {
    "duration": 319,
    "start_time": "2024-03-07T09:23:48.091Z"
   },
   {
    "duration": 7,
    "start_time": "2024-03-07T09:24:28.651Z"
   },
   {
    "duration": 4,
    "start_time": "2024-03-07T09:24:36.787Z"
   },
   {
    "duration": 10,
    "start_time": "2024-03-07T09:25:52.013Z"
   },
   {
    "duration": 306,
    "start_time": "2024-03-07T09:26:13.519Z"
   },
   {
    "duration": 263,
    "start_time": "2024-03-07T09:26:22.947Z"
   },
   {
    "duration": 273,
    "start_time": "2024-03-07T09:26:27.623Z"
   },
   {
    "duration": 7,
    "start_time": "2024-03-07T09:26:37.759Z"
   },
   {
    "duration": 4,
    "start_time": "2024-03-07T09:26:38.527Z"
   },
   {
    "duration": 284,
    "start_time": "2024-03-07T09:27:20.023Z"
   },
   {
    "duration": 232,
    "start_time": "2024-03-07T09:27:26.272Z"
   },
   {
    "duration": 232,
    "start_time": "2024-03-07T09:27:30.779Z"
   },
   {
    "duration": 292,
    "start_time": "2024-03-07T09:30:02.815Z"
   },
   {
    "duration": 278,
    "start_time": "2024-03-07T09:30:22.626Z"
   },
   {
    "duration": 4,
    "start_time": "2024-03-07T09:32:45.579Z"
   },
   {
    "duration": 5,
    "start_time": "2024-03-07T09:32:48.302Z"
   },
   {
    "duration": 3,
    "start_time": "2024-03-07T09:33:07.186Z"
   },
   {
    "duration": 9,
    "start_time": "2024-03-07T09:33:12.250Z"
   },
   {
    "duration": 4,
    "start_time": "2024-03-07T09:33:45.762Z"
   },
   {
    "duration": 3,
    "start_time": "2024-03-07T09:33:46.274Z"
   },
   {
    "duration": 4,
    "start_time": "2024-03-07T09:33:48.123Z"
   },
   {
    "duration": 15820,
    "start_time": "2024-03-07T09:33:48.671Z"
   },
   {
    "duration": 4,
    "start_time": "2024-03-07T09:34:04.493Z"
   },
   {
    "duration": 54,
    "start_time": "2024-03-07T09:34:04.499Z"
   },
   {
    "duration": 11,
    "start_time": "2024-03-07T09:36:02.368Z"
   },
   {
    "duration": 9,
    "start_time": "2024-03-07T09:36:32.148Z"
   },
   {
    "duration": 17,
    "start_time": "2024-03-07T09:38:17.086Z"
   },
   {
    "duration": 20,
    "start_time": "2024-03-07T09:40:31.925Z"
   },
   {
    "duration": 16,
    "start_time": "2024-03-07T09:40:59.384Z"
   },
   {
    "duration": 18,
    "start_time": "2024-03-07T09:41:13.376Z"
   },
   {
    "duration": 4,
    "start_time": "2024-03-07T09:41:31.460Z"
   },
   {
    "duration": 5,
    "start_time": "2024-03-07T09:41:56.657Z"
   },
   {
    "duration": 3221,
    "start_time": "2024-03-07T09:44:36.561Z"
   },
   {
    "duration": 7,
    "start_time": "2024-03-07T09:46:20.077Z"
   },
   {
    "duration": 4,
    "start_time": "2024-03-07T09:48:03.466Z"
   },
   {
    "duration": 71,
    "start_time": "2024-03-07T09:50:47.634Z"
   },
   {
    "duration": 26,
    "start_time": "2024-03-07T09:50:56.670Z"
   },
   {
    "duration": 1117,
    "start_time": "2024-03-07T09:51:08.678Z"
   },
   {
    "duration": 4,
    "start_time": "2024-03-07T09:52:57.950Z"
   },
   {
    "duration": 2,
    "start_time": "2024-03-07T09:52:58.362Z"
   },
   {
    "duration": 4,
    "start_time": "2024-03-07T09:52:58.798Z"
   },
   {
    "duration": 16655,
    "start_time": "2024-03-07T09:52:59.354Z"
   },
   {
    "duration": 4,
    "start_time": "2024-03-07T09:53:16.011Z"
   },
   {
    "duration": 23,
    "start_time": "2024-03-07T09:53:16.024Z"
   },
   {
    "duration": 10,
    "start_time": "2024-03-07T09:53:31.834Z"
   },
   {
    "duration": 9,
    "start_time": "2024-03-07T09:53:32.754Z"
   },
   {
    "duration": 8,
    "start_time": "2024-03-07T09:53:56.114Z"
   },
   {
    "duration": 12,
    "start_time": "2024-03-07T09:53:56.554Z"
   },
   {
    "duration": 7,
    "start_time": "2024-03-07T09:54:01.926Z"
   },
   {
    "duration": 7,
    "start_time": "2024-03-07T09:54:12.002Z"
   },
   {
    "duration": 4,
    "start_time": "2024-03-07T09:55:56.534Z"
   },
   {
    "duration": 15674,
    "start_time": "2024-03-07T09:55:57.258Z"
   },
   {
    "duration": 4,
    "start_time": "2024-03-07T09:56:12.934Z"
   },
   {
    "duration": 21,
    "start_time": "2024-03-07T09:56:12.940Z"
   },
   {
    "duration": 4,
    "start_time": "2024-03-07T09:56:24.906Z"
   },
   {
    "duration": 17462,
    "start_time": "2024-03-07T09:56:25.318Z"
   },
   {
    "duration": 3,
    "start_time": "2024-03-07T09:56:42.782Z"
   },
   {
    "duration": 27,
    "start_time": "2024-03-07T09:56:42.787Z"
   },
   {
    "duration": 3,
    "start_time": "2024-03-07T09:56:50.498Z"
   },
   {
    "duration": 15739,
    "start_time": "2024-03-07T09:56:50.798Z"
   },
   {
    "duration": 4,
    "start_time": "2024-03-07T09:57:06.539Z"
   },
   {
    "duration": 94,
    "start_time": "2024-03-07T09:57:06.545Z"
   },
   {
    "duration": 4,
    "start_time": "2024-03-07T09:57:14.478Z"
   },
   {
    "duration": 17216,
    "start_time": "2024-03-07T09:57:15.898Z"
   },
   {
    "duration": 7,
    "start_time": "2024-03-07T09:57:33.117Z"
   },
   {
    "duration": 38,
    "start_time": "2024-03-07T09:57:33.126Z"
   },
   {
    "duration": 5,
    "start_time": "2024-03-07T09:59:02.154Z"
   },
   {
    "duration": 16178,
    "start_time": "2024-03-07T09:59:02.558Z"
   },
   {
    "duration": 4,
    "start_time": "2024-03-07T09:59:18.739Z"
   },
   {
    "duration": 21,
    "start_time": "2024-03-07T09:59:18.744Z"
   },
   {
    "duration": 4,
    "start_time": "2024-03-07T10:01:23.026Z"
   },
   {
    "duration": 10,
    "start_time": "2024-03-07T10:01:23.515Z"
   },
   {
    "duration": 8,
    "start_time": "2024-03-07T10:01:25.674Z"
   },
   {
    "duration": 7,
    "start_time": "2024-03-07T10:01:26.218Z"
   },
   {
    "duration": 15,
    "start_time": "2024-03-07T10:01:41.878Z"
   },
   {
    "duration": 14,
    "start_time": "2024-03-07T10:01:58.486Z"
   },
   {
    "duration": 5,
    "start_time": "2024-03-07T10:02:51.222Z"
   },
   {
    "duration": 3,
    "start_time": "2024-03-07T10:03:03.978Z"
   },
   {
    "duration": 11,
    "start_time": "2024-03-07T10:03:05.546Z"
   },
   {
    "duration": 8,
    "start_time": "2024-03-07T10:03:06.018Z"
   },
   {
    "duration": 7,
    "start_time": "2024-03-07T10:03:06.526Z"
   },
   {
    "duration": 4,
    "start_time": "2024-03-07T10:03:11.626Z"
   },
   {
    "duration": 9,
    "start_time": "2024-03-07T10:03:11.815Z"
   },
   {
    "duration": 6,
    "start_time": "2024-03-07T10:03:13.746Z"
   },
   {
    "duration": 7,
    "start_time": "2024-03-07T10:03:14.642Z"
   },
   {
    "duration": 4,
    "start_time": "2024-03-07T10:03:19.074Z"
   },
   {
    "duration": 13,
    "start_time": "2024-03-07T10:03:19.494Z"
   },
   {
    "duration": 7,
    "start_time": "2024-03-07T10:03:19.938Z"
   },
   {
    "duration": 8,
    "start_time": "2024-03-07T10:03:20.430Z"
   },
   {
    "duration": 3,
    "start_time": "2024-03-07T10:03:51.026Z"
   },
   {
    "duration": 9,
    "start_time": "2024-03-07T10:03:52.383Z"
   },
   {
    "duration": 7,
    "start_time": "2024-03-07T10:03:52.882Z"
   },
   {
    "duration": 6,
    "start_time": "2024-03-07T10:03:53.458Z"
   },
   {
    "duration": 3,
    "start_time": "2024-03-07T10:03:56.502Z"
   },
   {
    "duration": 9,
    "start_time": "2024-03-07T10:03:57.282Z"
   },
   {
    "duration": 6,
    "start_time": "2024-03-07T10:03:57.766Z"
   },
   {
    "duration": 9,
    "start_time": "2024-03-07T10:03:58.206Z"
   },
   {
    "duration": 3,
    "start_time": "2024-03-07T10:04:08.442Z"
   },
   {
    "duration": 9,
    "start_time": "2024-03-07T10:04:09.086Z"
   },
   {
    "duration": 6,
    "start_time": "2024-03-07T10:04:09.566Z"
   },
   {
    "duration": 6,
    "start_time": "2024-03-07T10:04:09.990Z"
   },
   {
    "duration": 3,
    "start_time": "2024-03-07T10:04:12.378Z"
   },
   {
    "duration": 10,
    "start_time": "2024-03-07T10:04:12.710Z"
   },
   {
    "duration": 7,
    "start_time": "2024-03-07T10:04:13.086Z"
   },
   {
    "duration": 8,
    "start_time": "2024-03-07T10:04:13.518Z"
   },
   {
    "duration": 3,
    "start_time": "2024-03-07T10:04:16.066Z"
   },
   {
    "duration": 10,
    "start_time": "2024-03-07T10:04:16.566Z"
   },
   {
    "duration": 7,
    "start_time": "2024-03-07T10:04:17.050Z"
   },
   {
    "duration": 7,
    "start_time": "2024-03-07T10:04:17.642Z"
   },
   {
    "duration": 3,
    "start_time": "2024-03-07T10:04:21.798Z"
   },
   {
    "duration": 10,
    "start_time": "2024-03-07T10:04:22.438Z"
   },
   {
    "duration": 6,
    "start_time": "2024-03-07T10:04:22.982Z"
   },
   {
    "duration": 6,
    "start_time": "2024-03-07T10:04:23.478Z"
   },
   {
    "duration": 72,
    "start_time": "2024-03-07T10:07:06.910Z"
   },
   {
    "duration": 5,
    "start_time": "2024-03-07T10:07:14.797Z"
   },
   {
    "duration": 6284,
    "start_time": "2024-03-07T10:07:15.483Z"
   },
   {
    "duration": 4,
    "start_time": "2024-03-07T10:07:43.002Z"
   },
   {
    "duration": 393,
    "start_time": "2024-03-07T10:07:43.673Z"
   },
   {
    "duration": 4,
    "start_time": "2024-03-07T10:08:50.534Z"
   },
   {
    "duration": 17585,
    "start_time": "2024-03-07T10:08:50.693Z"
   },
   {
    "duration": 4,
    "start_time": "2024-03-07T10:09:08.280Z"
   },
   {
    "duration": 42,
    "start_time": "2024-03-07T10:09:08.287Z"
   },
   {
    "duration": 15,
    "start_time": "2024-03-07T10:13:55.241Z"
   },
   {
    "duration": 16,
    "start_time": "2024-03-07T10:18:45.360Z"
   },
   {
    "duration": 16,
    "start_time": "2024-03-07T10:19:42.560Z"
   },
   {
    "duration": 612,
    "start_time": "2024-03-07T10:20:36.304Z"
   },
   {
    "duration": 2728,
    "start_time": "2024-03-07T10:22:14.083Z"
   },
   {
    "duration": 43,
    "start_time": "2024-03-07T10:22:23.728Z"
   },
   {
    "duration": 20,
    "start_time": "2024-03-07T10:23:29.783Z"
   },
   {
    "duration": 21,
    "start_time": "2024-03-07T10:24:20.552Z"
   },
   {
    "duration": 5,
    "start_time": "2024-03-07T10:24:36.691Z"
   },
   {
    "duration": 18,
    "start_time": "2024-03-07T10:24:40.763Z"
   },
   {
    "duration": 9,
    "start_time": "2024-03-07T10:25:18.387Z"
   },
   {
    "duration": 40,
    "start_time": "2024-03-07T10:25:25.423Z"
   },
   {
    "duration": 26,
    "start_time": "2024-03-07T10:25:47.623Z"
   },
   {
    "duration": 26,
    "start_time": "2024-03-07T10:26:18.951Z"
   },
   {
    "duration": 8,
    "start_time": "2024-03-07T10:26:27.859Z"
   },
   {
    "duration": 20,
    "start_time": "2024-03-07T10:28:51.599Z"
   },
   {
    "duration": 253,
    "start_time": "2024-03-07T10:29:46.567Z"
   },
   {
    "duration": 281,
    "start_time": "2024-03-07T10:30:07.363Z"
   },
   {
    "duration": 1297,
    "start_time": "2024-03-07T10:30:22.023Z"
   },
   {
    "duration": 1068,
    "start_time": "2024-03-07T10:30:50.383Z"
   },
   {
    "duration": 1180,
    "start_time": "2024-03-07T10:30:58.002Z"
   },
   {
    "duration": 5,
    "start_time": "2024-03-07T10:32:12.915Z"
   },
   {
    "duration": 2728,
    "start_time": "2024-03-07T10:32:50.623Z"
   },
   {
    "duration": 2541,
    "start_time": "2024-03-07T10:32:53.353Z"
   },
   {
    "duration": 80,
    "start_time": "2024-03-07T10:32:55.896Z"
   },
   {
    "duration": 13,
    "start_time": "2024-03-07T10:32:55.978Z"
   },
   {
    "duration": 18,
    "start_time": "2024-03-07T10:32:55.993Z"
   },
   {
    "duration": 14,
    "start_time": "2024-03-07T10:32:56.013Z"
   },
   {
    "duration": 25,
    "start_time": "2024-03-07T10:32:56.029Z"
   },
   {
    "duration": 13,
    "start_time": "2024-03-07T10:32:56.056Z"
   },
   {
    "duration": 39,
    "start_time": "2024-03-07T10:32:56.070Z"
   },
   {
    "duration": 19,
    "start_time": "2024-03-07T10:32:56.112Z"
   },
   {
    "duration": 26,
    "start_time": "2024-03-07T10:32:56.133Z"
   },
   {
    "duration": 7,
    "start_time": "2024-03-07T10:32:56.161Z"
   },
   {
    "duration": 9,
    "start_time": "2024-03-07T10:32:56.169Z"
   },
   {
    "duration": 19,
    "start_time": "2024-03-07T10:32:56.179Z"
   },
   {
    "duration": 155,
    "start_time": "2024-03-07T10:32:56.199Z"
   },
   {
    "duration": 116,
    "start_time": "2024-03-07T10:32:56.356Z"
   },
   {
    "duration": 119,
    "start_time": "2024-03-07T10:32:56.474Z"
   },
   {
    "duration": 179,
    "start_time": "2024-03-07T10:32:56.594Z"
   },
   {
    "duration": 110,
    "start_time": "2024-03-07T10:32:56.776Z"
   },
   {
    "duration": 113,
    "start_time": "2024-03-07T10:32:56.888Z"
   },
   {
    "duration": 137,
    "start_time": "2024-03-07T10:32:57.003Z"
   },
   {
    "duration": 204,
    "start_time": "2024-03-07T10:32:57.142Z"
   },
   {
    "duration": 118,
    "start_time": "2024-03-07T10:32:57.347Z"
   },
   {
    "duration": 5,
    "start_time": "2024-03-07T10:32:57.467Z"
   },
   {
    "duration": 226,
    "start_time": "2024-03-07T10:32:57.474Z"
   },
   {
    "duration": 4,
    "start_time": "2024-03-07T10:32:57.701Z"
   },
   {
    "duration": 17,
    "start_time": "2024-03-07T10:32:57.706Z"
   },
   {
    "duration": 5,
    "start_time": "2024-03-07T10:32:57.727Z"
   },
   {
    "duration": 5,
    "start_time": "2024-03-07T10:32:57.734Z"
   },
   {
    "duration": 4,
    "start_time": "2024-03-07T10:32:57.741Z"
   },
   {
    "duration": 6,
    "start_time": "2024-03-07T10:32:57.747Z"
   },
   {
    "duration": 16465,
    "start_time": "2024-03-07T10:32:57.755Z"
   },
   {
    "duration": 4,
    "start_time": "2024-03-07T10:33:14.223Z"
   },
   {
    "duration": 37,
    "start_time": "2024-03-07T10:33:14.228Z"
   },
   {
    "duration": 9,
    "start_time": "2024-03-07T10:33:14.267Z"
   },
   {
    "duration": 190,
    "start_time": "2024-03-07T10:33:14.277Z"
   },
   {
    "duration": 0,
    "start_time": "2024-03-07T10:33:14.468Z"
   },
   {
    "duration": 0,
    "start_time": "2024-03-07T10:33:14.469Z"
   },
   {
    "duration": 0,
    "start_time": "2024-03-07T10:33:14.470Z"
   },
   {
    "duration": 0,
    "start_time": "2024-03-07T10:33:14.472Z"
   },
   {
    "duration": 0,
    "start_time": "2024-03-07T10:33:14.473Z"
   },
   {
    "duration": 0,
    "start_time": "2024-03-07T10:33:14.474Z"
   },
   {
    "duration": 0,
    "start_time": "2024-03-07T10:33:14.475Z"
   },
   {
    "duration": 0,
    "start_time": "2024-03-07T10:33:14.476Z"
   },
   {
    "duration": 0,
    "start_time": "2024-03-07T10:33:14.477Z"
   },
   {
    "duration": 0,
    "start_time": "2024-03-07T10:33:14.478Z"
   },
   {
    "duration": 0,
    "start_time": "2024-03-07T10:33:14.479Z"
   },
   {
    "duration": 0,
    "start_time": "2024-03-07T10:33:14.480Z"
   },
   {
    "duration": 0,
    "start_time": "2024-03-07T10:33:14.481Z"
   },
   {
    "duration": 0,
    "start_time": "2024-03-07T10:33:14.482Z"
   },
   {
    "duration": 0,
    "start_time": "2024-03-07T10:33:14.484Z"
   },
   {
    "duration": 0,
    "start_time": "2024-03-07T10:33:14.485Z"
   },
   {
    "duration": 40,
    "start_time": "2024-03-07T10:33:57.926Z"
   },
   {
    "duration": 4,
    "start_time": "2024-03-07T10:33:58.355Z"
   },
   {
    "duration": 13,
    "start_time": "2024-03-07T10:33:58.978Z"
   },
   {
    "duration": 7,
    "start_time": "2024-03-07T10:34:01.283Z"
   },
   {
    "duration": 8,
    "start_time": "2024-03-07T10:34:01.986Z"
   },
   {
    "duration": 1441,
    "start_time": "2024-03-07T10:34:04.279Z"
   },
   {
    "duration": 4,
    "start_time": "2024-03-07T10:36:57.827Z"
   },
   {
    "duration": 13,
    "start_time": "2024-03-07T10:37:04.102Z"
   },
   {
    "duration": 75600,
    "start_time": "2024-03-07T10:37:35.070Z"
   },
   {
    "duration": 4,
    "start_time": "2024-03-07T10:39:13.887Z"
   },
   {
    "duration": 13864,
    "start_time": "2024-03-07T10:39:14.302Z"
   },
   {
    "duration": 4,
    "start_time": "2024-03-07T10:39:56.418Z"
   },
   {
    "duration": 5,
    "start_time": "2024-03-07T10:39:59.275Z"
   },
   {
    "duration": 5,
    "start_time": "2024-03-07T10:40:01.238Z"
   },
   {
    "duration": 5183,
    "start_time": "2024-03-07T10:40:09.126Z"
   },
   {
    "duration": 12,
    "start_time": "2024-03-07T10:40:41.131Z"
   },
   {
    "duration": 4,
    "start_time": "2024-03-07T10:41:43.155Z"
   },
   {
    "duration": 10,
    "start_time": "2024-03-07T10:43:37.555Z"
   },
   {
    "duration": 17958,
    "start_time": "2024-03-07T10:44:26.034Z"
   },
   {
    "duration": 12,
    "start_time": "2024-03-07T10:47:36.931Z"
   },
   {
    "duration": 5956,
    "start_time": "2024-03-07T10:47:47.983Z"
   },
   {
    "duration": 16455,
    "start_time": "2024-03-07T10:48:02.271Z"
   },
   {
    "duration": 3,
    "start_time": "2024-03-07T10:48:46.748Z"
   },
   {
    "duration": 16863,
    "start_time": "2024-03-07T10:48:53.162Z"
   },
   {
    "duration": 8,
    "start_time": "2024-03-07T12:56:15.425Z"
   },
   {
    "duration": 16797,
    "start_time": "2024-03-07T12:56:28.368Z"
   },
   {
    "duration": 4,
    "start_time": "2024-03-07T12:57:18.451Z"
   },
   {
    "duration": 8136,
    "start_time": "2024-03-07T12:57:27.408Z"
   },
   {
    "duration": 8,
    "start_time": "2024-03-07T12:59:12.275Z"
   },
   {
    "duration": 8,
    "start_time": "2024-03-07T12:59:12.911Z"
   },
   {
    "duration": 1190,
    "start_time": "2024-03-07T12:59:13.511Z"
   },
   {
    "duration": 15,
    "start_time": "2024-03-07T12:59:39.431Z"
   },
   {
    "duration": 27,
    "start_time": "2024-03-07T13:00:26.435Z"
   },
   {
    "duration": 10,
    "start_time": "2024-03-07T13:00:33.695Z"
   },
   {
    "duration": 206,
    "start_time": "2024-03-07T13:00:37.118Z"
   },
   {
    "duration": 348,
    "start_time": "2024-03-07T13:01:59.226Z"
   },
   {
    "duration": 14,
    "start_time": "2024-03-07T13:09:28.078Z"
   },
   {
    "duration": 164,
    "start_time": "2024-03-07T13:09:39.154Z"
   },
   {
    "duration": 10,
    "start_time": "2024-03-07T13:09:53.270Z"
   },
   {
    "duration": 13,
    "start_time": "2024-03-07T13:10:26.950Z"
   },
   {
    "duration": 13,
    "start_time": "2024-03-07T13:10:57.917Z"
   },
   {
    "duration": 74,
    "start_time": "2024-03-07T13:11:21.493Z"
   },
   {
    "duration": 11,
    "start_time": "2024-03-07T13:11:23.445Z"
   },
   {
    "duration": 15,
    "start_time": "2024-03-07T13:11:45.425Z"
   },
   {
    "duration": 12,
    "start_time": "2024-03-07T13:11:51.805Z"
   },
   {
    "duration": 4,
    "start_time": "2024-03-07T13:21:17.144Z"
   },
   {
    "duration": 7862,
    "start_time": "2024-03-07T13:21:25.440Z"
   },
   {
    "duration": 16180,
    "start_time": "2024-03-07T13:22:24.200Z"
   },
   {
    "duration": 4,
    "start_time": "2024-03-07T13:22:40.382Z"
   },
   {
    "duration": 17,
    "start_time": "2024-03-07T13:22:40.388Z"
   },
   {
    "duration": 9,
    "start_time": "2024-03-07T13:23:01.672Z"
   },
   {
    "duration": 9,
    "start_time": "2024-03-07T13:23:02.360Z"
   },
   {
    "duration": 7,
    "start_time": "2024-03-07T13:23:02.787Z"
   },
   {
    "duration": 14,
    "start_time": "2024-03-07T13:24:17.124Z"
   },
   {
    "duration": 1065,
    "start_time": "2024-03-07T13:24:25.760Z"
   },
   {
    "duration": 4,
    "start_time": "2024-03-07T13:25:03.388Z"
   },
   {
    "duration": 9,
    "start_time": "2024-03-07T13:25:14.548Z"
   },
   {
    "duration": 8,
    "start_time": "2024-03-07T13:25:16.156Z"
   },
   {
    "duration": 7,
    "start_time": "2024-03-07T13:25:20.271Z"
   },
   {
    "duration": 1073,
    "start_time": "2024-03-07T13:25:21.487Z"
   },
   {
    "duration": 7,
    "start_time": "2024-03-07T13:26:09.307Z"
   },
   {
    "duration": 23,
    "start_time": "2024-03-07T13:27:52.088Z"
   },
   {
    "duration": 17,
    "start_time": "2024-03-07T13:27:57.939Z"
   },
   {
    "duration": 17,
    "start_time": "2024-03-07T13:28:47.871Z"
   },
   {
    "duration": 20,
    "start_time": "2024-03-07T13:28:59.403Z"
   },
   {
    "duration": 5,
    "start_time": "2024-03-07T13:29:15.434Z"
   },
   {
    "duration": 17412,
    "start_time": "2024-03-07T13:29:16.067Z"
   },
   {
    "duration": 4,
    "start_time": "2024-03-07T13:29:33.481Z"
   },
   {
    "duration": 123,
    "start_time": "2024-03-07T13:29:33.486Z"
   },
   {
    "duration": 370,
    "start_time": "2024-03-07T13:29:41.160Z"
   },
   {
    "duration": 3,
    "start_time": "2024-03-07T13:29:41.580Z"
   },
   {
    "duration": 9,
    "start_time": "2024-03-07T13:29:45.459Z"
   },
   {
    "duration": 7,
    "start_time": "2024-03-07T13:29:45.667Z"
   },
   {
    "duration": 7,
    "start_time": "2024-03-07T13:29:46.295Z"
   },
   {
    "duration": 1115,
    "start_time": "2024-03-07T13:29:48.167Z"
   },
   {
    "duration": 3,
    "start_time": "2024-03-07T13:30:29.707Z"
   },
   {
    "duration": 336,
    "start_time": "2024-03-07T13:30:31.389Z"
   },
   {
    "duration": 3,
    "start_time": "2024-03-07T13:31:09.899Z"
   },
   {
    "duration": 5,
    "start_time": "2024-03-07T13:31:10.299Z"
   },
   {
    "duration": 6,
    "start_time": "2024-03-07T13:31:10.706Z"
   },
   {
    "duration": 4,
    "start_time": "2024-03-07T13:31:12.771Z"
   },
   {
    "duration": 3,
    "start_time": "2024-03-07T13:31:13.092Z"
   },
   {
    "duration": 5,
    "start_time": "2024-03-07T13:31:13.516Z"
   },
   {
    "duration": 16459,
    "start_time": "2024-03-07T13:31:14.951Z"
   },
   {
    "duration": 5,
    "start_time": "2024-03-07T13:31:31.412Z"
   },
   {
    "duration": 96,
    "start_time": "2024-03-07T13:31:31.423Z"
   },
   {
    "duration": 94,
    "start_time": "2024-03-07T13:31:31.522Z"
   },
   {
    "duration": 3,
    "start_time": "2024-03-07T13:31:52.231Z"
   },
   {
    "duration": 10,
    "start_time": "2024-03-07T13:31:54.130Z"
   },
   {
    "duration": 6,
    "start_time": "2024-03-07T13:31:56.087Z"
   },
   {
    "duration": 6,
    "start_time": "2024-03-07T13:31:56.783Z"
   },
   {
    "duration": 1260,
    "start_time": "2024-03-07T13:31:58.407Z"
   },
   {
    "duration": 15,
    "start_time": "2024-03-07T13:32:17.983Z"
   },
   {
    "duration": 20,
    "start_time": "2024-03-07T13:32:34.899Z"
   },
   {
    "duration": 10,
    "start_time": "2024-03-07T13:33:32.398Z"
   },
   {
    "duration": 17,
    "start_time": "2024-03-07T13:33:57.546Z"
   },
   {
    "duration": 8,
    "start_time": "2024-03-07T13:34:46.606Z"
   },
   {
    "duration": 25,
    "start_time": "2024-03-07T13:35:33.854Z"
   },
   {
    "duration": 8,
    "start_time": "2024-03-07T13:35:42.070Z"
   },
   {
    "duration": 8,
    "start_time": "2024-03-07T13:35:55.458Z"
   },
   {
    "duration": 10,
    "start_time": "2024-03-07T13:36:08.742Z"
   },
   {
    "duration": 7,
    "start_time": "2024-03-07T13:36:12.723Z"
   },
   {
    "duration": 7,
    "start_time": "2024-03-07T13:36:16.162Z"
   },
   {
    "duration": 13,
    "start_time": "2024-03-07T13:37:21.578Z"
   },
   {
    "duration": 8,
    "start_time": "2024-03-07T13:37:22.049Z"
   },
   {
    "duration": 7,
    "start_time": "2024-03-07T13:37:22.650Z"
   },
   {
    "duration": 9,
    "start_time": "2024-03-07T13:37:35.922Z"
   },
   {
    "duration": 8,
    "start_time": "2024-03-07T13:37:36.438Z"
   },
   {
    "duration": 9,
    "start_time": "2024-03-07T13:37:37.058Z"
   },
   {
    "duration": 13,
    "start_time": "2024-03-07T13:38:06.921Z"
   },
   {
    "duration": 10,
    "start_time": "2024-03-07T13:38:07.454Z"
   },
   {
    "duration": 7,
    "start_time": "2024-03-07T13:38:08.946Z"
   },
   {
    "duration": 13,
    "start_time": "2024-03-07T13:38:22.674Z"
   },
   {
    "duration": 9,
    "start_time": "2024-03-07T13:38:23.201Z"
   },
   {
    "duration": 8,
    "start_time": "2024-03-07T13:38:23.789Z"
   },
   {
    "duration": 11,
    "start_time": "2024-03-07T13:38:39.165Z"
   },
   {
    "duration": 8,
    "start_time": "2024-03-07T13:38:39.610Z"
   },
   {
    "duration": 7,
    "start_time": "2024-03-07T13:38:40.182Z"
   },
   {
    "duration": 10,
    "start_time": "2024-03-07T13:38:48.773Z"
   },
   {
    "duration": 8,
    "start_time": "2024-03-07T13:38:49.241Z"
   },
   {
    "duration": 7,
    "start_time": "2024-03-07T13:38:49.713Z"
   },
   {
    "duration": 10,
    "start_time": "2024-03-07T13:38:59.821Z"
   },
   {
    "duration": 8,
    "start_time": "2024-03-07T13:39:00.297Z"
   },
   {
    "duration": 9,
    "start_time": "2024-03-07T13:39:00.765Z"
   },
   {
    "duration": 10,
    "start_time": "2024-03-07T13:39:17.057Z"
   },
   {
    "duration": 8,
    "start_time": "2024-03-07T13:39:17.806Z"
   },
   {
    "duration": 8,
    "start_time": "2024-03-07T13:39:18.369Z"
   },
   {
    "duration": 17,
    "start_time": "2024-03-07T13:39:41.173Z"
   },
   {
    "duration": 11,
    "start_time": "2024-03-07T13:39:55.549Z"
   },
   {
    "duration": 8,
    "start_time": "2024-03-07T13:39:56.129Z"
   },
   {
    "duration": 7,
    "start_time": "2024-03-07T13:39:56.605Z"
   },
   {
    "duration": 10,
    "start_time": "2024-03-07T13:40:16.829Z"
   },
   {
    "duration": 7,
    "start_time": "2024-03-07T13:40:17.341Z"
   },
   {
    "duration": 8,
    "start_time": "2024-03-07T13:40:17.889Z"
   },
   {
    "duration": 10,
    "start_time": "2024-03-07T13:40:31.689Z"
   },
   {
    "duration": 8,
    "start_time": "2024-03-07T13:40:32.153Z"
   },
   {
    "duration": 7,
    "start_time": "2024-03-07T13:40:32.641Z"
   },
   {
    "duration": 9,
    "start_time": "2024-03-07T13:40:46.161Z"
   },
   {
    "duration": 7,
    "start_time": "2024-03-07T13:40:46.593Z"
   },
   {
    "duration": 9,
    "start_time": "2024-03-07T13:40:46.997Z"
   },
   {
    "duration": 10,
    "start_time": "2024-03-07T13:41:04.549Z"
   },
   {
    "duration": 11,
    "start_time": "2024-03-07T13:41:05.013Z"
   },
   {
    "duration": 4,
    "start_time": "2024-03-07T13:41:05.469Z"
   },
   {
    "duration": 8,
    "start_time": "2024-03-07T13:41:15.385Z"
   },
   {
    "duration": 10,
    "start_time": "2024-03-07T13:41:27.013Z"
   },
   {
    "duration": 9,
    "start_time": "2024-03-07T13:41:27.465Z"
   },
   {
    "duration": 8,
    "start_time": "2024-03-07T13:41:27.925Z"
   },
   {
    "duration": 13,
    "start_time": "2024-03-07T13:41:49.693Z"
   },
   {
    "duration": 7,
    "start_time": "2024-03-07T13:41:50.101Z"
   },
   {
    "duration": 7,
    "start_time": "2024-03-07T13:41:50.537Z"
   },
   {
    "duration": 11,
    "start_time": "2024-03-07T13:42:04.449Z"
   },
   {
    "duration": 9,
    "start_time": "2024-03-07T13:42:04.804Z"
   },
   {
    "duration": 7,
    "start_time": "2024-03-07T13:42:05.173Z"
   },
   {
    "duration": 14,
    "start_time": "2024-03-07T13:42:55.517Z"
   },
   {
    "duration": 19,
    "start_time": "2024-03-07T13:42:56.160Z"
   },
   {
    "duration": 9,
    "start_time": "2024-03-07T13:43:07.300Z"
   },
   {
    "duration": 8,
    "start_time": "2024-03-07T13:43:11.065Z"
   },
   {
    "duration": 11,
    "start_time": "2024-03-07T13:43:24.856Z"
   },
   {
    "duration": 11,
    "start_time": "2024-03-07T13:43:25.308Z"
   },
   {
    "duration": 7,
    "start_time": "2024-03-07T13:43:25.925Z"
   },
   {
    "duration": 11,
    "start_time": "2024-03-07T13:44:01.129Z"
   },
   {
    "duration": 10,
    "start_time": "2024-03-07T13:44:12.541Z"
   },
   {
    "duration": 8,
    "start_time": "2024-03-07T13:44:12.993Z"
   },
   {
    "duration": 8,
    "start_time": "2024-03-07T13:44:14.749Z"
   },
   {
    "duration": 25,
    "start_time": "2024-03-07T13:45:05.896Z"
   },
   {
    "duration": 14,
    "start_time": "2024-03-07T13:45:43.552Z"
   },
   {
    "duration": 12,
    "start_time": "2024-03-07T13:45:53.740Z"
   },
   {
    "duration": 10,
    "start_time": "2024-03-07T13:45:54.648Z"
   },
   {
    "duration": 8,
    "start_time": "2024-03-07T13:45:55.200Z"
   },
   {
    "duration": 10,
    "start_time": "2024-03-07T13:46:45.352Z"
   },
   {
    "duration": 8,
    "start_time": "2024-03-07T13:46:46.284Z"
   },
   {
    "duration": 8,
    "start_time": "2024-03-07T13:46:46.804Z"
   },
   {
    "duration": 10,
    "start_time": "2024-03-07T13:47:05.788Z"
   },
   {
    "duration": 8,
    "start_time": "2024-03-07T13:47:06.515Z"
   },
   {
    "duration": 8,
    "start_time": "2024-03-07T13:47:07.140Z"
   },
   {
    "duration": 9,
    "start_time": "2024-03-07T13:47:16.060Z"
   },
   {
    "duration": 7,
    "start_time": "2024-03-07T13:47:16.487Z"
   },
   {
    "duration": 7,
    "start_time": "2024-03-07T13:47:16.948Z"
   },
   {
    "duration": 11,
    "start_time": "2024-03-07T13:47:45.468Z"
   },
   {
    "duration": 8,
    "start_time": "2024-03-07T13:47:45.884Z"
   },
   {
    "duration": 8,
    "start_time": "2024-03-07T13:47:46.237Z"
   },
   {
    "duration": 1181,
    "start_time": "2024-03-07T18:32:51.683Z"
   },
   {
    "duration": 15,
    "start_time": "2024-03-07T18:34:12.614Z"
   },
   {
    "duration": 12,
    "start_time": "2024-03-07T18:34:23.854Z"
   },
   {
    "duration": 15,
    "start_time": "2024-03-07T18:34:24.183Z"
   },
   {
    "duration": 12,
    "start_time": "2024-03-07T18:34:24.654Z"
   },
   {
    "duration": 44,
    "start_time": "2024-03-07T18:34:42.419Z"
   },
   {
    "duration": 35,
    "start_time": "2024-03-07T18:34:42.870Z"
   },
   {
    "duration": 10,
    "start_time": "2024-03-07T18:34:54.406Z"
   },
   {
    "duration": 35,
    "start_time": "2024-03-07T18:34:55.122Z"
   },
   {
    "duration": 8,
    "start_time": "2024-03-07T18:35:03.190Z"
   },
   {
    "duration": 21,
    "start_time": "2024-03-07T18:35:07.458Z"
   },
   {
    "duration": 8,
    "start_time": "2024-03-07T18:35:15.230Z"
   },
   {
    "duration": 9,
    "start_time": "2024-03-07T18:36:44.002Z"
   },
   {
    "duration": 8,
    "start_time": "2024-03-07T18:36:44.547Z"
   },
   {
    "duration": 9,
    "start_time": "2024-03-07T18:36:44.862Z"
   },
   {
    "duration": 9,
    "start_time": "2024-03-07T18:36:47.982Z"
   },
   {
    "duration": 8,
    "start_time": "2024-03-07T18:36:48.454Z"
   },
   {
    "duration": 8,
    "start_time": "2024-03-07T18:36:48.882Z"
   },
   {
    "duration": 8,
    "start_time": "2024-03-07T18:36:52.027Z"
   },
   {
    "duration": 7,
    "start_time": "2024-03-07T18:36:52.470Z"
   },
   {
    "duration": 7,
    "start_time": "2024-03-07T18:36:52.938Z"
   },
   {
    "duration": 9,
    "start_time": "2024-03-07T18:36:56.754Z"
   },
   {
    "duration": 7,
    "start_time": "2024-03-07T18:36:57.262Z"
   },
   {
    "duration": 9,
    "start_time": "2024-03-07T18:36:57.802Z"
   },
   {
    "duration": 9,
    "start_time": "2024-03-07T18:37:01.726Z"
   },
   {
    "duration": 11,
    "start_time": "2024-03-07T18:37:05.866Z"
   },
   {
    "duration": 8,
    "start_time": "2024-03-07T18:37:06.394Z"
   },
   {
    "duration": 7,
    "start_time": "2024-03-07T18:37:06.978Z"
   },
   {
    "duration": 9,
    "start_time": "2024-03-07T18:37:14.902Z"
   },
   {
    "duration": 9,
    "start_time": "2024-03-07T18:37:15.522Z"
   },
   {
    "duration": 8,
    "start_time": "2024-03-07T18:37:16.030Z"
   },
   {
    "duration": 8,
    "start_time": "2024-03-07T18:37:20.270Z"
   },
   {
    "duration": 6,
    "start_time": "2024-03-07T18:37:21.587Z"
   },
   {
    "duration": 7,
    "start_time": "2024-03-07T18:37:21.914Z"
   },
   {
    "duration": 10,
    "start_time": "2024-03-07T18:39:26.282Z"
   },
   {
    "duration": 8,
    "start_time": "2024-03-07T18:39:27.114Z"
   },
   {
    "duration": 9,
    "start_time": "2024-03-07T18:39:27.926Z"
   },
   {
    "duration": 23,
    "start_time": "2024-03-07T18:39:41.674Z"
   },
   {
    "duration": 9,
    "start_time": "2024-03-07T18:39:46.094Z"
   },
   {
    "duration": 7,
    "start_time": "2024-03-07T18:39:46.602Z"
   },
   {
    "duration": 6,
    "start_time": "2024-03-07T18:39:47.034Z"
   },
   {
    "duration": 21,
    "start_time": "2024-03-07T18:41:00.354Z"
   },
   {
    "duration": 16617,
    "start_time": "2024-03-07T18:42:02.154Z"
   },
   {
    "duration": 3,
    "start_time": "2024-03-07T18:47:50.002Z"
   },
   {
    "duration": 3,
    "start_time": "2024-03-07T18:49:24.488Z"
   },
   {
    "duration": 4,
    "start_time": "2024-03-07T18:49:25.224Z"
   },
   {
    "duration": 3,
    "start_time": "2024-03-07T18:49:27.380Z"
   },
   {
    "duration": 10,
    "start_time": "2024-03-07T18:50:02.548Z"
   },
   {
    "duration": 8,
    "start_time": "2024-03-07T18:50:03.211Z"
   },
   {
    "duration": 8,
    "start_time": "2024-03-07T18:50:03.760Z"
   },
   {
    "duration": 20,
    "start_time": "2024-03-07T18:53:08.948Z"
   },
   {
    "duration": 31,
    "start_time": "2024-03-07T18:53:16.909Z"
   },
   {
    "duration": 12,
    "start_time": "2024-03-07T18:53:40.848Z"
   },
   {
    "duration": 14,
    "start_time": "2024-03-07T18:53:47.472Z"
   },
   {
    "duration": 7,
    "start_time": "2024-03-07T18:54:11.224Z"
   },
   {
    "duration": 5,
    "start_time": "2024-03-07T18:54:18.824Z"
   },
   {
    "duration": 16768,
    "start_time": "2024-03-07T18:54:41.736Z"
   },
   {
    "duration": 2,
    "start_time": "2024-03-07T18:55:02.145Z"
   },
   {
    "duration": 5,
    "start_time": "2024-03-07T18:55:03.657Z"
   },
   {
    "duration": 17,
    "start_time": "2024-03-07T18:55:04.389Z"
   },
   {
    "duration": 16,
    "start_time": "2024-03-07T18:56:22.920Z"
   },
   {
    "duration": 4,
    "start_time": "2024-03-07T18:57:22.929Z"
   },
   {
    "duration": 19,
    "start_time": "2024-03-07T18:57:28.524Z"
   },
   {
    "duration": 14,
    "start_time": "2024-03-07T19:01:07.033Z"
   },
   {
    "duration": 17553,
    "start_time": "2024-03-07T19:01:19.588Z"
   },
   {
    "duration": 4,
    "start_time": "2024-03-07T19:01:39.844Z"
   },
   {
    "duration": 18,
    "start_time": "2024-03-07T19:01:41.500Z"
   },
   {
    "duration": 23,
    "start_time": "2024-03-07T19:01:43.368Z"
   },
   {
    "duration": 178,
    "start_time": "2024-03-07T19:06:56.189Z"
   },
   {
    "duration": 180,
    "start_time": "2024-03-07T19:07:26.997Z"
   },
   {
    "duration": 168,
    "start_time": "2024-03-07T19:07:36.304Z"
   },
   {
    "duration": 186,
    "start_time": "2024-03-07T19:07:36.828Z"
   },
   {
    "duration": 9,
    "start_time": "2024-03-07T19:10:01.224Z"
   },
   {
    "duration": 77,
    "start_time": "2024-03-07T19:10:15.196Z"
   },
   {
    "duration": 7,
    "start_time": "2024-03-07T19:10:23.465Z"
   },
   {
    "duration": 4,
    "start_time": "2024-03-07T19:10:35.905Z"
   },
   {
    "duration": 13,
    "start_time": "2024-03-07T19:10:36.400Z"
   },
   {
    "duration": 15777,
    "start_time": "2024-03-07T19:10:41.969Z"
   },
   {
    "duration": 5,
    "start_time": "2024-03-07T19:11:01.456Z"
   },
   {
    "duration": 30,
    "start_time": "2024-03-07T19:11:03.928Z"
   },
   {
    "duration": 30,
    "start_time": "2024-03-07T19:11:12.993Z"
   },
   {
    "duration": 29,
    "start_time": "2024-03-07T19:11:16.905Z"
   },
   {
    "duration": 77,
    "start_time": "2024-03-07T19:11:32.413Z"
   },
   {
    "duration": 10,
    "start_time": "2024-03-07T19:11:33.057Z"
   },
   {
    "duration": 6,
    "start_time": "2024-03-07T19:11:33.217Z"
   },
   {
    "duration": 8,
    "start_time": "2024-03-07T19:11:33.549Z"
   },
   {
    "duration": 7,
    "start_time": "2024-03-07T19:11:33.696Z"
   },
   {
    "duration": 5,
    "start_time": "2024-03-07T19:11:34.028Z"
   },
   {
    "duration": 12,
    "start_time": "2024-03-07T19:11:34.205Z"
   },
   {
    "duration": 9,
    "start_time": "2024-03-07T19:11:34.365Z"
   },
   {
    "duration": 9,
    "start_time": "2024-03-07T19:11:34.517Z"
   },
   {
    "duration": 7,
    "start_time": "2024-03-07T19:11:35.460Z"
   },
   {
    "duration": 7,
    "start_time": "2024-03-07T19:11:35.616Z"
   },
   {
    "duration": 10,
    "start_time": "2024-03-07T19:11:35.789Z"
   },
   {
    "duration": 109,
    "start_time": "2024-03-07T19:11:36.070Z"
   },
   {
    "duration": 89,
    "start_time": "2024-03-07T19:11:36.584Z"
   },
   {
    "duration": 93,
    "start_time": "2024-03-07T19:11:37.057Z"
   },
   {
    "duration": 173,
    "start_time": "2024-03-07T19:11:37.569Z"
   },
   {
    "duration": 92,
    "start_time": "2024-03-07T19:11:38.113Z"
   },
   {
    "duration": 254,
    "start_time": "2024-03-07T19:11:38.688Z"
   },
   {
    "duration": 129,
    "start_time": "2024-03-07T19:11:39.361Z"
   },
   {
    "duration": 182,
    "start_time": "2024-03-07T19:11:40.024Z"
   },
   {
    "duration": 116,
    "start_time": "2024-03-07T19:11:40.208Z"
   },
   {
    "duration": 4,
    "start_time": "2024-03-07T19:11:41.296Z"
   },
   {
    "duration": 194,
    "start_time": "2024-03-07T19:11:42.517Z"
   },
   {
    "duration": 2,
    "start_time": "2024-03-07T19:11:45.041Z"
   },
   {
    "duration": 5,
    "start_time": "2024-03-07T19:11:46.148Z"
   },
   {
    "duration": 3,
    "start_time": "2024-03-07T19:11:46.776Z"
   },
   {
    "duration": 3,
    "start_time": "2024-03-07T19:11:48.741Z"
   },
   {
    "duration": 8,
    "start_time": "2024-03-07T19:11:50.993Z"
   },
   {
    "duration": 3,
    "start_time": "2024-03-07T19:11:51.300Z"
   },
   {
    "duration": 4,
    "start_time": "2024-03-07T19:11:51.637Z"
   },
   {
    "duration": 8926,
    "start_time": "2024-03-07T19:11:52.141Z"
   },
   {
    "duration": 0,
    "start_time": "2024-03-07T19:12:01.069Z"
   },
   {
    "duration": 0,
    "start_time": "2024-03-07T19:12:01.070Z"
   },
   {
    "duration": 0,
    "start_time": "2024-03-07T19:12:01.072Z"
   },
   {
    "duration": 10,
    "start_time": "2024-03-07T19:12:30.760Z"
   },
   {
    "duration": 9110,
    "start_time": "2024-03-07T19:12:32.748Z"
   },
   {
    "duration": 13,
    "start_time": "2024-03-07T19:14:28.973Z"
   },
   {
    "duration": 10,
    "start_time": "2024-03-07T19:14:50.856Z"
   },
   {
    "duration": 6,
    "start_time": "2024-03-07T19:15:01.565Z"
   },
   {
    "duration": 8880,
    "start_time": "2024-03-07T19:15:21.489Z"
   },
   {
    "duration": 2616,
    "start_time": "2024-03-07T19:15:32.481Z"
   },
   {
    "duration": 2597,
    "start_time": "2024-03-07T19:15:35.100Z"
   },
   {
    "duration": 78,
    "start_time": "2024-03-07T19:15:37.698Z"
   },
   {
    "duration": 13,
    "start_time": "2024-03-07T19:15:37.778Z"
   },
   {
    "duration": 24,
    "start_time": "2024-03-07T19:15:37.793Z"
   },
   {
    "duration": 9,
    "start_time": "2024-03-07T19:15:37.818Z"
   },
   {
    "duration": 13,
    "start_time": "2024-03-07T19:15:37.828Z"
   },
   {
    "duration": 11,
    "start_time": "2024-03-07T19:15:37.842Z"
   },
   {
    "duration": 13,
    "start_time": "2024-03-07T19:15:37.855Z"
   },
   {
    "duration": 9,
    "start_time": "2024-03-07T19:15:37.871Z"
   },
   {
    "duration": 13,
    "start_time": "2024-03-07T19:15:37.881Z"
   },
   {
    "duration": 7,
    "start_time": "2024-03-07T19:15:37.896Z"
   },
   {
    "duration": 25,
    "start_time": "2024-03-07T19:15:37.904Z"
   },
   {
    "duration": 16,
    "start_time": "2024-03-07T19:15:37.931Z"
   },
   {
    "duration": 145,
    "start_time": "2024-03-07T19:15:37.949Z"
   },
   {
    "duration": 97,
    "start_time": "2024-03-07T19:15:38.095Z"
   },
   {
    "duration": 110,
    "start_time": "2024-03-07T19:15:38.194Z"
   },
   {
    "duration": 172,
    "start_time": "2024-03-07T19:15:38.305Z"
   },
   {
    "duration": 103,
    "start_time": "2024-03-07T19:15:38.479Z"
   },
   {
    "duration": 102,
    "start_time": "2024-03-07T19:15:38.584Z"
   },
   {
    "duration": 135,
    "start_time": "2024-03-07T19:15:38.688Z"
   },
   {
    "duration": 187,
    "start_time": "2024-03-07T19:15:38.825Z"
   },
   {
    "duration": 104,
    "start_time": "2024-03-07T19:15:39.023Z"
   },
   {
    "duration": 4,
    "start_time": "2024-03-07T19:15:39.128Z"
   },
   {
    "duration": 196,
    "start_time": "2024-03-07T19:15:39.134Z"
   },
   {
    "duration": 3,
    "start_time": "2024-03-07T19:15:39.332Z"
   },
   {
    "duration": 6,
    "start_time": "2024-03-07T19:15:39.337Z"
   },
   {
    "duration": 4,
    "start_time": "2024-03-07T19:15:39.346Z"
   },
   {
    "duration": 12,
    "start_time": "2024-03-07T19:15:39.352Z"
   },
   {
    "duration": 9,
    "start_time": "2024-03-07T19:15:39.366Z"
   },
   {
    "duration": 12,
    "start_time": "2024-03-07T19:15:39.376Z"
   },
   {
    "duration": 24,
    "start_time": "2024-03-07T19:15:39.390Z"
   },
   {
    "duration": 9684,
    "start_time": "2024-03-07T19:15:39.423Z"
   },
   {
    "duration": 0,
    "start_time": "2024-03-07T19:15:49.110Z"
   },
   {
    "duration": 0,
    "start_time": "2024-03-07T19:15:49.111Z"
   },
   {
    "duration": 0,
    "start_time": "2024-03-07T19:15:49.112Z"
   },
   {
    "duration": 0,
    "start_time": "2024-03-07T19:15:49.123Z"
   },
   {
    "duration": 0,
    "start_time": "2024-03-07T19:15:49.124Z"
   },
   {
    "duration": 0,
    "start_time": "2024-03-07T19:15:49.125Z"
   },
   {
    "duration": 0,
    "start_time": "2024-03-07T19:15:49.126Z"
   },
   {
    "duration": 0,
    "start_time": "2024-03-07T19:15:49.127Z"
   },
   {
    "duration": 0,
    "start_time": "2024-03-07T19:15:49.128Z"
   },
   {
    "duration": 0,
    "start_time": "2024-03-07T19:15:49.129Z"
   },
   {
    "duration": 0,
    "start_time": "2024-03-07T19:15:49.129Z"
   },
   {
    "duration": 0,
    "start_time": "2024-03-07T19:15:49.130Z"
   },
   {
    "duration": 0,
    "start_time": "2024-03-07T19:15:49.131Z"
   },
   {
    "duration": 0,
    "start_time": "2024-03-07T19:15:49.132Z"
   },
   {
    "duration": 0,
    "start_time": "2024-03-07T19:15:49.133Z"
   },
   {
    "duration": 0,
    "start_time": "2024-03-07T19:15:49.134Z"
   },
   {
    "duration": 0,
    "start_time": "2024-03-07T19:15:49.135Z"
   },
   {
    "duration": 0,
    "start_time": "2024-03-07T19:15:49.136Z"
   },
   {
    "duration": 0,
    "start_time": "2024-03-07T19:15:49.137Z"
   },
   {
    "duration": 0,
    "start_time": "2024-03-07T19:15:49.138Z"
   },
   {
    "duration": 0,
    "start_time": "2024-03-07T19:15:49.139Z"
   },
   {
    "duration": 0,
    "start_time": "2024-03-07T19:15:49.139Z"
   },
   {
    "duration": 0,
    "start_time": "2024-03-07T19:15:49.141Z"
   },
   {
    "duration": 0,
    "start_time": "2024-03-07T19:15:49.142Z"
   },
   {
    "duration": 0,
    "start_time": "2024-03-07T19:15:49.144Z"
   },
   {
    "duration": 0,
    "start_time": "2024-03-07T19:15:49.145Z"
   },
   {
    "duration": 0,
    "start_time": "2024-03-07T19:15:49.146Z"
   },
   {
    "duration": 2628,
    "start_time": "2024-03-07T19:16:25.749Z"
   },
   {
    "duration": 2470,
    "start_time": "2024-03-07T19:16:28.380Z"
   },
   {
    "duration": 82,
    "start_time": "2024-03-07T19:16:30.852Z"
   },
   {
    "duration": 74,
    "start_time": "2024-03-07T19:16:30.935Z"
   },
   {
    "duration": 52,
    "start_time": "2024-03-07T19:16:31.011Z"
   },
   {
    "duration": 73,
    "start_time": "2024-03-07T19:16:31.065Z"
   },
   {
    "duration": 80,
    "start_time": "2024-03-07T19:16:31.139Z"
   },
   {
    "duration": 36,
    "start_time": "2024-03-07T19:16:31.221Z"
   },
   {
    "duration": 66,
    "start_time": "2024-03-07T19:16:31.258Z"
   },
   {
    "duration": 69,
    "start_time": "2024-03-07T19:16:31.327Z"
   },
   {
    "duration": 80,
    "start_time": "2024-03-07T19:16:31.398Z"
   },
   {
    "duration": 57,
    "start_time": "2024-03-07T19:16:31.479Z"
   },
   {
    "duration": 37,
    "start_time": "2024-03-07T19:16:31.538Z"
   },
   {
    "duration": 40,
    "start_time": "2024-03-07T19:16:31.577Z"
   },
   {
    "duration": 177,
    "start_time": "2024-03-07T19:16:31.619Z"
   },
   {
    "duration": 95,
    "start_time": "2024-03-07T19:16:31.797Z"
   },
   {
    "duration": 111,
    "start_time": "2024-03-07T19:16:31.894Z"
   },
   {
    "duration": 208,
    "start_time": "2024-03-07T19:16:32.007Z"
   },
   {
    "duration": 108,
    "start_time": "2024-03-07T19:16:32.217Z"
   },
   {
    "duration": 111,
    "start_time": "2024-03-07T19:16:32.326Z"
   },
   {
    "duration": 139,
    "start_time": "2024-03-07T19:16:32.439Z"
   },
   {
    "duration": 193,
    "start_time": "2024-03-07T19:16:32.580Z"
   },
   {
    "duration": 105,
    "start_time": "2024-03-07T19:16:32.774Z"
   },
   {
    "duration": 3,
    "start_time": "2024-03-07T19:16:32.881Z"
   },
   {
    "duration": 200,
    "start_time": "2024-03-07T19:16:32.886Z"
   },
   {
    "duration": 3,
    "start_time": "2024-03-07T19:16:33.088Z"
   },
   {
    "duration": 30,
    "start_time": "2024-03-07T19:16:33.093Z"
   },
   {
    "duration": 14,
    "start_time": "2024-03-07T19:16:33.127Z"
   },
   {
    "duration": 23,
    "start_time": "2024-03-07T19:16:33.143Z"
   },
   {
    "duration": 20,
    "start_time": "2024-03-07T19:16:33.168Z"
   },
   {
    "duration": 5,
    "start_time": "2024-03-07T19:16:33.190Z"
   },
   {
    "duration": 23,
    "start_time": "2024-03-07T19:16:33.197Z"
   },
   {
    "duration": 9737,
    "start_time": "2024-03-07T19:16:33.222Z"
   },
   {
    "duration": 0,
    "start_time": "2024-03-07T19:16:42.961Z"
   },
   {
    "duration": 0,
    "start_time": "2024-03-07T19:16:42.962Z"
   },
   {
    "duration": 0,
    "start_time": "2024-03-07T19:16:42.963Z"
   },
   {
    "duration": 0,
    "start_time": "2024-03-07T19:16:42.964Z"
   },
   {
    "duration": 0,
    "start_time": "2024-03-07T19:16:42.966Z"
   },
   {
    "duration": 0,
    "start_time": "2024-03-07T19:16:42.967Z"
   },
   {
    "duration": 0,
    "start_time": "2024-03-07T19:16:42.968Z"
   },
   {
    "duration": 0,
    "start_time": "2024-03-07T19:16:42.969Z"
   },
   {
    "duration": 0,
    "start_time": "2024-03-07T19:16:42.970Z"
   },
   {
    "duration": 0,
    "start_time": "2024-03-07T19:16:42.971Z"
   },
   {
    "duration": 0,
    "start_time": "2024-03-07T19:16:42.972Z"
   },
   {
    "duration": 0,
    "start_time": "2024-03-07T19:16:42.973Z"
   },
   {
    "duration": 0,
    "start_time": "2024-03-07T19:16:42.974Z"
   },
   {
    "duration": 0,
    "start_time": "2024-03-07T19:16:42.975Z"
   },
   {
    "duration": 0,
    "start_time": "2024-03-07T19:16:42.976Z"
   },
   {
    "duration": 0,
    "start_time": "2024-03-07T19:16:42.978Z"
   },
   {
    "duration": 0,
    "start_time": "2024-03-07T19:16:42.979Z"
   },
   {
    "duration": 0,
    "start_time": "2024-03-07T19:16:42.980Z"
   },
   {
    "duration": 0,
    "start_time": "2024-03-07T19:16:42.981Z"
   },
   {
    "duration": 0,
    "start_time": "2024-03-07T19:16:42.982Z"
   },
   {
    "duration": 0,
    "start_time": "2024-03-07T19:16:42.983Z"
   },
   {
    "duration": 0,
    "start_time": "2024-03-07T19:16:42.984Z"
   },
   {
    "duration": 0,
    "start_time": "2024-03-07T19:16:42.985Z"
   },
   {
    "duration": 0,
    "start_time": "2024-03-07T19:16:43.023Z"
   },
   {
    "duration": 0,
    "start_time": "2024-03-07T19:16:43.024Z"
   },
   {
    "duration": 0,
    "start_time": "2024-03-07T19:16:43.025Z"
   },
   {
    "duration": 0,
    "start_time": "2024-03-07T19:16:43.026Z"
   },
   {
    "duration": 17,
    "start_time": "2024-03-07T19:17:09.326Z"
   },
   {
    "duration": 45,
    "start_time": "2024-03-07T19:18:30.910Z"
   },
   {
    "duration": 5,
    "start_time": "2024-03-07T19:19:12.418Z"
   },
   {
    "duration": 3,
    "start_time": "2024-03-07T19:19:13.850Z"
   },
   {
    "duration": 4,
    "start_time": "2024-03-07T19:19:14.550Z"
   },
   {
    "duration": 3,
    "start_time": "2024-03-07T19:19:15.022Z"
   },
   {
    "duration": 3,
    "start_time": "2024-03-07T19:19:16.238Z"
   },
   {
    "duration": 4,
    "start_time": "2024-03-07T19:19:16.574Z"
   },
   {
    "duration": 4012,
    "start_time": "2024-03-07T19:19:20.066Z"
   },
   {
    "duration": 13,
    "start_time": "2024-03-07T19:19:30.275Z"
   },
   {
    "duration": 13,
    "start_time": "2024-03-07T19:19:36.218Z"
   },
   {
    "duration": 8,
    "start_time": "2024-03-07T19:19:44.070Z"
   },
   {
    "duration": 16440,
    "start_time": "2024-03-07T19:19:49.179Z"
   },
   {
    "duration": 4,
    "start_time": "2024-03-07T19:20:16.214Z"
   },
   {
    "duration": 16,
    "start_time": "2024-03-07T19:20:26.138Z"
   },
   {
    "duration": 34,
    "start_time": "2024-03-07T19:21:01.614Z"
   },
   {
    "duration": 16,
    "start_time": "2024-03-07T19:21:24.482Z"
   },
   {
    "duration": 4,
    "start_time": "2024-03-07T19:21:59.226Z"
   },
   {
    "duration": 16,
    "start_time": "2024-03-07T19:22:31.332Z"
   },
   {
    "duration": 3732,
    "start_time": "2024-03-29T13:04:32.145Z"
   },
   {
    "duration": 1865,
    "start_time": "2024-03-29T13:04:35.879Z"
   },
   {
    "duration": 0,
    "start_time": "2024-03-29T13:04:37.749Z"
   },
   {
    "duration": 0,
    "start_time": "2024-03-29T13:04:37.750Z"
   },
   {
    "duration": 0,
    "start_time": "2024-03-29T13:04:37.751Z"
   },
   {
    "duration": 0,
    "start_time": "2024-03-29T13:04:37.752Z"
   },
   {
    "duration": 0,
    "start_time": "2024-03-29T13:04:37.753Z"
   },
   {
    "duration": 0,
    "start_time": "2024-03-29T13:04:37.754Z"
   },
   {
    "duration": 0,
    "start_time": "2024-03-29T13:04:37.755Z"
   },
   {
    "duration": 0,
    "start_time": "2024-03-29T13:04:37.756Z"
   },
   {
    "duration": 0,
    "start_time": "2024-03-29T13:04:37.757Z"
   },
   {
    "duration": 0,
    "start_time": "2024-03-29T13:04:37.758Z"
   },
   {
    "duration": 0,
    "start_time": "2024-03-29T13:04:37.759Z"
   },
   {
    "duration": 0,
    "start_time": "2024-03-29T13:04:37.760Z"
   },
   {
    "duration": 0,
    "start_time": "2024-03-29T13:04:37.761Z"
   },
   {
    "duration": 0,
    "start_time": "2024-03-29T13:04:37.762Z"
   },
   {
    "duration": 0,
    "start_time": "2024-03-29T13:04:37.787Z"
   },
   {
    "duration": 0,
    "start_time": "2024-03-29T13:04:37.788Z"
   },
   {
    "duration": 0,
    "start_time": "2024-03-29T13:04:37.789Z"
   },
   {
    "duration": 0,
    "start_time": "2024-03-29T13:04:37.790Z"
   },
   {
    "duration": 0,
    "start_time": "2024-03-29T13:04:37.791Z"
   },
   {
    "duration": 0,
    "start_time": "2024-03-29T13:04:37.793Z"
   },
   {
    "duration": 0,
    "start_time": "2024-03-29T13:04:37.794Z"
   },
   {
    "duration": 0,
    "start_time": "2024-03-29T13:04:37.794Z"
   },
   {
    "duration": 1,
    "start_time": "2024-03-29T13:04:37.795Z"
   },
   {
    "duration": 0,
    "start_time": "2024-03-29T13:04:37.796Z"
   },
   {
    "duration": 0,
    "start_time": "2024-03-29T13:04:37.797Z"
   },
   {
    "duration": 1,
    "start_time": "2024-03-29T13:04:37.798Z"
   },
   {
    "duration": 0,
    "start_time": "2024-03-29T13:04:37.800Z"
   },
   {
    "duration": 0,
    "start_time": "2024-03-29T13:04:37.801Z"
   },
   {
    "duration": 0,
    "start_time": "2024-03-29T13:04:37.802Z"
   },
   {
    "duration": 0,
    "start_time": "2024-03-29T13:04:37.803Z"
   },
   {
    "duration": 0,
    "start_time": "2024-03-29T13:04:37.804Z"
   },
   {
    "duration": 0,
    "start_time": "2024-03-29T13:04:37.805Z"
   },
   {
    "duration": 0,
    "start_time": "2024-03-29T13:04:37.806Z"
   },
   {
    "duration": 0,
    "start_time": "2024-03-29T13:04:37.807Z"
   },
   {
    "duration": 0,
    "start_time": "2024-03-29T13:04:37.808Z"
   },
   {
    "duration": 0,
    "start_time": "2024-03-29T13:04:37.809Z"
   },
   {
    "duration": 0,
    "start_time": "2024-03-29T13:04:37.810Z"
   },
   {
    "duration": 0,
    "start_time": "2024-03-29T13:04:37.812Z"
   },
   {
    "duration": 0,
    "start_time": "2024-03-29T13:04:37.813Z"
   },
   {
    "duration": 0,
    "start_time": "2024-03-29T13:04:37.814Z"
   },
   {
    "duration": 0,
    "start_time": "2024-03-29T13:04:37.815Z"
   },
   {
    "duration": 0,
    "start_time": "2024-03-29T13:04:37.816Z"
   },
   {
    "duration": 0,
    "start_time": "2024-03-29T13:04:37.817Z"
   },
   {
    "duration": 0,
    "start_time": "2024-03-29T13:04:37.818Z"
   },
   {
    "duration": 0,
    "start_time": "2024-03-29T13:04:37.819Z"
   },
   {
    "duration": 0,
    "start_time": "2024-03-29T13:04:37.820Z"
   },
   {
    "duration": 0,
    "start_time": "2024-03-29T13:04:37.821Z"
   },
   {
    "duration": 0,
    "start_time": "2024-03-29T13:04:37.822Z"
   },
   {
    "duration": 0,
    "start_time": "2024-03-29T13:04:37.823Z"
   },
   {
    "duration": 0,
    "start_time": "2024-03-29T13:04:37.887Z"
   },
   {
    "duration": 0,
    "start_time": "2024-03-29T13:04:37.889Z"
   },
   {
    "duration": 0,
    "start_time": "2024-03-29T13:04:37.890Z"
   },
   {
    "duration": 0,
    "start_time": "2024-03-29T13:04:37.891Z"
   },
   {
    "duration": 0,
    "start_time": "2024-03-29T13:04:37.892Z"
   },
   {
    "duration": 0,
    "start_time": "2024-03-29T13:04:37.893Z"
   },
   {
    "duration": 0,
    "start_time": "2024-03-29T13:04:37.894Z"
   },
   {
    "duration": 0,
    "start_time": "2024-03-29T13:04:37.895Z"
   },
   {
    "duration": 6758,
    "start_time": "2024-03-29T13:05:09.219Z"
   },
   {
    "duration": 2624,
    "start_time": "2024-03-29T13:05:15.979Z"
   },
   {
    "duration": 261,
    "start_time": "2024-03-29T13:05:18.605Z"
   },
   {
    "duration": 32,
    "start_time": "2024-03-29T13:05:18.867Z"
   },
   {
    "duration": 7,
    "start_time": "2024-03-29T13:05:18.902Z"
   },
   {
    "duration": 6,
    "start_time": "2024-03-29T13:05:18.910Z"
   },
   {
    "duration": 17,
    "start_time": "2024-03-29T13:05:18.917Z"
   },
   {
    "duration": 8,
    "start_time": "2024-03-29T13:05:18.936Z"
   },
   {
    "duration": 43,
    "start_time": "2024-03-29T13:05:18.945Z"
   },
   {
    "duration": 10,
    "start_time": "2024-03-29T13:05:18.990Z"
   },
   {
    "duration": 22,
    "start_time": "2024-03-29T13:05:19.001Z"
   },
   {
    "duration": 9,
    "start_time": "2024-03-29T13:05:19.024Z"
   },
   {
    "duration": 6,
    "start_time": "2024-03-29T13:05:19.034Z"
   },
   {
    "duration": 11,
    "start_time": "2024-03-29T13:05:19.044Z"
   },
   {
    "duration": 148,
    "start_time": "2024-03-29T13:05:19.057Z"
   },
   {
    "duration": 122,
    "start_time": "2024-03-29T13:05:19.207Z"
   },
   {
    "duration": 115,
    "start_time": "2024-03-29T13:05:19.331Z"
   },
   {
    "duration": 176,
    "start_time": "2024-03-29T13:05:19.448Z"
   },
   {
    "duration": 100,
    "start_time": "2024-03-29T13:05:19.626Z"
   },
   {
    "duration": 112,
    "start_time": "2024-03-29T13:05:19.727Z"
   },
   {
    "duration": 152,
    "start_time": "2024-03-29T13:05:19.841Z"
   },
   {
    "duration": 276,
    "start_time": "2024-03-29T13:05:19.995Z"
   },
   {
    "duration": 133,
    "start_time": "2024-03-29T13:05:20.273Z"
   },
   {
    "duration": 3,
    "start_time": "2024-03-29T13:05:20.408Z"
   },
   {
    "duration": 201,
    "start_time": "2024-03-29T13:05:20.413Z"
   },
   {
    "duration": 12,
    "start_time": "2024-03-29T13:05:20.615Z"
   },
   {
    "duration": 15,
    "start_time": "2024-03-29T13:05:20.629Z"
   },
   {
    "duration": 17,
    "start_time": "2024-03-29T13:05:20.646Z"
   },
   {
    "duration": 7,
    "start_time": "2024-03-29T13:05:20.665Z"
   },
   {
    "duration": 31,
    "start_time": "2024-03-29T13:05:20.674Z"
   },
   {
    "duration": 4,
    "start_time": "2024-03-29T13:05:20.707Z"
   },
   {
    "duration": 7,
    "start_time": "2024-03-29T13:05:20.713Z"
   },
   {
    "duration": 16129,
    "start_time": "2024-03-29T13:05:20.722Z"
   },
   {
    "duration": 3,
    "start_time": "2024-03-29T13:05:36.853Z"
   },
   {
    "duration": 50,
    "start_time": "2024-03-29T13:05:36.857Z"
   },
   {
    "duration": 30,
    "start_time": "2024-03-29T13:05:36.909Z"
   },
   {
    "duration": 17,
    "start_time": "2024-03-29T13:05:36.941Z"
   },
   {
    "duration": 185,
    "start_time": "2024-03-29T13:05:36.960Z"
   },
   {
    "duration": 0,
    "start_time": "2024-03-29T13:05:37.147Z"
   },
   {
    "duration": 0,
    "start_time": "2024-03-29T13:05:37.148Z"
   },
   {
    "duration": 0,
    "start_time": "2024-03-29T13:05:37.149Z"
   },
   {
    "duration": 0,
    "start_time": "2024-03-29T13:05:37.150Z"
   },
   {
    "duration": 0,
    "start_time": "2024-03-29T13:05:37.151Z"
   },
   {
    "duration": 0,
    "start_time": "2024-03-29T13:05:37.153Z"
   },
   {
    "duration": 0,
    "start_time": "2024-03-29T13:05:37.153Z"
   },
   {
    "duration": 0,
    "start_time": "2024-03-29T13:05:37.155Z"
   },
   {
    "duration": 0,
    "start_time": "2024-03-29T13:05:37.156Z"
   },
   {
    "duration": 0,
    "start_time": "2024-03-29T13:05:37.157Z"
   },
   {
    "duration": 0,
    "start_time": "2024-03-29T13:05:37.158Z"
   },
   {
    "duration": 0,
    "start_time": "2024-03-29T13:05:37.159Z"
   },
   {
    "duration": 0,
    "start_time": "2024-03-29T13:05:37.160Z"
   },
   {
    "duration": 0,
    "start_time": "2024-03-29T13:05:37.162Z"
   },
   {
    "duration": 0,
    "start_time": "2024-03-29T13:05:37.163Z"
   },
   {
    "duration": 0,
    "start_time": "2024-03-29T13:05:37.188Z"
   },
   {
    "duration": 0,
    "start_time": "2024-03-29T13:05:37.189Z"
   },
   {
    "duration": 0,
    "start_time": "2024-03-29T13:05:37.190Z"
   },
   {
    "duration": 0,
    "start_time": "2024-03-29T13:05:37.191Z"
   },
   {
    "duration": 0,
    "start_time": "2024-03-29T13:05:37.192Z"
   },
   {
    "duration": 0,
    "start_time": "2024-03-29T13:05:37.193Z"
   },
   {
    "duration": 3,
    "start_time": "2024-03-29T13:06:12.037Z"
   },
   {
    "duration": 38,
    "start_time": "2024-03-29T13:06:12.518Z"
   },
   {
    "duration": 10,
    "start_time": "2024-03-29T13:06:14.365Z"
   },
   {
    "duration": 8,
    "start_time": "2024-03-29T13:06:15.007Z"
   },
   {
    "duration": 8,
    "start_time": "2024-03-29T13:06:21.633Z"
   },
   {
    "duration": 1300,
    "start_time": "2024-03-29T13:06:23.346Z"
   },
   {
    "duration": 19,
    "start_time": "2024-03-29T13:06:24.648Z"
   },
   {
    "duration": 1625,
    "start_time": "2024-03-29T13:06:27.490Z"
   },
   {
    "duration": 11,
    "start_time": "2024-03-29T13:06:29.291Z"
   },
   {
    "duration": 8,
    "start_time": "2024-03-29T13:06:30.007Z"
   },
   {
    "duration": 8,
    "start_time": "2024-03-29T13:06:30.434Z"
   },
   {
    "duration": 22,
    "start_time": "2024-03-29T13:07:09.379Z"
   },
   {
    "duration": 90,
    "start_time": "2024-03-29T13:07:58.738Z"
   },
   {
    "duration": 97,
    "start_time": "2024-03-29T13:08:09.710Z"
   },
   {
    "duration": 106,
    "start_time": "2024-03-29T13:08:19.898Z"
   },
   {
    "duration": 13,
    "start_time": "2024-03-29T13:08:27.958Z"
   },
   {
    "duration": 5,
    "start_time": "2024-03-29T13:08:50.846Z"
   },
   {
    "duration": 4,
    "start_time": "2024-03-29T13:09:06.610Z"
   },
   {
    "duration": 15193,
    "start_time": "2024-03-29T13:09:07.798Z"
   },
   {
    "duration": 22,
    "start_time": "2024-03-29T13:10:25.699Z"
   },
   {
    "duration": 1362,
    "start_time": "2024-03-29T13:10:34.033Z"
   },
   {
    "duration": 13,
    "start_time": "2024-03-29T13:10:35.397Z"
   },
   {
    "duration": 28,
    "start_time": "2024-03-29T13:10:35.411Z"
   },
   {
    "duration": 0,
    "start_time": "2024-03-29T13:11:26.582Z"
   },
   {
    "duration": 0,
    "start_time": "2024-03-29T13:11:26.583Z"
   },
   {
    "duration": 0,
    "start_time": "2024-03-29T13:11:26.584Z"
   },
   {
    "duration": 0,
    "start_time": "2024-03-29T13:11:26.585Z"
   },
   {
    "duration": 0,
    "start_time": "2024-03-29T13:11:26.586Z"
   },
   {
    "duration": 0,
    "start_time": "2024-03-29T13:11:26.587Z"
   },
   {
    "duration": 0,
    "start_time": "2024-03-29T13:11:26.588Z"
   },
   {
    "duration": 0,
    "start_time": "2024-03-29T13:11:26.589Z"
   },
   {
    "duration": 0,
    "start_time": "2024-03-29T13:11:26.590Z"
   },
   {
    "duration": 0,
    "start_time": "2024-03-29T13:11:26.592Z"
   },
   {
    "duration": 0,
    "start_time": "2024-03-29T13:11:26.593Z"
   },
   {
    "duration": 0,
    "start_time": "2024-03-29T13:11:26.594Z"
   },
   {
    "duration": 0,
    "start_time": "2024-03-29T13:11:26.595Z"
   },
   {
    "duration": 0,
    "start_time": "2024-03-29T13:11:26.596Z"
   },
   {
    "duration": 0,
    "start_time": "2024-03-29T13:11:26.597Z"
   },
   {
    "duration": 0,
    "start_time": "2024-03-29T13:11:26.599Z"
   },
   {
    "duration": 0,
    "start_time": "2024-03-29T13:11:26.600Z"
   },
   {
    "duration": 0,
    "start_time": "2024-03-29T13:11:26.601Z"
   },
   {
    "duration": 0,
    "start_time": "2024-03-29T13:11:26.602Z"
   },
   {
    "duration": 3,
    "start_time": "2024-03-29T13:11:45.074Z"
   },
   {
    "duration": 40,
    "start_time": "2024-03-29T13:11:47.265Z"
   },
   {
    "duration": 11,
    "start_time": "2024-03-29T13:11:48.226Z"
   },
   {
    "duration": 7,
    "start_time": "2024-03-29T13:11:49.853Z"
   },
   {
    "duration": 7,
    "start_time": "2024-03-29T13:11:50.521Z"
   },
   {
    "duration": 1071,
    "start_time": "2024-03-29T13:11:52.006Z"
   },
   {
    "duration": 17,
    "start_time": "2024-03-29T13:11:55.484Z"
   },
   {
    "duration": 9,
    "start_time": "2024-03-29T13:11:56.517Z"
   },
   {
    "duration": 10,
    "start_time": "2024-03-29T13:11:57.106Z"
   },
   {
    "duration": 7,
    "start_time": "2024-03-29T13:11:57.718Z"
   },
   {
    "duration": 1298,
    "start_time": "2024-03-29T13:11:59.862Z"
   },
   {
    "duration": 12,
    "start_time": "2024-03-29T13:12:04.057Z"
   },
   {
    "duration": 6,
    "start_time": "2024-03-29T13:12:05.199Z"
   },
   {
    "duration": 51551,
    "start_time": "2024-03-29T13:12:05.866Z"
   },
   {
    "duration": 5,
    "start_time": "2024-03-29T13:20:17.437Z"
   },
   {
    "duration": 13,
    "start_time": "2024-03-29T13:20:31.844Z"
   },
   {
    "duration": 17,
    "start_time": "2024-03-29T13:20:41.233Z"
   },
   {
    "duration": 4,
    "start_time": "2024-03-29T13:20:46.665Z"
   },
   {
    "duration": 85999,
    "start_time": "2024-03-29T13:20:48.865Z"
   },
   {
    "duration": 3,
    "start_time": "2024-03-29T13:22:24.433Z"
   },
   {
    "duration": 4,
    "start_time": "2024-03-29T13:22:24.797Z"
   },
   {
    "duration": 292,
    "start_time": "2024-03-29T13:22:25.461Z"
   },
   {
    "duration": 11,
    "start_time": "2024-03-29T13:22:36.168Z"
   },
   {
    "duration": 51795,
    "start_time": "2024-03-29T13:22:43.957Z"
   },
   {
    "duration": 5,
    "start_time": "2024-03-29T13:26:52.780Z"
   },
   {
    "duration": 864616,
    "start_time": "2024-03-29T13:26:54.057Z"
   },
   {
    "duration": 5,
    "start_time": "2024-03-29T13:41:23.941Z"
   },
   {
    "duration": 5048,
    "start_time": "2024-03-31T07:55:34.490Z"
   },
   {
    "duration": 1889,
    "start_time": "2024-03-31T07:55:39.540Z"
   },
   {
    "duration": 76,
    "start_time": "2024-03-31T07:55:41.430Z"
   },
   {
    "duration": 14,
    "start_time": "2024-03-31T07:55:41.508Z"
   },
   {
    "duration": 6,
    "start_time": "2024-03-31T07:55:41.523Z"
   },
   {
    "duration": 8,
    "start_time": "2024-03-31T07:55:41.530Z"
   },
   {
    "duration": 6,
    "start_time": "2024-03-31T07:55:41.540Z"
   },
   {
    "duration": 8,
    "start_time": "2024-03-31T07:55:41.548Z"
   },
   {
    "duration": 31,
    "start_time": "2024-03-31T07:55:41.557Z"
   },
   {
    "duration": 9,
    "start_time": "2024-03-31T07:55:41.590Z"
   },
   {
    "duration": 12,
    "start_time": "2024-03-31T07:55:41.601Z"
   },
   {
    "duration": 8,
    "start_time": "2024-03-31T07:55:41.614Z"
   },
   {
    "duration": 5,
    "start_time": "2024-03-31T07:55:41.624Z"
   },
   {
    "duration": 14,
    "start_time": "2024-03-31T07:55:41.631Z"
   },
   {
    "duration": 147,
    "start_time": "2024-03-31T07:55:41.646Z"
   },
   {
    "duration": 100,
    "start_time": "2024-03-31T07:55:41.794Z"
   },
   {
    "duration": 103,
    "start_time": "2024-03-31T07:55:41.895Z"
   },
   {
    "duration": 164,
    "start_time": "2024-03-31T07:55:42.000Z"
   },
   {
    "duration": 107,
    "start_time": "2024-03-31T07:55:42.165Z"
   },
   {
    "duration": 96,
    "start_time": "2024-03-31T07:55:42.274Z"
   },
   {
    "duration": 122,
    "start_time": "2024-03-31T07:55:42.387Z"
   },
   {
    "duration": 265,
    "start_time": "2024-03-31T07:55:42.510Z"
   },
   {
    "duration": 99,
    "start_time": "2024-03-31T07:55:42.777Z"
   },
   {
    "duration": 3,
    "start_time": "2024-03-31T07:55:42.887Z"
   },
   {
    "duration": 190,
    "start_time": "2024-03-31T07:55:42.892Z"
   },
   {
    "duration": 3,
    "start_time": "2024-03-31T07:55:43.086Z"
   },
   {
    "duration": 16,
    "start_time": "2024-03-31T07:55:43.091Z"
   },
   {
    "duration": 14,
    "start_time": "2024-03-31T07:55:43.111Z"
   },
   {
    "duration": 12,
    "start_time": "2024-03-31T07:55:43.127Z"
   },
   {
    "duration": 10,
    "start_time": "2024-03-31T07:55:43.140Z"
   },
   {
    "duration": 3,
    "start_time": "2024-03-31T07:55:43.151Z"
   },
   {
    "duration": 5,
    "start_time": "2024-03-31T07:55:43.155Z"
   },
   {
    "duration": 31967,
    "start_time": "2024-03-31T07:55:43.161Z"
   },
   {
    "duration": 3,
    "start_time": "2024-03-31T07:56:15.130Z"
   },
   {
    "duration": 38,
    "start_time": "2024-03-31T07:56:15.134Z"
   },
   {
    "duration": 337,
    "start_time": "2024-03-31T07:56:15.174Z"
   },
   {
    "duration": 3,
    "start_time": "2024-03-31T07:56:15.513Z"
   },
   {
    "duration": 76,
    "start_time": "2024-03-31T07:56:15.518Z"
   },
   {
    "duration": 12,
    "start_time": "2024-03-31T07:56:15.596Z"
   },
   {
    "duration": 31,
    "start_time": "2024-03-31T07:56:15.610Z"
   },
   {
    "duration": 7,
    "start_time": "2024-03-31T07:56:15.643Z"
   },
   {
    "duration": 1040,
    "start_time": "2024-03-31T07:56:15.652Z"
   },
   {
    "duration": 18,
    "start_time": "2024-03-31T07:56:16.694Z"
   },
   {
    "duration": 10,
    "start_time": "2024-03-31T07:56:16.714Z"
   },
   {
    "duration": 7,
    "start_time": "2024-03-31T07:56:16.725Z"
   },
   {
    "duration": 8,
    "start_time": "2024-03-31T07:56:16.733Z"
   },
   {
    "duration": 1276,
    "start_time": "2024-03-31T07:56:16.743Z"
   },
   {
    "duration": 14,
    "start_time": "2024-03-31T07:56:18.021Z"
   },
   {
    "duration": 10,
    "start_time": "2024-03-31T07:56:18.036Z"
   },
   {
    "duration": 48868,
    "start_time": "2024-03-31T07:56:18.048Z"
   },
   {
    "duration": 0,
    "start_time": "2024-03-31T07:57:06.917Z"
   },
   {
    "duration": 0,
    "start_time": "2024-03-31T07:57:06.918Z"
   },
   {
    "duration": 0,
    "start_time": "2024-03-31T07:57:06.919Z"
   },
   {
    "duration": 0,
    "start_time": "2024-03-31T07:57:06.921Z"
   },
   {
    "duration": 0,
    "start_time": "2024-03-31T07:57:06.921Z"
   },
   {
    "duration": 0,
    "start_time": "2024-03-31T07:57:06.922Z"
   },
   {
    "duration": 0,
    "start_time": "2024-03-31T07:57:06.923Z"
   },
   {
    "duration": 4,
    "start_time": "2024-03-31T07:59:18.771Z"
   },
   {
    "duration": 5077,
    "start_time": "2024-03-31T08:09:41.913Z"
   },
   {
    "duration": 1927,
    "start_time": "2024-03-31T08:09:46.992Z"
   },
   {
    "duration": 80,
    "start_time": "2024-03-31T08:09:48.921Z"
   },
   {
    "duration": 13,
    "start_time": "2024-03-31T08:09:49.003Z"
   },
   {
    "duration": 18,
    "start_time": "2024-03-31T08:09:49.017Z"
   },
   {
    "duration": 29,
    "start_time": "2024-03-31T08:09:49.037Z"
   },
   {
    "duration": 7,
    "start_time": "2024-03-31T08:09:49.068Z"
   },
   {
    "duration": 12,
    "start_time": "2024-03-31T08:09:49.077Z"
   },
   {
    "duration": 12,
    "start_time": "2024-03-31T08:09:49.090Z"
   },
   {
    "duration": 11,
    "start_time": "2024-03-31T08:09:49.105Z"
   },
   {
    "duration": 15,
    "start_time": "2024-03-31T08:09:49.117Z"
   },
   {
    "duration": 9,
    "start_time": "2024-03-31T08:09:49.133Z"
   },
   {
    "duration": 20,
    "start_time": "2024-03-31T08:09:49.143Z"
   },
   {
    "duration": 11,
    "start_time": "2024-03-31T08:09:49.165Z"
   },
   {
    "duration": 131,
    "start_time": "2024-03-31T08:09:49.187Z"
   },
   {
    "duration": 95,
    "start_time": "2024-03-31T08:09:49.319Z"
   },
   {
    "duration": 102,
    "start_time": "2024-03-31T08:09:49.416Z"
   },
   {
    "duration": 168,
    "start_time": "2024-03-31T08:09:49.520Z"
   },
   {
    "duration": 99,
    "start_time": "2024-03-31T08:09:49.690Z"
   },
   {
    "duration": 108,
    "start_time": "2024-03-31T08:09:49.791Z"
   },
   {
    "duration": 137,
    "start_time": "2024-03-31T08:09:49.901Z"
   },
   {
    "duration": 286,
    "start_time": "2024-03-31T08:09:50.040Z"
   },
   {
    "duration": 107,
    "start_time": "2024-03-31T08:09:50.328Z"
   },
   {
    "duration": 4,
    "start_time": "2024-03-31T08:09:50.436Z"
   },
   {
    "duration": 187,
    "start_time": "2024-03-31T08:09:50.441Z"
   },
   {
    "duration": 2,
    "start_time": "2024-03-31T08:09:50.630Z"
   },
   {
    "duration": 14,
    "start_time": "2024-03-31T08:09:50.634Z"
   },
   {
    "duration": 13,
    "start_time": "2024-03-31T08:09:50.651Z"
   },
   {
    "duration": 11,
    "start_time": "2024-03-31T08:09:50.665Z"
   },
   {
    "duration": 19,
    "start_time": "2024-03-31T08:09:50.678Z"
   },
   {
    "duration": 3,
    "start_time": "2024-03-31T08:09:50.699Z"
   },
   {
    "duration": 22,
    "start_time": "2024-03-31T08:09:50.703Z"
   },
   {
    "duration": 3886,
    "start_time": "2024-03-31T08:15:21.600Z"
   },
   {
    "duration": 1963,
    "start_time": "2024-03-31T08:15:25.488Z"
   },
   {
    "duration": 76,
    "start_time": "2024-03-31T08:15:27.453Z"
   },
   {
    "duration": 13,
    "start_time": "2024-03-31T08:15:27.531Z"
   },
   {
    "duration": 5,
    "start_time": "2024-03-31T08:15:27.546Z"
   },
   {
    "duration": 8,
    "start_time": "2024-03-31T08:15:27.553Z"
   },
   {
    "duration": 24,
    "start_time": "2024-03-31T08:15:27.562Z"
   },
   {
    "duration": 7,
    "start_time": "2024-03-31T08:15:27.588Z"
   },
   {
    "duration": 13,
    "start_time": "2024-03-31T08:15:27.597Z"
   },
   {
    "duration": 12,
    "start_time": "2024-03-31T08:15:27.614Z"
   },
   {
    "duration": 18,
    "start_time": "2024-03-31T08:15:27.628Z"
   },
   {
    "duration": 8,
    "start_time": "2024-03-31T08:15:27.648Z"
   },
   {
    "duration": 34,
    "start_time": "2024-03-31T08:15:27.657Z"
   },
   {
    "duration": 13,
    "start_time": "2024-03-31T08:15:27.693Z"
   },
   {
    "duration": 147,
    "start_time": "2024-03-31T08:15:27.708Z"
   },
   {
    "duration": 101,
    "start_time": "2024-03-31T08:15:27.857Z"
   },
   {
    "duration": 112,
    "start_time": "2024-03-31T08:15:27.960Z"
   },
   {
    "duration": 168,
    "start_time": "2024-03-31T08:15:28.073Z"
   },
   {
    "duration": 113,
    "start_time": "2024-03-31T08:15:28.243Z"
   },
   {
    "duration": 114,
    "start_time": "2024-03-31T08:15:28.358Z"
   },
   {
    "duration": 139,
    "start_time": "2024-03-31T08:15:28.474Z"
   },
   {
    "duration": 280,
    "start_time": "2024-03-31T08:15:28.615Z"
   },
   {
    "duration": 117,
    "start_time": "2024-03-31T08:15:28.898Z"
   },
   {
    "duration": 3,
    "start_time": "2024-03-31T08:15:29.017Z"
   },
   {
    "duration": 188,
    "start_time": "2024-03-31T08:15:29.022Z"
   },
   {
    "duration": 3,
    "start_time": "2024-03-31T08:15:29.212Z"
   },
   {
    "duration": 5,
    "start_time": "2024-03-31T08:15:29.216Z"
   },
   {
    "duration": 3,
    "start_time": "2024-03-31T08:15:29.224Z"
   },
   {
    "duration": 4,
    "start_time": "2024-03-31T08:15:29.229Z"
   },
   {
    "duration": 10,
    "start_time": "2024-03-31T08:15:29.234Z"
   },
   {
    "duration": 42,
    "start_time": "2024-03-31T08:15:29.245Z"
   },
   {
    "duration": 5,
    "start_time": "2024-03-31T08:15:29.289Z"
   },
   {
    "duration": 59070,
    "start_time": "2024-03-31T08:15:29.296Z"
   },
   {
    "duration": 0,
    "start_time": "2024-03-31T08:16:28.368Z"
   },
   {
    "duration": 0,
    "start_time": "2024-03-31T08:16:28.369Z"
   },
   {
    "duration": 0,
    "start_time": "2024-03-31T08:16:28.370Z"
   },
   {
    "duration": 0,
    "start_time": "2024-03-31T08:16:28.371Z"
   },
   {
    "duration": 0,
    "start_time": "2024-03-31T08:16:28.372Z"
   },
   {
    "duration": 0,
    "start_time": "2024-03-31T08:16:28.373Z"
   },
   {
    "duration": 0,
    "start_time": "2024-03-31T08:16:28.374Z"
   },
   {
    "duration": 1,
    "start_time": "2024-03-31T08:16:28.387Z"
   },
   {
    "duration": 0,
    "start_time": "2024-03-31T08:16:28.388Z"
   },
   {
    "duration": 0,
    "start_time": "2024-03-31T08:16:28.389Z"
   },
   {
    "duration": 0,
    "start_time": "2024-03-31T08:16:28.390Z"
   },
   {
    "duration": 0,
    "start_time": "2024-03-31T08:16:28.392Z"
   },
   {
    "duration": 0,
    "start_time": "2024-03-31T08:16:28.393Z"
   },
   {
    "duration": 0,
    "start_time": "2024-03-31T08:16:28.393Z"
   },
   {
    "duration": 0,
    "start_time": "2024-03-31T08:16:28.396Z"
   },
   {
    "duration": 0,
    "start_time": "2024-03-31T08:16:28.397Z"
   },
   {
    "duration": 0,
    "start_time": "2024-03-31T08:16:28.398Z"
   },
   {
    "duration": 0,
    "start_time": "2024-03-31T08:16:28.399Z"
   },
   {
    "duration": 0,
    "start_time": "2024-03-31T08:16:28.400Z"
   },
   {
    "duration": 0,
    "start_time": "2024-03-31T08:16:28.400Z"
   },
   {
    "duration": 0,
    "start_time": "2024-03-31T08:16:28.402Z"
   },
   {
    "duration": 0,
    "start_time": "2024-03-31T08:16:28.402Z"
   },
   {
    "duration": 0,
    "start_time": "2024-03-31T08:16:28.404Z"
   },
   {
    "duration": 0,
    "start_time": "2024-03-31T08:16:28.404Z"
   },
   {
    "duration": 5,
    "start_time": "2024-03-31T08:32:43.385Z"
   },
   {
    "duration": 5115,
    "start_time": "2024-03-31T09:06:32.336Z"
   },
   {
    "duration": 1931,
    "start_time": "2024-03-31T09:06:37.454Z"
   },
   {
    "duration": 75,
    "start_time": "2024-03-31T09:06:39.387Z"
   },
   {
    "duration": 14,
    "start_time": "2024-03-31T09:06:39.463Z"
   },
   {
    "duration": 22,
    "start_time": "2024-03-31T09:06:39.479Z"
   },
   {
    "duration": 8,
    "start_time": "2024-03-31T09:06:39.503Z"
   },
   {
    "duration": 9,
    "start_time": "2024-03-31T09:06:39.512Z"
   },
   {
    "duration": 8,
    "start_time": "2024-03-31T09:06:39.522Z"
   },
   {
    "duration": 13,
    "start_time": "2024-03-31T09:06:39.531Z"
   },
   {
    "duration": 9,
    "start_time": "2024-03-31T09:06:39.547Z"
   },
   {
    "duration": 30,
    "start_time": "2024-03-31T09:06:39.557Z"
   },
   {
    "duration": 5,
    "start_time": "2024-03-31T09:06:39.589Z"
   },
   {
    "duration": 16,
    "start_time": "2024-03-31T09:06:39.596Z"
   },
   {
    "duration": 16,
    "start_time": "2024-03-31T09:06:39.613Z"
   },
   {
    "duration": 149,
    "start_time": "2024-03-31T09:06:39.630Z"
   },
   {
    "duration": 91,
    "start_time": "2024-03-31T09:06:39.780Z"
   },
   {
    "duration": 116,
    "start_time": "2024-03-31T09:06:39.873Z"
   },
   {
    "duration": 173,
    "start_time": "2024-03-31T09:06:39.990Z"
   },
   {
    "duration": 109,
    "start_time": "2024-03-31T09:06:40.165Z"
   },
   {
    "duration": 119,
    "start_time": "2024-03-31T09:06:40.276Z"
   },
   {
    "duration": 133,
    "start_time": "2024-03-31T09:06:40.397Z"
   },
   {
    "duration": 268,
    "start_time": "2024-03-31T09:06:40.531Z"
   },
   {
    "duration": 111,
    "start_time": "2024-03-31T09:06:40.800Z"
   },
   {
    "duration": 4,
    "start_time": "2024-03-31T09:06:40.912Z"
   },
   {
    "duration": 189,
    "start_time": "2024-03-31T09:06:40.917Z"
   },
   {
    "duration": 3,
    "start_time": "2024-03-31T09:06:41.108Z"
   },
   {
    "duration": 6,
    "start_time": "2024-03-31T09:06:41.112Z"
   },
   {
    "duration": 13,
    "start_time": "2024-03-31T09:06:41.121Z"
   },
   {
    "duration": 21,
    "start_time": "2024-03-31T09:06:41.135Z"
   },
   {
    "duration": 17,
    "start_time": "2024-03-31T09:06:41.157Z"
   },
   {
    "duration": 10,
    "start_time": "2024-03-31T09:06:41.175Z"
   },
   {
    "duration": 15,
    "start_time": "2024-03-31T09:06:41.186Z"
   },
   {
    "duration": 34958,
    "start_time": "2024-03-31T09:06:41.202Z"
   },
   {
    "duration": 2,
    "start_time": "2024-03-31T09:07:16.162Z"
   },
   {
    "duration": 12,
    "start_time": "2024-03-31T09:07:16.166Z"
   },
   {
    "duration": 293,
    "start_time": "2024-03-31T09:07:16.188Z"
   },
   {
    "duration": 4,
    "start_time": "2024-03-31T09:07:16.483Z"
   },
   {
    "duration": 65,
    "start_time": "2024-03-31T09:07:16.489Z"
   },
   {
    "duration": 9,
    "start_time": "2024-03-31T09:07:16.555Z"
   },
   {
    "duration": 31,
    "start_time": "2024-03-31T09:07:16.566Z"
   },
   {
    "duration": 33,
    "start_time": "2024-03-31T09:07:16.599Z"
   },
   {
    "duration": 1040,
    "start_time": "2024-03-31T09:07:16.634Z"
   },
   {
    "duration": 25,
    "start_time": "2024-03-31T09:07:17.676Z"
   },
   {
    "duration": 38,
    "start_time": "2024-03-31T09:07:17.703Z"
   },
   {
    "duration": 14,
    "start_time": "2024-03-31T09:07:17.742Z"
   },
   {
    "duration": 13,
    "start_time": "2024-03-31T09:07:17.757Z"
   },
   {
    "duration": 1237,
    "start_time": "2024-03-31T09:07:17.772Z"
   },
   {
    "duration": 13,
    "start_time": "2024-03-31T09:07:19.010Z"
   },
   {
    "duration": 6,
    "start_time": "2024-03-31T09:07:19.025Z"
   },
   {
    "duration": 49073,
    "start_time": "2024-03-31T09:07:19.032Z"
   },
   {
    "duration": 0,
    "start_time": "2024-03-31T09:08:08.107Z"
   },
   {
    "duration": 0,
    "start_time": "2024-03-31T09:08:08.108Z"
   },
   {
    "duration": 0,
    "start_time": "2024-03-31T09:08:08.109Z"
   },
   {
    "duration": 0,
    "start_time": "2024-03-31T09:08:08.110Z"
   },
   {
    "duration": 0,
    "start_time": "2024-03-31T09:08:08.111Z"
   },
   {
    "duration": 0,
    "start_time": "2024-03-31T09:08:08.112Z"
   },
   {
    "duration": 0,
    "start_time": "2024-03-31T09:08:08.113Z"
   },
   {
    "duration": 4,
    "start_time": "2024-03-31T09:16:30.491Z"
   },
   {
    "duration": 40,
    "start_time": "2024-03-31T09:16:33.691Z"
   },
   {
    "duration": 315,
    "start_time": "2024-03-31T09:16:34.951Z"
   },
   {
    "duration": 882,
    "start_time": "2024-03-31T09:17:13.475Z"
   },
   {
    "duration": 543,
    "start_time": "2024-03-31T09:17:17.130Z"
   },
   {
    "duration": 297,
    "start_time": "2024-03-31T09:17:38.467Z"
   },
   {
    "duration": 122,
    "start_time": "2024-03-31T09:17:39.363Z"
   },
   {
    "duration": 64,
    "start_time": "2024-03-31T09:17:45.119Z"
   },
   {
    "duration": 15,
    "start_time": "2024-03-31T09:17:50.299Z"
   },
   {
    "duration": 10,
    "start_time": "2024-03-31T09:19:10.643Z"
   },
   {
    "duration": 12,
    "start_time": "2024-03-31T09:19:38.103Z"
   },
   {
    "duration": 16,
    "start_time": "2024-03-31T09:21:00.399Z"
   },
   {
    "duration": 4,
    "start_time": "2024-03-31T09:21:25.270Z"
   },
   {
    "duration": 15,
    "start_time": "2024-03-31T09:21:44.907Z"
   },
   {
    "duration": 12,
    "start_time": "2024-03-31T09:21:58.387Z"
   },
   {
    "duration": 326,
    "start_time": "2024-03-31T09:22:02.663Z"
   },
   {
    "duration": 124,
    "start_time": "2024-03-31T09:22:04.963Z"
   },
   {
    "duration": 63,
    "start_time": "2024-03-31T09:22:07.303Z"
   },
   {
    "duration": 27,
    "start_time": "2024-03-31T09:22:32.295Z"
   },
   {
    "duration": 22,
    "start_time": "2024-03-31T09:23:01.859Z"
   },
   {
    "duration": 15,
    "start_time": "2024-03-31T09:23:09.722Z"
   },
   {
    "duration": 21,
    "start_time": "2024-03-31T09:23:21.899Z"
   },
   {
    "duration": 10,
    "start_time": "2024-03-31T09:24:59.494Z"
   },
   {
    "duration": 9,
    "start_time": "2024-03-31T09:25:19.131Z"
   },
   {
    "duration": 17,
    "start_time": "2024-03-31T09:25:24.382Z"
   },
   {
    "duration": 3,
    "start_time": "2024-03-31T09:26:32.763Z"
   },
   {
    "duration": 13,
    "start_time": "2024-03-31T09:26:52.910Z"
   },
   {
    "duration": 3,
    "start_time": "2024-03-31T09:27:05.923Z"
   },
   {
    "duration": 41,
    "start_time": "2024-03-31T09:27:06.266Z"
   },
   {
    "duration": 2707,
    "start_time": "2024-03-31T09:27:06.962Z"
   },
   {
    "duration": 146,
    "start_time": "2024-03-31T09:27:09.671Z"
   },
   {
    "duration": 80,
    "start_time": "2024-03-31T09:27:09.819Z"
   },
   {
    "duration": 1270,
    "start_time": "2024-03-31T09:27:09.901Z"
   },
   {
    "duration": 24,
    "start_time": "2024-03-31T09:27:46.490Z"
   },
   {
    "duration": 17,
    "start_time": "2024-03-31T09:27:54.026Z"
   },
   {
    "duration": 16,
    "start_time": "2024-03-31T09:28:29.702Z"
   },
   {
    "duration": 81,
    "start_time": "2024-03-31T09:28:55.382Z"
   },
   {
    "duration": 12,
    "start_time": "2024-03-31T09:29:12.338Z"
   },
   {
    "duration": 13,
    "start_time": "2024-03-31T09:29:37.860Z"
   },
   {
    "duration": 1867,
    "start_time": "2024-03-31T09:29:50.702Z"
   },
   {
    "duration": 13,
    "start_time": "2024-03-31T09:30:01.338Z"
   },
   {
    "duration": 138,
    "start_time": "2024-03-31T09:30:10.311Z"
   },
   {
    "duration": 75,
    "start_time": "2024-03-31T09:30:14.582Z"
   },
   {
    "duration": 1255,
    "start_time": "2024-03-31T09:30:57.566Z"
   },
   {
    "duration": 149,
    "start_time": "2024-03-31T09:30:58.823Z"
   },
   {
    "duration": 76,
    "start_time": "2024-03-31T09:31:00.534Z"
   },
   {
    "duration": 1856,
    "start_time": "2024-03-31T09:31:56.338Z"
   },
   {
    "duration": 145,
    "start_time": "2024-03-31T09:31:58.196Z"
   },
   {
    "duration": 74,
    "start_time": "2024-03-31T09:31:59.646Z"
   },
   {
    "duration": 2211,
    "start_time": "2024-03-31T09:33:22.866Z"
   },
   {
    "duration": 144,
    "start_time": "2024-03-31T09:33:33.626Z"
   },
   {
    "duration": 92,
    "start_time": "2024-03-31T09:33:34.390Z"
   },
   {
    "duration": 1478,
    "start_time": "2024-03-31T09:34:05.662Z"
   },
   {
    "duration": 163,
    "start_time": "2024-03-31T09:34:07.142Z"
   },
   {
    "duration": 78,
    "start_time": "2024-03-31T09:34:07.997Z"
   },
   {
    "duration": 538,
    "start_time": "2024-03-31T09:34:43.218Z"
   },
   {
    "duration": 187,
    "start_time": "2024-03-31T09:34:44.002Z"
   },
   {
    "duration": 99,
    "start_time": "2024-03-31T09:34:45.954Z"
   },
   {
    "duration": 1079,
    "start_time": "2024-03-31T09:37:48.546Z"
   },
   {
    "duration": 206,
    "start_time": "2024-03-31T09:37:50.686Z"
   },
   {
    "duration": 109,
    "start_time": "2024-03-31T09:37:52.786Z"
   },
   {
    "duration": 2043,
    "start_time": "2024-03-31T09:38:48.774Z"
   },
   {
    "duration": 218,
    "start_time": "2024-03-31T09:38:50.819Z"
   },
   {
    "duration": 107,
    "start_time": "2024-03-31T09:38:51.754Z"
   },
   {
    "duration": 2056,
    "start_time": "2024-03-31T09:39:40.090Z"
   },
   {
    "duration": 162,
    "start_time": "2024-03-31T09:39:42.148Z"
   },
   {
    "duration": 78,
    "start_time": "2024-03-31T09:39:43.962Z"
   },
   {
    "duration": 1192,
    "start_time": "2024-03-31T09:40:17.711Z"
   },
   {
    "duration": 206,
    "start_time": "2024-03-31T09:40:18.905Z"
   },
   {
    "duration": 100,
    "start_time": "2024-03-31T09:40:20.738Z"
   },
   {
    "duration": 1213,
    "start_time": "2024-03-31T09:41:51.282Z"
   },
   {
    "duration": 132,
    "start_time": "2024-03-31T09:41:52.497Z"
   },
   {
    "duration": 75,
    "start_time": "2024-03-31T09:41:53.237Z"
   },
   {
    "duration": 1072,
    "start_time": "2024-03-31T09:42:31.766Z"
   },
   {
    "duration": 139,
    "start_time": "2024-03-31T09:42:32.840Z"
   },
   {
    "duration": 68,
    "start_time": "2024-03-31T09:42:34.074Z"
   },
   {
    "duration": 1132,
    "start_time": "2024-03-31T09:47:04.334Z"
   },
   {
    "duration": 212,
    "start_time": "2024-03-31T09:47:05.468Z"
   },
   {
    "duration": 106,
    "start_time": "2024-03-31T09:47:06.302Z"
   },
   {
    "duration": 1098,
    "start_time": "2024-03-31T09:54:52.449Z"
   },
   {
    "duration": 208,
    "start_time": "2024-03-31T09:54:54.765Z"
   },
   {
    "duration": 110,
    "start_time": "2024-03-31T09:54:55.501Z"
   },
   {
    "duration": 210,
    "start_time": "2024-03-31T09:55:58.905Z"
   },
   {
    "duration": 11,
    "start_time": "2024-03-31T09:55:59.690Z"
   },
   {
    "duration": 14,
    "start_time": "2024-03-31T09:56:43.633Z"
   },
   {
    "duration": 8,
    "start_time": "2024-03-31T09:56:58.908Z"
   },
   {
    "duration": 14,
    "start_time": "2024-03-31T09:57:31.541Z"
   },
   {
    "duration": 15,
    "start_time": "2024-03-31T09:59:55.981Z"
   },
   {
    "duration": 7,
    "start_time": "2024-03-31T10:03:04.276Z"
   },
   {
    "duration": 7,
    "start_time": "2024-03-31T10:03:43.460Z"
   },
   {
    "duration": 18,
    "start_time": "2024-03-31T10:03:46.544Z"
   },
   {
    "duration": 14,
    "start_time": "2024-03-31T10:04:13.248Z"
   },
   {
    "duration": 8,
    "start_time": "2024-03-31T10:04:18.149Z"
   },
   {
    "duration": 8,
    "start_time": "2024-03-31T10:04:23.125Z"
   },
   {
    "duration": 8,
    "start_time": "2024-03-31T10:04:48.520Z"
   },
   {
    "duration": 18,
    "start_time": "2024-03-31T10:04:49.848Z"
   },
   {
    "duration": 7,
    "start_time": "2024-03-31T10:06:39.472Z"
   },
   {
    "duration": 8,
    "start_time": "2024-03-31T10:06:43.192Z"
   },
   {
    "duration": 19,
    "start_time": "2024-03-31T10:06:43.640Z"
   },
   {
    "duration": 7,
    "start_time": "2024-03-31T10:07:22.828Z"
   },
   {
    "duration": 8,
    "start_time": "2024-03-31T10:07:24.424Z"
   },
   {
    "duration": 7,
    "start_time": "2024-03-31T10:07:29.296Z"
   },
   {
    "duration": 19,
    "start_time": "2024-03-31T10:07:29.784Z"
   },
   {
    "duration": 16,
    "start_time": "2024-03-31T10:10:32.248Z"
   },
   {
    "duration": 16,
    "start_time": "2024-03-31T10:10:49.324Z"
   },
   {
    "duration": 14,
    "start_time": "2024-03-31T10:10:53.776Z"
   },
   {
    "duration": 1939,
    "start_time": "2024-03-31T10:12:09.080Z"
   },
   {
    "duration": 1592,
    "start_time": "2024-03-31T10:12:28.352Z"
   },
   {
    "duration": 10,
    "start_time": "2024-03-31T10:12:35.908Z"
   },
   {
    "duration": 1617,
    "start_time": "2024-03-31T10:12:43.283Z"
   },
   {
    "duration": 1531,
    "start_time": "2024-03-31T10:12:58.260Z"
   },
   {
    "duration": 12,
    "start_time": "2024-03-31T10:14:51.660Z"
   },
   {
    "duration": 5,
    "start_time": "2024-03-31T10:15:42.119Z"
   },
   {
    "duration": 9,
    "start_time": "2024-03-31T10:16:16.391Z"
   },
   {
    "duration": 19,
    "start_time": "2024-03-31T10:16:17.363Z"
   },
   {
    "duration": 5,
    "start_time": "2024-03-31T10:16:23.247Z"
   },
   {
    "duration": 7,
    "start_time": "2024-03-31T10:16:56.819Z"
   },
   {
    "duration": 18,
    "start_time": "2024-03-31T10:16:57.324Z"
   },
   {
    "duration": 4,
    "start_time": "2024-03-31T10:17:05.932Z"
   },
   {
    "duration": 6,
    "start_time": "2024-03-31T10:22:22.848Z"
   },
   {
    "duration": 10,
    "start_time": "2024-03-31T10:22:27.955Z"
   },
   {
    "duration": 11,
    "start_time": "2024-03-31T10:25:02.583Z"
   },
   {
    "duration": 21,
    "start_time": "2024-03-31T10:25:25.263Z"
   },
   {
    "duration": 6,
    "start_time": "2024-03-31T10:25:42.847Z"
   },
   {
    "duration": 10,
    "start_time": "2024-03-31T10:25:47.328Z"
   },
   {
    "duration": 15,
    "start_time": "2024-03-31T10:26:24.855Z"
   },
   {
    "duration": 5,
    "start_time": "2024-03-31T10:26:34.403Z"
   },
   {
    "duration": 10,
    "start_time": "2024-03-31T10:26:39.247Z"
   },
   {
    "duration": 10,
    "start_time": "2024-03-31T10:26:45.499Z"
   },
   {
    "duration": 9,
    "start_time": "2024-03-31T10:29:47.815Z"
   },
   {
    "duration": 79,
    "start_time": "2024-03-31T10:30:18.791Z"
   },
   {
    "duration": 20,
    "start_time": "2024-03-31T10:30:52.415Z"
   },
   {
    "duration": 30,
    "start_time": "2024-03-31T10:31:04.567Z"
   },
   {
    "duration": 15,
    "start_time": "2024-03-31T10:31:13.679Z"
   },
   {
    "duration": 19,
    "start_time": "2024-03-31T10:31:22.071Z"
   },
   {
    "duration": 29,
    "start_time": "2024-03-31T10:32:15.279Z"
   },
   {
    "duration": 30,
    "start_time": "2024-03-31T10:32:21.395Z"
   },
   {
    "duration": 20,
    "start_time": "2024-03-31T10:32:38.211Z"
   },
   {
    "duration": 12,
    "start_time": "2024-03-31T10:32:47.495Z"
   },
   {
    "duration": 11,
    "start_time": "2024-03-31T10:33:13.747Z"
   },
   {
    "duration": 12,
    "start_time": "2024-03-31T10:37:51.567Z"
   },
   {
    "duration": 143,
    "start_time": "2024-03-31T10:38:05.211Z"
   },
   {
    "duration": 123,
    "start_time": "2024-03-31T10:39:26.991Z"
   },
   {
    "duration": 6,
    "start_time": "2024-03-31T10:39:49.466Z"
   },
   {
    "duration": 7,
    "start_time": "2024-03-31T10:40:00.355Z"
   },
   {
    "duration": 83,
    "start_time": "2024-03-31T10:40:08.127Z"
   },
   {
    "duration": 10,
    "start_time": "2024-03-31T10:40:16.127Z"
   },
   {
    "duration": 12,
    "start_time": "2024-03-31T10:40:21.170Z"
   },
   {
    "duration": 9,
    "start_time": "2024-03-31T10:40:24.095Z"
   },
   {
    "duration": 278,
    "start_time": "2024-03-31T10:41:04.627Z"
   },
   {
    "duration": 11,
    "start_time": "2024-03-31T10:41:14.198Z"
   },
   {
    "duration": 17,
    "start_time": "2024-03-31T10:42:57.475Z"
   },
   {
    "duration": 17,
    "start_time": "2024-03-31T10:43:18.379Z"
   },
   {
    "duration": 21,
    "start_time": "2024-03-31T10:45:28.927Z"
   },
   {
    "duration": 21,
    "start_time": "2024-03-31T10:46:43.558Z"
   },
   {
    "duration": 82,
    "start_time": "2024-03-31T10:48:06.854Z"
   },
   {
    "duration": 12,
    "start_time": "2024-03-31T10:48:11.242Z"
   },
   {
    "duration": 12,
    "start_time": "2024-03-31T10:48:17.722Z"
   },
   {
    "duration": 11,
    "start_time": "2024-03-31T10:48:27.161Z"
   },
   {
    "duration": 17,
    "start_time": "2024-03-31T10:48:33.647Z"
   },
   {
    "duration": 14,
    "start_time": "2024-03-31T10:48:51.342Z"
   },
   {
    "duration": 10,
    "start_time": "2024-03-31T10:48:54.507Z"
   },
   {
    "duration": 11,
    "start_time": "2024-03-31T10:49:43.467Z"
   },
   {
    "duration": 11,
    "start_time": "2024-03-31T10:49:48.171Z"
   },
   {
    "duration": 15,
    "start_time": "2024-03-31T10:49:55.090Z"
   },
   {
    "duration": 84,
    "start_time": "2024-03-31T10:51:41.295Z"
   },
   {
    "duration": 79,
    "start_time": "2024-03-31T10:53:01.491Z"
   },
   {
    "duration": 14,
    "start_time": "2024-03-31T10:55:47.394Z"
   },
   {
    "duration": 15,
    "start_time": "2024-03-31T10:56:02.062Z"
   },
   {
    "duration": 4,
    "start_time": "2024-03-31T10:56:37.978Z"
   },
   {
    "duration": 24,
    "start_time": "2024-03-31T10:56:52.400Z"
   },
   {
    "duration": 22,
    "start_time": "2024-03-31T10:57:13.167Z"
   },
   {
    "duration": 27,
    "start_time": "2024-03-31T12:34:10.428Z"
   },
   {
    "duration": 21,
    "start_time": "2024-03-31T12:34:26.817Z"
   },
   {
    "duration": 21,
    "start_time": "2024-03-31T12:34:33.961Z"
   },
   {
    "duration": 14,
    "start_time": "2024-03-31T12:38:24.513Z"
   },
   {
    "duration": 10,
    "start_time": "2024-03-31T12:47:01.969Z"
   },
   {
    "duration": 28,
    "start_time": "2024-03-31T12:48:18.349Z"
   },
   {
    "duration": 26,
    "start_time": "2024-03-31T12:48:30.892Z"
   },
   {
    "duration": 24,
    "start_time": "2024-03-31T12:48:36.376Z"
   },
   {
    "duration": 34,
    "start_time": "2024-03-31T12:49:17.228Z"
   },
   {
    "duration": 2921,
    "start_time": "2024-03-31T12:54:33.272Z"
   },
   {
    "duration": 31704,
    "start_time": "2024-03-31T12:55:14.969Z"
   },
   {
    "duration": 31845,
    "start_time": "2024-03-31T12:55:54.684Z"
   },
   {
    "duration": 21,
    "start_time": "2024-03-31T12:56:38.688Z"
   },
   {
    "duration": 20,
    "start_time": "2024-03-31T12:57:08.284Z"
   },
   {
    "duration": 31,
    "start_time": "2024-03-31T12:57:42.717Z"
   },
   {
    "duration": 24,
    "start_time": "2024-03-31T12:57:45.656Z"
   },
   {
    "duration": 23,
    "start_time": "2024-03-31T12:57:50.405Z"
   },
   {
    "duration": 20,
    "start_time": "2024-03-31T12:58:20.592Z"
   },
   {
    "duration": 4,
    "start_time": "2024-03-31T12:58:31.593Z"
   },
   {
    "duration": 5,
    "start_time": "2024-03-31T12:59:25.924Z"
   },
   {
    "duration": 5,
    "start_time": "2024-03-31T13:00:45.532Z"
   },
   {
    "duration": 4,
    "start_time": "2024-03-31T13:02:02.036Z"
   },
   {
    "duration": 30877,
    "start_time": "2024-03-31T13:02:17.552Z"
   },
   {
    "duration": 4,
    "start_time": "2024-03-31T13:02:48.431Z"
   },
   {
    "duration": 24,
    "start_time": "2024-03-31T13:04:23.452Z"
   },
   {
    "duration": 4,
    "start_time": "2024-03-31T13:04:47.804Z"
   },
   {
    "duration": 3,
    "start_time": "2024-03-31T14:22:03.636Z"
   },
   {
    "duration": 4,
    "start_time": "2024-03-31T14:22:03.787Z"
   },
   {
    "duration": 3,
    "start_time": "2024-03-31T14:22:03.902Z"
   },
   {
    "duration": 5,
    "start_time": "2024-03-31T14:23:29.374Z"
   },
   {
    "duration": 13,
    "start_time": "2024-03-31T14:24:30.167Z"
   },
   {
    "duration": 5,
    "start_time": "2024-03-31T14:24:52.439Z"
   },
   {
    "duration": 3,
    "start_time": "2024-03-31T14:24:57.558Z"
   },
   {
    "duration": 44069,
    "start_time": "2024-03-31T14:25:39.559Z"
   },
   {
    "duration": 4,
    "start_time": "2024-03-31T14:33:47.587Z"
   },
   {
    "duration": 5,
    "start_time": "2024-03-31T14:34:37.211Z"
   },
   {
    "duration": 148,
    "start_time": "2024-03-31T14:34:43.301Z"
   },
   {
    "duration": 146,
    "start_time": "2024-03-31T14:35:13.331Z"
   },
   {
    "duration": 151,
    "start_time": "2024-03-31T14:35:30.534Z"
   },
   {
    "duration": 172,
    "start_time": "2024-03-31T14:35:37.295Z"
   },
   {
    "duration": 14,
    "start_time": "2024-03-31T14:37:40.331Z"
   },
   {
    "duration": 4,
    "start_time": "2024-03-31T14:37:45.802Z"
   },
   {
    "duration": 7,
    "start_time": "2024-03-31T14:38:00.499Z"
   },
   {
    "duration": 1160,
    "start_time": "2024-03-31T14:38:22.271Z"
   },
   {
    "duration": 697,
    "start_time": "2024-03-31T14:42:25.806Z"
   },
   {
    "duration": 192,
    "start_time": "2024-03-31T14:42:27.170Z"
   },
   {
    "duration": 100,
    "start_time": "2024-03-31T14:42:34.643Z"
   },
   {
    "duration": 6134,
    "start_time": "2024-03-31T14:46:16.583Z"
   },
   {
    "duration": 6485,
    "start_time": "2024-03-31T14:46:32.535Z"
   },
   {
    "duration": 6,
    "start_time": "2024-03-31T14:47:50.222Z"
   },
   {
    "duration": 34,
    "start_time": "2024-03-31T14:49:31.648Z"
   },
   {
    "duration": 1306,
    "start_time": "2024-03-31T14:49:51.283Z"
   },
   {
    "duration": 1359,
    "start_time": "2024-03-31T14:49:55.174Z"
   },
   {
    "duration": 1373,
    "start_time": "2024-03-31T14:50:03.362Z"
   },
   {
    "duration": 1344,
    "start_time": "2024-03-31T14:50:13.214Z"
   },
   {
    "duration": 1359,
    "start_time": "2024-03-31T14:50:26.842Z"
   },
   {
    "duration": 1910,
    "start_time": "2024-03-31T14:50:31.214Z"
   },
   {
    "duration": 2534,
    "start_time": "2024-03-31T14:50:45.702Z"
   },
   {
    "duration": 8,
    "start_time": "2024-03-31T14:50:50.614Z"
   },
   {
    "duration": 30,
    "start_time": "2024-03-31T14:51:05.514Z"
   },
   {
    "duration": 22,
    "start_time": "2024-03-31T14:51:10.079Z"
   },
   {
    "duration": 49,
    "start_time": "2024-04-06T12:07:13.953Z"
   },
   {
    "duration": 7,
    "start_time": "2024-04-06T12:07:17.956Z"
   },
   {
    "duration": 6493,
    "start_time": "2024-04-06T12:07:21.585Z"
   },
   {
    "duration": 7028,
    "start_time": "2024-04-06T12:07:28.080Z"
   },
   {
    "duration": 1876,
    "start_time": "2024-04-06T12:07:35.110Z"
   },
   {
    "duration": 258,
    "start_time": "2024-04-06T12:07:36.989Z"
   },
   {
    "duration": 14,
    "start_time": "2024-04-06T12:07:37.248Z"
   },
   {
    "duration": 8,
    "start_time": "2024-04-06T12:07:37.263Z"
   },
   {
    "duration": 18,
    "start_time": "2024-04-06T12:07:37.272Z"
   },
   {
    "duration": 11,
    "start_time": "2024-04-06T12:07:37.292Z"
   },
   {
    "duration": 14,
    "start_time": "2024-04-06T12:07:37.304Z"
   },
   {
    "duration": 23,
    "start_time": "2024-04-06T12:07:37.320Z"
   },
   {
    "duration": 13,
    "start_time": "2024-04-06T12:07:37.344Z"
   },
   {
    "duration": 29,
    "start_time": "2024-04-06T12:07:37.359Z"
   },
   {
    "duration": 17,
    "start_time": "2024-04-06T12:07:37.390Z"
   },
   {
    "duration": 17,
    "start_time": "2024-04-06T12:07:37.408Z"
   },
   {
    "duration": 14,
    "start_time": "2024-04-06T12:07:37.427Z"
   },
   {
    "duration": 123,
    "start_time": "2024-04-06T12:07:37.442Z"
   },
   {
    "duration": 91,
    "start_time": "2024-04-06T12:07:37.566Z"
   },
   {
    "duration": 105,
    "start_time": "2024-04-06T12:07:37.658Z"
   },
   {
    "duration": 149,
    "start_time": "2024-04-06T12:07:37.764Z"
   },
   {
    "duration": 115,
    "start_time": "2024-04-06T12:07:37.915Z"
   },
   {
    "duration": 218,
    "start_time": "2024-04-06T12:07:38.033Z"
   },
   {
    "duration": 114,
    "start_time": "2024-04-06T12:07:38.252Z"
   },
   {
    "duration": 172,
    "start_time": "2024-04-06T12:07:38.368Z"
   },
   {
    "duration": 103,
    "start_time": "2024-04-06T12:07:38.541Z"
   },
   {
    "duration": 3,
    "start_time": "2024-04-06T12:07:38.646Z"
   },
   {
    "duration": 186,
    "start_time": "2024-04-06T12:07:38.650Z"
   },
   {
    "duration": 3,
    "start_time": "2024-04-06T12:07:38.837Z"
   },
   {
    "duration": 153,
    "start_time": "2024-04-06T12:07:38.843Z"
   },
   {
    "duration": 0,
    "start_time": "2024-04-06T12:07:38.997Z"
   },
   {
    "duration": 0,
    "start_time": "2024-04-06T12:07:38.998Z"
   },
   {
    "duration": 0,
    "start_time": "2024-04-06T12:07:38.999Z"
   },
   {
    "duration": 0,
    "start_time": "2024-04-06T12:07:39.000Z"
   },
   {
    "duration": 0,
    "start_time": "2024-04-06T12:07:39.001Z"
   },
   {
    "duration": 0,
    "start_time": "2024-04-06T12:07:39.002Z"
   },
   {
    "duration": 0,
    "start_time": "2024-04-06T12:07:39.003Z"
   },
   {
    "duration": 0,
    "start_time": "2024-04-06T12:07:39.005Z"
   },
   {
    "duration": 0,
    "start_time": "2024-04-06T12:07:39.006Z"
   },
   {
    "duration": 0,
    "start_time": "2024-04-06T12:07:39.007Z"
   },
   {
    "duration": 0,
    "start_time": "2024-04-06T12:07:39.008Z"
   },
   {
    "duration": 0,
    "start_time": "2024-04-06T12:07:39.010Z"
   },
   {
    "duration": 0,
    "start_time": "2024-04-06T12:07:39.011Z"
   },
   {
    "duration": 0,
    "start_time": "2024-04-06T12:07:39.012Z"
   },
   {
    "duration": 0,
    "start_time": "2024-04-06T12:07:39.014Z"
   },
   {
    "duration": 0,
    "start_time": "2024-04-06T12:07:39.014Z"
   },
   {
    "duration": 0,
    "start_time": "2024-04-06T12:07:39.015Z"
   },
   {
    "duration": 0,
    "start_time": "2024-04-06T12:07:39.016Z"
   },
   {
    "duration": 0,
    "start_time": "2024-04-06T12:07:39.017Z"
   },
   {
    "duration": 0,
    "start_time": "2024-04-06T12:07:39.018Z"
   },
   {
    "duration": 0,
    "start_time": "2024-04-06T12:07:39.019Z"
   },
   {
    "duration": 0,
    "start_time": "2024-04-06T12:07:39.020Z"
   },
   {
    "duration": 0,
    "start_time": "2024-04-06T12:07:39.021Z"
   },
   {
    "duration": 0,
    "start_time": "2024-04-06T12:07:39.022Z"
   },
   {
    "duration": 0,
    "start_time": "2024-04-06T12:07:39.023Z"
   },
   {
    "duration": 0,
    "start_time": "2024-04-06T12:07:39.024Z"
   },
   {
    "duration": 0,
    "start_time": "2024-04-06T12:07:39.025Z"
   },
   {
    "duration": 0,
    "start_time": "2024-04-06T12:07:39.026Z"
   },
   {
    "duration": 0,
    "start_time": "2024-04-06T12:07:39.027Z"
   },
   {
    "duration": 0,
    "start_time": "2024-04-06T12:07:39.028Z"
   },
   {
    "duration": 0,
    "start_time": "2024-04-06T12:07:39.029Z"
   },
   {
    "duration": 0,
    "start_time": "2024-04-06T12:07:39.030Z"
   },
   {
    "duration": 0,
    "start_time": "2024-04-06T12:07:39.088Z"
   },
   {
    "duration": 0,
    "start_time": "2024-04-06T12:07:39.089Z"
   },
   {
    "duration": 0,
    "start_time": "2024-04-06T12:07:39.089Z"
   },
   {
    "duration": 0,
    "start_time": "2024-04-06T12:07:39.090Z"
   },
   {
    "duration": 0,
    "start_time": "2024-04-06T12:07:39.092Z"
   },
   {
    "duration": 4,
    "start_time": "2024-04-06T12:08:15.301Z"
   },
   {
    "duration": 2,
    "start_time": "2024-04-06T12:08:16.383Z"
   },
   {
    "duration": 3,
    "start_time": "2024-04-06T12:08:21.341Z"
   },
   {
    "duration": 8,
    "start_time": "2024-04-06T12:08:21.764Z"
   },
   {
    "duration": 2,
    "start_time": "2024-04-06T12:08:22.257Z"
   },
   {
    "duration": 4,
    "start_time": "2024-04-06T12:08:23.010Z"
   },
   {
    "duration": 7804,
    "start_time": "2024-04-06T12:08:26.037Z"
   },
   {
    "duration": 4,
    "start_time": "2024-04-06T12:08:42.288Z"
   },
   {
    "duration": 23,
    "start_time": "2024-04-06T12:08:43.061Z"
   },
   {
    "duration": 22,
    "start_time": "2024-04-06T12:09:31.017Z"
   },
   {
    "duration": 12,
    "start_time": "2024-04-06T12:09:52.029Z"
   },
   {
    "duration": 2,
    "start_time": "2024-04-06T12:09:52.717Z"
   },
   {
    "duration": 3,
    "start_time": "2024-04-06T12:09:54.105Z"
   },
   {
    "duration": 8,
    "start_time": "2024-04-06T12:09:54.281Z"
   },
   {
    "duration": 2,
    "start_time": "2024-04-06T12:09:54.493Z"
   },
   {
    "duration": 4,
    "start_time": "2024-04-06T12:09:54.625Z"
   },
   {
    "duration": 8029,
    "start_time": "2024-04-06T12:09:54.806Z"
   },
   {
    "duration": 3,
    "start_time": "2024-04-06T12:10:02.837Z"
   },
   {
    "duration": 77,
    "start_time": "2024-04-06T12:10:02.842Z"
   },
   {
    "duration": 38,
    "start_time": "2024-04-06T12:10:02.921Z"
   },
   {
    "duration": 25,
    "start_time": "2024-04-06T12:10:22.802Z"
   },
   {
    "duration": 15,
    "start_time": "2024-04-06T12:11:43.413Z"
   },
   {
    "duration": 26,
    "start_time": "2024-04-06T12:12:18.769Z"
   },
   {
    "duration": 22,
    "start_time": "2024-04-06T12:12:34.789Z"
   },
   {
    "duration": 26,
    "start_time": "2024-04-06T12:13:00.974Z"
   },
   {
    "duration": 22,
    "start_time": "2024-04-06T12:13:27.314Z"
   },
   {
    "duration": 22,
    "start_time": "2024-04-06T12:13:40.825Z"
   },
   {
    "duration": 25,
    "start_time": "2024-04-06T12:14:35.242Z"
   },
   {
    "duration": 22,
    "start_time": "2024-04-06T12:14:43.846Z"
   },
   {
    "duration": 6,
    "start_time": "2024-04-06T12:55:03.891Z"
   },
   {
    "duration": 7882,
    "start_time": "2024-04-06T12:55:07.758Z"
   },
   {
    "duration": 4,
    "start_time": "2024-04-06T12:55:20.374Z"
   },
   {
    "duration": 23,
    "start_time": "2024-04-06T12:55:25.190Z"
   },
   {
    "duration": 23,
    "start_time": "2024-04-06T12:55:30.990Z"
   },
   {
    "duration": 4,
    "start_time": "2024-04-06T12:55:37.666Z"
   },
   {
    "duration": 37,
    "start_time": "2024-04-06T12:55:44.462Z"
   },
   {
    "duration": 14,
    "start_time": "2024-04-06T12:56:04.774Z"
   },
   {
    "duration": 27,
    "start_time": "2024-04-06T12:56:39.882Z"
   },
   {
    "duration": 8,
    "start_time": "2024-04-06T12:56:46.726Z"
   },
   {
    "duration": 23,
    "start_time": "2024-04-08T09:51:59.886Z"
   },
   {
    "duration": 30,
    "start_time": "2024-04-08T09:52:07.717Z"
   },
   {
    "duration": 19,
    "start_time": "2024-04-08T09:52:23.217Z"
   },
   {
    "duration": 23,
    "start_time": "2024-04-08T09:52:42.085Z"
   },
   {
    "duration": 76,
    "start_time": "2024-04-08T09:55:05.209Z"
   },
   {
    "duration": 9,
    "start_time": "2024-04-08T09:55:37.701Z"
   },
   {
    "duration": 4,
    "start_time": "2024-04-08T09:55:45.285Z"
   },
   {
    "duration": 4,
    "start_time": "2024-04-08T09:55:51.937Z"
   },
   {
    "duration": 4,
    "start_time": "2024-04-08T09:56:11.613Z"
   },
   {
    "duration": 5,
    "start_time": "2024-04-08T09:56:17.228Z"
   },
   {
    "duration": 14,
    "start_time": "2024-04-08T09:56:22.357Z"
   },
   {
    "duration": 23,
    "start_time": "2024-04-08T09:56:42.564Z"
   },
   {
    "duration": 23,
    "start_time": "2024-04-08T09:56:52.213Z"
   },
   {
    "duration": 22,
    "start_time": "2024-04-08T09:57:05.497Z"
   },
   {
    "duration": 3,
    "start_time": "2024-04-08T09:57:13.033Z"
   },
   {
    "duration": 8690,
    "start_time": "2024-04-08T09:57:33.673Z"
   },
   {
    "duration": 79,
    "start_time": "2024-04-08T09:58:33.169Z"
   },
   {
    "duration": 4,
    "start_time": "2024-04-08T09:58:40.209Z"
   },
   {
    "duration": 4,
    "start_time": "2024-04-08T09:59:01.410Z"
   },
   {
    "duration": 22023,
    "start_time": "2024-04-08T09:59:05.329Z"
   },
   {
    "duration": 4,
    "start_time": "2024-04-08T09:59:32.545Z"
   },
   {
    "duration": 317,
    "start_time": "2024-04-08T09:59:45.229Z"
   },
   {
    "duration": 307,
    "start_time": "2024-04-08T09:59:50.338Z"
   },
   {
    "duration": 10,
    "start_time": "2024-04-08T10:00:03.343Z"
   },
   {
    "duration": 4,
    "start_time": "2024-04-08T10:00:07.553Z"
   },
   {
    "duration": 299,
    "start_time": "2024-04-08T10:00:15.781Z"
   },
   {
    "duration": 300,
    "start_time": "2024-04-08T10:00:27.789Z"
   },
   {
    "duration": 17,
    "start_time": "2024-04-08T10:00:48.893Z"
   },
   {
    "duration": 5,
    "start_time": "2024-04-08T10:01:34.685Z"
   },
   {
    "duration": 1255,
    "start_time": "2024-04-08T10:01:55.244Z"
   },
   {
    "duration": 3194,
    "start_time": "2024-04-08T10:02:03.529Z"
   },
   {
    "duration": 20,
    "start_time": "2024-04-08T10:02:12.429Z"
   },
   {
    "duration": 1291,
    "start_time": "2024-04-08T10:05:01.825Z"
   },
   {
    "duration": 5232,
    "start_time": "2024-04-08T10:05:28.924Z"
   },
   {
    "duration": 2543,
    "start_time": "2024-04-08T10:05:34.159Z"
   },
   {
    "duration": 76,
    "start_time": "2024-04-08T10:05:36.704Z"
   },
   {
    "duration": 14,
    "start_time": "2024-04-08T10:05:36.782Z"
   },
   {
    "duration": 5,
    "start_time": "2024-04-08T10:05:36.797Z"
   },
   {
    "duration": 11,
    "start_time": "2024-04-08T10:05:36.804Z"
   },
   {
    "duration": 9,
    "start_time": "2024-04-08T10:05:36.816Z"
   },
   {
    "duration": 5,
    "start_time": "2024-04-08T10:05:36.827Z"
   },
   {
    "duration": 20,
    "start_time": "2024-04-08T10:05:36.834Z"
   },
   {
    "duration": 13,
    "start_time": "2024-04-08T10:05:36.857Z"
   },
   {
    "duration": 21,
    "start_time": "2024-04-08T10:05:36.871Z"
   },
   {
    "duration": 10,
    "start_time": "2024-04-08T10:05:36.894Z"
   },
   {
    "duration": 8,
    "start_time": "2024-04-08T10:05:36.906Z"
   },
   {
    "duration": 23,
    "start_time": "2024-04-08T10:05:36.915Z"
   },
   {
    "duration": 132,
    "start_time": "2024-04-08T10:05:36.940Z"
   },
   {
    "duration": 107,
    "start_time": "2024-04-08T10:05:37.074Z"
   },
   {
    "duration": 111,
    "start_time": "2024-04-08T10:05:37.183Z"
   },
   {
    "duration": 162,
    "start_time": "2024-04-08T10:05:37.295Z"
   },
   {
    "duration": 99,
    "start_time": "2024-04-08T10:05:37.459Z"
   },
   {
    "duration": 105,
    "start_time": "2024-04-08T10:05:37.560Z"
   },
   {
    "duration": 130,
    "start_time": "2024-04-08T10:05:37.666Z"
   },
   {
    "duration": 189,
    "start_time": "2024-04-08T10:05:37.797Z"
   },
   {
    "duration": 222,
    "start_time": "2024-04-08T10:05:37.988Z"
   },
   {
    "duration": 4,
    "start_time": "2024-04-08T10:05:38.212Z"
   },
   {
    "duration": 194,
    "start_time": "2024-04-08T10:05:38.218Z"
   },
   {
    "duration": 4,
    "start_time": "2024-04-08T10:05:38.414Z"
   },
   {
    "duration": 158,
    "start_time": "2024-04-08T10:05:38.420Z"
   },
   {
    "duration": 0,
    "start_time": "2024-04-08T10:05:38.580Z"
   },
   {
    "duration": 0,
    "start_time": "2024-04-08T10:05:38.582Z"
   },
   {
    "duration": 0,
    "start_time": "2024-04-08T10:05:38.583Z"
   },
   {
    "duration": 0,
    "start_time": "2024-04-08T10:05:38.584Z"
   },
   {
    "duration": 0,
    "start_time": "2024-04-08T10:05:38.586Z"
   },
   {
    "duration": 0,
    "start_time": "2024-04-08T10:05:38.587Z"
   },
   {
    "duration": 0,
    "start_time": "2024-04-08T10:05:38.588Z"
   },
   {
    "duration": 0,
    "start_time": "2024-04-08T10:05:38.589Z"
   },
   {
    "duration": 0,
    "start_time": "2024-04-08T10:05:38.590Z"
   },
   {
    "duration": 0,
    "start_time": "2024-04-08T10:05:38.591Z"
   },
   {
    "duration": 0,
    "start_time": "2024-04-08T10:05:38.591Z"
   },
   {
    "duration": 0,
    "start_time": "2024-04-08T10:05:38.592Z"
   },
   {
    "duration": 0,
    "start_time": "2024-04-08T10:05:38.593Z"
   },
   {
    "duration": 0,
    "start_time": "2024-04-08T10:05:38.594Z"
   },
   {
    "duration": 0,
    "start_time": "2024-04-08T10:05:38.595Z"
   },
   {
    "duration": 0,
    "start_time": "2024-04-08T10:05:38.596Z"
   },
   {
    "duration": 0,
    "start_time": "2024-04-08T10:05:38.597Z"
   },
   {
    "duration": 0,
    "start_time": "2024-04-08T10:05:38.598Z"
   },
   {
    "duration": 0,
    "start_time": "2024-04-08T10:05:38.600Z"
   },
   {
    "duration": 0,
    "start_time": "2024-04-08T10:05:38.601Z"
   },
   {
    "duration": 0,
    "start_time": "2024-04-08T10:05:38.602Z"
   },
   {
    "duration": 0,
    "start_time": "2024-04-08T10:05:38.603Z"
   },
   {
    "duration": 0,
    "start_time": "2024-04-08T10:05:38.604Z"
   },
   {
    "duration": 0,
    "start_time": "2024-04-08T10:05:38.605Z"
   },
   {
    "duration": 0,
    "start_time": "2024-04-08T10:05:38.606Z"
   },
   {
    "duration": 0,
    "start_time": "2024-04-08T10:05:38.656Z"
   },
   {
    "duration": 0,
    "start_time": "2024-04-08T10:05:38.657Z"
   },
   {
    "duration": 0,
    "start_time": "2024-04-08T10:05:38.658Z"
   },
   {
    "duration": 0,
    "start_time": "2024-04-08T10:05:38.659Z"
   },
   {
    "duration": 0,
    "start_time": "2024-04-08T10:05:38.660Z"
   },
   {
    "duration": 0,
    "start_time": "2024-04-08T10:05:38.661Z"
   },
   {
    "duration": 0,
    "start_time": "2024-04-08T10:05:38.662Z"
   },
   {
    "duration": 0,
    "start_time": "2024-04-08T10:05:38.663Z"
   },
   {
    "duration": 0,
    "start_time": "2024-04-08T10:05:38.664Z"
   },
   {
    "duration": 0,
    "start_time": "2024-04-08T10:05:38.665Z"
   },
   {
    "duration": 0,
    "start_time": "2024-04-08T10:05:38.667Z"
   },
   {
    "duration": 0,
    "start_time": "2024-04-08T10:05:38.668Z"
   },
   {
    "duration": 0,
    "start_time": "2024-04-08T10:05:38.669Z"
   },
   {
    "duration": 0,
    "start_time": "2024-04-08T10:05:38.670Z"
   },
   {
    "duration": 0,
    "start_time": "2024-04-08T10:05:38.671Z"
   },
   {
    "duration": 0,
    "start_time": "2024-04-08T10:05:38.673Z"
   },
   {
    "duration": 0,
    "start_time": "2024-04-08T10:05:38.673Z"
   },
   {
    "duration": 5,
    "start_time": "2024-04-08T10:05:49.416Z"
   },
   {
    "duration": 3,
    "start_time": "2024-04-08T10:05:51.061Z"
   },
   {
    "duration": 4,
    "start_time": "2024-04-08T10:05:52.628Z"
   },
   {
    "duration": 9,
    "start_time": "2024-04-08T10:05:54.128Z"
   },
   {
    "duration": 3,
    "start_time": "2024-04-08T10:05:54.520Z"
   },
   {
    "duration": 4,
    "start_time": "2024-04-08T10:05:55.045Z"
   },
   {
    "duration": 14672,
    "start_time": "2024-04-08T10:05:56.724Z"
   },
   {
    "duration": 4,
    "start_time": "2024-04-08T10:06:11.397Z"
   },
   {
    "duration": 24,
    "start_time": "2024-04-08T10:06:19.477Z"
   },
   {
    "duration": 15839,
    "start_time": "2024-04-08T10:10:52.593Z"
   },
   {
    "duration": 5,
    "start_time": "2024-04-08T10:11:12.544Z"
   },
   {
    "duration": 19603,
    "start_time": "2024-04-08T10:11:17.385Z"
   },
   {
    "duration": 2,
    "start_time": "2024-04-08T10:11:36.990Z"
   },
   {
    "duration": 13,
    "start_time": "2024-04-08T10:11:36.994Z"
   },
   {
    "duration": 100,
    "start_time": "2024-04-08T10:13:27.876Z"
   },
   {
    "duration": 19933,
    "start_time": "2024-04-08T10:14:45.993Z"
   },
   {
    "duration": 36,
    "start_time": "2024-04-08T10:16:13.240Z"
   },
   {
    "duration": 2179,
    "start_time": "2024-04-08T10:17:42.320Z"
   },
   {
    "duration": 3,
    "start_time": "2024-04-08T10:17:44.501Z"
   },
   {
    "duration": 17,
    "start_time": "2024-04-08T10:17:44.505Z"
   },
   {
    "duration": 1936,
    "start_time": "2024-04-08T10:18:29.720Z"
   },
   {
    "duration": 1813,
    "start_time": "2024-04-08T10:19:06.680Z"
   },
   {
    "duration": 5,
    "start_time": "2024-04-08T10:19:11.504Z"
   },
   {
    "duration": 12,
    "start_time": "2024-04-08T10:19:18.917Z"
   },
   {
    "duration": 25,
    "start_time": "2024-04-08T11:25:43.313Z"
   },
   {
    "duration": 16,
    "start_time": "2024-04-08T11:25:46.432Z"
   },
   {
    "duration": 17,
    "start_time": "2024-04-08T11:26:37.744Z"
   },
   {
    "duration": 5,
    "start_time": "2024-04-08T11:27:23.684Z"
   },
   {
    "duration": 5,
    "start_time": "2024-04-08T11:27:31.201Z"
   },
   {
    "duration": 30,
    "start_time": "2024-04-08T11:27:39.953Z"
   },
   {
    "duration": 16,
    "start_time": "2024-04-08T11:27:43.849Z"
   },
   {
    "duration": 1591,
    "start_time": "2024-04-08T11:28:02.077Z"
   },
   {
    "duration": 3,
    "start_time": "2024-04-08T11:28:07.024Z"
   },
   {
    "duration": 4,
    "start_time": "2024-04-08T11:28:07.348Z"
   },
   {
    "duration": 1865,
    "start_time": "2024-04-08T11:28:28.205Z"
   },
   {
    "duration": 2,
    "start_time": "2024-04-08T11:28:30.072Z"
   },
   {
    "duration": 36,
    "start_time": "2024-04-08T11:28:30.076Z"
   },
   {
    "duration": 3,
    "start_time": "2024-04-08T11:29:01.000Z"
   },
   {
    "duration": 48,
    "start_time": "2024-04-08T11:29:03.208Z"
   },
   {
    "duration": 40,
    "start_time": "2024-04-08T11:29:11.880Z"
   },
   {
    "duration": 16,
    "start_time": "2024-04-08T11:29:14.620Z"
   },
   {
    "duration": 9,
    "start_time": "2024-04-08T11:29:17.189Z"
   },
   {
    "duration": 7,
    "start_time": "2024-04-08T11:29:23.584Z"
   },
   {
    "duration": 13,
    "start_time": "2024-04-08T11:29:34.684Z"
   },
   {
    "duration": 1805,
    "start_time": "2024-04-08T11:30:25.272Z"
   },
   {
    "duration": 740,
    "start_time": "2024-04-08T11:30:45.273Z"
   },
   {
    "duration": 207,
    "start_time": "2024-04-08T11:30:46.352Z"
   },
   {
    "duration": 4,
    "start_time": "2024-04-08T11:31:04.101Z"
   },
   {
    "duration": 12,
    "start_time": "2024-04-08T11:31:05.101Z"
   },
   {
    "duration": 7,
    "start_time": "2024-04-08T11:31:08.001Z"
   },
   {
    "duration": 10,
    "start_time": "2024-04-08T11:31:29.224Z"
   },
   {
    "duration": 17,
    "start_time": "2024-04-08T11:32:36.636Z"
   },
   {
    "duration": 19,
    "start_time": "2024-04-08T11:32:40.600Z"
   },
   {
    "duration": 15,
    "start_time": "2024-04-08T11:33:00.736Z"
   },
   {
    "duration": 13,
    "start_time": "2024-04-08T11:33:18.580Z"
   },
   {
    "duration": 8,
    "start_time": "2024-04-08T11:33:25.980Z"
   },
   {
    "duration": 8,
    "start_time": "2024-04-08T11:33:30.420Z"
   },
   {
    "duration": 4,
    "start_time": "2024-04-08T12:43:05.575Z"
   },
   {
    "duration": 3,
    "start_time": "2024-04-08T12:43:06.355Z"
   },
   {
    "duration": 4,
    "start_time": "2024-04-08T12:43:08.091Z"
   },
   {
    "duration": 9,
    "start_time": "2024-04-08T12:43:08.403Z"
   },
   {
    "duration": 4,
    "start_time": "2024-04-08T12:43:08.730Z"
   },
   {
    "duration": 4,
    "start_time": "2024-04-08T12:43:09.211Z"
   },
   {
    "duration": 1902,
    "start_time": "2024-04-08T12:43:09.991Z"
   },
   {
    "duration": 3,
    "start_time": "2024-04-08T12:43:11.895Z"
   },
   {
    "duration": 10,
    "start_time": "2024-04-08T12:43:11.900Z"
   },
   {
    "duration": 15,
    "start_time": "2024-04-08T12:43:12.163Z"
   },
   {
    "duration": 13,
    "start_time": "2024-04-08T12:43:16.063Z"
   },
   {
    "duration": 1506004,
    "start_time": "2024-04-08T12:43:38.971Z"
   },
   {
    "duration": 96,
    "start_time": "2024-04-08T13:08:44.977Z"
   },
   {
    "duration": 0,
    "start_time": "2024-04-08T13:08:45.075Z"
   },
   {
    "duration": 2,
    "start_time": "2024-04-08T13:09:36.849Z"
   },
   {
    "duration": 3,
    "start_time": "2024-04-08T13:09:37.309Z"
   },
   {
    "duration": 103,
    "start_time": "2024-04-08T13:09:38.889Z"
   },
   {
    "duration": 16,
    "start_time": "2024-04-08T13:09:52.184Z"
   },
   {
    "duration": 17,
    "start_time": "2024-04-08T13:37:37.462Z"
   },
   {
    "duration": 17,
    "start_time": "2024-04-08T13:39:11.993Z"
   },
   {
    "duration": 17,
    "start_time": "2024-04-08T13:40:41.950Z"
   },
   {
    "duration": 15,
    "start_time": "2024-04-08T17:59:13.821Z"
   },
   {
    "duration": 4,
    "start_time": "2024-04-08T17:59:31.025Z"
   },
   {
    "duration": 8,
    "start_time": "2024-04-08T17:59:50.105Z"
   },
   {
    "duration": 4,
    "start_time": "2024-04-08T17:59:55.994Z"
   },
   {
    "duration": 4,
    "start_time": "2024-04-08T18:00:24.133Z"
   },
   {
    "duration": 4,
    "start_time": "2024-04-08T18:00:30.105Z"
   },
   {
    "duration": 9,
    "start_time": "2024-04-08T18:00:54.449Z"
   },
   {
    "duration": 49,
    "start_time": "2024-04-09T23:36:11.067Z"
   },
   {
    "duration": 7107,
    "start_time": "2024-04-09T23:36:17.791Z"
   },
   {
    "duration": 2364,
    "start_time": "2024-04-09T23:36:24.901Z"
   },
   {
    "duration": 234,
    "start_time": "2024-04-09T23:36:27.267Z"
   },
   {
    "duration": 13,
    "start_time": "2024-04-09T23:36:27.503Z"
   },
   {
    "duration": 5,
    "start_time": "2024-04-09T23:36:27.517Z"
   },
   {
    "duration": 8,
    "start_time": "2024-04-09T23:36:27.524Z"
   },
   {
    "duration": 8,
    "start_time": "2024-04-09T23:36:27.533Z"
   },
   {
    "duration": 6,
    "start_time": "2024-04-09T23:36:27.542Z"
   },
   {
    "duration": 12,
    "start_time": "2024-04-09T23:36:27.550Z"
   },
   {
    "duration": 10,
    "start_time": "2024-04-09T23:36:27.564Z"
   },
   {
    "duration": 10,
    "start_time": "2024-04-09T23:36:27.576Z"
   },
   {
    "duration": 8,
    "start_time": "2024-04-09T23:36:27.614Z"
   },
   {
    "duration": 9,
    "start_time": "2024-04-09T23:36:27.624Z"
   },
   {
    "duration": 18,
    "start_time": "2024-04-09T23:36:27.635Z"
   },
   {
    "duration": 150,
    "start_time": "2024-04-09T23:36:27.655Z"
   },
   {
    "duration": 93,
    "start_time": "2024-04-09T23:36:27.807Z"
   },
   {
    "duration": 101,
    "start_time": "2024-04-09T23:36:27.914Z"
   },
   {
    "duration": 160,
    "start_time": "2024-04-09T23:36:28.017Z"
   },
   {
    "duration": 105,
    "start_time": "2024-04-09T23:36:28.179Z"
   },
   {
    "duration": 98,
    "start_time": "2024-04-09T23:36:28.285Z"
   },
   {
    "duration": 122,
    "start_time": "2024-04-09T23:36:28.384Z"
   },
   {
    "duration": 253,
    "start_time": "2024-04-09T23:36:28.514Z"
   },
   {
    "duration": 105,
    "start_time": "2024-04-09T23:36:28.768Z"
   },
   {
    "duration": 3,
    "start_time": "2024-04-09T23:36:28.875Z"
   },
   {
    "duration": 182,
    "start_time": "2024-04-09T23:36:28.879Z"
   },
   {
    "duration": 3,
    "start_time": "2024-04-09T23:36:29.063Z"
   },
   {
    "duration": 151,
    "start_time": "2024-04-09T23:36:29.067Z"
   },
   {
    "duration": 0,
    "start_time": "2024-04-09T23:36:29.220Z"
   },
   {
    "duration": 0,
    "start_time": "2024-04-09T23:36:29.222Z"
   },
   {
    "duration": 0,
    "start_time": "2024-04-09T23:36:29.223Z"
   },
   {
    "duration": 0,
    "start_time": "2024-04-09T23:36:29.224Z"
   },
   {
    "duration": 0,
    "start_time": "2024-04-09T23:36:29.225Z"
   },
   {
    "duration": 0,
    "start_time": "2024-04-09T23:36:29.226Z"
   },
   {
    "duration": 0,
    "start_time": "2024-04-09T23:36:29.228Z"
   },
   {
    "duration": 0,
    "start_time": "2024-04-09T23:36:29.229Z"
   },
   {
    "duration": 0,
    "start_time": "2024-04-09T23:36:29.230Z"
   },
   {
    "duration": 0,
    "start_time": "2024-04-09T23:36:29.231Z"
   },
   {
    "duration": 0,
    "start_time": "2024-04-09T23:36:29.232Z"
   },
   {
    "duration": 0,
    "start_time": "2024-04-09T23:36:29.233Z"
   },
   {
    "duration": 0,
    "start_time": "2024-04-09T23:36:29.234Z"
   },
   {
    "duration": 0,
    "start_time": "2024-04-09T23:36:29.236Z"
   },
   {
    "duration": 0,
    "start_time": "2024-04-09T23:36:29.237Z"
   },
   {
    "duration": 0,
    "start_time": "2024-04-09T23:36:29.238Z"
   },
   {
    "duration": 0,
    "start_time": "2024-04-09T23:36:29.239Z"
   },
   {
    "duration": 0,
    "start_time": "2024-04-09T23:36:29.240Z"
   },
   {
    "duration": 0,
    "start_time": "2024-04-09T23:36:29.241Z"
   },
   {
    "duration": 0,
    "start_time": "2024-04-09T23:36:29.242Z"
   },
   {
    "duration": 0,
    "start_time": "2024-04-09T23:36:29.244Z"
   },
   {
    "duration": 0,
    "start_time": "2024-04-09T23:36:29.245Z"
   },
   {
    "duration": 0,
    "start_time": "2024-04-09T23:36:29.247Z"
   },
   {
    "duration": 0,
    "start_time": "2024-04-09T23:36:29.248Z"
   },
   {
    "duration": 0,
    "start_time": "2024-04-09T23:36:29.249Z"
   },
   {
    "duration": 0,
    "start_time": "2024-04-09T23:36:29.250Z"
   },
   {
    "duration": 0,
    "start_time": "2024-04-09T23:36:29.252Z"
   },
   {
    "duration": 0,
    "start_time": "2024-04-09T23:36:29.253Z"
   },
   {
    "duration": 0,
    "start_time": "2024-04-09T23:36:29.254Z"
   },
   {
    "duration": 0,
    "start_time": "2024-04-09T23:36:29.256Z"
   },
   {
    "duration": 0,
    "start_time": "2024-04-09T23:36:29.257Z"
   },
   {
    "duration": 0,
    "start_time": "2024-04-09T23:36:29.315Z"
   },
   {
    "duration": 0,
    "start_time": "2024-04-09T23:36:29.316Z"
   },
   {
    "duration": 0,
    "start_time": "2024-04-09T23:36:29.317Z"
   },
   {
    "duration": 0,
    "start_time": "2024-04-09T23:36:29.318Z"
   },
   {
    "duration": 0,
    "start_time": "2024-04-09T23:36:29.319Z"
   },
   {
    "duration": 0,
    "start_time": "2024-04-09T23:36:29.320Z"
   },
   {
    "duration": 0,
    "start_time": "2024-04-09T23:36:29.320Z"
   },
   {
    "duration": 0,
    "start_time": "2024-04-09T23:36:29.322Z"
   },
   {
    "duration": 0,
    "start_time": "2024-04-09T23:36:29.322Z"
   },
   {
    "duration": 0,
    "start_time": "2024-04-09T23:36:29.323Z"
   },
   {
    "duration": 5,
    "start_time": "2024-04-09T23:36:56.003Z"
   },
   {
    "duration": 3,
    "start_time": "2024-04-09T23:36:57.131Z"
   },
   {
    "duration": 3,
    "start_time": "2024-04-09T23:36:59.179Z"
   },
   {
    "duration": 8,
    "start_time": "2024-04-09T23:36:59.556Z"
   },
   {
    "duration": 3,
    "start_time": "2024-04-09T23:36:59.975Z"
   },
   {
    "duration": 4,
    "start_time": "2024-04-09T23:37:01.287Z"
   },
   {
    "duration": 3498,
    "start_time": "2024-04-09T23:37:20.171Z"
   },
   {
    "duration": 4,
    "start_time": "2024-04-09T23:37:29.943Z"
   },
   {
    "duration": 59,
    "start_time": "2024-04-09T23:37:34.583Z"
   },
   {
    "duration": 28,
    "start_time": "2024-04-09T23:37:36.463Z"
   },
   {
    "duration": 19,
    "start_time": "2024-04-09T23:38:05.575Z"
   },
   {
    "duration": 80,
    "start_time": "2024-04-09T23:38:30.776Z"
   },
   {
    "duration": 10,
    "start_time": "2024-04-09T23:38:31.619Z"
   },
   {
    "duration": 6,
    "start_time": "2024-04-09T23:38:33.445Z"
   },
   {
    "duration": 5,
    "start_time": "2024-04-09T23:38:34.435Z"
   },
   {
    "duration": 5,
    "start_time": "2024-04-09T23:38:34.960Z"
   },
   {
    "duration": 5,
    "start_time": "2024-04-09T23:38:37.675Z"
   },
   {
    "duration": 29,
    "start_time": "2024-04-09T23:38:38.068Z"
   },
   {
    "duration": 9,
    "start_time": "2024-04-09T23:39:06.243Z"
   },
   {
    "duration": 9,
    "start_time": "2024-04-09T23:39:14.831Z"
   },
   {
    "duration": 5,
    "start_time": "2024-04-09T23:39:22.691Z"
   },
   {
    "duration": 10,
    "start_time": "2024-04-09T23:39:32.203Z"
   },
   {
    "duration": 9,
    "start_time": "2024-04-09T23:39:34.111Z"
   },
   {
    "duration": 10,
    "start_time": "2024-04-09T23:39:34.272Z"
   },
   {
    "duration": 5,
    "start_time": "2024-04-09T23:39:41.263Z"
   },
   {
    "duration": 6,
    "start_time": "2024-04-09T23:39:41.699Z"
   },
   {
    "duration": 9,
    "start_time": "2024-04-09T23:39:42.163Z"
   },
   {
    "duration": 112,
    "start_time": "2024-04-09T23:39:43.035Z"
   },
   {
    "duration": 79,
    "start_time": "2024-04-09T23:39:43.947Z"
   },
   {
    "duration": 86,
    "start_time": "2024-04-09T23:39:44.431Z"
   },
   {
    "duration": 152,
    "start_time": "2024-04-09T23:39:44.911Z"
   },
   {
    "duration": 87,
    "start_time": "2024-04-09T23:39:45.364Z"
   },
   {
    "duration": 87,
    "start_time": "2024-04-09T23:39:45.823Z"
   },
   {
    "duration": 120,
    "start_time": "2024-04-09T23:39:46.288Z"
   },
   {
    "duration": 178,
    "start_time": "2024-04-09T23:39:46.779Z"
   },
   {
    "duration": 99,
    "start_time": "2024-04-09T23:39:46.958Z"
   },
   {
    "duration": 5,
    "start_time": "2024-04-09T23:39:47.603Z"
   },
   {
    "duration": 161,
    "start_time": "2024-04-09T23:39:47.759Z"
   },
   {
    "duration": 3,
    "start_time": "2024-04-09T23:39:49.031Z"
   },
   {
    "duration": 4,
    "start_time": "2024-04-09T23:39:49.219Z"
   },
   {
    "duration": 3,
    "start_time": "2024-04-09T23:39:49.399Z"
   },
   {
    "duration": 3,
    "start_time": "2024-04-09T23:39:49.859Z"
   },
   {
    "duration": 17,
    "start_time": "2024-04-09T23:39:50.479Z"
   },
   {
    "duration": 3,
    "start_time": "2024-04-09T23:39:56.855Z"
   },
   {
    "duration": 4,
    "start_time": "2024-04-09T23:39:57.487Z"
   },
   {
    "duration": 3872,
    "start_time": "2024-04-09T23:39:58.804Z"
   },
   {
    "duration": 4,
    "start_time": "2024-04-09T23:40:06.059Z"
   },
   {
    "duration": 19,
    "start_time": "2024-04-09T23:40:10.866Z"
   },
   {
    "duration": 13,
    "start_time": "2024-04-09T23:41:17.403Z"
   },
   {
    "duration": 3,
    "start_time": "2024-04-09T23:41:44.395Z"
   },
   {
    "duration": 41,
    "start_time": "2024-04-09T23:41:46.759Z"
   },
   {
    "duration": 35,
    "start_time": "2024-04-09T23:41:52.727Z"
   },
   {
    "duration": 16,
    "start_time": "2024-04-09T23:41:57.775Z"
   },
   {
    "duration": 6,
    "start_time": "2024-04-09T23:42:00.464Z"
   },
   {
    "duration": 7,
    "start_time": "2024-04-09T23:42:05.907Z"
   },
   {
    "duration": 11,
    "start_time": "2024-04-09T23:42:13.119Z"
   },
   {
    "duration": 2332,
    "start_time": "2024-04-09T23:42:20.743Z"
   },
   {
    "duration": 172,
    "start_time": "2024-04-09T23:44:59.239Z"
   },
   {
    "duration": 16,
    "start_time": "2024-04-09T23:45:02.266Z"
   },
   {
    "duration": 9,
    "start_time": "2024-04-09T23:45:04.664Z"
   },
   {
    "duration": 138,
    "start_time": "2024-04-09T23:45:07.082Z"
   },
   {
    "duration": 20,
    "start_time": "2024-04-09T23:45:07.438Z"
   },
   {
    "duration": 20,
    "start_time": "2024-04-09T23:45:09.962Z"
   },
   {
    "duration": 13,
    "start_time": "2024-04-09T23:45:11.642Z"
   },
   {
    "duration": 14,
    "start_time": "2024-04-10T00:01:48.134Z"
   },
   {
    "duration": 10,
    "start_time": "2024-04-10T00:01:52.793Z"
   },
   {
    "duration": 6,
    "start_time": "2024-04-10T00:02:05.457Z"
   },
   {
    "duration": 10,
    "start_time": "2024-04-10T00:03:04.669Z"
   },
   {
    "duration": 12,
    "start_time": "2024-04-10T00:04:19.765Z"
   },
   {
    "duration": 4,
    "start_time": "2024-04-10T00:04:32.409Z"
   },
   {
    "duration": 4,
    "start_time": "2024-04-10T00:04:40.853Z"
   },
   {
    "duration": 11,
    "start_time": "2024-04-10T00:04:53.385Z"
   },
   {
    "duration": 17,
    "start_time": "2024-04-10T00:06:27.613Z"
   },
   {
    "duration": 17,
    "start_time": "2024-04-10T00:07:24.605Z"
   },
   {
    "duration": 5,
    "start_time": "2024-04-10T00:07:30.581Z"
   },
   {
    "duration": 13,
    "start_time": "2024-04-10T00:07:50.589Z"
   },
   {
    "duration": 9,
    "start_time": "2024-04-10T00:08:02.365Z"
   },
   {
    "duration": 13,
    "start_time": "2024-04-10T00:08:23.717Z"
   },
   {
    "duration": 6,
    "start_time": "2024-04-10T00:08:33.541Z"
   },
   {
    "duration": 8,
    "start_time": "2024-04-10T00:09:31.293Z"
   },
   {
    "duration": 5,
    "start_time": "2024-04-10T00:09:35.953Z"
   },
   {
    "duration": 9,
    "start_time": "2024-04-10T00:09:41.376Z"
   },
   {
    "duration": 17,
    "start_time": "2024-04-10T00:09:46.613Z"
   },
   {
    "duration": 14,
    "start_time": "2024-04-10T00:09:47.213Z"
   },
   {
    "duration": 3,
    "start_time": "2024-04-10T00:10:34.493Z"
   },
   {
    "duration": 15,
    "start_time": "2024-04-10T00:10:41.529Z"
   },
   {
    "duration": 4,
    "start_time": "2024-04-10T00:11:09.644Z"
   },
   {
    "duration": 3,
    "start_time": "2024-04-10T00:11:43.004Z"
   },
   {
    "duration": 5,
    "start_time": "2024-04-10T00:11:45.616Z"
   },
   {
    "duration": 3,
    "start_time": "2024-04-10T00:11:46.252Z"
   },
   {
    "duration": 4,
    "start_time": "2024-04-10T00:11:51.937Z"
   },
   {
    "duration": 3,
    "start_time": "2024-04-10T00:11:54.552Z"
   },
   {
    "duration": 40423,
    "start_time": "2024-04-10T00:12:26.490Z"
   },
   {
    "duration": 4,
    "start_time": "2024-04-10T00:13:16.193Z"
   },
   {
    "duration": 116,
    "start_time": "2024-04-10T00:13:16.873Z"
   },
   {
    "duration": 1757,
    "start_time": "2024-04-10T00:14:52.852Z"
   },
   {
    "duration": 4,
    "start_time": "2024-04-10T00:15:02.660Z"
   },
   {
    "duration": 17,
    "start_time": "2024-04-10T00:15:03.260Z"
   },
   {
    "duration": 1803,
    "start_time": "2024-04-10T00:15:24.864Z"
   },
   {
    "duration": 17,
    "start_time": "2024-04-10T00:15:35.108Z"
   },
   {
    "duration": 4,
    "start_time": "2024-04-10T00:18:51.384Z"
   },
   {
    "duration": 37,
    "start_time": "2024-04-10T00:19:13.469Z"
   },
   {
    "duration": 22,
    "start_time": "2024-04-10T00:19:18.577Z"
   },
   {
    "duration": 15,
    "start_time": "2024-04-10T00:19:59.425Z"
   },
   {
    "duration": 16,
    "start_time": "2024-04-10T00:20:16.629Z"
   },
   {
    "duration": 13,
    "start_time": "2024-04-10T00:20:42.965Z"
   },
   {
    "duration": 17,
    "start_time": "2024-04-10T00:20:53.757Z"
   },
   {
    "duration": 15,
    "start_time": "2024-04-10T00:21:20.067Z"
   },
   {
    "duration": 11,
    "start_time": "2024-04-10T00:21:44.466Z"
   },
   {
    "duration": 16,
    "start_time": "2024-04-10T00:22:03.642Z"
   },
   {
    "duration": 9,
    "start_time": "2024-04-10T00:22:32.551Z"
   },
   {
    "duration": 12,
    "start_time": "2024-04-10T00:22:36.640Z"
   },
   {
    "duration": 11,
    "start_time": "2024-04-10T00:22:40.850Z"
   },
   {
    "duration": 7,
    "start_time": "2024-04-10T00:22:49.102Z"
   },
   {
    "duration": 8,
    "start_time": "2024-04-10T00:23:04.950Z"
   },
   {
    "duration": 782,
    "start_time": "2024-04-10T00:23:29.350Z"
   },
   {
    "duration": 801,
    "start_time": "2024-04-10T00:24:05.234Z"
   },
   {
    "duration": 866,
    "start_time": "2024-04-10T00:24:24.699Z"
   },
   {
    "duration": 21,
    "start_time": "2024-04-10T00:27:53.296Z"
   },
   {
    "duration": 3,
    "start_time": "2024-04-10T00:28:05.527Z"
   },
   {
    "duration": 1192,
    "start_time": "2024-04-10T00:28:05.992Z"
   },
   {
    "duration": 0,
    "start_time": "2024-04-10T00:28:07.186Z"
   },
   {
    "duration": 0,
    "start_time": "2024-04-10T00:28:07.187Z"
   },
   {
    "duration": 14,
    "start_time": "2024-04-10T00:28:07.519Z"
   },
   {
    "duration": 4,
    "start_time": "2024-04-10T00:28:15.775Z"
   },
   {
    "duration": 5,
    "start_time": "2024-04-10T00:28:16.200Z"
   },
   {
    "duration": 3,
    "start_time": "2024-04-10T00:28:16.620Z"
   },
   {
    "duration": 3,
    "start_time": "2024-04-10T00:28:17.456Z"
   },
   {
    "duration": 2,
    "start_time": "2024-04-10T00:28:17.828Z"
   },
   {
    "duration": 3,
    "start_time": "2024-04-10T00:28:18.284Z"
   },
   {
    "duration": 1680,
    "start_time": "2024-04-10T00:28:19.100Z"
   },
   {
    "duration": 3,
    "start_time": "2024-04-10T00:28:20.782Z"
   },
   {
    "duration": 10,
    "start_time": "2024-04-10T00:28:20.786Z"
   },
   {
    "duration": 24,
    "start_time": "2024-04-10T00:28:20.798Z"
   },
   {
    "duration": 3,
    "start_time": "2024-04-10T00:28:23.363Z"
   },
   {
    "duration": 37,
    "start_time": "2024-04-10T00:28:24.552Z"
   },
   {
    "duration": 13,
    "start_time": "2024-04-10T00:28:25.292Z"
   },
   {
    "duration": 6,
    "start_time": "2024-04-10T00:28:25.872Z"
   },
   {
    "duration": 2023,
    "start_time": "2024-04-10T00:28:26.492Z"
   },
   {
    "duration": 21,
    "start_time": "2024-04-10T00:28:33.855Z"
   },
   {
    "duration": 2130,
    "start_time": "2024-04-10T00:28:59.192Z"
   },
   {
    "duration": 76,
    "start_time": "2024-04-10T00:29:03.560Z"
   },
   {
    "duration": 22,
    "start_time": "2024-04-10T00:29:04.071Z"
   },
   {
    "duration": 13,
    "start_time": "2024-04-10T00:29:04.400Z"
   },
   {
    "duration": 10,
    "start_time": "2024-04-10T00:29:04.736Z"
   },
   {
    "duration": 21,
    "start_time": "2024-04-10T00:29:05.080Z"
   },
   {
    "duration": 21,
    "start_time": "2024-04-10T00:29:05.803Z"
   },
   {
    "duration": 12,
    "start_time": "2024-04-10T00:29:06.340Z"
   },
   {
    "duration": 9,
    "start_time": "2024-04-10T00:29:07.388Z"
   },
   {
    "duration": 26,
    "start_time": "2024-04-10T00:29:07.600Z"
   },
   {
    "duration": 4,
    "start_time": "2024-04-10T00:29:07.808Z"
   },
   {
    "duration": 3,
    "start_time": "2024-04-10T00:29:08.448Z"
   },
   {
    "duration": 6,
    "start_time": "2024-04-10T00:29:08.848Z"
   },
   {
    "duration": 3,
    "start_time": "2024-04-10T00:29:09.108Z"
   },
   {
    "duration": 4,
    "start_time": "2024-04-10T00:29:09.456Z"
   },
   {
    "duration": 3,
    "start_time": "2024-04-10T00:29:09.964Z"
   },
   {
    "duration": 1830,
    "start_time": "2024-04-10T00:29:10.204Z"
   },
   {
    "duration": 17,
    "start_time": "2024-04-10T00:29:12.036Z"
   },
   {
    "duration": 3,
    "start_time": "2024-04-10T00:29:12.055Z"
   },
   {
    "duration": 55,
    "start_time": "2024-04-10T00:29:12.060Z"
   },
   {
    "duration": 12,
    "start_time": "2024-04-10T00:29:12.116Z"
   },
   {
    "duration": 8,
    "start_time": "2024-04-10T00:29:12.739Z"
   },
   {
    "duration": 847,
    "start_time": "2024-04-10T00:29:13.332Z"
   },
   {
    "duration": 22,
    "start_time": "2024-04-10T00:29:23.244Z"
   },
   {
    "duration": 778,
    "start_time": "2024-04-10T00:30:30.440Z"
   },
   {
    "duration": 765,
    "start_time": "2024-04-10T00:30:36.284Z"
   },
   {
    "duration": 766,
    "start_time": "2024-04-10T00:30:48.261Z"
   },
   {
    "duration": 746,
    "start_time": "2024-04-10T00:30:52.296Z"
   },
   {
    "duration": 838,
    "start_time": "2024-04-10T00:30:57.781Z"
   },
   {
    "duration": 206,
    "start_time": "2024-04-10T00:31:25.015Z"
   },
   {
    "duration": 840,
    "start_time": "2024-04-10T00:31:31.076Z"
   },
   {
    "duration": 12,
    "start_time": "2024-04-10T00:32:20.189Z"
   },
   {
    "duration": 775,
    "start_time": "2024-04-10T00:32:27.556Z"
   },
   {
    "duration": 793,
    "start_time": "2024-04-10T00:32:42.861Z"
   },
   {
    "duration": 838,
    "start_time": "2024-04-10T00:32:50.964Z"
   },
   {
    "duration": 13,
    "start_time": "2024-04-10T00:33:44.828Z"
   },
   {
    "duration": 767,
    "start_time": "2024-04-10T00:33:56.509Z"
   },
   {
    "duration": 1951,
    "start_time": "2024-04-10T00:34:46.980Z"
   },
   {
    "duration": 19,
    "start_time": "2024-04-10T00:37:29.188Z"
   },
   {
    "duration": 13,
    "start_time": "2024-04-10T00:38:26.165Z"
   },
   {
    "duration": 15,
    "start_time": "2024-04-10T00:38:43.985Z"
   },
   {
    "duration": 10,
    "start_time": "2024-04-10T00:39:15.010Z"
   },
   {
    "duration": 15,
    "start_time": "2024-04-10T00:39:40.733Z"
   },
   {
    "duration": 9,
    "start_time": "2024-04-10T00:39:41.429Z"
   },
   {
    "duration": 12,
    "start_time": "2024-04-10T00:40:08.238Z"
   },
   {
    "duration": 8,
    "start_time": "2024-04-10T00:40:08.749Z"
   },
   {
    "duration": 14,
    "start_time": "2024-04-10T00:40:39.249Z"
   },
   {
    "duration": 9,
    "start_time": "2024-04-10T00:40:39.777Z"
   },
   {
    "duration": 13,
    "start_time": "2024-04-10T00:41:15.046Z"
   },
   {
    "duration": 9,
    "start_time": "2024-04-10T00:41:15.869Z"
   },
   {
    "duration": 12,
    "start_time": "2024-04-10T00:41:34.896Z"
   },
   {
    "duration": 8,
    "start_time": "2024-04-10T00:41:35.550Z"
   },
   {
    "duration": 13,
    "start_time": "2024-04-10T00:41:41.794Z"
   },
   {
    "duration": 9,
    "start_time": "2024-04-10T00:41:42.214Z"
   },
   {
    "duration": 12,
    "start_time": "2024-04-10T00:41:48.969Z"
   },
   {
    "duration": 9,
    "start_time": "2024-04-10T00:41:49.930Z"
   },
   {
    "duration": 3,
    "start_time": "2024-04-10T00:44:01.854Z"
   },
   {
    "duration": 5,
    "start_time": "2024-04-10T00:44:02.206Z"
   },
   {
    "duration": 3,
    "start_time": "2024-04-10T00:44:02.546Z"
   },
   {
    "duration": 4,
    "start_time": "2024-04-10T00:44:02.914Z"
   },
   {
    "duration": 2,
    "start_time": "2024-04-10T00:44:03.850Z"
   },
   {
    "duration": 15,
    "start_time": "2024-04-10T00:44:04.321Z"
   },
   {
    "duration": 2360993,
    "start_time": "2024-04-10T00:44:17.918Z"
   },
   {
    "duration": 17,
    "start_time": "2024-04-10T01:23:38.912Z"
   },
   {
    "duration": 3,
    "start_time": "2024-04-10T02:12:01.521Z"
   },
   {
    "duration": 35,
    "start_time": "2024-04-10T02:12:02.112Z"
   },
   {
    "duration": 10,
    "start_time": "2024-04-10T02:12:04.357Z"
   },
   {
    "duration": 8,
    "start_time": "2024-04-10T02:12:05.224Z"
   },
   {
    "duration": 1797,
    "start_time": "2024-04-10T02:12:10.476Z"
   },
   {
    "duration": 12,
    "start_time": "2024-04-10T02:12:18.905Z"
   },
   {
    "duration": 9,
    "start_time": "2024-04-10T02:12:21.821Z"
   },
   {
    "duration": 11,
    "start_time": "2024-04-10T02:12:49.321Z"
   },
   {
    "duration": 9,
    "start_time": "2024-04-10T02:12:50.160Z"
   },
   {
    "duration": 11,
    "start_time": "2024-04-10T02:13:35.016Z"
   },
   {
    "duration": 8,
    "start_time": "2024-04-10T02:13:45.149Z"
   },
   {
    "duration": 10,
    "start_time": "2024-04-10T02:14:04.621Z"
   },
   {
    "duration": 10,
    "start_time": "2024-04-10T02:14:12.864Z"
   },
   {
    "duration": 7,
    "start_time": "2024-04-10T02:14:19.368Z"
   },
   {
    "duration": 12,
    "start_time": "2024-04-10T02:14:31.272Z"
   },
   {
    "duration": 9,
    "start_time": "2024-04-10T02:14:31.781Z"
   },
   {
    "duration": 10,
    "start_time": "2024-04-10T02:14:43.405Z"
   },
   {
    "duration": 10,
    "start_time": "2024-04-10T02:14:43.821Z"
   },
   {
    "duration": 11,
    "start_time": "2024-04-10T02:14:54.705Z"
   },
   {
    "duration": 8,
    "start_time": "2024-04-10T02:14:55.173Z"
   },
   {
    "duration": 11,
    "start_time": "2024-04-10T02:15:00.399Z"
   },
   {
    "duration": 11,
    "start_time": "2024-04-10T02:15:00.821Z"
   },
   {
    "duration": 11,
    "start_time": "2024-04-10T02:15:07.852Z"
   },
   {
    "duration": 9,
    "start_time": "2024-04-10T02:15:08.264Z"
   },
   {
    "duration": 10,
    "start_time": "2024-04-10T02:15:19.941Z"
   },
   {
    "duration": 9,
    "start_time": "2024-04-10T02:15:20.568Z"
   },
   {
    "duration": 10,
    "start_time": "2024-04-10T02:15:30.912Z"
   },
   {
    "duration": 9,
    "start_time": "2024-04-10T02:15:31.696Z"
   },
   {
    "duration": 11,
    "start_time": "2024-04-10T02:15:42.088Z"
   },
   {
    "duration": 8,
    "start_time": "2024-04-10T02:15:42.628Z"
   },
   {
    "duration": 11,
    "start_time": "2024-04-10T02:15:48.727Z"
   },
   {
    "duration": 9,
    "start_time": "2024-04-10T02:15:49.204Z"
   },
   {
    "duration": 10,
    "start_time": "2024-04-10T02:15:57.736Z"
   },
   {
    "duration": 9,
    "start_time": "2024-04-10T02:15:58.155Z"
   },
   {
    "duration": 1808,
    "start_time": "2024-04-10T02:16:52.492Z"
   },
   {
    "duration": 17,
    "start_time": "2024-04-10T02:16:57.472Z"
   },
   {
    "duration": 1775,
    "start_time": "2024-04-10T02:17:09.152Z"
   },
   {
    "duration": 16,
    "start_time": "2024-04-10T02:17:10.929Z"
   },
   {
    "duration": 1212,
    "start_time": "2024-04-10T02:17:53.353Z"
   },
   {
    "duration": 1176,
    "start_time": "2024-04-10T02:18:07.688Z"
   },
   {
    "duration": 1726,
    "start_time": "2024-04-10T02:18:20.281Z"
   },
   {
    "duration": 1709,
    "start_time": "2024-04-10T02:18:33.592Z"
   },
   {
    "duration": 3,
    "start_time": "2024-04-10T02:19:00.000Z"
   },
   {
    "duration": 6234,
    "start_time": "2024-04-10T02:19:00.524Z"
   },
   {
    "duration": 3,
    "start_time": "2024-04-10T02:19:12.235Z"
   },
   {
    "duration": 5,
    "start_time": "2024-04-10T02:19:12.532Z"
   },
   {
    "duration": 2,
    "start_time": "2024-04-10T02:19:12.825Z"
   },
   {
    "duration": 4,
    "start_time": "2024-04-10T02:19:13.312Z"
   },
   {
    "duration": 3,
    "start_time": "2024-04-10T02:19:14.133Z"
   },
   {
    "duration": 1895,
    "start_time": "2024-04-10T02:19:14.700Z"
   },
   {
    "duration": 26,
    "start_time": "2024-04-10T02:19:16.597Z"
   },
   {
    "duration": 1827,
    "start_time": "2024-04-10T02:19:55.305Z"
   },
   {
    "duration": 23,
    "start_time": "2024-04-10T02:20:02.718Z"
   },
   {
    "duration": 2,
    "start_time": "2024-04-10T02:20:21.019Z"
   },
   {
    "duration": 5,
    "start_time": "2024-04-10T02:20:21.393Z"
   },
   {
    "duration": 3,
    "start_time": "2024-04-10T02:20:21.802Z"
   },
   {
    "duration": 4,
    "start_time": "2024-04-10T02:20:22.264Z"
   },
   {
    "duration": 3,
    "start_time": "2024-04-10T02:20:23.044Z"
   },
   {
    "duration": 1757,
    "start_time": "2024-04-10T02:20:23.620Z"
   },
   {
    "duration": 16,
    "start_time": "2024-04-10T02:20:25.379Z"
   },
   {
    "duration": 16821,
    "start_time": "2024-04-10T02:21:03.744Z"
   },
   {
    "duration": 1795,
    "start_time": "2024-04-10T02:21:29.816Z"
   },
   {
    "duration": 1739,
    "start_time": "2024-04-10T02:21:40.892Z"
   },
   {
    "duration": 6166,
    "start_time": "2024-04-10T02:21:50.028Z"
   },
   {
    "duration": 4,
    "start_time": "2024-04-10T02:22:12.608Z"
   },
   {
    "duration": 14838,
    "start_time": "2024-04-10T02:22:28.867Z"
   },
   {
    "duration": 4331,
    "start_time": "2024-04-10T02:22:54.688Z"
   },
   {
    "duration": 4105452,
    "start_time": "2024-04-10T02:23:08.285Z"
   },
   {
    "duration": 21,
    "start_time": "2024-04-10T03:31:33.739Z"
   },
   {
    "duration": 16,
    "start_time": "2024-04-10T22:23:24.310Z"
   },
   {
    "duration": 2,
    "start_time": "2024-04-10T22:24:31.322Z"
   },
   {
    "duration": 4,
    "start_time": "2024-04-10T22:24:32.089Z"
   },
   {
    "duration": 4,
    "start_time": "2024-04-10T22:24:33.743Z"
   },
   {
    "duration": 4,
    "start_time": "2024-04-10T22:24:34.753Z"
   },
   {
    "duration": 3,
    "start_time": "2024-04-10T22:24:38.382Z"
   },
   {
    "duration": 913,
    "start_time": "2024-04-10T22:25:05.732Z"
   },
   {
    "duration": 3,
    "start_time": "2024-04-10T22:25:53.369Z"
   },
   {
    "duration": 4,
    "start_time": "2024-04-10T22:25:54.874Z"
   },
   {
    "duration": 2,
    "start_time": "2024-04-10T22:25:55.106Z"
   },
   {
    "duration": 4,
    "start_time": "2024-04-10T22:25:55.573Z"
   },
   {
    "duration": 3,
    "start_time": "2024-04-10T22:25:56.473Z"
   },
   {
    "duration": 1804,
    "start_time": "2024-04-10T22:25:57.054Z"
   },
   {
    "duration": 17,
    "start_time": "2024-04-10T22:26:03.722Z"
   },
   {
    "duration": 2,
    "start_time": "2024-04-10T22:27:32.966Z"
   },
   {
    "duration": 4,
    "start_time": "2024-04-10T22:27:33.150Z"
   },
   {
    "duration": 3,
    "start_time": "2024-04-10T22:27:33.329Z"
   },
   {
    "duration": 4,
    "start_time": "2024-04-10T22:27:33.557Z"
   },
   {
    "duration": 3,
    "start_time": "2024-04-10T22:27:34.578Z"
   },
   {
    "duration": 1796,
    "start_time": "2024-04-10T22:27:36.594Z"
   },
   {
    "duration": 18,
    "start_time": "2024-04-10T22:27:38.405Z"
   },
   {
    "duration": 1109683,
    "start_time": "2024-04-10T22:27:49.820Z"
   },
   {
    "duration": 18,
    "start_time": "2024-04-10T22:46:19.505Z"
   },
   {
    "duration": 4704,
    "start_time": "2024-04-10T23:38:57.851Z"
   },
   {
    "duration": 1738,
    "start_time": "2024-04-10T23:39:02.557Z"
   },
   {
    "duration": 81,
    "start_time": "2024-04-10T23:39:04.297Z"
   },
   {
    "duration": 12,
    "start_time": "2024-04-10T23:39:04.379Z"
   },
   {
    "duration": 7,
    "start_time": "2024-04-10T23:39:04.393Z"
   },
   {
    "duration": 5,
    "start_time": "2024-04-10T23:39:04.401Z"
   },
   {
    "duration": 5,
    "start_time": "2024-04-10T23:39:04.408Z"
   },
   {
    "duration": 10,
    "start_time": "2024-04-10T23:39:04.415Z"
   },
   {
    "duration": 9,
    "start_time": "2024-04-10T23:39:04.426Z"
   },
   {
    "duration": 10,
    "start_time": "2024-04-10T23:39:04.437Z"
   },
   {
    "duration": 8,
    "start_time": "2024-04-10T23:39:04.449Z"
   },
   {
    "duration": 4,
    "start_time": "2024-04-10T23:39:04.459Z"
   },
   {
    "duration": 5,
    "start_time": "2024-04-10T23:39:04.464Z"
   },
   {
    "duration": 9,
    "start_time": "2024-04-10T23:39:04.471Z"
   },
   {
    "duration": 142,
    "start_time": "2024-04-10T23:39:04.481Z"
   },
   {
    "duration": 91,
    "start_time": "2024-04-10T23:39:04.624Z"
   },
   {
    "duration": 100,
    "start_time": "2024-04-10T23:39:04.717Z"
   },
   {
    "duration": 154,
    "start_time": "2024-04-10T23:39:04.818Z"
   },
   {
    "duration": 95,
    "start_time": "2024-04-10T23:39:04.974Z"
   },
   {
    "duration": 98,
    "start_time": "2024-04-10T23:39:05.070Z"
   },
   {
    "duration": 117,
    "start_time": "2024-04-10T23:39:05.169Z"
   },
   {
    "duration": 286,
    "start_time": "2024-04-10T23:39:05.287Z"
   },
   {
    "duration": 99,
    "start_time": "2024-04-10T23:39:05.575Z"
   },
   {
    "duration": 5,
    "start_time": "2024-04-10T23:39:05.676Z"
   },
   {
    "duration": 187,
    "start_time": "2024-04-10T23:39:05.683Z"
   },
   {
    "duration": 4,
    "start_time": "2024-04-10T23:39:05.871Z"
   },
   {
    "duration": 9,
    "start_time": "2024-04-10T23:39:05.876Z"
   },
   {
    "duration": 3,
    "start_time": "2024-04-10T23:39:05.889Z"
   },
   {
    "duration": 23,
    "start_time": "2024-04-10T23:39:05.893Z"
   },
   {
    "duration": 7,
    "start_time": "2024-04-10T23:39:05.917Z"
   },
   {
    "duration": 5,
    "start_time": "2024-04-10T23:39:05.925Z"
   },
   {
    "duration": 3081,
    "start_time": "2024-04-10T23:39:05.931Z"
   },
   {
    "duration": 2,
    "start_time": "2024-04-10T23:39:09.013Z"
   },
   {
    "duration": 5,
    "start_time": "2024-04-10T23:39:09.017Z"
   },
   {
    "duration": 68,
    "start_time": "2024-04-10T23:39:09.024Z"
   },
   {
    "duration": 3,
    "start_time": "2024-04-10T23:39:09.094Z"
   },
   {
    "duration": 40,
    "start_time": "2024-04-10T23:39:09.115Z"
   },
   {
    "duration": 12,
    "start_time": "2024-04-10T23:39:09.157Z"
   },
   {
    "duration": 6,
    "start_time": "2024-04-10T23:39:09.170Z"
   },
   {
    "duration": 42,
    "start_time": "2024-04-10T23:39:09.177Z"
   },
   {
    "duration": 1985,
    "start_time": "2024-04-10T23:39:09.220Z"
   },
   {
    "duration": 75,
    "start_time": "2024-04-10T23:39:11.207Z"
   },
   {
    "duration": 14,
    "start_time": "2024-04-10T23:39:11.284Z"
   },
   {
    "duration": 10,
    "start_time": "2024-04-10T23:39:11.299Z"
   },
   {
    "duration": 12,
    "start_time": "2024-04-10T23:39:11.310Z"
   },
   {
    "duration": 28,
    "start_time": "2024-04-10T23:39:11.324Z"
   },
   {
    "duration": 18,
    "start_time": "2024-04-10T23:39:11.353Z"
   },
   {
    "duration": 11,
    "start_time": "2024-04-10T23:39:11.373Z"
   },
   {
    "duration": 22,
    "start_time": "2024-04-10T23:39:11.385Z"
   },
   {
    "duration": 191,
    "start_time": "2024-04-10T23:39:11.409Z"
   },
   {
    "duration": 4,
    "start_time": "2024-04-10T23:39:11.602Z"
   },
   {
    "duration": 14,
    "start_time": "2024-04-10T23:39:11.614Z"
   },
   {
    "duration": 8,
    "start_time": "2024-04-10T23:39:11.629Z"
   },
   {
    "duration": 4,
    "start_time": "2024-04-10T23:39:11.638Z"
   },
   {
    "duration": 10,
    "start_time": "2024-04-10T23:39:11.643Z"
   },
   {
    "duration": 7,
    "start_time": "2024-04-10T23:39:11.654Z"
   },
   {
    "duration": 3,
    "start_time": "2024-04-10T23:39:11.662Z"
   },
   {
    "duration": 1784,
    "start_time": "2024-04-10T23:39:11.666Z"
   },
   {
    "duration": 16,
    "start_time": "2024-04-10T23:39:13.452Z"
   },
   {
    "duration": 3,
    "start_time": "2024-04-10T23:39:13.469Z"
   },
   {
    "duration": 52,
    "start_time": "2024-04-10T23:39:13.474Z"
   },
   {
    "duration": 11,
    "start_time": "2024-04-10T23:39:13.527Z"
   },
   {
    "duration": 6,
    "start_time": "2024-04-10T23:39:13.540Z"
   },
   {
    "duration": 1530,
    "start_time": "2024-04-10T23:39:13.548Z"
   },
   {
    "duration": 11,
    "start_time": "2024-04-10T23:39:15.080Z"
   },
   {
    "duration": 23,
    "start_time": "2024-04-10T23:39:15.093Z"
   },
   {
    "duration": 7352,
    "start_time": "2024-04-11T23:19:10.980Z"
   },
   {
    "duration": 3804,
    "start_time": "2024-04-11T23:19:18.335Z"
   },
   {
    "duration": 222,
    "start_time": "2024-04-11T23:19:22.141Z"
   },
   {
    "duration": 14,
    "start_time": "2024-04-11T23:19:22.364Z"
   },
   {
    "duration": 6,
    "start_time": "2024-04-11T23:19:22.380Z"
   },
   {
    "duration": 6,
    "start_time": "2024-04-11T23:19:22.387Z"
   },
   {
    "duration": 8,
    "start_time": "2024-04-11T23:19:22.394Z"
   },
   {
    "duration": 5,
    "start_time": "2024-04-11T23:19:22.403Z"
   },
   {
    "duration": 12,
    "start_time": "2024-04-11T23:19:22.410Z"
   },
   {
    "duration": 11,
    "start_time": "2024-04-11T23:19:22.423Z"
   },
   {
    "duration": 30,
    "start_time": "2024-04-11T23:19:22.436Z"
   },
   {
    "duration": 17,
    "start_time": "2024-04-11T23:19:22.468Z"
   },
   {
    "duration": 10,
    "start_time": "2024-04-11T23:19:22.487Z"
   },
   {
    "duration": 23,
    "start_time": "2024-04-11T23:19:22.499Z"
   },
   {
    "duration": 139,
    "start_time": "2024-04-11T23:19:22.524Z"
   },
   {
    "duration": 99,
    "start_time": "2024-04-11T23:19:22.665Z"
   },
   {
    "duration": 106,
    "start_time": "2024-04-11T23:19:22.765Z"
   },
   {
    "duration": 165,
    "start_time": "2024-04-11T23:19:22.881Z"
   },
   {
    "duration": 122,
    "start_time": "2024-04-11T23:19:23.047Z"
   },
   {
    "duration": 114,
    "start_time": "2024-04-11T23:19:23.171Z"
   },
   {
    "duration": 135,
    "start_time": "2024-04-11T23:19:23.288Z"
   },
   {
    "duration": 311,
    "start_time": "2024-04-11T23:19:23.425Z"
   },
   {
    "duration": 110,
    "start_time": "2024-04-11T23:19:23.739Z"
   },
   {
    "duration": 5,
    "start_time": "2024-04-11T23:19:23.851Z"
   },
   {
    "duration": 185,
    "start_time": "2024-04-11T23:19:23.858Z"
   },
   {
    "duration": 4,
    "start_time": "2024-04-11T23:19:24.044Z"
   },
   {
    "duration": 5,
    "start_time": "2024-04-11T23:19:24.049Z"
   },
   {
    "duration": 6,
    "start_time": "2024-04-11T23:19:24.056Z"
   },
   {
    "duration": 4,
    "start_time": "2024-04-11T23:19:24.082Z"
   },
   {
    "duration": 16,
    "start_time": "2024-04-11T23:19:24.088Z"
   },
   {
    "duration": 8,
    "start_time": "2024-04-11T23:19:24.106Z"
   },
   {
    "duration": 1785,
    "start_time": "2024-04-11T23:19:24.115Z"
   },
   {
    "duration": 3,
    "start_time": "2024-04-11T23:19:25.901Z"
   },
   {
    "duration": 13,
    "start_time": "2024-04-11T23:19:25.905Z"
   },
   {
    "duration": 21,
    "start_time": "2024-04-11T23:19:25.920Z"
   },
   {
    "duration": 3,
    "start_time": "2024-04-11T23:19:25.943Z"
   },
   {
    "duration": 61,
    "start_time": "2024-04-11T23:19:25.947Z"
   },
   {
    "duration": 13,
    "start_time": "2024-04-11T23:19:26.009Z"
   },
   {
    "duration": 10,
    "start_time": "2024-04-11T23:19:26.024Z"
   },
   {
    "duration": 24,
    "start_time": "2024-04-11T23:19:26.036Z"
   },
   {
    "duration": 2141,
    "start_time": "2024-04-11T23:19:26.083Z"
   },
   {
    "duration": 167,
    "start_time": "2024-04-11T23:19:28.226Z"
   },
   {
    "duration": 15,
    "start_time": "2024-04-11T23:19:28.394Z"
   },
   {
    "duration": 9,
    "start_time": "2024-04-11T23:19:28.411Z"
   },
   {
    "duration": 25,
    "start_time": "2024-04-11T23:19:28.421Z"
   },
   {
    "duration": 21,
    "start_time": "2024-04-11T23:19:28.448Z"
   },
   {
    "duration": 22,
    "start_time": "2024-04-11T23:19:28.481Z"
   },
   {
    "duration": 13,
    "start_time": "2024-04-11T23:19:28.504Z"
   },
   {
    "duration": 13,
    "start_time": "2024-04-11T23:19:28.519Z"
   },
   {
    "duration": 51,
    "start_time": "2024-04-11T23:19:28.533Z"
   },
   {
    "duration": 4,
    "start_time": "2024-04-11T23:19:28.586Z"
   },
   {
    "duration": 17,
    "start_time": "2024-04-11T23:19:28.591Z"
   },
   {
    "duration": 5,
    "start_time": "2024-04-11T23:19:28.610Z"
   },
   {
    "duration": 9,
    "start_time": "2024-04-11T23:19:28.616Z"
   },
   {
    "duration": 4,
    "start_time": "2024-04-11T23:19:28.626Z"
   },
   {
    "duration": 16,
    "start_time": "2024-04-11T23:19:28.632Z"
   },
   {
    "duration": 6,
    "start_time": "2024-04-11T23:19:28.649Z"
   },
   {
    "duration": 41,
    "start_time": "2024-04-12T00:18:02.430Z"
   },
   {
    "duration": 5,
    "start_time": "2024-04-12T00:18:10.067Z"
   },
   {
    "duration": 5,
    "start_time": "2024-04-12T00:18:10.534Z"
   },
   {
    "duration": 1247,
    "start_time": "2024-04-12T00:18:16.271Z"
   },
   {
    "duration": 0,
    "start_time": "2024-04-12T00:18:17.520Z"
   },
   {
    "duration": 0,
    "start_time": "2024-04-12T00:18:17.521Z"
   },
   {
    "duration": 10,
    "start_time": "2024-04-12T00:18:17.522Z"
   },
   {
    "duration": 6,
    "start_time": "2024-04-12T00:18:18.028Z"
   },
   {
    "duration": 6,
    "start_time": "2024-04-12T00:18:18.167Z"
   },
   {
    "duration": 9,
    "start_time": "2024-04-12T00:18:27.191Z"
   },
   {
    "duration": 7314,
    "start_time": "2024-04-12T00:18:30.343Z"
   },
   {
    "duration": 634,
    "start_time": "2024-04-12T00:18:37.659Z"
   },
   {
    "duration": 211,
    "start_time": "2024-04-12T00:18:44.338Z"
   },
   {
    "duration": 11,
    "start_time": "2024-04-12T00:18:45.870Z"
   },
   {
    "duration": 4,
    "start_time": "2024-04-12T00:18:46.547Z"
   },
   {
    "duration": 4,
    "start_time": "2024-04-12T00:18:47.986Z"
   },
   {
    "duration": 5,
    "start_time": "2024-04-12T00:18:48.546Z"
   },
   {
    "duration": 4,
    "start_time": "2024-04-12T00:18:49.594Z"
   },
   {
    "duration": 7,
    "start_time": "2024-04-12T00:18:49.870Z"
   },
   {
    "duration": 9,
    "start_time": "2024-04-12T00:18:50.131Z"
   },
   {
    "duration": 8,
    "start_time": "2024-04-12T00:18:50.371Z"
   },
   {
    "duration": 4,
    "start_time": "2024-04-12T00:18:52.026Z"
   },
   {
    "duration": 5,
    "start_time": "2024-04-12T00:18:52.250Z"
   },
   {
    "duration": 8,
    "start_time": "2024-04-12T00:18:52.468Z"
   },
   {
    "duration": 95,
    "start_time": "2024-04-12T00:18:52.959Z"
   },
   {
    "duration": 68,
    "start_time": "2024-04-12T00:18:53.883Z"
   },
   {
    "duration": 70,
    "start_time": "2024-04-12T00:18:54.855Z"
   },
   {
    "duration": 117,
    "start_time": "2024-04-12T00:18:55.791Z"
   },
   {
    "duration": 70,
    "start_time": "2024-04-12T00:18:56.786Z"
   },
   {
    "duration": 72,
    "start_time": "2024-04-12T00:18:57.722Z"
   },
   {
    "duration": 89,
    "start_time": "2024-04-12T00:18:58.646Z"
   },
   {
    "duration": 199,
    "start_time": "2024-04-12T00:18:59.559Z"
   },
   {
    "duration": 76,
    "start_time": "2024-04-12T00:18:59.818Z"
   },
   {
    "duration": 5,
    "start_time": "2024-04-12T00:19:00.970Z"
   },
   {
    "duration": 126,
    "start_time": "2024-04-12T00:19:01.211Z"
   },
   {
    "duration": 2,
    "start_time": "2024-04-12T00:19:03.079Z"
   },
   {
    "duration": 3,
    "start_time": "2024-04-12T00:19:03.323Z"
   },
   {
    "duration": 2,
    "start_time": "2024-04-12T00:19:03.551Z"
   },
   {
    "duration": 2,
    "start_time": "2024-04-12T00:19:04.268Z"
   },
   {
    "duration": 2,
    "start_time": "2024-04-12T00:19:04.504Z"
   },
   {
    "duration": 3,
    "start_time": "2024-04-12T00:19:04.727Z"
   },
   {
    "duration": 1396,
    "start_time": "2024-04-12T00:19:04.947Z"
   },
   {
    "duration": 2,
    "start_time": "2024-04-12T00:19:06.345Z"
   },
   {
    "duration": 23,
    "start_time": "2024-04-12T00:19:06.348Z"
   },
   {
    "duration": 12,
    "start_time": "2024-04-12T00:19:06.373Z"
   },
   {
    "duration": 28,
    "start_time": "2024-04-12T00:19:06.518Z"
   },
   {
    "duration": 29,
    "start_time": "2024-04-12T00:20:00.994Z"
   },
   {
    "duration": 1316,
    "start_time": "2024-04-12T00:20:01.850Z"
   },
   {
    "duration": 3,
    "start_time": "2024-04-12T00:20:13.002Z"
   },
   {
    "duration": 29,
    "start_time": "2024-04-12T00:20:14.122Z"
   },
   {
    "duration": 1303,
    "start_time": "2024-04-12T00:20:15.030Z"
   },
   {
    "duration": 12,
    "start_time": "2024-04-12T00:20:33.250Z"
   },
   {
    "duration": 50,
    "start_time": "2024-04-12T00:21:04.290Z"
   },
   {
    "duration": 3,
    "start_time": "2024-04-12T00:21:27.038Z"
   },
   {
    "duration": 11,
    "start_time": "2024-04-12T00:21:29.790Z"
   },
   {
    "duration": 14,
    "start_time": "2024-04-12T00:21:37.895Z"
   },
   {
    "duration": 15,
    "start_time": "2024-04-12T00:22:15.876Z"
   },
   {
    "duration": 4,
    "start_time": "2024-04-12T00:24:03.727Z"
   },
   {
    "duration": 30,
    "start_time": "2024-04-12T00:24:04.083Z"
   },
   {
    "duration": 11,
    "start_time": "2024-04-12T00:24:04.287Z"
   },
   {
    "duration": 5,
    "start_time": "2024-04-12T00:24:04.515Z"
   },
   {
    "duration": 17,
    "start_time": "2024-04-12T00:24:04.735Z"
   },
   {
    "duration": 1945,
    "start_time": "2024-04-12T00:24:04.943Z"
   },
   {
    "duration": 166,
    "start_time": "2024-04-12T00:24:06.889Z"
   },
   {
    "duration": 12,
    "start_time": "2024-04-12T00:24:08.343Z"
   },
   {
    "duration": 8,
    "start_time": "2024-04-12T00:24:08.999Z"
   },
   {
    "duration": 12,
    "start_time": "2024-04-12T00:24:09.588Z"
   },
   {
    "duration": 18,
    "start_time": "2024-04-12T00:24:10.003Z"
   },
   {
    "duration": 17,
    "start_time": "2024-04-12T00:24:10.751Z"
   },
   {
    "duration": 11,
    "start_time": "2024-04-12T00:24:11.423Z"
   },
   {
    "duration": 7,
    "start_time": "2024-04-12T00:24:12.439Z"
   },
   {
    "duration": 21,
    "start_time": "2024-04-12T00:24:12.619Z"
   },
   {
    "duration": 4,
    "start_time": "2024-04-12T00:24:12.779Z"
   },
   {
    "duration": 14,
    "start_time": "2024-04-12T00:24:13.152Z"
   },
   {
    "duration": 3,
    "start_time": "2024-04-12T00:24:13.327Z"
   },
   {
    "duration": 3,
    "start_time": "2024-04-12T00:24:13.503Z"
   },
   {
    "duration": 3,
    "start_time": "2024-04-12T00:24:13.675Z"
   },
   {
    "duration": 4,
    "start_time": "2024-04-12T00:24:13.876Z"
   },
   {
    "duration": 3,
    "start_time": "2024-04-12T00:24:14.751Z"
   },
   {
    "duration": 141154,
    "start_time": "2024-04-12T00:24:14.895Z"
   },
   {
    "duration": 0,
    "start_time": "2024-04-12T00:26:36.051Z"
   },
   {
    "duration": 0,
    "start_time": "2024-04-12T00:26:36.052Z"
   },
   {
    "duration": 0,
    "start_time": "2024-04-12T00:26:36.053Z"
   },
   {
    "duration": 0,
    "start_time": "2024-04-12T00:26:36.054Z"
   },
   {
    "duration": 0,
    "start_time": "2024-04-12T00:26:36.055Z"
   },
   {
    "duration": 0,
    "start_time": "2024-04-12T00:26:36.056Z"
   },
   {
    "duration": 0,
    "start_time": "2024-04-12T00:26:36.057Z"
   },
   {
    "duration": 0,
    "start_time": "2024-04-12T00:26:36.058Z"
   },
   {
    "duration": 1486,
    "start_time": "2024-04-12T00:26:44.167Z"
   },
   {
    "duration": 14,
    "start_time": "2024-04-12T00:26:47.903Z"
   },
   {
    "duration": 5675,
    "start_time": "2024-04-12T00:27:03.908Z"
   },
   {
    "duration": 0,
    "start_time": "2024-04-12T00:27:09.585Z"
   },
   {
    "duration": 0,
    "start_time": "2024-04-12T00:27:09.586Z"
   },
   {
    "duration": 0,
    "start_time": "2024-04-12T00:27:09.587Z"
   },
   {
    "duration": 1,
    "start_time": "2024-04-12T00:27:09.587Z"
   },
   {
    "duration": 0,
    "start_time": "2024-04-12T00:27:09.601Z"
   },
   {
    "duration": 0,
    "start_time": "2024-04-12T00:27:09.602Z"
   },
   {
    "duration": 0,
    "start_time": "2024-04-12T00:27:09.603Z"
   },
   {
    "duration": 3,
    "start_time": "2024-04-12T00:27:50.333Z"
   },
   {
    "duration": 1086,
    "start_time": "2024-04-12T00:27:51.273Z"
   },
   {
    "duration": 74,
    "start_time": "2024-04-12T00:28:04.396Z"
   },
   {
    "duration": 8,
    "start_time": "2024-04-12T00:28:04.897Z"
   },
   {
    "duration": 5,
    "start_time": "2024-04-12T00:28:05.188Z"
   },
   {
    "duration": 4,
    "start_time": "2024-04-12T00:28:05.636Z"
   },
   {
    "duration": 4,
    "start_time": "2024-04-12T00:28:05.793Z"
   },
   {
    "duration": 4,
    "start_time": "2024-04-12T00:28:06.260Z"
   },
   {
    "duration": 7,
    "start_time": "2024-04-12T00:28:06.432Z"
   },
   {
    "duration": 10,
    "start_time": "2024-04-12T00:28:06.573Z"
   },
   {
    "duration": 8,
    "start_time": "2024-04-12T00:28:06.732Z"
   },
   {
    "duration": 6,
    "start_time": "2024-04-12T00:28:08.225Z"
   },
   {
    "duration": 6,
    "start_time": "2024-04-12T00:28:08.369Z"
   },
   {
    "duration": 8,
    "start_time": "2024-04-12T00:28:08.525Z"
   },
   {
    "duration": 84,
    "start_time": "2024-04-12T00:28:08.853Z"
   },
   {
    "duration": 70,
    "start_time": "2024-04-12T00:28:09.500Z"
   },
   {
    "duration": 78,
    "start_time": "2024-04-12T00:28:10.345Z"
   },
   {
    "duration": 115,
    "start_time": "2024-04-12T00:28:11.053Z"
   },
   {
    "duration": 77,
    "start_time": "2024-04-12T00:28:11.696Z"
   },
   {
    "duration": 76,
    "start_time": "2024-04-12T00:28:12.317Z"
   },
   {
    "duration": 97,
    "start_time": "2024-04-12T00:28:12.933Z"
   },
   {
    "duration": 153,
    "start_time": "2024-04-12T00:28:13.589Z"
   },
   {
    "duration": 155,
    "start_time": "2024-04-12T00:28:13.747Z"
   },
   {
    "duration": 4,
    "start_time": "2024-04-12T00:28:14.565Z"
   },
   {
    "duration": 139,
    "start_time": "2024-04-12T00:28:14.941Z"
   },
   {
    "duration": 3,
    "start_time": "2024-04-12T00:28:17.005Z"
   },
   {
    "duration": 3,
    "start_time": "2024-04-12T00:28:17.381Z"
   },
   {
    "duration": 2,
    "start_time": "2024-04-12T00:28:17.737Z"
   },
   {
    "duration": 3,
    "start_time": "2024-04-12T00:28:18.761Z"
   },
   {
    "duration": 3,
    "start_time": "2024-04-12T00:28:19.101Z"
   },
   {
    "duration": 3,
    "start_time": "2024-04-12T00:28:19.473Z"
   },
   {
    "duration": 2522,
    "start_time": "2024-04-12T00:28:19.865Z"
   },
   {
    "duration": 2,
    "start_time": "2024-04-12T00:28:22.389Z"
   },
   {
    "duration": 4,
    "start_time": "2024-04-12T00:28:22.402Z"
   },
   {
    "duration": 69,
    "start_time": "2024-04-12T00:28:22.408Z"
   },
   {
    "duration": 34,
    "start_time": "2024-04-12T00:28:22.478Z"
   },
   {
    "duration": 3,
    "start_time": "2024-04-12T00:28:27.625Z"
   },
   {
    "duration": 1370,
    "start_time": "2024-04-12T00:28:53.262Z"
   },
   {
    "duration": 2,
    "start_time": "2024-04-12T00:28:58.781Z"
   },
   {
    "duration": 4,
    "start_time": "2024-04-12T00:28:59.125Z"
   },
   {
    "duration": 13,
    "start_time": "2024-04-12T00:29:00.061Z"
   },
   {
    "duration": 28,
    "start_time": "2024-04-12T00:29:10.229Z"
   },
   {
    "duration": 2,
    "start_time": "2024-04-12T00:29:16.542Z"
   },
   {
    "duration": 29,
    "start_time": "2024-04-12T00:29:17.938Z"
   },
   {
    "duration": 11,
    "start_time": "2024-04-12T00:29:18.670Z"
   },
   {
    "duration": 6,
    "start_time": "2024-04-12T00:29:19.438Z"
   },
   {
    "duration": 1609,
    "start_time": "2024-04-12T00:29:24.186Z"
   },
   {
    "duration": 68,
    "start_time": "2024-04-12T00:33:24.097Z"
   },
   {
    "duration": 11,
    "start_time": "2024-04-12T00:49:02.060Z"
   },
   {
    "duration": 12,
    "start_time": "2024-04-12T00:49:42.848Z"
   },
   {
    "duration": 68,
    "start_time": "2024-04-12T00:49:54.276Z"
   },
   {
    "duration": 11,
    "start_time": "2024-04-12T00:50:02.068Z"
   },
   {
    "duration": 7,
    "start_time": "2024-04-12T00:50:06.177Z"
   },
   {
    "duration": 5,
    "start_time": "2024-04-12T00:53:57.102Z"
   },
   {
    "duration": 17,
    "start_time": "2024-04-12T00:53:57.849Z"
   },
   {
    "duration": 2,
    "start_time": "2024-04-12T00:54:19.838Z"
   },
   {
    "duration": 13,
    "start_time": "2024-04-12T00:54:24.706Z"
   },
   {
    "duration": 13,
    "start_time": "2024-04-12T00:54:54.242Z"
   },
   {
    "duration": 5,
    "start_time": "2024-04-12T00:55:16.222Z"
   },
   {
    "duration": 17,
    "start_time": "2024-04-12T00:55:16.786Z"
   },
   {
    "duration": 3,
    "start_time": "2024-04-12T00:55:17.250Z"
   },
   {
    "duration": 14,
    "start_time": "2024-04-12T00:55:17.694Z"
   },
   {
    "duration": 14,
    "start_time": "2024-04-12T00:55:20.574Z"
   },
   {
    "duration": 7,
    "start_time": "2024-04-12T00:55:36.490Z"
   },
   {
    "duration": 13,
    "start_time": "2024-04-12T00:55:41.150Z"
   },
   {
    "duration": 12,
    "start_time": "2024-04-12T00:56:00.534Z"
   },
   {
    "duration": 6,
    "start_time": "2024-04-12T00:56:04.302Z"
   },
   {
    "duration": 17,
    "start_time": "2024-04-12T00:56:07.042Z"
   },
   {
    "duration": 2,
    "start_time": "2024-04-12T00:56:09.599Z"
   },
   {
    "duration": 13,
    "start_time": "2024-04-12T00:56:10.042Z"
   },
   {
    "duration": 11,
    "start_time": "2024-04-12T00:56:12.386Z"
   },
   {
    "duration": 8,
    "start_time": "2024-04-12T00:56:15.818Z"
   },
   {
    "duration": 11,
    "start_time": "2024-04-12T00:56:17.414Z"
   },
   {
    "duration": 20,
    "start_time": "2024-04-12T00:56:29.130Z"
   },
   {
    "duration": 18,
    "start_time": "2024-04-12T00:57:19.350Z"
   },
   {
    "duration": 10,
    "start_time": "2024-04-12T00:57:27.359Z"
   },
   {
    "duration": 7,
    "start_time": "2024-04-12T00:59:09.915Z"
   },
   {
    "duration": 22,
    "start_time": "2024-04-12T00:59:10.427Z"
   },
   {
    "duration": 3,
    "start_time": "2024-04-12T00:59:11.907Z"
   },
   {
    "duration": 13,
    "start_time": "2024-04-12T00:59:13.591Z"
   },
   {
    "duration": 2,
    "start_time": "2024-04-12T00:59:15.247Z"
   },
   {
    "duration": 5,
    "start_time": "2024-04-12T00:59:16.827Z"
   },
   {
    "duration": 10,
    "start_time": "2024-04-12T00:59:45.232Z"
   },
   {
    "duration": 50,
    "start_time": "2024-04-12T00:59:45.551Z"
   },
   {
    "duration": 3,
    "start_time": "2024-04-12T00:59:45.895Z"
   },
   {
    "duration": 7,
    "start_time": "2024-04-12T00:59:50.939Z"
   },
   {
    "duration": 11,
    "start_time": "2024-04-12T00:59:51.327Z"
   },
   {
    "duration": 13,
    "start_time": "2024-04-12T01:00:02.479Z"
   },
   {
    "duration": 69,
    "start_time": "2024-04-12T01:00:12.295Z"
   },
   {
    "duration": 21,
    "start_time": "2024-04-12T01:00:13.431Z"
   },
   {
    "duration": 12,
    "start_time": "2024-04-12T01:00:17.375Z"
   },
   {
    "duration": 9,
    "start_time": "2024-04-12T01:00:17.863Z"
   },
   {
    "duration": 10,
    "start_time": "2024-04-12T01:00:18.331Z"
   },
   {
    "duration": 19,
    "start_time": "2024-04-12T01:00:20.003Z"
   },
   {
    "duration": 19,
    "start_time": "2024-04-12T01:00:21.448Z"
   },
   {
    "duration": 11,
    "start_time": "2024-04-12T01:00:22.456Z"
   },
   {
    "duration": 12,
    "start_time": "2024-04-12T01:00:26.216Z"
   },
   {
    "duration": 7,
    "start_time": "2024-04-12T01:00:32.783Z"
   },
   {
    "duration": 19,
    "start_time": "2024-04-12T01:00:33.463Z"
   },
   {
    "duration": 22,
    "start_time": "2024-04-12T01:00:50.155Z"
   },
   {
    "duration": 3,
    "start_time": "2024-04-12T01:00:53.943Z"
   },
   {
    "duration": 14,
    "start_time": "2024-04-12T01:00:55.691Z"
   },
   {
    "duration": 3,
    "start_time": "2024-04-12T01:01:00.220Z"
   },
   {
    "duration": 4,
    "start_time": "2024-04-12T01:01:00.851Z"
   },
   {
    "duration": 3,
    "start_time": "2024-04-12T01:01:03.911Z"
   },
   {
    "duration": 4,
    "start_time": "2024-04-12T01:01:04.487Z"
   },
   {
    "duration": 3,
    "start_time": "2024-04-12T01:01:07.291Z"
   },
   {
    "duration": 10,
    "start_time": "2024-04-12T01:01:22.592Z"
   },
   {
    "duration": 1743,
    "start_time": "2024-04-12T01:01:36.540Z"
   },
   {
    "duration": 18,
    "start_time": "2024-04-12T01:01:38.284Z"
   },
   {
    "duration": 1465,
    "start_time": "2024-04-12T01:01:56.580Z"
   },
   {
    "duration": 13,
    "start_time": "2024-04-12T01:01:58.046Z"
   },
   {
    "duration": 4820,
    "start_time": "2024-04-12T01:02:11.211Z"
   },
   {
    "duration": 1566,
    "start_time": "2024-04-12T01:02:16.032Z"
   },
   {
    "duration": 72,
    "start_time": "2024-04-12T01:02:17.600Z"
   },
   {
    "duration": 10,
    "start_time": "2024-04-12T01:02:17.673Z"
   },
   {
    "duration": 6,
    "start_time": "2024-04-12T01:02:17.684Z"
   },
   {
    "duration": 9,
    "start_time": "2024-04-12T01:02:17.691Z"
   },
   {
    "duration": 8,
    "start_time": "2024-04-12T01:02:17.701Z"
   },
   {
    "duration": 7,
    "start_time": "2024-04-12T01:02:17.710Z"
   },
   {
    "duration": 12,
    "start_time": "2024-04-12T01:02:17.718Z"
   },
   {
    "duration": 16,
    "start_time": "2024-04-12T01:02:17.732Z"
   },
   {
    "duration": 19,
    "start_time": "2024-04-12T01:02:17.749Z"
   },
   {
    "duration": 7,
    "start_time": "2024-04-12T01:02:17.769Z"
   },
   {
    "duration": 14,
    "start_time": "2024-04-12T01:02:17.778Z"
   },
   {
    "duration": 23,
    "start_time": "2024-04-12T01:02:17.794Z"
   },
   {
    "duration": 110,
    "start_time": "2024-04-12T01:02:17.818Z"
   },
   {
    "duration": 80,
    "start_time": "2024-04-12T01:02:17.929Z"
   },
   {
    "duration": 71,
    "start_time": "2024-04-12T01:02:18.010Z"
   },
   {
    "duration": 138,
    "start_time": "2024-04-12T01:02:18.083Z"
   },
   {
    "duration": 69,
    "start_time": "2024-04-12T01:02:18.222Z"
   },
   {
    "duration": 91,
    "start_time": "2024-04-12T01:02:18.301Z"
   },
   {
    "duration": 122,
    "start_time": "2024-04-12T01:02:18.393Z"
   },
   {
    "duration": 212,
    "start_time": "2024-04-12T01:02:18.516Z"
   },
   {
    "duration": 83,
    "start_time": "2024-04-12T01:02:18.730Z"
   },
   {
    "duration": 5,
    "start_time": "2024-04-12T01:02:18.814Z"
   },
   {
    "duration": 139,
    "start_time": "2024-04-12T01:02:18.820Z"
   },
   {
    "duration": 3,
    "start_time": "2024-04-12T01:02:18.960Z"
   },
   {
    "duration": 30,
    "start_time": "2024-04-12T01:02:18.965Z"
   },
   {
    "duration": 7,
    "start_time": "2024-04-12T01:02:18.998Z"
   },
   {
    "duration": 14,
    "start_time": "2024-04-12T01:02:19.006Z"
   },
   {
    "duration": 10,
    "start_time": "2024-04-12T01:02:19.022Z"
   },
   {
    "duration": 14,
    "start_time": "2024-04-12T01:02:19.033Z"
   },
   {
    "duration": 1468,
    "start_time": "2024-04-12T01:02:19.049Z"
   },
   {
    "duration": 2,
    "start_time": "2024-04-12T01:02:20.519Z"
   },
   {
    "duration": 33,
    "start_time": "2024-04-12T01:02:20.523Z"
   },
   {
    "duration": 29,
    "start_time": "2024-04-12T01:02:20.557Z"
   },
   {
    "duration": 10,
    "start_time": "2024-04-12T01:02:20.587Z"
   },
   {
    "duration": 33,
    "start_time": "2024-04-12T01:02:20.599Z"
   },
   {
    "duration": 12,
    "start_time": "2024-04-12T01:02:20.633Z"
   },
   {
    "duration": 11,
    "start_time": "2024-04-12T01:02:20.646Z"
   },
   {
    "duration": 1682,
    "start_time": "2024-04-12T01:02:20.658Z"
   },
   {
    "duration": 69,
    "start_time": "2024-04-12T01:02:22.341Z"
   },
   {
    "duration": 44,
    "start_time": "2024-04-12T01:02:22.411Z"
   },
   {
    "duration": 11,
    "start_time": "2024-04-12T01:02:22.456Z"
   },
   {
    "duration": 11,
    "start_time": "2024-04-12T01:02:22.468Z"
   },
   {
    "duration": 20,
    "start_time": "2024-04-12T01:02:22.481Z"
   },
   {
    "duration": 26,
    "start_time": "2024-04-12T01:02:22.502Z"
   },
   {
    "duration": 20,
    "start_time": "2024-04-12T01:02:22.529Z"
   },
   {
    "duration": 18,
    "start_time": "2024-04-12T01:02:22.550Z"
   },
   {
    "duration": 11,
    "start_time": "2024-04-12T01:02:22.569Z"
   },
   {
    "duration": 41,
    "start_time": "2024-04-12T01:02:22.581Z"
   },
   {
    "duration": 65,
    "start_time": "2024-04-12T01:02:22.623Z"
   },
   {
    "duration": 21,
    "start_time": "2024-04-12T01:02:22.689Z"
   },
   {
    "duration": 33,
    "start_time": "2024-04-12T01:02:22.711Z"
   },
   {
    "duration": 19,
    "start_time": "2024-04-12T01:02:22.745Z"
   },
   {
    "duration": 45,
    "start_time": "2024-04-12T01:02:22.765Z"
   },
   {
    "duration": 25,
    "start_time": "2024-04-12T01:02:22.811Z"
   },
   {
    "duration": 18,
    "start_time": "2024-04-12T01:02:22.837Z"
   },
   {
    "duration": 24,
    "start_time": "2024-04-12T01:02:22.856Z"
   },
   {
    "duration": 1944748,
    "start_time": "2024-04-12T01:02:22.881Z"
   },
   {
    "duration": 14,
    "start_time": "2024-04-12T01:34:47.630Z"
   },
   {
    "duration": 2,
    "start_time": "2024-04-12T01:34:47.645Z"
   },
   {
    "duration": 36,
    "start_time": "2024-04-12T01:34:47.649Z"
   },
   {
    "duration": 24,
    "start_time": "2024-04-12T01:34:47.686Z"
   },
   {
    "duration": 5,
    "start_time": "2024-04-12T01:34:47.711Z"
   },
   {
    "duration": 1401,
    "start_time": "2024-04-12T01:34:47.717Z"
   },
   {
    "duration": 9,
    "start_time": "2024-04-12T01:34:49.119Z"
   },
   {
    "duration": 13,
    "start_time": "2024-04-12T01:34:49.129Z"
   },
   {
    "duration": 14,
    "start_time": "2024-04-12T01:42:27.312Z"
   },
   {
    "duration": 2,
    "start_time": "2024-04-12T01:43:05.636Z"
   },
   {
    "duration": 30,
    "start_time": "2024-04-12T01:43:06.124Z"
   },
   {
    "duration": 9,
    "start_time": "2024-04-12T01:43:06.636Z"
   },
   {
    "duration": 7,
    "start_time": "2024-04-12T01:43:07.215Z"
   },
   {
    "duration": 1358,
    "start_time": "2024-04-12T01:43:08.204Z"
   },
   {
    "duration": 9,
    "start_time": "2024-04-12T01:43:13.756Z"
   },
   {
    "duration": 8,
    "start_time": "2024-04-12T01:43:14.207Z"
   },
   {
    "duration": 10,
    "start_time": "2024-04-12T01:44:23.303Z"
   },
   {
    "duration": 10,
    "start_time": "2024-04-12T01:44:24.347Z"
   },
   {
    "duration": 47,
    "start_time": "2024-10-13T02:48:02.555Z"
   },
   {
    "duration": 4771,
    "start_time": "2024-10-13T02:48:10.331Z"
   },
   {
    "duration": 1760,
    "start_time": "2024-10-13T02:48:15.104Z"
   },
   {
    "duration": 257,
    "start_time": "2024-10-13T02:48:16.865Z"
   },
   {
    "duration": 13,
    "start_time": "2024-10-13T02:48:17.125Z"
   },
   {
    "duration": 6,
    "start_time": "2024-10-13T02:48:17.139Z"
   },
   {
    "duration": 5,
    "start_time": "2024-10-13T02:48:17.147Z"
   },
   {
    "duration": 6,
    "start_time": "2024-10-13T02:48:17.153Z"
   },
   {
    "duration": 5,
    "start_time": "2024-10-13T02:48:17.161Z"
   },
   {
    "duration": 17,
    "start_time": "2024-10-13T02:48:17.167Z"
   },
   {
    "duration": 10,
    "start_time": "2024-10-13T02:48:17.186Z"
   },
   {
    "duration": 15,
    "start_time": "2024-10-13T02:48:17.197Z"
   },
   {
    "duration": 5,
    "start_time": "2024-10-13T02:48:17.214Z"
   },
   {
    "duration": 5,
    "start_time": "2024-10-13T02:48:17.221Z"
   },
   {
    "duration": 14,
    "start_time": "2024-10-13T02:48:17.227Z"
   },
   {
    "duration": 135,
    "start_time": "2024-10-13T02:48:17.242Z"
   },
   {
    "duration": 82,
    "start_time": "2024-10-13T02:48:17.379Z"
   },
   {
    "duration": 99,
    "start_time": "2024-10-13T02:48:17.476Z"
   },
   {
    "duration": 151,
    "start_time": "2024-10-13T02:48:17.577Z"
   },
   {
    "duration": 92,
    "start_time": "2024-10-13T02:48:17.730Z"
   },
   {
    "duration": 98,
    "start_time": "2024-10-13T02:48:17.824Z"
   },
   {
    "duration": 116,
    "start_time": "2024-10-13T02:48:17.924Z"
   },
   {
    "duration": 281,
    "start_time": "2024-10-13T02:48:18.041Z"
   },
   {
    "duration": 103,
    "start_time": "2024-10-13T02:48:18.323Z"
   },
   {
    "duration": 4,
    "start_time": "2024-10-13T02:48:18.428Z"
   },
   {
    "duration": 168,
    "start_time": "2024-10-13T02:48:18.434Z"
   },
   {
    "duration": 3,
    "start_time": "2024-10-13T02:48:18.604Z"
   },
   {
    "duration": 7,
    "start_time": "2024-10-13T02:48:18.608Z"
   },
   {
    "duration": 3,
    "start_time": "2024-10-13T02:48:18.618Z"
   },
   {
    "duration": 4,
    "start_time": "2024-10-13T02:48:18.622Z"
   },
   {
    "duration": 10,
    "start_time": "2024-10-13T02:48:18.628Z"
   },
   {
    "duration": 3,
    "start_time": "2024-10-13T02:48:18.639Z"
   },
   {
    "duration": 1652,
    "start_time": "2024-10-13T02:48:18.644Z"
   },
   {
    "duration": 3,
    "start_time": "2024-10-13T02:48:20.297Z"
   },
   {
    "duration": 4,
    "start_time": "2024-10-13T02:48:20.301Z"
   },
   {
    "duration": 13,
    "start_time": "2024-10-13T02:48:20.307Z"
   },
   {
    "duration": 3,
    "start_time": "2024-10-13T02:48:20.322Z"
   },
   {
    "duration": 187,
    "start_time": "2024-10-13T02:48:20.326Z"
   },
   {
    "duration": 0,
    "start_time": "2024-10-13T02:48:20.514Z"
   },
   {
    "duration": 0,
    "start_time": "2024-10-13T02:48:20.516Z"
   },
   {
    "duration": 0,
    "start_time": "2024-10-13T02:48:20.517Z"
   },
   {
    "duration": 0,
    "start_time": "2024-10-13T02:48:20.518Z"
   },
   {
    "duration": 0,
    "start_time": "2024-10-13T02:48:20.519Z"
   },
   {
    "duration": 0,
    "start_time": "2024-10-13T02:48:20.521Z"
   },
   {
    "duration": 0,
    "start_time": "2024-10-13T02:48:20.521Z"
   },
   {
    "duration": 0,
    "start_time": "2024-10-13T02:48:20.522Z"
   },
   {
    "duration": 0,
    "start_time": "2024-10-13T02:48:20.524Z"
   },
   {
    "duration": 0,
    "start_time": "2024-10-13T02:48:20.525Z"
   },
   {
    "duration": 0,
    "start_time": "2024-10-13T02:48:20.526Z"
   },
   {
    "duration": 0,
    "start_time": "2024-10-13T02:48:20.527Z"
   },
   {
    "duration": 0,
    "start_time": "2024-10-13T02:48:20.528Z"
   },
   {
    "duration": 0,
    "start_time": "2024-10-13T02:48:20.529Z"
   },
   {
    "duration": 0,
    "start_time": "2024-10-13T02:48:20.530Z"
   },
   {
    "duration": 0,
    "start_time": "2024-10-13T02:48:20.531Z"
   },
   {
    "duration": 0,
    "start_time": "2024-10-13T02:48:20.532Z"
   },
   {
    "duration": 0,
    "start_time": "2024-10-13T02:48:20.533Z"
   },
   {
    "duration": 0,
    "start_time": "2024-10-13T02:48:20.534Z"
   },
   {
    "duration": 0,
    "start_time": "2024-10-13T02:48:20.535Z"
   },
   {
    "duration": 0,
    "start_time": "2024-10-13T02:48:20.576Z"
   },
   {
    "duration": 0,
    "start_time": "2024-10-13T02:48:20.577Z"
   },
   {
    "duration": 1,
    "start_time": "2024-10-13T02:48:20.578Z"
   },
   {
    "duration": 0,
    "start_time": "2024-10-13T02:48:20.580Z"
   },
   {
    "duration": 6562,
    "start_time": "2024-10-13T02:58:14.368Z"
   },
   {
    "duration": 51,
    "start_time": "2024-10-13T02:58:27.867Z"
   },
   {
    "duration": 38,
    "start_time": "2024-10-13T02:58:40.935Z"
   },
   {
    "duration": 13,
    "start_time": "2024-10-13T02:58:44.651Z"
   },
   {
    "duration": 6,
    "start_time": "2024-10-13T02:58:45.483Z"
   },
   {
    "duration": 2017,
    "start_time": "2024-10-13T02:58:45.827Z"
   },
   {
    "duration": 212,
    "start_time": "2024-10-13T02:58:50.535Z"
   },
   {
    "duration": 25,
    "start_time": "2024-10-13T02:58:52.372Z"
   },
   {
    "duration": 14,
    "start_time": "2024-10-13T02:58:56.567Z"
   },
   {
    "duration": 11,
    "start_time": "2024-10-13T02:58:56.891Z"
   },
   {
    "duration": 12,
    "start_time": "2024-10-13T02:58:57.219Z"
   },
   {
    "duration": 23,
    "start_time": "2024-10-13T02:58:57.540Z"
   },
   {
    "duration": 22,
    "start_time": "2024-10-13T02:58:58.199Z"
   },
   {
    "duration": 13,
    "start_time": "2024-10-13T02:58:58.687Z"
   },
   {
    "duration": 13,
    "start_time": "2024-10-13T02:58:59.927Z"
   },
   {
    "duration": 8,
    "start_time": "2024-10-13T02:59:00.139Z"
   },
   {
    "duration": 30,
    "start_time": "2024-10-13T02:59:00.551Z"
   },
   {
    "duration": 4,
    "start_time": "2024-10-13T02:59:00.807Z"
   },
   {
    "duration": 14,
    "start_time": "2024-10-13T02:59:01.235Z"
   },
   {
    "duration": 3,
    "start_time": "2024-10-13T02:59:01.523Z"
   },
   {
    "duration": 5,
    "start_time": "2024-10-13T02:59:01.815Z"
   },
   {
    "duration": 3,
    "start_time": "2024-10-13T02:59:02.107Z"
   },
   {
    "duration": 4,
    "start_time": "2024-10-13T02:59:02.403Z"
   },
   {
    "duration": 2,
    "start_time": "2024-10-13T02:59:03.633Z"
   }
  ],
  "kernelspec": {
   "display_name": "Python 3 (ipykernel)",
   "language": "python",
   "name": "python3"
  },
  "language_info": {
   "codemirror_mode": {
    "name": "ipython",
    "version": 3
   },
   "file_extension": ".py",
   "mimetype": "text/x-python",
   "name": "python",
   "nbconvert_exporter": "python",
   "pygments_lexer": "ipython3",
   "version": "3.9.5"
  },
  "toc": {
   "base_numbering": 1,
   "nav_menu": {},
   "number_sections": true,
   "sideBar": true,
   "skip_h1_title": true,
   "title_cell": "Table of Contents",
   "title_sidebar": "Contents",
   "toc_cell": false,
   "toc_position": {
    "height": "767px",
    "left": "84px",
    "top": "188.125px",
    "width": "165px"
   },
   "toc_section_display": true,
   "toc_window_display": true
  }
 },
 "nbformat": 4,
 "nbformat_minor": 5
}
