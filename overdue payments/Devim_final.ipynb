{
 "cells": [
  {
   "cell_type": "markdown",
   "id": "7561d3c4",
   "metadata": {},
   "source": [
    "# Задание 1"
   ]
  },
  {
   "cell_type": "markdown",
   "id": "5906e4e5",
   "metadata": {},
   "source": [
    "## Описание задачи"
   ]
  },
  {
   "cell_type": "markdown",
   "id": "43741ee6",
   "metadata": {},
   "source": [
    "Вам дана таблица заявок на кредит: id - номер заявки, created_date - время создания заявки, decision - решение по заявке, decision_date - время принятия решения, issued_sum - сумма выдачи, issued_date - время выдачи"
   ]
  },
  {
   "cell_type": "markdown",
   "id": "db670ae0",
   "metadata": {},
   "source": [
    "Задача: Менеджмент хочет понимать, находятся ли бизнес-показатели в норме в течение дня (например на 14:00, 18:00 и т. д.) в сравнении с показателями за предыдущие дни. Показатели: кол-во заявок, уровень одобрения, очередь заявок без решения, уровень выдач, средняя выданная сумма. Нормой можно считать показатели за последние 20 дней.\n",
    "\n",
    "Предложите визуализации (концептуально или на примере) для ответа на такой вопрос бизнеса и напишите sql (любой диалект), который подготовит данные для этой визуализации.\n"
   ]
  },
  {
   "cell_type": "markdown",
   "id": "f27c740c",
   "metadata": {},
   "source": [
    "## SQL"
   ]
  },
  {
   "cell_type": "markdown",
   "id": "3ce9a5f0",
   "metadata": {},
   "source": [
    "С точки зрения бизнеса вряд ли имеет смысл строить общий запрос для того чтобы вывести все данные, поэтому построим множество запросов"
   ]
  },
  {
   "cell_type": "markdown",
   "id": "1a80ba1c",
   "metadata": {},
   "source": [
    "### Запрос для вывода количества заявок для каждого часа за последние 20 дней"
   ]
  },
  {
   "cell_type": "markdown",
   "id": "46f99405",
   "metadata": {},
   "source": [
    "SELECT \n",
    "    EXTRACT(HOUR FROM created_date) AS request_hour,\n",
    "    COUNT(*) AS total_requests\n",
    "FROM data\n",
    "WHERE created_date >= NOW() - INTERVAL '20 days'\n",
    "GROUP BY request_hour\n",
    "ORDER BY request_hour;"
   ]
  },
  {
   "cell_type": "markdown",
   "id": "2f412cc5",
   "metadata": {},
   "source": [
    "### Запрос с уровнем одобрения для каждого часа за последние 20 дней"
   ]
  },
  {
   "cell_type": "code",
   "execution_count": null,
   "id": "be64affb",
   "metadata": {},
   "outputs": [],
   "source": [
    "SELECT \n",
    "    EXTRACT(HOUR FROM created_date) AS request_hour,\n",
    "    COUNT(*) AS total_requests,\n",
    "    COUNT(CASE WHEN decision = 'approved' THEN 1 END) AS approved_requests,\n",
    "    ROUND(\n",
    "        COUNT(CASE WHEN decision = 'approved' THEN 1 END) * 100.0 / NULLIF(COUNT(*), 0), \n",
    "        2\n",
    "    ) AS approval_rate\n",
    "FROM data\n",
    "WHERE created_date >= NOW() - INTERVAL '20 days'\n",
    "GROUP BY request_hour\n",
    "ORDER BY request_hour;"
   ]
  },
  {
   "cell_type": "markdown",
   "id": "4576f51e",
   "metadata": {},
   "source": [
    "- total_requests: общее количество заявок за каждый час.\n",
    "- approved_requests: количество одобренных заявок за каждый час.\n",
    "- approval_rate: уровень одобрения, рассчитанный как процент одобренных заявок от общего числа заявок за этот час."
   ]
  },
  {
   "cell_type": "markdown",
   "id": "d75065c7",
   "metadata": {},
   "source": [
    "### Таблица с очередью заявок без решения для каждого часа за последние 20 дней"
   ]
  },
  {
   "cell_type": "code",
   "execution_count": null,
   "id": "d489b55b",
   "metadata": {},
   "outputs": [],
   "source": [
    "SELECT \n",
    "    EXTRACT(HOUR FROM created_date) AS request_hour,\n",
    "    COUNT(*) AS pending_requests\n",
    "FROM data\n",
    "WHERE created_date >= NOW() - INTERVAL '20 days'\n",
    "  AND decision = NULL\n",
    "GROUP BY request_hour\n",
    "ORDER BY request_hour;"
   ]
  },
  {
   "cell_type": "markdown",
   "id": "0a9c4fba",
   "metadata": {},
   "source": [
    "- request_hour: час, в который были созданы заявки.\n",
    "- pending_requests: количество заявок без решения за каждый час."
   ]
  },
  {
   "cell_type": "markdown",
   "id": "3e7648ec",
   "metadata": {},
   "source": [
    "### Таблица с уровнем выдач для каждого часа за последние 20 дней"
   ]
  },
  {
   "cell_type": "code",
   "execution_count": null,
   "id": "87585a98",
   "metadata": {},
   "outputs": [],
   "source": [
    "SELECT \n",
    "    EXTRACT(HOUR FROM created_date) AS request_hour,\n",
    "    COUNT(*) AS issued_requests\n",
    "FROM data\n",
    "WHERE created_date >= NOW() - INTERVAL '20 days'\n",
    "  AND decision = 'approved' \n",
    "GROUP BY request_hour\n",
    "ORDER BY request_hour;"
   ]
  },
  {
   "cell_type": "markdown",
   "id": "cb71feb2",
   "metadata": {},
   "source": [
    "- request_hour: час, в который были выданы заявки.\n",
    "- issued_requests: количество выданных заявок за каждый час."
   ]
  },
  {
   "cell_type": "markdown",
   "id": "7b0f4b9f",
   "metadata": {},
   "source": [
    "### таблица со среднем выданной суммой для каждого часа за последние 20 дней"
   ]
  },
  {
   "cell_type": "code",
   "execution_count": null,
   "id": "10c255ba",
   "metadata": {},
   "outputs": [],
   "source": [
    "SELECT \n",
    "    EXTRACT(HOUR FROM created_date) AS request_hour,\n",
    "    AVG(issued_amount) AS average_approved_amount\n",
    "FROM data\n",
    "WHERE created_date >= NOW() - INTERVAL '20 days'\n",
    "  AND decision = 'approved' \n",
    "GROUP BY request_hour\n",
    "ORDER BY request_hour;"
   ]
  },
  {
   "cell_type": "markdown",
   "id": "54d30a27",
   "metadata": {},
   "source": [
    "- request_hour: час, в который были выданы заявки.\n",
    "- average_approved_amount: средняя сумма выданных заявок за каждый час."
   ]
  },
  {
   "cell_type": "markdown",
   "id": "dbe28f2e",
   "metadata": {},
   "source": [
    "### Визуализация"
   ]
  },
  {
   "cell_type": "markdown",
   "id": "8c6719f9",
   "metadata": {},
   "source": [
    "1. График количества заявок:\n",
    "  - Линейный график, показывающий количество заявок, поступивших в течение дня, с наложением средних значений за последние 20 дней.  \n",
    "    \n",
    "     \n",
    "2. Уровень одобрения: \n",
    "  - Столбчатая диаграмма, показывающая процент одобренных заявок по часу с наложением среднего уровня одобрения за последние 20 дней.   \n",
    "   \n",
    "   \n",
    "3. Очередь заявок без решения:\n",
    " - Гистограмма, показывающая количество заявок без решения в разные временные промежутки.     \n",
    " \n",
    " \n",
    " 4. Уровень выдач и средняя выданная сумма:\n",
    "   - Комбинированный график, где одна ось показывает количество выданных кредитов, а другая — среднюю сумму выдачи по времени."
   ]
  },
  {
   "cell_type": "markdown",
   "id": "3f8eb2de",
   "metadata": {},
   "source": [
    "# Задание 2"
   ]
  },
  {
   "cell_type": "markdown",
   "id": "1df2479b",
   "metadata": {},
   "source": [
    "## Описание задачи"
   ]
  },
  {
   "cell_type": "markdown",
   "id": "ad5b1f05",
   "metadata": {},
   "source": [
    "В архиве во вложении данные по выдачам кредитов и платежам: плановым и фактическим. Данные актуальны на 08.12.2022. Проанализируйте характер поведения клиентов с точки зрения просрочки: какая динамика просрочки, наблюдается ли рост или снижение?\n",
    "\n",
    "Несостыковки в данных можно трактовать на свое усмотрение и отразить в отчете.\n",
    "\n",
    "\n"
   ]
  },
  {
   "cell_type": "markdown",
   "id": "11556940",
   "metadata": {},
   "source": [
    "### Описание данных"
   ]
  },
  {
   "cell_type": "markdown",
   "id": "70ff3df7",
   "metadata": {},
   "source": [
    "* order_id – номер заявки\n",
    "* created_at - дата создания заявки\n",
    "* put_at - дата выдачи\n",
    "* closed_at - дата закрытия\n",
    "* issued_sum - сумма выдачи\n",
    "* plan_at - дата планового платежа\n",
    "* plan_sum_total - сумма планового платежа (накопленным итогом)\n",
    "* paid_at - дата фактического платежа\n",
    "* paid_sum - сумма фактического платежа"
   ]
  },
  {
   "cell_type": "markdown",
   "id": "a78f9ac1",
   "metadata": {},
   "source": [
    "## Загрузка библиотек и данных"
   ]
  },
  {
   "cell_type": "code",
   "execution_count": null,
   "id": "e52f7103",
   "metadata": {},
   "outputs": [],
   "source": [
    "import pandas as pd\n",
    "import matplotlib.pyplot as plt \n",
    "import seaborn as sns\n",
    "import math\n",
    "import numpy as np"
   ]
  },
  {
   "cell_type": "markdown",
   "id": "a054adbc",
   "metadata": {},
   "source": [
    "Загрузим данные и посмотрим на датафреймы"
   ]
  },
  {
   "cell_type": "code",
   "execution_count": 10,
   "id": "d6b6fd5d",
   "metadata": {},
   "outputs": [],
   "source": [
    "data_orders = pd.read_csv(r'C:\\Users\\shurf\\Desktop\\Черновики\\task_2_data\\orders.csv', \n",
    "                          parse_dates=['created_at', 'put_at', 'closed_at']) \n",
    "data_orders = data_orders.sort_values('created_at')"
   ]
  },
  {
   "cell_type": "code",
   "execution_count": 11,
   "id": "dc0f0241",
   "metadata": {},
   "outputs": [
    {
     "name": "stdout",
     "output_type": "stream",
     "text": [
      "<class 'pandas.core.frame.DataFrame'>\n",
      "Index: 55748 entries, 0 to 55747\n",
      "Data columns (total 5 columns):\n",
      " #   Column      Non-Null Count  Dtype         \n",
      "---  ------      --------------  -----         \n",
      " 0   order_id    55748 non-null  int64         \n",
      " 1   created_at  55748 non-null  datetime64[ns]\n",
      " 2   put_at      55748 non-null  datetime64[ns]\n",
      " 3   closed_at   46472 non-null  datetime64[ns]\n",
      " 4   issued_sum  55748 non-null  float64       \n",
      "dtypes: datetime64[ns](3), float64(1), int64(1)\n",
      "memory usage: 2.6 MB\n"
     ]
    }
   ],
   "source": [
    "data_orders.info()"
   ]
  },
  {
   "cell_type": "code",
   "execution_count": 12,
   "id": "285588e1",
   "metadata": {},
   "outputs": [],
   "source": [
    "data_payments = pd.read_csv(r'C:\\Users\\shurf\\Desktop\\Черновики\\task_2_data\\payments.csv', parse_dates=['paid_at'])\n",
    "data_payments = data_payments.sort_values('paid_at')\n",
    "data_payments['date'] = data_payments['paid_at'].dt.date"
   ]
  },
  {
   "cell_type": "code",
   "execution_count": 13,
   "id": "b58e5382",
   "metadata": {},
   "outputs": [
    {
     "name": "stdout",
     "output_type": "stream",
     "text": [
      "<class 'pandas.core.frame.DataFrame'>\n",
      "Index: 143284 entries, 0 to 143283\n",
      "Data columns (total 4 columns):\n",
      " #   Column    Non-Null Count   Dtype         \n",
      "---  ------    --------------   -----         \n",
      " 0   order_id  143284 non-null  int64         \n",
      " 1   paid_at   143284 non-null  datetime64[ns]\n",
      " 2   paid_sum  143284 non-null  float64       \n",
      " 3   date      143284 non-null  object        \n",
      "dtypes: datetime64[ns](1), float64(1), int64(1), object(1)\n",
      "memory usage: 5.5+ MB\n"
     ]
    }
   ],
   "source": [
    "data_payments.info()"
   ]
  },
  {
   "cell_type": "code",
   "execution_count": 14,
   "id": "481de6d9",
   "metadata": {},
   "outputs": [],
   "source": [
    "data_plan = pd.read_csv(r'C:\\Users\\shurf\\Desktop\\Черновики\\task_2_data\\plan.csv', parse_dates=['plan_at']) \n",
    "data_plan = data_plan.sort_values('plan_at')\n",
    "data_plan['date'] = data_plan['plan_at'].dt.date"
   ]
  },
  {
   "cell_type": "code",
   "execution_count": 15,
   "id": "d54eac5a",
   "metadata": {},
   "outputs": [
    {
     "name": "stdout",
     "output_type": "stream",
     "text": [
      "<class 'pandas.core.frame.DataFrame'>\n",
      "Index: 420282 entries, 0 to 308535\n",
      "Data columns (total 4 columns):\n",
      " #   Column          Non-Null Count   Dtype         \n",
      "---  ------          --------------   -----         \n",
      " 0   order_id        420282 non-null  int64         \n",
      " 1   plan_at         420282 non-null  datetime64[ns]\n",
      " 2   plan_sum_total  420282 non-null  float64       \n",
      " 3   date            420282 non-null  object        \n",
      "dtypes: datetime64[ns](1), float64(1), int64(1), object(1)\n",
      "memory usage: 16.0+ MB\n"
     ]
    }
   ],
   "source": [
    "data_plan.info()"
   ]
  },
  {
   "cell_type": "markdown",
   "id": "ce04a35d",
   "metadata": {},
   "source": [
    "В таблице orders есть пропуски в столбце closed_at, что означает скорее всего то, что время закрытия еще не пришло, поэтому скорее всего нет смысла обрабатывать эти значения, так как они нам не помешают проанализировать тенденцию динамики просрочки"
   ]
  },
  {
   "cell_type": "markdown",
   "id": "bafa71d3",
   "metadata": {},
   "source": [
    "## Анализ"
   ]
  },
  {
   "cell_type": "code",
   "execution_count": 16,
   "id": "b35e3add",
   "metadata": {},
   "outputs": [
    {
     "data": {
      "text/html": [
       "<div>\n",
       "<style scoped>\n",
       "    .dataframe tbody tr th:only-of-type {\n",
       "        vertical-align: middle;\n",
       "    }\n",
       "\n",
       "    .dataframe tbody tr th {\n",
       "        vertical-align: top;\n",
       "    }\n",
       "\n",
       "    .dataframe thead th {\n",
       "        text-align: right;\n",
       "    }\n",
       "</style>\n",
       "<table border=\"1\" class=\"dataframe\">\n",
       "  <thead>\n",
       "    <tr style=\"text-align: right;\">\n",
       "      <th></th>\n",
       "      <th>order_id</th>\n",
       "      <th>plan_at</th>\n",
       "      <th>plan_sum_total</th>\n",
       "      <th>date</th>\n",
       "    </tr>\n",
       "  </thead>\n",
       "  <tbody>\n",
       "    <tr>\n",
       "      <th>0</th>\n",
       "      <td>400001732</td>\n",
       "      <td>2022-06-02</td>\n",
       "      <td>5600.0</td>\n",
       "      <td>2022-06-02</td>\n",
       "    </tr>\n",
       "    <tr>\n",
       "      <th>1</th>\n",
       "      <td>400001732</td>\n",
       "      <td>2022-07-02</td>\n",
       "      <td>9450.0</td>\n",
       "      <td>2022-07-02</td>\n",
       "    </tr>\n",
       "    <tr>\n",
       "      <th>2</th>\n",
       "      <td>400001732</td>\n",
       "      <td>2022-08-01</td>\n",
       "      <td>12170.0</td>\n",
       "      <td>2022-08-01</td>\n",
       "    </tr>\n",
       "    <tr>\n",
       "      <th>3</th>\n",
       "      <td>400001732</td>\n",
       "      <td>2022-08-31</td>\n",
       "      <td>14890.0</td>\n",
       "      <td>2022-08-31</td>\n",
       "    </tr>\n",
       "    <tr>\n",
       "      <th>4</th>\n",
       "      <td>400001732</td>\n",
       "      <td>2022-09-30</td>\n",
       "      <td>17610.0</td>\n",
       "      <td>2022-09-30</td>\n",
       "    </tr>\n",
       "    <tr>\n",
       "      <th>5</th>\n",
       "      <td>400001732</td>\n",
       "      <td>2022-10-30</td>\n",
       "      <td>20330.0</td>\n",
       "      <td>2022-10-30</td>\n",
       "    </tr>\n",
       "    <tr>\n",
       "      <th>6</th>\n",
       "      <td>400001732</td>\n",
       "      <td>2022-11-29</td>\n",
       "      <td>23050.0</td>\n",
       "      <td>2022-11-29</td>\n",
       "    </tr>\n",
       "  </tbody>\n",
       "</table>\n",
       "</div>"
      ],
      "text/plain": [
       "    order_id    plan_at  plan_sum_total        date\n",
       "0  400001732 2022-06-02          5600.0  2022-06-02\n",
       "1  400001732 2022-07-02          9450.0  2022-07-02\n",
       "2  400001732 2022-08-01         12170.0  2022-08-01\n",
       "3  400001732 2022-08-31         14890.0  2022-08-31\n",
       "4  400001732 2022-09-30         17610.0  2022-09-30\n",
       "5  400001732 2022-10-30         20330.0  2022-10-30\n",
       "6  400001732 2022-11-29         23050.0  2022-11-29"
      ]
     },
     "execution_count": 16,
     "metadata": {},
     "output_type": "execute_result"
    }
   ],
   "source": [
    "# Посмотрим на одного клиента из двух датафреймов, чтобы проверить согласованность данных\n",
    "data_plan.query('order_id == 400001732')"
   ]
  },
  {
   "cell_type": "code",
   "execution_count": 17,
   "id": "25ed0eae",
   "metadata": {},
   "outputs": [
    {
     "data": {
      "text/html": [
       "<div>\n",
       "<style scoped>\n",
       "    .dataframe tbody tr th:only-of-type {\n",
       "        vertical-align: middle;\n",
       "    }\n",
       "\n",
       "    .dataframe tbody tr th {\n",
       "        vertical-align: top;\n",
       "    }\n",
       "\n",
       "    .dataframe thead th {\n",
       "        text-align: right;\n",
       "    }\n",
       "</style>\n",
       "<table border=\"1\" class=\"dataframe\">\n",
       "  <thead>\n",
       "    <tr style=\"text-align: right;\">\n",
       "      <th></th>\n",
       "      <th>order_id</th>\n",
       "      <th>paid_at</th>\n",
       "      <th>paid_sum</th>\n",
       "      <th>date</th>\n",
       "    </tr>\n",
       "  </thead>\n",
       "  <tbody>\n",
       "    <tr>\n",
       "      <th>153</th>\n",
       "      <td>400001732</td>\n",
       "      <td>2022-06-02 20:20:16.790</td>\n",
       "      <td>5600.0</td>\n",
       "      <td>2022-06-02</td>\n",
       "    </tr>\n",
       "    <tr>\n",
       "      <th>5859</th>\n",
       "      <td>400001732</td>\n",
       "      <td>2022-06-16 16:05:26.007</td>\n",
       "      <td>3850.0</td>\n",
       "      <td>2022-06-16</td>\n",
       "    </tr>\n",
       "    <tr>\n",
       "      <th>30992</th>\n",
       "      <td>400001732</td>\n",
       "      <td>2022-07-15 12:32:34.087</td>\n",
       "      <td>2720.0</td>\n",
       "      <td>2022-07-15</td>\n",
       "    </tr>\n",
       "    <tr>\n",
       "      <th>70290</th>\n",
       "      <td>400001732</td>\n",
       "      <td>2022-08-16 12:38:01.237</td>\n",
       "      <td>2720.0</td>\n",
       "      <td>2022-08-16</td>\n",
       "    </tr>\n",
       "    <tr>\n",
       "      <th>106905</th>\n",
       "      <td>400001732</td>\n",
       "      <td>2022-09-15 12:14:48.867</td>\n",
       "      <td>2720.0</td>\n",
       "      <td>2022-09-15</td>\n",
       "    </tr>\n",
       "    <tr>\n",
       "      <th>116452</th>\n",
       "      <td>400001732</td>\n",
       "      <td>2022-09-27 16:04:50.630</td>\n",
       "      <td>2720.0</td>\n",
       "      <td>2022-09-27</td>\n",
       "    </tr>\n",
       "    <tr>\n",
       "      <th>127082</th>\n",
       "      <td>400001732</td>\n",
       "      <td>2022-10-17 11:52:22.190</td>\n",
       "      <td>2720.0</td>\n",
       "      <td>2022-10-17</td>\n",
       "    </tr>\n",
       "  </tbody>\n",
       "</table>\n",
       "</div>"
      ],
      "text/plain": [
       "         order_id                 paid_at  paid_sum        date\n",
       "153     400001732 2022-06-02 20:20:16.790    5600.0  2022-06-02\n",
       "5859    400001732 2022-06-16 16:05:26.007    3850.0  2022-06-16\n",
       "30992   400001732 2022-07-15 12:32:34.087    2720.0  2022-07-15\n",
       "70290   400001732 2022-08-16 12:38:01.237    2720.0  2022-08-16\n",
       "106905  400001732 2022-09-15 12:14:48.867    2720.0  2022-09-15\n",
       "116452  400001732 2022-09-27 16:04:50.630    2720.0  2022-09-27\n",
       "127082  400001732 2022-10-17 11:52:22.190    2720.0  2022-10-17"
      ]
     },
     "execution_count": 17,
     "metadata": {},
     "output_type": "execute_result"
    }
   ],
   "source": [
    "data_payments.query('order_id == 400001732')"
   ]
  },
  {
   "cell_type": "markdown",
   "id": "f772ff50",
   "metadata": {},
   "source": [
    "Видно что в случае планового платежа сумма считается куммулятивно"
   ]
  },
  {
   "cell_type": "markdown",
   "id": "0dc19859",
   "metadata": {},
   "source": [
    "создадим датафрейм со всеми датами в течении полугода изучаемых данных и всеми уникальными order_id чтобы затем можно было посчитать наличие и сумму просрочки для каждого отдельного id на каждый момент времени."
   ]
  },
  {
   "cell_type": "markdown",
   "id": "df5a93dd",
   "metadata": {},
   "source": [
    "В данном случае округлим все значения времени, чтобы работать только с датой, думаю масштабировать сильнее не нужно для того чтобы обозначить тенденцию"
   ]
  },
  {
   "cell_type": "markdown",
   "id": "8cceb5d6",
   "metadata": {},
   "source": [
    "### Создание декартого пространства"
   ]
  },
  {
   "cell_type": "code",
   "execution_count": 18,
   "id": "ef82ff25",
   "metadata": {},
   "outputs": [
    {
     "data": {
      "text/html": [
       "<div>\n",
       "<style scoped>\n",
       "    .dataframe tbody tr th:only-of-type {\n",
       "        vertical-align: middle;\n",
       "    }\n",
       "\n",
       "    .dataframe tbody tr th {\n",
       "        vertical-align: top;\n",
       "    }\n",
       "\n",
       "    .dataframe thead th {\n",
       "        text-align: right;\n",
       "    }\n",
       "</style>\n",
       "<table border=\"1\" class=\"dataframe\">\n",
       "  <thead>\n",
       "    <tr style=\"text-align: right;\">\n",
       "      <th></th>\n",
       "      <th>date</th>\n",
       "    </tr>\n",
       "  </thead>\n",
       "  <tbody>\n",
       "    <tr>\n",
       "      <th>0</th>\n",
       "      <td>2022-06-02</td>\n",
       "    </tr>\n",
       "    <tr>\n",
       "      <th>1</th>\n",
       "      <td>2022-06-03</td>\n",
       "    </tr>\n",
       "    <tr>\n",
       "      <th>2</th>\n",
       "      <td>2022-06-04</td>\n",
       "    </tr>\n",
       "    <tr>\n",
       "      <th>3</th>\n",
       "      <td>2022-06-05</td>\n",
       "    </tr>\n",
       "    <tr>\n",
       "      <th>4</th>\n",
       "      <td>2022-06-06</td>\n",
       "    </tr>\n",
       "    <tr>\n",
       "      <th>...</th>\n",
       "      <td>...</td>\n",
       "    </tr>\n",
       "    <tr>\n",
       "      <th>185</th>\n",
       "      <td>2022-12-04</td>\n",
       "    </tr>\n",
       "    <tr>\n",
       "      <th>186</th>\n",
       "      <td>2022-12-05</td>\n",
       "    </tr>\n",
       "    <tr>\n",
       "      <th>187</th>\n",
       "      <td>2022-12-06</td>\n",
       "    </tr>\n",
       "    <tr>\n",
       "      <th>188</th>\n",
       "      <td>2022-12-07</td>\n",
       "    </tr>\n",
       "    <tr>\n",
       "      <th>189</th>\n",
       "      <td>2022-12-08</td>\n",
       "    </tr>\n",
       "  </tbody>\n",
       "</table>\n",
       "<p>190 rows × 1 columns</p>\n",
       "</div>"
      ],
      "text/plain": [
       "           date\n",
       "0    2022-06-02\n",
       "1    2022-06-03\n",
       "2    2022-06-04\n",
       "3    2022-06-05\n",
       "4    2022-06-06\n",
       "..          ...\n",
       "185  2022-12-04\n",
       "186  2022-12-05\n",
       "187  2022-12-06\n",
       "188  2022-12-07\n",
       "189  2022-12-08\n",
       "\n",
       "[190 rows x 1 columns]"
      ]
     },
     "execution_count": 18,
     "metadata": {},
     "output_type": "execute_result"
    }
   ],
   "source": [
    "data_time = pd.date_range(data_plan['plan_at'].min(), data_payments['paid_at'].max())\n",
    "data_time = pd.DataFrame(data_time)\n",
    "data_time.columns = ['date']\n",
    "data_time['date'] = data_time['date'].dt.date\n",
    "data_time"
   ]
  },
  {
   "cell_type": "code",
   "execution_count": 19,
   "id": "66cecb0f",
   "metadata": {},
   "outputs": [],
   "source": [
    "dates = data_time['date'].unique()\n",
    "ids  = data_payments['order_id'].unique()"
   ]
  },
  {
   "cell_type": "code",
   "execution_count": 20,
   "id": "636a831b",
   "metadata": {},
   "outputs": [],
   "source": [
    "combinations = pd.MultiIndex.from_product([dates, ids], names=['date', 'order_id'])"
   ]
  },
  {
   "cell_type": "code",
   "execution_count": 21,
   "id": "51831e28",
   "metadata": {},
   "outputs": [
    {
     "data": {
      "text/html": [
       "<div>\n",
       "<style scoped>\n",
       "    .dataframe tbody tr th:only-of-type {\n",
       "        vertical-align: middle;\n",
       "    }\n",
       "\n",
       "    .dataframe tbody tr th {\n",
       "        vertical-align: top;\n",
       "    }\n",
       "\n",
       "    .dataframe thead th {\n",
       "        text-align: right;\n",
       "    }\n",
       "</style>\n",
       "<table border=\"1\" class=\"dataframe\">\n",
       "  <thead>\n",
       "    <tr style=\"text-align: right;\">\n",
       "      <th></th>\n",
       "      <th>order_id</th>\n",
       "      <th>date</th>\n",
       "    </tr>\n",
       "  </thead>\n",
       "  <tbody>\n",
       "    <tr>\n",
       "      <th>0</th>\n",
       "      <td>400013633</td>\n",
       "      <td>2022-06-02</td>\n",
       "    </tr>\n",
       "    <tr>\n",
       "      <th>1</th>\n",
       "      <td>400018480</td>\n",
       "      <td>2022-06-02</td>\n",
       "    </tr>\n",
       "    <tr>\n",
       "      <th>2</th>\n",
       "      <td>400032001</td>\n",
       "      <td>2022-06-02</td>\n",
       "    </tr>\n",
       "    <tr>\n",
       "      <th>3</th>\n",
       "      <td>400033195</td>\n",
       "      <td>2022-06-02</td>\n",
       "    </tr>\n",
       "    <tr>\n",
       "      <th>4</th>\n",
       "      <td>400039407</td>\n",
       "      <td>2022-06-02</td>\n",
       "    </tr>\n",
       "    <tr>\n",
       "      <th>...</th>\n",
       "      <td>...</td>\n",
       "      <td>...</td>\n",
       "    </tr>\n",
       "    <tr>\n",
       "      <th>10208695</th>\n",
       "      <td>451464974</td>\n",
       "      <td>2022-12-08</td>\n",
       "    </tr>\n",
       "    <tr>\n",
       "      <th>10208696</th>\n",
       "      <td>480639870</td>\n",
       "      <td>2022-12-08</td>\n",
       "    </tr>\n",
       "    <tr>\n",
       "      <th>10208697</th>\n",
       "      <td>436737877</td>\n",
       "      <td>2022-12-08</td>\n",
       "    </tr>\n",
       "    <tr>\n",
       "      <th>10208698</th>\n",
       "      <td>487895263</td>\n",
       "      <td>2022-12-08</td>\n",
       "    </tr>\n",
       "    <tr>\n",
       "      <th>10208699</th>\n",
       "      <td>465060685</td>\n",
       "      <td>2022-12-08</td>\n",
       "    </tr>\n",
       "  </tbody>\n",
       "</table>\n",
       "<p>10208700 rows × 2 columns</p>\n",
       "</div>"
      ],
      "text/plain": [
       "           order_id        date\n",
       "0         400013633  2022-06-02\n",
       "1         400018480  2022-06-02\n",
       "2         400032001  2022-06-02\n",
       "3         400033195  2022-06-02\n",
       "4         400039407  2022-06-02\n",
       "...             ...         ...\n",
       "10208695  451464974  2022-12-08\n",
       "10208696  480639870  2022-12-08\n",
       "10208697  436737877  2022-12-08\n",
       "10208698  487895263  2022-12-08\n",
       "10208699  465060685  2022-12-08\n",
       "\n",
       "[10208700 rows x 2 columns]"
      ]
     },
     "execution_count": 21,
     "metadata": {},
     "output_type": "execute_result"
    }
   ],
   "source": [
    "## Создание общего датафрейма для анализа просрочек\n",
    "df = pd.DataFrame([x[0] for x in combinations], [x[1] for x in combinations]).reset_index()\n",
    "df.columns=['order_id', 'date']\n",
    "df\n"
   ]
  },
  {
   "cell_type": "markdown",
   "id": "466ae686",
   "metadata": {},
   "source": [
    "Теперь нам необходимо присоеденить к этой таблице фактические и запланированные платежи"
   ]
  },
  {
   "cell_type": "code",
   "execution_count": 22,
   "id": "ac257d95",
   "metadata": {},
   "outputs": [],
   "source": [
    "# Так как сумма запланированного платежа считается куммулятивно, то сумму фактического платежа тоже расчитаем куммулятивно\n",
    "data_payments['paid_cum_sum'] = data_payments.groupby('order_id')['paid_sum'].cumsum()"
   ]
  },
  {
   "cell_type": "code",
   "execution_count": 23,
   "id": "6f5ca517",
   "metadata": {},
   "outputs": [
    {
     "data": {
      "text/html": [
       "<div>\n",
       "<style scoped>\n",
       "    .dataframe tbody tr th:only-of-type {\n",
       "        vertical-align: middle;\n",
       "    }\n",
       "\n",
       "    .dataframe tbody tr th {\n",
       "        vertical-align: top;\n",
       "    }\n",
       "\n",
       "    .dataframe thead th {\n",
       "        text-align: right;\n",
       "    }\n",
       "</style>\n",
       "<table border=\"1\" class=\"dataframe\">\n",
       "  <thead>\n",
       "    <tr style=\"text-align: right;\">\n",
       "      <th></th>\n",
       "      <th>order_id</th>\n",
       "      <th>paid_at</th>\n",
       "      <th>paid_sum</th>\n",
       "      <th>date</th>\n",
       "      <th>paid_cum_sum</th>\n",
       "    </tr>\n",
       "  </thead>\n",
       "  <tbody>\n",
       "    <tr>\n",
       "      <th>0</th>\n",
       "      <td>400013633</td>\n",
       "      <td>2022-06-02 00:48:13.800</td>\n",
       "      <td>2500.00</td>\n",
       "      <td>2022-06-02</td>\n",
       "      <td>2500.00</td>\n",
       "    </tr>\n",
       "    <tr>\n",
       "      <th>1</th>\n",
       "      <td>400018480</td>\n",
       "      <td>2022-06-02 01:52:05.707</td>\n",
       "      <td>1070.00</td>\n",
       "      <td>2022-06-02</td>\n",
       "      <td>1070.00</td>\n",
       "    </tr>\n",
       "    <tr>\n",
       "      <th>2</th>\n",
       "      <td>400032001</td>\n",
       "      <td>2022-06-02 04:55:40.307</td>\n",
       "      <td>4200.00</td>\n",
       "      <td>2022-06-02</td>\n",
       "      <td>4200.00</td>\n",
       "    </tr>\n",
       "    <tr>\n",
       "      <th>3</th>\n",
       "      <td>400033195</td>\n",
       "      <td>2022-06-02 05:44:23.480</td>\n",
       "      <td>2850.00</td>\n",
       "      <td>2022-06-02</td>\n",
       "      <td>2850.00</td>\n",
       "    </tr>\n",
       "    <tr>\n",
       "      <th>4</th>\n",
       "      <td>400039407</td>\n",
       "      <td>2022-06-02 06:53:54.503</td>\n",
       "      <td>10100.00</td>\n",
       "      <td>2022-06-02</td>\n",
       "      <td>10100.00</td>\n",
       "    </tr>\n",
       "    <tr>\n",
       "      <th>...</th>\n",
       "      <td>...</td>\n",
       "      <td>...</td>\n",
       "      <td>...</td>\n",
       "      <td>...</td>\n",
       "      <td>...</td>\n",
       "    </tr>\n",
       "    <tr>\n",
       "      <th>143279</th>\n",
       "      <td>469255350</td>\n",
       "      <td>2022-12-08 12:57:23.747</td>\n",
       "      <td>343.99</td>\n",
       "      <td>2022-12-08</td>\n",
       "      <td>2566.90</td>\n",
       "    </tr>\n",
       "    <tr>\n",
       "      <th>143280</th>\n",
       "      <td>452985418</td>\n",
       "      <td>2022-12-08 12:59:40.997</td>\n",
       "      <td>984.83</td>\n",
       "      <td>2022-12-08</td>\n",
       "      <td>14380.24</td>\n",
       "    </tr>\n",
       "    <tr>\n",
       "      <th>143281</th>\n",
       "      <td>490824962</td>\n",
       "      <td>2022-12-08 13:09:21.673</td>\n",
       "      <td>866.04</td>\n",
       "      <td>2022-12-08</td>\n",
       "      <td>10617.81</td>\n",
       "    </tr>\n",
       "    <tr>\n",
       "      <th>143282</th>\n",
       "      <td>480026135</td>\n",
       "      <td>2022-12-08 13:25:11.987</td>\n",
       "      <td>1193.25</td>\n",
       "      <td>2022-12-08</td>\n",
       "      <td>15415.50</td>\n",
       "    </tr>\n",
       "    <tr>\n",
       "      <th>143283</th>\n",
       "      <td>436374755</td>\n",
       "      <td>2022-12-08 13:28:23.703</td>\n",
       "      <td>381.10</td>\n",
       "      <td>2022-12-08</td>\n",
       "      <td>6323.76</td>\n",
       "    </tr>\n",
       "  </tbody>\n",
       "</table>\n",
       "<p>143284 rows × 5 columns</p>\n",
       "</div>"
      ],
      "text/plain": [
       "         order_id                 paid_at  paid_sum        date  paid_cum_sum\n",
       "0       400013633 2022-06-02 00:48:13.800   2500.00  2022-06-02       2500.00\n",
       "1       400018480 2022-06-02 01:52:05.707   1070.00  2022-06-02       1070.00\n",
       "2       400032001 2022-06-02 04:55:40.307   4200.00  2022-06-02       4200.00\n",
       "3       400033195 2022-06-02 05:44:23.480   2850.00  2022-06-02       2850.00\n",
       "4       400039407 2022-06-02 06:53:54.503  10100.00  2022-06-02      10100.00\n",
       "...           ...                     ...       ...         ...           ...\n",
       "143279  469255350 2022-12-08 12:57:23.747    343.99  2022-12-08       2566.90\n",
       "143280  452985418 2022-12-08 12:59:40.997    984.83  2022-12-08      14380.24\n",
       "143281  490824962 2022-12-08 13:09:21.673    866.04  2022-12-08      10617.81\n",
       "143282  480026135 2022-12-08 13:25:11.987   1193.25  2022-12-08      15415.50\n",
       "143283  436374755 2022-12-08 13:28:23.703    381.10  2022-12-08       6323.76\n",
       "\n",
       "[143284 rows x 5 columns]"
      ]
     },
     "execution_count": 23,
     "metadata": {},
     "output_type": "execute_result"
    }
   ],
   "source": [
    "data_payments"
   ]
  },
  {
   "cell_type": "code",
   "execution_count": 24,
   "id": "aadcc79a",
   "metadata": {},
   "outputs": [
    {
     "data": {
      "text/html": [
       "<div>\n",
       "<style scoped>\n",
       "    .dataframe tbody tr th:only-of-type {\n",
       "        vertical-align: middle;\n",
       "    }\n",
       "\n",
       "    .dataframe tbody tr th {\n",
       "        vertical-align: top;\n",
       "    }\n",
       "\n",
       "    .dataframe thead th {\n",
       "        text-align: right;\n",
       "    }\n",
       "</style>\n",
       "<table border=\"1\" class=\"dataframe\">\n",
       "  <thead>\n",
       "    <tr style=\"text-align: right;\">\n",
       "      <th></th>\n",
       "      <th>order_id</th>\n",
       "      <th>date</th>\n",
       "      <th>paid_cum_sum</th>\n",
       "    </tr>\n",
       "  </thead>\n",
       "  <tbody>\n",
       "    <tr>\n",
       "      <th>0</th>\n",
       "      <td>400013633</td>\n",
       "      <td>2022-06-02</td>\n",
       "      <td>2500.00</td>\n",
       "    </tr>\n",
       "    <tr>\n",
       "      <th>1</th>\n",
       "      <td>400018480</td>\n",
       "      <td>2022-06-02</td>\n",
       "      <td>1070.00</td>\n",
       "    </tr>\n",
       "    <tr>\n",
       "      <th>2</th>\n",
       "      <td>400032001</td>\n",
       "      <td>2022-06-02</td>\n",
       "      <td>4200.00</td>\n",
       "    </tr>\n",
       "    <tr>\n",
       "      <th>3</th>\n",
       "      <td>400033195</td>\n",
       "      <td>2022-06-02</td>\n",
       "      <td>2850.00</td>\n",
       "    </tr>\n",
       "    <tr>\n",
       "      <th>4</th>\n",
       "      <td>400039407</td>\n",
       "      <td>2022-06-02</td>\n",
       "      <td>10100.00</td>\n",
       "    </tr>\n",
       "    <tr>\n",
       "      <th>...</th>\n",
       "      <td>...</td>\n",
       "      <td>...</td>\n",
       "      <td>...</td>\n",
       "    </tr>\n",
       "    <tr>\n",
       "      <th>10217291</th>\n",
       "      <td>451464974</td>\n",
       "      <td>2022-12-08</td>\n",
       "      <td>NaN</td>\n",
       "    </tr>\n",
       "    <tr>\n",
       "      <th>10217292</th>\n",
       "      <td>480639870</td>\n",
       "      <td>2022-12-08</td>\n",
       "      <td>NaN</td>\n",
       "    </tr>\n",
       "    <tr>\n",
       "      <th>10217293</th>\n",
       "      <td>436737877</td>\n",
       "      <td>2022-12-08</td>\n",
       "      <td>23583.12</td>\n",
       "    </tr>\n",
       "    <tr>\n",
       "      <th>10217294</th>\n",
       "      <td>487895263</td>\n",
       "      <td>2022-12-08</td>\n",
       "      <td>49469.37</td>\n",
       "    </tr>\n",
       "    <tr>\n",
       "      <th>10217295</th>\n",
       "      <td>465060685</td>\n",
       "      <td>2022-12-08</td>\n",
       "      <td>2948.19</td>\n",
       "    </tr>\n",
       "  </tbody>\n",
       "</table>\n",
       "<p>10217296 rows × 3 columns</p>\n",
       "</div>"
      ],
      "text/plain": [
       "           order_id        date  paid_cum_sum\n",
       "0         400013633  2022-06-02       2500.00\n",
       "1         400018480  2022-06-02       1070.00\n",
       "2         400032001  2022-06-02       4200.00\n",
       "3         400033195  2022-06-02       2850.00\n",
       "4         400039407  2022-06-02      10100.00\n",
       "...             ...         ...           ...\n",
       "10217291  451464974  2022-12-08           NaN\n",
       "10217292  480639870  2022-12-08           NaN\n",
       "10217293  436737877  2022-12-08      23583.12\n",
       "10217294  487895263  2022-12-08      49469.37\n",
       "10217295  465060685  2022-12-08       2948.19\n",
       "\n",
       "[10217296 rows x 3 columns]"
      ]
     },
     "execution_count": 24,
     "metadata": {},
     "output_type": "execute_result"
    }
   ],
   "source": [
    "df = df.merge(data_payments[['order_id', 'date', 'paid_cum_sum']], on=['order_id','date'], how='left')\n",
    "df"
   ]
  },
  {
   "cell_type": "markdown",
   "id": "63b6dcda",
   "metadata": {},
   "source": [
    "Теперь добавим сюда плановый платеж таким же способом"
   ]
  },
  {
   "cell_type": "code",
   "execution_count": 26,
   "id": "1c5c2854",
   "metadata": {},
   "outputs": [
    {
     "data": {
      "text/html": [
       "<div>\n",
       "<style scoped>\n",
       "    .dataframe tbody tr th:only-of-type {\n",
       "        vertical-align: middle;\n",
       "    }\n",
       "\n",
       "    .dataframe tbody tr th {\n",
       "        vertical-align: top;\n",
       "    }\n",
       "\n",
       "    .dataframe thead th {\n",
       "        text-align: right;\n",
       "    }\n",
       "</style>\n",
       "<table border=\"1\" class=\"dataframe\">\n",
       "  <thead>\n",
       "    <tr style=\"text-align: right;\">\n",
       "      <th></th>\n",
       "      <th>order_id</th>\n",
       "      <th>date</th>\n",
       "      <th>paid_cum_sum</th>\n",
       "      <th>plan_sum_total</th>\n",
       "    </tr>\n",
       "  </thead>\n",
       "  <tbody>\n",
       "    <tr>\n",
       "      <th>0</th>\n",
       "      <td>400013633</td>\n",
       "      <td>2022-06-02</td>\n",
       "      <td>2500.00</td>\n",
       "      <td>2500.00</td>\n",
       "    </tr>\n",
       "    <tr>\n",
       "      <th>1</th>\n",
       "      <td>400018480</td>\n",
       "      <td>2022-06-02</td>\n",
       "      <td>1070.00</td>\n",
       "      <td>1070.00</td>\n",
       "    </tr>\n",
       "    <tr>\n",
       "      <th>2</th>\n",
       "      <td>400032001</td>\n",
       "      <td>2022-06-02</td>\n",
       "      <td>4200.00</td>\n",
       "      <td>4200.00</td>\n",
       "    </tr>\n",
       "    <tr>\n",
       "      <th>3</th>\n",
       "      <td>400033195</td>\n",
       "      <td>2022-06-02</td>\n",
       "      <td>2850.00</td>\n",
       "      <td>2850.00</td>\n",
       "    </tr>\n",
       "    <tr>\n",
       "      <th>4</th>\n",
       "      <td>400039407</td>\n",
       "      <td>2022-06-02</td>\n",
       "      <td>10100.00</td>\n",
       "      <td>NaN</td>\n",
       "    </tr>\n",
       "    <tr>\n",
       "      <th>...</th>\n",
       "      <td>...</td>\n",
       "      <td>...</td>\n",
       "      <td>...</td>\n",
       "      <td>...</td>\n",
       "    </tr>\n",
       "    <tr>\n",
       "      <th>10217291</th>\n",
       "      <td>451464974</td>\n",
       "      <td>2022-12-08</td>\n",
       "      <td>NaN</td>\n",
       "      <td>NaN</td>\n",
       "    </tr>\n",
       "    <tr>\n",
       "      <th>10217292</th>\n",
       "      <td>480639870</td>\n",
       "      <td>2022-12-08</td>\n",
       "      <td>NaN</td>\n",
       "      <td>NaN</td>\n",
       "    </tr>\n",
       "    <tr>\n",
       "      <th>10217293</th>\n",
       "      <td>436737877</td>\n",
       "      <td>2022-12-08</td>\n",
       "      <td>23583.12</td>\n",
       "      <td>NaN</td>\n",
       "    </tr>\n",
       "    <tr>\n",
       "      <th>10217294</th>\n",
       "      <td>487895263</td>\n",
       "      <td>2022-12-08</td>\n",
       "      <td>49469.37</td>\n",
       "      <td>36482.99</td>\n",
       "    </tr>\n",
       "    <tr>\n",
       "      <th>10217295</th>\n",
       "      <td>465060685</td>\n",
       "      <td>2022-12-08</td>\n",
       "      <td>2948.19</td>\n",
       "      <td>NaN</td>\n",
       "    </tr>\n",
       "  </tbody>\n",
       "</table>\n",
       "<p>10217296 rows × 4 columns</p>\n",
       "</div>"
      ],
      "text/plain": [
       "           order_id        date  paid_cum_sum  plan_sum_total\n",
       "0         400013633  2022-06-02       2500.00         2500.00\n",
       "1         400018480  2022-06-02       1070.00         1070.00\n",
       "2         400032001  2022-06-02       4200.00         4200.00\n",
       "3         400033195  2022-06-02       2850.00         2850.00\n",
       "4         400039407  2022-06-02      10100.00             NaN\n",
       "...             ...         ...           ...             ...\n",
       "10217291  451464974  2022-12-08           NaN             NaN\n",
       "10217292  480639870  2022-12-08           NaN             NaN\n",
       "10217293  436737877  2022-12-08      23583.12             NaN\n",
       "10217294  487895263  2022-12-08      49469.37        36482.99\n",
       "10217295  465060685  2022-12-08       2948.19             NaN\n",
       "\n",
       "[10217296 rows x 4 columns]"
      ]
     },
     "execution_count": 26,
     "metadata": {},
     "output_type": "execute_result"
    }
   ],
   "source": [
    "df = df.merge(data_plan[['order_id', 'date', 'plan_sum_total']], on=['order_id','date'], how='left')\n",
    "df"
   ]
  },
  {
   "cell_type": "code",
   "execution_count": 27,
   "id": "b6852853",
   "metadata": {},
   "outputs": [
    {
     "data": {
      "text/html": [
       "<div>\n",
       "<style scoped>\n",
       "    .dataframe tbody tr th:only-of-type {\n",
       "        vertical-align: middle;\n",
       "    }\n",
       "\n",
       "    .dataframe tbody tr th {\n",
       "        vertical-align: top;\n",
       "    }\n",
       "\n",
       "    .dataframe thead th {\n",
       "        text-align: right;\n",
       "    }\n",
       "</style>\n",
       "<table border=\"1\" class=\"dataframe\">\n",
       "  <thead>\n",
       "    <tr style=\"text-align: right;\">\n",
       "      <th></th>\n",
       "      <th>order_id</th>\n",
       "      <th>date</th>\n",
       "      <th>paid_cum_sum</th>\n",
       "      <th>plan_sum_total</th>\n",
       "    </tr>\n",
       "  </thead>\n",
       "  <tbody>\n",
       "    <tr>\n",
       "      <th>0</th>\n",
       "      <td>400013633</td>\n",
       "      <td>2022-06-02</td>\n",
       "      <td>2500.00</td>\n",
       "      <td>2500.00</td>\n",
       "    </tr>\n",
       "    <tr>\n",
       "      <th>1</th>\n",
       "      <td>400018480</td>\n",
       "      <td>2022-06-02</td>\n",
       "      <td>1070.00</td>\n",
       "      <td>1070.00</td>\n",
       "    </tr>\n",
       "    <tr>\n",
       "      <th>2</th>\n",
       "      <td>400032001</td>\n",
       "      <td>2022-06-02</td>\n",
       "      <td>4200.00</td>\n",
       "      <td>4200.00</td>\n",
       "    </tr>\n",
       "    <tr>\n",
       "      <th>3</th>\n",
       "      <td>400033195</td>\n",
       "      <td>2022-06-02</td>\n",
       "      <td>2850.00</td>\n",
       "      <td>2850.00</td>\n",
       "    </tr>\n",
       "    <tr>\n",
       "      <th>4</th>\n",
       "      <td>400039407</td>\n",
       "      <td>2022-06-02</td>\n",
       "      <td>10100.00</td>\n",
       "      <td>NaN</td>\n",
       "    </tr>\n",
       "    <tr>\n",
       "      <th>...</th>\n",
       "      <td>...</td>\n",
       "      <td>...</td>\n",
       "      <td>...</td>\n",
       "      <td>...</td>\n",
       "    </tr>\n",
       "    <tr>\n",
       "      <th>10217291</th>\n",
       "      <td>451464974</td>\n",
       "      <td>2022-12-08</td>\n",
       "      <td>9923.65</td>\n",
       "      <td>8424.92</td>\n",
       "    </tr>\n",
       "    <tr>\n",
       "      <th>10217292</th>\n",
       "      <td>480639870</td>\n",
       "      <td>2022-12-08</td>\n",
       "      <td>23422.69</td>\n",
       "      <td>17380.69</td>\n",
       "    </tr>\n",
       "    <tr>\n",
       "      <th>10217293</th>\n",
       "      <td>436737877</td>\n",
       "      <td>2022-12-08</td>\n",
       "      <td>23583.12</td>\n",
       "      <td>20863.12</td>\n",
       "    </tr>\n",
       "    <tr>\n",
       "      <th>10217294</th>\n",
       "      <td>487895263</td>\n",
       "      <td>2022-12-08</td>\n",
       "      <td>49469.37</td>\n",
       "      <td>36482.99</td>\n",
       "    </tr>\n",
       "    <tr>\n",
       "      <th>10217295</th>\n",
       "      <td>465060685</td>\n",
       "      <td>2022-12-08</td>\n",
       "      <td>2948.19</td>\n",
       "      <td>2260.19</td>\n",
       "    </tr>\n",
       "  </tbody>\n",
       "</table>\n",
       "<p>10217296 rows × 4 columns</p>\n",
       "</div>"
      ],
      "text/plain": [
       "           order_id        date  paid_cum_sum  plan_sum_total\n",
       "0         400013633  2022-06-02       2500.00         2500.00\n",
       "1         400018480  2022-06-02       1070.00         1070.00\n",
       "2         400032001  2022-06-02       4200.00         4200.00\n",
       "3         400033195  2022-06-02       2850.00         2850.00\n",
       "4         400039407  2022-06-02      10100.00             NaN\n",
       "...             ...         ...           ...             ...\n",
       "10217291  451464974  2022-12-08       9923.65         8424.92\n",
       "10217292  480639870  2022-12-08      23422.69        17380.69\n",
       "10217293  436737877  2022-12-08      23583.12        20863.12\n",
       "10217294  487895263  2022-12-08      49469.37        36482.99\n",
       "10217295  465060685  2022-12-08       2948.19         2260.19\n",
       "\n",
       "[10217296 rows x 4 columns]"
      ]
     },
     "execution_count": 27,
     "metadata": {},
     "output_type": "execute_result"
    }
   ],
   "source": [
    "#заполним пропуски для каждого ID методом ffill\n",
    "df['paid_cum_sum'] = df.groupby('order_id')['paid_cum_sum'].ffill()\n",
    "df['plan_sum_total'] = df.groupby('order_id')['plan_sum_total'].ffill()\n",
    "df"
   ]
  },
  {
   "cell_type": "code",
   "execution_count": 28,
   "id": "a0f3d9b7",
   "metadata": {},
   "outputs": [
    {
     "name": "stdout",
     "output_type": "stream",
     "text": [
      "2974043\n"
     ]
    },
    {
     "data": {
      "text/plain": [
       "2888063"
      ]
     },
     "execution_count": 28,
     "metadata": {},
     "output_type": "execute_result"
    }
   ],
   "source": [
    "print(df['paid_cum_sum'].isnull().sum())\n",
    "df['plan_sum_total'].isnull().sum()"
   ]
  },
  {
   "cell_type": "markdown",
   "id": "68808910",
   "metadata": {},
   "source": [
    "Если в таблице остались пустые это значит что либо клиент начал платить раньше чем наступил срок первый срок фактического платежа, либо наступил срок фактического платежа, а клиент еще ничего не заплатил. В обоих случаях можно заполнить наны нулями."
   ]
  },
  {
   "cell_type": "code",
   "execution_count": 29,
   "id": "1ec891fe",
   "metadata": {},
   "outputs": [
    {
     "data": {
      "text/html": [
       "<div>\n",
       "<style scoped>\n",
       "    .dataframe tbody tr th:only-of-type {\n",
       "        vertical-align: middle;\n",
       "    }\n",
       "\n",
       "    .dataframe tbody tr th {\n",
       "        vertical-align: top;\n",
       "    }\n",
       "\n",
       "    .dataframe thead th {\n",
       "        text-align: right;\n",
       "    }\n",
       "</style>\n",
       "<table border=\"1\" class=\"dataframe\">\n",
       "  <thead>\n",
       "    <tr style=\"text-align: right;\">\n",
       "      <th></th>\n",
       "      <th>order_id</th>\n",
       "      <th>date</th>\n",
       "      <th>paid_cum_sum</th>\n",
       "      <th>plan_sum_total</th>\n",
       "    </tr>\n",
       "  </thead>\n",
       "  <tbody>\n",
       "    <tr>\n",
       "      <th>0</th>\n",
       "      <td>400013633</td>\n",
       "      <td>2022-06-02</td>\n",
       "      <td>2500.00</td>\n",
       "      <td>2500.00</td>\n",
       "    </tr>\n",
       "    <tr>\n",
       "      <th>1</th>\n",
       "      <td>400018480</td>\n",
       "      <td>2022-06-02</td>\n",
       "      <td>1070.00</td>\n",
       "      <td>1070.00</td>\n",
       "    </tr>\n",
       "    <tr>\n",
       "      <th>2</th>\n",
       "      <td>400032001</td>\n",
       "      <td>2022-06-02</td>\n",
       "      <td>4200.00</td>\n",
       "      <td>4200.00</td>\n",
       "    </tr>\n",
       "    <tr>\n",
       "      <th>3</th>\n",
       "      <td>400033195</td>\n",
       "      <td>2022-06-02</td>\n",
       "      <td>2850.00</td>\n",
       "      <td>2850.00</td>\n",
       "    </tr>\n",
       "    <tr>\n",
       "      <th>4</th>\n",
       "      <td>400039407</td>\n",
       "      <td>2022-06-02</td>\n",
       "      <td>10100.00</td>\n",
       "      <td>0.00</td>\n",
       "    </tr>\n",
       "    <tr>\n",
       "      <th>...</th>\n",
       "      <td>...</td>\n",
       "      <td>...</td>\n",
       "      <td>...</td>\n",
       "      <td>...</td>\n",
       "    </tr>\n",
       "    <tr>\n",
       "      <th>10217291</th>\n",
       "      <td>451464974</td>\n",
       "      <td>2022-12-08</td>\n",
       "      <td>9923.65</td>\n",
       "      <td>8424.92</td>\n",
       "    </tr>\n",
       "    <tr>\n",
       "      <th>10217292</th>\n",
       "      <td>480639870</td>\n",
       "      <td>2022-12-08</td>\n",
       "      <td>23422.69</td>\n",
       "      <td>17380.69</td>\n",
       "    </tr>\n",
       "    <tr>\n",
       "      <th>10217293</th>\n",
       "      <td>436737877</td>\n",
       "      <td>2022-12-08</td>\n",
       "      <td>23583.12</td>\n",
       "      <td>20863.12</td>\n",
       "    </tr>\n",
       "    <tr>\n",
       "      <th>10217294</th>\n",
       "      <td>487895263</td>\n",
       "      <td>2022-12-08</td>\n",
       "      <td>49469.37</td>\n",
       "      <td>36482.99</td>\n",
       "    </tr>\n",
       "    <tr>\n",
       "      <th>10217295</th>\n",
       "      <td>465060685</td>\n",
       "      <td>2022-12-08</td>\n",
       "      <td>2948.19</td>\n",
       "      <td>2260.19</td>\n",
       "    </tr>\n",
       "  </tbody>\n",
       "</table>\n",
       "<p>10217296 rows × 4 columns</p>\n",
       "</div>"
      ],
      "text/plain": [
       "           order_id        date  paid_cum_sum  plan_sum_total\n",
       "0         400013633  2022-06-02       2500.00         2500.00\n",
       "1         400018480  2022-06-02       1070.00         1070.00\n",
       "2         400032001  2022-06-02       4200.00         4200.00\n",
       "3         400033195  2022-06-02       2850.00         2850.00\n",
       "4         400039407  2022-06-02      10100.00            0.00\n",
       "...             ...         ...           ...             ...\n",
       "10217291  451464974  2022-12-08       9923.65         8424.92\n",
       "10217292  480639870  2022-12-08      23422.69        17380.69\n",
       "10217293  436737877  2022-12-08      23583.12        20863.12\n",
       "10217294  487895263  2022-12-08      49469.37        36482.99\n",
       "10217295  465060685  2022-12-08       2948.19         2260.19\n",
       "\n",
       "[10217296 rows x 4 columns]"
      ]
     },
     "execution_count": 29,
     "metadata": {},
     "output_type": "execute_result"
    }
   ],
   "source": [
    "df = df.fillna(0)\n",
    "df"
   ]
  },
  {
   "cell_type": "markdown",
   "id": "8cdc37d6",
   "metadata": {},
   "source": [
    "Мы получили таблицу, в которой по каждому дню и каждому order_id есть информация о плановом и фактическом платеже."
   ]
  },
  {
   "cell_type": "code",
   "execution_count": 36,
   "id": "86f6fcdb",
   "metadata": {
    "scrolled": true
   },
   "outputs": [
    {
     "data": {
      "text/html": [
       "<div>\n",
       "<style scoped>\n",
       "    .dataframe tbody tr th:only-of-type {\n",
       "        vertical-align: middle;\n",
       "    }\n",
       "\n",
       "    .dataframe tbody tr th {\n",
       "        vertical-align: top;\n",
       "    }\n",
       "\n",
       "    .dataframe thead th {\n",
       "        text-align: right;\n",
       "    }\n",
       "</style>\n",
       "<table border=\"1\" class=\"dataframe\">\n",
       "  <thead>\n",
       "    <tr style=\"text-align: right;\">\n",
       "      <th></th>\n",
       "      <th>order_id</th>\n",
       "      <th>date</th>\n",
       "      <th>paid_cum_sum</th>\n",
       "      <th>plan_sum_total</th>\n",
       "      <th>overdue_summ</th>\n",
       "      <th>overdue_summ_only</th>\n",
       "    </tr>\n",
       "  </thead>\n",
       "  <tbody>\n",
       "    <tr>\n",
       "      <th>6952879</th>\n",
       "      <td>426909436</td>\n",
       "      <td>2022-10-09</td>\n",
       "      <td>4240.00</td>\n",
       "      <td>4600.00</td>\n",
       "      <td>360.00</td>\n",
       "      <td>360.0</td>\n",
       "    </tr>\n",
       "    <tr>\n",
       "      <th>9052156</th>\n",
       "      <td>424277718</td>\n",
       "      <td>2022-11-17</td>\n",
       "      <td>10900.00</td>\n",
       "      <td>11500.00</td>\n",
       "      <td>600.00</td>\n",
       "      <td>600.0</td>\n",
       "    </tr>\n",
       "    <tr>\n",
       "      <th>8478558</th>\n",
       "      <td>473014045</td>\n",
       "      <td>2022-11-06</td>\n",
       "      <td>6045.37</td>\n",
       "      <td>3825.37</td>\n",
       "      <td>-2220.00</td>\n",
       "      <td>0.0</td>\n",
       "    </tr>\n",
       "    <tr>\n",
       "      <th>3802221</th>\n",
       "      <td>445597818</td>\n",
       "      <td>2022-08-11</td>\n",
       "      <td>0.00</td>\n",
       "      <td>0.00</td>\n",
       "      <td>0.00</td>\n",
       "      <td>0.0</td>\n",
       "    </tr>\n",
       "    <tr>\n",
       "      <th>6365444</th>\n",
       "      <td>426829469</td>\n",
       "      <td>2022-09-28</td>\n",
       "      <td>4314.60</td>\n",
       "      <td>2721.85</td>\n",
       "      <td>-1592.75</td>\n",
       "      <td>0.0</td>\n",
       "    </tr>\n",
       "    <tr>\n",
       "      <th>356464</th>\n",
       "      <td>470992943</td>\n",
       "      <td>2022-06-08</td>\n",
       "      <td>0.00</td>\n",
       "      <td>0.00</td>\n",
       "      <td>0.00</td>\n",
       "      <td>0.0</td>\n",
       "    </tr>\n",
       "    <tr>\n",
       "      <th>1174739</th>\n",
       "      <td>460723216</td>\n",
       "      <td>2022-06-23</td>\n",
       "      <td>0.00</td>\n",
       "      <td>0.00</td>\n",
       "      <td>0.00</td>\n",
       "      <td>0.0</td>\n",
       "    </tr>\n",
       "    <tr>\n",
       "      <th>3453164</th>\n",
       "      <td>430197978</td>\n",
       "      <td>2022-08-05</td>\n",
       "      <td>7080.00</td>\n",
       "      <td>7080.00</td>\n",
       "      <td>0.00</td>\n",
       "      <td>0.0</td>\n",
       "    </tr>\n",
       "    <tr>\n",
       "      <th>1348002</th>\n",
       "      <td>407589011</td>\n",
       "      <td>2022-06-27</td>\n",
       "      <td>6360.00</td>\n",
       "      <td>6900.00</td>\n",
       "      <td>540.00</td>\n",
       "      <td>540.0</td>\n",
       "    </tr>\n",
       "    <tr>\n",
       "      <th>2799984</th>\n",
       "      <td>413087631</td>\n",
       "      <td>2022-07-24</td>\n",
       "      <td>10100.00</td>\n",
       "      <td>11500.00</td>\n",
       "      <td>1400.00</td>\n",
       "      <td>1400.0</td>\n",
       "    </tr>\n",
       "  </tbody>\n",
       "</table>\n",
       "</div>"
      ],
      "text/plain": [
       "          order_id        date  paid_cum_sum  plan_sum_total  overdue_summ  \\\n",
       "6952879  426909436  2022-10-09       4240.00         4600.00        360.00   \n",
       "9052156  424277718  2022-11-17      10900.00        11500.00        600.00   \n",
       "8478558  473014045  2022-11-06       6045.37         3825.37      -2220.00   \n",
       "3802221  445597818  2022-08-11          0.00            0.00          0.00   \n",
       "6365444  426829469  2022-09-28       4314.60         2721.85      -1592.75   \n",
       "356464   470992943  2022-06-08          0.00            0.00          0.00   \n",
       "1174739  460723216  2022-06-23          0.00            0.00          0.00   \n",
       "3453164  430197978  2022-08-05       7080.00         7080.00          0.00   \n",
       "1348002  407589011  2022-06-27       6360.00         6900.00        540.00   \n",
       "2799984  413087631  2022-07-24      10100.00        11500.00       1400.00   \n",
       "\n",
       "         overdue_summ_only  \n",
       "6952879              360.0  \n",
       "9052156              600.0  \n",
       "8478558                0.0  \n",
       "3802221                0.0  \n",
       "6365444                0.0  \n",
       "356464                 0.0  \n",
       "1174739                0.0  \n",
       "3453164                0.0  \n",
       "1348002              540.0  \n",
       "2799984             1400.0  "
      ]
     },
     "execution_count": 36,
     "metadata": {},
     "output_type": "execute_result"
    }
   ],
   "source": [
    "#Теперь добавим 2 новых столбца - сумма просрочки-досрочки и просто сумма просрочки \n",
    "df['overdue_summ'] = df['plan_sum_total'] - df['paid_cum_sum']\n",
    "df['overdue_summ_only'] = df['plan_sum_total'] - df['paid_cum_sum']\n",
    "df.loc[df['overdue_summ_only'] < 0, 'overdue_summ_only'] = 0\n",
    "df.sample(10)"
   ]
  },
  {
   "cell_type": "markdown",
   "id": "c554c707",
   "metadata": {},
   "source": [
    "## Построение графиков"
   ]
  },
  {
   "cell_type": "markdown",
   "id": "e9a04c5f",
   "metadata": {},
   "source": [
    "### Диманика суммы платежей"
   ]
  },
  {
   "cell_type": "code",
   "execution_count": 31,
   "id": "d4a538b8",
   "metadata": {},
   "outputs": [
    {
     "data": {
      "image/png": "[encoded data removed]",
      "text/plain": [
       "<Figure size 1200x600 with 1 Axes>"
      ]
     },
     "metadata": {},
     "output_type": "display_data"
    }
   ],
   "source": [
    "data_overdue = df.groupby('date')['overdue_summ'].sum()\n",
    "\n",
    "plt.figure(figsize=(12, 6))\n",
    "data_overdue.plot()\n",
    "plt.title('Диманика суммы платежей')\n",
    "plt.xlabel('Дата')\n",
    "plt.ylabel('Сумма платежей')\n",
    "plt.xticks(rotation=45)\n",
    "plt.grid()\n",
    "plt.show()"
   ]
  },
  {
   "cell_type": "markdown",
   "id": "268e989f",
   "metadata": {},
   "source": [
    "### Диманика суммы просроченных платежей"
   ]
  },
  {
   "cell_type": "code",
   "execution_count": 32,
   "id": "7ac73e68",
   "metadata": {},
   "outputs": [
    {
     "data": {
      "image/png": "[encoded data removed]",
      "text/plain": [
       "<Figure size 1200x600 with 1 Axes>"
      ]
     },
     "metadata": {},
     "output_type": "display_data"
    }
   ],
   "source": [
    "data_overdue_only = df.groupby('date')['overdue_summ_only'].sum()\n",
    "\n",
    "plt.figure(figsize=(12, 6))\n",
    "data_overdue_only.plot()\n",
    "plt.title('Диманика суммы просроченных платежей')\n",
    "plt.xlabel('Дата')\n",
    "plt.ylabel('Сумма просроченных платежей')\n",
    "plt.xticks(rotation=45)\n",
    "plt.grid()\n",
    "plt.show()"
   ]
  },
  {
   "cell_type": "markdown",
   "id": "1cae3445",
   "metadata": {},
   "source": [
    "### Динамика процента просроченных платежей"
   ]
  },
  {
   "cell_type": "code",
   "execution_count": 33,
   "id": "923891ab",
   "metadata": {},
   "outputs": [],
   "source": [
    "data_procent = df.groupby('date')[['overdue_summ_only', 'plan_sum_total']].sum()"
   ]
  },
  {
   "cell_type": "code",
   "execution_count": 34,
   "id": "69ef3e02",
   "metadata": {},
   "outputs": [],
   "source": [
    "data_procent['percent'] = (data_procent['overdue_summ_only'] / data_procent['plan_sum_total']) * 100\n",
    "data_procent['percent']= data_procent['percent'].fillna(100)"
   ]
  },
  {
   "cell_type": "code",
   "execution_count": 35,
   "id": "9cf73654",
   "metadata": {},
   "outputs": [
    {
     "data": {
      "image/png": "[encoded data removed]",
      "text/plain": [
       "<Figure size 1200x600 with 1 Axes>"
      ]
     },
     "metadata": {},
     "output_type": "display_data"
    }
   ],
   "source": [
    "plt.figure(figsize=(12, 6))\n",
    "plt.plot(data_procent.index.values, data_procent['percent'].values)\n",
    "plt.title('Динамика процента просроченных платежей')\n",
    "plt.xlabel('Дата')\n",
    "plt.ylabel('Процент просрочки')\n",
    "plt.xticks(rotation=45)\n",
    "plt.grid()\n",
    "plt.show()"
   ]
  },
  {
   "cell_type": "markdown",
   "id": "b3ce1a54",
   "metadata": {},
   "source": [
    "## Вывод"
   ]
  },
  {
   "cell_type": "markdown",
   "id": "eafd8880",
   "metadata": {},
   "source": [
    "Из графиков видно, что хоть и сумма просроченных платежей почти неубывающе растет, процент просроченных платеж от суммы запланированного платежа равномерно падает начиная с середины седьмого месяца "
   ]
  }
 ],
 "metadata": {
  "kernelspec": {
   "display_name": "Python 3 (ipykernel)",
   "language": "python",
   "name": "python3"
  },
  "language_info": {
   "codemirror_mode": {
    "name": "ipython",
    "version": 3
   },
   "file_extension": ".py",
   "mimetype": "text/x-python",
   "name": "python",
   "nbconvert_exporter": "python",
   "pygments_lexer": "ipython3",
   "version": "3.9.19"
  },
  "toc": {
   "base_numbering": 1,
   "nav_menu": {},
   "number_sections": true,
   "sideBar": true,
   "skip_h1_title": false,
   "title_cell": "Table of Contents",
   "title_sidebar": "Contents",
   "toc_cell": false,
   "toc_position": {
    "height": "calc(100% - 180px)",
    "left": "10px",
    "top": "150px",
    "width": "374.391px"
   },
   "toc_section_display": true,
   "toc_window_display": true
  }
 },
 "nbformat": 4,
 "nbformat_minor": 5
}
