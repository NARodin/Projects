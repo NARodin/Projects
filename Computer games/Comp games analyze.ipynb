{
 "cells": [
  {
   "cell_type": "code",
   "execution_count": 1,
   "id": "f84ffe2c",
   "metadata": {},
   "outputs": [
    {
     "name": "stdout",
     "output_type": "stream",
     "text": [
      "Package                           Version\n",
      "--------------------------------- -------------------\n",
      "absl-py                           1.2.0\n",
      "alembic                           1.6.5\n",
      "anyio                             3.2.1\n",
      "argon2-cffi                       20.1.0\n",
      "astunparse                        1.6.3\n",
      "async-generator                   1.10\n",
      "attrs                             21.2.0\n",
      "Babel                             2.9.1\n",
      "backcall                          0.2.0\n",
      "backports.functools-lru-cache     1.6.4\n",
      "beautifulsoup4                    4.9.3\n",
      "bleach                            3.3.0\n",
      "blinker                           1.4\n",
      "blis                              0.7.8\n",
      "branca                            0.5.0\n",
      "brotlipy                          0.7.0\n",
      "cachetools                        5.2.0\n",
      "catalogue                         2.0.8\n",
      "catboost                          1.0.3\n",
      "certifi                           2022.6.15\n",
      "certipy                           0.1.3\n",
      "cffi                              1.14.5\n",
      "chardet                           4.0.0\n",
      "click                             8.1.3\n",
      "cloudpickle                       3.0.0\n",
      "conda                             4.10.2\n",
      "conda-package-handling            1.7.3\n",
      "convertdate                       2.4.0\n",
      "cryptography                      3.4.7\n",
      "cycler                            0.11.0\n",
      "cymem                             2.0.6\n",
      "DAWG-Python                       0.7.2\n",
      "debugpy                           1.3.0\n",
      "decorator                         5.0.9\n",
      "defusedxml                        0.7.1\n",
      "docopt                            0.6.2\n",
      "en-core-web-sm                    3.2.0\n",
      "entrypoints                       0.3\n",
      "et-xmlfile                        1.1.0\n",
      "filelock                          3.8.0\n",
      "findspark                         1.4.2\n",
      "flatbuffers                       2.0.7\n",
      "folium                            0.12.1.post1\n",
      "fuzzywuzzy                        0.18.0\n",
      "gast                              0.4.0\n",
      "gensim                            4.1.2\n",
      "google-auth                       2.11.0\n",
      "google-auth-oauthlib              0.4.6\n",
      "google-pasta                      0.2.0\n",
      "graphviz                          0.20.1\n",
      "greenlet                          1.1.0\n",
      "grpcio                            1.47.0\n",
      "gspread                           5.0.0\n",
      "h5py                              3.7.0\n",
      "hijri-converter                   2.2.4\n",
      "holidays                          0.11.3.1\n",
      "huggingface-hub                   0.9.1\n",
      "idna                              2.10\n",
      "importlib-metadata                4.6.1\n",
      "ipykernel                         6.0.1\n",
      "ipython                           7.25.0\n",
      "ipython-genutils                  0.2.0\n",
      "ipywidgets                        7.6.3\n",
      "jedi                              0.18.0\n",
      "Jinja2                            3.0.1\n",
      "joblib                            1.3.2\n",
      "json5                             0.9.5\n",
      "jsonschema                        3.2.0\n",
      "jupyter                           1.0.0\n",
      "jupyter-client                    6.1.12\n",
      "jupyter-console                   6.4.2\n",
      "jupyter-contrib-core              0.4.0\n",
      "jupyter-contrib-nbextensions      0.5.1\n",
      "jupyter-core                      4.7.1\n",
      "jupyter-highlight-selected-word   0.2.0\n",
      "jupyter-latex-envs                1.4.6\n",
      "jupyter-nbextensions-configurator 0.5.0\n",
      "jupyter-server                    1.9.0\n",
      "jupyter-telemetry                 0.1.0\n",
      "jupyterhub                        1.4.2\n",
      "jupyterlab                        3.0.16\n",
      "jupyterlab-pygments               0.1.2\n",
      "jupyterlab-server                 2.6.0\n",
      "jupyterlab-widgets                3.0.2\n",
      "keras                             2.7.0\n",
      "Keras-Preprocessing               1.1.2\n",
      "kiwisolver                        1.4.4\n",
      "korean-lunar-calendar             0.2.1\n",
      "langcodes                         3.3.0\n",
      "libclang                          14.0.6\n",
      "lightgbm                          3.3.1\n",
      "llvmlite                          0.39.0\n",
      "lxml                              4.6.3\n",
      "Mako                              1.1.4\n",
      "mamba                             0.14.1\n",
      "Markdown                          3.4.1\n",
      "MarkupSafe                        2.1.1\n",
      "matplotlib                        3.3.4\n",
      "matplotlib-inline                 0.1.2\n",
      "mistune                           0.8.4\n",
      "murmurhash                        1.0.8\n",
      "nbclassic                         0.3.1\n",
      "nbclient                          0.5.3\n",
      "nbconvert                         6.1.0\n",
      "nbformat                          5.1.3\n",
      "nbgrader                          0.6.1\n",
      "nest-asyncio                      1.5.1\n",
      "nltk                              3.6.1\n",
      "notebook                          6.4.0\n",
      "numba                             0.56.0\n",
      "numpy                             1.21.1\n",
      "oauthlib                          3.1.1\n",
      "openpyxl                          3.0.9\n",
      "opt-einsum                        3.3.0\n",
      "packaging                         21.3\n",
      "pamela                            1.0.0\n",
      "pandas                            1.2.4\n",
      "pandocfilters                     1.4.2\n",
      "parso                             0.8.2\n",
      "pathy                             0.6.2\n",
      "patsy                             0.5.2\n",
      "pexpect                           4.8.0\n",
      "phik                              0.12.4\n",
      "pickleshare                       0.7.5\n",
      "Pillow                            8.4.0\n",
      "pip                               21.1.3\n",
      "plotly                            5.4.0\n",
      "preshed                           3.0.7\n",
      "prometheus-client                 0.11.0\n",
      "prompt-toolkit                    3.0.19\n",
      "protobuf                          3.19.4\n",
      "psycopg2-binary                   2.9.2\n",
      "ptyprocess                        0.7.0\n",
      "py4j                              0.10.9.3\n",
      "pyarrow                           5.0.0\n",
      "pyasn1                            0.4.8\n",
      "pyasn1-modules                    0.2.8\n",
      "pycosat                           0.6.3\n",
      "pycparser                         2.20\n",
      "pycurl                            7.43.0.6\n",
      "pydantic                          1.8.2\n",
      "Pygments                          2.9.0\n",
      "PyJWT                             2.1.0\n",
      "PyMeeus                           0.5.11\n",
      "pymorphy2                         0.9.1\n",
      "pymorphy2-dicts-ru                2.4.417127.4579844\n",
      "pymystem3                         0.2.0\n",
      "pyod                              0.9.5\n",
      "pyOpenSSL                         20.0.1\n",
      "pyparsing                         2.4.7\n",
      "pyrsistent                        0.17.3\n",
      "PySocks                           1.7.1\n",
      "pyspark                           3.0.2\n",
      "python-dateutil                   2.8.1\n",
      "python-editor                     1.0.4\n",
      "python-json-logger                2.0.1\n",
      "pytz                              2021.1\n",
      "PyYAML                            6.0\n",
      "pyzmq                             22.1.0\n",
      "qtconsole                         5.3.2\n",
      "QtPy                              2.2.0\n",
      "regex                             2022.8.17\n",
      "requests                          2.25.1\n",
      "requests-oauthlib                 1.3.1\n",
      "requests-unixsocket               0.2.0\n",
      "rsa                               4.9\n",
      "ruamel-yaml-conda                 0.15.80\n",
      "ruamel.yaml                       0.17.10\n",
      "ruamel.yaml.clib                  0.2.2\n",
      "sacremoses                        0.0.53\n",
      "scikit-learn                      1.4.1.post1\n",
      "scipy                             1.9.1\n",
      "seaborn                           0.11.1\n",
      "Send2Trash                        1.7.1\n",
      "setuptools                        49.6.0.post20210108\n",
      "shap                              0.45.0\n",
      "six                               1.16.0\n",
      "slicer                            0.0.7\n",
      "smart-open                        5.2.1\n",
      "sniffio                           1.2.0\n",
      "soupsieve                         2.3.2.post1\n",
      "spacy                             3.2.0\n",
      "spacy-legacy                      3.0.10\n",
      "spacy-loggers                     1.0.3\n",
      "SQLAlchemy                        1.4.20\n",
      "srsly                             2.4.4\n",
      "statsmodels                       0.13.2\n",
      "tenacity                          8.0.1\n",
      "tensorboard                       2.10.0\n",
      "tensorboard-data-server           0.6.1\n",
      "tensorboard-plugin-wit            1.8.1\n",
      "tensorflow-cpu                    2.7.0\n",
      "tensorflow-estimator              2.7.0\n",
      "tensorflow-io-gcs-filesystem      0.26.0\n",
      "termcolor                         1.1.0\n",
      "terminado                         0.10.1\n",
      "testpath                          0.5.0\n",
      "thinc                             8.0.17\n",
      "threadpoolctl                     3.1.0\n",
      "tokenizers                        0.10.3\n",
      "torch                             1.10.0\n",
      "tornado                           6.1\n",
      "tqdm                              4.61.2\n",
      "traitlets                         5.0.5\n",
      "transformers                      4.12.5\n",
      "typer                             0.4.2\n",
      "typing-extensions                 4.3.0\n",
      "urllib3                           1.26.6\n",
      "wasabi                            0.10.1\n",
      "wcwidth                           0.2.5\n",
      "webencodings                      0.5.1\n",
      "websocket-client                  0.57.0\n",
      "Werkzeug                          2.2.2\n",
      "wheel                             0.36.2\n",
      "widgetsnbextension                3.5.2\n",
      "wrapt                             1.14.1\n",
      "xgboost                           1.5.1\n",
      "xlrd                              2.0.1\n",
      "xmltodict                         0.12.0\n",
      "zipp                              3.5.0\n"
     ]
    }
   ],
   "source": [
    "!pip list"
   ]
  },
  {
   "cell_type": "markdown",
   "id": "8ffcb0f1-f1a3-4b8c-8d52-05ea4fd86836",
   "metadata": {},
   "source": [
    "# Описание проекта "
   ]
  },
  {
   "cell_type": "markdown",
   "id": "a046657f-e193-48bb-af02-721bb333201e",
   "metadata": {},
   "source": [
    "Вы работаете в интернет-магазине «Стримчик», который продаёт по всему миру компьютерные игры. Из открытых источников доступны исторические данные о продажах игр, оценки пользователей и экспертов, жанры и платформы (например, Xbox или PlayStation). Вам нужно выявить определяющие успешность игры закономерности. Это позволит сделать ставку на потенциально популярный продукт и спланировать рекламные кампании.\n",
    "Перед вами данные до 2016 года. Представим, что сейчас декабрь 2016 г., и вы планируете кампанию на 2017-й. Нужно отработать принцип работы с данными. Неважно, прогнозируете ли вы продажи на 2017 год по данным 2016-го или же 2027-й — по данным 2026 года.\n",
    "В наборе данных попадается аббревиатура ESRB (Entertainment Software Rating Board) — это ассоциация, определяющая возрастной рейтинг компьютерных игр. ESRB оценивает игровой контент и присваивает ему подходящую возрастную категорию, например, «Для взрослых», «Для детей младшего возраста» или «Для подростков»."
   ]
  },
  {
   "cell_type": "markdown",
   "id": "16670b1f-a445-4041-b4d0-e96b53d15709",
   "metadata": {},
   "source": [
    "# Описание данных"
   ]
  },
  {
   "cell_type": "markdown",
   "id": "0acbf95e-1c51-4327-b0f1-07bcfe56d305",
   "metadata": {},
   "source": [
    "Данные представлены одним датасетов в котором описывают следующие поля: название игры, платформа, год выпуска, игровой жанр, продажи игры в Северной Америке(млн), продажи игры в Европе(млн), продажи игры в других регионах(млн), оценка критиков(100-бальная шкала), оценка пользователей(100-бальная шкала), рейтниг игры(ESRB)."
   ]
  },
  {
   "cell_type": "markdown",
   "id": "e40bea9c-942d-4c0a-9618-4a755f4dcbdf",
   "metadata": {},
   "source": [
    "# Шаг 1. Открытие данных и изучение общей информации."
   ]
  },
  {
   "cell_type": "code",
   "execution_count": 1,
   "id": "40738167-9e31-4af8-9e52-dd05bcab244c",
   "metadata": {},
   "outputs": [],
   "source": [
    "import pandas as pd\n",
    "import numpy as np\n",
    "from scipy import stats as st\n",
    "import math\n",
    "import matplotlib.pyplot as plt"
   ]
  },
  {
   "cell_type": "code",
   "execution_count": 2,
   "id": "9b8c3ad9",
   "metadata": {},
   "outputs": [],
   "source": [
    "try:\n",
    "    data = pd.read_csv(r\"C:\\Users\\User\\Desktop\\яндекс\\games.csv\")\n",
    "except:\n",
    "    data = pd.read_csv('/datasets/games.csv')"
   ]
  },
  {
   "cell_type": "code",
   "execution_count": 3,
   "id": "1f4a70bd-34a9-4d76-9b4e-cb98b88a6400",
   "metadata": {},
   "outputs": [
    {
     "data": {
      "text/html": [
       "<div>\n",
       "<style scoped>\n",
       "    .dataframe tbody tr th:only-of-type {\n",
       "        vertical-align: middle;\n",
       "    }\n",
       "\n",
       "    .dataframe tbody tr th {\n",
       "        vertical-align: top;\n",
       "    }\n",
       "\n",
       "    .dataframe thead th {\n",
       "        text-align: right;\n",
       "    }\n",
       "</style>\n",
       "<table border=\"1\" class=\"dataframe\">\n",
       "  <thead>\n",
       "    <tr style=\"text-align: right;\">\n",
       "      <th></th>\n",
       "      <th>Name</th>\n",
       "      <th>Platform</th>\n",
       "      <th>Year_of_Release</th>\n",
       "      <th>Genre</th>\n",
       "      <th>NA_sales</th>\n",
       "      <th>EU_sales</th>\n",
       "      <th>JP_sales</th>\n",
       "      <th>Other_sales</th>\n",
       "      <th>Critic_Score</th>\n",
       "      <th>User_Score</th>\n",
       "      <th>Rating</th>\n",
       "    </tr>\n",
       "  </thead>\n",
       "  <tbody>\n",
       "    <tr>\n",
       "      <th>0</th>\n",
       "      <td>Wii Sports</td>\n",
       "      <td>Wii</td>\n",
       "      <td>2006.0</td>\n",
       "      <td>Sports</td>\n",
       "      <td>41.36</td>\n",
       "      <td>28.96</td>\n",
       "      <td>3.77</td>\n",
       "      <td>8.45</td>\n",
       "      <td>76.0</td>\n",
       "      <td>8</td>\n",
       "      <td>E</td>\n",
       "    </tr>\n",
       "    <tr>\n",
       "      <th>1</th>\n",
       "      <td>Super Mario Bros.</td>\n",
       "      <td>NES</td>\n",
       "      <td>1985.0</td>\n",
       "      <td>Platform</td>\n",
       "      <td>29.08</td>\n",
       "      <td>3.58</td>\n",
       "      <td>6.81</td>\n",
       "      <td>0.77</td>\n",
       "      <td>NaN</td>\n",
       "      <td>NaN</td>\n",
       "      <td>NaN</td>\n",
       "    </tr>\n",
       "    <tr>\n",
       "      <th>2</th>\n",
       "      <td>Mario Kart Wii</td>\n",
       "      <td>Wii</td>\n",
       "      <td>2008.0</td>\n",
       "      <td>Racing</td>\n",
       "      <td>15.68</td>\n",
       "      <td>12.76</td>\n",
       "      <td>3.79</td>\n",
       "      <td>3.29</td>\n",
       "      <td>82.0</td>\n",
       "      <td>8.3</td>\n",
       "      <td>E</td>\n",
       "    </tr>\n",
       "    <tr>\n",
       "      <th>3</th>\n",
       "      <td>Wii Sports Resort</td>\n",
       "      <td>Wii</td>\n",
       "      <td>2009.0</td>\n",
       "      <td>Sports</td>\n",
       "      <td>15.61</td>\n",
       "      <td>10.93</td>\n",
       "      <td>3.28</td>\n",
       "      <td>2.95</td>\n",
       "      <td>80.0</td>\n",
       "      <td>8</td>\n",
       "      <td>E</td>\n",
       "    </tr>\n",
       "    <tr>\n",
       "      <th>4</th>\n",
       "      <td>Pokemon Red/Pokemon Blue</td>\n",
       "      <td>GB</td>\n",
       "      <td>1996.0</td>\n",
       "      <td>Role-Playing</td>\n",
       "      <td>11.27</td>\n",
       "      <td>8.89</td>\n",
       "      <td>10.22</td>\n",
       "      <td>1.00</td>\n",
       "      <td>NaN</td>\n",
       "      <td>NaN</td>\n",
       "      <td>NaN</td>\n",
       "    </tr>\n",
       "  </tbody>\n",
       "</table>\n",
       "</div>"
      ],
      "text/plain": [
       "                       Name Platform  Year_of_Release         Genre  NA_sales  \\\n",
       "0                Wii Sports      Wii           2006.0        Sports     41.36   \n",
       "1         Super Mario Bros.      NES           1985.0      Platform     29.08   \n",
       "2            Mario Kart Wii      Wii           2008.0        Racing     15.68   \n",
       "3         Wii Sports Resort      Wii           2009.0        Sports     15.61   \n",
       "4  Pokemon Red/Pokemon Blue       GB           1996.0  Role-Playing     11.27   \n",
       "\n",
       "   EU_sales  JP_sales  Other_sales  Critic_Score User_Score Rating  \n",
       "0     28.96      3.77         8.45          76.0          8      E  \n",
       "1      3.58      6.81         0.77           NaN        NaN    NaN  \n",
       "2     12.76      3.79         3.29          82.0        8.3      E  \n",
       "3     10.93      3.28         2.95          80.0          8      E  \n",
       "4      8.89     10.22         1.00           NaN        NaN    NaN  "
      ]
     },
     "execution_count": 3,
     "metadata": {},
     "output_type": "execute_result"
    }
   ],
   "source": [
    "data.head()"
   ]
  },
  {
   "cell_type": "markdown",
   "id": "f4725cd8-4f70-4f35-bddc-81bcdcfc319b",
   "metadata": {},
   "source": [
    "## Вывод по шаг 1"
   ]
  },
  {
   "cell_type": "markdown",
   "id": "63fa09d0-98c6-4a08-96bf-131230440f83",
   "metadata": {},
   "source": [
    "Данных для выполнения исследовательской работы достаточно. В данных есть небольшие проблемы, которые необходимо устранить для успешного выполнения работы"
   ]
  },
  {
   "cell_type": "markdown",
   "id": "1c39a439-44b3-4c9c-b45f-70e72e01276b",
   "metadata": {},
   "source": [
    "# Шаг 2. Предобработка данных."
   ]
  },
  {
   "cell_type": "markdown",
   "id": "d0b4743a-27d8-4b47-8f7e-9c173c70d53b",
   "metadata": {},
   "source": [
    "## Обработка пропусков и типов данных"
   ]
  },
  {
   "cell_type": "code",
   "execution_count": 4,
   "id": "5783cdd6-af3d-469d-862d-3930b4bbb647",
   "metadata": {},
   "outputs": [
    {
     "name": "stdout",
     "output_type": "stream",
     "text": [
      "<class 'pandas.core.frame.DataFrame'>\n",
      "RangeIndex: 16715 entries, 0 to 16714\n",
      "Data columns (total 11 columns):\n",
      " #   Column           Non-Null Count  Dtype  \n",
      "---  ------           --------------  -----  \n",
      " 0   Name             16713 non-null  object \n",
      " 1   Platform         16715 non-null  object \n",
      " 2   Year_of_Release  16446 non-null  float64\n",
      " 3   Genre            16713 non-null  object \n",
      " 4   NA_sales         16715 non-null  float64\n",
      " 5   EU_sales         16715 non-null  float64\n",
      " 6   JP_sales         16715 non-null  float64\n",
      " 7   Other_sales      16715 non-null  float64\n",
      " 8   Critic_Score     8137 non-null   float64\n",
      " 9   User_Score       10014 non-null  object \n",
      " 10  Rating           9949 non-null   object \n",
      "dtypes: float64(6), object(5)\n",
      "memory usage: 1.4+ MB\n"
     ]
    }
   ],
   "source": [
    "data.info()"
   ]
  },
  {
   "cell_type": "markdown",
   "id": "dca716f2-c24c-4dd8-9429-0893b3415509",
   "metadata": {},
   "source": [
    "Необходимо изменить тип данных в столбцах year_of_release и critic_score на int так как в них хранятся целочисленные значения, и тип данных в user_score на float так как там хранятся значения с точкой. Надо привести названия столбцов к нижнему регистру, а также по возможности избавиться от пропусков."
   ]
  },
  {
   "cell_type": "code",
   "execution_count": 5,
   "id": "36265416-5850-44ca-942f-81466c880778",
   "metadata": {},
   "outputs": [],
   "source": [
    "#Приведу все названия солбцов к нижнему регистру\n",
    "data.columns = data.columns.str.lower()"
   ]
  },
  {
   "cell_type": "code",
   "execution_count": 6,
   "id": "45e3ecb0-36fa-4648-82ba-0bdc529aa706",
   "metadata": {},
   "outputs": [],
   "source": [
    "\n",
    "data['year_of_release'] = data['year_of_release'].fillna(0)\n",
    "data['year_of_release'] = data['year_of_release'].astype('Int64')\n",
    "data['critic_score'] = data['critic_score'].astype('Int64')\n"
   ]
  },
  {
   "cell_type": "code",
   "execution_count": 7,
   "id": "59788196-bc6a-488e-9899-a17fce5db75f",
   "metadata": {},
   "outputs": [],
   "source": [
    "#Год выпуска игры нам необходим для анализа, поэтому удалим пустые значения этого столбца\n",
    "data = data.query('year_of_release > 0')"
   ]
  },
  {
   "cell_type": "code",
   "execution_count": 8,
   "id": "e222a0d0-d52e-4837-b6bb-1bac6320f061",
   "metadata": {},
   "outputs": [
    {
     "data": {
      "text/plain": [
       "array(['8', nan, '8.3', '8.5', '6.6', '8.4', '8.6', '7.7', '6.3', '7.4',\n",
       "       '8.2', '9', '7.9', '8.1', '8.7', '7.1', '3.4', '5.3', '4.8', '3.2',\n",
       "       '8.9', '6.4', '7.8', '7.5', '2.6', '7.2', '9.2', '7', '7.3', '4.3',\n",
       "       '7.6', '5.7', '5', '9.1', '6.5', 'tbd', '8.8', '6.9', '9.4', '6.8',\n",
       "       '6.1', '6.7', '5.4', '4', '4.9', '4.5', '9.3', '6.2', '4.2', '6',\n",
       "       '3.7', '4.1', '5.8', '5.6', '5.5', '4.4', '4.6', '5.9', '3.9',\n",
       "       '3.1', '2.9', '5.2', '3.3', '4.7', '5.1', '3.5', '2.5', '1.9', '3',\n",
       "       '2.7', '2.2', '2', '9.5', '2.1', '3.6', '2.8', '1.8', '3.8', '0',\n",
       "       '1.6', '9.6', '2.4', '1.7', '1.1', '0.3', '1.5', '0.7', '1.2',\n",
       "       '2.3', '0.5', '1.3', '0.2', '0.6', '1.4', '0.9', '1', '9.7'],\n",
       "      dtype=object)"
      ]
     },
     "execution_count": 8,
     "metadata": {},
     "output_type": "execute_result"
    }
   ],
   "source": [
    "data['user_score'].unique()"
   ]
  },
  {
   "cell_type": "markdown",
   "id": "4da515c4-a779-460d-8c25-63792916a3b8",
   "metadata": {},
   "source": [
    "tbd означается что рейтинг не определ. Заменим эту аббревиатуру на nan, и изменим тип данных"
   ]
  },
  {
   "cell_type": "code",
   "execution_count": 9,
   "id": "5f531033-45b9-419b-a9ec-939c28a1c8ef",
   "metadata": {},
   "outputs": [],
   "source": [
    "data.loc[data['user_score'] == 'tbd', 'user_score'] = np.nan\n",
    "data['user_score'] = data['user_score'].astype('float')"
   ]
  },
  {
   "cell_type": "code",
   "execution_count": 10,
   "id": "fb0a2865-3def-40d4-9d4e-fcb1fecaeb18",
   "metadata": {},
   "outputs": [],
   "source": [
    "#В столбце с названием игры пропущеные значения обработке не поддаются, удалим их.\n",
    "data = data.dropna(subset = ['name'])"
   ]
  },
  {
   "cell_type": "markdown",
   "id": "24c8f90c-686d-44ef-84ae-ac0925814852",
   "metadata": {},
   "source": [
    "Пропущенные значения в столбцам с рейтингом может говорить о том что для данной игры рейтинг еще не сформиран, поэтому оставим их в таблице."
   ]
  },
  {
   "cell_type": "code",
   "execution_count": 11,
   "id": "be0ae514-309f-400a-b2a1-9b4a3ad1cc68",
   "metadata": {},
   "outputs": [
    {
     "data": {
      "text/plain": [
       "0        82.54\n",
       "1        40.24\n",
       "2        35.52\n",
       "3        32.77\n",
       "4        31.38\n",
       "         ...  \n",
       "16710     0.01\n",
       "16711     0.01\n",
       "16712     0.01\n",
       "16713     0.01\n",
       "16714     0.01\n",
       "Name: total_sales, Length: 16444, dtype: float64"
      ]
     },
     "execution_count": 11,
     "metadata": {},
     "output_type": "execute_result"
    }
   ],
   "source": [
    "#добавим столбец с суммой всех продаж.\n",
    "data['total_sales'] = data['na_sales'] + data['eu_sales'] + data['jp_sales'] + data['other_sales']\n",
    "data['total_sales']"
   ]
  },
  {
   "cell_type": "code",
   "execution_count": 56,
   "id": "c5e5158e",
   "metadata": {},
   "outputs": [],
   "source": [
    "data['name'] = data['name'].str.lower()\n",
    "data = data.drop_duplicates()\n",
    "data = data.drop_duplicates(subset=['name', 'year_of_release', 'genre'])"
   ]
  },
  {
   "cell_type": "code",
   "execution_count": 57,
   "id": "7dd25dc2",
   "metadata": {},
   "outputs": [
    {
     "name": "stdout",
     "output_type": "stream",
     "text": [
      "<class 'pandas.core.frame.DataFrame'>\n",
      "Int64Index: 11835 entries, 0 to 16712\n",
      "Data columns (total 12 columns):\n",
      " #   Column           Non-Null Count  Dtype  \n",
      "---  ------           --------------  -----  \n",
      " 0   name             11835 non-null  object \n",
      " 1   platform         11835 non-null  object \n",
      " 2   year_of_release  11835 non-null  Int64  \n",
      " 3   genre            11835 non-null  object \n",
      " 4   na_sales         11835 non-null  float64\n",
      " 5   eu_sales         11835 non-null  float64\n",
      " 6   jp_sales         11835 non-null  float64\n",
      " 7   other_sales      11835 non-null  float64\n",
      " 8   critic_score     5171 non-null   Int64  \n",
      " 9   user_score       4733 non-null   float64\n",
      " 10  rating           6282 non-null   object \n",
      " 11  total_sales      11835 non-null  float64\n",
      "dtypes: Int64(2), float64(6), object(4)\n",
      "memory usage: 1.2+ MB\n"
     ]
    }
   ],
   "source": [
    "data.info()"
   ]
  },
  {
   "cell_type": "code",
   "execution_count": 58,
   "id": "17e4f612",
   "metadata": {},
   "outputs": [
    {
     "data": {
      "text/plain": [
       "array(['wii sports', 'mario kart wii', 'wii sports resort', ...,\n",
       "       'woody woodpecker in crazy castle 5', 'lma manager 2007',\n",
       "       'haitaka no psychedelica'], dtype=object)"
      ]
     },
     "execution_count": 58,
     "metadata": {},
     "output_type": "execute_result"
    }
   ],
   "source": [
    "data['name'].unique()"
   ]
  },
  {
   "cell_type": "code",
   "execution_count": 63,
   "id": "7492cc0b",
   "metadata": {},
   "outputs": [
    {
     "data": {
      "text/html": [
       "<div>\n",
       "<style scoped>\n",
       "    .dataframe tbody tr th:only-of-type {\n",
       "        vertical-align: middle;\n",
       "    }\n",
       "\n",
       "    .dataframe tbody tr th {\n",
       "        vertical-align: top;\n",
       "    }\n",
       "\n",
       "    .dataframe thead th {\n",
       "        text-align: right;\n",
       "    }\n",
       "</style>\n",
       "<table border=\"1\" class=\"dataframe\">\n",
       "  <thead>\n",
       "    <tr style=\"text-align: right;\">\n",
       "      <th></th>\n",
       "      <th>name</th>\n",
       "      <th>platform</th>\n",
       "      <th>year_of_release</th>\n",
       "      <th>genre</th>\n",
       "      <th>na_sales</th>\n",
       "      <th>eu_sales</th>\n",
       "      <th>jp_sales</th>\n",
       "      <th>other_sales</th>\n",
       "      <th>critic_score</th>\n",
       "      <th>user_score</th>\n",
       "      <th>rating</th>\n",
       "      <th>total_sales</th>\n",
       "    </tr>\n",
       "  </thead>\n",
       "  <tbody>\n",
       "    <tr>\n",
       "      <th>0</th>\n",
       "      <td>wii sports</td>\n",
       "      <td>Wii</td>\n",
       "      <td>2006</td>\n",
       "      <td>Sports</td>\n",
       "      <td>41.36</td>\n",
       "      <td>28.96</td>\n",
       "      <td>3.77</td>\n",
       "      <td>8.45</td>\n",
       "      <td>76</td>\n",
       "      <td>8.0</td>\n",
       "      <td>E</td>\n",
       "      <td>82.54</td>\n",
       "    </tr>\n",
       "    <tr>\n",
       "      <th>2</th>\n",
       "      <td>mario kart wii</td>\n",
       "      <td>Wii</td>\n",
       "      <td>2008</td>\n",
       "      <td>Racing</td>\n",
       "      <td>15.68</td>\n",
       "      <td>12.76</td>\n",
       "      <td>3.79</td>\n",
       "      <td>3.29</td>\n",
       "      <td>82</td>\n",
       "      <td>8.3</td>\n",
       "      <td>E</td>\n",
       "      <td>35.52</td>\n",
       "    </tr>\n",
       "    <tr>\n",
       "      <th>3</th>\n",
       "      <td>wii sports resort</td>\n",
       "      <td>Wii</td>\n",
       "      <td>2009</td>\n",
       "      <td>Sports</td>\n",
       "      <td>15.61</td>\n",
       "      <td>10.93</td>\n",
       "      <td>3.28</td>\n",
       "      <td>2.95</td>\n",
       "      <td>80</td>\n",
       "      <td>8.0</td>\n",
       "      <td>E</td>\n",
       "      <td>32.77</td>\n",
       "    </tr>\n",
       "    <tr>\n",
       "      <th>4</th>\n",
       "      <td>pokemon red/pokemon blue</td>\n",
       "      <td>GB</td>\n",
       "      <td>1996</td>\n",
       "      <td>Role-Playing</td>\n",
       "      <td>11.27</td>\n",
       "      <td>8.89</td>\n",
       "      <td>10.22</td>\n",
       "      <td>1.00</td>\n",
       "      <td>&lt;NA&gt;</td>\n",
       "      <td>NaN</td>\n",
       "      <td>NaN</td>\n",
       "      <td>31.38</td>\n",
       "    </tr>\n",
       "    <tr>\n",
       "      <th>6</th>\n",
       "      <td>new super mario bros.</td>\n",
       "      <td>DS</td>\n",
       "      <td>2006</td>\n",
       "      <td>Platform</td>\n",
       "      <td>11.28</td>\n",
       "      <td>9.14</td>\n",
       "      <td>6.50</td>\n",
       "      <td>2.88</td>\n",
       "      <td>89</td>\n",
       "      <td>8.5</td>\n",
       "      <td>E</td>\n",
       "      <td>29.80</td>\n",
       "    </tr>\n",
       "    <tr>\n",
       "      <th>...</th>\n",
       "      <td>...</td>\n",
       "      <td>...</td>\n",
       "      <td>...</td>\n",
       "      <td>...</td>\n",
       "      <td>...</td>\n",
       "      <td>...</td>\n",
       "      <td>...</td>\n",
       "      <td>...</td>\n",
       "      <td>...</td>\n",
       "      <td>...</td>\n",
       "      <td>...</td>\n",
       "      <td>...</td>\n",
       "    </tr>\n",
       "    <tr>\n",
       "      <th>16706</th>\n",
       "      <td>men in black ii: alien escape</td>\n",
       "      <td>GC</td>\n",
       "      <td>2003</td>\n",
       "      <td>Shooter</td>\n",
       "      <td>0.01</td>\n",
       "      <td>0.00</td>\n",
       "      <td>0.00</td>\n",
       "      <td>0.00</td>\n",
       "      <td>&lt;NA&gt;</td>\n",
       "      <td>NaN</td>\n",
       "      <td>T</td>\n",
       "      <td>0.01</td>\n",
       "    </tr>\n",
       "    <tr>\n",
       "      <th>16707</th>\n",
       "      <td>aiyoku no eustia</td>\n",
       "      <td>PSV</td>\n",
       "      <td>2014</td>\n",
       "      <td>Misc</td>\n",
       "      <td>0.00</td>\n",
       "      <td>0.00</td>\n",
       "      <td>0.01</td>\n",
       "      <td>0.00</td>\n",
       "      <td>&lt;NA&gt;</td>\n",
       "      <td>NaN</td>\n",
       "      <td>NaN</td>\n",
       "      <td>0.01</td>\n",
       "    </tr>\n",
       "    <tr>\n",
       "      <th>16708</th>\n",
       "      <td>woody woodpecker in crazy castle 5</td>\n",
       "      <td>GBA</td>\n",
       "      <td>2002</td>\n",
       "      <td>Platform</td>\n",
       "      <td>0.01</td>\n",
       "      <td>0.00</td>\n",
       "      <td>0.00</td>\n",
       "      <td>0.00</td>\n",
       "      <td>&lt;NA&gt;</td>\n",
       "      <td>NaN</td>\n",
       "      <td>NaN</td>\n",
       "      <td>0.01</td>\n",
       "    </tr>\n",
       "    <tr>\n",
       "      <th>16711</th>\n",
       "      <td>lma manager 2007</td>\n",
       "      <td>X360</td>\n",
       "      <td>2006</td>\n",
       "      <td>Sports</td>\n",
       "      <td>0.00</td>\n",
       "      <td>0.01</td>\n",
       "      <td>0.00</td>\n",
       "      <td>0.00</td>\n",
       "      <td>&lt;NA&gt;</td>\n",
       "      <td>NaN</td>\n",
       "      <td>NaN</td>\n",
       "      <td>0.01</td>\n",
       "    </tr>\n",
       "    <tr>\n",
       "      <th>16712</th>\n",
       "      <td>haitaka no psychedelica</td>\n",
       "      <td>PSV</td>\n",
       "      <td>2016</td>\n",
       "      <td>Adventure</td>\n",
       "      <td>0.00</td>\n",
       "      <td>0.00</td>\n",
       "      <td>0.01</td>\n",
       "      <td>0.00</td>\n",
       "      <td>&lt;NA&gt;</td>\n",
       "      <td>NaN</td>\n",
       "      <td>NaN</td>\n",
       "      <td>0.01</td>\n",
       "    </tr>\n",
       "  </tbody>\n",
       "</table>\n",
       "<p>11835 rows × 12 columns</p>\n",
       "</div>"
      ],
      "text/plain": [
       "                                     name platform  year_of_release  \\\n",
       "0                              wii sports      Wii             2006   \n",
       "2                          mario kart wii      Wii             2008   \n",
       "3                       wii sports resort      Wii             2009   \n",
       "4                pokemon red/pokemon blue       GB             1996   \n",
       "6                   new super mario bros.       DS             2006   \n",
       "...                                   ...      ...              ...   \n",
       "16706       men in black ii: alien escape       GC             2003   \n",
       "16707                    aiyoku no eustia      PSV             2014   \n",
       "16708  woody woodpecker in crazy castle 5      GBA             2002   \n",
       "16711                    lma manager 2007     X360             2006   \n",
       "16712             haitaka no psychedelica      PSV             2016   \n",
       "\n",
       "              genre  na_sales  eu_sales  jp_sales  other_sales  critic_score  \\\n",
       "0            Sports     41.36     28.96      3.77         8.45            76   \n",
       "2            Racing     15.68     12.76      3.79         3.29            82   \n",
       "3            Sports     15.61     10.93      3.28         2.95            80   \n",
       "4      Role-Playing     11.27      8.89     10.22         1.00          <NA>   \n",
       "6          Platform     11.28      9.14      6.50         2.88            89   \n",
       "...             ...       ...       ...       ...          ...           ...   \n",
       "16706       Shooter      0.01      0.00      0.00         0.00          <NA>   \n",
       "16707          Misc      0.00      0.00      0.01         0.00          <NA>   \n",
       "16708      Platform      0.01      0.00      0.00         0.00          <NA>   \n",
       "16711        Sports      0.00      0.01      0.00         0.00          <NA>   \n",
       "16712     Adventure      0.00      0.00      0.01         0.00          <NA>   \n",
       "\n",
       "       user_score rating  total_sales  \n",
       "0             8.0      E        82.54  \n",
       "2             8.3      E        35.52  \n",
       "3             8.0      E        32.77  \n",
       "4             NaN    NaN        31.38  \n",
       "6             8.5      E        29.80  \n",
       "...           ...    ...          ...  \n",
       "16706         NaN      T         0.01  \n",
       "16707         NaN    NaN         0.01  \n",
       "16708         NaN    NaN         0.01  \n",
       "16711         NaN    NaN         0.01  \n",
       "16712         NaN    NaN         0.01  \n",
       "\n",
       "[11835 rows x 12 columns]"
      ]
     },
     "execution_count": 63,
     "metadata": {},
     "output_type": "execute_result"
    }
   ],
   "source": [
    "data"
   ]
  },
  {
   "cell_type": "markdown",
   "id": "e16f4739-fd7f-40d6-9a21-75b5478d73a4",
   "metadata": {},
   "source": [
    "## Вывод по шаг 2"
   ]
  },
  {
   "cell_type": "markdown",
   "id": "6fc21e6b-bdef-42f8-a4ac-8ac13a447b12",
   "metadata": {},
   "source": [
    "Назнания столбцов были приведены к нижнему регистру, удалены строки с пропусками в колонке с названием игры, изменены типы данных некоторых столбцов, добавлена колонка с суммарными продажами по каждой игре. Пропуски в столбцах с рейтингами остались в таблице. Удалены полные и неполные дубликаты."
   ]
  },
  {
   "cell_type": "markdown",
   "id": "8f852c2d-e111-4f1c-9482-90983baea8ec",
   "metadata": {},
   "source": [
    "# Шаг 3. Исследовательский анализ данных."
   ]
  },
  {
   "cell_type": "markdown",
   "id": "cb5bb7e0-5d22-40c5-bd8d-9379ef889033",
   "metadata": {},
   "source": [
    "## Данные по годам"
   ]
  },
  {
   "cell_type": "code",
   "execution_count": 94,
   "id": "578932df-704a-4cf2-9562-ccd89499b7cc",
   "metadata": {},
   "outputs": [
    {
     "name": "stdout",
     "output_type": "stream",
     "text": [
      "count    11835.000000\n",
      "mean      2006.268441\n",
      "std          5.281162\n",
      "min       1994.000000\n",
      "25%       2003.000000\n",
      "50%       2007.000000\n",
      "75%       2010.000000\n",
      "max       2016.000000\n",
      "Name: year_of_release, dtype: float64\n"
     ]
    },
    {
     "data": {
      "image/png": "[encoded data removed]",
      "text/plain": [
       "<Figure size 432x288 with 1 Axes>"
      ]
     },
     "metadata": {
      "needs_background": "light"
     },
     "output_type": "display_data"
    }
   ],
   "source": [
    "bins = data['year_of_release'].max() - data['year_of_release'].min() + 1\n",
    "\n",
    "print(data['year_of_release'].describe())\n",
    "data['year_of_release'].hist(bins=bins)\n",
    "plt.title(\"Год релиза\")\n",
    "plt.ylabel(\"Количество игр\")\n",
    "plt.xlabel(\"Год\")\n",
    "None"
   ]
  },
  {
   "cell_type": "code",
   "execution_count": 68,
   "id": "b0e0f8fd-960d-4c34-a21d-68ee09b0a3d6",
   "metadata": {},
   "outputs": [
    {
     "data": {
      "image/png": "[encoded data removed]",
      "text/plain": [
       "<Figure size 432x288 with 1 Axes>"
      ]
     },
     "metadata": {
      "needs_background": "light"
     },
     "output_type": "display_data"
    }
   ],
   "source": [
    "data.boxplot(column='year_of_release')\n",
    "None"
   ]
  },
  {
   "cell_type": "markdown",
   "id": "773ae653-16a3-4fc3-b674-63df1e707fdc",
   "metadata": {},
   "source": [
    "График показал, что игры которые выпускались ранее 1993 года можно считать выбросами. Удалим их."
   ]
  },
  {
   "cell_type": "code",
   "execution_count": 14,
   "id": "ab1a383a-97d3-4376-b659-9c339940a966",
   "metadata": {},
   "outputs": [],
   "source": [
    "data = data.query('year_of_release > 1993')"
   ]
  },
  {
   "cell_type": "markdown",
   "id": "72a70639-4b8a-4137-8211-4a0bde6d6e42",
   "metadata": {},
   "source": [
    "## Данные по платформам"
   ]
  },
  {
   "cell_type": "code",
   "execution_count": 15,
   "id": "cca49902-a027-4908-b5a2-a1152e4b9350",
   "metadata": {},
   "outputs": [
    {
     "data": {
      "text/html": [
       "<div>\n",
       "<style scoped>\n",
       "    .dataframe tbody tr th:only-of-type {\n",
       "        vertical-align: middle;\n",
       "    }\n",
       "\n",
       "    .dataframe tbody tr th {\n",
       "        vertical-align: top;\n",
       "    }\n",
       "\n",
       "    .dataframe thead th {\n",
       "        text-align: right;\n",
       "    }\n",
       "</style>\n",
       "<table border=\"1\" class=\"dataframe\">\n",
       "  <thead>\n",
       "    <tr style=\"text-align: right;\">\n",
       "      <th></th>\n",
       "      <th>total_sales</th>\n",
       "    </tr>\n",
       "    <tr>\n",
       "      <th>platform</th>\n",
       "      <th></th>\n",
       "    </tr>\n",
       "  </thead>\n",
       "  <tbody>\n",
       "    <tr>\n",
       "      <th>PS2</th>\n",
       "      <td>1233.56</td>\n",
       "    </tr>\n",
       "    <tr>\n",
       "      <th>X360</th>\n",
       "      <td>961.24</td>\n",
       "    </tr>\n",
       "    <tr>\n",
       "      <th>PS3</th>\n",
       "      <td>931.34</td>\n",
       "    </tr>\n",
       "    <tr>\n",
       "      <th>Wii</th>\n",
       "      <td>891.18</td>\n",
       "    </tr>\n",
       "    <tr>\n",
       "      <th>DS</th>\n",
       "      <td>802.76</td>\n",
       "    </tr>\n",
       "    <tr>\n",
       "      <th>PS</th>\n",
       "      <td>727.58</td>\n",
       "    </tr>\n",
       "    <tr>\n",
       "      <th>PS4</th>\n",
       "      <td>314.14</td>\n",
       "    </tr>\n",
       "    <tr>\n",
       "      <th>GBA</th>\n",
       "      <td>312.88</td>\n",
       "    </tr>\n",
       "    <tr>\n",
       "      <th>PSP</th>\n",
       "      <td>289.53</td>\n",
       "    </tr>\n",
       "    <tr>\n",
       "      <th>3DS</th>\n",
       "      <td>257.81</td>\n",
       "    </tr>\n",
       "  </tbody>\n",
       "</table>\n",
       "</div>"
      ],
      "text/plain": [
       "          total_sales\n",
       "platform             \n",
       "PS2           1233.56\n",
       "X360           961.24\n",
       "PS3            931.34\n",
       "Wii            891.18\n",
       "DS             802.76\n",
       "PS             727.58\n",
       "PS4            314.14\n",
       "GBA            312.88\n",
       "PSP            289.53\n",
       "3DS            257.81"
      ]
     },
     "execution_count": 15,
     "metadata": {},
     "output_type": "execute_result"
    }
   ],
   "source": [
    "platforms = data.pivot_table(index=['platform'], values='total_sales', aggfunc='sum').sort_values(by='total_sales', ascending=False)\n",
    "platforms_top_10_list = platforms.reset_index().head(10)['platform'].unique()\n",
    "platforms_top_10 = platforms.head(10)\n",
    "platforms_top_10"
   ]
  },
  {
   "cell_type": "code",
   "execution_count": 66,
   "id": "997e04d2-6cb8-4189-8f11-761916ffe4a7",
   "metadata": {},
   "outputs": [
    {
     "data": {
      "image/png": "[encoded data removed]",
      "text/plain": [
       "<Figure size 432x288 with 1 Axes>"
      ]
     },
     "metadata": {
      "needs_background": "light"
     },
     "output_type": "display_data"
    }
   ],
   "source": [
    "platforms_top_10.plot(kind='bar')\n",
    "plt.title(\"Количество игр на разных платормах\")\n",
    "plt.ylabel(\"Количество игр\")\n",
    "plt.xlabel(\"Платформы\")\n",
    "None"
   ]
  },
  {
   "cell_type": "code",
   "execution_count": 69,
   "id": "4de0b454-f431-4877-bded-ce5635576fbc",
   "metadata": {},
   "outputs": [
    {
     "data": {
      "image/png": "[encoded data removed]",
      "text/plain": [
       "<Figure size 432x288 with 1 Axes>"
      ]
     },
     "metadata": {
      "needs_background": "light"
     },
     "output_type": "display_data"
    },
    {
     "data": {
      "image/png": "[encoded data removed]",
      "text/plain": [
       "<Figure size 432x288 with 1 Axes>"
      ]
     },
     "metadata": {
      "needs_background": "light"
     },
     "output_type": "display_data"
    },
    {
     "data": {
      "image/png": "[encoded data removed]",
      "text/plain": [
       "<Figure size 432x288 with 1 Axes>"
      ]
     },
     "metadata": {
      "needs_background": "light"
     },
     "output_type": "display_data"
    },
    {
     "data": {
      "image/png": "[encoded data removed]",
      "text/plain": [
       "<Figure size 432x288 with 1 Axes>"
      ]
     },
     "metadata": {
      "needs_background": "light"
     },
     "output_type": "display_data"
    },
    {
     "data": {
      "image/png": "[encoded data removed]",
      "text/plain": [
       "<Figure size 432x288 with 1 Axes>"
      ]
     },
     "metadata": {
      "needs_background": "light"
     },
     "output_type": "display_data"
    },
    {
     "data": {
      "image/png": "[encoded data removed]",
      "text/plain": [
       "<Figure size 432x288 with 1 Axes>"
      ]
     },
     "metadata": {
      "needs_background": "light"
     },
     "output_type": "display_data"
    },
    {
     "data": {
      "image/png": "[encoded data removed]",
      "text/plain": [
       "<Figure size 432x288 with 1 Axes>"
      ]
     },
     "metadata": {
      "needs_background": "light"
     },
     "output_type": "display_data"
    },
    {
     "data": {
      "image/png": "[encoded data removed]",
      "text/plain": [
       "<Figure size 432x288 with 1 Axes>"
      ]
     },
     "metadata": {
      "needs_background": "light"
     },
     "output_type": "display_data"
    },
    {
     "data": {
      "image/png": "[encoded data removed]",
      "text/plain": [
       "<Figure size 432x288 with 1 Axes>"
      ]
     },
     "metadata": {
      "needs_background": "light"
     },
     "output_type": "display_data"
    },
    {
     "data": {
      "image/png": "[encoded data removed]",
      "text/plain": [
       "<Figure size 432x288 with 1 Axes>"
      ]
     },
     "metadata": {
      "needs_background": "light"
     },
     "output_type": "display_data"
    }
   ],
   "source": [
    "for platform in platforms_top_10_list:\n",
    "    data[data['platform'] == platform].pivot_table(index = 'year_of_release', values = 'total_sales', aggfunc = 'sum').plot(kind = 'bar')\n",
    "    plt.title(platform)\n",
    "    plt.ylabel(\"Количество игр\")\n",
    "    plt.xlabel(\"Год\")"
   ]
  },
  {
   "cell_type": "markdown",
   "id": "7ba4bad4-370a-44e0-a0d6-8261444f3985",
   "metadata": {},
   "source": [
    "В среднем платформы существуют примерно по 8 лет, в зависимости от их успеха, полагаю. Учитывая что прогноз необходимо сделать на 2017 год, думаю что актуальный период можно считать половиной времени от жизни платформы, так мы будем учитывать только те платформы, которые находятся в самом рассвете, и отсеем загибающиеся платформы, которые будут негативно влиять на статискику. Актульный период 2012 - 2016. "
   ]
  },
  {
   "cell_type": "markdown",
   "id": "9af309ec-3ec9-4fa7-a395-5e1191ac1fd5",
   "metadata": {},
   "source": [
    "## Актуальный период"
   ]
  },
  {
   "cell_type": "code",
   "execution_count": 18,
   "id": "048a42ba-2ddb-4764-96cc-e325d9fab33c",
   "metadata": {},
   "outputs": [
    {
     "data": {
      "text/html": [
       "<div>\n",
       "<style scoped>\n",
       "    .dataframe tbody tr th:only-of-type {\n",
       "        vertical-align: middle;\n",
       "    }\n",
       "\n",
       "    .dataframe tbody tr th {\n",
       "        vertical-align: top;\n",
       "    }\n",
       "\n",
       "    .dataframe thead th {\n",
       "        text-align: right;\n",
       "    }\n",
       "</style>\n",
       "<table border=\"1\" class=\"dataframe\">\n",
       "  <thead>\n",
       "    <tr style=\"text-align: right;\">\n",
       "      <th></th>\n",
       "      <th>name</th>\n",
       "      <th>platform</th>\n",
       "      <th>year_of_release</th>\n",
       "      <th>genre</th>\n",
       "      <th>na_sales</th>\n",
       "      <th>eu_sales</th>\n",
       "      <th>jp_sales</th>\n",
       "      <th>other_sales</th>\n",
       "      <th>critic_score</th>\n",
       "      <th>user_score</th>\n",
       "      <th>rating</th>\n",
       "      <th>total_sales</th>\n",
       "    </tr>\n",
       "  </thead>\n",
       "  <tbody>\n",
       "    <tr>\n",
       "      <th>16</th>\n",
       "      <td>Grand Theft Auto V</td>\n",
       "      <td>PS3</td>\n",
       "      <td>2013</td>\n",
       "      <td>Action</td>\n",
       "      <td>7.02</td>\n",
       "      <td>9.09</td>\n",
       "      <td>0.98</td>\n",
       "      <td>3.96</td>\n",
       "      <td>97</td>\n",
       "      <td>8.2</td>\n",
       "      <td>M</td>\n",
       "      <td>21.05</td>\n",
       "    </tr>\n",
       "    <tr>\n",
       "      <th>23</th>\n",
       "      <td>Grand Theft Auto V</td>\n",
       "      <td>X360</td>\n",
       "      <td>2013</td>\n",
       "      <td>Action</td>\n",
       "      <td>9.66</td>\n",
       "      <td>5.14</td>\n",
       "      <td>0.06</td>\n",
       "      <td>1.41</td>\n",
       "      <td>97</td>\n",
       "      <td>8.1</td>\n",
       "      <td>M</td>\n",
       "      <td>16.27</td>\n",
       "    </tr>\n",
       "    <tr>\n",
       "      <th>31</th>\n",
       "      <td>Call of Duty: Black Ops 3</td>\n",
       "      <td>PS4</td>\n",
       "      <td>2015</td>\n",
       "      <td>Shooter</td>\n",
       "      <td>6.03</td>\n",
       "      <td>5.86</td>\n",
       "      <td>0.36</td>\n",
       "      <td>2.38</td>\n",
       "      <td>&lt;NA&gt;</td>\n",
       "      <td>NaN</td>\n",
       "      <td>NaN</td>\n",
       "      <td>14.63</td>\n",
       "    </tr>\n",
       "    <tr>\n",
       "      <th>33</th>\n",
       "      <td>Pokemon X/Pokemon Y</td>\n",
       "      <td>3DS</td>\n",
       "      <td>2013</td>\n",
       "      <td>Role-Playing</td>\n",
       "      <td>5.28</td>\n",
       "      <td>4.19</td>\n",
       "      <td>4.35</td>\n",
       "      <td>0.78</td>\n",
       "      <td>&lt;NA&gt;</td>\n",
       "      <td>NaN</td>\n",
       "      <td>NaN</td>\n",
       "      <td>14.60</td>\n",
       "    </tr>\n",
       "    <tr>\n",
       "      <th>34</th>\n",
       "      <td>Call of Duty: Black Ops II</td>\n",
       "      <td>PS3</td>\n",
       "      <td>2012</td>\n",
       "      <td>Shooter</td>\n",
       "      <td>4.99</td>\n",
       "      <td>5.73</td>\n",
       "      <td>0.65</td>\n",
       "      <td>2.42</td>\n",
       "      <td>83</td>\n",
       "      <td>5.3</td>\n",
       "      <td>M</td>\n",
       "      <td>13.79</td>\n",
       "    </tr>\n",
       "  </tbody>\n",
       "</table>\n",
       "</div>"
      ],
      "text/plain": [
       "                          name platform  year_of_release         genre  \\\n",
       "16          Grand Theft Auto V      PS3             2013        Action   \n",
       "23          Grand Theft Auto V     X360             2013        Action   \n",
       "31   Call of Duty: Black Ops 3      PS4             2015       Shooter   \n",
       "33         Pokemon X/Pokemon Y      3DS             2013  Role-Playing   \n",
       "34  Call of Duty: Black Ops II      PS3             2012       Shooter   \n",
       "\n",
       "    na_sales  eu_sales  jp_sales  other_sales  critic_score  user_score  \\\n",
       "16      7.02      9.09      0.98         3.96            97         8.2   \n",
       "23      9.66      5.14      0.06         1.41            97         8.1   \n",
       "31      6.03      5.86      0.36         2.38          <NA>         NaN   \n",
       "33      5.28      4.19      4.35         0.78          <NA>         NaN   \n",
       "34      4.99      5.73      0.65         2.42            83         5.3   \n",
       "\n",
       "   rating  total_sales  \n",
       "16      M        21.05  \n",
       "23      M        16.27  \n",
       "31    NaN        14.63  \n",
       "33    NaN        14.60  \n",
       "34      M        13.79  "
      ]
     },
     "execution_count": 18,
     "metadata": {},
     "output_type": "execute_result"
    }
   ],
   "source": [
    "current_data = data.query('year_of_release >= 2012')\n",
    "current_data.head()"
   ]
  },
  {
   "cell_type": "code",
   "execution_count": 70,
   "id": "ef201e00-3c1d-464c-a4e4-1737119feee4",
   "metadata": {},
   "outputs": [
    {
     "data": {
      "image/png": "[encoded data removed]",
      "text/plain": [
       "<Figure size 432x288 with 1 Axes>"
      ]
     },
     "metadata": {
      "needs_background": "light"
     },
     "output_type": "display_data"
    }
   ],
   "source": [
    "current_data.pivot_table(index='year_of_release', columns = 'platform', values='total_sales', aggfunc='sum').plot()\n",
    "plt.title(\"Продажи по годам\")\n",
    "plt.ylabel(\"Продажи\")\n",
    "plt.xlabel(\"Год\")\n",
    "None"
   ]
  },
  {
   "cell_type": "markdown",
   "id": "231bf1b7-18eb-4374-962e-e4e44430fe37",
   "metadata": {},
   "source": [
    "Удивительно, но нет ни одной платформы, которая бы шла на повышение. Однозначным лидером по продажам можно назвать PS4, что логично, учитывая что она появилась только в 2013. Также на фоне остальных неплохо выглядит Xone. Она вышла в тот же год что и PS4, однако показывает более низкие продажи. на тртьем месте 3DS. Все остальные платформы спрос практически упал."
   ]
  },
  {
   "cell_type": "markdown",
   "id": "88738655-42f5-434f-8142-fe4981efc330",
   "metadata": {},
   "source": [
    "Очевидно, что самыми прибыльными сейчас можно счиать актуальные PS4 и Xone."
   ]
  },
  {
   "cell_type": "code",
   "execution_count": 20,
   "id": "e4b7afaf-2268-4cce-96fb-c676eed56f41",
   "metadata": {},
   "outputs": [
    {
     "data": {
      "image/png": "[encoded data removed]",
      "text/plain": [
       "<Figure size 432x288 with 1 Axes>"
      ]
     },
     "metadata": {
      "needs_background": "light"
     },
     "output_type": "display_data"
    }
   ],
   "source": [
    "current_data.pivot_table(index = 'name', columns = 'platform', values = 'total_sales', aggfunc = 'sum').plot(kind='box', ylim=(0,2))\n",
    "plt.title(\"Продажи по платформам\")\n",
    "plt.ylabel(\"Продажи\")\n",
    "plt.xlabel(\"Платформа\")\n",
    "None"
   ]
  },
  {
   "cell_type": "markdown",
   "id": "3dbd4261-c841-4d5d-bb8a-2a71e34e261b",
   "metadata": {},
   "source": [
    "График подтверждает выводы выше: хорошие результаты показывает Xone и PS4. PS3 и X360 тоже держаться в топе, однако спрос на эти консоли предыдущего поколения стремительно падает, поэтому они являются потенциально не продаваемыми в будущем"
   ]
  },
  {
   "cell_type": "markdown",
   "id": "63516ba3",
   "metadata": {},
   "source": [
    "По грaфику видно, что лучшие платформы по медианным значениям это: X360, Xone, Wiiu, PS3 и PS4. Рассматривая эти графики ближе, можно заметить, что межквартильные размах самый большой у X360, а самый маленькой в этой выборке у WiiU. Остальные имеют примерно одинаковые средние межквартильные размахи. Также видно, что для этой подююорки платформ выбросы довольно редки, чего не скажешь о платформах которые показывают хуэе результаты и имеют меньшее значение медианы. Худшие по этому показателю: PSP, PSV и DC."
   ]
  },
  {
   "cell_type": "markdown",
   "id": "edfb9187-4e45-493c-957c-2070561c83e7",
   "metadata": {},
   "source": [
    "## Данные рейтингам от критиков и пользователей"
   ]
  },
  {
   "cell_type": "markdown",
   "id": "dfec8c07",
   "metadata": {},
   "source": [
    "### PS4"
   ]
  },
  {
   "cell_type": "markdown",
   "id": "0355af46-e797-4e49-ad9b-bd7ba9aa6705",
   "metadata": {},
   "source": [
    "Изучим влияние отзывов критиков и пользователей на продаи внутри самой сейчас продаваемой платформе - PS4."
   ]
  },
  {
   "cell_type": "code",
   "execution_count": 72,
   "id": "d035a09e-e126-4236-9aff-44e2626a7431",
   "metadata": {},
   "outputs": [
    {
     "data": {
      "image/png": "[encoded data removed]",
      "text/plain": [
       "<Figure size 432x288 with 1 Axes>"
      ]
     },
     "metadata": {
      "needs_background": "light"
     },
     "output_type": "display_data"
    }
   ],
   "source": [
    "data_PS4 = current_data.query('platform == \"PS4\"')\n",
    "data_PS4.plot(kind='scatter', x='user_score', y='critic_score')\n",
    "plt.title(\"Зависимость разных типов оценки\")\n",
    "plt.ylabel(\"Оценка критиков\")\n",
    "plt.xlabel(\"Оценка игроков\")\n",
    "None"
   ]
  },
  {
   "cell_type": "code",
   "execution_count": 39,
   "id": "447f9b06-72cf-4e79-a9b4-13e4641ffbb7",
   "metadata": {},
   "outputs": [
    {
     "data": {
      "text/html": [
       "<div>\n",
       "<style scoped>\n",
       "    .dataframe tbody tr th:only-of-type {\n",
       "        vertical-align: middle;\n",
       "    }\n",
       "\n",
       "    .dataframe tbody tr th {\n",
       "        vertical-align: top;\n",
       "    }\n",
       "\n",
       "    .dataframe thead th {\n",
       "        text-align: right;\n",
       "    }\n",
       "</style>\n",
       "<table border=\"1\" class=\"dataframe\">\n",
       "  <thead>\n",
       "    <tr style=\"text-align: right;\">\n",
       "      <th></th>\n",
       "      <th>critic_score</th>\n",
       "      <th>user_score</th>\n",
       "      <th>total_sales</th>\n",
       "    </tr>\n",
       "  </thead>\n",
       "  <tbody>\n",
       "    <tr>\n",
       "      <th>critic_score</th>\n",
       "      <td>1.000000</td>\n",
       "      <td>0.557654</td>\n",
       "      <td>0.406568</td>\n",
       "    </tr>\n",
       "    <tr>\n",
       "      <th>user_score</th>\n",
       "      <td>0.557654</td>\n",
       "      <td>1.000000</td>\n",
       "      <td>-0.031957</td>\n",
       "    </tr>\n",
       "    <tr>\n",
       "      <th>total_sales</th>\n",
       "      <td>0.406568</td>\n",
       "      <td>-0.031957</td>\n",
       "      <td>1.000000</td>\n",
       "    </tr>\n",
       "  </tbody>\n",
       "</table>\n",
       "</div>"
      ],
      "text/plain": [
       "              critic_score  user_score  total_sales\n",
       "critic_score      1.000000    0.557654     0.406568\n",
       "user_score        0.557654    1.000000    -0.031957\n",
       "total_sales       0.406568   -0.031957     1.000000"
      ]
     },
     "execution_count": 39,
     "metadata": {},
     "output_type": "execute_result"
    }
   ],
   "source": [
    "data_PS4[['critic_score','user_score', 'total_sales']].corr()"
   ]
  },
  {
   "cell_type": "code",
   "execution_count": 74,
   "id": "ab0fbe15",
   "metadata": {},
   "outputs": [
    {
     "data": {
      "image/png": "[encoded data removed]",
      "text/plain": [
       "<Figure size 432x288 with 1 Axes>"
      ]
     },
     "metadata": {
      "needs_background": "light"
     },
     "output_type": "display_data"
    }
   ],
   "source": [
    "data_PS4.plot(kind='scatter', x='user_score', y='total_sales')\n",
    "plt.title(\"Зависимость между продажами и оценками игроков\")\n",
    "plt.ylabel(\"Продажи\")\n",
    "plt.xlabel(\"Оценка игроков\")\n",
    "None"
   ]
  },
  {
   "cell_type": "code",
   "execution_count": 75,
   "id": "254efd6b",
   "metadata": {},
   "outputs": [
    {
     "data": {
      "image/png": "[encoded data removed]",
      "text/plain": [
       "<Figure size 432x288 with 1 Axes>"
      ]
     },
     "metadata": {
      "needs_background": "light"
     },
     "output_type": "display_data"
    }
   ],
   "source": [
    "data_PS4.plot(kind='scatter', x='critic_score', y='total_sales')\n",
    "plt.title(\"Зависимость между продажами и оценками критиков\")\n",
    "plt.ylabel(\"Продажи\")\n",
    "plt.xlabel(\"Оценка критиков\")\n",
    "None"
   ]
  },
  {
   "cell_type": "markdown",
   "id": "11a13cdf",
   "metadata": {},
   "source": [
    "Между продажами и оценками критиков прослеживается умеренная корреляция в то время как с оценокой игроков корреляция практически отсутсвует. можно сделать вывод что к критикам покупатели прислушиваются больше чем к игрокам, хотя это и не очевидно."
   ]
  },
  {
   "cell_type": "markdown",
   "id": "d2180d1b",
   "metadata": {},
   "source": [
    "### XOne"
   ]
  },
  {
   "cell_type": "code",
   "execution_count": 76,
   "id": "42c11f70",
   "metadata": {},
   "outputs": [
    {
     "data": {
      "image/png": "[encoded data removed]",
      "text/plain": [
       "<Figure size 432x288 with 1 Axes>"
      ]
     },
     "metadata": {
      "needs_background": "light"
     },
     "output_type": "display_data"
    }
   ],
   "source": [
    "data_Xone = current_data.query('platform == \"XOne\"')\n",
    "data_Xone.plot(kind='scatter', x='user_score', y='critic_score')\n",
    "plt.title(\"Зависимость разных типов оценки\")\n",
    "plt.ylabel(\"Оценка критиков\")\n",
    "plt.xlabel(\"Оценка игроков\")\n",
    "None"
   ]
  },
  {
   "cell_type": "code",
   "execution_count": 78,
   "id": "79aded92",
   "metadata": {},
   "outputs": [
    {
     "data": {
      "text/html": [
       "<div>\n",
       "<style scoped>\n",
       "    .dataframe tbody tr th:only-of-type {\n",
       "        vertical-align: middle;\n",
       "    }\n",
       "\n",
       "    .dataframe tbody tr th {\n",
       "        vertical-align: top;\n",
       "    }\n",
       "\n",
       "    .dataframe thead th {\n",
       "        text-align: right;\n",
       "    }\n",
       "</style>\n",
       "<table border=\"1\" class=\"dataframe\">\n",
       "  <thead>\n",
       "    <tr style=\"text-align: right;\">\n",
       "      <th></th>\n",
       "      <th>critic_score</th>\n",
       "      <th>user_score</th>\n",
       "      <th>total_sales</th>\n",
       "    </tr>\n",
       "  </thead>\n",
       "  <tbody>\n",
       "    <tr>\n",
       "      <th>critic_score</th>\n",
       "      <td>1.000000</td>\n",
       "      <td>0.472462</td>\n",
       "      <td>0.416998</td>\n",
       "    </tr>\n",
       "    <tr>\n",
       "      <th>user_score</th>\n",
       "      <td>0.472462</td>\n",
       "      <td>1.000000</td>\n",
       "      <td>-0.068925</td>\n",
       "    </tr>\n",
       "    <tr>\n",
       "      <th>total_sales</th>\n",
       "      <td>0.416998</td>\n",
       "      <td>-0.068925</td>\n",
       "      <td>1.000000</td>\n",
       "    </tr>\n",
       "  </tbody>\n",
       "</table>\n",
       "</div>"
      ],
      "text/plain": [
       "              critic_score  user_score  total_sales\n",
       "critic_score      1.000000    0.472462     0.416998\n",
       "user_score        0.472462    1.000000    -0.068925\n",
       "total_sales       0.416998   -0.068925     1.000000"
      ]
     },
     "execution_count": 78,
     "metadata": {},
     "output_type": "execute_result"
    }
   ],
   "source": [
    "data_Xone[['critic_score','user_score', 'total_sales']].corr()"
   ]
  },
  {
   "cell_type": "code",
   "execution_count": 79,
   "id": "1880ed07",
   "metadata": {},
   "outputs": [
    {
     "data": {
      "image/png": "[encoded data removed]",
      "text/plain": [
       "<Figure size 432x288 with 1 Axes>"
      ]
     },
     "metadata": {
      "needs_background": "light"
     },
     "output_type": "display_data"
    }
   ],
   "source": [
    "data_Xone.plot(kind='scatter', x='user_score', y='total_sales')\n",
    "plt.title(\"Зависимость между продажами и оценками игроков\")\n",
    "plt.ylabel(\"Продажи\")\n",
    "plt.xlabel(\"Оценка игроков\")\n",
    "None"
   ]
  },
  {
   "cell_type": "code",
   "execution_count": 80,
   "id": "d210d686",
   "metadata": {},
   "outputs": [
    {
     "data": {
      "image/png": "[encoded data removed]",
      "text/plain": [
       "<Figure size 432x288 with 1 Axes>"
      ]
     },
     "metadata": {
      "needs_background": "light"
     },
     "output_type": "display_data"
    }
   ],
   "source": [
    "data_Xone.plot(kind='scatter', x='critic_score', y='total_sales')\n",
    "plt.title(\"Зависимость между продажами и оценками критиков\")\n",
    "plt.ylabel(\"Продажи\")\n",
    "plt.xlabel(\"Оценка критиков\")\n",
    "None"
   ]
  },
  {
   "cell_type": "markdown",
   "id": "66bbce0d",
   "metadata": {},
   "source": [
    "Здесь ситуация похожая с PS4. С оценками критиков у продаж умеренная корреляция, с оценками игроков корреляция практически отсутсвует"
   ]
  },
  {
   "cell_type": "markdown",
   "id": "86c7ae70",
   "metadata": {},
   "source": [
    "### 3DS"
   ]
  },
  {
   "cell_type": "code",
   "execution_count": 81,
   "id": "a44b0f77",
   "metadata": {},
   "outputs": [
    {
     "data": {
      "image/png": "[encoded data removed]",
      "text/plain": [
       "<Figure size 432x288 with 1 Axes>"
      ]
     },
     "metadata": {
      "needs_background": "light"
     },
     "output_type": "display_data"
    }
   ],
   "source": [
    "data_3ds = current_data.query('platform == \"3DS\"')\n",
    "data_Xone.plot(kind='scatter', x='user_score', y='critic_score')\n",
    "plt.title(\"Зависимость разных типов оценки\")\n",
    "plt.ylabel(\"Оценка критиков\")\n",
    "plt.xlabel(\"Оценка игроков\")\n",
    "None"
   ]
  },
  {
   "cell_type": "code",
   "execution_count": 82,
   "id": "3d5b8d7c",
   "metadata": {},
   "outputs": [
    {
     "data": {
      "text/html": [
       "<div>\n",
       "<style scoped>\n",
       "    .dataframe tbody tr th:only-of-type {\n",
       "        vertical-align: middle;\n",
       "    }\n",
       "\n",
       "    .dataframe tbody tr th {\n",
       "        vertical-align: top;\n",
       "    }\n",
       "\n",
       "    .dataframe thead th {\n",
       "        text-align: right;\n",
       "    }\n",
       "</style>\n",
       "<table border=\"1\" class=\"dataframe\">\n",
       "  <thead>\n",
       "    <tr style=\"text-align: right;\">\n",
       "      <th></th>\n",
       "      <th>critic_score</th>\n",
       "      <th>user_score</th>\n",
       "      <th>total_sales</th>\n",
       "    </tr>\n",
       "  </thead>\n",
       "  <tbody>\n",
       "    <tr>\n",
       "      <th>critic_score</th>\n",
       "      <td>1.000000</td>\n",
       "      <td>0.722762</td>\n",
       "      <td>0.320803</td>\n",
       "    </tr>\n",
       "    <tr>\n",
       "      <th>user_score</th>\n",
       "      <td>0.722762</td>\n",
       "      <td>1.000000</td>\n",
       "      <td>0.197583</td>\n",
       "    </tr>\n",
       "    <tr>\n",
       "      <th>total_sales</th>\n",
       "      <td>0.320803</td>\n",
       "      <td>0.197583</td>\n",
       "      <td>1.000000</td>\n",
       "    </tr>\n",
       "  </tbody>\n",
       "</table>\n",
       "</div>"
      ],
      "text/plain": [
       "              critic_score  user_score  total_sales\n",
       "critic_score      1.000000    0.722762     0.320803\n",
       "user_score        0.722762    1.000000     0.197583\n",
       "total_sales       0.320803    0.197583     1.000000"
      ]
     },
     "execution_count": 82,
     "metadata": {},
     "output_type": "execute_result"
    }
   ],
   "source": [
    "data_3ds[['critic_score','user_score', 'total_sales']].corr()"
   ]
  },
  {
   "cell_type": "code",
   "execution_count": 83,
   "id": "84ba4ea2",
   "metadata": {},
   "outputs": [
    {
     "data": {
      "image/png": "[encoded data removed]",
      "text/plain": [
       "<Figure size 432x288 with 1 Axes>"
      ]
     },
     "metadata": {
      "needs_background": "light"
     },
     "output_type": "display_data"
    }
   ],
   "source": [
    "data_3ds.plot(kind='scatter', x='user_score', y='total_sales')\n",
    "plt.title(\"Зависимость между продажами и оценками игроков\")\n",
    "plt.ylabel(\"Продажи\")\n",
    "plt.xlabel(\"Оценка игроков\")\n",
    "None"
   ]
  },
  {
   "cell_type": "code",
   "execution_count": 84,
   "id": "b07cee8c",
   "metadata": {},
   "outputs": [
    {
     "data": {
      "image/png": "[encoded data removed]",
      "text/plain": [
       "<Figure size 432x288 with 1 Axes>"
      ]
     },
     "metadata": {
      "needs_background": "light"
     },
     "output_type": "display_data"
    }
   ],
   "source": [
    "data_3ds.plot(kind='scatter', x='critic_score', y='total_sales')\n",
    "plt.title(\"Зависимость между продажами и оценками критиков\")\n",
    "plt.ylabel(\"Продажи\")\n",
    "plt.xlabel(\"Оценка критиков\")\n",
    "None"
   ]
  },
  {
   "cell_type": "markdown",
   "id": "8770dbb1",
   "metadata": {},
   "source": [
    "Ситуация с этой платформой немного отличается от двух предыдущих. Здесь также прослеживается умеренная корреляция с оценками критиков, однако и с оценками игроков появилась слабая корреляция. Однако все-таки можно сделать вывод что к критикам присушиваются немного больше."
   ]
  },
  {
   "cell_type": "markdown",
   "id": "e5ce70f2",
   "metadata": {},
   "source": [
    "### Вывод"
   ]
  },
  {
   "cell_type": "markdown",
   "id": "f8188c78",
   "metadata": {},
   "source": [
    "Проанализировав зависимость продаж от разных типов оценки можно сделать вывод, что к критикам покупатели примлушиваются больше чем к игрокам. на всех трех самых популярных платформах выбранных мной прослеживается умеренная корреляция продаж от оценок критиков."
   ]
  },
  {
   "cell_type": "markdown",
   "id": "12055752-4249-4ad9-b347-01f8b6bb723e",
   "metadata": {},
   "source": [
    "## Данные по жанрам"
   ]
  },
  {
   "cell_type": "code",
   "execution_count": 24,
   "id": "eb449172-80a7-4aea-8d84-5cf539092520",
   "metadata": {},
   "outputs": [
    {
     "name": "stdout",
     "output_type": "stream",
     "text": [
      "              total_sales\n",
      "genre                    \n",
      "Action             441.12\n",
      "Shooter            304.73\n",
      "Role-Playing       192.80\n",
      "Sports             181.07\n",
      "Misc                85.04\n",
      "Platform            61.00\n",
      "Racing              53.50\n",
      "Fighting            44.49\n",
      "Simulation          35.12\n",
      "Adventure           29.43\n",
      "Strategy            13.34\n",
      "Puzzle               4.89\n"
     ]
    },
    {
     "data": {
      "image/png": "[encoded data removed]",
      "text/plain": [
       "<Figure size 576x576 with 1 Axes>"
      ]
     },
     "metadata": {},
     "output_type": "display_data"
    }
   ],
   "source": [
    "current_data_genre = current_data.pivot_table(index='genre', values='total_sales', aggfunc='sum').sort_values(ascending=False, by = 'total_sales')\n",
    "print(current_data_genre)\n",
    "current_data_genre.plot(kind='pie', subplots=True, figsize=(8,8))\n",
    "None"
   ]
  },
  {
   "cell_type": "markdown",
   "id": "98289898-76e3-4cd6-a177-f7311a1b972a",
   "metadata": {},
   "source": [
    "Как видно по этим данным, самые прибыльные игры это экш, шутеры, ролевые игры и спортивные игры. Наименее прибыльные это пазлы и стратегии."
   ]
  },
  {
   "cell_type": "code",
   "execution_count": 85,
   "id": "0d5188c8",
   "metadata": {},
   "outputs": [
    {
     "name": "stdout",
     "output_type": "stream",
     "text": [
      "              total_sales\n",
      "genre                    \n",
      "Shooter             0.440\n",
      "Sports              0.240\n",
      "Platform            0.210\n",
      "Role-Playing        0.140\n",
      "Racing              0.140\n",
      "Fighting            0.130\n",
      "Action              0.120\n",
      "Misc                0.120\n",
      "Simulation          0.120\n",
      "Strategy            0.080\n",
      "Puzzle              0.045\n",
      "Adventure           0.030\n"
     ]
    },
    {
     "data": {
      "image/png": "[encoded data removed]",
      "text/plain": [
       "<Figure size 576x576 with 1 Axes>"
      ]
     },
     "metadata": {},
     "output_type": "display_data"
    }
   ],
   "source": [
    "current_data_genre = current_data.pivot_table(index='genre', values='total_sales', aggfunc='median').sort_values(ascending=False, by = 'total_sales')\n",
    "print(current_data_genre)\n",
    "current_data_genre.plot(kind='pie', subplots=True, figsize=(8,8))\n",
    "None"
   ]
  },
  {
   "cell_type": "markdown",
   "id": "167a4be9",
   "metadata": {},
   "source": [
    "Проанализировав медианные значения продаж по жанрам можно сделать вывод, что жанр action, лидер предыдущего пункта здесь сместился аж на 7 место. Объянисть это я думаю можно наличие игр-бестселеров в данном жанре. Жанр shooter остался в топе, поднялся со второго на первое место, и видно, что спортивные игры в среднем неплохо продаются. Ролевой жанр тоже остался на неплохом месте, спустивщись с третьего на четвертое."
   ]
  },
  {
   "cell_type": "markdown",
   "id": "b475a90b-0c98-42f4-9ea4-1bb3a73784c6",
   "metadata": {},
   "source": [
    "## Вывод по шаг 3"
   ]
  },
  {
   "cell_type": "markdown",
   "id": "6320126f-3643-47d9-ba34-c7615e5b1871",
   "metadata": {},
   "source": [
    "1. Данные 1993 были рассмотрены как выбросы и удалены.\n",
    "2. В среднем, платформа \"живет\" около восьми лет. Разумеется бывают более короткие и более длиные периоды их жизни.\n",
    "3. Были рассмотрены данные за актуальный период. Период я считал актуальным взяв половину срока жизни платформ, чтобы исключить платформы срок жизни которых подходит к концу.\n",
    "4. Были выявлены 2 наиболее перспективные платформы, это Xone и PS4.\n",
    "5. Была выявлена умеренная корреляция количества продаж игры от оценки критиков.\n",
    "6. Самые прибыльные жанры это Action, shooter и Role-Playing игры. Самые не прибыльные это пазлы и спортивные игры."
   ]
  },
  {
   "cell_type": "markdown",
   "id": "2a90168d-63c8-4f42-8d24-cd60868fb753",
   "metadata": {},
   "source": [
    "# Шаг 4. Портрет пользователя."
   ]
  },
  {
   "cell_type": "markdown",
   "id": "8a55c62a-445e-4cae-8b83-bfb662f6cf30",
   "metadata": {},
   "source": [
    "## Консоли"
   ]
  },
  {
   "cell_type": "code",
   "execution_count": 25,
   "id": "89c1b6bb-3a00-42d4-8126-47f928f59341",
   "metadata": {},
   "outputs": [
    {
     "data": {
      "image/png": "[encoded data removed]",
      "text/plain": [
       "<Figure size 432x288 with 1 Axes>"
      ]
     },
     "metadata": {
      "needs_background": "light"
     },
     "output_type": "display_data"
    },
    {
     "data": {
      "image/png": "[encoded data removed]",
      "text/plain": [
       "<Figure size 432x288 with 1 Axes>"
      ]
     },
     "metadata": {
      "needs_background": "light"
     },
     "output_type": "display_data"
    },
    {
     "data": {
      "image/png": "[encoded data removed]",
      "text/plain": [
       "<Figure size 432x288 with 1 Axes>"
      ]
     },
     "metadata": {
      "needs_background": "light"
     },
     "output_type": "display_data"
    }
   ],
   "source": [
    "current_data_na = current_data.pivot_table(index='platform', values='na_sales', aggfunc='sum').sort_values(by='na_sales', ascending=False)\n",
    "current_data_na.head().plot(kind='bar', title='Америка')\n",
    "current_data_jp = current_data.pivot_table(index='platform', values='jp_sales', aggfunc='sum').sort_values(by='jp_sales', ascending=False)\n",
    "current_data_jp.head().plot(kind='bar', title='Япония')\n",
    "current_data_eu = current_data.pivot_table(index='platform', values='eu_sales', aggfunc='sum').sort_values(by='eu_sales', ascending=False)\n",
    "current_data_eu.head().plot(kind='bar', title='Европа')\n",
    "None"
   ]
  },
  {
   "cell_type": "markdown",
   "id": "61b4e9a7-2dc3-4607-a322-47105c6fce32",
   "metadata": {},
   "source": [
    "Как мы видим, регионы сильно отличаются по популярности платформ.  \n",
    "Америка предпочитает американские X-box, однако и PS в Америке пользуется популярностью.  \n",
    "В японии самую большую популярность завоевала японская Nintendo, а ней идет доминация также японской PS, а на пятом месте отсутсвующая в других регионах в топе тоже японская Wiiu. В этом плане японцев можно считать большими патриотами.  \n",
    "В Европе больше всего пользуются PS которая существенно опережает идущую за ней Xbox.  \n",
    "Можно сделать вывод, что игроки из разных стран предпочитают отечественные консоли.\n"
   ]
  },
  {
   "cell_type": "markdown",
   "id": "a7654d3a-e53c-4ea1-b8b7-535a7e997a26",
   "metadata": {},
   "source": [
    "## Жанры"
   ]
  },
  {
   "cell_type": "code",
   "execution_count": 26,
   "id": "4d8aabb0-8879-430b-a47c-e1161c97450b",
   "metadata": {},
   "outputs": [
    {
     "data": {
      "image/png": "[encoded data removed]",
      "text/plain": [
       "<Figure size 432x288 with 1 Axes>"
      ]
     },
     "metadata": {
      "needs_background": "light"
     },
     "output_type": "display_data"
    },
    {
     "data": {
      "image/png": "[encoded data removed]",
      "text/plain": [
       "<Figure size 432x288 with 1 Axes>"
      ]
     },
     "metadata": {
      "needs_background": "light"
     },
     "output_type": "display_data"
    },
    {
     "data": {
      "image/png": "[encoded data removed]",
      "text/plain": [
       "<Figure size 432x288 with 1 Axes>"
      ]
     },
     "metadata": {
      "needs_background": "light"
     },
     "output_type": "display_data"
    }
   ],
   "source": [
    "current_data_na = current_data.pivot_table(index='genre', values='na_sales', aggfunc='sum').sort_values(by='na_sales', ascending=False)\n",
    "current_data_na.head().plot(kind='bar', title='Америка')\n",
    "current_data_jp = current_data.pivot_table(index='genre', values='jp_sales', aggfunc='sum').sort_values(by='jp_sales', ascending=False)\n",
    "current_data_jp.head().plot(kind='bar', title='Япония')\n",
    "current_data_eu = current_data.pivot_table(index='genre', values='eu_sales', aggfunc='sum').sort_values(by='eu_sales', ascending=False)\n",
    "current_data_eu.head().plot(kind='bar', title='Европа')\n",
    "None"
   ]
  },
  {
   "cell_type": "markdown",
   "id": "e5b7b044-93c8-44b0-9499-25a643a06ff5",
   "metadata": {},
   "source": [
    "Вкус у игроков из Амереки и из Европы практически полностью совпадают. Думаю это связано с похожим 'западным' менталитетом. А вот японские вкусы довольно специфичны. Известный факт что японцы любят ролевые игры, поэтому факт их первенства в этой стране кажется очевидным. На втором месте в японии популярный во всем мире жанр экш. Остальные места занимают непопулярные в остальном мире жанры, думаю это связано со спецификой менталитета."
   ]
  },
  {
   "cell_type": "markdown",
   "id": "28f28a3f-f277-4014-9eab-007f8fcb6e47",
   "metadata": {},
   "source": [
    "## Рейтинг ESRB"
   ]
  },
  {
   "cell_type": "code",
   "execution_count": 27,
   "id": "ccbcf1b1-84bb-40b6-85a6-bfc6b59b492c",
   "metadata": {},
   "outputs": [
    {
     "name": "stderr",
     "output_type": "stream",
     "text": [
      "/tmp/ipykernel_72/998838406.py:1: SettingWithCopyWarning: \n",
      "A value is trying to be set on a copy of a slice from a DataFrame.\n",
      "Try using .loc[row_indexer,col_indexer] = value instead\n",
      "\n",
      "See the caveats in the documentation: https://pandas.pydata.org/pandas-docs/stable/user_guide/indexing.html#returning-a-view-versus-a-copy\n",
      "  current_data['regions_sales'] = current_data['na_sales'] + current_data['eu_sales'] + current_data['jp_sales']\n"
     ]
    },
    {
     "data": {
      "text/plain": [
       "16       17.09\n",
       "23       14.86\n",
       "31       12.25\n",
       "33       13.82\n",
       "34       11.37\n",
       "         ...  \n",
       "16703     0.01\n",
       "16707     0.01\n",
       "16710     0.01\n",
       "16712     0.01\n",
       "16714     0.01\n",
       "Name: regions_sales, Length: 2886, dtype: float64"
      ]
     },
     "execution_count": 27,
     "metadata": {},
     "output_type": "execute_result"
    }
   ],
   "source": [
    "current_data['regions_sales'] = current_data['na_sales'] + current_data['eu_sales'] + current_data['jp_sales']\n",
    "current_data['regions_sales']"
   ]
  },
  {
   "cell_type": "code",
   "execution_count": 87,
   "id": "35e31a1f-b368-42c1-9b62-22780249b6d7",
   "metadata": {},
   "outputs": [
    {
     "data": {
      "image/png": "[encoded data removed]",
      "text/plain": [
       "<Figure size 432x288 with 1 Axes>"
      ]
     },
     "metadata": {
      "needs_background": "light"
     },
     "output_type": "display_data"
    }
   ],
   "source": [
    "current_data_esrb = current_data.pivot_table(index = 'rating', values = ['eu_sales','jp_sales','na_sales'], aggfunc = 'sum')\n",
    "current_data_esrb.plot(kind='bar')\n",
    "plt.title(\"Продажи от рейтинга в разных регионах\")\n",
    "plt.ylabel(\"Продажи\")\n",
    "plt.xlabel(\"Рейтинг\")\n",
    "None"
   ]
  },
  {
   "cell_type": "markdown",
   "id": "8389179e-b303-4e50-abcf-5fbcf3a27d29",
   "metadata": {},
   "source": [
    "Можно сделать вывод, что рейтинг ESRB влияет на продажу игр только в Америке и Европе. Японцы на этот рейтинг не ориентируются."
   ]
  },
  {
   "cell_type": "markdown",
   "id": "f2101f38",
   "metadata": {},
   "source": [
    "Топовые продажи в Японии Приходятся на средние по продажам рейтиги в европе и америке - Е и Т. В свою очередь самый топовый по продажам рейтинг Т в японии показывает чуть ли не худшие продажи в дургих странах, на равне с рейтингом Е10+, который показывает плохие продажи во всех странах. Учитывая что М это рейтинг для более жестоких игр, можно сделать вывод что в европе и америке больше любят жестокие игры. Рейтинг Т который популярен в Японии это рейтинг 13+."
   ]
  },
  {
   "cell_type": "markdown",
   "id": "ad19acd0-9e51-4fd5-b5a3-2d35e9503362",
   "metadata": {},
   "source": [
    "## Вывод по шаг 4"
   ]
  },
  {
   "cell_type": "markdown",
   "id": "6de08ea1-1a9e-4e51-8b3a-3a2be804dfcb",
   "metadata": {},
   "source": [
    "Как мы видим, регионы сильно отличаются по популярности платформ.  \n",
    "Америка предпочитает американские X-box, однако и PS в Америке пользуется популярностью.  \n",
    "В японии самую большую популярность завоевала японская Nintendo, а ней идет доминация также японской PS, а на пятом месте отсутсвующая в других регионах в топе тоже японская Wiiu. В этом плане японцев можно считать большими патриотами.  \n",
    "В Европе больше всего пользуются PS которая существенно опережает идущую за ней Xbox.  \n",
    "Можно сделать вывод, что игроки из разных стран предпочитают отечественные консоли.\n"
   ]
  },
  {
   "cell_type": "markdown",
   "id": "df3a19fe-9a2e-4f6a-97b7-e99e42bc8dd4",
   "metadata": {},
   "source": [
    "Вкус у игроков из Амереки и из Европы практически полностью совпадают. Думаю это связано с похожим 'западным' менталитетом. А вот японские вкусы довольно специфичны. Известный факт что японцы любят ролевые игры, поэтому факт их первенства в этой стране кажется очевидным. На втором месте в японии популярный во всем мире жанр экш. Остальные места занимают непопулярные в остальном мире жанры, думаю это связано со спецификой менталитета."
   ]
  },
  {
   "cell_type": "markdown",
   "id": "192fd149-f0ba-4aad-b1b9-99f051251a07",
   "metadata": {},
   "source": [
    "Можно сделать вывод, что рейтинг ESRB влияет на продажу игр только в Америке и Европе. Японцы на этот рейтинг не ориентируются."
   ]
  },
  {
   "cell_type": "markdown",
   "id": "1b033783-6cc5-4e0a-9231-f8f99dc77de7",
   "metadata": {},
   "source": [
    "# Шаг 5. Проверка гипотез."
   ]
  },
  {
   "cell_type": "markdown",
   "id": "84d2d826-4041-4a86-951f-e9437d8d8115",
   "metadata": {},
   "source": [
    "### Нулевая гипотеза: Средние пользовательские оценки платформ Xone и PC одинаковые. Альтернативная гипотеза: Средние пользовательские оценки платформ Xone и PC не одинаковые."
   ]
  },
  {
   "cell_type": "code",
   "execution_count": 90,
   "id": "f1a6c99b-6636-456e-a717-9d37d3e5da9f",
   "metadata": {},
   "outputs": [
    {
     "name": "stdout",
     "output_type": "stream",
     "text": [
      "count    182.000000\n",
      "mean       6.521429\n",
      "std        1.380941\n",
      "min        1.600000\n",
      "25%        5.800000\n",
      "50%        6.800000\n",
      "75%        7.500000\n",
      "max        9.200000\n",
      "Name: user_score, dtype: float64\n"
     ]
    },
    {
     "data": {
      "image/png": "[encoded data removed]",
      "text/plain": [
       "<Figure size 432x288 with 1 Axes>"
      ]
     },
     "metadata": {
      "needs_background": "light"
     },
     "output_type": "display_data"
    }
   ],
   "source": [
    "current_data_xbox = current_data.query('platform == \"XOne\" & user_score>0')\n",
    "print(current_data_xbox['user_score'].describe())          \n",
    "current_data_xbox['user_score'].hist(bins=25)\n",
    "plt.title(\"Оценки игроков для Xone\")\n",
    "plt.ylabel(\"Количество оценок\")\n",
    "plt.xlabel(\"Оценки\")\n",
    "None"
   ]
  },
  {
   "cell_type": "code",
   "execution_count": 91,
   "id": "cbf3a473-f92f-43fd-acc4-cf0866ff42ac",
   "metadata": {},
   "outputs": [
    {
     "name": "stdout",
     "output_type": "stream",
     "text": [
      "count    206.000000\n",
      "mean       6.428641\n",
      "std        1.664465\n",
      "min        1.400000\n",
      "25%        5.500000\n",
      "50%        6.800000\n",
      "75%        7.700000\n",
      "max        9.300000\n",
      "Name: user_score, dtype: float64\n"
     ]
    },
    {
     "data": {
      "image/png": "[encoded data removed]",
      "text/plain": [
       "<Figure size 432x288 with 1 Axes>"
      ]
     },
     "metadata": {
      "needs_background": "light"
     },
     "output_type": "display_data"
    }
   ],
   "source": [
    "current_data_pc = current_data.query('platform == \"PC\" & user_score>0')\n",
    "print(current_data_pc['user_score'].describe())          \n",
    "current_data_pc['user_score'].hist(bins=25)\n",
    "plt.title(\"Оценки игроков для PC\")\n",
    "plt.ylabel(\"Количество оценок\")\n",
    "plt.xlabel(\"Оценки\")\n",
    "None"
   ]
  },
  {
   "cell_type": "code",
   "execution_count": 31,
   "id": "46f6e17b-64c6-4e1c-a9db-16cab19c2c20",
   "metadata": {},
   "outputs": [
    {
     "name": "stdout",
     "output_type": "stream",
     "text": [
      "p-значение: 0.5535080500643661\n",
      "Не получилось отвергнуть нулевую гипотезу\n"
     ]
    }
   ],
   "source": [
    "alpha = 0.05\n",
    "\n",
    "results = st.ttest_ind(current_data_xbox['user_score'], current_data_pc['user_score'])\n",
    "\n",
    "print('p-значение:', results.pvalue)\n",
    "\n",
    "\n",
    "if (results.pvalue < alpha):\n",
    "    print(\"Отвергаем нулевую гипотезу\")\n",
    "else:\n",
    "    print(\"Не получилось отвергнуть нулевую гипотезу\")"
   ]
  },
  {
   "cell_type": "markdown",
   "id": "49fd5aa0-6eb0-4148-a024-66aec885101e",
   "metadata": {},
   "source": [
    "значение pvalue гораздо выше уровня статистической значимости,значит гипотезу отвергнуть не получилось. Оценки у этих двух платформ не так уж сильно разничаются"
   ]
  },
  {
   "cell_type": "markdown",
   "id": "8ada7e54-59e5-4875-af1e-2c673397e6a5",
   "metadata": {},
   "source": [
    "### Нулевая гипотеза: Средние пользовательские оценки жанров action и sport одинаковые. Альтернативная гипотеза: Средние пользовательские оценки жанров action и sport не одинаковые."
   ]
  },
  {
   "cell_type": "code",
   "execution_count": 92,
   "id": "bdd30f57-f51d-401b-9ed3-8706a6eb650a",
   "metadata": {},
   "outputs": [
    {
     "name": "stdout",
     "output_type": "stream",
     "text": [
      "count    523.000000\n",
      "mean       6.825048\n",
      "std        1.374440\n",
      "min        1.600000\n",
      "25%        6.250000\n",
      "50%        7.100000\n",
      "75%        7.800000\n",
      "max        9.100000\n",
      "Name: user_score, dtype: float64\n"
     ]
    },
    {
     "data": {
      "image/png": "[encoded data removed]",
      "text/plain": [
       "<Figure size 432x288 with 1 Axes>"
      ]
     },
     "metadata": {
      "needs_background": "light"
     },
     "output_type": "display_data"
    }
   ],
   "source": [
    "current_data_action = current_data.query('genre == \"Action\" & user_score>0')\n",
    "print(current_data_action['user_score'].describe())          \n",
    "current_data_action['user_score'].hist(bins=25)\n",
    "plt.title(\"Оценки игроков для Action\")\n",
    "plt.ylabel(\"Количество оценок\")\n",
    "plt.xlabel(\"Оценки\")\n",
    "None"
   ]
  },
  {
   "cell_type": "code",
   "execution_count": 93,
   "id": "6615e27c-97ba-4747-abba-1811f059bb4c",
   "metadata": {},
   "outputs": [
    {
     "name": "stdout",
     "output_type": "stream",
     "text": [
      "count    195.000000\n",
      "mean       5.455897\n",
      "std        1.738646\n",
      "min        0.200000\n",
      "25%        4.300000\n",
      "50%        5.700000\n",
      "75%        6.800000\n",
      "max        8.800000\n",
      "Name: user_score, dtype: float64\n"
     ]
    },
    {
     "data": {
      "image/png": "[encoded data removed]",
      "text/plain": [
       "<Figure size 432x288 with 1 Axes>"
      ]
     },
     "metadata": {
      "needs_background": "light"
     },
     "output_type": "display_data"
    }
   ],
   "source": [
    "current_data_sport = current_data.query('genre == \"Sports\" & user_score>0')\n",
    "print(current_data_sport['user_score'].describe())          \n",
    "current_data_sport['user_score'].hist(bins=25)\n",
    "plt.title(\"Оценки игроков для Sport\")\n",
    "plt.ylabel(\"Количество оценок\")\n",
    "plt.xlabel(\"Оценки\")\n",
    "None"
   ]
  },
  {
   "cell_type": "code",
   "execution_count": 34,
   "id": "c5512cd5-69bb-455f-8a9d-37a66a94cd86",
   "metadata": {},
   "outputs": [
    {
     "name": "stdout",
     "output_type": "stream",
     "text": [
      "p-значение: 3.7163089460934874e-26\n",
      "Отвергаем нулевую гипотезу\n"
     ]
    }
   ],
   "source": [
    "alpha = 0.05\n",
    "\n",
    "results = st.ttest_ind(current_data_action['user_score'], current_data_sport['user_score'])\n",
    "\n",
    "print('p-значение:', results.pvalue)\n",
    "\n",
    "\n",
    "if (results.pvalue < alpha):\n",
    "    print(\"Отвергаем нулевую гипотезу\")\n",
    "else:\n",
    "    print(\"Не получилось отвергнуть нулевую гипотезу\")"
   ]
  },
  {
   "cell_type": "markdown",
   "id": "7c9b5061-3911-4ccb-a36e-f54b9a03b8f8",
   "metadata": {},
   "source": [
    "### Вывод по шаг 5"
   ]
  },
  {
   "cell_type": "markdown",
   "id": "752a81e7-3324-42bf-8dde-f7e4b4910958",
   "metadata": {},
   "source": [
    "У первой гипотезы значение pvalue гораздо выше уровня статистической значимости,значит гипотезу отвергнуть не получилось. Оценки у этих двух платформ не так уж сильно разничаются"
   ]
  },
  {
   "cell_type": "markdown",
   "id": "4ca76d34-79ba-4a83-bdd6-f5ef274cf695",
   "metadata": {},
   "source": [
    "У второй гипотезы значение pvalue гораздо ниже уровня статистической значимости, значит гипотезу необходимо отвергнуть. Оценки игр этих жанров очень сильно различаются. Вычислив среднее значение этих выборок, хочется отметить что у игр в жанре спорт в среднем на полтора балла оценка ниже."
   ]
  },
  {
   "cell_type": "markdown",
   "id": "d237e133-3d16-4d06-994a-444463032cd1",
   "metadata": {},
   "source": [
    "# Вывод"
   ]
  },
  {
   "cell_type": "markdown",
   "id": "c8e3692c-abba-4325-9f68-88d2a8b737dd",
   "metadata": {},
   "source": [
    "В ходе предобработки данных назнания столбцов были приведены к нижнему регистру, удалены строки с пропусками в колонке с названием игры, изменены типы данных некоторых столбцов, добавлена колонка с суммарными продажами по каждой игре."
   ]
  },
  {
   "cell_type": "markdown",
   "id": "0faa5821",
   "metadata": {},
   "source": [
    "Также была проведена работа по удалению полных и неполных дубликатов."
   ]
  },
  {
   "cell_type": "markdown",
   "id": "ced5fa03-b9ff-43ad-884b-ef4201fcc8f3",
   "metadata": {},
   "source": [
    "Была проведена работа по изучению столбцов и сделаны следующие шаги:"
   ]
  },
  {
   "cell_type": "markdown",
   "id": "bf358118-a6a3-4925-92fc-c3635014c049",
   "metadata": {},
   "source": [
    "1. Данные 1993 были рассмотрены как выбросы и удалены.\n",
    "2. В среднем, платформа \"живет\" около восьми лет. Разумеется бывают более короткие и более длиные периоды их жизни.\n",
    "3. Были рассмотрены данные за актуальный период. Период я считал актуальным взяв половину срока жизни платформ, чтобы исключить платформы срок жизни которых подходит к концу.\n",
    "4. Были выявлены 2 наиболее перспективные платформы, это Xone и PS4.\n",
    "5. Была выявлена умеренная корреляция количества продаж игры от оценки критиков.\n",
    "6. Самые прибыльные жанры это Action, shooter и Role-Playing игры. Самые не прибыльные это пазлы и спортивные игры."
   ]
  },
  {
   "cell_type": "markdown",
   "id": "c3a5416e-efb2-4fb9-a0ca-c68a98379d42",
   "metadata": {},
   "source": [
    "Был нарисован портрет типичного пользователя для каждого региона. На продажи в регионах влияются следующие параметры: платформа, на которой выпускается игра; жанр игры; рейтинг критиков. Также для европы и америки значение имеет рейтинг ESRB."
   ]
  },
  {
   "cell_type": "markdown",
   "id": "16ee611f",
   "metadata": {},
   "source": [
    "Топовые продажи в Японии Приходятся на средние по продажам рейтиги в европе и америке - Е и Т. В свою очередь самый топовый по продажам рейтинг Т в японии показывает чуть ли не худшие продажи в дургих странах, на равне с рейтингом Е10+, который показывает плохие продажи во всех странах. Учитывая что М это рейтинг для более жестоких игр, можно сделать вывод что в европе и америке больше любят жестокие игры. Рейтинг Т который популярен в Японии это рейтинг 13+."
   ]
  },
  {
   "cell_type": "markdown",
   "id": "7a7b5283",
   "metadata": {},
   "source": [
    "Вкус у игроков из Амереки и из Европы практически полностью совпадают. Думаю это связано с похожим 'западным' менталитетом. А вот японские вкусы довольно специфичны. Известный факт что японцы любят ролевые игры, поэтому факт их первенства в этой стране кажется очевидным. На втором месте в японии популярный во всем мире жанр экш. Остальные места занимают непопулярные в остальном мире жанры, думаю это связано со спецификой менталитета."
   ]
  },
  {
   "cell_type": "markdown",
   "id": "72dc4ee2",
   "metadata": {},
   "source": [
    "Регионы сильно отличаются по популярности платформ.  \n",
    "Америка предпочитает американские X-box, однако и PS в Америке пользуется популярностью.  \n",
    "В японии самую большую популярность завоевала японская Nintendo, а ней идет доминация также японской PS, а на пятом месте отсутсвующая в других регионах в топе тоже японская Wiiu. В этом плане японцев можно считать большими патриотами.  \n",
    "В Европе больше всего пользуются PS которая существенно опережает идущую за ней Xbox.  \n",
    "Можно сделать вывод, что игроки из разных стран предпочитают отечественные консоли.\n"
   ]
  },
  {
   "cell_type": "markdown",
   "id": "0d3280f7-176a-4200-87d2-b4836b959cb6",
   "metadata": {},
   "source": [
    "Таким образом идеальная игра для японца будет выпускаться на 3DS, жанра ролевой игры.  \n",
    "Идеальная игра для европейца это экшн на PS4 с рейтингом М.  \n",
    "Идеальная игра для американца это экшн на XOne с рейтигом М."
   ]
  },
  {
   "cell_type": "markdown",
   "id": "f595a85a-ce85-420d-b3ab-8fb1e4a631e6",
   "metadata": {},
   "source": [
    "Также было предположено и проверено, что оценки у платформ PC и PS4 почти одинаковые, а также что у жанров Action и Sports оценки очень сильно отличаются. В среднем Action имеет на 1.5 балла больше чем Sports"
   ]
  },
  {
   "cell_type": "markdown",
   "id": "eebbabea",
   "metadata": {},
   "source": [
    "Думаю в следующих исследования было бы интересно посмотреть на то как менялись оценки зритетей и критиков в зависимости от года, а также посмотреть менялось ли влияние этиъ оценок на продажи по годам"
   ]
  },
  {
   "cell_type": "code",
   "execution_count": null,
   "id": "9a564e63",
   "metadata": {},
   "outputs": [],
   "source": []
  }
 ],
 "metadata": {
  "ExecuteTimeLog": [
   {
    "duration": 1229,
    "start_time": "2023-11-24T08:14:54.749Z"
   },
   {
    "duration": 169,
    "start_time": "2023-11-24T08:14:55.980Z"
   },
   {
    "duration": 0,
    "start_time": "2023-11-24T08:14:56.151Z"
   },
   {
    "duration": 1,
    "start_time": "2023-11-24T08:14:56.152Z"
   },
   {
    "duration": 0,
    "start_time": "2023-11-24T08:14:56.154Z"
   },
   {
    "duration": 0,
    "start_time": "2023-11-24T08:14:56.154Z"
   },
   {
    "duration": 0,
    "start_time": "2023-11-24T08:14:56.155Z"
   },
   {
    "duration": 0,
    "start_time": "2023-11-24T08:14:56.156Z"
   },
   {
    "duration": 0,
    "start_time": "2023-11-24T08:14:56.158Z"
   },
   {
    "duration": 0,
    "start_time": "2023-11-24T08:14:56.173Z"
   },
   {
    "duration": 0,
    "start_time": "2023-11-24T08:14:56.174Z"
   },
   {
    "duration": 0,
    "start_time": "2023-11-24T08:14:56.175Z"
   },
   {
    "duration": 0,
    "start_time": "2023-11-24T08:14:56.176Z"
   },
   {
    "duration": 0,
    "start_time": "2023-11-24T08:14:56.177Z"
   },
   {
    "duration": 0,
    "start_time": "2023-11-24T08:14:56.178Z"
   },
   {
    "duration": 0,
    "start_time": "2023-11-24T08:14:56.179Z"
   },
   {
    "duration": 0,
    "start_time": "2023-11-24T08:14:56.180Z"
   },
   {
    "duration": 0,
    "start_time": "2023-11-24T08:14:56.181Z"
   },
   {
    "duration": 0,
    "start_time": "2023-11-24T08:14:56.182Z"
   },
   {
    "duration": 0,
    "start_time": "2023-11-24T08:14:56.183Z"
   },
   {
    "duration": 0,
    "start_time": "2023-11-24T08:14:56.184Z"
   },
   {
    "duration": 0,
    "start_time": "2023-11-24T08:14:56.185Z"
   },
   {
    "duration": 0,
    "start_time": "2023-11-24T08:14:56.186Z"
   },
   {
    "duration": 0,
    "start_time": "2023-11-24T08:14:56.187Z"
   },
   {
    "duration": 0,
    "start_time": "2023-11-24T08:14:56.188Z"
   },
   {
    "duration": 0,
    "start_time": "2023-11-24T08:14:56.189Z"
   },
   {
    "duration": 0,
    "start_time": "2023-11-24T08:14:56.190Z"
   },
   {
    "duration": 0,
    "start_time": "2023-11-24T08:14:56.191Z"
   },
   {
    "duration": 0,
    "start_time": "2023-11-24T08:14:56.192Z"
   },
   {
    "duration": 0,
    "start_time": "2023-11-24T08:14:56.193Z"
   },
   {
    "duration": 0,
    "start_time": "2023-11-24T08:14:56.194Z"
   },
   {
    "duration": 0,
    "start_time": "2023-11-24T08:14:56.195Z"
   },
   {
    "duration": 0,
    "start_time": "2023-11-24T08:14:56.196Z"
   },
   {
    "duration": 0,
    "start_time": "2023-11-24T08:14:56.197Z"
   },
   {
    "duration": 1020,
    "start_time": "2023-11-25T08:23:09.519Z"
   },
   {
    "duration": 223,
    "start_time": "2023-11-25T08:23:13.632Z"
   },
   {
    "duration": 17,
    "start_time": "2023-11-25T08:23:14.380Z"
   },
   {
    "duration": 14,
    "start_time": "2023-11-25T08:23:17.921Z"
   },
   {
    "duration": 3,
    "start_time": "2023-11-25T08:23:19.526Z"
   },
   {
    "duration": 6,
    "start_time": "2023-11-25T08:23:20.217Z"
   },
   {
    "duration": 8,
    "start_time": "2023-11-25T08:23:20.935Z"
   },
   {
    "duration": 5,
    "start_time": "2023-11-25T08:23:21.268Z"
   },
   {
    "duration": 9,
    "start_time": "2023-11-25T08:23:22.012Z"
   },
   {
    "duration": 8,
    "start_time": "2023-11-25T08:23:22.375Z"
   },
   {
    "duration": 7,
    "start_time": "2023-11-25T08:23:23.164Z"
   },
   {
    "duration": 183,
    "start_time": "2023-11-25T08:23:24.874Z"
   },
   {
    "duration": 106,
    "start_time": "2023-11-25T08:23:25.214Z"
   },
   {
    "duration": 6,
    "start_time": "2023-11-25T08:23:25.852Z"
   },
   {
    "duration": 14,
    "start_time": "2023-11-25T08:23:26.510Z"
   },
   {
    "duration": 141,
    "start_time": "2023-11-25T08:23:26.797Z"
   },
   {
    "duration": 1495,
    "start_time": "2023-11-25T08:23:27.105Z"
   },
   {
    "duration": 20,
    "start_time": "2023-11-25T08:23:28.602Z"
   },
   {
    "duration": 244,
    "start_time": "2023-11-25T08:23:28.623Z"
   },
   {
    "duration": 287,
    "start_time": "2023-11-25T08:23:29.613Z"
   },
   {
    "duration": 138,
    "start_time": "2023-11-25T08:23:31.009Z"
   },
   {
    "duration": 9,
    "start_time": "2023-11-25T08:23:31.280Z"
   },
   {
    "duration": 14,
    "start_time": "2023-11-25T08:23:31.911Z"
   },
   {
    "duration": 303,
    "start_time": "2023-11-25T08:23:33.016Z"
   },
   {
    "duration": 370,
    "start_time": "2023-11-25T08:23:35.035Z"
   },
   {
    "duration": 395,
    "start_time": "2023-11-25T08:23:36.150Z"
   },
   {
    "duration": 10,
    "start_time": "2023-11-25T08:23:37.219Z"
   },
   {
    "duration": 137,
    "start_time": "2023-11-25T08:23:37.535Z"
   },
   {
    "duration": 146,
    "start_time": "2023-11-25T08:23:42.199Z"
   },
   {
    "duration": 145,
    "start_time": "2023-11-25T08:23:42.576Z"
   },
   {
    "duration": 5,
    "start_time": "2023-11-25T08:23:42.928Z"
   },
   {
    "duration": 229,
    "start_time": "2023-11-25T08:23:44.051Z"
   },
   {
    "duration": 137,
    "start_time": "2023-11-25T08:23:44.433Z"
   },
   {
    "duration": 5,
    "start_time": "2023-11-25T08:23:44.800Z"
   },
   {
    "duration": 9,
    "start_time": "2023-11-25T08:48:44.891Z"
   },
   {
    "duration": 8,
    "start_time": "2023-11-25T08:48:47.810Z"
   },
   {
    "duration": 71,
    "start_time": "2023-11-25T08:58:08.231Z"
   },
   {
    "duration": 77,
    "start_time": "2023-11-25T09:33:48.364Z"
   },
   {
    "duration": 3,
    "start_time": "2023-11-25T09:34:10.774Z"
   },
   {
    "duration": 82,
    "start_time": "2023-11-25T09:34:55.165Z"
   },
   {
    "duration": 9,
    "start_time": "2023-11-25T09:37:06.745Z"
   },
   {
    "duration": 111,
    "start_time": "2023-11-25T10:06:03.454Z"
   },
   {
    "duration": 15,
    "start_time": "2023-11-25T10:06:07.752Z"
   },
   {
    "duration": 23,
    "start_time": "2023-11-25T10:06:24.832Z"
   },
   {
    "duration": 35,
    "start_time": "2023-11-25T10:07:46.411Z"
   },
   {
    "duration": 14,
    "start_time": "2023-11-25T10:07:54.933Z"
   },
   {
    "duration": 14,
    "start_time": "2023-11-25T10:08:00.532Z"
   },
   {
    "duration": 5,
    "start_time": "2023-11-25T10:08:32.683Z"
   },
   {
    "duration": 7,
    "start_time": "2023-11-25T10:09:52.062Z"
   },
   {
    "duration": 34,
    "start_time": "2023-11-25T10:12:15.592Z"
   },
   {
    "duration": 19,
    "start_time": "2023-11-25T10:12:18.723Z"
   },
   {
    "duration": 8,
    "start_time": "2023-11-25T10:12:23.522Z"
   },
   {
    "duration": 25,
    "start_time": "2023-11-25T10:12:26.645Z"
   },
   {
    "duration": 1927,
    "start_time": "2023-11-25T10:14:18.672Z"
   },
   {
    "duration": 0,
    "start_time": "2023-11-25T10:14:20.601Z"
   },
   {
    "duration": 1872,
    "start_time": "2023-11-25T10:15:25.111Z"
   },
   {
    "duration": 1773,
    "start_time": "2023-11-25T10:15:37.610Z"
   },
   {
    "duration": 16,
    "start_time": "2023-11-25T10:15:49.392Z"
   },
   {
    "duration": 30,
    "start_time": "2023-11-25T10:17:44.713Z"
   },
   {
    "duration": 15,
    "start_time": "2023-11-25T10:17:49.553Z"
   },
   {
    "duration": 7,
    "start_time": "2023-11-25T10:17:53.992Z"
   },
   {
    "duration": 32,
    "start_time": "2023-11-25T10:17:55.561Z"
   },
   {
    "duration": 167,
    "start_time": "2023-11-25T10:21:42.852Z"
   },
   {
    "duration": 160,
    "start_time": "2023-11-25T10:22:08.752Z"
   },
   {
    "duration": 14,
    "start_time": "2023-11-25T10:22:45.599Z"
   },
   {
    "duration": 21,
    "start_time": "2023-11-25T10:23:42.270Z"
   },
   {
    "duration": 163,
    "start_time": "2023-11-25T10:24:27.755Z"
   },
   {
    "duration": 172,
    "start_time": "2023-11-25T10:25:39.301Z"
   },
   {
    "duration": 176,
    "start_time": "2023-11-25T10:25:45.743Z"
   },
   {
    "duration": 1812,
    "start_time": "2023-11-25T10:25:53.483Z"
   },
   {
    "duration": 117,
    "start_time": "2023-11-25T10:26:03.514Z"
   },
   {
    "duration": 1724,
    "start_time": "2023-11-25T10:26:51.401Z"
   },
   {
    "duration": 256,
    "start_time": "2023-11-25T10:28:05.581Z"
   },
   {
    "duration": 79,
    "start_time": "2023-11-25T10:43:00.491Z"
   },
   {
    "duration": 148,
    "start_time": "2023-11-25T10:59:13.644Z"
   },
   {
    "duration": 260,
    "start_time": "2023-11-25T11:01:46.864Z"
   },
   {
    "duration": 159,
    "start_time": "2023-11-25T11:01:54.521Z"
   },
   {
    "duration": 140,
    "start_time": "2023-11-25T11:02:33.382Z"
   },
   {
    "duration": 149,
    "start_time": "2023-11-25T11:05:01.257Z"
   },
   {
    "duration": 8,
    "start_time": "2023-11-25T11:05:34.732Z"
   },
   {
    "duration": 11,
    "start_time": "2023-11-25T11:05:42.103Z"
   },
   {
    "duration": 135,
    "start_time": "2023-11-25T11:06:18.814Z"
   },
   {
    "duration": 134,
    "start_time": "2023-11-25T11:06:40.096Z"
   },
   {
    "duration": 159,
    "start_time": "2023-11-25T11:09:13.534Z"
   },
   {
    "duration": 10,
    "start_time": "2023-11-25T11:09:32.072Z"
   },
   {
    "duration": 148,
    "start_time": "2023-11-25T11:09:57.172Z"
   },
   {
    "duration": 125,
    "start_time": "2023-11-25T11:10:12.260Z"
   },
   {
    "duration": 299,
    "start_time": "2023-11-25T11:16:19.234Z"
   },
   {
    "duration": 83,
    "start_time": "2023-11-25T11:21:13.565Z"
   },
   {
    "duration": 162,
    "start_time": "2023-11-25T11:25:42.439Z"
   },
   {
    "duration": 240,
    "start_time": "2023-11-25T11:30:42.303Z"
   },
   {
    "duration": 173,
    "start_time": "2023-11-25T11:32:00.125Z"
   },
   {
    "duration": 179,
    "start_time": "2023-11-25T11:32:30.858Z"
   },
   {
    "duration": 159,
    "start_time": "2023-11-25T11:32:59.691Z"
   },
   {
    "duration": 157,
    "start_time": "2023-11-25T11:33:48.452Z"
   },
   {
    "duration": 169,
    "start_time": "2023-11-25T11:33:57.742Z"
   },
   {
    "duration": 161,
    "start_time": "2023-11-26T20:22:30.429Z"
   },
   {
    "duration": 1313,
    "start_time": "2024-04-08T10:04:43.314Z"
   }
  ],
  "kernelspec": {
   "display_name": "Python 3 (ipykernel)",
   "language": "python",
   "name": "python3"
  },
  "language_info": {
   "codemirror_mode": {
    "name": "ipython",
    "version": 3
   },
   "file_extension": ".py",
   "mimetype": "text/x-python",
   "name": "python",
   "nbconvert_exporter": "python",
   "pygments_lexer": "ipython3",
   "version": "3.9.5"
  },
  "toc": {
   "base_numbering": 1,
   "nav_menu": {},
   "number_sections": true,
   "sideBar": true,
   "skip_h1_title": true,
   "title_cell": "Table of Contents",
   "title_sidebar": "Contents",
   "toc_cell": false,
   "toc_position": {
    "height": "calc(100% - 180px)",
    "left": "10px",
    "top": "150px",
    "width": "361.391px"
   },
   "toc_section_display": true,
   "toc_window_display": true
  }
 },
 "nbformat": 4,
 "nbformat_minor": 5
}
