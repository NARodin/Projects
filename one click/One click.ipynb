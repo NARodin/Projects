{
 "cells": [
  {
   "cell_type": "markdown",
   "metadata": {
    "id": "H6cQIZr3ElW1"
   },
   "source": [
    "## Описание проекта"
   ]
  },
  {
   "cell_type": "markdown",
   "metadata": {},
   "source": [
    "Интернет-магазин «В один клик» продаёт разные товары: для детей, для дома, мелкую бытовую технику, косметику и даже продукты. Отчёт магазина за прошлый период показал, что активность покупателей начала снижаться. Привлекать новых клиентов уже не так эффективно: о магазине и так знает большая часть целевой аудитории. Возможный выход — удерживать активность постоянных клиентов. Сделать это можно с помощью персонализированных предложений.  \n",
    "  \n",
    "1. Нужно промаркировать уровень финансовой активности постоянных покупателей. В компании принято выделять два уровня активности: «снизилась», если клиент стал покупать меньше товаров, и «прежний уровень».\n",
    "2. Нужно собрать данные по клиентам по следующим группам:\n",
    "Признаки, которые описывают коммуникацию сотрудников компании с клиентом.\n",
    "Признаки, которые описывают продуктовое поведение покупателя. Например, какие товары покупает и как часто.\n",
    "Признаки, которые описывают покупательское поведение клиента. Например, сколько тратил в магазине.\n",
    "Признаки, которые описывают поведение покупателя на сайте. Например, как много страниц просматривает и сколько времени проводит на сайте.    \n",
    "  \n",
    "Нужно построить модель, которая предскажет вероятность снижения покупательской активности клиента в следующие три месяца.  \n",
    "В исследование нужно включить дополнительные данные финансового департамента о прибыльности клиента: какой доход каждый покупатель приносил компании за последние три месяца.  \n",
    "Используя данные модели и данные о прибыльности клиентов, нужно выделить сегменты покупателей и разработать для них персонализированные предложения.  "
   ]
  },
  {
   "cell_type": "markdown",
   "metadata": {},
   "source": [
    "## Описание данных"
   ]
  },
  {
   "cell_type": "markdown",
   "metadata": {},
   "source": [
    "market_file.csv  \n",
    "Таблица, которая содержит данные о поведении покупателя на сайте, о коммуникациях с покупателем и его продуктовом поведении.  \n",
    "id — номер покупателя в корпоративной базе данных.  \n",
    "Покупательская активность — рассчитанный класс покупательской активности (целевой признак): «снизилась» или «прежний уровень».  \n",
    "Тип сервиса — уровень сервиса, например «премиум» и «стандарт».  \n",
    "Разрешить сообщать — информация о том, можно ли присылать покупателю дополнительные предложения о товаре. Согласие на это даёт покупатель.  \n",
    "Маркет_актив_6_мес — среднемесячное значение маркетинговых коммуникаций компании, которое приходилось на покупателя за последние 6 месяцев. Это значение показывает, какое число рассылок, звонков, показов рекламы и прочего приходилось на клиента.  \n",
    "Маркет_актив_тек_мес — количество маркетинговых коммуникаций в текущем месяце.  \n",
    "Длительность — значение, которое показывает, сколько дней прошло с момента регистрации покупателя на сайте.  \n",
    "Акционные_покупки — среднемесячная доля покупок по акции от общего числа покупок за последние 6 месяцев.  \n",
    "Популярная_категория — самая популярная категория товаров у покупателя за последние 6 месяцев.  \n",
    "Средний_просмотр_категорий_за_визит — показывает, сколько в среднем категорий покупатель просмотрел за визит в течение последнего месяца.  \n",
    "Неоплаченные_продукты_штук_квартал — общее число неоплаченных товаров в корзине за последние 3 месяца.  \n",
    "Ошибка_сервиса — число сбоев, которые коснулись покупателя во время посещения сайта.  \n",
    "Страниц_за_визит — среднее количество страниц, которые просмотрел покупатель за один визит на сайт за последние 3 месяца.  \n",
    "  \n",
    "market_money.csv  \n",
    "Таблица с данными о выручке, которую получает магазин с покупателя, то есть сколько покупатель всего потратил за период взаимодействия с сайтом.  \n",
    "id — номер покупателя в корпоративной базе данных.  \n",
    "Период — название периода, во время которого зафиксирована выручка. Например, 'текущий_месяц' или 'предыдущий_месяц'.  \n",
    "Выручка — сумма выручки за период.  \n",
    "  \n",
    "market_time.csv  \n",
    "Таблица с данными о времени (в минутах), которое покупатель провёл на сайте в течение периода.  \n",
    "id — номер покупателя в корпоративной базе данных.  \n",
    "Период — название периода, во время которого зафиксировано общее время.  \n",
    "минут — значение времени, проведённого на сайте, в минутах.  \n",
    "    \n",
    "money.csv  \n",
    "Таблица с данными о среднемесячной прибыли покупателя за последние 3 месяца: какую прибыль получает магазин от продаж каждому покупателю.  \n",
    "id — номер покупателя в корпоративной базе данных.  \n",
    "Прибыль — значение прибыли.  "
   ]
  },
  {
   "cell_type": "markdown",
   "metadata": {},
   "source": [
    "## Загрузка данных"
   ]
  },
  {
   "cell_type": "code",
   "execution_count": 1,
   "metadata": {
    "scrolled": true
   },
   "outputs": [],
   "source": [
    "!pip install shap -q # -q убирает необязательные выводы в командах Linux"
   ]
  },
  {
   "cell_type": "code",
   "execution_count": 2,
   "metadata": {},
   "outputs": [
    {
     "name": "stdout",
     "output_type": "stream",
     "text": [
      "Collecting phik\n",
      "  Downloading phik-0.12.4-cp39-cp39-manylinux_2_17_x86_64.manylinux2014_x86_64.whl (686 kB)\n",
      "\u001b[K     |████████████████████████████████| 686 kB 2.2 MB/s eta 0:00:01\n",
      "\u001b[?25hRequirement already satisfied: matplotlib>=2.2.3 in /opt/conda/lib/python3.9/site-packages (from phik) (3.3.4)\n",
      "Requirement already satisfied: joblib>=0.14.1 in /opt/conda/lib/python3.9/site-packages (from phik) (1.1.0)\n",
      "Requirement already satisfied: pandas>=0.25.1 in /opt/conda/lib/python3.9/site-packages (from phik) (1.2.4)\n",
      "Requirement already satisfied: numpy>=1.18.0 in /opt/conda/lib/python3.9/site-packages (from phik) (1.21.1)\n",
      "Requirement already satisfied: scipy>=1.5.2 in /opt/conda/lib/python3.9/site-packages (from phik) (1.9.1)\n",
      "Requirement already satisfied: pyparsing!=2.0.4,!=2.1.2,!=2.1.6,>=2.0.3 in /opt/conda/lib/python3.9/site-packages (from matplotlib>=2.2.3->phik) (2.4.7)\n",
      "Requirement already satisfied: kiwisolver>=1.0.1 in /opt/conda/lib/python3.9/site-packages (from matplotlib>=2.2.3->phik) (1.4.4)\n",
      "Requirement already satisfied: python-dateutil>=2.1 in /opt/conda/lib/python3.9/site-packages (from matplotlib>=2.2.3->phik) (2.8.1)\n",
      "Requirement already satisfied: pillow>=6.2.0 in /opt/conda/lib/python3.9/site-packages (from matplotlib>=2.2.3->phik) (8.4.0)\n",
      "Requirement already satisfied: cycler>=0.10 in /opt/conda/lib/python3.9/site-packages (from matplotlib>=2.2.3->phik) (0.11.0)\n",
      "Requirement already satisfied: pytz>=2017.3 in /opt/conda/lib/python3.9/site-packages (from pandas>=0.25.1->phik) (2021.1)\n",
      "Requirement already satisfied: six>=1.5 in /opt/conda/lib/python3.9/site-packages (from python-dateutil>=2.1->matplotlib>=2.2.3->phik) (1.16.0)\n",
      "Installing collected packages: phik\n",
      "Successfully installed phik-0.12.4\n"
     ]
    }
   ],
   "source": [
    "!pip install phik"
   ]
  },
  {
   "cell_type": "code",
   "execution_count": 3,
   "metadata": {},
   "outputs": [],
   "source": [
    "import pandas as pd\n",
    "import numpy as np\n",
    "import seaborn as sns\n",
    "from scipy import stats as st\n",
    "import math\n",
    "import matplotlib.pyplot as plt\n",
    "from sklearn.pipeline import Pipeline\n",
    "from sklearn.compose import ColumnTransformer\n",
    "from sklearn.model_selection import train_test_split\n",
    "from sklearn.cluster import KMeans\n",
    "import plotly\n",
    "from plotly.express import scatter\n",
    "\n",
    "from sklearn.preprocessing import OneHotEncoder, OrdinalEncoder, StandardScaler, MinMaxScaler, RobustScaler, LabelEncoder\n",
    "\n",
    "from sklearn.impute import SimpleImputer \n",
    "\n",
    "# загружаем функцию для работы с метриками\n",
    "from sklearn.metrics import roc_auc_score\n",
    "\n",
    "# импортируем класс RandomizedSearchCV\n",
    "from sklearn.model_selection import RandomizedSearchCV\n",
    "\n",
    "# загружаем нужные модели\n",
    "from sklearn.linear_model import LogisticRegression\n",
    "from sklearn.neighbors import KNeighborsClassifier\n",
    "from sklearn.tree import DecisionTreeClassifier\n",
    "from sklearn.svm import SVC\n",
    "\n",
    "from warnings import simplefilter\n",
    "\n",
    "import shap\n",
    "import phik"
   ]
  },
  {
   "cell_type": "code",
   "execution_count": 4,
   "metadata": {},
   "outputs": [],
   "source": [
    "data_file = pd.read_csv('/datasets/market_file.csv', sep=',')\n",
    "data_money = pd.read_csv('/datasets/market_money.csv', sep=',')\n",
    "data_time = pd.read_csv('/datasets/market_time.csv', sep=',')\n",
    "data_profit = pd.read_csv('/datasets/money.csv', sep=';', decimal = ',')"
   ]
  },
  {
   "cell_type": "code",
   "execution_count": 5,
   "metadata": {},
   "outputs": [
    {
     "data": {
      "text/html": [
       "<div>\n",
       "<style scoped>\n",
       "    .dataframe tbody tr th:only-of-type {\n",
       "        vertical-align: middle;\n",
       "    }\n",
       "\n",
       "    .dataframe tbody tr th {\n",
       "        vertical-align: top;\n",
       "    }\n",
       "\n",
       "    .dataframe thead th {\n",
       "        text-align: right;\n",
       "    }\n",
       "</style>\n",
       "<table border=\"1\" class=\"dataframe\">\n",
       "  <thead>\n",
       "    <tr style=\"text-align: right;\">\n",
       "      <th></th>\n",
       "      <th>id</th>\n",
       "      <th>Покупательская активность</th>\n",
       "      <th>Тип сервиса</th>\n",
       "      <th>Разрешить сообщать</th>\n",
       "      <th>Маркет_актив_6_мес</th>\n",
       "      <th>Маркет_актив_тек_мес</th>\n",
       "      <th>Длительность</th>\n",
       "      <th>Акционные_покупки</th>\n",
       "      <th>Популярная_категория</th>\n",
       "      <th>Средний_просмотр_категорий_за_визит</th>\n",
       "      <th>Неоплаченные_продукты_штук_квартал</th>\n",
       "      <th>Ошибка_сервиса</th>\n",
       "      <th>Страниц_за_визит</th>\n",
       "    </tr>\n",
       "  </thead>\n",
       "  <tbody>\n",
       "    <tr>\n",
       "      <th>0</th>\n",
       "      <td>215348</td>\n",
       "      <td>Снизилась</td>\n",
       "      <td>премиум</td>\n",
       "      <td>да</td>\n",
       "      <td>3.4</td>\n",
       "      <td>5</td>\n",
       "      <td>121</td>\n",
       "      <td>0.00</td>\n",
       "      <td>Товары для детей</td>\n",
       "      <td>6</td>\n",
       "      <td>2</td>\n",
       "      <td>1</td>\n",
       "      <td>5</td>\n",
       "    </tr>\n",
       "    <tr>\n",
       "      <th>1</th>\n",
       "      <td>215349</td>\n",
       "      <td>Снизилась</td>\n",
       "      <td>премиум</td>\n",
       "      <td>да</td>\n",
       "      <td>4.4</td>\n",
       "      <td>4</td>\n",
       "      <td>819</td>\n",
       "      <td>0.75</td>\n",
       "      <td>Товары для детей</td>\n",
       "      <td>4</td>\n",
       "      <td>4</td>\n",
       "      <td>2</td>\n",
       "      <td>5</td>\n",
       "    </tr>\n",
       "    <tr>\n",
       "      <th>2</th>\n",
       "      <td>215350</td>\n",
       "      <td>Снизилась</td>\n",
       "      <td>стандартт</td>\n",
       "      <td>нет</td>\n",
       "      <td>4.9</td>\n",
       "      <td>3</td>\n",
       "      <td>539</td>\n",
       "      <td>0.14</td>\n",
       "      <td>Домашний текстиль</td>\n",
       "      <td>5</td>\n",
       "      <td>2</td>\n",
       "      <td>1</td>\n",
       "      <td>5</td>\n",
       "    </tr>\n",
       "    <tr>\n",
       "      <th>3</th>\n",
       "      <td>215351</td>\n",
       "      <td>Снизилась</td>\n",
       "      <td>стандартт</td>\n",
       "      <td>да</td>\n",
       "      <td>3.2</td>\n",
       "      <td>5</td>\n",
       "      <td>896</td>\n",
       "      <td>0.99</td>\n",
       "      <td>Товары для детей</td>\n",
       "      <td>5</td>\n",
       "      <td>0</td>\n",
       "      <td>6</td>\n",
       "      <td>4</td>\n",
       "    </tr>\n",
       "    <tr>\n",
       "      <th>4</th>\n",
       "      <td>215352</td>\n",
       "      <td>Снизилась</td>\n",
       "      <td>стандартт</td>\n",
       "      <td>нет</td>\n",
       "      <td>5.1</td>\n",
       "      <td>3</td>\n",
       "      <td>1064</td>\n",
       "      <td>0.94</td>\n",
       "      <td>Товары для детей</td>\n",
       "      <td>3</td>\n",
       "      <td>2</td>\n",
       "      <td>3</td>\n",
       "      <td>2</td>\n",
       "    </tr>\n",
       "  </tbody>\n",
       "</table>\n",
       "</div>"
      ],
      "text/plain": [
       "       id Покупательская активность Тип сервиса Разрешить сообщать  \\\n",
       "0  215348                 Снизилась     премиум                 да   \n",
       "1  215349                 Снизилась     премиум                 да   \n",
       "2  215350                 Снизилась   стандартт                нет   \n",
       "3  215351                 Снизилась   стандартт                 да   \n",
       "4  215352                 Снизилась   стандартт                нет   \n",
       "\n",
       "   Маркет_актив_6_мес  Маркет_актив_тек_мес  Длительность  Акционные_покупки  \\\n",
       "0                 3.4                     5           121               0.00   \n",
       "1                 4.4                     4           819               0.75   \n",
       "2                 4.9                     3           539               0.14   \n",
       "3                 3.2                     5           896               0.99   \n",
       "4                 5.1                     3          1064               0.94   \n",
       "\n",
       "  Популярная_категория  Средний_просмотр_категорий_за_визит  \\\n",
       "0     Товары для детей                                    6   \n",
       "1     Товары для детей                                    4   \n",
       "2    Домашний текстиль                                    5   \n",
       "3     Товары для детей                                    5   \n",
       "4     Товары для детей                                    3   \n",
       "\n",
       "   Неоплаченные_продукты_штук_квартал  Ошибка_сервиса  Страниц_за_визит  \n",
       "0                                   2               1                 5  \n",
       "1                                   4               2                 5  \n",
       "2                                   2               1                 5  \n",
       "3                                   0               6                 4  \n",
       "4                                   2               3                 2  "
      ]
     },
     "execution_count": 5,
     "metadata": {},
     "output_type": "execute_result"
    }
   ],
   "source": [
    "data_file.head()"
   ]
  },
  {
   "cell_type": "code",
   "execution_count": 6,
   "metadata": {},
   "outputs": [
    {
     "data": {
      "text/html": [
       "<div>\n",
       "<style scoped>\n",
       "    .dataframe tbody tr th:only-of-type {\n",
       "        vertical-align: middle;\n",
       "    }\n",
       "\n",
       "    .dataframe tbody tr th {\n",
       "        vertical-align: top;\n",
       "    }\n",
       "\n",
       "    .dataframe thead th {\n",
       "        text-align: right;\n",
       "    }\n",
       "</style>\n",
       "<table border=\"1\" class=\"dataframe\">\n",
       "  <thead>\n",
       "    <tr style=\"text-align: right;\">\n",
       "      <th></th>\n",
       "      <th>id</th>\n",
       "      <th>Период</th>\n",
       "      <th>Выручка</th>\n",
       "    </tr>\n",
       "  </thead>\n",
       "  <tbody>\n",
       "    <tr>\n",
       "      <th>0</th>\n",
       "      <td>215348</td>\n",
       "      <td>препредыдущий_месяц</td>\n",
       "      <td>0.0</td>\n",
       "    </tr>\n",
       "    <tr>\n",
       "      <th>1</th>\n",
       "      <td>215348</td>\n",
       "      <td>текущий_месяц</td>\n",
       "      <td>3293.1</td>\n",
       "    </tr>\n",
       "    <tr>\n",
       "      <th>2</th>\n",
       "      <td>215348</td>\n",
       "      <td>предыдущий_месяц</td>\n",
       "      <td>0.0</td>\n",
       "    </tr>\n",
       "    <tr>\n",
       "      <th>3</th>\n",
       "      <td>215349</td>\n",
       "      <td>препредыдущий_месяц</td>\n",
       "      <td>4472.0</td>\n",
       "    </tr>\n",
       "    <tr>\n",
       "      <th>4</th>\n",
       "      <td>215349</td>\n",
       "      <td>текущий_месяц</td>\n",
       "      <td>4971.6</td>\n",
       "    </tr>\n",
       "  </tbody>\n",
       "</table>\n",
       "</div>"
      ],
      "text/plain": [
       "       id               Период  Выручка\n",
       "0  215348  препредыдущий_месяц      0.0\n",
       "1  215348        текущий_месяц   3293.1\n",
       "2  215348     предыдущий_месяц      0.0\n",
       "3  215349  препредыдущий_месяц   4472.0\n",
       "4  215349        текущий_месяц   4971.6"
      ]
     },
     "execution_count": 6,
     "metadata": {},
     "output_type": "execute_result"
    }
   ],
   "source": [
    "data_money.head()"
   ]
  },
  {
   "cell_type": "code",
   "execution_count": 7,
   "metadata": {},
   "outputs": [
    {
     "data": {
      "text/html": [
       "<div>\n",
       "<style scoped>\n",
       "    .dataframe tbody tr th:only-of-type {\n",
       "        vertical-align: middle;\n",
       "    }\n",
       "\n",
       "    .dataframe tbody tr th {\n",
       "        vertical-align: top;\n",
       "    }\n",
       "\n",
       "    .dataframe thead th {\n",
       "        text-align: right;\n",
       "    }\n",
       "</style>\n",
       "<table border=\"1\" class=\"dataframe\">\n",
       "  <thead>\n",
       "    <tr style=\"text-align: right;\">\n",
       "      <th></th>\n",
       "      <th>id</th>\n",
       "      <th>Период</th>\n",
       "      <th>минут</th>\n",
       "    </tr>\n",
       "  </thead>\n",
       "  <tbody>\n",
       "    <tr>\n",
       "      <th>0</th>\n",
       "      <td>215348</td>\n",
       "      <td>текущий_месяц</td>\n",
       "      <td>14</td>\n",
       "    </tr>\n",
       "    <tr>\n",
       "      <th>1</th>\n",
       "      <td>215348</td>\n",
       "      <td>предыдцщий_месяц</td>\n",
       "      <td>13</td>\n",
       "    </tr>\n",
       "    <tr>\n",
       "      <th>2</th>\n",
       "      <td>215349</td>\n",
       "      <td>текущий_месяц</td>\n",
       "      <td>10</td>\n",
       "    </tr>\n",
       "    <tr>\n",
       "      <th>3</th>\n",
       "      <td>215349</td>\n",
       "      <td>предыдцщий_месяц</td>\n",
       "      <td>12</td>\n",
       "    </tr>\n",
       "    <tr>\n",
       "      <th>4</th>\n",
       "      <td>215350</td>\n",
       "      <td>текущий_месяц</td>\n",
       "      <td>13</td>\n",
       "    </tr>\n",
       "  </tbody>\n",
       "</table>\n",
       "</div>"
      ],
      "text/plain": [
       "       id            Период  минут\n",
       "0  215348     текущий_месяц     14\n",
       "1  215348  предыдцщий_месяц     13\n",
       "2  215349     текущий_месяц     10\n",
       "3  215349  предыдцщий_месяц     12\n",
       "4  215350     текущий_месяц     13"
      ]
     },
     "execution_count": 7,
     "metadata": {},
     "output_type": "execute_result"
    }
   ],
   "source": [
    "data_time.head()"
   ]
  },
  {
   "cell_type": "code",
   "execution_count": 8,
   "metadata": {},
   "outputs": [
    {
     "data": {
      "text/html": [
       "<div>\n",
       "<style scoped>\n",
       "    .dataframe tbody tr th:only-of-type {\n",
       "        vertical-align: middle;\n",
       "    }\n",
       "\n",
       "    .dataframe tbody tr th {\n",
       "        vertical-align: top;\n",
       "    }\n",
       "\n",
       "    .dataframe thead th {\n",
       "        text-align: right;\n",
       "    }\n",
       "</style>\n",
       "<table border=\"1\" class=\"dataframe\">\n",
       "  <thead>\n",
       "    <tr style=\"text-align: right;\">\n",
       "      <th></th>\n",
       "      <th>id</th>\n",
       "      <th>Прибыль</th>\n",
       "    </tr>\n",
       "  </thead>\n",
       "  <tbody>\n",
       "    <tr>\n",
       "      <th>0</th>\n",
       "      <td>215348</td>\n",
       "      <td>0.98</td>\n",
       "    </tr>\n",
       "    <tr>\n",
       "      <th>1</th>\n",
       "      <td>215349</td>\n",
       "      <td>4.16</td>\n",
       "    </tr>\n",
       "    <tr>\n",
       "      <th>2</th>\n",
       "      <td>215350</td>\n",
       "      <td>3.13</td>\n",
       "    </tr>\n",
       "    <tr>\n",
       "      <th>3</th>\n",
       "      <td>215351</td>\n",
       "      <td>4.87</td>\n",
       "    </tr>\n",
       "    <tr>\n",
       "      <th>4</th>\n",
       "      <td>215352</td>\n",
       "      <td>4.21</td>\n",
       "    </tr>\n",
       "  </tbody>\n",
       "</table>\n",
       "</div>"
      ],
      "text/plain": [
       "       id  Прибыль\n",
       "0  215348     0.98\n",
       "1  215349     4.16\n",
       "2  215350     3.13\n",
       "3  215351     4.87\n",
       "4  215352     4.21"
      ]
     },
     "execution_count": 8,
     "metadata": {},
     "output_type": "execute_result"
    }
   ],
   "source": [
    "data_profit.head()"
   ]
  },
  {
   "cell_type": "markdown",
   "metadata": {},
   "source": [
    "Данных для выполнения исследовательской работы достаточно. В данных есть небольшие проблемы, которые необходимо устранить для успешного выполнения работы. Содержимое таблиц соответсвует описанию."
   ]
  },
  {
   "cell_type": "markdown",
   "metadata": {},
   "source": [
    "##  Предобработка данных"
   ]
  },
  {
   "cell_type": "code",
   "execution_count": 9,
   "metadata": {},
   "outputs": [
    {
     "name": "stdout",
     "output_type": "stream",
     "text": [
      "<class 'pandas.core.frame.DataFrame'>\n",
      "RangeIndex: 1300 entries, 0 to 1299\n",
      "Data columns (total 13 columns):\n",
      " #   Column                               Non-Null Count  Dtype  \n",
      "---  ------                               --------------  -----  \n",
      " 0   id                                   1300 non-null   int64  \n",
      " 1   Покупательская активность            1300 non-null   object \n",
      " 2   Тип сервиса                          1300 non-null   object \n",
      " 3   Разрешить сообщать                   1300 non-null   object \n",
      " 4   Маркет_актив_6_мес                   1300 non-null   float64\n",
      " 5   Маркет_актив_тек_мес                 1300 non-null   int64  \n",
      " 6   Длительность                         1300 non-null   int64  \n",
      " 7   Акционные_покупки                    1300 non-null   float64\n",
      " 8   Популярная_категория                 1300 non-null   object \n",
      " 9   Средний_просмотр_категорий_за_визит  1300 non-null   int64  \n",
      " 10  Неоплаченные_продукты_штук_квартал   1300 non-null   int64  \n",
      " 11  Ошибка_сервиса                       1300 non-null   int64  \n",
      " 12  Страниц_за_визит                     1300 non-null   int64  \n",
      "dtypes: float64(2), int64(7), object(4)\n",
      "memory usage: 132.2+ KB\n",
      "<class 'pandas.core.frame.DataFrame'>\n",
      "RangeIndex: 3900 entries, 0 to 3899\n",
      "Data columns (total 3 columns):\n",
      " #   Column   Non-Null Count  Dtype  \n",
      "---  ------   --------------  -----  \n",
      " 0   id       3900 non-null   int64  \n",
      " 1   Период   3900 non-null   object \n",
      " 2   Выручка  3900 non-null   float64\n",
      "dtypes: float64(1), int64(1), object(1)\n",
      "memory usage: 91.5+ KB\n",
      "<class 'pandas.core.frame.DataFrame'>\n",
      "RangeIndex: 2600 entries, 0 to 2599\n",
      "Data columns (total 3 columns):\n",
      " #   Column  Non-Null Count  Dtype \n",
      "---  ------  --------------  ----- \n",
      " 0   id      2600 non-null   int64 \n",
      " 1   Период  2600 non-null   object\n",
      " 2   минут   2600 non-null   int64 \n",
      "dtypes: int64(2), object(1)\n",
      "memory usage: 61.1+ KB\n",
      "<class 'pandas.core.frame.DataFrame'>\n",
      "RangeIndex: 1300 entries, 0 to 1299\n",
      "Data columns (total 2 columns):\n",
      " #   Column   Non-Null Count  Dtype  \n",
      "---  ------   --------------  -----  \n",
      " 0   id       1300 non-null   int64  \n",
      " 1   Прибыль  1300 non-null   float64\n",
      "dtypes: float64(1), int64(1)\n",
      "memory usage: 20.4 KB\n"
     ]
    }
   ],
   "source": [
    "data_file.info()\n",
    "data_money.info()\n",
    "data_time.info()\n",
    "data_profit.info()"
   ]
  },
  {
   "cell_type": "markdown",
   "metadata": {},
   "source": [
    "### Переименование столбцов"
   ]
  },
  {
   "cell_type": "code",
   "execution_count": 10,
   "metadata": {},
   "outputs": [],
   "source": [
    "data_file.columns = data_file.columns.str.replace(' ', '_').str.lower()\n",
    "data_money.columns = data_money.columns.str.lower()\n",
    "data_time.columns = data_time.columns.str.lower()\n",
    "data_profit.columns = data_profit.columns.str.lower()"
   ]
  },
  {
   "cell_type": "markdown",
   "metadata": {},
   "source": [
    "### Обработка значений"
   ]
  },
  {
   "cell_type": "markdown",
   "metadata": {},
   "source": [
    "Исправим ошибку в написании слова предыдущий:"
   ]
  },
  {
   "cell_type": "code",
   "execution_count": 11,
   "metadata": {},
   "outputs": [
    {
     "data": {
      "text/plain": [
       "предыдцщий_месяц    1300\n",
       "текущий_месяц       1300\n",
       "Name: период, dtype: int64"
      ]
     },
     "execution_count": 11,
     "metadata": {},
     "output_type": "execute_result"
    }
   ],
   "source": [
    "data_time['период'].value_counts()"
   ]
  },
  {
   "cell_type": "code",
   "execution_count": 12,
   "metadata": {},
   "outputs": [],
   "source": [
    "data_time.loc[data_time['период'] == 'предыдцщий_месяц', 'период'] = 'предыдущий_месяц'"
   ]
  },
  {
   "cell_type": "markdown",
   "metadata": {},
   "source": [
    "Удалим аномалию в столбце выручка:"
   ]
  },
  {
   "cell_type": "code",
   "execution_count": 13,
   "metadata": {},
   "outputs": [
    {
     "data": {
      "text/plain": [
       "count      3900.000000\n",
       "mean       5025.696051\n",
       "std        1777.704104\n",
       "min           0.000000\n",
       "25%        4590.150000\n",
       "50%        4957.500000\n",
       "75%        5363.000000\n",
       "max      106862.200000\n",
       "Name: выручка, dtype: float64"
      ]
     },
     "execution_count": 13,
     "metadata": {},
     "output_type": "execute_result"
    }
   ],
   "source": [
    "data_money['выручка'].describe()"
   ]
  },
  {
   "cell_type": "code",
   "execution_count": 14,
   "metadata": {},
   "outputs": [],
   "source": [
    "data_money = data_money.query('выручка < 106862')"
   ]
  },
  {
   "cell_type": "markdown",
   "metadata": {},
   "source": [
    "### Дубликаты"
   ]
  },
  {
   "cell_type": "markdown",
   "metadata": {},
   "source": [
    "Удалим явные дубликаты"
   ]
  },
  {
   "cell_type": "code",
   "execution_count": 15,
   "metadata": {},
   "outputs": [],
   "source": [
    "data_file = data_file.drop_duplicates()"
   ]
  },
  {
   "cell_type": "markdown",
   "metadata": {},
   "source": [
    "В столбце тип сервиса присутсвует видимо по-разному написанное значение. Исправим это:"
   ]
  },
  {
   "cell_type": "code",
   "execution_count": 16,
   "metadata": {},
   "outputs": [
    {
     "data": {
      "text/plain": [
       "стандарт     914\n",
       "премиум      376\n",
       "стандартт     10\n",
       "Name: тип_сервиса, dtype: int64"
      ]
     },
     "execution_count": 16,
     "metadata": {},
     "output_type": "execute_result"
    }
   ],
   "source": [
    "data_file['тип_сервиса'].value_counts()"
   ]
  },
  {
   "cell_type": "code",
   "execution_count": 17,
   "metadata": {},
   "outputs": [],
   "source": [
    "data_file.loc[data_file['тип_сервиса'] == 'стандартт', 'тип_сервиса'] = 'стандарт'"
   ]
  },
  {
   "cell_type": "markdown",
   "metadata": {},
   "source": [
    "### Вывод"
   ]
  },
  {
   "cell_type": "markdown",
   "metadata": {},
   "source": [
    "Названия столбцов были приведены к нижнему регистру, были обработаны явные инеявные дубликаты, устранены аномалии, исправлены ошибки в написании"
   ]
  },
  {
   "cell_type": "markdown",
   "metadata": {},
   "source": [
    "## Исследовательский анализ"
   ]
  },
  {
   "cell_type": "markdown",
   "metadata": {},
   "source": [
    "В первую очередь нас интересуют клиенты за последние 3 месяца, поэтому отберем только их."
   ]
  },
  {
   "cell_type": "code",
   "execution_count": 18,
   "metadata": {
    "scrolled": true
   },
   "outputs": [
    {
     "data": {
      "text/plain": [
       "count    1300.000000\n",
       "mean        3.996631\n",
       "std         1.013722\n",
       "min         0.860000\n",
       "25%         3.300000\n",
       "50%         4.045000\n",
       "75%         4.670000\n",
       "max         7.430000\n",
       "Name: прибыль, dtype: float64"
      ]
     },
     "execution_count": 18,
     "metadata": {},
     "output_type": "execute_result"
    }
   ],
   "source": [
    "data_profit['прибыль'].describe()"
   ]
  },
  {
   "cell_type": "markdown",
   "metadata": {},
   "source": [
    "В этой таблице находятся данные о прибыли от клиентов за последние 3 месяца, значит здесь те клиенты, которые нас интересуют. Размерность у нее такая же как и у остальных, а значит все клиенты что-то покупали в течении последних трех месяцев. "
   ]
  },
  {
   "cell_type": "markdown",
   "metadata": {},
   "source": [
    "### маркет_актив_6_мес"
   ]
  },
  {
   "cell_type": "code",
   "execution_count": 19,
   "metadata": {},
   "outputs": [
    {
     "data": {
      "text/html": [
       "<div>\n",
       "<style scoped>\n",
       "    .dataframe tbody tr th:only-of-type {\n",
       "        vertical-align: middle;\n",
       "    }\n",
       "\n",
       "    .dataframe tbody tr th {\n",
       "        vertical-align: top;\n",
       "    }\n",
       "\n",
       "    .dataframe thead th {\n",
       "        text-align: right;\n",
       "    }\n",
       "</style>\n",
       "<table border=\"1\" class=\"dataframe\">\n",
       "  <thead>\n",
       "    <tr style=\"text-align: right;\">\n",
       "      <th></th>\n",
       "      <th>id</th>\n",
       "      <th>покупательская_активность</th>\n",
       "      <th>тип_сервиса</th>\n",
       "      <th>разрешить_сообщать</th>\n",
       "      <th>маркет_актив_6_мес</th>\n",
       "      <th>маркет_актив_тек_мес</th>\n",
       "      <th>длительность</th>\n",
       "      <th>акционные_покупки</th>\n",
       "      <th>популярная_категория</th>\n",
       "      <th>средний_просмотр_категорий_за_визит</th>\n",
       "      <th>неоплаченные_продукты_штук_квартал</th>\n",
       "      <th>ошибка_сервиса</th>\n",
       "      <th>страниц_за_визит</th>\n",
       "    </tr>\n",
       "  </thead>\n",
       "  <tbody>\n",
       "    <tr>\n",
       "      <th>0</th>\n",
       "      <td>215348</td>\n",
       "      <td>Снизилась</td>\n",
       "      <td>премиум</td>\n",
       "      <td>да</td>\n",
       "      <td>3.4</td>\n",
       "      <td>5</td>\n",
       "      <td>121</td>\n",
       "      <td>0.00</td>\n",
       "      <td>Товары для детей</td>\n",
       "      <td>6</td>\n",
       "      <td>2</td>\n",
       "      <td>1</td>\n",
       "      <td>5</td>\n",
       "    </tr>\n",
       "    <tr>\n",
       "      <th>1</th>\n",
       "      <td>215349</td>\n",
       "      <td>Снизилась</td>\n",
       "      <td>премиум</td>\n",
       "      <td>да</td>\n",
       "      <td>4.4</td>\n",
       "      <td>4</td>\n",
       "      <td>819</td>\n",
       "      <td>0.75</td>\n",
       "      <td>Товары для детей</td>\n",
       "      <td>4</td>\n",
       "      <td>4</td>\n",
       "      <td>2</td>\n",
       "      <td>5</td>\n",
       "    </tr>\n",
       "    <tr>\n",
       "      <th>2</th>\n",
       "      <td>215350</td>\n",
       "      <td>Снизилась</td>\n",
       "      <td>стандарт</td>\n",
       "      <td>нет</td>\n",
       "      <td>4.9</td>\n",
       "      <td>3</td>\n",
       "      <td>539</td>\n",
       "      <td>0.14</td>\n",
       "      <td>Домашний текстиль</td>\n",
       "      <td>5</td>\n",
       "      <td>2</td>\n",
       "      <td>1</td>\n",
       "      <td>5</td>\n",
       "    </tr>\n",
       "    <tr>\n",
       "      <th>3</th>\n",
       "      <td>215351</td>\n",
       "      <td>Снизилась</td>\n",
       "      <td>стандарт</td>\n",
       "      <td>да</td>\n",
       "      <td>3.2</td>\n",
       "      <td>5</td>\n",
       "      <td>896</td>\n",
       "      <td>0.99</td>\n",
       "      <td>Товары для детей</td>\n",
       "      <td>5</td>\n",
       "      <td>0</td>\n",
       "      <td>6</td>\n",
       "      <td>4</td>\n",
       "    </tr>\n",
       "    <tr>\n",
       "      <th>4</th>\n",
       "      <td>215352</td>\n",
       "      <td>Снизилась</td>\n",
       "      <td>стандарт</td>\n",
       "      <td>нет</td>\n",
       "      <td>5.1</td>\n",
       "      <td>3</td>\n",
       "      <td>1064</td>\n",
       "      <td>0.94</td>\n",
       "      <td>Товары для детей</td>\n",
       "      <td>3</td>\n",
       "      <td>2</td>\n",
       "      <td>3</td>\n",
       "      <td>2</td>\n",
       "    </tr>\n",
       "  </tbody>\n",
       "</table>\n",
       "</div>"
      ],
      "text/plain": [
       "       id покупательская_активность тип_сервиса разрешить_сообщать  \\\n",
       "0  215348                 Снизилась     премиум                 да   \n",
       "1  215349                 Снизилась     премиум                 да   \n",
       "2  215350                 Снизилась    стандарт                нет   \n",
       "3  215351                 Снизилась    стандарт                 да   \n",
       "4  215352                 Снизилась    стандарт                нет   \n",
       "\n",
       "   маркет_актив_6_мес  маркет_актив_тек_мес  длительность  акционные_покупки  \\\n",
       "0                 3.4                     5           121               0.00   \n",
       "1                 4.4                     4           819               0.75   \n",
       "2                 4.9                     3           539               0.14   \n",
       "3                 3.2                     5           896               0.99   \n",
       "4                 5.1                     3          1064               0.94   \n",
       "\n",
       "  популярная_категория  средний_просмотр_категорий_за_визит  \\\n",
       "0     Товары для детей                                    6   \n",
       "1     Товары для детей                                    4   \n",
       "2    Домашний текстиль                                    5   \n",
       "3     Товары для детей                                    5   \n",
       "4     Товары для детей                                    3   \n",
       "\n",
       "   неоплаченные_продукты_штук_квартал  ошибка_сервиса  страниц_за_визит  \n",
       "0                                   2               1                 5  \n",
       "1                                   4               2                 5  \n",
       "2                                   2               1                 5  \n",
       "3                                   0               6                 4  \n",
       "4                                   2               3                 2  "
      ]
     },
     "execution_count": 19,
     "metadata": {},
     "output_type": "execute_result"
    }
   ],
   "source": [
    "data_file.head()"
   ]
  },
  {
   "cell_type": "code",
   "execution_count": 20,
   "metadata": {},
   "outputs": [
    {
     "name": "stdout",
     "output_type": "stream",
     "text": [
      "count    1300.000000\n",
      "mean        4.253769\n",
      "std         1.014814\n",
      "min         0.900000\n",
      "25%         3.700000\n",
      "50%         4.200000\n",
      "75%         4.900000\n",
      "max         6.600000\n",
      "Name: маркет_актив_6_мес, dtype: float64\n"
     ]
    },
    {
     "data": {
      "image/png": "[encoded data removed]",
      "text/plain": [
       "<Figure size 432x288 with 1 Axes>"
      ]
     },
     "metadata": {
      "needs_background": "light"
     },
     "output_type": "display_data"
    }
   ],
   "source": [
    "print(data_file['маркет_актив_6_мес'].describe())\n",
    "data_file['маркет_актив_6_мес'].hist(bins=13)\n",
    "plt.title(\"маркет_актив_6_мес\")\n",
    "plt.ylabel(\"Количество пользователей\")\n",
    "plt.xlabel(\"Значение актива\")\n",
    "None"
   ]
  },
  {
   "cell_type": "code",
   "execution_count": 21,
   "metadata": {},
   "outputs": [
    {
     "data": {
      "image/png": "[encoded data removed]",
      "text/plain": [
       "<Figure size 432x288 with 1 Axes>"
      ]
     },
     "metadata": {
      "needs_background": "light"
     },
     "output_type": "display_data"
    }
   ],
   "source": [
    "data_file.boxplot(column='маркет_актив_6_мес')\n",
    "None"
   ]
  },
  {
   "cell_type": "markdown",
   "metadata": {},
   "source": [
    "В целом распределение выглядит нормальным, что может говорить о достоверности графика."
   ]
  },
  {
   "cell_type": "markdown",
   "metadata": {},
   "source": [
    "Были обнаружены выбросы"
   ]
  },
  {
   "cell_type": "markdown",
   "metadata": {},
   "source": [
    "### маркет_актив_тек_мес"
   ]
  },
  {
   "cell_type": "code",
   "execution_count": 22,
   "metadata": {},
   "outputs": [
    {
     "name": "stdout",
     "output_type": "stream",
     "text": [
      "count    1300.000000\n",
      "mean        4.011538\n",
      "std         0.696868\n",
      "min         3.000000\n",
      "25%         4.000000\n",
      "50%         4.000000\n",
      "75%         4.000000\n",
      "max         5.000000\n",
      "Name: маркет_актив_тек_мес, dtype: float64\n"
     ]
    },
    {
     "data": {
      "image/png": "[encoded data removed]",
      "text/plain": [
       "<Figure size 432x288 with 1 Axes>"
      ]
     },
     "metadata": {
      "needs_background": "light"
     },
     "output_type": "display_data"
    }
   ],
   "source": [
    "print(data_file['маркет_актив_тек_мес'].describe())\n",
    "data_file['маркет_актив_тек_мес'].hist(bins=6)\n",
    "plt.title(\"маркет_актив_тек_мес\")\n",
    "plt.ylabel(\"Количество пользователей\")\n",
    "plt.xlabel(\"Значение актива\")\n",
    "None"
   ]
  },
  {
   "cell_type": "code",
   "execution_count": 23,
   "metadata": {},
   "outputs": [
    {
     "data": {
      "image/png": "[encoded data removed]",
      "text/plain": [
       "<Figure size 432x288 with 1 Axes>"
      ]
     },
     "metadata": {
      "needs_background": "light"
     },
     "output_type": "display_data"
    }
   ],
   "source": [
    "data_file.boxplot(column='маркет_актив_тек_мес')\n",
    "None"
   ]
  },
  {
   "cell_type": "code",
   "execution_count": 24,
   "metadata": {},
   "outputs": [
    {
     "name": "stdout",
     "output_type": "stream",
     "text": [
      "Нижняя граница  3.0\n",
      "Верхняя граница  5.0\n",
      "Процент отброшенных значений =  0.0 %\n"
     ]
    }
   ],
   "source": [
    "low_percentele = 0.01\n",
    "hihg_percentele = 0.99\n",
    "\n",
    "feature_low = data_file['маркет_актив_тек_мес'].quantile(low_percentele)\n",
    "feature_high = data_file['маркет_актив_тек_мес'].quantile(hihg_percentele)\n",
    "\n",
    "print(f'Нижняя граница  {feature_low}')\n",
    "print(f'Верхняя граница  {feature_high}')\n",
    "\n",
    "print(\n",
    "    'Процент отброшенных значений = ',\n",
    "    round(\n",
    "        100 - len(data_file.query('@feature_low <= маркет_актив_тек_мес <= @feature_high'))\n",
    "        / len(data_file['маркет_актив_тек_мес']) * 100,\n",
    "        2\n",
    "    ),\n",
    "    '%'\n",
    ")"
   ]
  },
  {
   "cell_type": "markdown",
   "metadata": {},
   "source": [
    "В данном случае думаю что удалять выбросы не имеет смысла, так как у нас всего 3 значения"
   ]
  },
  {
   "cell_type": "markdown",
   "metadata": {},
   "source": [
    "### длительность"
   ]
  },
  {
   "cell_type": "code",
   "execution_count": 25,
   "metadata": {},
   "outputs": [
    {
     "name": "stdout",
     "output_type": "stream",
     "text": [
      "count    1300.000000\n",
      "mean      601.898462\n",
      "std       249.856289\n",
      "min       110.000000\n",
      "25%       405.500000\n",
      "50%       606.000000\n",
      "75%       806.000000\n",
      "max      1079.000000\n",
      "Name: длительность, dtype: float64\n"
     ]
    },
    {
     "data": {
      "image/png": "[encoded data removed]",
      "text/plain": [
       "<Figure size 432x288 with 1 Axes>"
      ]
     },
     "metadata": {
      "needs_background": "light"
     },
     "output_type": "display_data"
    }
   ],
   "source": [
    "print(data_file['длительность'].describe())\n",
    "data_file['длительность'].hist(bins=40)\n",
    "plt.title(\"длительность\")\n",
    "plt.ylabel(\"Количество пользователей\")\n",
    "plt.xlabel(\"Значение актива\")\n",
    "None"
   ]
  },
  {
   "cell_type": "code",
   "execution_count": 26,
   "metadata": {},
   "outputs": [
    {
     "data": {
      "image/png": "[encoded data removed]",
      "text/plain": [
       "<Figure size 432x288 with 1 Axes>"
      ]
     },
     "metadata": {
      "needs_background": "light"
     },
     "output_type": "display_data"
    }
   ],
   "source": [
    "data_file.boxplot(column='длительность')\n",
    "None"
   ]
  },
  {
   "cell_type": "markdown",
   "metadata": {},
   "source": [
    "Выбросов не обнаружено"
   ]
  },
  {
   "cell_type": "markdown",
   "metadata": {},
   "source": [
    "### акционные_покупки"
   ]
  },
  {
   "cell_type": "code",
   "execution_count": 27,
   "metadata": {},
   "outputs": [
    {
     "name": "stdout",
     "output_type": "stream",
     "text": [
      "count    1300.000000\n",
      "mean        0.319808\n",
      "std         0.249843\n",
      "min         0.000000\n",
      "25%         0.170000\n",
      "50%         0.240000\n",
      "75%         0.300000\n",
      "max         0.990000\n",
      "Name: акционные_покупки, dtype: float64\n"
     ]
    },
    {
     "data": {
      "image/png": "[encoded data removed]",
      "text/plain": [
       "<Figure size 432x288 with 1 Axes>"
      ]
     },
     "metadata": {
      "needs_background": "light"
     },
     "output_type": "display_data"
    }
   ],
   "source": [
    "print(data_file['акционные_покупки'].describe())\n",
    "data_file['акционные_покупки'].hist(bins=40)\n",
    "plt.title(\"акционные_покупки\")\n",
    "plt.ylabel(\"Количество пользователей\")\n",
    "plt.xlabel(\"Значение актива\")\n",
    "None"
   ]
  },
  {
   "cell_type": "code",
   "execution_count": 28,
   "metadata": {},
   "outputs": [
    {
     "data": {
      "image/png": "[encoded data removed]",
      "text/plain": [
       "<Figure size 432x288 with 1 Axes>"
      ]
     },
     "metadata": {
      "needs_background": "light"
     },
     "output_type": "display_data"
    }
   ],
   "source": [
    "data_file.boxplot(column='акционные_покупки')\n",
    "None"
   ]
  },
  {
   "cell_type": "markdown",
   "metadata": {},
   "source": [
    "Данные можно разделить на 2 кластера, однако второй кластер настолько малочисленный, что анализ с помощью ящика-с-усами весь второй кластер определяет как выбросы."
   ]
  },
  {
   "cell_type": "markdown",
   "metadata": {},
   "source": [
    "Были обнаружены выбросы"
   ]
  },
  {
   "cell_type": "markdown",
   "metadata": {},
   "source": [
    "### средний_просмотр_категорий_за_визит"
   ]
  },
  {
   "cell_type": "code",
   "execution_count": 29,
   "metadata": {},
   "outputs": [
    {
     "name": "stdout",
     "output_type": "stream",
     "text": [
      "count    1300.00000\n",
      "mean        3.27000\n",
      "std         1.35535\n",
      "min         1.00000\n",
      "25%         2.00000\n",
      "50%         3.00000\n",
      "75%         4.00000\n",
      "max         6.00000\n",
      "Name: средний_просмотр_категорий_за_визит, dtype: float64\n"
     ]
    },
    {
     "data": {
      "image/png": "[encoded data removed]",
      "text/plain": [
       "<Figure size 432x288 with 1 Axes>"
      ]
     },
     "metadata": {
      "needs_background": "light"
     },
     "output_type": "display_data"
    }
   ],
   "source": [
    "print(data_file['средний_просмотр_категорий_за_визит'].describe())\n",
    "data_file['средний_просмотр_категорий_за_визит'].hist(bins=6)\n",
    "plt.title(\"средний_просмотр_категорий_за_визит\")\n",
    "plt.ylabel(\"Количество пользователей\")\n",
    "plt.xlabel(\"Значение актива\")\n",
    "None"
   ]
  },
  {
   "cell_type": "code",
   "execution_count": 30,
   "metadata": {},
   "outputs": [
    {
     "data": {
      "image/png": "[encoded data removed]",
      "text/plain": [
       "<Figure size 432x288 with 1 Axes>"
      ]
     },
     "metadata": {
      "needs_background": "light"
     },
     "output_type": "display_data"
    }
   ],
   "source": [
    "data_file.boxplot(column='средний_просмотр_категорий_за_визит')\n",
    "None"
   ]
  },
  {
   "cell_type": "markdown",
   "metadata": {},
   "source": [
    "В целом распределение выглядит нормальным, что может говорить о достоверности графика."
   ]
  },
  {
   "cell_type": "markdown",
   "metadata": {},
   "source": [
    "Выбросов не обнаружено"
   ]
  },
  {
   "cell_type": "markdown",
   "metadata": {},
   "source": [
    "### неоплаченные_продукты_штук_квартал"
   ]
  },
  {
   "cell_type": "code",
   "execution_count": 31,
   "metadata": {},
   "outputs": [
    {
     "name": "stdout",
     "output_type": "stream",
     "text": [
      "count    1300.000000\n",
      "mean        2.840000\n",
      "std         1.971451\n",
      "min         0.000000\n",
      "25%         1.000000\n",
      "50%         3.000000\n",
      "75%         4.000000\n",
      "max        10.000000\n",
      "Name: неоплаченные_продукты_штук_квартал, dtype: float64\n"
     ]
    },
    {
     "data": {
      "image/png": "[encoded data removed]",
      "text/plain": [
       "<Figure size 432x288 with 1 Axes>"
      ]
     },
     "metadata": {
      "needs_background": "light"
     },
     "output_type": "display_data"
    }
   ],
   "source": [
    "print(data_file['неоплаченные_продукты_штук_квартал'].describe())\n",
    "data_file['неоплаченные_продукты_штук_квартал'].hist(bins=11)\n",
    "plt.title(\"неоплаченные_продукты_штук_квартал\")\n",
    "plt.ylabel(\"Количество пользователей\")\n",
    "plt.xlabel(\"Значение актива\")\n",
    "None"
   ]
  },
  {
   "cell_type": "code",
   "execution_count": 32,
   "metadata": {},
   "outputs": [
    {
     "data": {
      "image/png": "[encoded data removed]",
      "text/plain": [
       "<Figure size 432x288 with 1 Axes>"
      ]
     },
     "metadata": {
      "needs_background": "light"
     },
     "output_type": "display_data"
    }
   ],
   "source": [
    "data_file.boxplot(column='неоплаченные_продукты_штук_квартал')\n",
    "None"
   ]
  },
  {
   "cell_type": "markdown",
   "metadata": {},
   "source": [
    "В целом распределение выглядит нормальным, что может говорить о достоверности графика."
   ]
  },
  {
   "cell_type": "markdown",
   "metadata": {},
   "source": [
    "Были обнаружены выбросы"
   ]
  },
  {
   "cell_type": "markdown",
   "metadata": {},
   "source": [
    "### ошибка_сервиса"
   ]
  },
  {
   "cell_type": "code",
   "execution_count": 33,
   "metadata": {},
   "outputs": [
    {
     "name": "stdout",
     "output_type": "stream",
     "text": [
      "count    1300.000000\n",
      "mean        4.185385\n",
      "std         1.955298\n",
      "min         0.000000\n",
      "25%         3.000000\n",
      "50%         4.000000\n",
      "75%         6.000000\n",
      "max         9.000000\n",
      "Name: ошибка_сервиса, dtype: float64\n"
     ]
    },
    {
     "data": {
      "image/png": "[encoded data removed]",
      "text/plain": [
       "<Figure size 432x288 with 1 Axes>"
      ]
     },
     "metadata": {
      "needs_background": "light"
     },
     "output_type": "display_data"
    }
   ],
   "source": [
    "print(data_file['ошибка_сервиса'].describe())\n",
    "data_file['ошибка_сервиса'].hist(bins=10)\n",
    "plt.title(\"ошибка_сервиса\")\n",
    "plt.ylabel(\"Количество пользователей\")\n",
    "plt.xlabel(\"Значение актива\")\n",
    "None"
   ]
  },
  {
   "cell_type": "code",
   "execution_count": 34,
   "metadata": {},
   "outputs": [
    {
     "data": {
      "image/png": "[encoded data removed]",
      "text/plain": [
       "<Figure size 432x288 with 1 Axes>"
      ]
     },
     "metadata": {
      "needs_background": "light"
     },
     "output_type": "display_data"
    }
   ],
   "source": [
    "data_file.boxplot(column='ошибка_сервиса')\n",
    "None"
   ]
  },
  {
   "cell_type": "markdown",
   "metadata": {},
   "source": [
    "В целом распределение выглядит нормальным, что может говорить о достоверности графика."
   ]
  },
  {
   "cell_type": "markdown",
   "metadata": {},
   "source": [
    "Выбросов не обнаружено"
   ]
  },
  {
   "cell_type": "markdown",
   "metadata": {},
   "source": [
    "### страниц_за_визит"
   ]
  },
  {
   "cell_type": "code",
   "execution_count": 35,
   "metadata": {},
   "outputs": [
    {
     "name": "stdout",
     "output_type": "stream",
     "text": [
      "count    1300.000000\n",
      "mean        8.176923\n",
      "std         3.978126\n",
      "min         1.000000\n",
      "25%         5.000000\n",
      "50%         8.000000\n",
      "75%        11.000000\n",
      "max        20.000000\n",
      "Name: страниц_за_визит, dtype: float64\n"
     ]
    },
    {
     "data": {
      "image/png": "[encoded data removed]",
      "text/plain": [
       "<Figure size 432x288 with 1 Axes>"
      ]
     },
     "metadata": {
      "needs_background": "light"
     },
     "output_type": "display_data"
    }
   ],
   "source": [
    "print(data_file['страниц_за_визит'].describe())\n",
    "data_file['страниц_за_визит'].hist(bins=20)\n",
    "plt.title(\"страниц_за_визит\")\n",
    "plt.ylabel(\"Количество пользователей\")\n",
    "plt.xlabel(\"Значение актива\")\n",
    "None"
   ]
  },
  {
   "cell_type": "code",
   "execution_count": 36,
   "metadata": {},
   "outputs": [
    {
     "data": {
      "image/png": "[encoded data removed]",
      "text/plain": [
       "<Figure size 432x288 with 1 Axes>"
      ]
     },
     "metadata": {
      "needs_background": "light"
     },
     "output_type": "display_data"
    }
   ],
   "source": [
    "data_file.boxplot(column='страниц_за_визит')\n",
    "None"
   ]
  },
  {
   "cell_type": "markdown",
   "metadata": {},
   "source": [
    "В целом распределение выглядит нормальным, что может говорить о достоверности графика."
   ]
  },
  {
   "cell_type": "markdown",
   "metadata": {},
   "source": [
    "Выбросов не обнаружено"
   ]
  },
  {
   "cell_type": "markdown",
   "metadata": {},
   "source": [
    "### выручка"
   ]
  },
  {
   "cell_type": "code",
   "execution_count": 37,
   "metadata": {},
   "outputs": [
    {
     "name": "stdout",
     "output_type": "stream",
     "text": [
      "count    3899.00000\n",
      "mean     4999.57743\n",
      "std       706.99988\n",
      "min         0.00000\n",
      "25%      4590.10000\n",
      "50%      4957.00000\n",
      "75%      5363.00000\n",
      "max      7799.40000\n",
      "Name: выручка, dtype: float64\n"
     ]
    },
    {
     "data": {
      "image/png": "[encoded data removed]",
      "text/plain": [
       "<Figure size 432x288 with 1 Axes>"
      ]
     },
     "metadata": {
      "needs_background": "light"
     },
     "output_type": "display_data"
    }
   ],
   "source": [
    "print(data_money['выручка'].describe())\n",
    "data_money['выручка'].hist(bins=15)\n",
    "plt.title(\"выручка\")\n",
    "plt.ylabel(\"Количество пользователей\")\n",
    "plt.xlabel(\"Значение актива\")\n",
    "None"
   ]
  },
  {
   "cell_type": "code",
   "execution_count": 38,
   "metadata": {},
   "outputs": [
    {
     "data": {
      "image/png": "[encoded data removed]",
      "text/plain": [
       "<Figure size 432x288 with 1 Axes>"
      ]
     },
     "metadata": {
      "needs_background": "light"
     },
     "output_type": "display_data"
    }
   ],
   "source": [
    "data_money.boxplot(column='выручка')\n",
    "None"
   ]
  },
  {
   "cell_type": "markdown",
   "metadata": {},
   "source": [
    "В целом распределение выглядит нормальным, что может говорить о достоверности графика."
   ]
  },
  {
   "cell_type": "markdown",
   "metadata": {},
   "source": [
    "Были обнаружены выбросы"
   ]
  },
  {
   "cell_type": "code",
   "execution_count": 39,
   "metadata": {},
   "outputs": [],
   "source": [
    "#Теперь удалим выброс\n",
    "data_money = data_money.query('выручка > 0')"
   ]
  },
  {
   "cell_type": "markdown",
   "metadata": {},
   "source": [
    "### минут"
   ]
  },
  {
   "cell_type": "code",
   "execution_count": 40,
   "metadata": {},
   "outputs": [
    {
     "name": "stdout",
     "output_type": "stream",
     "text": [
      "count    2600.000000\n",
      "mean       13.336154\n",
      "std         4.080198\n",
      "min         4.000000\n",
      "25%        10.000000\n",
      "50%        13.000000\n",
      "75%        16.000000\n",
      "max        23.000000\n",
      "Name: минут, dtype: float64\n"
     ]
    },
    {
     "data": {
      "image/png": "[encoded data removed]",
      "text/plain": [
       "<Figure size 432x288 with 1 Axes>"
      ]
     },
     "metadata": {
      "needs_background": "light"
     },
     "output_type": "display_data"
    }
   ],
   "source": [
    "print(data_time['минут'].describe())\n",
    "data_time['минут'].hist(bins=15)\n",
    "plt.title(\"минут\")\n",
    "plt.ylabel(\"Количество пользователей\")\n",
    "plt.xlabel(\"Значение актива\")\n",
    "None"
   ]
  },
  {
   "cell_type": "code",
   "execution_count": 41,
   "metadata": {},
   "outputs": [
    {
     "data": {
      "image/png": "[encoded data removed]",
      "text/plain": [
       "<Figure size 432x288 with 1 Axes>"
      ]
     },
     "metadata": {
      "needs_background": "light"
     },
     "output_type": "display_data"
    }
   ],
   "source": [
    "data_time.boxplot(column='минут')\n",
    "None"
   ]
  },
  {
   "cell_type": "markdown",
   "metadata": {},
   "source": [
    "В целом распределение выглядит нормальным, что может говорить о достоверности графика."
   ]
  },
  {
   "cell_type": "markdown",
   "metadata": {},
   "source": [
    "Выбросов не обнаружено"
   ]
  },
  {
   "cell_type": "markdown",
   "metadata": {},
   "source": [
    "### прибыль"
   ]
  },
  {
   "cell_type": "code",
   "execution_count": 42,
   "metadata": {},
   "outputs": [
    {
     "name": "stdout",
     "output_type": "stream",
     "text": [
      "count    1300.000000\n",
      "mean        3.996631\n",
      "std         1.013722\n",
      "min         0.860000\n",
      "25%         3.300000\n",
      "50%         4.045000\n",
      "75%         4.670000\n",
      "max         7.430000\n",
      "Name: прибыль, dtype: float64\n"
     ]
    },
    {
     "data": {
      "image/png": "[encoded data removed]",
      "text/plain": [
       "<Figure size 432x288 with 1 Axes>"
      ]
     },
     "metadata": {
      "needs_background": "light"
     },
     "output_type": "display_data"
    }
   ],
   "source": [
    "print(data_profit['прибыль'].describe())\n",
    "data_profit['прибыль'].hist(bins=7)\n",
    "plt.title(\"минут\")\n",
    "plt.ylabel(\"Количество пользователей\")\n",
    "plt.xlabel(\"Значение актива\")\n",
    "None"
   ]
  },
  {
   "cell_type": "code",
   "execution_count": 43,
   "metadata": {},
   "outputs": [
    {
     "data": {
      "image/png": "[encoded data removed]",
      "text/plain": [
       "<Figure size 432x288 with 1 Axes>"
      ]
     },
     "metadata": {
      "needs_background": "light"
     },
     "output_type": "display_data"
    }
   ],
   "source": [
    "data_profit.boxplot(column='прибыль')\n",
    "None"
   ]
  },
  {
   "cell_type": "markdown",
   "metadata": {},
   "source": [
    "В целом распределение выглядит нормальным, что может говорить о достоверности графика."
   ]
  },
  {
   "cell_type": "markdown",
   "metadata": {},
   "source": [
    "Были обнаружены выбросы"
   ]
  },
  {
   "cell_type": "markdown",
   "metadata": {},
   "source": [
    "### Вывод"
   ]
  },
  {
   "cell_type": "markdown",
   "metadata": {},
   "source": [
    "Данные вполне адекватные, поэтому выбросы я не убрал."
   ]
  },
  {
   "cell_type": "markdown",
   "metadata": {},
   "source": [
    "## Объединение таблиц"
   ]
  },
  {
   "cell_type": "code",
   "execution_count": 44,
   "metadata": {},
   "outputs": [
    {
     "data": {
      "text/html": [
       "<div>\n",
       "<style scoped>\n",
       "    .dataframe tbody tr th:only-of-type {\n",
       "        vertical-align: middle;\n",
       "    }\n",
       "\n",
       "    .dataframe tbody tr th {\n",
       "        vertical-align: top;\n",
       "    }\n",
       "\n",
       "    .dataframe thead th {\n",
       "        text-align: right;\n",
       "    }\n",
       "</style>\n",
       "<table border=\"1\" class=\"dataframe\">\n",
       "  <thead>\n",
       "    <tr style=\"text-align: right;\">\n",
       "      <th></th>\n",
       "      <th>минут_предыдущий_месяц</th>\n",
       "      <th>минут_текущий_месяц</th>\n",
       "    </tr>\n",
       "    <tr>\n",
       "      <th>id</th>\n",
       "      <th></th>\n",
       "      <th></th>\n",
       "    </tr>\n",
       "  </thead>\n",
       "  <tbody>\n",
       "    <tr>\n",
       "      <th>215348</th>\n",
       "      <td>13</td>\n",
       "      <td>14</td>\n",
       "    </tr>\n",
       "    <tr>\n",
       "      <th>215349</th>\n",
       "      <td>12</td>\n",
       "      <td>10</td>\n",
       "    </tr>\n",
       "    <tr>\n",
       "      <th>215350</th>\n",
       "      <td>8</td>\n",
       "      <td>13</td>\n",
       "    </tr>\n",
       "    <tr>\n",
       "      <th>215351</th>\n",
       "      <td>11</td>\n",
       "      <td>13</td>\n",
       "    </tr>\n",
       "    <tr>\n",
       "      <th>215352</th>\n",
       "      <td>8</td>\n",
       "      <td>11</td>\n",
       "    </tr>\n",
       "  </tbody>\n",
       "</table>\n",
       "</div>"
      ],
      "text/plain": [
       "        минут_предыдущий_месяц  минут_текущий_месяц\n",
       "id                                                 \n",
       "215348                      13                   14\n",
       "215349                      12                   10\n",
       "215350                       8                   13\n",
       "215351                      11                   13\n",
       "215352                       8                   11"
      ]
     },
     "execution_count": 44,
     "metadata": {},
     "output_type": "execute_result"
    }
   ],
   "source": [
    "data_time_merge = pd.pivot_table(data_time, index=['id'], columns='период')\n",
    "data_time_merge.columns = [ 'минут_предыдущий_месяц', 'минут_текущий_месяц']\n",
    "data_time_merge.head()"
   ]
  },
  {
   "cell_type": "code",
   "execution_count": 45,
   "metadata": {},
   "outputs": [
    {
     "data": {
      "text/html": [
       "<div>\n",
       "<style scoped>\n",
       "    .dataframe tbody tr th:only-of-type {\n",
       "        vertical-align: middle;\n",
       "    }\n",
       "\n",
       "    .dataframe tbody tr th {\n",
       "        vertical-align: top;\n",
       "    }\n",
       "\n",
       "    .dataframe thead th {\n",
       "        text-align: right;\n",
       "    }\n",
       "</style>\n",
       "<table border=\"1\" class=\"dataframe\">\n",
       "  <thead>\n",
       "    <tr style=\"text-align: right;\">\n",
       "      <th></th>\n",
       "      <th>выручка_предыдущий_месяц</th>\n",
       "      <th>выручка_препредыдущий_месяц</th>\n",
       "      <th>выручка_текущий_месяц</th>\n",
       "    </tr>\n",
       "    <tr>\n",
       "      <th>id</th>\n",
       "      <th></th>\n",
       "      <th></th>\n",
       "      <th></th>\n",
       "    </tr>\n",
       "  </thead>\n",
       "  <tbody>\n",
       "    <tr>\n",
       "      <th>215348</th>\n",
       "      <td>0.0</td>\n",
       "      <td>0.0</td>\n",
       "      <td>3293.1</td>\n",
       "    </tr>\n",
       "    <tr>\n",
       "      <th>215349</th>\n",
       "      <td>5216.0</td>\n",
       "      <td>4472.0</td>\n",
       "      <td>4971.6</td>\n",
       "    </tr>\n",
       "    <tr>\n",
       "      <th>215350</th>\n",
       "      <td>5457.5</td>\n",
       "      <td>4826.0</td>\n",
       "      <td>5058.4</td>\n",
       "    </tr>\n",
       "    <tr>\n",
       "      <th>215351</th>\n",
       "      <td>6158.0</td>\n",
       "      <td>4793.0</td>\n",
       "      <td>6610.4</td>\n",
       "    </tr>\n",
       "    <tr>\n",
       "      <th>215352</th>\n",
       "      <td>5807.5</td>\n",
       "      <td>4594.0</td>\n",
       "      <td>5872.5</td>\n",
       "    </tr>\n",
       "  </tbody>\n",
       "</table>\n",
       "</div>"
      ],
      "text/plain": [
       "        выручка_предыдущий_месяц  выручка_препредыдущий_месяц  \\\n",
       "id                                                              \n",
       "215348                       0.0                          0.0   \n",
       "215349                    5216.0                       4472.0   \n",
       "215350                    5457.5                       4826.0   \n",
       "215351                    6158.0                       4793.0   \n",
       "215352                    5807.5                       4594.0   \n",
       "\n",
       "        выручка_текущий_месяц  \n",
       "id                             \n",
       "215348                 3293.1  \n",
       "215349                 4971.6  \n",
       "215350                 5058.4  \n",
       "215351                 6610.4  \n",
       "215352                 5872.5  "
      ]
     },
     "execution_count": 45,
     "metadata": {},
     "output_type": "execute_result"
    }
   ],
   "source": [
    "data_money_merge = pd.pivot_table(data_money, index=['id'], columns='период').fillna(0)\n",
    "data_money_merge.columns = ['выручка_предыдущий_месяц', 'выручка_препредыдущий_месяц', 'выручка_текущий_месяц']\n",
    "data_money_merge.head()"
   ]
  },
  {
   "cell_type": "code",
   "execution_count": 46,
   "metadata": {},
   "outputs": [],
   "source": [
    "data_money_merge = data_money_merge.query('выручка_предыдущий_месяц > 0 and выручка_препредыдущий_месяц > 0 and выручка_текущий_месяц > 0')"
   ]
  },
  {
   "cell_type": "code",
   "execution_count": 47,
   "metadata": {},
   "outputs": [],
   "source": [
    "data_unity = data_file.merge(data_time_merge, on='id').merge(\n",
    "    data_money_merge, on='id').merge(\n",
    "    data_profit, on='id')"
   ]
  },
  {
   "cell_type": "code",
   "execution_count": 48,
   "metadata": {
    "scrolled": true
   },
   "outputs": [
    {
     "data": {
      "text/html": [
       "<div>\n",
       "<style scoped>\n",
       "    .dataframe tbody tr th:only-of-type {\n",
       "        vertical-align: middle;\n",
       "    }\n",
       "\n",
       "    .dataframe tbody tr th {\n",
       "        vertical-align: top;\n",
       "    }\n",
       "\n",
       "    .dataframe thead th {\n",
       "        text-align: right;\n",
       "    }\n",
       "</style>\n",
       "<table border=\"1\" class=\"dataframe\">\n",
       "  <thead>\n",
       "    <tr style=\"text-align: right;\">\n",
       "      <th></th>\n",
       "      <th>id</th>\n",
       "      <th>покупательская_активность</th>\n",
       "      <th>тип_сервиса</th>\n",
       "      <th>разрешить_сообщать</th>\n",
       "      <th>маркет_актив_6_мес</th>\n",
       "      <th>маркет_актив_тек_мес</th>\n",
       "      <th>длительность</th>\n",
       "      <th>акционные_покупки</th>\n",
       "      <th>популярная_категория</th>\n",
       "      <th>средний_просмотр_категорий_за_визит</th>\n",
       "      <th>неоплаченные_продукты_штук_квартал</th>\n",
       "      <th>ошибка_сервиса</th>\n",
       "      <th>страниц_за_визит</th>\n",
       "      <th>минут_предыдущий_месяц</th>\n",
       "      <th>минут_текущий_месяц</th>\n",
       "      <th>выручка_предыдущий_месяц</th>\n",
       "      <th>выручка_препредыдущий_месяц</th>\n",
       "      <th>выручка_текущий_месяц</th>\n",
       "      <th>прибыль</th>\n",
       "    </tr>\n",
       "  </thead>\n",
       "  <tbody>\n",
       "    <tr>\n",
       "      <th>0</th>\n",
       "      <td>215349</td>\n",
       "      <td>Снизилась</td>\n",
       "      <td>премиум</td>\n",
       "      <td>да</td>\n",
       "      <td>4.4</td>\n",
       "      <td>4</td>\n",
       "      <td>819</td>\n",
       "      <td>0.75</td>\n",
       "      <td>Товары для детей</td>\n",
       "      <td>4</td>\n",
       "      <td>4</td>\n",
       "      <td>2</td>\n",
       "      <td>5</td>\n",
       "      <td>12</td>\n",
       "      <td>10</td>\n",
       "      <td>5216.0</td>\n",
       "      <td>4472.0</td>\n",
       "      <td>4971.6</td>\n",
       "      <td>4.16</td>\n",
       "    </tr>\n",
       "    <tr>\n",
       "      <th>1</th>\n",
       "      <td>215350</td>\n",
       "      <td>Снизилась</td>\n",
       "      <td>стандарт</td>\n",
       "      <td>нет</td>\n",
       "      <td>4.9</td>\n",
       "      <td>3</td>\n",
       "      <td>539</td>\n",
       "      <td>0.14</td>\n",
       "      <td>Домашний текстиль</td>\n",
       "      <td>5</td>\n",
       "      <td>2</td>\n",
       "      <td>1</td>\n",
       "      <td>5</td>\n",
       "      <td>8</td>\n",
       "      <td>13</td>\n",
       "      <td>5457.5</td>\n",
       "      <td>4826.0</td>\n",
       "      <td>5058.4</td>\n",
       "      <td>3.13</td>\n",
       "    </tr>\n",
       "    <tr>\n",
       "      <th>2</th>\n",
       "      <td>215351</td>\n",
       "      <td>Снизилась</td>\n",
       "      <td>стандарт</td>\n",
       "      <td>да</td>\n",
       "      <td>3.2</td>\n",
       "      <td>5</td>\n",
       "      <td>896</td>\n",
       "      <td>0.99</td>\n",
       "      <td>Товары для детей</td>\n",
       "      <td>5</td>\n",
       "      <td>0</td>\n",
       "      <td>6</td>\n",
       "      <td>4</td>\n",
       "      <td>11</td>\n",
       "      <td>13</td>\n",
       "      <td>6158.0</td>\n",
       "      <td>4793.0</td>\n",
       "      <td>6610.4</td>\n",
       "      <td>4.87</td>\n",
       "    </tr>\n",
       "    <tr>\n",
       "      <th>3</th>\n",
       "      <td>215352</td>\n",
       "      <td>Снизилась</td>\n",
       "      <td>стандарт</td>\n",
       "      <td>нет</td>\n",
       "      <td>5.1</td>\n",
       "      <td>3</td>\n",
       "      <td>1064</td>\n",
       "      <td>0.94</td>\n",
       "      <td>Товары для детей</td>\n",
       "      <td>3</td>\n",
       "      <td>2</td>\n",
       "      <td>3</td>\n",
       "      <td>2</td>\n",
       "      <td>8</td>\n",
       "      <td>11</td>\n",
       "      <td>5807.5</td>\n",
       "      <td>4594.0</td>\n",
       "      <td>5872.5</td>\n",
       "      <td>4.21</td>\n",
       "    </tr>\n",
       "    <tr>\n",
       "      <th>4</th>\n",
       "      <td>215353</td>\n",
       "      <td>Снизилась</td>\n",
       "      <td>стандарт</td>\n",
       "      <td>да</td>\n",
       "      <td>3.3</td>\n",
       "      <td>4</td>\n",
       "      <td>762</td>\n",
       "      <td>0.26</td>\n",
       "      <td>Домашний текстиль</td>\n",
       "      <td>4</td>\n",
       "      <td>1</td>\n",
       "      <td>1</td>\n",
       "      <td>4</td>\n",
       "      <td>10</td>\n",
       "      <td>10</td>\n",
       "      <td>4738.5</td>\n",
       "      <td>5124.0</td>\n",
       "      <td>5388.5</td>\n",
       "      <td>3.95</td>\n",
       "    </tr>\n",
       "    <tr>\n",
       "      <th>...</th>\n",
       "      <td>...</td>\n",
       "      <td>...</td>\n",
       "      <td>...</td>\n",
       "      <td>...</td>\n",
       "      <td>...</td>\n",
       "      <td>...</td>\n",
       "      <td>...</td>\n",
       "      <td>...</td>\n",
       "      <td>...</td>\n",
       "      <td>...</td>\n",
       "      <td>...</td>\n",
       "      <td>...</td>\n",
       "      <td>...</td>\n",
       "      <td>...</td>\n",
       "      <td>...</td>\n",
       "      <td>...</td>\n",
       "      <td>...</td>\n",
       "      <td>...</td>\n",
       "      <td>...</td>\n",
       "    </tr>\n",
       "    <tr>\n",
       "      <th>1291</th>\n",
       "      <td>216643</td>\n",
       "      <td>Прежний уровень</td>\n",
       "      <td>стандарт</td>\n",
       "      <td>да</td>\n",
       "      <td>6.6</td>\n",
       "      <td>3</td>\n",
       "      <td>318</td>\n",
       "      <td>0.24</td>\n",
       "      <td>Техника для красоты и здоровья</td>\n",
       "      <td>5</td>\n",
       "      <td>3</td>\n",
       "      <td>3</td>\n",
       "      <td>11</td>\n",
       "      <td>14</td>\n",
       "      <td>7</td>\n",
       "      <td>3664.0</td>\n",
       "      <td>4704.0</td>\n",
       "      <td>4741.7</td>\n",
       "      <td>4.44</td>\n",
       "    </tr>\n",
       "    <tr>\n",
       "      <th>1292</th>\n",
       "      <td>216644</td>\n",
       "      <td>Прежний уровень</td>\n",
       "      <td>стандарт</td>\n",
       "      <td>нет</td>\n",
       "      <td>5.1</td>\n",
       "      <td>4</td>\n",
       "      <td>454</td>\n",
       "      <td>0.21</td>\n",
       "      <td>Домашний текстиль</td>\n",
       "      <td>6</td>\n",
       "      <td>2</td>\n",
       "      <td>3</td>\n",
       "      <td>9</td>\n",
       "      <td>12</td>\n",
       "      <td>11</td>\n",
       "      <td>4729.0</td>\n",
       "      <td>5299.0</td>\n",
       "      <td>5353.0</td>\n",
       "      <td>6.11</td>\n",
       "    </tr>\n",
       "    <tr>\n",
       "      <th>1293</th>\n",
       "      <td>216645</td>\n",
       "      <td>Прежний уровень</td>\n",
       "      <td>стандарт</td>\n",
       "      <td>да</td>\n",
       "      <td>4.1</td>\n",
       "      <td>3</td>\n",
       "      <td>586</td>\n",
       "      <td>0.20</td>\n",
       "      <td>Домашний текстиль</td>\n",
       "      <td>3</td>\n",
       "      <td>2</td>\n",
       "      <td>5</td>\n",
       "      <td>7</td>\n",
       "      <td>12</td>\n",
       "      <td>18</td>\n",
       "      <td>5160.0</td>\n",
       "      <td>5334.0</td>\n",
       "      <td>5139.2</td>\n",
       "      <td>3.29</td>\n",
       "    </tr>\n",
       "    <tr>\n",
       "      <th>1294</th>\n",
       "      <td>216646</td>\n",
       "      <td>Прежний уровень</td>\n",
       "      <td>стандарт</td>\n",
       "      <td>да</td>\n",
       "      <td>6.3</td>\n",
       "      <td>5</td>\n",
       "      <td>645</td>\n",
       "      <td>0.12</td>\n",
       "      <td>Техника для красоты и здоровья</td>\n",
       "      <td>3</td>\n",
       "      <td>3</td>\n",
       "      <td>5</td>\n",
       "      <td>7</td>\n",
       "      <td>18</td>\n",
       "      <td>7</td>\n",
       "      <td>4923.0</td>\n",
       "      <td>4725.0</td>\n",
       "      <td>5224.6</td>\n",
       "      <td>4.03</td>\n",
       "    </tr>\n",
       "    <tr>\n",
       "      <th>1295</th>\n",
       "      <td>216647</td>\n",
       "      <td>Прежний уровень</td>\n",
       "      <td>премиум</td>\n",
       "      <td>да</td>\n",
       "      <td>4.0</td>\n",
       "      <td>5</td>\n",
       "      <td>906</td>\n",
       "      <td>0.94</td>\n",
       "      <td>Техника для красоты и здоровья</td>\n",
       "      <td>4</td>\n",
       "      <td>5</td>\n",
       "      <td>3</td>\n",
       "      <td>12</td>\n",
       "      <td>15</td>\n",
       "      <td>10</td>\n",
       "      <td>4720.0</td>\n",
       "      <td>5183.0</td>\n",
       "      <td>4448.3</td>\n",
       "      <td>3.28</td>\n",
       "    </tr>\n",
       "  </tbody>\n",
       "</table>\n",
       "<p>1296 rows × 19 columns</p>\n",
       "</div>"
      ],
      "text/plain": [
       "          id покупательская_активность тип_сервиса разрешить_сообщать  \\\n",
       "0     215349                 Снизилась     премиум                 да   \n",
       "1     215350                 Снизилась    стандарт                нет   \n",
       "2     215351                 Снизилась    стандарт                 да   \n",
       "3     215352                 Снизилась    стандарт                нет   \n",
       "4     215353                 Снизилась    стандарт                 да   \n",
       "...      ...                       ...         ...                ...   \n",
       "1291  216643           Прежний уровень    стандарт                 да   \n",
       "1292  216644           Прежний уровень    стандарт                нет   \n",
       "1293  216645           Прежний уровень    стандарт                 да   \n",
       "1294  216646           Прежний уровень    стандарт                 да   \n",
       "1295  216647           Прежний уровень     премиум                 да   \n",
       "\n",
       "      маркет_актив_6_мес  маркет_актив_тек_мес  длительность  \\\n",
       "0                    4.4                     4           819   \n",
       "1                    4.9                     3           539   \n",
       "2                    3.2                     5           896   \n",
       "3                    5.1                     3          1064   \n",
       "4                    3.3                     4           762   \n",
       "...                  ...                   ...           ...   \n",
       "1291                 6.6                     3           318   \n",
       "1292                 5.1                     4           454   \n",
       "1293                 4.1                     3           586   \n",
       "1294                 6.3                     5           645   \n",
       "1295                 4.0                     5           906   \n",
       "\n",
       "      акционные_покупки            популярная_категория  \\\n",
       "0                  0.75                Товары для детей   \n",
       "1                  0.14               Домашний текстиль   \n",
       "2                  0.99                Товары для детей   \n",
       "3                  0.94                Товары для детей   \n",
       "4                  0.26               Домашний текстиль   \n",
       "...                 ...                             ...   \n",
       "1291               0.24  Техника для красоты и здоровья   \n",
       "1292               0.21               Домашний текстиль   \n",
       "1293               0.20               Домашний текстиль   \n",
       "1294               0.12  Техника для красоты и здоровья   \n",
       "1295               0.94  Техника для красоты и здоровья   \n",
       "\n",
       "      средний_просмотр_категорий_за_визит  неоплаченные_продукты_штук_квартал  \\\n",
       "0                                       4                                   4   \n",
       "1                                       5                                   2   \n",
       "2                                       5                                   0   \n",
       "3                                       3                                   2   \n",
       "4                                       4                                   1   \n",
       "...                                   ...                                 ...   \n",
       "1291                                    5                                   3   \n",
       "1292                                    6                                   2   \n",
       "1293                                    3                                   2   \n",
       "1294                                    3                                   3   \n",
       "1295                                    4                                   5   \n",
       "\n",
       "      ошибка_сервиса  страниц_за_визит  минут_предыдущий_месяц  \\\n",
       "0                  2                 5                      12   \n",
       "1                  1                 5                       8   \n",
       "2                  6                 4                      11   \n",
       "3                  3                 2                       8   \n",
       "4                  1                 4                      10   \n",
       "...              ...               ...                     ...   \n",
       "1291               3                11                      14   \n",
       "1292               3                 9                      12   \n",
       "1293               5                 7                      12   \n",
       "1294               5                 7                      18   \n",
       "1295               3                12                      15   \n",
       "\n",
       "      минут_текущий_месяц  выручка_предыдущий_месяц  \\\n",
       "0                      10                    5216.0   \n",
       "1                      13                    5457.5   \n",
       "2                      13                    6158.0   \n",
       "3                      11                    5807.5   \n",
       "4                      10                    4738.5   \n",
       "...                   ...                       ...   \n",
       "1291                    7                    3664.0   \n",
       "1292                   11                    4729.0   \n",
       "1293                   18                    5160.0   \n",
       "1294                    7                    4923.0   \n",
       "1295                   10                    4720.0   \n",
       "\n",
       "      выручка_препредыдущий_месяц  выручка_текущий_месяц  прибыль  \n",
       "0                          4472.0                 4971.6     4.16  \n",
       "1                          4826.0                 5058.4     3.13  \n",
       "2                          4793.0                 6610.4     4.87  \n",
       "3                          4594.0                 5872.5     4.21  \n",
       "4                          5124.0                 5388.5     3.95  \n",
       "...                           ...                    ...      ...  \n",
       "1291                       4704.0                 4741.7     4.44  \n",
       "1292                       5299.0                 5353.0     6.11  \n",
       "1293                       5334.0                 5139.2     3.29  \n",
       "1294                       4725.0                 5224.6     4.03  \n",
       "1295                       5183.0                 4448.3     3.28  \n",
       "\n",
       "[1296 rows x 19 columns]"
      ]
     },
     "execution_count": 48,
     "metadata": {},
     "output_type": "execute_result"
    }
   ],
   "source": [
    "data_unity"
   ]
  },
  {
   "cell_type": "code",
   "execution_count": 49,
   "metadata": {
    "scrolled": true
   },
   "outputs": [
    {
     "data": {
      "text/html": [
       "<div>\n",
       "<style scoped>\n",
       "    .dataframe tbody tr th:only-of-type {\n",
       "        vertical-align: middle;\n",
       "    }\n",
       "\n",
       "    .dataframe tbody tr th {\n",
       "        vertical-align: top;\n",
       "    }\n",
       "\n",
       "    .dataframe thead th {\n",
       "        text-align: right;\n",
       "    }\n",
       "</style>\n",
       "<table border=\"1\" class=\"dataframe\">\n",
       "  <thead>\n",
       "    <tr style=\"text-align: right;\">\n",
       "      <th></th>\n",
       "      <th>покупательская_активность</th>\n",
       "      <th>тип_сервиса</th>\n",
       "      <th>разрешить_сообщать</th>\n",
       "      <th>маркет_актив_6_мес</th>\n",
       "      <th>маркет_актив_тек_мес</th>\n",
       "      <th>длительность</th>\n",
       "      <th>акционные_покупки</th>\n",
       "      <th>популярная_категория</th>\n",
       "      <th>средний_просмотр_категорий_за_визит</th>\n",
       "      <th>неоплаченные_продукты_штук_квартал</th>\n",
       "      <th>ошибка_сервиса</th>\n",
       "      <th>страниц_за_визит</th>\n",
       "      <th>минут_предыдущий_месяц</th>\n",
       "      <th>минут_текущий_месяц</th>\n",
       "      <th>выручка_предыдущий_месяц</th>\n",
       "      <th>выручка_препредыдущий_месяц</th>\n",
       "      <th>выручка_текущий_месяц</th>\n",
       "      <th>прибыль</th>\n",
       "    </tr>\n",
       "  </thead>\n",
       "  <tbody>\n",
       "    <tr>\n",
       "      <th>0</th>\n",
       "      <td>Снизилась</td>\n",
       "      <td>премиум</td>\n",
       "      <td>да</td>\n",
       "      <td>4.4</td>\n",
       "      <td>4</td>\n",
       "      <td>819</td>\n",
       "      <td>0.75</td>\n",
       "      <td>Товары для детей</td>\n",
       "      <td>4</td>\n",
       "      <td>4</td>\n",
       "      <td>2</td>\n",
       "      <td>5</td>\n",
       "      <td>12</td>\n",
       "      <td>10</td>\n",
       "      <td>5216.0</td>\n",
       "      <td>4472.0</td>\n",
       "      <td>4971.6</td>\n",
       "      <td>4.16</td>\n",
       "    </tr>\n",
       "    <tr>\n",
       "      <th>1</th>\n",
       "      <td>Снизилась</td>\n",
       "      <td>стандарт</td>\n",
       "      <td>нет</td>\n",
       "      <td>4.9</td>\n",
       "      <td>3</td>\n",
       "      <td>539</td>\n",
       "      <td>0.14</td>\n",
       "      <td>Домашний текстиль</td>\n",
       "      <td>5</td>\n",
       "      <td>2</td>\n",
       "      <td>1</td>\n",
       "      <td>5</td>\n",
       "      <td>8</td>\n",
       "      <td>13</td>\n",
       "      <td>5457.5</td>\n",
       "      <td>4826.0</td>\n",
       "      <td>5058.4</td>\n",
       "      <td>3.13</td>\n",
       "    </tr>\n",
       "    <tr>\n",
       "      <th>2</th>\n",
       "      <td>Снизилась</td>\n",
       "      <td>стандарт</td>\n",
       "      <td>да</td>\n",
       "      <td>3.2</td>\n",
       "      <td>5</td>\n",
       "      <td>896</td>\n",
       "      <td>0.99</td>\n",
       "      <td>Товары для детей</td>\n",
       "      <td>5</td>\n",
       "      <td>0</td>\n",
       "      <td>6</td>\n",
       "      <td>4</td>\n",
       "      <td>11</td>\n",
       "      <td>13</td>\n",
       "      <td>6158.0</td>\n",
       "      <td>4793.0</td>\n",
       "      <td>6610.4</td>\n",
       "      <td>4.87</td>\n",
       "    </tr>\n",
       "    <tr>\n",
       "      <th>3</th>\n",
       "      <td>Снизилась</td>\n",
       "      <td>стандарт</td>\n",
       "      <td>нет</td>\n",
       "      <td>5.1</td>\n",
       "      <td>3</td>\n",
       "      <td>1064</td>\n",
       "      <td>0.94</td>\n",
       "      <td>Товары для детей</td>\n",
       "      <td>3</td>\n",
       "      <td>2</td>\n",
       "      <td>3</td>\n",
       "      <td>2</td>\n",
       "      <td>8</td>\n",
       "      <td>11</td>\n",
       "      <td>5807.5</td>\n",
       "      <td>4594.0</td>\n",
       "      <td>5872.5</td>\n",
       "      <td>4.21</td>\n",
       "    </tr>\n",
       "    <tr>\n",
       "      <th>4</th>\n",
       "      <td>Снизилась</td>\n",
       "      <td>стандарт</td>\n",
       "      <td>да</td>\n",
       "      <td>3.3</td>\n",
       "      <td>4</td>\n",
       "      <td>762</td>\n",
       "      <td>0.26</td>\n",
       "      <td>Домашний текстиль</td>\n",
       "      <td>4</td>\n",
       "      <td>1</td>\n",
       "      <td>1</td>\n",
       "      <td>4</td>\n",
       "      <td>10</td>\n",
       "      <td>10</td>\n",
       "      <td>4738.5</td>\n",
       "      <td>5124.0</td>\n",
       "      <td>5388.5</td>\n",
       "      <td>3.95</td>\n",
       "    </tr>\n",
       "  </tbody>\n",
       "</table>\n",
       "</div>"
      ],
      "text/plain": [
       "  покупательская_активность тип_сервиса разрешить_сообщать  \\\n",
       "0                 Снизилась     премиум                 да   \n",
       "1                 Снизилась    стандарт                нет   \n",
       "2                 Снизилась    стандарт                 да   \n",
       "3                 Снизилась    стандарт                нет   \n",
       "4                 Снизилась    стандарт                 да   \n",
       "\n",
       "   маркет_актив_6_мес  маркет_актив_тек_мес  длительность  акционные_покупки  \\\n",
       "0                 4.4                     4           819               0.75   \n",
       "1                 4.9                     3           539               0.14   \n",
       "2                 3.2                     5           896               0.99   \n",
       "3                 5.1                     3          1064               0.94   \n",
       "4                 3.3                     4           762               0.26   \n",
       "\n",
       "  популярная_категория  средний_просмотр_категорий_за_визит  \\\n",
       "0     Товары для детей                                    4   \n",
       "1    Домашний текстиль                                    5   \n",
       "2     Товары для детей                                    5   \n",
       "3     Товары для детей                                    3   \n",
       "4    Домашний текстиль                                    4   \n",
       "\n",
       "   неоплаченные_продукты_штук_квартал  ошибка_сервиса  страниц_за_визит  \\\n",
       "0                                   4               2                 5   \n",
       "1                                   2               1                 5   \n",
       "2                                   0               6                 4   \n",
       "3                                   2               3                 2   \n",
       "4                                   1               1                 4   \n",
       "\n",
       "   минут_предыдущий_месяц  минут_текущий_месяц  выручка_предыдущий_месяц  \\\n",
       "0                      12                   10                    5216.0   \n",
       "1                       8                   13                    5457.5   \n",
       "2                      11                   13                    6158.0   \n",
       "3                       8                   11                    5807.5   \n",
       "4                      10                   10                    4738.5   \n",
       "\n",
       "   выручка_препредыдущий_месяц  выручка_текущий_месяц  прибыль  \n",
       "0                       4472.0                 4971.6     4.16  \n",
       "1                       4826.0                 5058.4     3.13  \n",
       "2                       4793.0                 6610.4     4.87  \n",
       "3                       4594.0                 5872.5     4.21  \n",
       "4                       5124.0                 5388.5     3.95  "
      ]
     },
     "execution_count": 49,
     "metadata": {},
     "output_type": "execute_result"
    }
   ],
   "source": [
    "data_unity.drop(['id'], axis=1).query('покупательская_активность == \"Снизилась\"').head()"
   ]
  },
  {
   "cell_type": "markdown",
   "metadata": {},
   "source": [
    "## Корреляция"
   ]
  },
  {
   "cell_type": "markdown",
   "metadata": {},
   "source": [
    "Матрица корреляции Фика с целевым полем."
   ]
  },
  {
   "cell_type": "code",
   "execution_count": 50,
   "metadata": {},
   "outputs": [
    {
     "data": {
      "text/html": [
       "<div>\n",
       "<style scoped>\n",
       "    .dataframe tbody tr th:only-of-type {\n",
       "        vertical-align: middle;\n",
       "    }\n",
       "\n",
       "    .dataframe tbody tr th {\n",
       "        vertical-align: top;\n",
       "    }\n",
       "\n",
       "    .dataframe thead th {\n",
       "        text-align: right;\n",
       "    }\n",
       "</style>\n",
       "<table border=\"1\" class=\"dataframe\">\n",
       "  <thead>\n",
       "    <tr style=\"text-align: right;\">\n",
       "      <th></th>\n",
       "      <th>покупательская_активность</th>\n",
       "      <th>тип_сервиса</th>\n",
       "      <th>разрешить_сообщать</th>\n",
       "      <th>маркет_актив_6_мес</th>\n",
       "      <th>маркет_актив_тек_мес</th>\n",
       "      <th>длительность</th>\n",
       "      <th>акционные_покупки</th>\n",
       "      <th>популярная_категория</th>\n",
       "      <th>средний_просмотр_категорий_за_визит</th>\n",
       "      <th>неоплаченные_продукты_штук_квартал</th>\n",
       "      <th>ошибка_сервиса</th>\n",
       "      <th>страниц_за_визит</th>\n",
       "      <th>минут_предыдущий_месяц</th>\n",
       "      <th>минут_текущий_месяц</th>\n",
       "      <th>выручка_предыдущий_месяц</th>\n",
       "      <th>выручка_препредыдущий_месяц</th>\n",
       "      <th>выручка_текущий_месяц</th>\n",
       "      <th>прибыль</th>\n",
       "    </tr>\n",
       "  </thead>\n",
       "  <tbody>\n",
       "    <tr>\n",
       "      <th>покупательская_активность</th>\n",
       "      <td>1.000000</td>\n",
       "      <td>0.129940</td>\n",
       "      <td>0.000000</td>\n",
       "      <td>0.611327</td>\n",
       "      <td>0.000000</td>\n",
       "      <td>0.000000</td>\n",
       "      <td>0.506276</td>\n",
       "      <td>0.299717</td>\n",
       "      <td>0.539607</td>\n",
       "      <td>0.405041</td>\n",
       "      <td>0.224154</td>\n",
       "      <td>0.747331</td>\n",
       "      <td>0.604355</td>\n",
       "      <td>0.569983</td>\n",
       "      <td>0.224638</td>\n",
       "      <td>0.497393</td>\n",
       "      <td>0.197213</td>\n",
       "      <td>0.000000</td>\n",
       "    </tr>\n",
       "    <tr>\n",
       "      <th>тип_сервиса</th>\n",
       "      <td>0.129940</td>\n",
       "      <td>1.000000</td>\n",
       "      <td>0.289965</td>\n",
       "      <td>0.102139</td>\n",
       "      <td>0.045258</td>\n",
       "      <td>0.611909</td>\n",
       "      <td>0.030010</td>\n",
       "      <td>0.070809</td>\n",
       "      <td>0.185391</td>\n",
       "      <td>0.113015</td>\n",
       "      <td>0.079515</td>\n",
       "      <td>0.087776</td>\n",
       "      <td>0.121210</td>\n",
       "      <td>0.061764</td>\n",
       "      <td>0.000000</td>\n",
       "      <td>0.069704</td>\n",
       "      <td>0.124216</td>\n",
       "      <td>0.000000</td>\n",
       "    </tr>\n",
       "    <tr>\n",
       "      <th>разрешить_сообщать</th>\n",
       "      <td>0.000000</td>\n",
       "      <td>0.289965</td>\n",
       "      <td>1.000000</td>\n",
       "      <td>0.073658</td>\n",
       "      <td>0.052618</td>\n",
       "      <td>0.607184</td>\n",
       "      <td>0.012198</td>\n",
       "      <td>0.073684</td>\n",
       "      <td>0.070359</td>\n",
       "      <td>0.162524</td>\n",
       "      <td>0.021839</td>\n",
       "      <td>0.097094</td>\n",
       "      <td>0.063528</td>\n",
       "      <td>0.000000</td>\n",
       "      <td>0.080842</td>\n",
       "      <td>0.000000</td>\n",
       "      <td>0.060907</td>\n",
       "      <td>0.034982</td>\n",
       "    </tr>\n",
       "    <tr>\n",
       "      <th>маркет_актив_6_мес</th>\n",
       "      <td>0.611327</td>\n",
       "      <td>0.102139</td>\n",
       "      <td>0.073658</td>\n",
       "      <td>1.000000</td>\n",
       "      <td>0.124113</td>\n",
       "      <td>0.702905</td>\n",
       "      <td>0.425154</td>\n",
       "      <td>0.198302</td>\n",
       "      <td>0.325088</td>\n",
       "      <td>0.239298</td>\n",
       "      <td>0.195136</td>\n",
       "      <td>0.410959</td>\n",
       "      <td>0.382578</td>\n",
       "      <td>0.365468</td>\n",
       "      <td>0.159376</td>\n",
       "      <td>0.347011</td>\n",
       "      <td>0.145184</td>\n",
       "      <td>0.000000</td>\n",
       "    </tr>\n",
       "    <tr>\n",
       "      <th>маркет_актив_тек_мес</th>\n",
       "      <td>0.000000</td>\n",
       "      <td>0.045258</td>\n",
       "      <td>0.052618</td>\n",
       "      <td>0.124113</td>\n",
       "      <td>1.000000</td>\n",
       "      <td>0.675822</td>\n",
       "      <td>0.000000</td>\n",
       "      <td>0.136243</td>\n",
       "      <td>0.246633</td>\n",
       "      <td>0.142887</td>\n",
       "      <td>0.116946</td>\n",
       "      <td>0.000000</td>\n",
       "      <td>0.166871</td>\n",
       "      <td>0.079883</td>\n",
       "      <td>0.051824</td>\n",
       "      <td>0.000000</td>\n",
       "      <td>0.000000</td>\n",
       "      <td>0.095359</td>\n",
       "    </tr>\n",
       "    <tr>\n",
       "      <th>длительность</th>\n",
       "      <td>0.000000</td>\n",
       "      <td>0.611909</td>\n",
       "      <td>0.607184</td>\n",
       "      <td>0.702905</td>\n",
       "      <td>0.675822</td>\n",
       "      <td>1.000000</td>\n",
       "      <td>0.000000</td>\n",
       "      <td>0.757563</td>\n",
       "      <td>0.766881</td>\n",
       "      <td>0.850810</td>\n",
       "      <td>0.679321</td>\n",
       "      <td>0.514092</td>\n",
       "      <td>0.213047</td>\n",
       "      <td>0.670135</td>\n",
       "      <td>0.000000</td>\n",
       "      <td>0.151619</td>\n",
       "      <td>0.113185</td>\n",
       "      <td>0.493067</td>\n",
       "    </tr>\n",
       "    <tr>\n",
       "      <th>акционные_покупки</th>\n",
       "      <td>0.506276</td>\n",
       "      <td>0.030010</td>\n",
       "      <td>0.012198</td>\n",
       "      <td>0.425154</td>\n",
       "      <td>0.000000</td>\n",
       "      <td>0.000000</td>\n",
       "      <td>1.000000</td>\n",
       "      <td>0.122385</td>\n",
       "      <td>0.199180</td>\n",
       "      <td>0.246665</td>\n",
       "      <td>0.000000</td>\n",
       "      <td>0.350714</td>\n",
       "      <td>0.314140</td>\n",
       "      <td>0.287292</td>\n",
       "      <td>0.060733</td>\n",
       "      <td>0.226381</td>\n",
       "      <td>0.071094</td>\n",
       "      <td>0.000000</td>\n",
       "    </tr>\n",
       "    <tr>\n",
       "      <th>популярная_категория</th>\n",
       "      <td>0.299717</td>\n",
       "      <td>0.070809</td>\n",
       "      <td>0.073684</td>\n",
       "      <td>0.198302</td>\n",
       "      <td>0.136243</td>\n",
       "      <td>0.757563</td>\n",
       "      <td>0.122385</td>\n",
       "      <td>1.000000</td>\n",
       "      <td>0.226116</td>\n",
       "      <td>0.254746</td>\n",
       "      <td>0.000000</td>\n",
       "      <td>0.177637</td>\n",
       "      <td>0.218727</td>\n",
       "      <td>0.113774</td>\n",
       "      <td>0.252097</td>\n",
       "      <td>0.043528</td>\n",
       "      <td>0.237240</td>\n",
       "      <td>0.069684</td>\n",
       "    </tr>\n",
       "    <tr>\n",
       "      <th>средний_просмотр_категорий_за_визит</th>\n",
       "      <td>0.539607</td>\n",
       "      <td>0.185391</td>\n",
       "      <td>0.070359</td>\n",
       "      <td>0.325088</td>\n",
       "      <td>0.246633</td>\n",
       "      <td>0.766881</td>\n",
       "      <td>0.199180</td>\n",
       "      <td>0.226116</td>\n",
       "      <td>1.000000</td>\n",
       "      <td>0.334927</td>\n",
       "      <td>0.070315</td>\n",
       "      <td>0.293781</td>\n",
       "      <td>0.219174</td>\n",
       "      <td>0.236298</td>\n",
       "      <td>0.098440</td>\n",
       "      <td>0.176828</td>\n",
       "      <td>0.092597</td>\n",
       "      <td>0.021214</td>\n",
       "    </tr>\n",
       "    <tr>\n",
       "      <th>неоплаченные_продукты_штук_квартал</th>\n",
       "      <td>0.405041</td>\n",
       "      <td>0.113015</td>\n",
       "      <td>0.162524</td>\n",
       "      <td>0.239298</td>\n",
       "      <td>0.142887</td>\n",
       "      <td>0.850810</td>\n",
       "      <td>0.246665</td>\n",
       "      <td>0.254746</td>\n",
       "      <td>0.334927</td>\n",
       "      <td>1.000000</td>\n",
       "      <td>0.000000</td>\n",
       "      <td>0.310843</td>\n",
       "      <td>0.194298</td>\n",
       "      <td>0.158243</td>\n",
       "      <td>0.193536</td>\n",
       "      <td>0.189320</td>\n",
       "      <td>0.166017</td>\n",
       "      <td>0.000000</td>\n",
       "    </tr>\n",
       "    <tr>\n",
       "      <th>ошибка_сервиса</th>\n",
       "      <td>0.224154</td>\n",
       "      <td>0.079515</td>\n",
       "      <td>0.021839</td>\n",
       "      <td>0.195136</td>\n",
       "      <td>0.116946</td>\n",
       "      <td>0.679321</td>\n",
       "      <td>0.000000</td>\n",
       "      <td>0.000000</td>\n",
       "      <td>0.070315</td>\n",
       "      <td>0.000000</td>\n",
       "      <td>1.000000</td>\n",
       "      <td>0.161603</td>\n",
       "      <td>0.193694</td>\n",
       "      <td>0.129781</td>\n",
       "      <td>0.000000</td>\n",
       "      <td>0.138558</td>\n",
       "      <td>0.000000</td>\n",
       "      <td>0.081366</td>\n",
       "    </tr>\n",
       "    <tr>\n",
       "      <th>страниц_за_визит</th>\n",
       "      <td>0.747331</td>\n",
       "      <td>0.087776</td>\n",
       "      <td>0.097094</td>\n",
       "      <td>0.410959</td>\n",
       "      <td>0.000000</td>\n",
       "      <td>0.514092</td>\n",
       "      <td>0.350714</td>\n",
       "      <td>0.177637</td>\n",
       "      <td>0.293781</td>\n",
       "      <td>0.310843</td>\n",
       "      <td>0.161603</td>\n",
       "      <td>1.000000</td>\n",
       "      <td>0.385789</td>\n",
       "      <td>0.348710</td>\n",
       "      <td>0.154101</td>\n",
       "      <td>0.340386</td>\n",
       "      <td>0.116213</td>\n",
       "      <td>0.000000</td>\n",
       "    </tr>\n",
       "    <tr>\n",
       "      <th>минут_предыдущий_месяц</th>\n",
       "      <td>0.604355</td>\n",
       "      <td>0.121210</td>\n",
       "      <td>0.063528</td>\n",
       "      <td>0.382578</td>\n",
       "      <td>0.166871</td>\n",
       "      <td>0.213047</td>\n",
       "      <td>0.314140</td>\n",
       "      <td>0.218727</td>\n",
       "      <td>0.219174</td>\n",
       "      <td>0.194298</td>\n",
       "      <td>0.193694</td>\n",
       "      <td>0.385789</td>\n",
       "      <td>1.000000</td>\n",
       "      <td>0.336951</td>\n",
       "      <td>0.179385</td>\n",
       "      <td>0.354956</td>\n",
       "      <td>0.228942</td>\n",
       "      <td>0.000000</td>\n",
       "    </tr>\n",
       "    <tr>\n",
       "      <th>минут_текущий_месяц</th>\n",
       "      <td>0.569983</td>\n",
       "      <td>0.061764</td>\n",
       "      <td>0.000000</td>\n",
       "      <td>0.365468</td>\n",
       "      <td>0.079883</td>\n",
       "      <td>0.670135</td>\n",
       "      <td>0.287292</td>\n",
       "      <td>0.113774</td>\n",
       "      <td>0.236298</td>\n",
       "      <td>0.158243</td>\n",
       "      <td>0.129781</td>\n",
       "      <td>0.348710</td>\n",
       "      <td>0.336951</td>\n",
       "      <td>1.000000</td>\n",
       "      <td>0.163504</td>\n",
       "      <td>0.326332</td>\n",
       "      <td>0.295015</td>\n",
       "      <td>0.000000</td>\n",
       "    </tr>\n",
       "    <tr>\n",
       "      <th>выручка_предыдущий_месяц</th>\n",
       "      <td>0.224638</td>\n",
       "      <td>0.000000</td>\n",
       "      <td>0.080842</td>\n",
       "      <td>0.159376</td>\n",
       "      <td>0.051824</td>\n",
       "      <td>0.000000</td>\n",
       "      <td>0.060733</td>\n",
       "      <td>0.252097</td>\n",
       "      <td>0.098440</td>\n",
       "      <td>0.193536</td>\n",
       "      <td>0.000000</td>\n",
       "      <td>0.154101</td>\n",
       "      <td>0.179385</td>\n",
       "      <td>0.163504</td>\n",
       "      <td>1.000000</td>\n",
       "      <td>0.358313</td>\n",
       "      <td>0.836281</td>\n",
       "      <td>0.132826</td>\n",
       "    </tr>\n",
       "    <tr>\n",
       "      <th>выручка_препредыдущий_месяц</th>\n",
       "      <td>0.497393</td>\n",
       "      <td>0.069704</td>\n",
       "      <td>0.000000</td>\n",
       "      <td>0.347011</td>\n",
       "      <td>0.000000</td>\n",
       "      <td>0.151619</td>\n",
       "      <td>0.226381</td>\n",
       "      <td>0.043528</td>\n",
       "      <td>0.176828</td>\n",
       "      <td>0.189320</td>\n",
       "      <td>0.138558</td>\n",
       "      <td>0.340386</td>\n",
       "      <td>0.354956</td>\n",
       "      <td>0.326332</td>\n",
       "      <td>0.358313</td>\n",
       "      <td>1.000000</td>\n",
       "      <td>0.410478</td>\n",
       "      <td>0.159543</td>\n",
       "    </tr>\n",
       "    <tr>\n",
       "      <th>выручка_текущий_месяц</th>\n",
       "      <td>0.197213</td>\n",
       "      <td>0.124216</td>\n",
       "      <td>0.060907</td>\n",
       "      <td>0.145184</td>\n",
       "      <td>0.000000</td>\n",
       "      <td>0.113185</td>\n",
       "      <td>0.071094</td>\n",
       "      <td>0.237240</td>\n",
       "      <td>0.092597</td>\n",
       "      <td>0.166017</td>\n",
       "      <td>0.000000</td>\n",
       "      <td>0.116213</td>\n",
       "      <td>0.228942</td>\n",
       "      <td>0.295015</td>\n",
       "      <td>0.836281</td>\n",
       "      <td>0.410478</td>\n",
       "      <td>1.000000</td>\n",
       "      <td>0.090209</td>\n",
       "    </tr>\n",
       "    <tr>\n",
       "      <th>прибыль</th>\n",
       "      <td>0.000000</td>\n",
       "      <td>0.000000</td>\n",
       "      <td>0.034982</td>\n",
       "      <td>0.000000</td>\n",
       "      <td>0.095359</td>\n",
       "      <td>0.493067</td>\n",
       "      <td>0.000000</td>\n",
       "      <td>0.069684</td>\n",
       "      <td>0.021214</td>\n",
       "      <td>0.000000</td>\n",
       "      <td>0.081366</td>\n",
       "      <td>0.000000</td>\n",
       "      <td>0.000000</td>\n",
       "      <td>0.000000</td>\n",
       "      <td>0.132826</td>\n",
       "      <td>0.159543</td>\n",
       "      <td>0.090209</td>\n",
       "      <td>1.000000</td>\n",
       "    </tr>\n",
       "  </tbody>\n",
       "</table>\n",
       "</div>"
      ],
      "text/plain": [
       "                                     покупательская_активность  тип_сервиса  \\\n",
       "покупательская_активность                             1.000000     0.129940   \n",
       "тип_сервиса                                           0.129940     1.000000   \n",
       "разрешить_сообщать                                    0.000000     0.289965   \n",
       "маркет_актив_6_мес                                    0.611327     0.102139   \n",
       "маркет_актив_тек_мес                                  0.000000     0.045258   \n",
       "длительность                                          0.000000     0.611909   \n",
       "акционные_покупки                                     0.506276     0.030010   \n",
       "популярная_категория                                  0.299717     0.070809   \n",
       "средний_просмотр_категорий_за_визит                   0.539607     0.185391   \n",
       "неоплаченные_продукты_штук_квартал                    0.405041     0.113015   \n",
       "ошибка_сервиса                                        0.224154     0.079515   \n",
       "страниц_за_визит                                      0.747331     0.087776   \n",
       "минут_предыдущий_месяц                                0.604355     0.121210   \n",
       "минут_текущий_месяц                                   0.569983     0.061764   \n",
       "выручка_предыдущий_месяц                              0.224638     0.000000   \n",
       "выручка_препредыдущий_месяц                           0.497393     0.069704   \n",
       "выручка_текущий_месяц                                 0.197213     0.124216   \n",
       "прибыль                                               0.000000     0.000000   \n",
       "\n",
       "                                     разрешить_сообщать  маркет_актив_6_мес  \\\n",
       "покупательская_активность                      0.000000            0.611327   \n",
       "тип_сервиса                                    0.289965            0.102139   \n",
       "разрешить_сообщать                             1.000000            0.073658   \n",
       "маркет_актив_6_мес                             0.073658            1.000000   \n",
       "маркет_актив_тек_мес                           0.052618            0.124113   \n",
       "длительность                                   0.607184            0.702905   \n",
       "акционные_покупки                              0.012198            0.425154   \n",
       "популярная_категория                           0.073684            0.198302   \n",
       "средний_просмотр_категорий_за_визит            0.070359            0.325088   \n",
       "неоплаченные_продукты_штук_квартал             0.162524            0.239298   \n",
       "ошибка_сервиса                                 0.021839            0.195136   \n",
       "страниц_за_визит                               0.097094            0.410959   \n",
       "минут_предыдущий_месяц                         0.063528            0.382578   \n",
       "минут_текущий_месяц                            0.000000            0.365468   \n",
       "выручка_предыдущий_месяц                       0.080842            0.159376   \n",
       "выручка_препредыдущий_месяц                    0.000000            0.347011   \n",
       "выручка_текущий_месяц                          0.060907            0.145184   \n",
       "прибыль                                        0.034982            0.000000   \n",
       "\n",
       "                                     маркет_актив_тек_мес  длительность  \\\n",
       "покупательская_активность                        0.000000      0.000000   \n",
       "тип_сервиса                                      0.045258      0.611909   \n",
       "разрешить_сообщать                               0.052618      0.607184   \n",
       "маркет_актив_6_мес                               0.124113      0.702905   \n",
       "маркет_актив_тек_мес                             1.000000      0.675822   \n",
       "длительность                                     0.675822      1.000000   \n",
       "акционные_покупки                                0.000000      0.000000   \n",
       "популярная_категория                             0.136243      0.757563   \n",
       "средний_просмотр_категорий_за_визит              0.246633      0.766881   \n",
       "неоплаченные_продукты_штук_квартал               0.142887      0.850810   \n",
       "ошибка_сервиса                                   0.116946      0.679321   \n",
       "страниц_за_визит                                 0.000000      0.514092   \n",
       "минут_предыдущий_месяц                           0.166871      0.213047   \n",
       "минут_текущий_месяц                              0.079883      0.670135   \n",
       "выручка_предыдущий_месяц                         0.051824      0.000000   \n",
       "выручка_препредыдущий_месяц                      0.000000      0.151619   \n",
       "выручка_текущий_месяц                            0.000000      0.113185   \n",
       "прибыль                                          0.095359      0.493067   \n",
       "\n",
       "                                     акционные_покупки  популярная_категория  \\\n",
       "покупательская_активность                     0.506276              0.299717   \n",
       "тип_сервиса                                   0.030010              0.070809   \n",
       "разрешить_сообщать                            0.012198              0.073684   \n",
       "маркет_актив_6_мес                            0.425154              0.198302   \n",
       "маркет_актив_тек_мес                          0.000000              0.136243   \n",
       "длительность                                  0.000000              0.757563   \n",
       "акционные_покупки                             1.000000              0.122385   \n",
       "популярная_категория                          0.122385              1.000000   \n",
       "средний_просмотр_категорий_за_визит           0.199180              0.226116   \n",
       "неоплаченные_продукты_штук_квартал            0.246665              0.254746   \n",
       "ошибка_сервиса                                0.000000              0.000000   \n",
       "страниц_за_визит                              0.350714              0.177637   \n",
       "минут_предыдущий_месяц                        0.314140              0.218727   \n",
       "минут_текущий_месяц                           0.287292              0.113774   \n",
       "выручка_предыдущий_месяц                      0.060733              0.252097   \n",
       "выручка_препредыдущий_месяц                   0.226381              0.043528   \n",
       "выручка_текущий_месяц                         0.071094              0.237240   \n",
       "прибыль                                       0.000000              0.069684   \n",
       "\n",
       "                                     средний_просмотр_категорий_за_визит  \\\n",
       "покупательская_активность                                       0.539607   \n",
       "тип_сервиса                                                     0.185391   \n",
       "разрешить_сообщать                                              0.070359   \n",
       "маркет_актив_6_мес                                              0.325088   \n",
       "маркет_актив_тек_мес                                            0.246633   \n",
       "длительность                                                    0.766881   \n",
       "акционные_покупки                                               0.199180   \n",
       "популярная_категория                                            0.226116   \n",
       "средний_просмотр_категорий_за_визит                             1.000000   \n",
       "неоплаченные_продукты_штук_квартал                              0.334927   \n",
       "ошибка_сервиса                                                  0.070315   \n",
       "страниц_за_визит                                                0.293781   \n",
       "минут_предыдущий_месяц                                          0.219174   \n",
       "минут_текущий_месяц                                             0.236298   \n",
       "выручка_предыдущий_месяц                                        0.098440   \n",
       "выручка_препредыдущий_месяц                                     0.176828   \n",
       "выручка_текущий_месяц                                           0.092597   \n",
       "прибыль                                                         0.021214   \n",
       "\n",
       "                                     неоплаченные_продукты_штук_квартал  \\\n",
       "покупательская_активность                                      0.405041   \n",
       "тип_сервиса                                                    0.113015   \n",
       "разрешить_сообщать                                             0.162524   \n",
       "маркет_актив_6_мес                                             0.239298   \n",
       "маркет_актив_тек_мес                                           0.142887   \n",
       "длительность                                                   0.850810   \n",
       "акционные_покупки                                              0.246665   \n",
       "популярная_категория                                           0.254746   \n",
       "средний_просмотр_категорий_за_визит                            0.334927   \n",
       "неоплаченные_продукты_штук_квартал                             1.000000   \n",
       "ошибка_сервиса                                                 0.000000   \n",
       "страниц_за_визит                                               0.310843   \n",
       "минут_предыдущий_месяц                                         0.194298   \n",
       "минут_текущий_месяц                                            0.158243   \n",
       "выручка_предыдущий_месяц                                       0.193536   \n",
       "выручка_препредыдущий_месяц                                    0.189320   \n",
       "выручка_текущий_месяц                                          0.166017   \n",
       "прибыль                                                        0.000000   \n",
       "\n",
       "                                     ошибка_сервиса  страниц_за_визит  \\\n",
       "покупательская_активность                  0.224154          0.747331   \n",
       "тип_сервиса                                0.079515          0.087776   \n",
       "разрешить_сообщать                         0.021839          0.097094   \n",
       "маркет_актив_6_мес                         0.195136          0.410959   \n",
       "маркет_актив_тек_мес                       0.116946          0.000000   \n",
       "длительность                               0.679321          0.514092   \n",
       "акционные_покупки                          0.000000          0.350714   \n",
       "популярная_категория                       0.000000          0.177637   \n",
       "средний_просмотр_категорий_за_визит        0.070315          0.293781   \n",
       "неоплаченные_продукты_штук_квартал         0.000000          0.310843   \n",
       "ошибка_сервиса                             1.000000          0.161603   \n",
       "страниц_за_визит                           0.161603          1.000000   \n",
       "минут_предыдущий_месяц                     0.193694          0.385789   \n",
       "минут_текущий_месяц                        0.129781          0.348710   \n",
       "выручка_предыдущий_месяц                   0.000000          0.154101   \n",
       "выручка_препредыдущий_месяц                0.138558          0.340386   \n",
       "выручка_текущий_месяц                      0.000000          0.116213   \n",
       "прибыль                                    0.081366          0.000000   \n",
       "\n",
       "                                     минут_предыдущий_месяц  \\\n",
       "покупательская_активность                          0.604355   \n",
       "тип_сервиса                                        0.121210   \n",
       "разрешить_сообщать                                 0.063528   \n",
       "маркет_актив_6_мес                                 0.382578   \n",
       "маркет_актив_тек_мес                               0.166871   \n",
       "длительность                                       0.213047   \n",
       "акционные_покупки                                  0.314140   \n",
       "популярная_категория                               0.218727   \n",
       "средний_просмотр_категорий_за_визит                0.219174   \n",
       "неоплаченные_продукты_штук_квартал                 0.194298   \n",
       "ошибка_сервиса                                     0.193694   \n",
       "страниц_за_визит                                   0.385789   \n",
       "минут_предыдущий_месяц                             1.000000   \n",
       "минут_текущий_месяц                                0.336951   \n",
       "выручка_предыдущий_месяц                           0.179385   \n",
       "выручка_препредыдущий_месяц                        0.354956   \n",
       "выручка_текущий_месяц                              0.228942   \n",
       "прибыль                                            0.000000   \n",
       "\n",
       "                                     минут_текущий_месяц  \\\n",
       "покупательская_активность                       0.569983   \n",
       "тип_сервиса                                     0.061764   \n",
       "разрешить_сообщать                              0.000000   \n",
       "маркет_актив_6_мес                              0.365468   \n",
       "маркет_актив_тек_мес                            0.079883   \n",
       "длительность                                    0.670135   \n",
       "акционные_покупки                               0.287292   \n",
       "популярная_категория                            0.113774   \n",
       "средний_просмотр_категорий_за_визит             0.236298   \n",
       "неоплаченные_продукты_штук_квартал              0.158243   \n",
       "ошибка_сервиса                                  0.129781   \n",
       "страниц_за_визит                                0.348710   \n",
       "минут_предыдущий_месяц                          0.336951   \n",
       "минут_текущий_месяц                             1.000000   \n",
       "выручка_предыдущий_месяц                        0.163504   \n",
       "выручка_препредыдущий_месяц                     0.326332   \n",
       "выручка_текущий_месяц                           0.295015   \n",
       "прибыль                                         0.000000   \n",
       "\n",
       "                                     выручка_предыдущий_месяц  \\\n",
       "покупательская_активность                            0.224638   \n",
       "тип_сервиса                                          0.000000   \n",
       "разрешить_сообщать                                   0.080842   \n",
       "маркет_актив_6_мес                                   0.159376   \n",
       "маркет_актив_тек_мес                                 0.051824   \n",
       "длительность                                         0.000000   \n",
       "акционные_покупки                                    0.060733   \n",
       "популярная_категория                                 0.252097   \n",
       "средний_просмотр_категорий_за_визит                  0.098440   \n",
       "неоплаченные_продукты_штук_квартал                   0.193536   \n",
       "ошибка_сервиса                                       0.000000   \n",
       "страниц_за_визит                                     0.154101   \n",
       "минут_предыдущий_месяц                               0.179385   \n",
       "минут_текущий_месяц                                  0.163504   \n",
       "выручка_предыдущий_месяц                             1.000000   \n",
       "выручка_препредыдущий_месяц                          0.358313   \n",
       "выручка_текущий_месяц                                0.836281   \n",
       "прибыль                                              0.132826   \n",
       "\n",
       "                                     выручка_препредыдущий_месяц  \\\n",
       "покупательская_активность                               0.497393   \n",
       "тип_сервиса                                             0.069704   \n",
       "разрешить_сообщать                                      0.000000   \n",
       "маркет_актив_6_мес                                      0.347011   \n",
       "маркет_актив_тек_мес                                    0.000000   \n",
       "длительность                                            0.151619   \n",
       "акционные_покупки                                       0.226381   \n",
       "популярная_категория                                    0.043528   \n",
       "средний_просмотр_категорий_за_визит                     0.176828   \n",
       "неоплаченные_продукты_штук_квартал                      0.189320   \n",
       "ошибка_сервиса                                          0.138558   \n",
       "страниц_за_визит                                        0.340386   \n",
       "минут_предыдущий_месяц                                  0.354956   \n",
       "минут_текущий_месяц                                     0.326332   \n",
       "выручка_предыдущий_месяц                                0.358313   \n",
       "выручка_препредыдущий_месяц                             1.000000   \n",
       "выручка_текущий_месяц                                   0.410478   \n",
       "прибыль                                                 0.159543   \n",
       "\n",
       "                                     выручка_текущий_месяц   прибыль  \n",
       "покупательская_активность                         0.197213  0.000000  \n",
       "тип_сервиса                                       0.124216  0.000000  \n",
       "разрешить_сообщать                                0.060907  0.034982  \n",
       "маркет_актив_6_мес                                0.145184  0.000000  \n",
       "маркет_актив_тек_мес                              0.000000  0.095359  \n",
       "длительность                                      0.113185  0.493067  \n",
       "акционные_покупки                                 0.071094  0.000000  \n",
       "популярная_категория                              0.237240  0.069684  \n",
       "средний_просмотр_категорий_за_визит               0.092597  0.021214  \n",
       "неоплаченные_продукты_штук_квартал                0.166017  0.000000  \n",
       "ошибка_сервиса                                    0.000000  0.081366  \n",
       "страниц_за_визит                                  0.116213  0.000000  \n",
       "минут_предыдущий_месяц                            0.228942  0.000000  \n",
       "минут_текущий_месяц                               0.295015  0.000000  \n",
       "выручка_предыдущий_месяц                          0.836281  0.132826  \n",
       "выручка_препредыдущий_месяц                       0.410478  0.159543  \n",
       "выручка_текущий_месяц                             1.000000  0.090209  \n",
       "прибыль                                           0.090209  1.000000  "
      ]
     },
     "execution_count": 50,
     "metadata": {},
     "output_type": "execute_result"
    }
   ],
   "source": [
    "data_unity.drop(['id'], axis=1).phik_matrix(interval_cols=['акционные_покупки', \n",
    "                                                           'средний_просмотр_категорий_за_визит', \n",
    "                                                            'выручка_предыдущий_месяц', \n",
    "                                                            'выручка_препредыдущий_месяц', \n",
    "                                                            'выручка_текущий_месяц', 'прибыль'])"
   ]
  },
  {
   "cell_type": "markdown",
   "metadata": {},
   "source": [
    "Матрица корреляции Фика с группировой целового поля по значению == Снизилась"
   ]
  },
  {
   "cell_type": "code",
   "execution_count": 51,
   "metadata": {
    "scrolled": true
   },
   "outputs": [
    {
     "name": "stderr",
     "output_type": "stream",
     "text": [
      "Not enough unique value for variable покупательская_активность for analysis 1. Dropping this column\n"
     ]
    },
    {
     "data": {
      "text/html": [
       "<div>\n",
       "<style scoped>\n",
       "    .dataframe tbody tr th:only-of-type {\n",
       "        vertical-align: middle;\n",
       "    }\n",
       "\n",
       "    .dataframe tbody tr th {\n",
       "        vertical-align: top;\n",
       "    }\n",
       "\n",
       "    .dataframe thead th {\n",
       "        text-align: right;\n",
       "    }\n",
       "</style>\n",
       "<table border=\"1\" class=\"dataframe\">\n",
       "  <thead>\n",
       "    <tr style=\"text-align: right;\">\n",
       "      <th></th>\n",
       "      <th>тип_сервиса</th>\n",
       "      <th>разрешить_сообщать</th>\n",
       "      <th>маркет_актив_6_мес</th>\n",
       "      <th>маркет_актив_тек_мес</th>\n",
       "      <th>длительность</th>\n",
       "      <th>акционные_покупки</th>\n",
       "      <th>популярная_категория</th>\n",
       "      <th>средний_просмотр_категорий_за_визит</th>\n",
       "      <th>неоплаченные_продукты_штук_квартал</th>\n",
       "      <th>ошибка_сервиса</th>\n",
       "      <th>страниц_за_визит</th>\n",
       "      <th>минут_предыдущий_месяц</th>\n",
       "      <th>минут_текущий_месяц</th>\n",
       "      <th>выручка_предыдущий_месяц</th>\n",
       "      <th>выручка_препредыдущий_месяц</th>\n",
       "      <th>выручка_текущий_месяц</th>\n",
       "      <th>прибыль</th>\n",
       "    </tr>\n",
       "  </thead>\n",
       "  <tbody>\n",
       "    <tr>\n",
       "      <th>тип_сервиса</th>\n",
       "      <td>1.000000</td>\n",
       "      <td>0.270449</td>\n",
       "      <td>0.045708</td>\n",
       "      <td>0.000000</td>\n",
       "      <td>0.776842</td>\n",
       "      <td>0.056124</td>\n",
       "      <td>0.104317</td>\n",
       "      <td>0.226420</td>\n",
       "      <td>0.125328</td>\n",
       "      <td>0.150046</td>\n",
       "      <td>0.090578</td>\n",
       "      <td>0.146675</td>\n",
       "      <td>0.048002</td>\n",
       "      <td>0.000000</td>\n",
       "      <td>0.221292</td>\n",
       "      <td>0.030954</td>\n",
       "      <td>0.062131</td>\n",
       "    </tr>\n",
       "    <tr>\n",
       "      <th>разрешить_сообщать</th>\n",
       "      <td>0.270449</td>\n",
       "      <td>1.000000</td>\n",
       "      <td>0.125976</td>\n",
       "      <td>0.032900</td>\n",
       "      <td>0.797833</td>\n",
       "      <td>0.000000</td>\n",
       "      <td>0.215637</td>\n",
       "      <td>0.000000</td>\n",
       "      <td>0.137989</td>\n",
       "      <td>0.000000</td>\n",
       "      <td>0.110897</td>\n",
       "      <td>0.087960</td>\n",
       "      <td>0.000000</td>\n",
       "      <td>0.167949</td>\n",
       "      <td>0.079843</td>\n",
       "      <td>0.000000</td>\n",
       "      <td>0.000000</td>\n",
       "    </tr>\n",
       "    <tr>\n",
       "      <th>маркет_актив_6_мес</th>\n",
       "      <td>0.045708</td>\n",
       "      <td>0.125976</td>\n",
       "      <td>1.000000</td>\n",
       "      <td>0.300105</td>\n",
       "      <td>0.830861</td>\n",
       "      <td>0.443594</td>\n",
       "      <td>0.379805</td>\n",
       "      <td>0.439608</td>\n",
       "      <td>0.000000</td>\n",
       "      <td>0.000000</td>\n",
       "      <td>0.712923</td>\n",
       "      <td>0.585763</td>\n",
       "      <td>0.589916</td>\n",
       "      <td>0.115337</td>\n",
       "      <td>0.498737</td>\n",
       "      <td>0.292031</td>\n",
       "      <td>0.000000</td>\n",
       "    </tr>\n",
       "    <tr>\n",
       "      <th>маркет_актив_тек_мес</th>\n",
       "      <td>0.000000</td>\n",
       "      <td>0.032900</td>\n",
       "      <td>0.300105</td>\n",
       "      <td>1.000000</td>\n",
       "      <td>0.820811</td>\n",
       "      <td>0.000000</td>\n",
       "      <td>0.187794</td>\n",
       "      <td>0.357604</td>\n",
       "      <td>0.180580</td>\n",
       "      <td>0.166855</td>\n",
       "      <td>0.171337</td>\n",
       "      <td>0.245720</td>\n",
       "      <td>0.321023</td>\n",
       "      <td>0.000000</td>\n",
       "      <td>0.000000</td>\n",
       "      <td>0.094066</td>\n",
       "      <td>0.000000</td>\n",
       "    </tr>\n",
       "    <tr>\n",
       "      <th>длительность</th>\n",
       "      <td>0.776842</td>\n",
       "      <td>0.797833</td>\n",
       "      <td>0.830861</td>\n",
       "      <td>0.820811</td>\n",
       "      <td>1.000000</td>\n",
       "      <td>0.479327</td>\n",
       "      <td>0.886333</td>\n",
       "      <td>0.927749</td>\n",
       "      <td>0.926707</td>\n",
       "      <td>0.767598</td>\n",
       "      <td>0.852029</td>\n",
       "      <td>0.712127</td>\n",
       "      <td>0.440686</td>\n",
       "      <td>0.645777</td>\n",
       "      <td>0.530435</td>\n",
       "      <td>0.000000</td>\n",
       "      <td>0.000000</td>\n",
       "    </tr>\n",
       "    <tr>\n",
       "      <th>акционные_покупки</th>\n",
       "      <td>0.056124</td>\n",
       "      <td>0.000000</td>\n",
       "      <td>0.443594</td>\n",
       "      <td>0.000000</td>\n",
       "      <td>0.479327</td>\n",
       "      <td>1.000000</td>\n",
       "      <td>0.163983</td>\n",
       "      <td>0.130824</td>\n",
       "      <td>0.190770</td>\n",
       "      <td>0.000000</td>\n",
       "      <td>0.327067</td>\n",
       "      <td>0.370786</td>\n",
       "      <td>0.366167</td>\n",
       "      <td>0.000000</td>\n",
       "      <td>0.188927</td>\n",
       "      <td>0.102631</td>\n",
       "      <td>0.000000</td>\n",
       "    </tr>\n",
       "    <tr>\n",
       "      <th>популярная_категория</th>\n",
       "      <td>0.104317</td>\n",
       "      <td>0.215637</td>\n",
       "      <td>0.379805</td>\n",
       "      <td>0.187794</td>\n",
       "      <td>0.886333</td>\n",
       "      <td>0.163983</td>\n",
       "      <td>1.000000</td>\n",
       "      <td>0.062967</td>\n",
       "      <td>0.322612</td>\n",
       "      <td>0.056143</td>\n",
       "      <td>0.128120</td>\n",
       "      <td>0.293179</td>\n",
       "      <td>0.229714</td>\n",
       "      <td>0.276140</td>\n",
       "      <td>0.000000</td>\n",
       "      <td>0.255976</td>\n",
       "      <td>0.000000</td>\n",
       "    </tr>\n",
       "    <tr>\n",
       "      <th>средний_просмотр_категорий_за_визит</th>\n",
       "      <td>0.226420</td>\n",
       "      <td>0.000000</td>\n",
       "      <td>0.439608</td>\n",
       "      <td>0.357604</td>\n",
       "      <td>0.927749</td>\n",
       "      <td>0.130824</td>\n",
       "      <td>0.062967</td>\n",
       "      <td>1.000000</td>\n",
       "      <td>0.299136</td>\n",
       "      <td>0.112164</td>\n",
       "      <td>0.380320</td>\n",
       "      <td>0.169610</td>\n",
       "      <td>0.192094</td>\n",
       "      <td>0.000000</td>\n",
       "      <td>0.235071</td>\n",
       "      <td>0.000000</td>\n",
       "      <td>0.000000</td>\n",
       "    </tr>\n",
       "    <tr>\n",
       "      <th>неоплаченные_продукты_штук_квартал</th>\n",
       "      <td>0.125328</td>\n",
       "      <td>0.137989</td>\n",
       "      <td>0.000000</td>\n",
       "      <td>0.180580</td>\n",
       "      <td>0.926707</td>\n",
       "      <td>0.190770</td>\n",
       "      <td>0.322612</td>\n",
       "      <td>0.299136</td>\n",
       "      <td>1.000000</td>\n",
       "      <td>0.000000</td>\n",
       "      <td>0.227489</td>\n",
       "      <td>0.256910</td>\n",
       "      <td>0.171243</td>\n",
       "      <td>0.163890</td>\n",
       "      <td>0.040010</td>\n",
       "      <td>0.145557</td>\n",
       "      <td>0.000000</td>\n",
       "    </tr>\n",
       "    <tr>\n",
       "      <th>ошибка_сервиса</th>\n",
       "      <td>0.150046</td>\n",
       "      <td>0.000000</td>\n",
       "      <td>0.000000</td>\n",
       "      <td>0.166855</td>\n",
       "      <td>0.767598</td>\n",
       "      <td>0.000000</td>\n",
       "      <td>0.056143</td>\n",
       "      <td>0.112164</td>\n",
       "      <td>0.000000</td>\n",
       "      <td>1.000000</td>\n",
       "      <td>0.206559</td>\n",
       "      <td>0.072240</td>\n",
       "      <td>0.216581</td>\n",
       "      <td>0.093930</td>\n",
       "      <td>0.139048</td>\n",
       "      <td>0.038763</td>\n",
       "      <td>0.000000</td>\n",
       "    </tr>\n",
       "    <tr>\n",
       "      <th>страниц_за_визит</th>\n",
       "      <td>0.090578</td>\n",
       "      <td>0.110897</td>\n",
       "      <td>0.712923</td>\n",
       "      <td>0.171337</td>\n",
       "      <td>0.852029</td>\n",
       "      <td>0.327067</td>\n",
       "      <td>0.128120</td>\n",
       "      <td>0.380320</td>\n",
       "      <td>0.227489</td>\n",
       "      <td>0.206559</td>\n",
       "      <td>1.000000</td>\n",
       "      <td>0.601159</td>\n",
       "      <td>0.501466</td>\n",
       "      <td>0.073535</td>\n",
       "      <td>0.525512</td>\n",
       "      <td>0.095325</td>\n",
       "      <td>0.000000</td>\n",
       "    </tr>\n",
       "    <tr>\n",
       "      <th>минут_предыдущий_месяц</th>\n",
       "      <td>0.146675</td>\n",
       "      <td>0.087960</td>\n",
       "      <td>0.585763</td>\n",
       "      <td>0.245720</td>\n",
       "      <td>0.712127</td>\n",
       "      <td>0.370786</td>\n",
       "      <td>0.293179</td>\n",
       "      <td>0.169610</td>\n",
       "      <td>0.256910</td>\n",
       "      <td>0.072240</td>\n",
       "      <td>0.601159</td>\n",
       "      <td>1.000000</td>\n",
       "      <td>0.654815</td>\n",
       "      <td>0.000000</td>\n",
       "      <td>0.466979</td>\n",
       "      <td>0.171924</td>\n",
       "      <td>0.000000</td>\n",
       "    </tr>\n",
       "    <tr>\n",
       "      <th>минут_текущий_месяц</th>\n",
       "      <td>0.048002</td>\n",
       "      <td>0.000000</td>\n",
       "      <td>0.589916</td>\n",
       "      <td>0.321023</td>\n",
       "      <td>0.440686</td>\n",
       "      <td>0.366167</td>\n",
       "      <td>0.229714</td>\n",
       "      <td>0.192094</td>\n",
       "      <td>0.171243</td>\n",
       "      <td>0.216581</td>\n",
       "      <td>0.501466</td>\n",
       "      <td>0.654815</td>\n",
       "      <td>1.000000</td>\n",
       "      <td>0.185517</td>\n",
       "      <td>0.599803</td>\n",
       "      <td>0.138707</td>\n",
       "      <td>0.000000</td>\n",
       "    </tr>\n",
       "    <tr>\n",
       "      <th>выручка_предыдущий_месяц</th>\n",
       "      <td>0.000000</td>\n",
       "      <td>0.167949</td>\n",
       "      <td>0.115337</td>\n",
       "      <td>0.000000</td>\n",
       "      <td>0.645777</td>\n",
       "      <td>0.000000</td>\n",
       "      <td>0.276140</td>\n",
       "      <td>0.000000</td>\n",
       "      <td>0.163890</td>\n",
       "      <td>0.093930</td>\n",
       "      <td>0.073535</td>\n",
       "      <td>0.000000</td>\n",
       "      <td>0.185517</td>\n",
       "      <td>1.000000</td>\n",
       "      <td>0.282229</td>\n",
       "      <td>0.871536</td>\n",
       "      <td>0.194047</td>\n",
       "    </tr>\n",
       "    <tr>\n",
       "      <th>выручка_препредыдущий_месяц</th>\n",
       "      <td>0.221292</td>\n",
       "      <td>0.079843</td>\n",
       "      <td>0.498737</td>\n",
       "      <td>0.000000</td>\n",
       "      <td>0.530435</td>\n",
       "      <td>0.188927</td>\n",
       "      <td>0.000000</td>\n",
       "      <td>0.235071</td>\n",
       "      <td>0.040010</td>\n",
       "      <td>0.139048</td>\n",
       "      <td>0.525512</td>\n",
       "      <td>0.466979</td>\n",
       "      <td>0.599803</td>\n",
       "      <td>0.282229</td>\n",
       "      <td>1.000000</td>\n",
       "      <td>0.256777</td>\n",
       "      <td>0.260358</td>\n",
       "    </tr>\n",
       "    <tr>\n",
       "      <th>выручка_текущий_месяц</th>\n",
       "      <td>0.030954</td>\n",
       "      <td>0.000000</td>\n",
       "      <td>0.292031</td>\n",
       "      <td>0.094066</td>\n",
       "      <td>0.000000</td>\n",
       "      <td>0.102631</td>\n",
       "      <td>0.255976</td>\n",
       "      <td>0.000000</td>\n",
       "      <td>0.145557</td>\n",
       "      <td>0.038763</td>\n",
       "      <td>0.095325</td>\n",
       "      <td>0.171924</td>\n",
       "      <td>0.138707</td>\n",
       "      <td>0.871536</td>\n",
       "      <td>0.256777</td>\n",
       "      <td>1.000000</td>\n",
       "      <td>0.161728</td>\n",
       "    </tr>\n",
       "    <tr>\n",
       "      <th>прибыль</th>\n",
       "      <td>0.062131</td>\n",
       "      <td>0.000000</td>\n",
       "      <td>0.000000</td>\n",
       "      <td>0.000000</td>\n",
       "      <td>0.000000</td>\n",
       "      <td>0.000000</td>\n",
       "      <td>0.000000</td>\n",
       "      <td>0.000000</td>\n",
       "      <td>0.000000</td>\n",
       "      <td>0.000000</td>\n",
       "      <td>0.000000</td>\n",
       "      <td>0.000000</td>\n",
       "      <td>0.000000</td>\n",
       "      <td>0.194047</td>\n",
       "      <td>0.260358</td>\n",
       "      <td>0.161728</td>\n",
       "      <td>1.000000</td>\n",
       "    </tr>\n",
       "  </tbody>\n",
       "</table>\n",
       "</div>"
      ],
      "text/plain": [
       "                                     тип_сервиса  разрешить_сообщать  \\\n",
       "тип_сервиса                             1.000000            0.270449   \n",
       "разрешить_сообщать                      0.270449            1.000000   \n",
       "маркет_актив_6_мес                      0.045708            0.125976   \n",
       "маркет_актив_тек_мес                    0.000000            0.032900   \n",
       "длительность                            0.776842            0.797833   \n",
       "акционные_покупки                       0.056124            0.000000   \n",
       "популярная_категория                    0.104317            0.215637   \n",
       "средний_просмотр_категорий_за_визит     0.226420            0.000000   \n",
       "неоплаченные_продукты_штук_квартал      0.125328            0.137989   \n",
       "ошибка_сервиса                          0.150046            0.000000   \n",
       "страниц_за_визит                        0.090578            0.110897   \n",
       "минут_предыдущий_месяц                  0.146675            0.087960   \n",
       "минут_текущий_месяц                     0.048002            0.000000   \n",
       "выручка_предыдущий_месяц                0.000000            0.167949   \n",
       "выручка_препредыдущий_месяц             0.221292            0.079843   \n",
       "выручка_текущий_месяц                   0.030954            0.000000   \n",
       "прибыль                                 0.062131            0.000000   \n",
       "\n",
       "                                     маркет_актив_6_мес  маркет_актив_тек_мес  \\\n",
       "тип_сервиса                                    0.045708              0.000000   \n",
       "разрешить_сообщать                             0.125976              0.032900   \n",
       "маркет_актив_6_мес                             1.000000              0.300105   \n",
       "маркет_актив_тек_мес                           0.300105              1.000000   \n",
       "длительность                                   0.830861              0.820811   \n",
       "акционные_покупки                              0.443594              0.000000   \n",
       "популярная_категория                           0.379805              0.187794   \n",
       "средний_просмотр_категорий_за_визит            0.439608              0.357604   \n",
       "неоплаченные_продукты_штук_квартал             0.000000              0.180580   \n",
       "ошибка_сервиса                                 0.000000              0.166855   \n",
       "страниц_за_визит                               0.712923              0.171337   \n",
       "минут_предыдущий_месяц                         0.585763              0.245720   \n",
       "минут_текущий_месяц                            0.589916              0.321023   \n",
       "выручка_предыдущий_месяц                       0.115337              0.000000   \n",
       "выручка_препредыдущий_месяц                    0.498737              0.000000   \n",
       "выручка_текущий_месяц                          0.292031              0.094066   \n",
       "прибыль                                        0.000000              0.000000   \n",
       "\n",
       "                                     длительность  акционные_покупки  \\\n",
       "тип_сервиса                              0.776842           0.056124   \n",
       "разрешить_сообщать                       0.797833           0.000000   \n",
       "маркет_актив_6_мес                       0.830861           0.443594   \n",
       "маркет_актив_тек_мес                     0.820811           0.000000   \n",
       "длительность                             1.000000           0.479327   \n",
       "акционные_покупки                        0.479327           1.000000   \n",
       "популярная_категория                     0.886333           0.163983   \n",
       "средний_просмотр_категорий_за_визит      0.927749           0.130824   \n",
       "неоплаченные_продукты_штук_квартал       0.926707           0.190770   \n",
       "ошибка_сервиса                           0.767598           0.000000   \n",
       "страниц_за_визит                         0.852029           0.327067   \n",
       "минут_предыдущий_месяц                   0.712127           0.370786   \n",
       "минут_текущий_месяц                      0.440686           0.366167   \n",
       "выручка_предыдущий_месяц                 0.645777           0.000000   \n",
       "выручка_препредыдущий_месяц              0.530435           0.188927   \n",
       "выручка_текущий_месяц                    0.000000           0.102631   \n",
       "прибыль                                  0.000000           0.000000   \n",
       "\n",
       "                                     популярная_категория  \\\n",
       "тип_сервиса                                      0.104317   \n",
       "разрешить_сообщать                               0.215637   \n",
       "маркет_актив_6_мес                               0.379805   \n",
       "маркет_актив_тек_мес                             0.187794   \n",
       "длительность                                     0.886333   \n",
       "акционные_покупки                                0.163983   \n",
       "популярная_категория                             1.000000   \n",
       "средний_просмотр_категорий_за_визит              0.062967   \n",
       "неоплаченные_продукты_штук_квартал               0.322612   \n",
       "ошибка_сервиса                                   0.056143   \n",
       "страниц_за_визит                                 0.128120   \n",
       "минут_предыдущий_месяц                           0.293179   \n",
       "минут_текущий_месяц                              0.229714   \n",
       "выручка_предыдущий_месяц                         0.276140   \n",
       "выручка_препредыдущий_месяц                      0.000000   \n",
       "выручка_текущий_месяц                            0.255976   \n",
       "прибыль                                          0.000000   \n",
       "\n",
       "                                     средний_просмотр_категорий_за_визит  \\\n",
       "тип_сервиса                                                     0.226420   \n",
       "разрешить_сообщать                                              0.000000   \n",
       "маркет_актив_6_мес                                              0.439608   \n",
       "маркет_актив_тек_мес                                            0.357604   \n",
       "длительность                                                    0.927749   \n",
       "акционные_покупки                                               0.130824   \n",
       "популярная_категория                                            0.062967   \n",
       "средний_просмотр_категорий_за_визит                             1.000000   \n",
       "неоплаченные_продукты_штук_квартал                              0.299136   \n",
       "ошибка_сервиса                                                  0.112164   \n",
       "страниц_за_визит                                                0.380320   \n",
       "минут_предыдущий_месяц                                          0.169610   \n",
       "минут_текущий_месяц                                             0.192094   \n",
       "выручка_предыдущий_месяц                                        0.000000   \n",
       "выручка_препредыдущий_месяц                                     0.235071   \n",
       "выручка_текущий_месяц                                           0.000000   \n",
       "прибыль                                                         0.000000   \n",
       "\n",
       "                                     неоплаченные_продукты_штук_квартал  \\\n",
       "тип_сервиса                                                    0.125328   \n",
       "разрешить_сообщать                                             0.137989   \n",
       "маркет_актив_6_мес                                             0.000000   \n",
       "маркет_актив_тек_мес                                           0.180580   \n",
       "длительность                                                   0.926707   \n",
       "акционные_покупки                                              0.190770   \n",
       "популярная_категория                                           0.322612   \n",
       "средний_просмотр_категорий_за_визит                            0.299136   \n",
       "неоплаченные_продукты_штук_квартал                             1.000000   \n",
       "ошибка_сервиса                                                 0.000000   \n",
       "страниц_за_визит                                               0.227489   \n",
       "минут_предыдущий_месяц                                         0.256910   \n",
       "минут_текущий_месяц                                            0.171243   \n",
       "выручка_предыдущий_месяц                                       0.163890   \n",
       "выручка_препредыдущий_месяц                                    0.040010   \n",
       "выручка_текущий_месяц                                          0.145557   \n",
       "прибыль                                                        0.000000   \n",
       "\n",
       "                                     ошибка_сервиса  страниц_за_визит  \\\n",
       "тип_сервиса                                0.150046          0.090578   \n",
       "разрешить_сообщать                         0.000000          0.110897   \n",
       "маркет_актив_6_мес                         0.000000          0.712923   \n",
       "маркет_актив_тек_мес                       0.166855          0.171337   \n",
       "длительность                               0.767598          0.852029   \n",
       "акционные_покупки                          0.000000          0.327067   \n",
       "популярная_категория                       0.056143          0.128120   \n",
       "средний_просмотр_категорий_за_визит        0.112164          0.380320   \n",
       "неоплаченные_продукты_штук_квартал         0.000000          0.227489   \n",
       "ошибка_сервиса                             1.000000          0.206559   \n",
       "страниц_за_визит                           0.206559          1.000000   \n",
       "минут_предыдущий_месяц                     0.072240          0.601159   \n",
       "минут_текущий_месяц                        0.216581          0.501466   \n",
       "выручка_предыдущий_месяц                   0.093930          0.073535   \n",
       "выручка_препредыдущий_месяц                0.139048          0.525512   \n",
       "выручка_текущий_месяц                      0.038763          0.095325   \n",
       "прибыль                                    0.000000          0.000000   \n",
       "\n",
       "                                     минут_предыдущий_месяц  \\\n",
       "тип_сервиса                                        0.146675   \n",
       "разрешить_сообщать                                 0.087960   \n",
       "маркет_актив_6_мес                                 0.585763   \n",
       "маркет_актив_тек_мес                               0.245720   \n",
       "длительность                                       0.712127   \n",
       "акционные_покупки                                  0.370786   \n",
       "популярная_категория                               0.293179   \n",
       "средний_просмотр_категорий_за_визит                0.169610   \n",
       "неоплаченные_продукты_штук_квартал                 0.256910   \n",
       "ошибка_сервиса                                     0.072240   \n",
       "страниц_за_визит                                   0.601159   \n",
       "минут_предыдущий_месяц                             1.000000   \n",
       "минут_текущий_месяц                                0.654815   \n",
       "выручка_предыдущий_месяц                           0.000000   \n",
       "выручка_препредыдущий_месяц                        0.466979   \n",
       "выручка_текущий_месяц                              0.171924   \n",
       "прибыль                                            0.000000   \n",
       "\n",
       "                                     минут_текущий_месяц  \\\n",
       "тип_сервиса                                     0.048002   \n",
       "разрешить_сообщать                              0.000000   \n",
       "маркет_актив_6_мес                              0.589916   \n",
       "маркет_актив_тек_мес                            0.321023   \n",
       "длительность                                    0.440686   \n",
       "акционные_покупки                               0.366167   \n",
       "популярная_категория                            0.229714   \n",
       "средний_просмотр_категорий_за_визит             0.192094   \n",
       "неоплаченные_продукты_штук_квартал              0.171243   \n",
       "ошибка_сервиса                                  0.216581   \n",
       "страниц_за_визит                                0.501466   \n",
       "минут_предыдущий_месяц                          0.654815   \n",
       "минут_текущий_месяц                             1.000000   \n",
       "выручка_предыдущий_месяц                        0.185517   \n",
       "выручка_препредыдущий_месяц                     0.599803   \n",
       "выручка_текущий_месяц                           0.138707   \n",
       "прибыль                                         0.000000   \n",
       "\n",
       "                                     выручка_предыдущий_месяц  \\\n",
       "тип_сервиса                                          0.000000   \n",
       "разрешить_сообщать                                   0.167949   \n",
       "маркет_актив_6_мес                                   0.115337   \n",
       "маркет_актив_тек_мес                                 0.000000   \n",
       "длительность                                         0.645777   \n",
       "акционные_покупки                                    0.000000   \n",
       "популярная_категория                                 0.276140   \n",
       "средний_просмотр_категорий_за_визит                  0.000000   \n",
       "неоплаченные_продукты_штук_квартал                   0.163890   \n",
       "ошибка_сервиса                                       0.093930   \n",
       "страниц_за_визит                                     0.073535   \n",
       "минут_предыдущий_месяц                               0.000000   \n",
       "минут_текущий_месяц                                  0.185517   \n",
       "выручка_предыдущий_месяц                             1.000000   \n",
       "выручка_препредыдущий_месяц                          0.282229   \n",
       "выручка_текущий_месяц                                0.871536   \n",
       "прибыль                                              0.194047   \n",
       "\n",
       "                                     выручка_препредыдущий_месяц  \\\n",
       "тип_сервиса                                             0.221292   \n",
       "разрешить_сообщать                                      0.079843   \n",
       "маркет_актив_6_мес                                      0.498737   \n",
       "маркет_актив_тек_мес                                    0.000000   \n",
       "длительность                                            0.530435   \n",
       "акционные_покупки                                       0.188927   \n",
       "популярная_категория                                    0.000000   \n",
       "средний_просмотр_категорий_за_визит                     0.235071   \n",
       "неоплаченные_продукты_штук_квартал                      0.040010   \n",
       "ошибка_сервиса                                          0.139048   \n",
       "страниц_за_визит                                        0.525512   \n",
       "минут_предыдущий_месяц                                  0.466979   \n",
       "минут_текущий_месяц                                     0.599803   \n",
       "выручка_предыдущий_месяц                                0.282229   \n",
       "выручка_препредыдущий_месяц                             1.000000   \n",
       "выручка_текущий_месяц                                   0.256777   \n",
       "прибыль                                                 0.260358   \n",
       "\n",
       "                                     выручка_текущий_месяц   прибыль  \n",
       "тип_сервиса                                       0.030954  0.062131  \n",
       "разрешить_сообщать                                0.000000  0.000000  \n",
       "маркет_актив_6_мес                                0.292031  0.000000  \n",
       "маркет_актив_тек_мес                              0.094066  0.000000  \n",
       "длительность                                      0.000000  0.000000  \n",
       "акционные_покупки                                 0.102631  0.000000  \n",
       "популярная_категория                              0.255976  0.000000  \n",
       "средний_просмотр_категорий_за_визит               0.000000  0.000000  \n",
       "неоплаченные_продукты_штук_квартал                0.145557  0.000000  \n",
       "ошибка_сервиса                                    0.038763  0.000000  \n",
       "страниц_за_визит                                  0.095325  0.000000  \n",
       "минут_предыдущий_месяц                            0.171924  0.000000  \n",
       "минут_текущий_месяц                               0.138707  0.000000  \n",
       "выручка_предыдущий_месяц                          0.871536  0.194047  \n",
       "выручка_препредыдущий_месяц                       0.256777  0.260358  \n",
       "выручка_текущий_месяц                             1.000000  0.161728  \n",
       "прибыль                                           0.161728  1.000000  "
      ]
     },
     "execution_count": 51,
     "metadata": {},
     "output_type": "execute_result"
    }
   ],
   "source": [
    "data_unity.drop(['id'], axis=1).query('покупательская_активность == \"Снизилась\"').phik_matrix(interval_cols=['акционные_покупки', \n",
    "                                                                                                             'средний_просмотр_категорий_за_визит', \n",
    "                                                                                                             'выручка_предыдущий_месяц', \n",
    "                                                                                                             'выручка_препредыдущий_месяц', \n",
    "                                                                                                             'выручка_текущий_месяц', 'прибыль'])"
   ]
  },
  {
   "cell_type": "markdown",
   "metadata": {},
   "source": [
    "Матрица корреляции Фика с группировой целового поля по значению == Прежний уровень"
   ]
  },
  {
   "cell_type": "code",
   "execution_count": 52,
   "metadata": {},
   "outputs": [
    {
     "name": "stderr",
     "output_type": "stream",
     "text": [
      "Not enough unique value for variable покупательская_активность for analysis 1. Dropping this column\n"
     ]
    },
    {
     "data": {
      "text/html": [
       "<div>\n",
       "<style scoped>\n",
       "    .dataframe tbody tr th:only-of-type {\n",
       "        vertical-align: middle;\n",
       "    }\n",
       "\n",
       "    .dataframe tbody tr th {\n",
       "        vertical-align: top;\n",
       "    }\n",
       "\n",
       "    .dataframe thead th {\n",
       "        text-align: right;\n",
       "    }\n",
       "</style>\n",
       "<table border=\"1\" class=\"dataframe\">\n",
       "  <thead>\n",
       "    <tr style=\"text-align: right;\">\n",
       "      <th></th>\n",
       "      <th>тип_сервиса</th>\n",
       "      <th>разрешить_сообщать</th>\n",
       "      <th>маркет_актив_6_мес</th>\n",
       "      <th>маркет_актив_тек_мес</th>\n",
       "      <th>длительность</th>\n",
       "      <th>акционные_покупки</th>\n",
       "      <th>популярная_категория</th>\n",
       "      <th>средний_просмотр_категорий_за_визит</th>\n",
       "      <th>неоплаченные_продукты_штук_квартал</th>\n",
       "      <th>ошибка_сервиса</th>\n",
       "      <th>страниц_за_визит</th>\n",
       "      <th>минут_предыдущий_месяц</th>\n",
       "      <th>минут_текущий_месяц</th>\n",
       "      <th>выручка_предыдущий_месяц</th>\n",
       "      <th>выручка_препредыдущий_месяц</th>\n",
       "      <th>выручка_текущий_месяц</th>\n",
       "      <th>прибыль</th>\n",
       "    </tr>\n",
       "  </thead>\n",
       "  <tbody>\n",
       "    <tr>\n",
       "      <th>тип_сервиса</th>\n",
       "      <td>1.000000</td>\n",
       "      <td>0.293044</td>\n",
       "      <td>0.000000</td>\n",
       "      <td>0.056050</td>\n",
       "      <td>0.507653</td>\n",
       "      <td>0.000000</td>\n",
       "      <td>0.000000</td>\n",
       "      <td>0.133683</td>\n",
       "      <td>0.069945</td>\n",
       "      <td>0.000000</td>\n",
       "      <td>0.175517</td>\n",
       "      <td>0.000000</td>\n",
       "      <td>0.174702</td>\n",
       "      <td>0.158301</td>\n",
       "      <td>0.000000</td>\n",
       "      <td>0.115690</td>\n",
       "      <td>0.000000</td>\n",
       "    </tr>\n",
       "    <tr>\n",
       "      <th>разрешить_сообщать</th>\n",
       "      <td>0.293044</td>\n",
       "      <td>1.000000</td>\n",
       "      <td>0.000000</td>\n",
       "      <td>0.067547</td>\n",
       "      <td>0.370744</td>\n",
       "      <td>0.063418</td>\n",
       "      <td>0.000000</td>\n",
       "      <td>0.115093</td>\n",
       "      <td>0.170493</td>\n",
       "      <td>0.024660</td>\n",
       "      <td>0.148224</td>\n",
       "      <td>0.000000</td>\n",
       "      <td>0.000000</td>\n",
       "      <td>0.000000</td>\n",
       "      <td>0.030468</td>\n",
       "      <td>0.000000</td>\n",
       "      <td>0.057553</td>\n",
       "    </tr>\n",
       "    <tr>\n",
       "      <th>маркет_актив_6_мес</th>\n",
       "      <td>0.000000</td>\n",
       "      <td>0.000000</td>\n",
       "      <td>1.000000</td>\n",
       "      <td>0.164259</td>\n",
       "      <td>0.791682</td>\n",
       "      <td>0.086474</td>\n",
       "      <td>0.130979</td>\n",
       "      <td>0.000000</td>\n",
       "      <td>0.040927</td>\n",
       "      <td>0.183756</td>\n",
       "      <td>0.150163</td>\n",
       "      <td>0.250722</td>\n",
       "      <td>0.066110</td>\n",
       "      <td>0.260275</td>\n",
       "      <td>0.187576</td>\n",
       "      <td>0.000000</td>\n",
       "      <td>0.000000</td>\n",
       "    </tr>\n",
       "    <tr>\n",
       "      <th>маркет_актив_тек_мес</th>\n",
       "      <td>0.056050</td>\n",
       "      <td>0.067547</td>\n",
       "      <td>0.164259</td>\n",
       "      <td>1.000000</td>\n",
       "      <td>0.571800</td>\n",
       "      <td>0.056968</td>\n",
       "      <td>0.254070</td>\n",
       "      <td>0.205234</td>\n",
       "      <td>0.147220</td>\n",
       "      <td>0.146153</td>\n",
       "      <td>0.000000</td>\n",
       "      <td>0.000000</td>\n",
       "      <td>0.067813</td>\n",
       "      <td>0.000000</td>\n",
       "      <td>0.000000</td>\n",
       "      <td>0.000000</td>\n",
       "      <td>0.118450</td>\n",
       "    </tr>\n",
       "    <tr>\n",
       "      <th>длительность</th>\n",
       "      <td>0.507653</td>\n",
       "      <td>0.370744</td>\n",
       "      <td>0.791682</td>\n",
       "      <td>0.571800</td>\n",
       "      <td>1.000000</td>\n",
       "      <td>0.000000</td>\n",
       "      <td>0.593924</td>\n",
       "      <td>0.464617</td>\n",
       "      <td>0.833472</td>\n",
       "      <td>0.739858</td>\n",
       "      <td>0.000000</td>\n",
       "      <td>0.583741</td>\n",
       "      <td>0.704615</td>\n",
       "      <td>0.000000</td>\n",
       "      <td>0.572967</td>\n",
       "      <td>0.507549</td>\n",
       "      <td>0.579391</td>\n",
       "    </tr>\n",
       "    <tr>\n",
       "      <th>акционные_покупки</th>\n",
       "      <td>0.000000</td>\n",
       "      <td>0.063418</td>\n",
       "      <td>0.086474</td>\n",
       "      <td>0.056968</td>\n",
       "      <td>0.000000</td>\n",
       "      <td>1.000000</td>\n",
       "      <td>0.000000</td>\n",
       "      <td>0.000000</td>\n",
       "      <td>0.032153</td>\n",
       "      <td>0.030268</td>\n",
       "      <td>0.000000</td>\n",
       "      <td>0.000000</td>\n",
       "      <td>0.000000</td>\n",
       "      <td>0.000000</td>\n",
       "      <td>0.000000</td>\n",
       "      <td>0.073573</td>\n",
       "      <td>0.092724</td>\n",
       "    </tr>\n",
       "    <tr>\n",
       "      <th>популярная_категория</th>\n",
       "      <td>0.000000</td>\n",
       "      <td>0.000000</td>\n",
       "      <td>0.130979</td>\n",
       "      <td>0.254070</td>\n",
       "      <td>0.593924</td>\n",
       "      <td>0.000000</td>\n",
       "      <td>1.000000</td>\n",
       "      <td>0.234219</td>\n",
       "      <td>0.239175</td>\n",
       "      <td>0.000000</td>\n",
       "      <td>0.236878</td>\n",
       "      <td>0.128436</td>\n",
       "      <td>0.136448</td>\n",
       "      <td>0.230392</td>\n",
       "      <td>0.000000</td>\n",
       "      <td>0.363295</td>\n",
       "      <td>0.000000</td>\n",
       "    </tr>\n",
       "    <tr>\n",
       "      <th>средний_просмотр_категорий_за_визит</th>\n",
       "      <td>0.133683</td>\n",
       "      <td>0.115093</td>\n",
       "      <td>0.000000</td>\n",
       "      <td>0.205234</td>\n",
       "      <td>0.464617</td>\n",
       "      <td>0.000000</td>\n",
       "      <td>0.234219</td>\n",
       "      <td>1.000000</td>\n",
       "      <td>0.207764</td>\n",
       "      <td>0.081617</td>\n",
       "      <td>0.011560</td>\n",
       "      <td>0.156391</td>\n",
       "      <td>0.096420</td>\n",
       "      <td>0.000000</td>\n",
       "      <td>0.152694</td>\n",
       "      <td>0.050208</td>\n",
       "      <td>0.082782</td>\n",
       "    </tr>\n",
       "    <tr>\n",
       "      <th>неоплаченные_продукты_штук_квартал</th>\n",
       "      <td>0.069945</td>\n",
       "      <td>0.170493</td>\n",
       "      <td>0.040927</td>\n",
       "      <td>0.147220</td>\n",
       "      <td>0.833472</td>\n",
       "      <td>0.032153</td>\n",
       "      <td>0.239175</td>\n",
       "      <td>0.207764</td>\n",
       "      <td>1.000000</td>\n",
       "      <td>0.000000</td>\n",
       "      <td>0.000000</td>\n",
       "      <td>0.000000</td>\n",
       "      <td>0.101606</td>\n",
       "      <td>0.000000</td>\n",
       "      <td>0.121639</td>\n",
       "      <td>0.000000</td>\n",
       "      <td>0.000000</td>\n",
       "    </tr>\n",
       "    <tr>\n",
       "      <th>ошибка_сервиса</th>\n",
       "      <td>0.000000</td>\n",
       "      <td>0.024660</td>\n",
       "      <td>0.183756</td>\n",
       "      <td>0.146153</td>\n",
       "      <td>0.739858</td>\n",
       "      <td>0.030268</td>\n",
       "      <td>0.000000</td>\n",
       "      <td>0.081617</td>\n",
       "      <td>0.000000</td>\n",
       "      <td>1.000000</td>\n",
       "      <td>0.000000</td>\n",
       "      <td>0.135455</td>\n",
       "      <td>0.080902</td>\n",
       "      <td>0.000000</td>\n",
       "      <td>0.126096</td>\n",
       "      <td>0.155586</td>\n",
       "      <td>0.079144</td>\n",
       "    </tr>\n",
       "    <tr>\n",
       "      <th>страниц_за_визит</th>\n",
       "      <td>0.175517</td>\n",
       "      <td>0.148224</td>\n",
       "      <td>0.150163</td>\n",
       "      <td>0.000000</td>\n",
       "      <td>0.000000</td>\n",
       "      <td>0.000000</td>\n",
       "      <td>0.236878</td>\n",
       "      <td>0.011560</td>\n",
       "      <td>0.000000</td>\n",
       "      <td>0.000000</td>\n",
       "      <td>1.000000</td>\n",
       "      <td>0.000000</td>\n",
       "      <td>0.177199</td>\n",
       "      <td>0.000000</td>\n",
       "      <td>0.000000</td>\n",
       "      <td>0.000000</td>\n",
       "      <td>0.000000</td>\n",
       "    </tr>\n",
       "    <tr>\n",
       "      <th>минут_предыдущий_месяц</th>\n",
       "      <td>0.000000</td>\n",
       "      <td>0.000000</td>\n",
       "      <td>0.250722</td>\n",
       "      <td>0.000000</td>\n",
       "      <td>0.583741</td>\n",
       "      <td>0.000000</td>\n",
       "      <td>0.128436</td>\n",
       "      <td>0.156391</td>\n",
       "      <td>0.000000</td>\n",
       "      <td>0.135455</td>\n",
       "      <td>0.000000</td>\n",
       "      <td>1.000000</td>\n",
       "      <td>0.098466</td>\n",
       "      <td>0.000000</td>\n",
       "      <td>0.167948</td>\n",
       "      <td>0.187470</td>\n",
       "      <td>0.000000</td>\n",
       "    </tr>\n",
       "    <tr>\n",
       "      <th>минут_текущий_месяц</th>\n",
       "      <td>0.174702</td>\n",
       "      <td>0.000000</td>\n",
       "      <td>0.066110</td>\n",
       "      <td>0.067813</td>\n",
       "      <td>0.704615</td>\n",
       "      <td>0.000000</td>\n",
       "      <td>0.136448</td>\n",
       "      <td>0.096420</td>\n",
       "      <td>0.101606</td>\n",
       "      <td>0.080902</td>\n",
       "      <td>0.177199</td>\n",
       "      <td>0.098466</td>\n",
       "      <td>1.000000</td>\n",
       "      <td>0.156745</td>\n",
       "      <td>0.173303</td>\n",
       "      <td>0.250582</td>\n",
       "      <td>0.000000</td>\n",
       "    </tr>\n",
       "    <tr>\n",
       "      <th>выручка_предыдущий_месяц</th>\n",
       "      <td>0.158301</td>\n",
       "      <td>0.000000</td>\n",
       "      <td>0.260275</td>\n",
       "      <td>0.000000</td>\n",
       "      <td>0.000000</td>\n",
       "      <td>0.000000</td>\n",
       "      <td>0.230392</td>\n",
       "      <td>0.000000</td>\n",
       "      <td>0.000000</td>\n",
       "      <td>0.000000</td>\n",
       "      <td>0.000000</td>\n",
       "      <td>0.000000</td>\n",
       "      <td>0.156745</td>\n",
       "      <td>1.000000</td>\n",
       "      <td>0.419231</td>\n",
       "      <td>0.867052</td>\n",
       "      <td>0.000000</td>\n",
       "    </tr>\n",
       "    <tr>\n",
       "      <th>выручка_препредыдущий_месяц</th>\n",
       "      <td>0.000000</td>\n",
       "      <td>0.030468</td>\n",
       "      <td>0.187576</td>\n",
       "      <td>0.000000</td>\n",
       "      <td>0.572967</td>\n",
       "      <td>0.000000</td>\n",
       "      <td>0.000000</td>\n",
       "      <td>0.152694</td>\n",
       "      <td>0.121639</td>\n",
       "      <td>0.126096</td>\n",
       "      <td>0.000000</td>\n",
       "      <td>0.167948</td>\n",
       "      <td>0.173303</td>\n",
       "      <td>0.419231</td>\n",
       "      <td>1.000000</td>\n",
       "      <td>0.498361</td>\n",
       "      <td>0.000000</td>\n",
       "    </tr>\n",
       "    <tr>\n",
       "      <th>выручка_текущий_месяц</th>\n",
       "      <td>0.115690</td>\n",
       "      <td>0.000000</td>\n",
       "      <td>0.000000</td>\n",
       "      <td>0.000000</td>\n",
       "      <td>0.507549</td>\n",
       "      <td>0.073573</td>\n",
       "      <td>0.363295</td>\n",
       "      <td>0.050208</td>\n",
       "      <td>0.000000</td>\n",
       "      <td>0.155586</td>\n",
       "      <td>0.000000</td>\n",
       "      <td>0.187470</td>\n",
       "      <td>0.250582</td>\n",
       "      <td>0.867052</td>\n",
       "      <td>0.498361</td>\n",
       "      <td>1.000000</td>\n",
       "      <td>0.062045</td>\n",
       "    </tr>\n",
       "    <tr>\n",
       "      <th>прибыль</th>\n",
       "      <td>0.000000</td>\n",
       "      <td>0.057553</td>\n",
       "      <td>0.000000</td>\n",
       "      <td>0.118450</td>\n",
       "      <td>0.579391</td>\n",
       "      <td>0.092724</td>\n",
       "      <td>0.000000</td>\n",
       "      <td>0.082782</td>\n",
       "      <td>0.000000</td>\n",
       "      <td>0.079144</td>\n",
       "      <td>0.000000</td>\n",
       "      <td>0.000000</td>\n",
       "      <td>0.000000</td>\n",
       "      <td>0.000000</td>\n",
       "      <td>0.000000</td>\n",
       "      <td>0.062045</td>\n",
       "      <td>1.000000</td>\n",
       "    </tr>\n",
       "  </tbody>\n",
       "</table>\n",
       "</div>"
      ],
      "text/plain": [
       "                                     тип_сервиса  разрешить_сообщать  \\\n",
       "тип_сервиса                             1.000000            0.293044   \n",
       "разрешить_сообщать                      0.293044            1.000000   \n",
       "маркет_актив_6_мес                      0.000000            0.000000   \n",
       "маркет_актив_тек_мес                    0.056050            0.067547   \n",
       "длительность                            0.507653            0.370744   \n",
       "акционные_покупки                       0.000000            0.063418   \n",
       "популярная_категория                    0.000000            0.000000   \n",
       "средний_просмотр_категорий_за_визит     0.133683            0.115093   \n",
       "неоплаченные_продукты_штук_квартал      0.069945            0.170493   \n",
       "ошибка_сервиса                          0.000000            0.024660   \n",
       "страниц_за_визит                        0.175517            0.148224   \n",
       "минут_предыдущий_месяц                  0.000000            0.000000   \n",
       "минут_текущий_месяц                     0.174702            0.000000   \n",
       "выручка_предыдущий_месяц                0.158301            0.000000   \n",
       "выручка_препредыдущий_месяц             0.000000            0.030468   \n",
       "выручка_текущий_месяц                   0.115690            0.000000   \n",
       "прибыль                                 0.000000            0.057553   \n",
       "\n",
       "                                     маркет_актив_6_мес  маркет_актив_тек_мес  \\\n",
       "тип_сервиса                                    0.000000              0.056050   \n",
       "разрешить_сообщать                             0.000000              0.067547   \n",
       "маркет_актив_6_мес                             1.000000              0.164259   \n",
       "маркет_актив_тек_мес                           0.164259              1.000000   \n",
       "длительность                                   0.791682              0.571800   \n",
       "акционные_покупки                              0.086474              0.056968   \n",
       "популярная_категория                           0.130979              0.254070   \n",
       "средний_просмотр_категорий_за_визит            0.000000              0.205234   \n",
       "неоплаченные_продукты_штук_квартал             0.040927              0.147220   \n",
       "ошибка_сервиса                                 0.183756              0.146153   \n",
       "страниц_за_визит                               0.150163              0.000000   \n",
       "минут_предыдущий_месяц                         0.250722              0.000000   \n",
       "минут_текущий_месяц                            0.066110              0.067813   \n",
       "выручка_предыдущий_месяц                       0.260275              0.000000   \n",
       "выручка_препредыдущий_месяц                    0.187576              0.000000   \n",
       "выручка_текущий_месяц                          0.000000              0.000000   \n",
       "прибыль                                        0.000000              0.118450   \n",
       "\n",
       "                                     длительность  акционные_покупки  \\\n",
       "тип_сервиса                              0.507653           0.000000   \n",
       "разрешить_сообщать                       0.370744           0.063418   \n",
       "маркет_актив_6_мес                       0.791682           0.086474   \n",
       "маркет_актив_тек_мес                     0.571800           0.056968   \n",
       "длительность                             1.000000           0.000000   \n",
       "акционные_покупки                        0.000000           1.000000   \n",
       "популярная_категория                     0.593924           0.000000   \n",
       "средний_просмотр_категорий_за_визит      0.464617           0.000000   \n",
       "неоплаченные_продукты_штук_квартал       0.833472           0.032153   \n",
       "ошибка_сервиса                           0.739858           0.030268   \n",
       "страниц_за_визит                         0.000000           0.000000   \n",
       "минут_предыдущий_месяц                   0.583741           0.000000   \n",
       "минут_текущий_месяц                      0.704615           0.000000   \n",
       "выручка_предыдущий_месяц                 0.000000           0.000000   \n",
       "выручка_препредыдущий_месяц              0.572967           0.000000   \n",
       "выручка_текущий_месяц                    0.507549           0.073573   \n",
       "прибыль                                  0.579391           0.092724   \n",
       "\n",
       "                                     популярная_категория  \\\n",
       "тип_сервиса                                      0.000000   \n",
       "разрешить_сообщать                               0.000000   \n",
       "маркет_актив_6_мес                               0.130979   \n",
       "маркет_актив_тек_мес                             0.254070   \n",
       "длительность                                     0.593924   \n",
       "акционные_покупки                                0.000000   \n",
       "популярная_категория                             1.000000   \n",
       "средний_просмотр_категорий_за_визит              0.234219   \n",
       "неоплаченные_продукты_штук_квартал               0.239175   \n",
       "ошибка_сервиса                                   0.000000   \n",
       "страниц_за_визит                                 0.236878   \n",
       "минут_предыдущий_месяц                           0.128436   \n",
       "минут_текущий_месяц                              0.136448   \n",
       "выручка_предыдущий_месяц                         0.230392   \n",
       "выручка_препредыдущий_месяц                      0.000000   \n",
       "выручка_текущий_месяц                            0.363295   \n",
       "прибыль                                          0.000000   \n",
       "\n",
       "                                     средний_просмотр_категорий_за_визит  \\\n",
       "тип_сервиса                                                     0.133683   \n",
       "разрешить_сообщать                                              0.115093   \n",
       "маркет_актив_6_мес                                              0.000000   \n",
       "маркет_актив_тек_мес                                            0.205234   \n",
       "длительность                                                    0.464617   \n",
       "акционные_покупки                                               0.000000   \n",
       "популярная_категория                                            0.234219   \n",
       "средний_просмотр_категорий_за_визит                             1.000000   \n",
       "неоплаченные_продукты_штук_квартал                              0.207764   \n",
       "ошибка_сервиса                                                  0.081617   \n",
       "страниц_за_визит                                                0.011560   \n",
       "минут_предыдущий_месяц                                          0.156391   \n",
       "минут_текущий_месяц                                             0.096420   \n",
       "выручка_предыдущий_месяц                                        0.000000   \n",
       "выручка_препредыдущий_месяц                                     0.152694   \n",
       "выручка_текущий_месяц                                           0.050208   \n",
       "прибыль                                                         0.082782   \n",
       "\n",
       "                                     неоплаченные_продукты_штук_квартал  \\\n",
       "тип_сервиса                                                    0.069945   \n",
       "разрешить_сообщать                                             0.170493   \n",
       "маркет_актив_6_мес                                             0.040927   \n",
       "маркет_актив_тек_мес                                           0.147220   \n",
       "длительность                                                   0.833472   \n",
       "акционные_покупки                                              0.032153   \n",
       "популярная_категория                                           0.239175   \n",
       "средний_просмотр_категорий_за_визит                            0.207764   \n",
       "неоплаченные_продукты_штук_квартал                             1.000000   \n",
       "ошибка_сервиса                                                 0.000000   \n",
       "страниц_за_визит                                               0.000000   \n",
       "минут_предыдущий_месяц                                         0.000000   \n",
       "минут_текущий_месяц                                            0.101606   \n",
       "выручка_предыдущий_месяц                                       0.000000   \n",
       "выручка_препредыдущий_месяц                                    0.121639   \n",
       "выручка_текущий_месяц                                          0.000000   \n",
       "прибыль                                                        0.000000   \n",
       "\n",
       "                                     ошибка_сервиса  страниц_за_визит  \\\n",
       "тип_сервиса                                0.000000          0.175517   \n",
       "разрешить_сообщать                         0.024660          0.148224   \n",
       "маркет_актив_6_мес                         0.183756          0.150163   \n",
       "маркет_актив_тек_мес                       0.146153          0.000000   \n",
       "длительность                               0.739858          0.000000   \n",
       "акционные_покупки                          0.030268          0.000000   \n",
       "популярная_категория                       0.000000          0.236878   \n",
       "средний_просмотр_категорий_за_визит        0.081617          0.011560   \n",
       "неоплаченные_продукты_штук_квартал         0.000000          0.000000   \n",
       "ошибка_сервиса                             1.000000          0.000000   \n",
       "страниц_за_визит                           0.000000          1.000000   \n",
       "минут_предыдущий_месяц                     0.135455          0.000000   \n",
       "минут_текущий_месяц                        0.080902          0.177199   \n",
       "выручка_предыдущий_месяц                   0.000000          0.000000   \n",
       "выручка_препредыдущий_месяц                0.126096          0.000000   \n",
       "выручка_текущий_месяц                      0.155586          0.000000   \n",
       "прибыль                                    0.079144          0.000000   \n",
       "\n",
       "                                     минут_предыдущий_месяц  \\\n",
       "тип_сервиса                                        0.000000   \n",
       "разрешить_сообщать                                 0.000000   \n",
       "маркет_актив_6_мес                                 0.250722   \n",
       "маркет_актив_тек_мес                               0.000000   \n",
       "длительность                                       0.583741   \n",
       "акционные_покупки                                  0.000000   \n",
       "популярная_категория                               0.128436   \n",
       "средний_просмотр_категорий_за_визит                0.156391   \n",
       "неоплаченные_продукты_штук_квартал                 0.000000   \n",
       "ошибка_сервиса                                     0.135455   \n",
       "страниц_за_визит                                   0.000000   \n",
       "минут_предыдущий_месяц                             1.000000   \n",
       "минут_текущий_месяц                                0.098466   \n",
       "выручка_предыдущий_месяц                           0.000000   \n",
       "выручка_препредыдущий_месяц                        0.167948   \n",
       "выручка_текущий_месяц                              0.187470   \n",
       "прибыль                                            0.000000   \n",
       "\n",
       "                                     минут_текущий_месяц  \\\n",
       "тип_сервиса                                     0.174702   \n",
       "разрешить_сообщать                              0.000000   \n",
       "маркет_актив_6_мес                              0.066110   \n",
       "маркет_актив_тек_мес                            0.067813   \n",
       "длительность                                    0.704615   \n",
       "акционные_покупки                               0.000000   \n",
       "популярная_категория                            0.136448   \n",
       "средний_просмотр_категорий_за_визит             0.096420   \n",
       "неоплаченные_продукты_штук_квартал              0.101606   \n",
       "ошибка_сервиса                                  0.080902   \n",
       "страниц_за_визит                                0.177199   \n",
       "минут_предыдущий_месяц                          0.098466   \n",
       "минут_текущий_месяц                             1.000000   \n",
       "выручка_предыдущий_месяц                        0.156745   \n",
       "выручка_препредыдущий_месяц                     0.173303   \n",
       "выручка_текущий_месяц                           0.250582   \n",
       "прибыль                                         0.000000   \n",
       "\n",
       "                                     выручка_предыдущий_месяц  \\\n",
       "тип_сервиса                                          0.158301   \n",
       "разрешить_сообщать                                   0.000000   \n",
       "маркет_актив_6_мес                                   0.260275   \n",
       "маркет_актив_тек_мес                                 0.000000   \n",
       "длительность                                         0.000000   \n",
       "акционные_покупки                                    0.000000   \n",
       "популярная_категория                                 0.230392   \n",
       "средний_просмотр_категорий_за_визит                  0.000000   \n",
       "неоплаченные_продукты_штук_квартал                   0.000000   \n",
       "ошибка_сервиса                                       0.000000   \n",
       "страниц_за_визит                                     0.000000   \n",
       "минут_предыдущий_месяц                               0.000000   \n",
       "минут_текущий_месяц                                  0.156745   \n",
       "выручка_предыдущий_месяц                             1.000000   \n",
       "выручка_препредыдущий_месяц                          0.419231   \n",
       "выручка_текущий_месяц                                0.867052   \n",
       "прибыль                                              0.000000   \n",
       "\n",
       "                                     выручка_препредыдущий_месяц  \\\n",
       "тип_сервиса                                             0.000000   \n",
       "разрешить_сообщать                                      0.030468   \n",
       "маркет_актив_6_мес                                      0.187576   \n",
       "маркет_актив_тек_мес                                    0.000000   \n",
       "длительность                                            0.572967   \n",
       "акционные_покупки                                       0.000000   \n",
       "популярная_категория                                    0.000000   \n",
       "средний_просмотр_категорий_за_визит                     0.152694   \n",
       "неоплаченные_продукты_штук_квартал                      0.121639   \n",
       "ошибка_сервиса                                          0.126096   \n",
       "страниц_за_визит                                        0.000000   \n",
       "минут_предыдущий_месяц                                  0.167948   \n",
       "минут_текущий_месяц                                     0.173303   \n",
       "выручка_предыдущий_месяц                                0.419231   \n",
       "выручка_препредыдущий_месяц                             1.000000   \n",
       "выручка_текущий_месяц                                   0.498361   \n",
       "прибыль                                                 0.000000   \n",
       "\n",
       "                                     выручка_текущий_месяц   прибыль  \n",
       "тип_сервиса                                       0.115690  0.000000  \n",
       "разрешить_сообщать                                0.000000  0.057553  \n",
       "маркет_актив_6_мес                                0.000000  0.000000  \n",
       "маркет_актив_тек_мес                              0.000000  0.118450  \n",
       "длительность                                      0.507549  0.579391  \n",
       "акционные_покупки                                 0.073573  0.092724  \n",
       "популярная_категория                              0.363295  0.000000  \n",
       "средний_просмотр_категорий_за_визит               0.050208  0.082782  \n",
       "неоплаченные_продукты_штук_квартал                0.000000  0.000000  \n",
       "ошибка_сервиса                                    0.155586  0.079144  \n",
       "страниц_за_визит                                  0.000000  0.000000  \n",
       "минут_предыдущий_месяц                            0.187470  0.000000  \n",
       "минут_текущий_месяц                               0.250582  0.000000  \n",
       "выручка_предыдущий_месяц                          0.867052  0.000000  \n",
       "выручка_препредыдущий_месяц                       0.498361  0.000000  \n",
       "выручка_текущий_месяц                             1.000000  0.062045  \n",
       "прибыль                                           0.062045  1.000000  "
      ]
     },
     "execution_count": 52,
     "metadata": {},
     "output_type": "execute_result"
    }
   ],
   "source": [
    "data_unity.drop(['id'], axis=1).query('покупательская_активность == \"Прежний уровень\"').phik_matrix(interval_cols=['акционные_покупки', \n",
    "                                                                                                             'средний_просмотр_категорий_за_визит', \n",
    "                                                                                                             'выручка_предыдущий_месяц', \n",
    "                                                                                                             'выручка_препредыдущий_месяц', \n",
    "                                                                                                             'выручка_текущий_месяц', 'прибыль'])"
   ]
  },
  {
   "cell_type": "markdown",
   "metadata": {},
   "source": [
    "### Вывод"
   ]
  },
  {
   "cell_type": "markdown",
   "metadata": {},
   "source": [
    "Обнаружена сильная корреляция между признаками выручка за предыдущий месяц и выручка за текущий месяц. Это может говорить о том что в целом люди не уходят с площадки.\n",
    "  \n",
    "среди остальных признаков даже средняя корреляция является редкостью, что говорит о том что линейные модели на этих данных скорее всего покажут себя не очень эффективно"
   ]
  },
  {
   "cell_type": "markdown",
   "metadata": {},
   "source": [
    "## Пайплайны"
   ]
  },
  {
   "cell_type": "code",
   "execution_count": 53,
   "metadata": {},
   "outputs": [],
   "source": [
    "data_unity = data_unity.set_index('id')"
   ]
  },
  {
   "cell_type": "code",
   "execution_count": 54,
   "metadata": {},
   "outputs": [],
   "source": [
    "\n",
    "X_train, X_test, y_train, y_test = train_test_split(\n",
    "    data_unity.drop(['покупательская_активность', 'прибыль'], axis=1),\n",
    "    pd.get_dummies(data_unity['покупательская_активность'], drop_first=True),\n",
    "    test_size = 0.25, \n",
    "    random_state = 42,\n",
    "    stratify = pd.get_dummies(data_unity['покупательская_активность'], drop_first=True))"
   ]
  },
  {
   "cell_type": "code",
   "execution_count": 55,
   "metadata": {},
   "outputs": [],
   "source": [
    "encoder = LabelEncoder()\n",
    "y_train_trans = encoder.fit_transform(y_train.values.ravel())\n",
    "y_test_trans = encoder.transform(y_test.values.ravel())"
   ]
  },
  {
   "cell_type": "code",
   "execution_count": 56,
   "metadata": {},
   "outputs": [
    {
     "data": {
      "text/html": [
       "<div>\n",
       "<style scoped>\n",
       "    .dataframe tbody tr th:only-of-type {\n",
       "        vertical-align: middle;\n",
       "    }\n",
       "\n",
       "    .dataframe tbody tr th {\n",
       "        vertical-align: top;\n",
       "    }\n",
       "\n",
       "    .dataframe thead th {\n",
       "        text-align: right;\n",
       "    }\n",
       "</style>\n",
       "<table border=\"1\" class=\"dataframe\">\n",
       "  <thead>\n",
       "    <tr style=\"text-align: right;\">\n",
       "      <th></th>\n",
       "      <th>покупательская_активность</th>\n",
       "      <th>тип_сервиса</th>\n",
       "      <th>разрешить_сообщать</th>\n",
       "      <th>маркет_актив_6_мес</th>\n",
       "      <th>маркет_актив_тек_мес</th>\n",
       "      <th>длительность</th>\n",
       "      <th>акционные_покупки</th>\n",
       "      <th>популярная_категория</th>\n",
       "      <th>средний_просмотр_категорий_за_визит</th>\n",
       "      <th>неоплаченные_продукты_штук_квартал</th>\n",
       "      <th>ошибка_сервиса</th>\n",
       "      <th>страниц_за_визит</th>\n",
       "      <th>минут_предыдущий_месяц</th>\n",
       "      <th>минут_текущий_месяц</th>\n",
       "      <th>выручка_предыдущий_месяц</th>\n",
       "      <th>выручка_препредыдущий_месяц</th>\n",
       "      <th>выручка_текущий_месяц</th>\n",
       "      <th>прибыль</th>\n",
       "    </tr>\n",
       "    <tr>\n",
       "      <th>id</th>\n",
       "      <th></th>\n",
       "      <th></th>\n",
       "      <th></th>\n",
       "      <th></th>\n",
       "      <th></th>\n",
       "      <th></th>\n",
       "      <th></th>\n",
       "      <th></th>\n",
       "      <th></th>\n",
       "      <th></th>\n",
       "      <th></th>\n",
       "      <th></th>\n",
       "      <th></th>\n",
       "      <th></th>\n",
       "      <th></th>\n",
       "      <th></th>\n",
       "      <th></th>\n",
       "      <th></th>\n",
       "    </tr>\n",
       "  </thead>\n",
       "  <tbody>\n",
       "    <tr>\n",
       "      <th>215349</th>\n",
       "      <td>Снизилась</td>\n",
       "      <td>премиум</td>\n",
       "      <td>да</td>\n",
       "      <td>4.4</td>\n",
       "      <td>4</td>\n",
       "      <td>819</td>\n",
       "      <td>0.75</td>\n",
       "      <td>Товары для детей</td>\n",
       "      <td>4</td>\n",
       "      <td>4</td>\n",
       "      <td>2</td>\n",
       "      <td>5</td>\n",
       "      <td>12</td>\n",
       "      <td>10</td>\n",
       "      <td>5216.0</td>\n",
       "      <td>4472.0</td>\n",
       "      <td>4971.6</td>\n",
       "      <td>4.16</td>\n",
       "    </tr>\n",
       "    <tr>\n",
       "      <th>215350</th>\n",
       "      <td>Снизилась</td>\n",
       "      <td>стандарт</td>\n",
       "      <td>нет</td>\n",
       "      <td>4.9</td>\n",
       "      <td>3</td>\n",
       "      <td>539</td>\n",
       "      <td>0.14</td>\n",
       "      <td>Домашний текстиль</td>\n",
       "      <td>5</td>\n",
       "      <td>2</td>\n",
       "      <td>1</td>\n",
       "      <td>5</td>\n",
       "      <td>8</td>\n",
       "      <td>13</td>\n",
       "      <td>5457.5</td>\n",
       "      <td>4826.0</td>\n",
       "      <td>5058.4</td>\n",
       "      <td>3.13</td>\n",
       "    </tr>\n",
       "    <tr>\n",
       "      <th>215351</th>\n",
       "      <td>Снизилась</td>\n",
       "      <td>стандарт</td>\n",
       "      <td>да</td>\n",
       "      <td>3.2</td>\n",
       "      <td>5</td>\n",
       "      <td>896</td>\n",
       "      <td>0.99</td>\n",
       "      <td>Товары для детей</td>\n",
       "      <td>5</td>\n",
       "      <td>0</td>\n",
       "      <td>6</td>\n",
       "      <td>4</td>\n",
       "      <td>11</td>\n",
       "      <td>13</td>\n",
       "      <td>6158.0</td>\n",
       "      <td>4793.0</td>\n",
       "      <td>6610.4</td>\n",
       "      <td>4.87</td>\n",
       "    </tr>\n",
       "    <tr>\n",
       "      <th>215352</th>\n",
       "      <td>Снизилась</td>\n",
       "      <td>стандарт</td>\n",
       "      <td>нет</td>\n",
       "      <td>5.1</td>\n",
       "      <td>3</td>\n",
       "      <td>1064</td>\n",
       "      <td>0.94</td>\n",
       "      <td>Товары для детей</td>\n",
       "      <td>3</td>\n",
       "      <td>2</td>\n",
       "      <td>3</td>\n",
       "      <td>2</td>\n",
       "      <td>8</td>\n",
       "      <td>11</td>\n",
       "      <td>5807.5</td>\n",
       "      <td>4594.0</td>\n",
       "      <td>5872.5</td>\n",
       "      <td>4.21</td>\n",
       "    </tr>\n",
       "    <tr>\n",
       "      <th>215353</th>\n",
       "      <td>Снизилась</td>\n",
       "      <td>стандарт</td>\n",
       "      <td>да</td>\n",
       "      <td>3.3</td>\n",
       "      <td>4</td>\n",
       "      <td>762</td>\n",
       "      <td>0.26</td>\n",
       "      <td>Домашний текстиль</td>\n",
       "      <td>4</td>\n",
       "      <td>1</td>\n",
       "      <td>1</td>\n",
       "      <td>4</td>\n",
       "      <td>10</td>\n",
       "      <td>10</td>\n",
       "      <td>4738.5</td>\n",
       "      <td>5124.0</td>\n",
       "      <td>5388.5</td>\n",
       "      <td>3.95</td>\n",
       "    </tr>\n",
       "  </tbody>\n",
       "</table>\n",
       "</div>"
      ],
      "text/plain": [
       "       покупательская_активность тип_сервиса разрешить_сообщать  \\\n",
       "id                                                                \n",
       "215349                 Снизилась     премиум                 да   \n",
       "215350                 Снизилась    стандарт                нет   \n",
       "215351                 Снизилась    стандарт                 да   \n",
       "215352                 Снизилась    стандарт                нет   \n",
       "215353                 Снизилась    стандарт                 да   \n",
       "\n",
       "        маркет_актив_6_мес  маркет_актив_тек_мес  длительность  \\\n",
       "id                                                               \n",
       "215349                 4.4                     4           819   \n",
       "215350                 4.9                     3           539   \n",
       "215351                 3.2                     5           896   \n",
       "215352                 5.1                     3          1064   \n",
       "215353                 3.3                     4           762   \n",
       "\n",
       "        акционные_покупки популярная_категория  \\\n",
       "id                                               \n",
       "215349               0.75     Товары для детей   \n",
       "215350               0.14    Домашний текстиль   \n",
       "215351               0.99     Товары для детей   \n",
       "215352               0.94     Товары для детей   \n",
       "215353               0.26    Домашний текстиль   \n",
       "\n",
       "        средний_просмотр_категорий_за_визит  \\\n",
       "id                                            \n",
       "215349                                    4   \n",
       "215350                                    5   \n",
       "215351                                    5   \n",
       "215352                                    3   \n",
       "215353                                    4   \n",
       "\n",
       "        неоплаченные_продукты_штук_квартал  ошибка_сервиса  страниц_за_визит  \\\n",
       "id                                                                             \n",
       "215349                                   4               2                 5   \n",
       "215350                                   2               1                 5   \n",
       "215351                                   0               6                 4   \n",
       "215352                                   2               3                 2   \n",
       "215353                                   1               1                 4   \n",
       "\n",
       "        минут_предыдущий_месяц  минут_текущий_месяц  выручка_предыдущий_месяц  \\\n",
       "id                                                                              \n",
       "215349                      12                   10                    5216.0   \n",
       "215350                       8                   13                    5457.5   \n",
       "215351                      11                   13                    6158.0   \n",
       "215352                       8                   11                    5807.5   \n",
       "215353                      10                   10                    4738.5   \n",
       "\n",
       "        выручка_препредыдущий_месяц  выручка_текущий_месяц  прибыль  \n",
       "id                                                                   \n",
       "215349                       4472.0                 4971.6     4.16  \n",
       "215350                       4826.0                 5058.4     3.13  \n",
       "215351                       4793.0                 6610.4     4.87  \n",
       "215352                       4594.0                 5872.5     4.21  \n",
       "215353                       5124.0                 5388.5     3.95  "
      ]
     },
     "execution_count": 56,
     "metadata": {},
     "output_type": "execute_result"
    }
   ],
   "source": [
    "data_unity.head()"
   ]
  },
  {
   "cell_type": "code",
   "execution_count": 57,
   "metadata": {},
   "outputs": [],
   "source": [
    "ohe_columns = [ \n",
    "    'разрешить_сообщать', \n",
    "    'популярная_категория',  \n",
    "]\n",
    "\n",
    "num_columns = ['маркет_актив_6_мес', \n",
    "               'маркет_актив_тек_мес', \n",
    "               'длительность', \n",
    "               'акционные_покупки', \n",
    "               'средний_просмотр_категорий_за_визит', \n",
    "               'неоплаченные_продукты_штук_квартал', \n",
    "               'ошибка_сервиса', \n",
    "               'страниц_за_визит', \n",
    "               'минут_предыдущий_месяц',\n",
    "               'минут_текущий_месяц',\n",
    "               'выручка_текущий_месяц', \n",
    "               'выручка_предыдущий_месяц', \n",
    "               'выручка_препредыдущий_месяц'] \n",
    "\n",
    "ord_columns = ['тип_сервиса']"
   ]
  },
  {
   "cell_type": "code",
   "execution_count": 58,
   "metadata": {},
   "outputs": [],
   "source": [
    "ohe_pipe = Pipeline(\n",
    "    [('simpleImputer_ohe', SimpleImputer(missing_values=np.nan, strategy='most_frequent')),\n",
    "     ('ohe', OneHotEncoder(drop='first', handle_unknown='ignore', sparse=False))\n",
    "    ]\n",
    "    )\n",
    "\n",
    "ord_pipe = Pipeline(\n",
    "    [('simpleImputer_before_ord', SimpleImputer(missing_values=np.nan, strategy='most_frequent')),\n",
    "     ('ord',  OrdinalEncoder(\n",
    "                categories=[\n",
    "                    ['премиум', 'стандарт']\n",
    "                ], \n",
    "                handle_unknown='use_encoded_value', unknown_value=np.nan\n",
    "            )\n",
    "        ),\n",
    "     ('simpleImputer_after_ord', SimpleImputer(missing_values=np.nan, strategy='most_frequent'))\n",
    "    ]\n",
    ")"
   ]
  },
  {
   "cell_type": "code",
   "execution_count": 59,
   "metadata": {},
   "outputs": [],
   "source": [
    "data_preprocessor = ColumnTransformer(\n",
    "    [\n",
    "        ('ohe', OneHotEncoder(drop='first', handle_unknown='error', sparse=False), ohe_columns),\n",
    "        ('ord', ord_pipe, ord_columns),\n",
    "        ('num', StandardScaler(), num_columns)\n",
    "    ], \n",
    "    remainder='passthrough'\n",
    ") "
   ]
  },
  {
   "cell_type": "code",
   "execution_count": 60,
   "metadata": {},
   "outputs": [],
   "source": [
    "pipe_final = Pipeline(\n",
    "    [\n",
    "        ('preprocessor', data_preprocessor),\n",
    "        ('models', DecisionTreeClassifier(random_state=42))\n",
    "    ]\n",
    ") "
   ]
  },
  {
   "cell_type": "markdown",
   "metadata": {},
   "source": [
    "В этой задаче я выбрал метрику roc-auc потому что это один способов оценить модель в целом, не привязываясь к конкретному порогу, Критерий AUC-ROC устойчив к несбалансированным классам и может быть интерпретирован как вероятность того, что случайно выбранный positive объект будет проранжирован классификатором выше (будет иметь более высокую вероятность быть positive), чем случайно выбранный negative объект."
   ]
  },
  {
   "cell_type": "code",
   "execution_count": 61,
   "metadata": {},
   "outputs": [
    {
     "name": "stdout",
     "output_type": "stream",
     "text": [
      "Лучшая модель и её параметры:\n",
      "\n",
      " Pipeline(steps=[('preprocessor',\n",
      "                 ColumnTransformer(remainder='passthrough',\n",
      "                                   transformers=[('ohe',\n",
      "                                                  OneHotEncoder(drop='first',\n",
      "                                                                sparse=False),\n",
      "                                                  ['разрешить_сообщать',\n",
      "                                                   'популярная_категория']),\n",
      "                                                 ('ord',\n",
      "                                                  Pipeline(steps=[('simpleImputer_before_ord',\n",
      "                                                                   SimpleImputer(strategy='most_frequent')),\n",
      "                                                                  ('ord',\n",
      "                                                                   OrdinalEncoder(categories=[['премиум',\n",
      "                                                                                               'стандарт']],\n",
      "                                                                                  handle_unknown='u...\n",
      "                                                   'маркет_актив_тек_мес',\n",
      "                                                   'длительность',\n",
      "                                                   'акционные_покупки',\n",
      "                                                   'средний_просмотр_категорий_за_визит',\n",
      "                                                   'неоплаченные_продукты_штук_квартал',\n",
      "                                                   'ошибка_сервиса',\n",
      "                                                   'страниц_за_визит',\n",
      "                                                   'минут_предыдущий_месяц',\n",
      "                                                   'минут_текущий_месяц',\n",
      "                                                   'выручка_текущий_месяц',\n",
      "                                                   'выручка_предыдущий_месяц',\n",
      "                                                   'выручка_препредыдущий_месяц'])])),\n",
      "                ('models',\n",
      "                 SVC(C=1, degree=2, probability=True, random_state=42))])\n",
      "Метрика лучшей модели на тренировочной выборке: 0.9015630853994491\n"
     ]
    }
   ],
   "source": [
    "simplefilter(action='ignore', category=FutureWarning)\n",
    "\n",
    "param_grid = [\n",
    "    # словарь для модели DecisionTreeClassifier()\n",
    "  {\n",
    "    'models': [DecisionTreeClassifier(random_state=42)],\n",
    "    'models__max_depth': range(2, 5),\n",
    "    'models__max_features': range(2, 5),\n",
    "   'preprocessor__num': [StandardScaler(), MinMaxScaler(), 'passthrough'] \n",
    "},\n",
    "    \n",
    "   # словарь для модели KNeighborsClassifier() \n",
    "    {\n",
    "       'models': [KNeighborsClassifier()],\n",
    "       'models__n_neighbors': range(2, 5),\n",
    "       'preprocessor__num': [StandardScaler(), MinMaxScaler(), 'passthrough']   \n",
    "   },\n",
    "    # словарь для модели SVC()\n",
    "    \n",
    "        {\n",
    "        'models': [SVC(probability=True, random_state=42)],\n",
    "        'models__C': range(1, 5),\n",
    "        'models__degree': [1,2,3,4,5,6],\n",
    "        'preprocessor__num': [StandardScaler(), MinMaxScaler(), 'passthrough']   \n",
    "    },\n",
    "\n",
    "    # словарь для модели LogisticRegression()\n",
    "    {\n",
    "        'models': [LogisticRegression(\n",
    "            random_state=42, \n",
    "            solver='liblinear', \n",
    "            penalty='l1'\n",
    "        )],\n",
    "        'models__C': range(1, 5),\n",
    "        'preprocessor__num': [StandardScaler(), MinMaxScaler(), 'passthrough']  \n",
    "    }\n",
    "]\n",
    "\n",
    "randomized_search = RandomizedSearchCV(\n",
    "    pipe_final, \n",
    "    param_grid, \n",
    "    cv=5,\n",
    "    scoring='roc_auc',\n",
    "    random_state=42,\n",
    "    n_jobs=-1\n",
    ")\n",
    "randomized_search.fit(X_train, y_train_trans)\n",
    "\n",
    "print('Лучшая модель и её параметры:\\n\\n', randomized_search.best_estimator_)\n",
    "print ('Метрика лучшей модели на тренировочной выборке:', randomized_search.best_score_)"
   ]
  },
  {
   "cell_type": "code",
   "execution_count": 62,
   "metadata": {},
   "outputs": [
    {
     "name": "stdout",
     "output_type": "stream",
     "text": [
      "Лучшая модель и её параметры:\n",
      "\n",
      " Pipeline(steps=[('preprocessor',\n",
      "                 ColumnTransformer(remainder='passthrough',\n",
      "                                   transformers=[('ohe',\n",
      "                                                  OneHotEncoder(drop='first',\n",
      "                                                                sparse=False),\n",
      "                                                  ['разрешить_сообщать',\n",
      "                                                   'популярная_категория']),\n",
      "                                                 ('ord',\n",
      "                                                  Pipeline(steps=[('simpleImputer_before_ord',\n",
      "                                                                   SimpleImputer(strategy='most_frequent')),\n",
      "                                                                  ('ord',\n",
      "                                                                   OrdinalEncoder(categories=[['премиум',\n",
      "                                                                                               'стандарт']],\n",
      "                                                                                  handle_unknown='u...\n",
      "                                                   'длительность',\n",
      "                                                   'акционные_покупки',\n",
      "                                                   'средний_просмотр_категорий_за_визит',\n",
      "                                                   'неоплаченные_продукты_штук_квартал',\n",
      "                                                   'ошибка_сервиса',\n",
      "                                                   'страниц_за_визит',\n",
      "                                                   'минут_предыдущий_месяц',\n",
      "                                                   'минут_текущий_месяц',\n",
      "                                                   'выручка_текущий_месяц',\n",
      "                                                   'выручка_предыдущий_месяц',\n",
      "                                                   'выручка_препредыдущий_месяц'])])),\n",
      "                ('models',\n",
      "                 DecisionTreeClassifier(max_depth=4, max_features=3,\n",
      "                                        random_state=42))])\n",
      "Метрика лучшей модели на тренировочной выборке: 0.823449431663068\n"
     ]
    }
   ],
   "source": [
    "simplefilter(action='ignore', category=FutureWarning)\n",
    "\n",
    "param_grid = [\n",
    "    # словарь для модели DecisionTreeClassifier()\n",
    "  {\n",
    "    'models': [DecisionTreeClassifier(random_state=42)],\n",
    "      'models__max_depth': range(2, 5),\n",
    "    'models__max_features': range(2, 5),\n",
    "   'preprocessor__num': [StandardScaler(), MinMaxScaler(), 'passthrough'] \n",
    "}\n",
    "]\n",
    "\n",
    "randomized_search = RandomizedSearchCV(\n",
    "    pipe_final, \n",
    "    param_grid, \n",
    "    cv=5,\n",
    "    scoring='roc_auc',\n",
    "    random_state=42,\n",
    "    n_jobs=-1\n",
    ")\n",
    "randomized_search.fit(X_train, y_train_trans)\n",
    "\n",
    "print('Лучшая модель и её параметры:\\n\\n', randomized_search.best_estimator_)\n",
    "print ('Метрика лучшей модели на тренировочной выборке:', randomized_search.best_score_)"
   ]
  },
  {
   "cell_type": "code",
   "execution_count": 63,
   "metadata": {},
   "outputs": [
    {
     "name": "stdout",
     "output_type": "stream",
     "text": [
      "Метрика ROC-AUC на тестовой выборке: 0.7772721757068317\n"
     ]
    }
   ],
   "source": [
    "# ignore all future warnings\n",
    "simplefilter(action='ignore', category=FutureWarning)\n",
    "y_test_pred = randomized_search.predict(X_test)\n",
    "print(f'Метрика ROC-AUC на тестовой выборке: {roc_auc_score(y_test, y_test_pred)}')"
   ]
  },
  {
   "cell_type": "code",
   "execution_count": 64,
   "metadata": {},
   "outputs": [
    {
     "name": "stdout",
     "output_type": "stream",
     "text": [
      "Площадь ROC-кривой: 0.8445779233911742\n"
     ]
    }
   ],
   "source": [
    "probabilities = randomized_search.predict_proba(X_test)\n",
    "probabilities_one = probabilities[:, 1]\n",
    "print('Площадь ROC-кривой:', roc_auc_score(y_test, probabilities_one))"
   ]
  },
  {
   "cell_type": "markdown",
   "metadata": {},
   "source": [
    "### Вывод"
   ]
  },
  {
   "cell_type": "markdown",
   "metadata": {},
   "source": [
    "Самая точная оказалась векторная модель SVC, с гиперпараметрами C=3, degree=1. Точность ROC-AUC на тестовой выборке: 0.874, что является довольно неплохим результатом."
   ]
  },
  {
   "cell_type": "markdown",
   "metadata": {},
   "source": [
    "## Shap.1"
   ]
  },
  {
   "cell_type": "code",
   "execution_count": 65,
   "metadata": {},
   "outputs": [],
   "source": [
    "pipe_best_model = Pipeline(\n",
    "    [\n",
    "        ('preprocessor', data_preprocessor),\n",
    "        ('models', SVC(C=2, degree=1, probability=True, kernel='linear'))\n",
    "    ]\n",
    ") "
   ]
  },
  {
   "cell_type": "code",
   "execution_count": 66,
   "metadata": {},
   "outputs": [],
   "source": [
    "X_train_get = pd.DataFrame(data_preprocessor.fit_transform(X_train))\n",
    "X_test_get = pd.DataFrame(data_preprocessor.transform(X_test))"
   ]
  },
  {
   "cell_type": "code",
   "execution_count": 67,
   "metadata": {},
   "outputs": [],
   "source": [
    "columns_names = (pipe_best_model['preprocessor'].transformers_[0][1].get_feature_names(ohe_columns)).tolist() + (ord_columns)+ (num_columns)"
   ]
  },
  {
   "cell_type": "code",
   "execution_count": 68,
   "metadata": {},
   "outputs": [],
   "source": [
    "X_train_get.columns = [columns_names]\n",
    "X_test_get.columns = [columns_names]"
   ]
  },
  {
   "cell_type": "code",
   "execution_count": 69,
   "metadata": {},
   "outputs": [
    {
     "data": {
      "text/plain": [
       "Pipeline(steps=[('preprocessor',\n",
       "                 ColumnTransformer(remainder='passthrough',\n",
       "                                   transformers=[('ohe',\n",
       "                                                  OneHotEncoder(drop='first',\n",
       "                                                                sparse=False),\n",
       "                                                  ['разрешить_сообщать',\n",
       "                                                   'популярная_категория']),\n",
       "                                                 ('ord',\n",
       "                                                  Pipeline(steps=[('simpleImputer_before_ord',\n",
       "                                                                   SimpleImputer(strategy='most_frequent')),\n",
       "                                                                  ('ord',\n",
       "                                                                   OrdinalEncoder(categories=[['премиум',\n",
       "                                                                                               'стандарт']],\n",
       "                                                                                  handle_unknown='u...\n",
       "                                                   'маркет_актив_тек_мес',\n",
       "                                                   'длительность',\n",
       "                                                   'акционные_покупки',\n",
       "                                                   'средний_просмотр_категорий_за_визит',\n",
       "                                                   'неоплаченные_продукты_штук_квартал',\n",
       "                                                   'ошибка_сервиса',\n",
       "                                                   'страниц_за_визит',\n",
       "                                                   'минут_предыдущий_месяц',\n",
       "                                                   'минут_текущий_месяц',\n",
       "                                                   'выручка_текущий_месяц',\n",
       "                                                   'выручка_предыдущий_месяц',\n",
       "                                                   'выручка_препредыдущий_месяц'])])),\n",
       "                ('models',\n",
       "                 SVC(C=2, degree=1, kernel='linear', probability=True))])"
      ]
     },
     "execution_count": 69,
     "metadata": {},
     "output_type": "execute_result"
    }
   ],
   "source": [
    "pipe_best_model"
   ]
  },
  {
   "cell_type": "code",
   "execution_count": 70,
   "metadata": {},
   "outputs": [
    {
     "data": {
      "text/plain": [
       "SVC(C=2, degree=1, kernel='linear', probability=True)"
      ]
     },
     "execution_count": 70,
     "metadata": {},
     "output_type": "execute_result"
    }
   ],
   "source": [
    "pipe_best_model.named_steps['models'].fit(X_train_get, y_train_trans)"
   ]
  },
  {
   "cell_type": "code",
   "execution_count": 71,
   "metadata": {},
   "outputs": [
    {
     "data": {
      "image/png": "[encoded data removed]",
      "text/plain": [
       "<Figure size 576x684 with 2 Axes>"
      ]
     },
     "metadata": {
      "needs_background": "light"
     },
     "output_type": "display_data"
    }
   ],
   "source": [
    "\n",
    "explainer = shap.LinearExplainer(pipe_best_model.named_steps['models'], X_train_get)\n",
    "shap_values = explainer(X_train_get)\n",
    "\n",
    "shap.plots.beeswarm(shap_values, max_display=25) "
   ]
  },
  {
   "cell_type": "markdown",
   "metadata": {},
   "source": [
    "1 - снизилась, 0 - прежний уровень  \n",
    "Анализируя этот график можно сделать следующие выводы: Наибольшее влияние вносит фактор страниц_за визит. То есть чем меньше страниц посмотреть пользователь, тем меньше вероятность того, что активность останется на прежнем уровне.\n",
    "  \n",
    "   Также большое влияние вносит факторы, которые показывают сколько минут потратил человек, соответсвено чем меньше времени он потратил, тем больше вероятность того что активность снизится.\n",
    "      \n",
    "   Также интересно что ошибки сервиса немного влияют на активность покупателей, думаю что оптимизация - хорошее решение.\n",
    "     \n",
    "   Факторы [популярная_категория_Товары для детей, разрешить сообщать_нет, популярная_категория_Косметика и аксесуары, тип_сервиса, маркет_актив_тек_мес, популярная_категория_Кухонная посуда] практически не влияют на решение модели."
   ]
  },
  {
   "cell_type": "markdown",
   "metadata": {},
   "source": [
    "Здесь, в окружении Практикума стоит версия sklearn = 0.24.1, в этой версии достать названия фичей можно только так. Если обновить sklearn в начале тетрадки, то названия фичей можно достать так:\n",
    "```python\n",
    "feature_names = randomized_search.named_steps['preprocessor'].get_feature_names_out().tolist()    \n",
    "```\n",
    "Посмотреть версию библиотеки можно так:\n",
    "```python\n",
    "import sklearn\n",
    "sklearn.__version__\n",
    "```\n",
    "Обновить до последней версии:\n",
    "```\n",
    "!pip install -Uq scikit-learn\n",
    "```\n",
    "Там могут быть ещё различия в названиях аргументов, нужно отследить возможные ошибки.</font>"
   ]
  },
  {
   "cell_type": "markdown",
   "metadata": {},
   "source": [
    "## Сегментация"
   ]
  },
  {
   "cell_type": "code",
   "execution_count": 72,
   "metadata": {},
   "outputs": [],
   "source": [
    "data_contact = X_test.merge(data_unity['прибыль'], on='id')\n",
    "data_contact['вероятность_снижения'] = probabilities[:,1]"
   ]
  },
  {
   "cell_type": "code",
   "execution_count": 73,
   "metadata": {},
   "outputs": [
    {
     "data": {
      "image/png": "[encoded data removed]",
      "text/plain": [
       "<Figure size 432x288 with 1 Axes>"
      ]
     },
     "metadata": {
      "needs_background": "light"
     },
     "output_type": "display_data"
    }
   ],
   "source": [
    "plt.scatter (probabilities[:,1], data_contact['прибыль'])\n",
    "plt.plot([0.3, 0.3], [0, 7], 'k-', color = 'r')\n",
    "plt.plot([0.8, 0.8], [0, 7], 'k-', color = 'r')\n",
    "None"
   ]
  },
  {
   "cell_type": "code",
   "execution_count": 74,
   "metadata": {},
   "outputs": [
    {
     "data": {
      "image/png": "[encoded data removed]",
      "text/plain": [
       "<Figure size 432x288 with 1 Axes>"
      ]
     },
     "metadata": {
      "needs_background": "light"
     },
     "output_type": "display_data"
    }
   ],
   "source": [
    "plt.scatter ( data_contact['прибыль'], probabilities[:,1])\n",
    "None"
   ]
  },
  {
   "cell_type": "markdown",
   "metadata": {},
   "source": [
    "Думаю что нас больше всего интересует тот сегмент, в котором высока вероятность того что активность снизится, и при этом прибыль высокая. Отделим этот сегмент границей 0.8 по вероятности и 4,5 по прибыли."
   ]
  },
  {
   "cell_type": "markdown",
   "metadata": {},
   "source": [
    "<font color='blue'><b>Комментарий ревьюера 2: </b></font> ✔️\\\n",
    "<font color='green'> 👍</font>"
   ]
  },
  {
   "cell_type": "code",
   "execution_count": 75,
   "metadata": {
    "scrolled": true
   },
   "outputs": [
    {
     "data": {
      "text/html": [
       "<div>\n",
       "<style scoped>\n",
       "    .dataframe tbody tr th:only-of-type {\n",
       "        vertical-align: middle;\n",
       "    }\n",
       "\n",
       "    .dataframe tbody tr th {\n",
       "        vertical-align: top;\n",
       "    }\n",
       "\n",
       "    .dataframe thead th {\n",
       "        text-align: right;\n",
       "    }\n",
       "</style>\n",
       "<table border=\"1\" class=\"dataframe\">\n",
       "  <thead>\n",
       "    <tr style=\"text-align: right;\">\n",
       "      <th></th>\n",
       "      <th>тип_сервиса</th>\n",
       "      <th>разрешить_сообщать</th>\n",
       "      <th>маркет_актив_6_мес</th>\n",
       "      <th>маркет_актив_тек_мес</th>\n",
       "      <th>длительность</th>\n",
       "      <th>акционные_покупки</th>\n",
       "      <th>популярная_категория</th>\n",
       "      <th>средний_просмотр_категорий_за_визит</th>\n",
       "      <th>неоплаченные_продукты_штук_квартал</th>\n",
       "      <th>ошибка_сервиса</th>\n",
       "      <th>страниц_за_визит</th>\n",
       "      <th>минут_предыдущий_месяц</th>\n",
       "      <th>минут_текущий_месяц</th>\n",
       "      <th>выручка_предыдущий_месяц</th>\n",
       "      <th>выручка_препредыдущий_месяц</th>\n",
       "      <th>выручка_текущий_месяц</th>\n",
       "      <th>прибыль</th>\n",
       "      <th>вероятность_снижения</th>\n",
       "    </tr>\n",
       "    <tr>\n",
       "      <th>id</th>\n",
       "      <th></th>\n",
       "      <th></th>\n",
       "      <th></th>\n",
       "      <th></th>\n",
       "      <th></th>\n",
       "      <th></th>\n",
       "      <th></th>\n",
       "      <th></th>\n",
       "      <th></th>\n",
       "      <th></th>\n",
       "      <th></th>\n",
       "      <th></th>\n",
       "      <th></th>\n",
       "      <th></th>\n",
       "      <th></th>\n",
       "      <th></th>\n",
       "      <th></th>\n",
       "      <th></th>\n",
       "    </tr>\n",
       "  </thead>\n",
       "  <tbody>\n",
       "    <tr>\n",
       "      <th>215737</th>\n",
       "      <td>стандарт</td>\n",
       "      <td>да</td>\n",
       "      <td>0.9</td>\n",
       "      <td>4</td>\n",
       "      <td>225</td>\n",
       "      <td>0.36</td>\n",
       "      <td>Косметика и аксесуары</td>\n",
       "      <td>2</td>\n",
       "      <td>4</td>\n",
       "      <td>2</td>\n",
       "      <td>3</td>\n",
       "      <td>9</td>\n",
       "      <td>10</td>\n",
       "      <td>5126.0</td>\n",
       "      <td>4679.0</td>\n",
       "      <td>5291.1</td>\n",
       "      <td>4.80</td>\n",
       "      <td>0.981132</td>\n",
       "    </tr>\n",
       "    <tr>\n",
       "      <th>215390</th>\n",
       "      <td>стандарт</td>\n",
       "      <td>да</td>\n",
       "      <td>3.1</td>\n",
       "      <td>4</td>\n",
       "      <td>152</td>\n",
       "      <td>0.33</td>\n",
       "      <td>Косметика и аксесуары</td>\n",
       "      <td>6</td>\n",
       "      <td>4</td>\n",
       "      <td>2</td>\n",
       "      <td>5</td>\n",
       "      <td>8</td>\n",
       "      <td>12</td>\n",
       "      <td>4254.0</td>\n",
       "      <td>4549.0</td>\n",
       "      <td>4612.8</td>\n",
       "      <td>5.70</td>\n",
       "      <td>0.981132</td>\n",
       "    </tr>\n",
       "    <tr>\n",
       "      <th>215604</th>\n",
       "      <td>стандарт</td>\n",
       "      <td>нет</td>\n",
       "      <td>3.1</td>\n",
       "      <td>5</td>\n",
       "      <td>458</td>\n",
       "      <td>0.99</td>\n",
       "      <td>Косметика и аксесуары</td>\n",
       "      <td>1</td>\n",
       "      <td>5</td>\n",
       "      <td>3</td>\n",
       "      <td>4</td>\n",
       "      <td>8</td>\n",
       "      <td>10</td>\n",
       "      <td>4449.0</td>\n",
       "      <td>4308.0</td>\n",
       "      <td>4459.4</td>\n",
       "      <td>4.86</td>\n",
       "      <td>0.981132</td>\n",
       "    </tr>\n",
       "    <tr>\n",
       "      <th>215600</th>\n",
       "      <td>стандарт</td>\n",
       "      <td>да</td>\n",
       "      <td>2.4</td>\n",
       "      <td>4</td>\n",
       "      <td>446</td>\n",
       "      <td>0.29</td>\n",
       "      <td>Кухонная посуда</td>\n",
       "      <td>1</td>\n",
       "      <td>6</td>\n",
       "      <td>3</td>\n",
       "      <td>4</td>\n",
       "      <td>13</td>\n",
       "      <td>14</td>\n",
       "      <td>6134.0</td>\n",
       "      <td>4646.0</td>\n",
       "      <td>5781.7</td>\n",
       "      <td>4.65</td>\n",
       "      <td>0.886179</td>\n",
       "    </tr>\n",
       "    <tr>\n",
       "      <th>215473</th>\n",
       "      <td>стандарт</td>\n",
       "      <td>нет</td>\n",
       "      <td>4.1</td>\n",
       "      <td>3</td>\n",
       "      <td>336</td>\n",
       "      <td>0.22</td>\n",
       "      <td>Домашний текстиль</td>\n",
       "      <td>2</td>\n",
       "      <td>7</td>\n",
       "      <td>2</td>\n",
       "      <td>3</td>\n",
       "      <td>8</td>\n",
       "      <td>13</td>\n",
       "      <td>4246.5</td>\n",
       "      <td>4224.0</td>\n",
       "      <td>3987.8</td>\n",
       "      <td>4.69</td>\n",
       "      <td>0.886179</td>\n",
       "    </tr>\n",
       "  </tbody>\n",
       "</table>\n",
       "</div>"
      ],
      "text/plain": [
       "       тип_сервиса разрешить_сообщать  маркет_актив_6_мес  \\\n",
       "id                                                          \n",
       "215737    стандарт                 да                 0.9   \n",
       "215390    стандарт                 да                 3.1   \n",
       "215604    стандарт                нет                 3.1   \n",
       "215600    стандарт                 да                 2.4   \n",
       "215473    стандарт                нет                 4.1   \n",
       "\n",
       "        маркет_актив_тек_мес  длительность  акционные_покупки  \\\n",
       "id                                                              \n",
       "215737                     4           225               0.36   \n",
       "215390                     4           152               0.33   \n",
       "215604                     5           458               0.99   \n",
       "215600                     4           446               0.29   \n",
       "215473                     3           336               0.22   \n",
       "\n",
       "         популярная_категория  средний_просмотр_категорий_за_визит  \\\n",
       "id                                                                   \n",
       "215737  Косметика и аксесуары                                    2   \n",
       "215390  Косметика и аксесуары                                    6   \n",
       "215604  Косметика и аксесуары                                    1   \n",
       "215600        Кухонная посуда                                    1   \n",
       "215473      Домашний текстиль                                    2   \n",
       "\n",
       "        неоплаченные_продукты_штук_квартал  ошибка_сервиса  страниц_за_визит  \\\n",
       "id                                                                             \n",
       "215737                                   4               2                 3   \n",
       "215390                                   4               2                 5   \n",
       "215604                                   5               3                 4   \n",
       "215600                                   6               3                 4   \n",
       "215473                                   7               2                 3   \n",
       "\n",
       "        минут_предыдущий_месяц  минут_текущий_месяц  выручка_предыдущий_месяц  \\\n",
       "id                                                                              \n",
       "215737                       9                   10                    5126.0   \n",
       "215390                       8                   12                    4254.0   \n",
       "215604                       8                   10                    4449.0   \n",
       "215600                      13                   14                    6134.0   \n",
       "215473                       8                   13                    4246.5   \n",
       "\n",
       "        выручка_препредыдущий_месяц  выручка_текущий_месяц  прибыль  \\\n",
       "id                                                                    \n",
       "215737                       4679.0                 5291.1     4.80   \n",
       "215390                       4549.0                 4612.8     5.70   \n",
       "215604                       4308.0                 4459.4     4.86   \n",
       "215600                       4646.0                 5781.7     4.65   \n",
       "215473                       4224.0                 3987.8     4.69   \n",
       "\n",
       "        вероятность_снижения  \n",
       "id                            \n",
       "215737              0.981132  \n",
       "215390              0.981132  \n",
       "215604              0.981132  \n",
       "215600              0.886179  \n",
       "215473              0.886179  "
      ]
     },
     "execution_count": 75,
     "metadata": {},
     "output_type": "execute_result"
    }
   ],
   "source": [
    "data_segm = data_contact.query('(прибыль > 4.5) and (вероятность_снижения > 0.8)')\n",
    "data_segm.head()"
   ]
  },
  {
   "cell_type": "code",
   "execution_count": 76,
   "metadata": {},
   "outputs": [
    {
     "data": {
      "image/png": "[encoded data removed]",
      "text/plain": [
       "<Figure size 576x576 with 1 Axes>"
      ]
     },
     "metadata": {},
     "output_type": "display_data"
    }
   ],
   "source": [
    "data_segm.pivot_table(index='тип_сервиса', values='вероятность_снижения', aggfunc='count').plot(kind='pie', subplots=True, figsize=(8,8))\n",
    "None"
   ]
  },
  {
   "cell_type": "code",
   "execution_count": 77,
   "metadata": {},
   "outputs": [
    {
     "data": {
      "image/png": "[encoded data removed]",
      "text/plain": [
       "<Figure size 432x288 with 1 Axes>"
      ]
     },
     "metadata": {
      "needs_background": "light"
     },
     "output_type": "display_data"
    }
   ],
   "source": [
    "data_segm['страниц_за_визит'].hist(bins = 6)\n",
    "plt.title(\"страниц_за_визит\")\n",
    "plt.ylabel(\"Количество измерений\")\n",
    "plt.xlabel(\"страниц_за_визит\")\n",
    "None"
   ]
  },
  {
   "cell_type": "code",
   "execution_count": 78,
   "metadata": {},
   "outputs": [
    {
     "data": {
      "image/png": "[encoded data removed]",
      "text/plain": [
       "<Figure size 432x288 with 1 Axes>"
      ]
     },
     "metadata": {
      "needs_background": "light"
     },
     "output_type": "display_data"
    }
   ],
   "source": [
    "data_segm['длительность'].hist(bins = 9)\n",
    "plt.title(\"длительность\")\n",
    "plt.ylabel(\"Количество измерений\")\n",
    "plt.xlabel(\"длительность\")\n",
    "None"
   ]
  },
  {
   "cell_type": "code",
   "execution_count": 79,
   "metadata": {},
   "outputs": [
    {
     "data": {
      "image/png": "[encoded data removed]",
      "text/plain": [
       "<Figure size 432x288 with 1 Axes>"
      ]
     },
     "metadata": {
      "needs_background": "light"
     },
     "output_type": "display_data"
    }
   ],
   "source": [
    "\n",
    "data_segm['акционные_покупки'].hist(bins = 12)\n",
    "plt.title(\"акционные_покупки\")\n",
    "plt.ylabel(\"Количество измерений\")\n",
    "plt.xlabel(\"акционные_покупки\")\n",
    "None"
   ]
  },
  {
   "cell_type": "markdown",
   "metadata": {},
   "source": [
    "Акционные покупки имеют большое влияние если верить shap. Вероятно если найти способ увеличить количество акционных покупок у данного сегмента, то это удержит их с большей вероятностью."
   ]
  },
  {
   "cell_type": "code",
   "execution_count": 80,
   "metadata": {},
   "outputs": [
    {
     "data": {
      "image/png": "[encoded data removed]",
      "text/plain": [
       "<Figure size 576x576 with 1 Axes>"
      ]
     },
     "metadata": {},
     "output_type": "display_data"
    }
   ],
   "source": [
    "\n",
    "data_segm.pivot_table(index='популярная_категория', values='вероятность_снижения', aggfunc='count').plot(kind='pie', subplots=True, figsize=(8,8))\n",
    "None"
   ]
  },
  {
   "cell_type": "markdown",
   "metadata": {},
   "source": [
    "А вот тут что-то интересное. Среди тех кто приносит прибыль, но с большой вероятностью снизит активность популярна категория Кухонная посуда, хотя этот признак практически не имеет значения по shap. Думаю надо работать над разделом кухонная посуда и сделать его более привлекательным."
   ]
  },
  {
   "cell_type": "code",
   "execution_count": 81,
   "metadata": {},
   "outputs": [
    {
     "data": {
      "image/png": "[encoded data removed]",
      "text/plain": [
       "<Figure size 432x288 with 1 Axes>"
      ]
     },
     "metadata": {
      "needs_background": "light"
     },
     "output_type": "display_data"
    }
   ],
   "source": [
    "\n",
    "data_segm['минут_предыдущий_месяц'].hist(bins = 8)\n",
    "plt.title(\"минут_предыдущий_месяц\")\n",
    "plt.ylabel(\"Количество измерений\")\n",
    "plt.xlabel(\"минут_предыдущий_месяц\")\n",
    "None"
   ]
  },
  {
   "cell_type": "code",
   "execution_count": 82,
   "metadata": {},
   "outputs": [
    {
     "data": {
      "image/png": "[encoded data removed]",
      "text/plain": [
       "<Figure size 432x288 with 1 Axes>"
      ]
     },
     "metadata": {
      "needs_background": "light"
     },
     "output_type": "display_data"
    }
   ],
   "source": [
    "data_segm['минут_текущий_месяц'].hist(bins = 8)\n",
    "plt.title(\"минут_текущий_месяц\")\n",
    "plt.ylabel(\"Количество измерений\")\n",
    "plt.xlabel(\"минут_текущий_месяц\")\n",
    "None"
   ]
  },
  {
   "cell_type": "markdown",
   "metadata": {},
   "source": [
    "### Вывод"
   ]
  },
  {
   "cell_type": "markdown",
   "metadata": {},
   "source": [
    "Из графиков выше видно, что если постараться сделать раздел Кухонной посуды более привлекательным, а также попробовать увеличить количество акционных покупок, то вероятность того, что клиенты которые приносят большую прибыль, однако вероятно снижят свою активность с большей вероятностью останется на прежнем уровне."
   ]
  },
  {
   "cell_type": "markdown",
   "metadata": {},
   "source": [
    "## Вывод"
   ]
  },
  {
   "cell_type": "markdown",
   "metadata": {},
   "source": [
    "В ходе предобработки данных названия стоблцов были приведены к нижнему регистру и изменены для удобства дальнейшего исследования.\n",
    "Были устранены аномалии, а также обработаны явные и неявные дубликаты. Исправлены некоторое ошибка в написаннии для удобства дальнейшего пользования.\n",
    "\n",
    "В процессе ислледовательсткого анализа были построены графики всех параметров, а так же их ящики-с-усами. Были обработаны и изучены выбросы, были построены и изучены круговые диаграммы для бинарных столбцов.\n",
    "\n",
    "Был проведен корреляционный анализ в ходе которого мы искали закономерности между данными, а также их изучали. Для установления закономерностей мы использовали метод Спирмана.\n",
    "\n",
    "Был построен пайплайн внутри которого мы нормализировали и стандартизировали данные а также сравнивали модели в числе которых: DecisionTreeClassifier, KNeighborsClassifier, SVC, LogisticRegression. Среди них была найдена лучшая, которую мы применили в прогнозировании результата. Лучшей векторная SVC моедль.\n",
    "\n",
    "Так же была проведена сегментация пользователей, и выдвинуты гипотезе по работе с пользователями, которые приносят прибыль но вероятно снизят свою активность в будущем."
   ]
  }
 ],
 "metadata": {
  "ExecuteTimeLog": [
   {
    "duration": 113,
    "start_time": "2024-02-17T15:11:48.732Z"
   },
   {
    "duration": 46,
    "start_time": "2024-02-17T15:15:40.647Z"
   },
   {
    "duration": 362,
    "start_time": "2024-02-17T15:15:55.939Z"
   },
   {
    "duration": 127,
    "start_time": "2024-02-17T15:15:56.392Z"
   },
   {
    "duration": 39,
    "start_time": "2024-02-17T15:16:08.007Z"
   },
   {
    "duration": 138,
    "start_time": "2024-02-17T15:16:52.683Z"
   },
   {
    "duration": 98,
    "start_time": "2024-02-17T15:17:29.641Z"
   },
   {
    "duration": 129,
    "start_time": "2024-02-17T15:19:19.723Z"
   },
   {
    "duration": 88,
    "start_time": "2024-02-17T15:19:26.140Z"
   },
   {
    "duration": 90,
    "start_time": "2024-02-17T15:19:39.723Z"
   },
   {
    "duration": 91,
    "start_time": "2024-02-17T15:19:45.663Z"
   },
   {
    "duration": 92,
    "start_time": "2024-02-17T15:20:01.372Z"
   },
   {
    "duration": 90,
    "start_time": "2024-02-17T15:20:11.399Z"
   },
   {
    "duration": 90,
    "start_time": "2024-02-17T15:20:16.919Z"
   },
   {
    "duration": 92,
    "start_time": "2024-02-17T15:22:15.902Z"
   },
   {
    "duration": 94,
    "start_time": "2024-02-17T15:22:20.198Z"
   },
   {
    "duration": 88,
    "start_time": "2024-02-17T15:22:26.087Z"
   },
   {
    "duration": 90,
    "start_time": "2024-02-17T15:22:30.183Z"
   },
   {
    "duration": 90,
    "start_time": "2024-02-17T15:22:42.855Z"
   },
   {
    "duration": 85,
    "start_time": "2024-02-17T15:23:42.746Z"
   },
   {
    "duration": 12,
    "start_time": "2024-02-17T15:24:24.818Z"
   },
   {
    "duration": 7,
    "start_time": "2024-02-17T15:24:24.990Z"
   },
   {
    "duration": 7,
    "start_time": "2024-02-17T15:24:25.154Z"
   },
   {
    "duration": 7,
    "start_time": "2024-02-17T15:24:25.330Z"
   },
   {
    "duration": 34,
    "start_time": "2024-02-17T15:31:42.169Z"
   },
   {
    "duration": 31,
    "start_time": "2024-02-17T15:35:14.644Z"
   },
   {
    "duration": 7,
    "start_time": "2024-02-17T15:35:26.192Z"
   },
   {
    "duration": 13,
    "start_time": "2024-02-17T15:35:32.361Z"
   },
   {
    "duration": 4,
    "start_time": "2024-02-17T15:38:56.821Z"
   },
   {
    "duration": 31,
    "start_time": "2024-02-17T15:39:00.237Z"
   },
   {
    "duration": 52,
    "start_time": "2024-02-23T05:30:41.993Z"
   },
   {
    "duration": 407,
    "start_time": "2024-02-23T05:30:46.772Z"
   },
   {
    "duration": 247,
    "start_time": "2024-02-23T05:30:47.182Z"
   },
   {
    "duration": 20,
    "start_time": "2024-02-23T05:30:47.431Z"
   },
   {
    "duration": 8,
    "start_time": "2024-02-23T05:30:47.849Z"
   },
   {
    "duration": 7,
    "start_time": "2024-02-23T05:30:48.289Z"
   },
   {
    "duration": 7,
    "start_time": "2024-02-23T05:30:49.661Z"
   },
   {
    "duration": 30,
    "start_time": "2024-02-23T05:30:51.785Z"
   },
   {
    "duration": 5,
    "start_time": "2024-02-23T05:30:54.584Z"
   },
   {
    "duration": 13,
    "start_time": "2024-02-23T05:32:32.140Z"
   },
   {
    "duration": 32,
    "start_time": "2024-02-23T05:32:52.212Z"
   },
   {
    "duration": 5,
    "start_time": "2024-02-23T05:32:56.116Z"
   },
   {
    "duration": 8,
    "start_time": "2024-02-23T05:33:05.796Z"
   },
   {
    "duration": 5,
    "start_time": "2024-02-23T05:33:23.769Z"
   },
   {
    "duration": 6,
    "start_time": "2024-02-23T05:33:31.640Z"
   },
   {
    "duration": 6,
    "start_time": "2024-02-23T05:33:37.100Z"
   },
   {
    "duration": 13,
    "start_time": "2024-02-23T05:33:53.412Z"
   },
   {
    "duration": 17,
    "start_time": "2024-02-23T05:34:09.497Z"
   },
   {
    "duration": 4,
    "start_time": "2024-02-23T05:36:35.693Z"
   },
   {
    "duration": 5,
    "start_time": "2024-02-23T05:36:38.500Z"
   },
   {
    "duration": 6,
    "start_time": "2024-02-23T05:36:48.325Z"
   },
   {
    "duration": 7,
    "start_time": "2024-02-23T05:36:56.901Z"
   },
   {
    "duration": 5,
    "start_time": "2024-02-23T05:37:06.321Z"
   },
   {
    "duration": 7,
    "start_time": "2024-02-23T05:37:12.560Z"
   },
   {
    "duration": 6,
    "start_time": "2024-02-23T05:37:17.953Z"
   },
   {
    "duration": 6,
    "start_time": "2024-02-23T05:37:24.286Z"
   },
   {
    "duration": 5,
    "start_time": "2024-02-23T05:37:39.089Z"
   },
   {
    "duration": 5,
    "start_time": "2024-02-23T05:37:43.954Z"
   },
   {
    "duration": 8,
    "start_time": "2024-02-23T05:39:00.898Z"
   },
   {
    "duration": 8,
    "start_time": "2024-02-23T05:39:22.978Z"
   },
   {
    "duration": 8,
    "start_time": "2024-02-23T05:39:30.688Z"
   },
   {
    "duration": 9,
    "start_time": "2024-02-23T05:39:42.229Z"
   },
   {
    "duration": 8,
    "start_time": "2024-02-23T05:39:50.041Z"
   },
   {
    "duration": 8,
    "start_time": "2024-02-23T05:39:57.953Z"
   },
   {
    "duration": 8,
    "start_time": "2024-02-23T05:40:08.426Z"
   },
   {
    "duration": 8,
    "start_time": "2024-02-23T05:40:13.561Z"
   },
   {
    "duration": 8,
    "start_time": "2024-02-23T05:40:27.186Z"
   },
   {
    "duration": 6,
    "start_time": "2024-02-23T05:40:35.090Z"
   },
   {
    "duration": 7,
    "start_time": "2024-02-23T05:40:48.598Z"
   },
   {
    "duration": 1067,
    "start_time": "2024-02-23T05:40:56.062Z"
   },
   {
    "duration": 8,
    "start_time": "2024-02-23T05:41:02.022Z"
   },
   {
    "duration": 7,
    "start_time": "2024-02-23T05:41:59.886Z"
   },
   {
    "duration": 6,
    "start_time": "2024-02-23T05:42:03.722Z"
   },
   {
    "duration": 6,
    "start_time": "2024-02-23T05:42:27.406Z"
   },
   {
    "duration": 6,
    "start_time": "2024-02-23T05:42:31.938Z"
   },
   {
    "duration": 75,
    "start_time": "2024-02-23T05:42:57.869Z"
   },
   {
    "duration": 4,
    "start_time": "2024-02-23T05:43:36.764Z"
   },
   {
    "duration": 6,
    "start_time": "2024-02-23T05:43:38.754Z"
   },
   {
    "duration": 6,
    "start_time": "2024-02-23T05:43:56.498Z"
   },
   {
    "duration": 7,
    "start_time": "2024-02-23T05:47:57.602Z"
   },
   {
    "duration": 9,
    "start_time": "2024-02-23T05:47:59.866Z"
   },
   {
    "duration": 6,
    "start_time": "2024-02-23T05:49:50.171Z"
   },
   {
    "duration": 37,
    "start_time": "2024-02-23T05:49:54.102Z"
   },
   {
    "duration": 8,
    "start_time": "2024-02-23T05:50:19.258Z"
   },
   {
    "duration": 8,
    "start_time": "2024-02-23T05:50:28.115Z"
   },
   {
    "duration": 28,
    "start_time": "2024-02-23T05:50:38.335Z"
   },
   {
    "duration": 86,
    "start_time": "2024-02-23T05:50:45.990Z"
   },
   {
    "duration": 32,
    "start_time": "2024-02-23T05:50:47.898Z"
   },
   {
    "duration": 5,
    "start_time": "2024-02-23T05:50:54.243Z"
   },
   {
    "duration": 8,
    "start_time": "2024-02-23T05:50:58.742Z"
   },
   {
    "duration": 15,
    "start_time": "2024-02-23T05:51:09.887Z"
   },
   {
    "duration": 7,
    "start_time": "2024-02-23T05:52:36.282Z"
   },
   {
    "duration": 5,
    "start_time": "2024-02-23T05:52:37.151Z"
   },
   {
    "duration": 4,
    "start_time": "2024-02-23T05:52:37.663Z"
   },
   {
    "duration": 12,
    "start_time": "2024-02-23T05:56:58.011Z"
   },
   {
    "duration": 14,
    "start_time": "2024-02-23T06:00:46.127Z"
   },
   {
    "duration": 777,
    "start_time": "2024-02-23T06:00:53.231Z"
   },
   {
    "duration": 471,
    "start_time": "2024-02-23T06:01:28.155Z"
   },
   {
    "duration": 296,
    "start_time": "2024-02-23T06:01:32.367Z"
   },
   {
    "duration": 155,
    "start_time": "2024-02-23T06:01:38.107Z"
   },
   {
    "duration": 82,
    "start_time": "2024-02-23T06:03:09.239Z"
   },
   {
    "duration": 9,
    "start_time": "2024-02-23T06:03:32.862Z"
   },
   {
    "duration": 9,
    "start_time": "2024-02-23T06:03:49.707Z"
   },
   {
    "duration": 36,
    "start_time": "2024-02-23T06:04:04.931Z"
   },
   {
    "duration": 7,
    "start_time": "2024-02-23T06:04:14.347Z"
   },
   {
    "duration": 8,
    "start_time": "2024-02-23T06:04:31.700Z"
   },
   {
    "duration": 8,
    "start_time": "2024-02-23T06:04:41.327Z"
   },
   {
    "duration": 10,
    "start_time": "2024-02-23T06:04:57.471Z"
   },
   {
    "duration": 11,
    "start_time": "2024-02-23T06:05:00.691Z"
   },
   {
    "duration": 9,
    "start_time": "2024-02-23T06:05:13.515Z"
   },
   {
    "duration": 7,
    "start_time": "2024-02-23T06:06:52.343Z"
   },
   {
    "duration": 19,
    "start_time": "2024-02-23T06:09:14.835Z"
   },
   {
    "duration": 32,
    "start_time": "2024-02-23T06:09:27.959Z"
   },
   {
    "duration": 21,
    "start_time": "2024-02-23T06:09:32.375Z"
   },
   {
    "duration": 6,
    "start_time": "2024-02-23T06:10:52.199Z"
   },
   {
    "duration": 7,
    "start_time": "2024-02-23T06:11:01.135Z"
   },
   {
    "duration": 11,
    "start_time": "2024-02-23T06:11:23.239Z"
   },
   {
    "duration": 11,
    "start_time": "2024-02-23T06:11:37.275Z"
   },
   {
    "duration": 7,
    "start_time": "2024-02-23T06:11:59.719Z"
   },
   {
    "duration": 9,
    "start_time": "2024-02-23T06:12:34.159Z"
   },
   {
    "duration": 11,
    "start_time": "2024-02-23T06:12:57.207Z"
   },
   {
    "duration": 5,
    "start_time": "2024-02-23T06:13:29.779Z"
   },
   {
    "duration": 6,
    "start_time": "2024-02-23T06:14:02.687Z"
   },
   {
    "duration": 31,
    "start_time": "2024-02-23T06:15:45.111Z"
   },
   {
    "duration": 6,
    "start_time": "2024-02-23T06:16:05.923Z"
   },
   {
    "duration": 35,
    "start_time": "2024-02-23T06:16:06.432Z"
   },
   {
    "duration": 24,
    "start_time": "2024-02-23T06:16:10.975Z"
   },
   {
    "duration": 6,
    "start_time": "2024-02-23T06:17:17.322Z"
   },
   {
    "duration": 12,
    "start_time": "2024-02-23T06:17:26.227Z"
   },
   {
    "duration": 11,
    "start_time": "2024-02-23T06:17:35.411Z"
   },
   {
    "duration": 1154,
    "start_time": "2024-02-23T06:18:10.751Z"
   },
   {
    "duration": 142,
    "start_time": "2024-02-23T06:18:11.906Z"
   },
   {
    "duration": 17,
    "start_time": "2024-02-23T06:18:12.049Z"
   },
   {
    "duration": 8,
    "start_time": "2024-02-23T06:18:12.068Z"
   },
   {
    "duration": 8,
    "start_time": "2024-02-23T06:18:12.078Z"
   },
   {
    "duration": 101,
    "start_time": "2024-02-23T06:18:12.087Z"
   },
   {
    "duration": 0,
    "start_time": "2024-02-23T06:18:12.190Z"
   },
   {
    "duration": 0,
    "start_time": "2024-02-23T06:18:12.191Z"
   },
   {
    "duration": 0,
    "start_time": "2024-02-23T06:18:12.193Z"
   },
   {
    "duration": 0,
    "start_time": "2024-02-23T06:18:12.194Z"
   },
   {
    "duration": 0,
    "start_time": "2024-02-23T06:18:12.195Z"
   },
   {
    "duration": 0,
    "start_time": "2024-02-23T06:18:12.196Z"
   },
   {
    "duration": 0,
    "start_time": "2024-02-23T06:18:12.197Z"
   },
   {
    "duration": 0,
    "start_time": "2024-02-23T06:18:12.198Z"
   },
   {
    "duration": 0,
    "start_time": "2024-02-23T06:18:12.200Z"
   },
   {
    "duration": 0,
    "start_time": "2024-02-23T06:18:12.201Z"
   },
   {
    "duration": 0,
    "start_time": "2024-02-23T06:18:12.202Z"
   },
   {
    "duration": 0,
    "start_time": "2024-02-23T06:18:12.204Z"
   },
   {
    "duration": 0,
    "start_time": "2024-02-23T06:18:12.223Z"
   },
   {
    "duration": 1131,
    "start_time": "2024-02-23T06:18:28.411Z"
   },
   {
    "duration": 143,
    "start_time": "2024-02-23T06:18:29.544Z"
   },
   {
    "duration": 18,
    "start_time": "2024-02-23T06:18:29.689Z"
   },
   {
    "duration": 15,
    "start_time": "2024-02-23T06:18:29.710Z"
   },
   {
    "duration": 14,
    "start_time": "2024-02-23T06:18:29.727Z"
   },
   {
    "duration": 8,
    "start_time": "2024-02-23T06:18:29.743Z"
   },
   {
    "duration": 35,
    "start_time": "2024-02-23T06:18:29.753Z"
   },
   {
    "duration": 117,
    "start_time": "2024-02-23T06:18:29.790Z"
   },
   {
    "duration": 0,
    "start_time": "2024-02-23T06:18:29.909Z"
   },
   {
    "duration": 0,
    "start_time": "2024-02-23T06:18:29.911Z"
   },
   {
    "duration": 0,
    "start_time": "2024-02-23T06:18:29.912Z"
   },
   {
    "duration": 0,
    "start_time": "2024-02-23T06:18:29.913Z"
   },
   {
    "duration": 0,
    "start_time": "2024-02-23T06:18:29.923Z"
   },
   {
    "duration": 0,
    "start_time": "2024-02-23T06:18:29.924Z"
   },
   {
    "duration": 1,
    "start_time": "2024-02-23T06:18:29.925Z"
   },
   {
    "duration": 0,
    "start_time": "2024-02-23T06:18:29.927Z"
   },
   {
    "duration": 0,
    "start_time": "2024-02-23T06:18:29.928Z"
   },
   {
    "duration": 0,
    "start_time": "2024-02-23T06:18:29.929Z"
   },
   {
    "duration": 0,
    "start_time": "2024-02-23T06:18:29.930Z"
   },
   {
    "duration": 1120,
    "start_time": "2024-02-23T06:18:42.407Z"
   },
   {
    "duration": 144,
    "start_time": "2024-02-23T06:18:43.529Z"
   },
   {
    "duration": 18,
    "start_time": "2024-02-23T06:18:43.674Z"
   },
   {
    "duration": 12,
    "start_time": "2024-02-23T06:18:43.694Z"
   },
   {
    "duration": 9,
    "start_time": "2024-02-23T06:18:43.707Z"
   },
   {
    "duration": 16,
    "start_time": "2024-02-23T06:18:43.718Z"
   },
   {
    "duration": 38,
    "start_time": "2024-02-23T06:18:43.736Z"
   },
   {
    "duration": 5,
    "start_time": "2024-02-23T06:18:43.776Z"
   },
   {
    "duration": 12,
    "start_time": "2024-02-23T06:18:43.782Z"
   },
   {
    "duration": 4,
    "start_time": "2024-02-23T06:18:43.797Z"
   },
   {
    "duration": 22,
    "start_time": "2024-02-23T06:18:43.802Z"
   },
   {
    "duration": 7,
    "start_time": "2024-02-23T06:18:43.825Z"
   },
   {
    "duration": 8,
    "start_time": "2024-02-23T06:18:43.834Z"
   },
   {
    "duration": 5,
    "start_time": "2024-02-23T06:18:43.844Z"
   },
   {
    "duration": 5,
    "start_time": "2024-02-23T06:18:43.850Z"
   },
   {
    "duration": 7,
    "start_time": "2024-02-23T06:18:43.857Z"
   },
   {
    "duration": 8,
    "start_time": "2024-02-23T06:18:43.866Z"
   },
   {
    "duration": 15,
    "start_time": "2024-02-23T06:18:43.875Z"
   },
   {
    "duration": 206,
    "start_time": "2024-02-23T06:18:43.891Z"
   },
   {
    "duration": 11,
    "start_time": "2024-02-23T06:19:13.263Z"
   },
   {
    "duration": 84,
    "start_time": "2024-02-23T06:22:31.659Z"
   },
   {
    "duration": 14,
    "start_time": "2024-02-23T06:22:34.575Z"
   },
   {
    "duration": 9,
    "start_time": "2024-02-23T06:22:34.746Z"
   },
   {
    "duration": 9,
    "start_time": "2024-02-23T06:22:34.931Z"
   },
   {
    "duration": 7,
    "start_time": "2024-02-23T06:22:35.123Z"
   },
   {
    "duration": 30,
    "start_time": "2024-02-23T06:22:35.655Z"
   },
   {
    "duration": 5,
    "start_time": "2024-02-23T06:22:36.127Z"
   },
   {
    "duration": 6,
    "start_time": "2024-02-23T06:22:37.035Z"
   },
   {
    "duration": 4,
    "start_time": "2024-02-23T06:22:37.203Z"
   },
   {
    "duration": 9,
    "start_time": "2024-02-23T06:22:37.579Z"
   },
   {
    "duration": 7,
    "start_time": "2024-02-23T06:22:37.947Z"
   },
   {
    "duration": 10,
    "start_time": "2024-02-23T06:22:40.391Z"
   },
   {
    "duration": 6,
    "start_time": "2024-02-23T06:22:40.843Z"
   },
   {
    "duration": 4,
    "start_time": "2024-02-23T06:22:41.287Z"
   },
   {
    "duration": 99,
    "start_time": "2024-02-23T06:23:06.071Z"
   },
   {
    "duration": 7,
    "start_time": "2024-02-23T06:23:15.607Z"
   },
   {
    "duration": 10,
    "start_time": "2024-02-23T06:24:03.359Z"
   },
   {
    "duration": 12,
    "start_time": "2024-02-23T06:24:37.667Z"
   },
   {
    "duration": 8,
    "start_time": "2024-02-23T06:25:57.780Z"
   },
   {
    "duration": 5,
    "start_time": "2024-02-23T06:26:13.620Z"
   },
   {
    "duration": 8,
    "start_time": "2024-02-23T06:26:35.299Z"
   },
   {
    "duration": 12,
    "start_time": "2024-02-23T06:28:05.203Z"
   },
   {
    "duration": 9,
    "start_time": "2024-02-23T07:01:05.010Z"
   },
   {
    "duration": 12,
    "start_time": "2024-02-23T07:01:18.126Z"
   },
   {
    "duration": 6,
    "start_time": "2024-02-23T07:01:28.582Z"
   },
   {
    "duration": 11,
    "start_time": "2024-02-23T07:01:29.354Z"
   },
   {
    "duration": 13,
    "start_time": "2024-02-23T07:02:42.998Z"
   },
   {
    "duration": 172,
    "start_time": "2024-02-23T07:04:03.486Z"
   },
   {
    "duration": 153,
    "start_time": "2024-02-23T07:04:32.446Z"
   },
   {
    "duration": 98,
    "start_time": "2024-02-23T07:05:19.110Z"
   },
   {
    "duration": 98,
    "start_time": "2024-02-23T07:05:25.974Z"
   },
   {
    "duration": 12,
    "start_time": "2024-02-23T07:05:52.354Z"
   },
   {
    "duration": 152,
    "start_time": "2024-02-23T07:05:52.562Z"
   },
   {
    "duration": 99,
    "start_time": "2024-02-23T07:05:52.974Z"
   },
   {
    "duration": 182,
    "start_time": "2024-02-23T07:06:41.318Z"
   },
   {
    "duration": 165,
    "start_time": "2024-02-23T07:07:04.129Z"
   },
   {
    "duration": 163,
    "start_time": "2024-02-23T07:07:12.385Z"
   },
   {
    "duration": 247,
    "start_time": "2024-02-23T07:07:21.186Z"
   },
   {
    "duration": 189,
    "start_time": "2024-02-23T07:07:34.290Z"
   },
   {
    "duration": 159,
    "start_time": "2024-02-23T07:07:39.282Z"
   },
   {
    "duration": 118,
    "start_time": "2024-02-23T07:08:08.225Z"
   },
   {
    "duration": 134,
    "start_time": "2024-02-23T07:09:16.122Z"
   },
   {
    "duration": 107,
    "start_time": "2024-02-23T07:09:16.281Z"
   },
   {
    "duration": 145,
    "start_time": "2024-02-23T07:09:50.837Z"
   },
   {
    "duration": 279,
    "start_time": "2024-02-23T07:09:53.837Z"
   },
   {
    "duration": 195,
    "start_time": "2024-02-23T07:09:58.394Z"
   },
   {
    "duration": 276,
    "start_time": "2024-02-23T07:10:04.186Z"
   },
   {
    "duration": 167,
    "start_time": "2024-02-23T07:10:09.514Z"
   },
   {
    "duration": 189,
    "start_time": "2024-02-23T07:10:56.983Z"
   },
   {
    "duration": 113,
    "start_time": "2024-02-23T07:10:57.174Z"
   },
   {
    "duration": 178,
    "start_time": "2024-02-23T07:11:13.834Z"
   },
   {
    "duration": 3,
    "start_time": "2024-02-23T07:11:44.950Z"
   },
   {
    "duration": 100,
    "start_time": "2024-02-23T07:12:02.385Z"
   },
   {
    "duration": 187,
    "start_time": "2024-02-23T07:12:03.842Z"
   },
   {
    "duration": 145,
    "start_time": "2024-02-23T07:12:10.302Z"
   },
   {
    "duration": 145,
    "start_time": "2024-02-23T07:13:56.854Z"
   },
   {
    "duration": 99,
    "start_time": "2024-02-23T07:13:57.705Z"
   },
   {
    "duration": 144,
    "start_time": "2024-02-23T07:14:08.126Z"
   },
   {
    "duration": 232,
    "start_time": "2024-02-23T07:14:15.314Z"
   },
   {
    "duration": 100,
    "start_time": "2024-02-23T07:14:15.634Z"
   },
   {
    "duration": 138,
    "start_time": "2024-02-23T07:14:23.557Z"
   },
   {
    "duration": 169,
    "start_time": "2024-02-23T07:14:40.522Z"
   },
   {
    "duration": 143,
    "start_time": "2024-02-23T07:14:40.693Z"
   },
   {
    "duration": 169,
    "start_time": "2024-02-23T07:14:54.041Z"
   },
   {
    "duration": 11,
    "start_time": "2024-02-23T07:20:52.506Z"
   },
   {
    "duration": 9,
    "start_time": "2024-02-23T07:21:04.818Z"
   },
   {
    "duration": 9,
    "start_time": "2024-02-23T07:21:10.299Z"
   },
   {
    "duration": 7,
    "start_time": "2024-02-23T07:21:42.686Z"
   },
   {
    "duration": 6,
    "start_time": "2024-02-23T07:22:05.959Z"
   },
   {
    "duration": 7,
    "start_time": "2024-02-23T07:22:26.883Z"
   },
   {
    "duration": 2,
    "start_time": "2024-02-23T07:23:00.223Z"
   },
   {
    "duration": 7,
    "start_time": "2024-02-23T07:24:51.819Z"
   },
   {
    "duration": 7,
    "start_time": "2024-02-23T07:25:08.240Z"
   },
   {
    "duration": 8,
    "start_time": "2024-02-23T07:26:32.731Z"
   },
   {
    "duration": 9,
    "start_time": "2024-02-23T07:26:45.839Z"
   },
   {
    "duration": 7,
    "start_time": "2024-02-23T07:26:49.171Z"
   },
   {
    "duration": 7,
    "start_time": "2024-02-23T07:26:58.727Z"
   },
   {
    "duration": 3,
    "start_time": "2024-02-23T07:27:52.179Z"
   },
   {
    "duration": 8,
    "start_time": "2024-02-23T07:28:49.487Z"
   },
   {
    "duration": 3,
    "start_time": "2024-02-23T07:29:08.276Z"
   },
   {
    "duration": 127,
    "start_time": "2024-02-23T07:29:10.396Z"
   },
   {
    "duration": 103,
    "start_time": "2024-02-23T07:29:10.980Z"
   },
   {
    "duration": 8,
    "start_time": "2024-02-23T07:30:12.327Z"
   },
   {
    "duration": 1149,
    "start_time": "2024-02-23T07:30:55.232Z"
   },
   {
    "duration": 168,
    "start_time": "2024-02-23T07:31:20.487Z"
   },
   {
    "duration": 158,
    "start_time": "2024-02-23T07:31:28.991Z"
   },
   {
    "duration": 164,
    "start_time": "2024-02-23T07:31:34.595Z"
   },
   {
    "duration": 189,
    "start_time": "2024-02-23T07:31:54.467Z"
   },
   {
    "duration": 7,
    "start_time": "2024-02-23T07:33:28.620Z"
   },
   {
    "duration": 3,
    "start_time": "2024-02-23T07:33:55.587Z"
   },
   {
    "duration": 8,
    "start_time": "2024-02-23T07:34:15.547Z"
   },
   {
    "duration": 168,
    "start_time": "2024-02-23T07:35:00.616Z"
   },
   {
    "duration": 147,
    "start_time": "2024-02-23T07:35:08.472Z"
   },
   {
    "duration": 123,
    "start_time": "2024-02-23T07:35:37.432Z"
   },
   {
    "duration": 106,
    "start_time": "2024-02-23T07:35:52.684Z"
   },
   {
    "duration": 7,
    "start_time": "2024-02-23T07:36:26.164Z"
   },
   {
    "duration": 150,
    "start_time": "2024-02-23T07:36:49.244Z"
   },
   {
    "duration": 157,
    "start_time": "2024-02-23T07:36:55.032Z"
   },
   {
    "duration": 156,
    "start_time": "2024-02-23T07:36:58.935Z"
   },
   {
    "duration": 146,
    "start_time": "2024-02-23T07:37:17.180Z"
   },
   {
    "duration": 159,
    "start_time": "2024-02-23T07:37:33.536Z"
   },
   {
    "duration": 163,
    "start_time": "2024-02-23T07:37:40.728Z"
   },
   {
    "duration": 223,
    "start_time": "2024-02-23T07:37:53.748Z"
   },
   {
    "duration": 99,
    "start_time": "2024-02-23T07:38:11.359Z"
   },
   {
    "duration": 8,
    "start_time": "2024-02-23T07:39:13.844Z"
   },
   {
    "duration": 1191,
    "start_time": "2024-02-23T07:39:30.496Z"
   },
   {
    "duration": 146,
    "start_time": "2024-02-23T07:39:31.690Z"
   },
   {
    "duration": 18,
    "start_time": "2024-02-23T07:39:31.838Z"
   },
   {
    "duration": 9,
    "start_time": "2024-02-23T07:39:31.858Z"
   },
   {
    "duration": 14,
    "start_time": "2024-02-23T07:39:31.870Z"
   },
   {
    "duration": 25,
    "start_time": "2024-02-23T07:39:31.886Z"
   },
   {
    "duration": 62,
    "start_time": "2024-02-23T07:39:31.913Z"
   },
   {
    "duration": 6,
    "start_time": "2024-02-23T07:39:31.977Z"
   },
   {
    "duration": 34,
    "start_time": "2024-02-23T07:39:31.985Z"
   },
   {
    "duration": 36,
    "start_time": "2024-02-23T07:39:32.021Z"
   },
   {
    "duration": 23,
    "start_time": "2024-02-23T07:39:32.058Z"
   },
   {
    "duration": 11,
    "start_time": "2024-02-23T07:39:32.083Z"
   },
   {
    "duration": 7,
    "start_time": "2024-02-23T07:39:32.096Z"
   },
   {
    "duration": 6,
    "start_time": "2024-02-23T07:39:32.107Z"
   },
   {
    "duration": 6,
    "start_time": "2024-02-23T07:39:32.114Z"
   },
   {
    "duration": 13,
    "start_time": "2024-02-23T07:39:32.121Z"
   },
   {
    "duration": 17,
    "start_time": "2024-02-23T07:39:32.136Z"
   },
   {
    "duration": 185,
    "start_time": "2024-02-23T07:39:32.155Z"
   },
   {
    "duration": 112,
    "start_time": "2024-02-23T07:39:32.342Z"
   },
   {
    "duration": 7,
    "start_time": "2024-02-23T07:39:32.456Z"
   },
   {
    "duration": 12,
    "start_time": "2024-02-23T07:39:32.465Z"
   },
   {
    "duration": 188,
    "start_time": "2024-02-23T07:39:32.479Z"
   },
   {
    "duration": 134,
    "start_time": "2024-02-23T07:39:32.669Z"
   },
   {
    "duration": 190,
    "start_time": "2024-02-23T07:39:32.804Z"
   },
   {
    "duration": 104,
    "start_time": "2024-02-23T07:39:32.995Z"
   },
   {
    "duration": 207,
    "start_time": "2024-02-23T07:39:33.101Z"
   },
   {
    "duration": 114,
    "start_time": "2024-02-23T07:39:33.310Z"
   },
   {
    "duration": 8,
    "start_time": "2024-02-23T07:39:33.426Z"
   },
   {
    "duration": 14,
    "start_time": "2024-02-23T07:39:33.435Z"
   },
   {
    "duration": 13,
    "start_time": "2024-02-23T07:39:33.451Z"
   },
   {
    "duration": 167,
    "start_time": "2024-02-23T07:39:33.465Z"
   },
   {
    "duration": 112,
    "start_time": "2024-02-23T07:39:33.634Z"
   },
   {
    "duration": 235,
    "start_time": "2024-02-23T07:39:33.748Z"
   },
   {
    "duration": 118,
    "start_time": "2024-02-23T07:39:33.985Z"
   },
   {
    "duration": 17,
    "start_time": "2024-02-23T07:39:34.106Z"
   },
   {
    "duration": 14,
    "start_time": "2024-02-23T07:39:34.125Z"
   },
   {
    "duration": 142,
    "start_time": "2024-02-23T07:39:34.141Z"
   },
   {
    "duration": 98,
    "start_time": "2024-02-23T07:39:34.284Z"
   },
   {
    "duration": 173,
    "start_time": "2024-02-23T07:39:34.385Z"
   },
   {
    "duration": 121,
    "start_time": "2024-02-23T07:39:34.560Z"
   },
   {
    "duration": 189,
    "start_time": "2024-02-23T07:39:34.685Z"
   },
   {
    "duration": 125,
    "start_time": "2024-02-23T07:39:34.876Z"
   },
   {
    "duration": 7,
    "start_time": "2024-02-23T07:39:35.003Z"
   },
   {
    "duration": 2,
    "start_time": "2024-02-23T07:39:35.024Z"
   },
   {
    "duration": 181,
    "start_time": "2024-02-23T07:39:35.028Z"
   },
   {
    "duration": 115,
    "start_time": "2024-02-23T07:39:35.210Z"
   },
   {
    "duration": 2,
    "start_time": "2024-02-23T07:39:35.327Z"
   },
   {
    "duration": 166,
    "start_time": "2024-02-23T07:39:35.331Z"
   },
   {
    "duration": 195,
    "start_time": "2024-02-23T07:39:35.499Z"
   },
   {
    "duration": 8,
    "start_time": "2024-02-23T07:39:35.696Z"
   },
   {
    "duration": 26,
    "start_time": "2024-02-23T07:39:35.706Z"
   },
   {
    "duration": 3,
    "start_time": "2024-02-23T07:41:59.560Z"
   },
   {
    "duration": 82,
    "start_time": "2024-02-23T07:41:59.711Z"
   },
   {
    "duration": 16,
    "start_time": "2024-02-23T07:41:59.879Z"
   },
   {
    "duration": 8,
    "start_time": "2024-02-23T07:42:00.048Z"
   },
   {
    "duration": 7,
    "start_time": "2024-02-23T07:42:00.199Z"
   },
   {
    "duration": 7,
    "start_time": "2024-02-23T07:42:00.620Z"
   },
   {
    "duration": 33,
    "start_time": "2024-02-23T07:42:01.104Z"
   },
   {
    "duration": 5,
    "start_time": "2024-02-23T07:42:01.424Z"
   },
   {
    "duration": 6,
    "start_time": "2024-02-23T07:42:01.916Z"
   },
   {
    "duration": 4,
    "start_time": "2024-02-23T07:42:02.064Z"
   },
   {
    "duration": 8,
    "start_time": "2024-02-23T07:42:02.396Z"
   },
   {
    "duration": 5,
    "start_time": "2024-02-23T07:42:02.996Z"
   },
   {
    "duration": 10,
    "start_time": "2024-02-23T07:42:03.732Z"
   },
   {
    "duration": 6,
    "start_time": "2024-02-23T07:42:04.184Z"
   },
   {
    "duration": 4,
    "start_time": "2024-02-23T07:42:04.388Z"
   },
   {
    "duration": 8,
    "start_time": "2024-02-23T07:42:08.412Z"
   },
   {
    "duration": 13,
    "start_time": "2024-02-23T07:42:09.759Z"
   },
   {
    "duration": 155,
    "start_time": "2024-02-23T07:42:12.392Z"
   },
   {
    "duration": 101,
    "start_time": "2024-02-23T07:42:36.896Z"
   },
   {
    "duration": 42,
    "start_time": "2024-02-23T07:42:47.828Z"
   },
   {
    "duration": 34,
    "start_time": "2024-02-23T07:42:59.940Z"
   },
   {
    "duration": 40,
    "start_time": "2024-02-23T07:43:55.756Z"
   },
   {
    "duration": 11,
    "start_time": "2024-02-23T07:44:04.256Z"
   },
   {
    "duration": 12,
    "start_time": "2024-02-23T07:45:17.840Z"
   },
   {
    "duration": 6,
    "start_time": "2024-02-23T07:47:18.140Z"
   },
   {
    "duration": 11,
    "start_time": "2024-02-23T07:47:33.896Z"
   },
   {
    "duration": 9,
    "start_time": "2024-02-23T07:47:51.648Z"
   },
   {
    "duration": 4,
    "start_time": "2024-02-23T07:48:26.028Z"
   },
   {
    "duration": 83,
    "start_time": "2024-02-23T07:48:26.208Z"
   },
   {
    "duration": 12,
    "start_time": "2024-02-23T07:48:26.360Z"
   },
   {
    "duration": 8,
    "start_time": "2024-02-23T07:48:26.492Z"
   },
   {
    "duration": 7,
    "start_time": "2024-02-23T07:48:26.675Z"
   },
   {
    "duration": 7,
    "start_time": "2024-02-23T07:48:26.828Z"
   },
   {
    "duration": 31,
    "start_time": "2024-02-23T07:48:27.751Z"
   },
   {
    "duration": 4,
    "start_time": "2024-02-23T07:48:28.080Z"
   },
   {
    "duration": 7,
    "start_time": "2024-02-23T07:48:28.560Z"
   },
   {
    "duration": 4,
    "start_time": "2024-02-23T07:48:28.732Z"
   },
   {
    "duration": 8,
    "start_time": "2024-02-23T07:48:29.052Z"
   },
   {
    "duration": 5,
    "start_time": "2024-02-23T07:48:29.215Z"
   },
   {
    "duration": 7,
    "start_time": "2024-02-23T07:48:30.228Z"
   },
   {
    "duration": 6,
    "start_time": "2024-02-23T07:48:30.932Z"
   },
   {
    "duration": 4,
    "start_time": "2024-02-23T07:48:32.297Z"
   },
   {
    "duration": 8,
    "start_time": "2024-02-23T07:48:33.408Z"
   },
   {
    "duration": 13,
    "start_time": "2024-02-23T07:48:35.588Z"
   },
   {
    "duration": 169,
    "start_time": "2024-02-23T07:48:37.496Z"
   },
   {
    "duration": 99,
    "start_time": "2024-02-23T07:48:39.996Z"
   },
   {
    "duration": 11,
    "start_time": "2024-02-23T07:48:42.608Z"
   },
   {
    "duration": 6,
    "start_time": "2024-02-23T07:48:44.320Z"
   },
   {
    "duration": 165,
    "start_time": "2024-02-23T07:48:46.156Z"
   },
   {
    "duration": 111,
    "start_time": "2024-02-23T07:48:47.748Z"
   },
   {
    "duration": 11,
    "start_time": "2024-02-23T07:49:07.400Z"
   },
   {
    "duration": 69,
    "start_time": "2024-02-23T07:49:37.664Z"
   },
   {
    "duration": 12,
    "start_time": "2024-02-23T07:50:14.532Z"
   },
   {
    "duration": 173,
    "start_time": "2024-02-23T07:50:37.885Z"
   },
   {
    "duration": 92,
    "start_time": "2024-02-23T07:50:40.048Z"
   },
   {
    "duration": 191,
    "start_time": "2024-02-23T07:50:42.376Z"
   },
   {
    "duration": 100,
    "start_time": "2024-02-23T07:50:45.684Z"
   },
   {
    "duration": 10,
    "start_time": "2024-02-23T07:50:49.260Z"
   },
   {
    "duration": 5,
    "start_time": "2024-02-23T07:51:44.133Z"
   },
   {
    "duration": 158,
    "start_time": "2024-02-23T07:51:46.616Z"
   },
   {
    "duration": 6,
    "start_time": "2024-02-23T07:52:01.832Z"
   },
   {
    "duration": 222,
    "start_time": "2024-02-23T07:52:03.020Z"
   },
   {
    "duration": 1089,
    "start_time": "2024-02-23T07:52:33.203Z"
   },
   {
    "duration": 141,
    "start_time": "2024-02-23T07:52:34.294Z"
   },
   {
    "duration": 17,
    "start_time": "2024-02-23T07:52:34.437Z"
   },
   {
    "duration": 20,
    "start_time": "2024-02-23T07:52:34.455Z"
   },
   {
    "duration": 19,
    "start_time": "2024-02-23T07:52:34.476Z"
   },
   {
    "duration": 9,
    "start_time": "2024-02-23T07:52:34.497Z"
   },
   {
    "duration": 38,
    "start_time": "2024-02-23T07:52:34.509Z"
   },
   {
    "duration": 6,
    "start_time": "2024-02-23T07:52:34.807Z"
   },
   {
    "duration": 6,
    "start_time": "2024-02-23T07:52:35.315Z"
   },
   {
    "duration": 4,
    "start_time": "2024-02-23T07:52:35.475Z"
   },
   {
    "duration": 9,
    "start_time": "2024-02-23T07:52:35.779Z"
   },
   {
    "duration": 6,
    "start_time": "2024-02-23T07:52:35.936Z"
   },
   {
    "duration": 7,
    "start_time": "2024-02-23T07:52:36.375Z"
   },
   {
    "duration": 6,
    "start_time": "2024-02-23T07:52:36.715Z"
   },
   {
    "duration": 3,
    "start_time": "2024-02-23T07:52:36.864Z"
   },
   {
    "duration": 8,
    "start_time": "2024-02-23T07:52:37.660Z"
   },
   {
    "duration": 12,
    "start_time": "2024-02-23T07:52:38.115Z"
   },
   {
    "duration": 164,
    "start_time": "2024-02-23T07:52:38.279Z"
   },
   {
    "duration": 106,
    "start_time": "2024-02-23T07:52:38.445Z"
   },
   {
    "duration": 11,
    "start_time": "2024-02-23T07:52:38.756Z"
   },
   {
    "duration": 6,
    "start_time": "2024-02-23T07:52:38.891Z"
   },
   {
    "duration": 162,
    "start_time": "2024-02-23T07:52:39.372Z"
   },
   {
    "duration": 123,
    "start_time": "2024-02-23T07:52:39.536Z"
   },
   {
    "duration": 10,
    "start_time": "2024-02-23T07:52:39.712Z"
   },
   {
    "duration": 184,
    "start_time": "2024-02-23T07:52:40.432Z"
   },
   {
    "duration": 94,
    "start_time": "2024-02-23T07:52:40.863Z"
   },
   {
    "duration": 206,
    "start_time": "2024-02-23T07:52:42.727Z"
   },
   {
    "duration": 104,
    "start_time": "2024-02-23T07:52:44.643Z"
   },
   {
    "duration": 10,
    "start_time": "2024-02-23T07:52:47.479Z"
   },
   {
    "duration": 6,
    "start_time": "2024-02-23T07:52:50.031Z"
   },
   {
    "duration": 152,
    "start_time": "2024-02-23T07:52:52.444Z"
   },
   {
    "duration": 110,
    "start_time": "2024-02-23T07:52:54.783Z"
   },
   {
    "duration": 231,
    "start_time": "2024-02-23T07:52:57.943Z"
   },
   {
    "duration": 108,
    "start_time": "2024-02-23T07:53:00.123Z"
   },
   {
    "duration": 11,
    "start_time": "2024-02-23T07:53:34.267Z"
   },
   {
    "duration": 6,
    "start_time": "2024-02-23T07:53:51.327Z"
   },
   {
    "duration": 135,
    "start_time": "2024-02-23T07:53:54.243Z"
   },
   {
    "duration": 87,
    "start_time": "2024-02-23T07:53:56.707Z"
   },
   {
    "duration": 82,
    "start_time": "2024-02-23T07:54:07.466Z"
   },
   {
    "duration": 11,
    "start_time": "2024-02-23T07:54:46.374Z"
   },
   {
    "duration": 10,
    "start_time": "2024-02-23T07:55:41.326Z"
   },
   {
    "duration": 7,
    "start_time": "2024-02-23T07:55:42.078Z"
   },
   {
    "duration": 153,
    "start_time": "2024-02-23T07:55:46.434Z"
   },
   {
    "duration": 104,
    "start_time": "2024-02-23T07:55:47.130Z"
   },
   {
    "duration": 11,
    "start_time": "2024-02-23T07:56:15.954Z"
   },
   {
    "duration": 1113,
    "start_time": "2024-02-23T07:57:21.953Z"
   },
   {
    "duration": 146,
    "start_time": "2024-02-23T07:57:23.068Z"
   },
   {
    "duration": 19,
    "start_time": "2024-02-23T07:57:23.215Z"
   },
   {
    "duration": 8,
    "start_time": "2024-02-23T07:57:23.237Z"
   },
   {
    "duration": 9,
    "start_time": "2024-02-23T07:57:23.247Z"
   },
   {
    "duration": 9,
    "start_time": "2024-02-23T07:57:23.258Z"
   },
   {
    "duration": 59,
    "start_time": "2024-02-23T07:57:23.268Z"
   },
   {
    "duration": 5,
    "start_time": "2024-02-23T07:57:23.329Z"
   },
   {
    "duration": 34,
    "start_time": "2024-02-23T07:57:23.336Z"
   },
   {
    "duration": 16,
    "start_time": "2024-02-23T07:57:23.373Z"
   },
   {
    "duration": 10,
    "start_time": "2024-02-23T07:57:23.391Z"
   },
   {
    "duration": 6,
    "start_time": "2024-02-23T07:57:23.403Z"
   },
   {
    "duration": 11,
    "start_time": "2024-02-23T07:57:23.411Z"
   },
   {
    "duration": 5,
    "start_time": "2024-02-23T07:57:23.424Z"
   },
   {
    "duration": 5,
    "start_time": "2024-02-23T07:57:23.431Z"
   },
   {
    "duration": 10,
    "start_time": "2024-02-23T07:57:23.437Z"
   },
   {
    "duration": 12,
    "start_time": "2024-02-23T07:57:23.449Z"
   },
   {
    "duration": 210,
    "start_time": "2024-02-23T07:57:23.463Z"
   },
   {
    "duration": 110,
    "start_time": "2024-02-23T07:57:23.675Z"
   },
   {
    "duration": 12,
    "start_time": "2024-02-23T07:57:23.787Z"
   },
   {
    "duration": 23,
    "start_time": "2024-02-23T07:57:23.801Z"
   },
   {
    "duration": 167,
    "start_time": "2024-02-23T07:57:23.826Z"
   },
   {
    "duration": 134,
    "start_time": "2024-02-23T07:57:23.995Z"
   },
   {
    "duration": 12,
    "start_time": "2024-02-23T07:57:24.130Z"
   },
   {
    "duration": 192,
    "start_time": "2024-02-23T07:57:24.143Z"
   },
   {
    "duration": 106,
    "start_time": "2024-02-23T07:57:24.337Z"
   },
   {
    "duration": 208,
    "start_time": "2024-02-23T07:57:24.445Z"
   },
   {
    "duration": 115,
    "start_time": "2024-02-23T07:57:24.657Z"
   },
   {
    "duration": 11,
    "start_time": "2024-02-23T07:57:24.774Z"
   },
   {
    "duration": 7,
    "start_time": "2024-02-23T07:57:24.787Z"
   },
   {
    "duration": 185,
    "start_time": "2024-02-23T07:57:24.796Z"
   },
   {
    "duration": 122,
    "start_time": "2024-02-23T07:57:24.982Z"
   },
   {
    "duration": 239,
    "start_time": "2024-02-23T07:57:25.106Z"
   },
   {
    "duration": 107,
    "start_time": "2024-02-23T07:57:25.347Z"
   },
   {
    "duration": 11,
    "start_time": "2024-02-23T07:57:25.455Z"
   },
   {
    "duration": 26,
    "start_time": "2024-02-23T07:57:25.467Z"
   },
   {
    "duration": 173,
    "start_time": "2024-02-23T07:57:25.495Z"
   },
   {
    "duration": 102,
    "start_time": "2024-02-23T07:57:25.670Z"
   },
   {
    "duration": 182,
    "start_time": "2024-02-23T07:57:25.774Z"
   },
   {
    "duration": 115,
    "start_time": "2024-02-23T07:57:25.958Z"
   },
   {
    "duration": 178,
    "start_time": "2024-02-23T07:57:26.075Z"
   },
   {
    "duration": 123,
    "start_time": "2024-02-23T07:57:26.255Z"
   },
   {
    "duration": 12,
    "start_time": "2024-02-23T07:57:26.380Z"
   },
   {
    "duration": 22,
    "start_time": "2024-02-23T07:57:26.394Z"
   },
   {
    "duration": 160,
    "start_time": "2024-02-23T07:57:26.418Z"
   },
   {
    "duration": 130,
    "start_time": "2024-02-23T07:57:26.580Z"
   },
   {
    "duration": 151,
    "start_time": "2024-02-23T07:57:26.712Z"
   },
   {
    "duration": 196,
    "start_time": "2024-02-23T07:57:26.865Z"
   },
   {
    "duration": 10,
    "start_time": "2024-02-23T07:57:27.063Z"
   },
   {
    "duration": 8,
    "start_time": "2024-02-23T07:57:27.074Z"
   },
   {
    "duration": 77,
    "start_time": "2024-02-23T08:05:45.304Z"
   },
   {
    "duration": 13,
    "start_time": "2024-02-23T08:07:37.260Z"
   },
   {
    "duration": 9,
    "start_time": "2024-02-23T08:07:47.771Z"
   },
   {
    "duration": 7,
    "start_time": "2024-02-23T08:08:09.295Z"
   },
   {
    "duration": 13,
    "start_time": "2024-02-23T08:09:04.811Z"
   },
   {
    "duration": 11,
    "start_time": "2024-02-23T08:09:13.947Z"
   },
   {
    "duration": 8,
    "start_time": "2024-02-23T08:15:23.095Z"
   },
   {
    "duration": 108,
    "start_time": "2024-02-23T08:16:17.270Z"
   },
   {
    "duration": 29,
    "start_time": "2024-02-23T08:16:21.095Z"
   },
   {
    "duration": 5,
    "start_time": "2024-02-23T08:16:35.787Z"
   },
   {
    "duration": 11,
    "start_time": "2024-02-23T08:17:19.542Z"
   },
   {
    "duration": 11,
    "start_time": "2024-02-23T08:17:51.290Z"
   },
   {
    "duration": 9,
    "start_time": "2024-02-23T08:18:20.434Z"
   },
   {
    "duration": 14,
    "start_time": "2024-02-23T08:23:03.638Z"
   },
   {
    "duration": 10,
    "start_time": "2024-02-23T08:23:18.086Z"
   },
   {
    "duration": 15,
    "start_time": "2024-02-23T08:24:08.594Z"
   },
   {
    "duration": 10,
    "start_time": "2024-02-23T08:24:10.722Z"
   },
   {
    "duration": 82,
    "start_time": "2024-02-23T08:24:43.310Z"
   },
   {
    "duration": 18,
    "start_time": "2024-02-23T08:26:39.798Z"
   },
   {
    "duration": 18,
    "start_time": "2024-02-23T08:27:05.030Z"
   },
   {
    "duration": 13,
    "start_time": "2024-02-23T08:27:30.338Z"
   },
   {
    "duration": 1105,
    "start_time": "2024-02-23T08:27:37.262Z"
   },
   {
    "duration": 144,
    "start_time": "2024-02-23T08:27:38.369Z"
   },
   {
    "duration": 18,
    "start_time": "2024-02-23T08:27:38.514Z"
   },
   {
    "duration": 10,
    "start_time": "2024-02-23T08:27:38.534Z"
   },
   {
    "duration": 22,
    "start_time": "2024-02-23T08:27:38.545Z"
   },
   {
    "duration": 21,
    "start_time": "2024-02-23T08:27:38.569Z"
   },
   {
    "duration": 43,
    "start_time": "2024-02-23T08:27:38.592Z"
   },
   {
    "duration": 5,
    "start_time": "2024-02-23T08:27:38.637Z"
   },
   {
    "duration": 10,
    "start_time": "2024-02-23T08:27:38.644Z"
   },
   {
    "duration": 4,
    "start_time": "2024-02-23T08:27:38.657Z"
   },
   {
    "duration": 10,
    "start_time": "2024-02-23T08:27:38.662Z"
   },
   {
    "duration": 6,
    "start_time": "2024-02-23T08:27:38.674Z"
   },
   {
    "duration": 25,
    "start_time": "2024-02-23T08:27:38.682Z"
   },
   {
    "duration": 14,
    "start_time": "2024-02-23T08:27:38.709Z"
   },
   {
    "duration": 5,
    "start_time": "2024-02-23T08:27:38.725Z"
   },
   {
    "duration": 10,
    "start_time": "2024-02-23T08:27:38.731Z"
   },
   {
    "duration": 13,
    "start_time": "2024-02-23T08:27:38.743Z"
   },
   {
    "duration": 207,
    "start_time": "2024-02-23T08:27:38.758Z"
   },
   {
    "duration": 112,
    "start_time": "2024-02-23T08:27:38.966Z"
   },
   {
    "duration": 11,
    "start_time": "2024-02-23T08:27:39.079Z"
   },
   {
    "duration": 10,
    "start_time": "2024-02-23T08:27:39.092Z"
   },
   {
    "duration": 175,
    "start_time": "2024-02-23T08:27:39.103Z"
   },
   {
    "duration": 130,
    "start_time": "2024-02-23T08:27:39.280Z"
   },
   {
    "duration": 12,
    "start_time": "2024-02-23T08:27:39.412Z"
   },
   {
    "duration": 206,
    "start_time": "2024-02-23T08:27:39.426Z"
   },
   {
    "duration": 106,
    "start_time": "2024-02-23T08:27:39.634Z"
   },
   {
    "duration": 208,
    "start_time": "2024-02-23T08:27:39.742Z"
   },
   {
    "duration": 112,
    "start_time": "2024-02-23T08:27:39.954Z"
   },
   {
    "duration": 10,
    "start_time": "2024-02-23T08:27:40.068Z"
   },
   {
    "duration": 24,
    "start_time": "2024-02-23T08:27:40.080Z"
   },
   {
    "duration": 160,
    "start_time": "2024-02-23T08:27:40.106Z"
   },
   {
    "duration": 119,
    "start_time": "2024-02-23T08:27:40.267Z"
   },
   {
    "duration": 259,
    "start_time": "2024-02-23T08:27:40.388Z"
   },
   {
    "duration": 118,
    "start_time": "2024-02-23T08:27:40.649Z"
   },
   {
    "duration": 10,
    "start_time": "2024-02-23T08:27:40.768Z"
   },
   {
    "duration": 8,
    "start_time": "2024-02-23T08:27:40.780Z"
   },
   {
    "duration": 157,
    "start_time": "2024-02-23T08:27:40.790Z"
   },
   {
    "duration": 106,
    "start_time": "2024-02-23T08:27:40.949Z"
   },
   {
    "duration": 187,
    "start_time": "2024-02-23T08:27:41.056Z"
   },
   {
    "duration": 124,
    "start_time": "2024-02-23T08:27:41.245Z"
   },
   {
    "duration": 182,
    "start_time": "2024-02-23T08:27:41.370Z"
   },
   {
    "duration": 123,
    "start_time": "2024-02-23T08:27:41.554Z"
   },
   {
    "duration": 11,
    "start_time": "2024-02-23T08:27:41.679Z"
   },
   {
    "duration": 7,
    "start_time": "2024-02-23T08:27:41.692Z"
   },
   {
    "duration": 172,
    "start_time": "2024-02-23T08:27:41.701Z"
   },
   {
    "duration": 137,
    "start_time": "2024-02-23T08:27:41.875Z"
   },
   {
    "duration": 154,
    "start_time": "2024-02-23T08:27:42.014Z"
   },
   {
    "duration": 194,
    "start_time": "2024-02-23T08:27:42.169Z"
   },
   {
    "duration": 9,
    "start_time": "2024-02-23T08:27:42.365Z"
   },
   {
    "duration": 10,
    "start_time": "2024-02-23T08:27:42.376Z"
   },
   {
    "duration": 32,
    "start_time": "2024-02-23T08:27:42.387Z"
   },
   {
    "duration": 1383,
    "start_time": "2024-02-23T08:30:12.795Z"
   },
   {
    "duration": 1153,
    "start_time": "2024-02-23T08:30:39.179Z"
   },
   {
    "duration": 13,
    "start_time": "2024-02-23T08:30:58.478Z"
   },
   {
    "duration": 12,
    "start_time": "2024-02-23T08:31:08.938Z"
   },
   {
    "duration": 9,
    "start_time": "2024-02-23T08:31:14.067Z"
   },
   {
    "duration": 8,
    "start_time": "2024-02-23T08:36:07.312Z"
   },
   {
    "duration": 14,
    "start_time": "2024-02-23T08:36:13.456Z"
   },
   {
    "duration": 72,
    "start_time": "2024-02-23T08:37:12.596Z"
   },
   {
    "duration": 12,
    "start_time": "2024-02-23T08:37:18.064Z"
   },
   {
    "duration": 27,
    "start_time": "2024-02-23T08:38:05.696Z"
   },
   {
    "duration": 71,
    "start_time": "2024-02-23T08:38:31.891Z"
   },
   {
    "duration": 20,
    "start_time": "2024-02-23T08:39:10.812Z"
   },
   {
    "duration": 16,
    "start_time": "2024-02-23T08:39:13.135Z"
   },
   {
    "duration": 131,
    "start_time": "2024-02-23T08:40:12.255Z"
   },
   {
    "duration": 64,
    "start_time": "2024-02-23T08:40:33.556Z"
   },
   {
    "duration": 138,
    "start_time": "2024-02-23T08:40:35.836Z"
   },
   {
    "duration": 1424,
    "start_time": "2024-02-23T08:40:44.387Z"
   },
   {
    "duration": 1389,
    "start_time": "2024-02-23T08:42:49.304Z"
   },
   {
    "duration": 17,
    "start_time": "2024-02-23T08:43:33.228Z"
   },
   {
    "duration": 144,
    "start_time": "2024-02-23T08:44:23.496Z"
   },
   {
    "duration": 1001,
    "start_time": "2024-02-23T08:44:28.912Z"
   },
   {
    "duration": 911,
    "start_time": "2024-02-23T08:46:04.908Z"
   },
   {
    "duration": 881,
    "start_time": "2024-02-23T08:46:11.432Z"
   },
   {
    "duration": 929,
    "start_time": "2024-02-23T08:47:01.052Z"
   },
   {
    "duration": 1286,
    "start_time": "2024-02-23T08:48:27.421Z"
   },
   {
    "duration": 86,
    "start_time": "2024-02-23T08:48:28.709Z"
   },
   {
    "duration": 18,
    "start_time": "2024-02-23T08:48:28.797Z"
   },
   {
    "duration": 8,
    "start_time": "2024-02-23T08:48:28.817Z"
   },
   {
    "duration": 18,
    "start_time": "2024-02-23T08:48:28.826Z"
   },
   {
    "duration": 7,
    "start_time": "2024-02-23T08:48:28.846Z"
   },
   {
    "duration": 32,
    "start_time": "2024-02-23T08:48:28.855Z"
   },
   {
    "duration": 5,
    "start_time": "2024-02-23T08:48:28.889Z"
   },
   {
    "duration": 9,
    "start_time": "2024-02-23T08:48:28.896Z"
   },
   {
    "duration": 5,
    "start_time": "2024-02-23T08:48:28.925Z"
   },
   {
    "duration": 10,
    "start_time": "2024-02-23T08:48:28.932Z"
   },
   {
    "duration": 8,
    "start_time": "2024-02-23T08:48:28.943Z"
   },
   {
    "duration": 8,
    "start_time": "2024-02-23T08:48:28.952Z"
   },
   {
    "duration": 9,
    "start_time": "2024-02-23T08:48:28.962Z"
   },
   {
    "duration": 8,
    "start_time": "2024-02-23T08:48:28.972Z"
   },
   {
    "duration": 46,
    "start_time": "2024-02-23T08:48:28.982Z"
   },
   {
    "duration": 13,
    "start_time": "2024-02-23T08:48:29.030Z"
   },
   {
    "duration": 210,
    "start_time": "2024-02-23T08:48:29.045Z"
   },
   {
    "duration": 117,
    "start_time": "2024-02-23T08:48:29.257Z"
   },
   {
    "duration": 11,
    "start_time": "2024-02-23T08:48:29.376Z"
   },
   {
    "duration": 8,
    "start_time": "2024-02-23T08:48:29.389Z"
   },
   {
    "duration": 191,
    "start_time": "2024-02-23T08:48:29.399Z"
   },
   {
    "duration": 126,
    "start_time": "2024-02-23T08:48:29.592Z"
   },
   {
    "duration": 11,
    "start_time": "2024-02-23T08:48:29.722Z"
   },
   {
    "duration": 193,
    "start_time": "2024-02-23T08:48:29.735Z"
   },
   {
    "duration": 105,
    "start_time": "2024-02-23T08:48:29.930Z"
   },
   {
    "duration": 211,
    "start_time": "2024-02-23T08:48:30.036Z"
   },
   {
    "duration": 109,
    "start_time": "2024-02-23T08:48:30.251Z"
   },
   {
    "duration": 12,
    "start_time": "2024-02-23T08:48:30.361Z"
   },
   {
    "duration": 127,
    "start_time": "2024-02-23T08:48:30.374Z"
   },
   {
    "duration": 235,
    "start_time": "2024-02-23T08:48:30.503Z"
   },
   {
    "duration": 211,
    "start_time": "2024-02-23T08:48:30.741Z"
   },
   {
    "duration": 179,
    "start_time": "2024-02-23T08:48:30.954Z"
   },
   {
    "duration": 206,
    "start_time": "2024-02-23T08:48:31.135Z"
   },
   {
    "duration": 11,
    "start_time": "2024-02-23T08:48:31.343Z"
   },
   {
    "duration": 100,
    "start_time": "2024-02-23T08:48:31.356Z"
   },
   {
    "duration": 180,
    "start_time": "2024-02-23T08:48:31.458Z"
   },
   {
    "duration": 100,
    "start_time": "2024-02-23T08:48:31.640Z"
   },
   {
    "duration": 290,
    "start_time": "2024-02-23T08:48:31.742Z"
   },
   {
    "duration": 158,
    "start_time": "2024-02-23T08:48:32.034Z"
   },
   {
    "duration": 182,
    "start_time": "2024-02-23T08:48:32.193Z"
   },
   {
    "duration": 122,
    "start_time": "2024-02-23T08:48:32.376Z"
   },
   {
    "duration": 10,
    "start_time": "2024-02-23T08:48:32.500Z"
   },
   {
    "duration": 20,
    "start_time": "2024-02-23T08:48:32.511Z"
   },
   {
    "duration": 172,
    "start_time": "2024-02-23T08:48:32.533Z"
   },
   {
    "duration": 111,
    "start_time": "2024-02-23T08:48:32.707Z"
   },
   {
    "duration": 234,
    "start_time": "2024-02-23T08:48:32.823Z"
   },
   {
    "duration": 111,
    "start_time": "2024-02-23T08:48:33.059Z"
   },
   {
    "duration": 10,
    "start_time": "2024-02-23T08:48:33.171Z"
   },
   {
    "duration": 19,
    "start_time": "2024-02-23T08:48:33.182Z"
   },
   {
    "duration": 26,
    "start_time": "2024-02-23T08:48:33.203Z"
   },
   {
    "duration": 35,
    "start_time": "2024-02-23T08:48:33.231Z"
   },
   {
    "duration": 31,
    "start_time": "2024-02-23T08:48:33.267Z"
   },
   {
    "duration": 1422,
    "start_time": "2024-02-23T08:48:33.299Z"
   },
   {
    "duration": 17,
    "start_time": "2024-02-23T08:48:34.722Z"
   },
   {
    "duration": 913,
    "start_time": "2024-02-23T08:48:34.741Z"
   },
   {
    "duration": 15,
    "start_time": "2024-02-23T08:48:35.656Z"
   },
   {
    "duration": 1048,
    "start_time": "2024-02-23T08:49:02.480Z"
   },
   {
    "duration": 16,
    "start_time": "2024-02-23T08:49:07.428Z"
   },
   {
    "duration": 1566,
    "start_time": "2024-02-23T11:15:05.958Z"
   },
   {
    "duration": 3351,
    "start_time": "2024-02-23T11:15:58.272Z"
   },
   {
    "duration": 3472,
    "start_time": "2024-02-23T11:16:32.251Z"
   },
   {
    "duration": 317,
    "start_time": "2024-02-27T09:27:51.771Z"
   },
   {
    "duration": 4,
    "start_time": "2024-02-27T09:30:52.345Z"
   },
   {
    "duration": 4,
    "start_time": "2024-02-27T09:30:53.909Z"
   },
   {
    "duration": 144,
    "start_time": "2024-02-27T09:31:02.718Z"
   },
   {
    "duration": 13,
    "start_time": "2024-02-27T09:31:41.553Z"
   },
   {
    "duration": 11,
    "start_time": "2024-02-27T09:31:45.661Z"
   },
   {
    "duration": 3,
    "start_time": "2024-02-27T09:31:51.181Z"
   },
   {
    "duration": 11,
    "start_time": "2024-02-27T09:32:17.009Z"
   },
   {
    "duration": 12,
    "start_time": "2024-02-27T09:34:14.731Z"
   },
   {
    "duration": 5,
    "start_time": "2024-02-27T09:34:33.188Z"
   },
   {
    "duration": 14,
    "start_time": "2024-02-27T09:34:37.333Z"
   },
   {
    "duration": 4,
    "start_time": "2024-02-27T09:34:38.936Z"
   },
   {
    "duration": 3,
    "start_time": "2024-02-27T09:34:39.780Z"
   },
   {
    "duration": 2,
    "start_time": "2024-02-27T09:34:41.249Z"
   },
   {
    "duration": 1271,
    "start_time": "2024-02-27T09:34:43.161Z"
   },
   {
    "duration": 10,
    "start_time": "2024-02-27T09:35:14.460Z"
   },
   {
    "duration": 3,
    "start_time": "2024-02-27T09:35:14.957Z"
   },
   {
    "duration": 3,
    "start_time": "2024-02-27T09:35:16.340Z"
   },
   {
    "duration": 3,
    "start_time": "2024-02-27T09:35:16.817Z"
   },
   {
    "duration": 29,
    "start_time": "2024-02-27T09:35:17.968Z"
   },
   {
    "duration": 16,
    "start_time": "2024-02-27T09:39:37.505Z"
   },
   {
    "duration": 6,
    "start_time": "2024-02-27T09:39:41.080Z"
   },
   {
    "duration": 4,
    "start_time": "2024-02-27T09:39:42.776Z"
   },
   {
    "duration": 3,
    "start_time": "2024-02-27T09:39:44.092Z"
   },
   {
    "duration": 3,
    "start_time": "2024-02-27T09:39:45.556Z"
   },
   {
    "duration": 36,
    "start_time": "2024-02-27T09:39:46.772Z"
   },
   {
    "duration": 4,
    "start_time": "2024-02-27T09:40:47.592Z"
   },
   {
    "duration": 11,
    "start_time": "2024-02-27T09:40:55.640Z"
   },
   {
    "duration": 3,
    "start_time": "2024-02-27T09:41:01.952Z"
   },
   {
    "duration": 25,
    "start_time": "2024-02-27T09:41:03.240Z"
   },
   {
    "duration": 4,
    "start_time": "2024-02-27T09:42:04.880Z"
   },
   {
    "duration": 3,
    "start_time": "2024-02-27T09:42:05.212Z"
   },
   {
    "duration": 4,
    "start_time": "2024-02-27T09:42:05.663Z"
   },
   {
    "duration": 41,
    "start_time": "2024-02-27T09:42:06.999Z"
   },
   {
    "duration": 4,
    "start_time": "2024-02-27T09:42:36.311Z"
   },
   {
    "duration": 35,
    "start_time": "2024-02-27T09:42:39.251Z"
   },
   {
    "duration": 4,
    "start_time": "2024-02-27T09:42:49.032Z"
   },
   {
    "duration": 34,
    "start_time": "2024-02-27T09:42:49.367Z"
   },
   {
    "duration": 7,
    "start_time": "2024-02-27T09:43:02.177Z"
   },
   {
    "duration": 4,
    "start_time": "2024-02-27T09:43:02.615Z"
   },
   {
    "duration": 5,
    "start_time": "2024-02-27T09:43:03.033Z"
   },
   {
    "duration": 4,
    "start_time": "2024-02-27T09:43:03.407Z"
   },
   {
    "duration": 34,
    "start_time": "2024-02-27T09:43:03.867Z"
   },
   {
    "duration": 28,
    "start_time": "2024-02-27T09:43:37.868Z"
   },
   {
    "duration": 38,
    "start_time": "2024-02-27T09:44:02.303Z"
   },
   {
    "duration": 5,
    "start_time": "2024-02-27T09:46:40.496Z"
   },
   {
    "duration": 14,
    "start_time": "2024-02-27T09:47:35.832Z"
   },
   {
    "duration": 14,
    "start_time": "2024-02-27T09:47:50.567Z"
   },
   {
    "duration": 5,
    "start_time": "2024-02-27T09:48:09.191Z"
   },
   {
    "duration": 13,
    "start_time": "2024-02-27T09:48:13.183Z"
   },
   {
    "duration": 3420,
    "start_time": "2024-02-27T09:48:23.739Z"
   },
   {
    "duration": 223,
    "start_time": "2024-02-27T09:49:16.320Z"
   },
   {
    "duration": 226,
    "start_time": "2024-02-27T09:50:42.318Z"
   },
   {
    "duration": 186,
    "start_time": "2024-02-27T09:55:23.955Z"
   },
   {
    "duration": 12,
    "start_time": "2024-02-27T09:58:55.288Z"
   },
   {
    "duration": 17,
    "start_time": "2024-02-27T09:59:05.924Z"
   },
   {
    "duration": 10,
    "start_time": "2024-02-27T10:00:00.449Z"
   },
   {
    "duration": 11,
    "start_time": "2024-02-27T10:00:12.025Z"
   },
   {
    "duration": 12,
    "start_time": "2024-02-27T10:01:20.445Z"
   },
   {
    "duration": 11,
    "start_time": "2024-02-27T10:01:22.232Z"
   },
   {
    "duration": 8,
    "start_time": "2024-02-27T10:01:51.285Z"
   },
   {
    "duration": 3,
    "start_time": "2024-02-27T10:01:51.817Z"
   },
   {
    "duration": 3,
    "start_time": "2024-02-27T10:01:52.177Z"
   },
   {
    "duration": 4,
    "start_time": "2024-02-27T10:01:52.521Z"
   },
   {
    "duration": 3584,
    "start_time": "2024-02-27T10:01:53.036Z"
   },
   {
    "duration": 167,
    "start_time": "2024-02-27T10:02:11.369Z"
   },
   {
    "duration": 6,
    "start_time": "2024-02-27T10:03:16.545Z"
   },
   {
    "duration": 14,
    "start_time": "2024-02-27T10:04:20.615Z"
   },
   {
    "duration": 8,
    "start_time": "2024-02-27T10:04:30.098Z"
   },
   {
    "duration": 3,
    "start_time": "2024-02-27T10:04:31.666Z"
   },
   {
    "duration": 4,
    "start_time": "2024-02-27T10:04:32.025Z"
   },
   {
    "duration": 3,
    "start_time": "2024-02-27T10:04:33.630Z"
   },
   {
    "duration": 3235,
    "start_time": "2024-02-27T10:04:33.953Z"
   },
   {
    "duration": 8,
    "start_time": "2024-02-27T10:04:41.518Z"
   },
   {
    "duration": 3,
    "start_time": "2024-02-27T10:04:41.874Z"
   },
   {
    "duration": 3,
    "start_time": "2024-02-27T10:04:42.081Z"
   },
   {
    "duration": 3,
    "start_time": "2024-02-27T10:04:42.254Z"
   },
   {
    "duration": 3417,
    "start_time": "2024-02-27T10:04:42.453Z"
   },
   {
    "duration": 267,
    "start_time": "2024-02-27T10:04:45.872Z"
   },
   {
    "duration": 27,
    "start_time": "2024-02-27T10:04:46.140Z"
   },
   {
    "duration": 3165,
    "start_time": "2024-02-27T10:05:11.001Z"
   },
   {
    "duration": 207,
    "start_time": "2024-02-27T10:05:23.134Z"
   },
   {
    "duration": 16,
    "start_time": "2024-02-27T10:05:28.353Z"
   },
   {
    "duration": 156,
    "start_time": "2024-02-27T10:05:31.582Z"
   },
   {
    "duration": 5,
    "start_time": "2024-02-27T10:06:43.690Z"
   },
   {
    "duration": 177,
    "start_time": "2024-02-27T10:06:59.762Z"
   },
   {
    "duration": 205,
    "start_time": "2024-02-27T10:18:30.035Z"
   },
   {
    "duration": 140,
    "start_time": "2024-02-27T10:18:34.399Z"
   },
   {
    "duration": 1661,
    "start_time": "2024-02-27T10:18:44.090Z"
   },
   {
    "duration": 89,
    "start_time": "2024-02-27T10:18:45.753Z"
   },
   {
    "duration": 20,
    "start_time": "2024-02-27T10:18:45.844Z"
   },
   {
    "duration": 15,
    "start_time": "2024-02-27T10:18:45.866Z"
   },
   {
    "duration": 11,
    "start_time": "2024-02-27T10:18:45.883Z"
   },
   {
    "duration": 8,
    "start_time": "2024-02-27T10:18:45.896Z"
   },
   {
    "duration": 41,
    "start_time": "2024-02-27T10:18:45.906Z"
   },
   {
    "duration": 5,
    "start_time": "2024-02-27T10:18:45.950Z"
   },
   {
    "duration": 16,
    "start_time": "2024-02-27T10:18:45.956Z"
   },
   {
    "duration": 7,
    "start_time": "2024-02-27T10:18:45.975Z"
   },
   {
    "duration": 19,
    "start_time": "2024-02-27T10:18:45.984Z"
   },
   {
    "duration": 21,
    "start_time": "2024-02-27T10:18:46.005Z"
   },
   {
    "duration": 11,
    "start_time": "2024-02-27T10:18:46.028Z"
   },
   {
    "duration": 24,
    "start_time": "2024-02-27T10:18:46.041Z"
   },
   {
    "duration": 5,
    "start_time": "2024-02-27T10:18:46.066Z"
   },
   {
    "duration": 13,
    "start_time": "2024-02-27T10:18:46.073Z"
   },
   {
    "duration": 13,
    "start_time": "2024-02-27T10:18:46.087Z"
   },
   {
    "duration": 214,
    "start_time": "2024-02-27T10:18:46.102Z"
   },
   {
    "duration": 130,
    "start_time": "2024-02-27T10:18:46.323Z"
   },
   {
    "duration": 12,
    "start_time": "2024-02-27T10:18:46.456Z"
   },
   {
    "duration": 17,
    "start_time": "2024-02-27T10:18:46.470Z"
   },
   {
    "duration": 222,
    "start_time": "2024-02-27T10:18:46.489Z"
   },
   {
    "duration": 161,
    "start_time": "2024-02-27T10:18:46.713Z"
   },
   {
    "duration": 12,
    "start_time": "2024-02-27T10:18:46.876Z"
   },
   {
    "duration": 322,
    "start_time": "2024-02-27T10:18:46.890Z"
   },
   {
    "duration": 137,
    "start_time": "2024-02-27T10:18:47.214Z"
   },
   {
    "duration": 257,
    "start_time": "2024-02-27T10:18:47.352Z"
   },
   {
    "duration": 142,
    "start_time": "2024-02-27T10:18:47.614Z"
   },
   {
    "duration": 11,
    "start_time": "2024-02-27T10:18:47.757Z"
   },
   {
    "duration": 8,
    "start_time": "2024-02-27T10:18:47.770Z"
   },
   {
    "duration": 194,
    "start_time": "2024-02-27T10:18:47.780Z"
   },
   {
    "duration": 136,
    "start_time": "2024-02-27T10:18:47.976Z"
   },
   {
    "duration": 199,
    "start_time": "2024-02-27T10:18:48.114Z"
   },
   {
    "duration": 141,
    "start_time": "2024-02-27T10:18:48.314Z"
   },
   {
    "duration": 11,
    "start_time": "2024-02-27T10:18:48.457Z"
   },
   {
    "duration": 9,
    "start_time": "2024-02-27T10:18:48.470Z"
   },
   {
    "duration": 197,
    "start_time": "2024-02-27T10:18:48.480Z"
   },
   {
    "duration": 125,
    "start_time": "2024-02-27T10:18:48.679Z"
   },
   {
    "duration": 228,
    "start_time": "2024-02-27T10:18:48.806Z"
   },
   {
    "duration": 238,
    "start_time": "2024-02-27T10:18:49.037Z"
   },
   {
    "duration": 213,
    "start_time": "2024-02-27T10:18:49.277Z"
   },
   {
    "duration": 162,
    "start_time": "2024-02-27T10:18:49.492Z"
   },
   {
    "duration": 14,
    "start_time": "2024-02-27T10:18:49.657Z"
   },
   {
    "duration": 7,
    "start_time": "2024-02-27T10:18:49.673Z"
   },
   {
    "duration": 202,
    "start_time": "2024-02-27T10:18:49.682Z"
   },
   {
    "duration": 139,
    "start_time": "2024-02-27T10:18:49.886Z"
   },
   {
    "duration": 178,
    "start_time": "2024-02-27T10:18:50.027Z"
   },
   {
    "duration": 119,
    "start_time": "2024-02-27T10:18:50.207Z"
   },
   {
    "duration": 16,
    "start_time": "2024-02-27T10:18:50.328Z"
   },
   {
    "duration": 11,
    "start_time": "2024-02-27T10:18:50.346Z"
   },
   {
    "duration": 18,
    "start_time": "2024-02-27T10:18:50.358Z"
   },
   {
    "duration": 45,
    "start_time": "2024-02-27T10:18:50.378Z"
   },
   {
    "duration": 18,
    "start_time": "2024-02-27T10:18:50.425Z"
   },
   {
    "duration": 3944,
    "start_time": "2024-02-27T10:18:50.445Z"
   },
   {
    "duration": 1704,
    "start_time": "2024-02-27T10:18:54.391Z"
   },
   {
    "duration": 1158,
    "start_time": "2024-02-27T10:18:56.096Z"
   },
   {
    "duration": 18,
    "start_time": "2024-02-27T10:18:57.256Z"
   },
   {
    "duration": 148,
    "start_time": "2024-02-27T10:18:57.276Z"
   },
   {
    "duration": 0,
    "start_time": "2024-02-27T10:18:57.427Z"
   },
   {
    "duration": 1,
    "start_time": "2024-02-27T10:18:57.429Z"
   },
   {
    "duration": 0,
    "start_time": "2024-02-27T10:18:57.432Z"
   },
   {
    "duration": 0,
    "start_time": "2024-02-27T10:18:57.434Z"
   },
   {
    "duration": 0,
    "start_time": "2024-02-27T10:18:57.436Z"
   },
   {
    "duration": 0,
    "start_time": "2024-02-27T10:18:57.438Z"
   },
   {
    "duration": 0,
    "start_time": "2024-02-27T10:18:57.441Z"
   },
   {
    "duration": 1653,
    "start_time": "2024-02-27T10:19:09.318Z"
   },
   {
    "duration": 96,
    "start_time": "2024-02-27T10:19:10.973Z"
   },
   {
    "duration": 17,
    "start_time": "2024-02-27T10:19:11.071Z"
   },
   {
    "duration": 8,
    "start_time": "2024-02-27T10:19:11.090Z"
   },
   {
    "duration": 12,
    "start_time": "2024-02-27T10:19:11.100Z"
   },
   {
    "duration": 20,
    "start_time": "2024-02-27T10:19:11.114Z"
   },
   {
    "duration": 38,
    "start_time": "2024-02-27T10:19:11.137Z"
   },
   {
    "duration": 5,
    "start_time": "2024-02-27T10:19:11.176Z"
   },
   {
    "duration": 18,
    "start_time": "2024-02-27T10:19:11.183Z"
   },
   {
    "duration": 20,
    "start_time": "2024-02-27T10:19:11.203Z"
   },
   {
    "duration": 11,
    "start_time": "2024-02-27T10:19:11.227Z"
   },
   {
    "duration": 12,
    "start_time": "2024-02-27T10:19:11.241Z"
   },
   {
    "duration": 7,
    "start_time": "2024-02-27T10:19:11.254Z"
   },
   {
    "duration": 26,
    "start_time": "2024-02-27T10:19:11.266Z"
   },
   {
    "duration": 28,
    "start_time": "2024-02-27T10:19:11.294Z"
   },
   {
    "duration": 17,
    "start_time": "2024-02-27T10:19:11.327Z"
   },
   {
    "duration": 22,
    "start_time": "2024-02-27T10:19:11.346Z"
   },
   {
    "duration": 230,
    "start_time": "2024-02-27T10:19:11.370Z"
   },
   {
    "duration": 135,
    "start_time": "2024-02-27T10:19:11.602Z"
   },
   {
    "duration": 15,
    "start_time": "2024-02-27T10:19:11.740Z"
   },
   {
    "duration": 12,
    "start_time": "2024-02-27T10:19:11.757Z"
   },
   {
    "duration": 177,
    "start_time": "2024-02-27T10:19:11.771Z"
   },
   {
    "duration": 148,
    "start_time": "2024-02-27T10:19:11.950Z"
   },
   {
    "duration": 12,
    "start_time": "2024-02-27T10:19:12.099Z"
   },
   {
    "duration": 316,
    "start_time": "2024-02-27T10:19:12.113Z"
   },
   {
    "duration": 126,
    "start_time": "2024-02-27T10:19:12.431Z"
   },
   {
    "duration": 239,
    "start_time": "2024-02-27T10:19:12.559Z"
   },
   {
    "duration": 137,
    "start_time": "2024-02-27T10:19:12.800Z"
   },
   {
    "duration": 15,
    "start_time": "2024-02-27T10:19:12.940Z"
   },
   {
    "duration": 8,
    "start_time": "2024-02-27T10:19:12.956Z"
   },
   {
    "duration": 201,
    "start_time": "2024-02-27T10:19:12.966Z"
   },
   {
    "duration": 129,
    "start_time": "2024-02-27T10:19:13.168Z"
   },
   {
    "duration": 179,
    "start_time": "2024-02-27T10:19:13.299Z"
   },
   {
    "duration": 126,
    "start_time": "2024-02-27T10:19:13.480Z"
   },
   {
    "duration": 20,
    "start_time": "2024-02-27T10:19:13.607Z"
   },
   {
    "duration": 9,
    "start_time": "2024-02-27T10:19:13.630Z"
   },
   {
    "duration": 175,
    "start_time": "2024-02-27T10:19:13.642Z"
   },
   {
    "duration": 129,
    "start_time": "2024-02-27T10:19:13.823Z"
   },
   {
    "duration": 214,
    "start_time": "2024-02-27T10:19:13.954Z"
   },
   {
    "duration": 264,
    "start_time": "2024-02-27T10:19:14.171Z"
   },
   {
    "duration": 203,
    "start_time": "2024-02-27T10:19:14.446Z"
   },
   {
    "duration": 147,
    "start_time": "2024-02-27T10:19:14.651Z"
   },
   {
    "duration": 27,
    "start_time": "2024-02-27T10:19:14.800Z"
   },
   {
    "duration": 14,
    "start_time": "2024-02-27T10:19:14.829Z"
   },
   {
    "duration": 204,
    "start_time": "2024-02-27T10:19:14.846Z"
   },
   {
    "duration": 157,
    "start_time": "2024-02-27T10:19:15.051Z"
   },
   {
    "duration": 170,
    "start_time": "2024-02-27T10:19:15.209Z"
   },
   {
    "duration": 150,
    "start_time": "2024-02-27T10:19:15.381Z"
   },
   {
    "duration": 21,
    "start_time": "2024-02-27T10:19:15.534Z"
   },
   {
    "duration": 12,
    "start_time": "2024-02-27T10:19:15.558Z"
   },
   {
    "duration": 42,
    "start_time": "2024-02-27T10:19:15.572Z"
   },
   {
    "duration": 49,
    "start_time": "2024-02-27T10:19:15.616Z"
   },
   {
    "duration": 20,
    "start_time": "2024-02-27T10:19:15.667Z"
   },
   {
    "duration": 3868,
    "start_time": "2024-02-27T10:19:15.689Z"
   },
   {
    "duration": 1636,
    "start_time": "2024-02-27T10:19:19.559Z"
   },
   {
    "duration": 1112,
    "start_time": "2024-02-27T10:19:21.197Z"
   },
   {
    "duration": 28,
    "start_time": "2024-02-27T10:19:22.312Z"
   },
   {
    "duration": 7,
    "start_time": "2024-02-27T10:19:22.342Z"
   },
   {
    "duration": 15,
    "start_time": "2024-02-27T10:19:22.351Z"
   },
   {
    "duration": 4,
    "start_time": "2024-02-27T10:19:22.368Z"
   },
   {
    "duration": 4,
    "start_time": "2024-02-27T10:19:22.374Z"
   },
   {
    "duration": 5,
    "start_time": "2024-02-27T10:19:22.380Z"
   },
   {
    "duration": 3423,
    "start_time": "2024-02-27T10:19:22.387Z"
   },
   {
    "duration": 219,
    "start_time": "2024-02-27T10:19:25.812Z"
   },
   {
    "duration": 5,
    "start_time": "2024-02-27T10:25:20.710Z"
   },
   {
    "duration": 179,
    "start_time": "2024-02-27T10:28:33.985Z"
   },
   {
    "duration": 39,
    "start_time": "2024-02-27T10:30:34.438Z"
   },
   {
    "duration": 14,
    "start_time": "2024-02-27T10:31:23.901Z"
   },
   {
    "duration": 4503,
    "start_time": "2024-02-27T10:32:20.326Z"
   },
   {
    "duration": 18,
    "start_time": "2024-02-27T10:32:24.832Z"
   },
   {
    "duration": 4016,
    "start_time": "2024-02-27T13:40:19.262Z"
   },
   {
    "duration": 14,
    "start_time": "2024-02-27T13:40:23.281Z"
   },
   {
    "duration": 5822,
    "start_time": "2024-02-27T13:40:41.394Z"
   },
   {
    "duration": 236,
    "start_time": "2024-02-27T13:40:47.218Z"
   },
   {
    "duration": 4430,
    "start_time": "2024-02-27T13:41:06.921Z"
   },
   {
    "duration": 14,
    "start_time": "2024-02-27T13:41:11.354Z"
   },
   {
    "duration": 18,
    "start_time": "2024-02-27T13:41:33.433Z"
   },
   {
    "duration": 12,
    "start_time": "2024-02-27T13:42:05.598Z"
   },
   {
    "duration": 4238,
    "start_time": "2024-02-27T13:42:22.222Z"
   },
   {
    "duration": 1109,
    "start_time": "2024-02-27T13:42:28.858Z"
   },
   {
    "duration": 69,
    "start_time": "2024-02-27T13:43:16.201Z"
   },
   {
    "duration": 12,
    "start_time": "2024-02-27T13:44:41.657Z"
   },
   {
    "duration": 25,
    "start_time": "2024-02-27T13:44:44.365Z"
   },
   {
    "duration": 3,
    "start_time": "2024-02-27T13:45:24.657Z"
   },
   {
    "duration": 14,
    "start_time": "2024-02-27T13:45:27.367Z"
   },
   {
    "duration": 4,
    "start_time": "2024-02-27T13:46:43.294Z"
   },
   {
    "duration": 4,
    "start_time": "2024-02-27T13:46:57.793Z"
   },
   {
    "duration": 14,
    "start_time": "2024-02-27T13:47:04.510Z"
   },
   {
    "duration": 12,
    "start_time": "2024-02-27T13:47:18.249Z"
   },
   {
    "duration": 22,
    "start_time": "2024-02-27T13:54:08.252Z"
   },
   {
    "duration": 5,
    "start_time": "2024-02-27T13:54:19.880Z"
   },
   {
    "duration": 13,
    "start_time": "2024-02-27T13:54:31.204Z"
   },
   {
    "duration": 5,
    "start_time": "2024-02-27T13:54:37.908Z"
   },
   {
    "duration": 35,
    "start_time": "2024-02-27T13:57:27.139Z"
   },
   {
    "duration": 24,
    "start_time": "2024-02-27T13:57:42.260Z"
   },
   {
    "duration": 12,
    "start_time": "2024-02-27T13:57:47.696Z"
   },
   {
    "duration": 13,
    "start_time": "2024-02-27T13:57:56.588Z"
   },
   {
    "duration": 1393,
    "start_time": "2024-02-27T13:58:27.943Z"
   },
   {
    "duration": 13,
    "start_time": "2024-02-27T13:59:06.172Z"
   },
   {
    "duration": 25,
    "start_time": "2024-02-27T13:59:24.643Z"
   },
   {
    "duration": 1509,
    "start_time": "2024-02-27T13:59:27.115Z"
   },
   {
    "duration": 16,
    "start_time": "2024-02-27T13:59:30.556Z"
   },
   {
    "duration": 26,
    "start_time": "2024-02-27T14:00:02.299Z"
   },
   {
    "duration": 4,
    "start_time": "2024-02-27T14:00:04.263Z"
   },
   {
    "duration": 10,
    "start_time": "2024-02-27T14:00:43.072Z"
   },
   {
    "duration": 18,
    "start_time": "2024-02-27T14:00:49.282Z"
   },
   {
    "duration": 658,
    "start_time": "2024-02-27T14:01:07.687Z"
   },
   {
    "duration": 16,
    "start_time": "2024-02-27T14:01:37.359Z"
   },
   {
    "duration": 40,
    "start_time": "2024-02-27T14:03:34.271Z"
   },
   {
    "duration": 29,
    "start_time": "2024-02-27T14:03:42.551Z"
   },
   {
    "duration": 30,
    "start_time": "2024-02-27T14:03:57.331Z"
   },
   {
    "duration": 32,
    "start_time": "2024-02-27T14:04:02.987Z"
   },
   {
    "duration": 592,
    "start_time": "2024-02-27T14:04:30.411Z"
   },
   {
    "duration": 4081,
    "start_time": "2024-02-27T14:06:04.046Z"
   },
   {
    "duration": 15,
    "start_time": "2024-02-27T14:07:21.095Z"
   },
   {
    "duration": 16,
    "start_time": "2024-02-27T14:07:29.010Z"
   },
   {
    "duration": 17,
    "start_time": "2024-02-27T14:07:39.186Z"
   },
   {
    "duration": 280,
    "start_time": "2024-02-27T14:07:48.326Z"
   },
   {
    "duration": 345,
    "start_time": "2024-02-27T14:09:17.114Z"
   },
   {
    "duration": 48,
    "start_time": "2024-02-27T14:11:21.422Z"
   },
   {
    "duration": 17,
    "start_time": "2024-02-27T14:12:54.834Z"
   },
   {
    "duration": 588,
    "start_time": "2024-02-27T14:14:31.062Z"
   },
   {
    "duration": 3,
    "start_time": "2024-02-27T14:17:29.101Z"
   },
   {
    "duration": 4,
    "start_time": "2024-02-27T14:17:31.806Z"
   },
   {
    "duration": 4,
    "start_time": "2024-02-27T14:17:44.194Z"
   },
   {
    "duration": 2,
    "start_time": "2024-02-27T14:17:57.794Z"
   },
   {
    "duration": 5,
    "start_time": "2024-02-27T14:18:02.446Z"
   },
   {
    "duration": 2,
    "start_time": "2024-02-27T14:18:20.234Z"
   },
   {
    "duration": 11,
    "start_time": "2024-02-27T14:18:47.741Z"
   },
   {
    "duration": 13,
    "start_time": "2024-02-27T14:18:54.890Z"
   },
   {
    "duration": 15,
    "start_time": "2024-02-27T14:19:14.237Z"
   },
   {
    "duration": 4,
    "start_time": "2024-02-27T14:19:40.170Z"
   },
   {
    "duration": 4,
    "start_time": "2024-02-27T14:19:53.786Z"
   },
   {
    "duration": 18,
    "start_time": "2024-02-27T14:20:23.526Z"
   },
   {
    "duration": 3,
    "start_time": "2024-02-27T14:20:35.389Z"
   },
   {
    "duration": 4,
    "start_time": "2024-02-27T14:20:35.765Z"
   },
   {
    "duration": 16,
    "start_time": "2024-02-27T14:20:37.825Z"
   },
   {
    "duration": 2,
    "start_time": "2024-02-27T14:20:54.202Z"
   },
   {
    "duration": 7,
    "start_time": "2024-02-27T14:20:54.734Z"
   },
   {
    "duration": 3,
    "start_time": "2024-02-27T14:21:01.981Z"
   },
   {
    "duration": 4,
    "start_time": "2024-02-27T14:21:02.385Z"
   },
   {
    "duration": 10,
    "start_time": "2024-02-27T14:21:41.681Z"
   },
   {
    "duration": 4,
    "start_time": "2024-02-27T14:21:42.273Z"
   },
   {
    "duration": 3,
    "start_time": "2024-02-27T14:21:42.753Z"
   },
   {
    "duration": 3,
    "start_time": "2024-02-27T14:21:43.269Z"
   },
   {
    "duration": 3962,
    "start_time": "2024-02-27T14:21:43.833Z"
   },
   {
    "duration": 14,
    "start_time": "2024-02-27T14:21:47.797Z"
   },
   {
    "duration": 20,
    "start_time": "2024-02-27T14:22:13.389Z"
   },
   {
    "duration": 2,
    "start_time": "2024-02-27T14:23:21.585Z"
   },
   {
    "duration": 4,
    "start_time": "2024-02-27T14:23:22.381Z"
   },
   {
    "duration": 12,
    "start_time": "2024-02-27T14:23:43.168Z"
   },
   {
    "duration": 25,
    "start_time": "2024-02-27T14:24:59.892Z"
   },
   {
    "duration": 10,
    "start_time": "2024-02-27T14:25:47.300Z"
   },
   {
    "duration": 12,
    "start_time": "2024-02-27T14:31:25.455Z"
   },
   {
    "duration": 4862,
    "start_time": "2024-02-27T14:33:38.435Z"
   },
   {
    "duration": 24,
    "start_time": "2024-02-27T14:33:43.299Z"
   },
   {
    "duration": 4903,
    "start_time": "2024-02-27T14:34:03.856Z"
   },
   {
    "duration": 3846,
    "start_time": "2024-02-27T14:34:53.358Z"
   },
   {
    "duration": 24,
    "start_time": "2024-02-27T14:34:57.205Z"
   },
   {
    "duration": 16,
    "start_time": "2024-02-27T14:41:03.782Z"
   },
   {
    "duration": 33,
    "start_time": "2024-02-27T14:41:30.494Z"
   },
   {
    "duration": 33,
    "start_time": "2024-02-27T14:41:43.766Z"
   },
   {
    "duration": 58,
    "start_time": "2024-02-27T14:42:09.494Z"
   },
   {
    "duration": 24,
    "start_time": "2024-02-27T14:43:16.078Z"
   },
   {
    "duration": 9,
    "start_time": "2024-02-27T14:43:57.042Z"
   },
   {
    "duration": 28,
    "start_time": "2024-02-27T14:44:23.918Z"
   },
   {
    "duration": 19,
    "start_time": "2024-02-27T14:45:07.198Z"
   },
   {
    "duration": 72,
    "start_time": "2024-02-27T14:45:13.174Z"
   },
   {
    "duration": 600,
    "start_time": "2024-02-27T14:45:52.118Z"
   },
   {
    "duration": 575,
    "start_time": "2024-02-27T14:46:06.814Z"
   },
   {
    "duration": 610,
    "start_time": "2024-02-27T14:46:17.490Z"
   },
   {
    "duration": 49,
    "start_time": "2024-02-27T14:46:33.642Z"
   },
   {
    "duration": 39,
    "start_time": "2024-02-27T14:48:32.386Z"
   },
   {
    "duration": 18,
    "start_time": "2024-02-27T14:48:43.190Z"
   },
   {
    "duration": 39,
    "start_time": "2024-02-27T14:52:11.061Z"
   },
   {
    "duration": 172,
    "start_time": "2024-02-27T14:52:11.584Z"
   },
   {
    "duration": 24,
    "start_time": "2024-02-27T14:52:21.993Z"
   },
   {
    "duration": 160,
    "start_time": "2024-02-27T14:52:27.193Z"
   },
   {
    "duration": 47,
    "start_time": "2024-02-27T14:52:46.229Z"
   },
   {
    "duration": 153,
    "start_time": "2024-02-27T14:52:48.481Z"
   },
   {
    "duration": 3,
    "start_time": "2024-02-27T14:53:47.481Z"
   },
   {
    "duration": 25,
    "start_time": "2024-02-27T14:54:11.813Z"
   },
   {
    "duration": 12,
    "start_time": "2024-02-27T14:55:22.861Z"
   },
   {
    "duration": 32,
    "start_time": "2024-02-27T14:56:59.357Z"
   },
   {
    "duration": 13,
    "start_time": "2024-02-27T14:57:18.529Z"
   },
   {
    "duration": 5,
    "start_time": "2024-02-27T14:58:27.898Z"
   },
   {
    "duration": 4,
    "start_time": "2024-02-27T14:58:44.281Z"
   },
   {
    "duration": 5,
    "start_time": "2024-02-27T14:58:49.417Z"
   },
   {
    "duration": 16,
    "start_time": "2024-02-27T14:58:58.890Z"
   },
   {
    "duration": 12,
    "start_time": "2024-02-27T14:59:32.269Z"
   },
   {
    "duration": 11,
    "start_time": "2024-02-27T15:00:34.766Z"
   },
   {
    "duration": 16,
    "start_time": "2024-02-27T15:02:33.077Z"
   },
   {
    "duration": 17,
    "start_time": "2024-02-27T15:05:18.650Z"
   },
   {
    "duration": 28,
    "start_time": "2024-02-27T15:05:44.313Z"
   },
   {
    "duration": 13,
    "start_time": "2024-02-27T15:05:59.721Z"
   },
   {
    "duration": 17,
    "start_time": "2024-02-27T15:06:12.365Z"
   },
   {
    "duration": 41,
    "start_time": "2024-02-27T15:06:17.014Z"
   },
   {
    "duration": 26,
    "start_time": "2024-02-27T15:07:06.589Z"
   },
   {
    "duration": 10,
    "start_time": "2024-02-27T15:07:23.283Z"
   },
   {
    "duration": 9,
    "start_time": "2024-02-27T15:08:07.857Z"
   },
   {
    "duration": 28,
    "start_time": "2024-02-27T15:09:04.062Z"
   },
   {
    "duration": 28,
    "start_time": "2024-02-27T15:09:10.689Z"
   },
   {
    "duration": 27,
    "start_time": "2024-02-27T15:09:13.329Z"
   },
   {
    "duration": 164,
    "start_time": "2024-02-27T15:09:18.541Z"
   },
   {
    "duration": 23,
    "start_time": "2024-02-27T15:09:25.890Z"
   },
   {
    "duration": 23,
    "start_time": "2024-02-27T15:09:31.066Z"
   },
   {
    "duration": 162,
    "start_time": "2024-02-27T15:09:40.197Z"
   },
   {
    "duration": 23,
    "start_time": "2024-02-27T15:10:00.201Z"
   },
   {
    "duration": 11,
    "start_time": "2024-02-27T15:10:00.813Z"
   },
   {
    "duration": 40,
    "start_time": "2024-02-27T15:10:04.010Z"
   },
   {
    "duration": 552,
    "start_time": "2024-02-27T15:10:30.418Z"
   },
   {
    "duration": 23,
    "start_time": "2024-02-27T15:11:26.805Z"
   },
   {
    "duration": 10,
    "start_time": "2024-02-27T15:11:27.089Z"
   },
   {
    "duration": 520,
    "start_time": "2024-02-27T15:11:27.370Z"
   },
   {
    "duration": 21,
    "start_time": "2024-02-27T15:48:15.429Z"
   },
   {
    "duration": 12,
    "start_time": "2024-02-27T15:50:08.227Z"
   },
   {
    "duration": 13,
    "start_time": "2024-02-27T15:50:45.707Z"
   },
   {
    "duration": 5,
    "start_time": "2024-02-27T15:51:49.667Z"
   },
   {
    "duration": 5,
    "start_time": "2024-02-27T15:51:57.644Z"
   },
   {
    "duration": 4,
    "start_time": "2024-02-27T15:52:01.335Z"
   },
   {
    "duration": 5,
    "start_time": "2024-02-27T15:52:04.935Z"
   },
   {
    "duration": 11,
    "start_time": "2024-02-27T15:52:12.783Z"
   },
   {
    "duration": 4,
    "start_time": "2024-02-27T15:52:25.347Z"
   },
   {
    "duration": 11,
    "start_time": "2024-02-27T15:52:29.751Z"
   },
   {
    "duration": 12,
    "start_time": "2024-02-27T15:52:33.939Z"
   },
   {
    "duration": 17,
    "start_time": "2024-02-27T15:52:37.684Z"
   },
   {
    "duration": 11,
    "start_time": "2024-02-27T15:52:40.331Z"
   },
   {
    "duration": 11,
    "start_time": "2024-02-27T15:52:43.831Z"
   },
   {
    "duration": 12,
    "start_time": "2024-02-27T15:53:26.775Z"
   },
   {
    "duration": 13,
    "start_time": "2024-02-27T15:53:30.827Z"
   },
   {
    "duration": 4,
    "start_time": "2024-02-27T15:53:47.107Z"
   },
   {
    "duration": 4,
    "start_time": "2024-02-27T15:53:59.027Z"
   },
   {
    "duration": 11,
    "start_time": "2024-02-27T15:55:07.146Z"
   },
   {
    "duration": 4,
    "start_time": "2024-02-27T15:55:11.459Z"
   },
   {
    "duration": 4,
    "start_time": "2024-02-27T15:55:14.678Z"
   },
   {
    "duration": 4,
    "start_time": "2024-02-27T15:55:25.678Z"
   },
   {
    "duration": 13,
    "start_time": "2024-02-27T15:56:09.862Z"
   },
   {
    "duration": 5,
    "start_time": "2024-02-27T15:56:14.726Z"
   },
   {
    "duration": 2668,
    "start_time": "2024-02-27T15:57:30.814Z"
   },
   {
    "duration": 2362,
    "start_time": "2024-02-27T15:57:33.484Z"
   },
   {
    "duration": 86,
    "start_time": "2024-02-27T15:57:35.848Z"
   },
   {
    "duration": 17,
    "start_time": "2024-02-27T15:57:35.936Z"
   },
   {
    "duration": 9,
    "start_time": "2024-02-27T15:57:35.954Z"
   },
   {
    "duration": 28,
    "start_time": "2024-02-27T15:57:35.964Z"
   },
   {
    "duration": 17,
    "start_time": "2024-02-27T15:57:35.994Z"
   },
   {
    "duration": 35,
    "start_time": "2024-02-27T15:57:36.013Z"
   },
   {
    "duration": 5,
    "start_time": "2024-02-27T15:57:36.050Z"
   },
   {
    "duration": 13,
    "start_time": "2024-02-27T15:57:36.057Z"
   },
   {
    "duration": 7,
    "start_time": "2024-02-27T15:57:36.072Z"
   },
   {
    "duration": 18,
    "start_time": "2024-02-27T15:57:36.081Z"
   },
   {
    "duration": 8,
    "start_time": "2024-02-27T15:57:36.101Z"
   },
   {
    "duration": 17,
    "start_time": "2024-02-27T15:57:36.111Z"
   },
   {
    "duration": 6,
    "start_time": "2024-02-27T15:57:36.130Z"
   },
   {
    "duration": 6,
    "start_time": "2024-02-27T15:57:36.137Z"
   },
   {
    "duration": 29,
    "start_time": "2024-02-27T15:57:36.145Z"
   },
   {
    "duration": 23,
    "start_time": "2024-02-27T15:57:36.175Z"
   },
   {
    "duration": 283,
    "start_time": "2024-02-27T15:57:36.199Z"
   },
   {
    "duration": 123,
    "start_time": "2024-02-27T15:57:36.484Z"
   },
   {
    "duration": 16,
    "start_time": "2024-02-27T15:57:36.609Z"
   },
   {
    "duration": 6,
    "start_time": "2024-02-27T15:57:36.627Z"
   },
   {
    "duration": 177,
    "start_time": "2024-02-27T15:57:36.634Z"
   },
   {
    "duration": 133,
    "start_time": "2024-02-27T15:57:36.813Z"
   },
   {
    "duration": 11,
    "start_time": "2024-02-27T15:57:36.948Z"
   },
   {
    "duration": 200,
    "start_time": "2024-02-27T15:57:36.960Z"
   },
   {
    "duration": 105,
    "start_time": "2024-02-27T15:57:37.161Z"
   },
   {
    "duration": 201,
    "start_time": "2024-02-27T15:57:37.271Z"
   },
   {
    "duration": 120,
    "start_time": "2024-02-27T15:57:37.474Z"
   },
   {
    "duration": 11,
    "start_time": "2024-02-27T15:57:37.595Z"
   },
   {
    "duration": 21,
    "start_time": "2024-02-27T15:57:37.607Z"
   },
   {
    "duration": 169,
    "start_time": "2024-02-27T15:57:37.630Z"
   },
   {
    "duration": 108,
    "start_time": "2024-02-27T15:57:37.801Z"
   },
   {
    "duration": 158,
    "start_time": "2024-02-27T15:57:37.911Z"
   },
   {
    "duration": 112,
    "start_time": "2024-02-27T15:57:38.070Z"
   },
   {
    "duration": 11,
    "start_time": "2024-02-27T15:57:38.183Z"
   },
   {
    "duration": 10,
    "start_time": "2024-02-27T15:57:38.196Z"
   },
   {
    "duration": 152,
    "start_time": "2024-02-27T15:57:38.223Z"
   },
   {
    "duration": 104,
    "start_time": "2024-02-27T15:57:38.376Z"
   },
   {
    "duration": 180,
    "start_time": "2024-02-27T15:57:38.481Z"
   },
   {
    "duration": 248,
    "start_time": "2024-02-27T15:57:38.662Z"
   },
   {
    "duration": 177,
    "start_time": "2024-02-27T15:57:38.912Z"
   },
   {
    "duration": 116,
    "start_time": "2024-02-27T15:57:39.091Z"
   },
   {
    "duration": 15,
    "start_time": "2024-02-27T15:57:39.209Z"
   },
   {
    "duration": 5,
    "start_time": "2024-02-27T15:57:39.226Z"
   },
   {
    "duration": 169,
    "start_time": "2024-02-27T15:57:39.232Z"
   },
   {
    "duration": 130,
    "start_time": "2024-02-27T15:57:39.403Z"
   },
   {
    "duration": 161,
    "start_time": "2024-02-27T15:57:39.535Z"
   },
   {
    "duration": 111,
    "start_time": "2024-02-27T15:57:39.698Z"
   },
   {
    "duration": 20,
    "start_time": "2024-02-27T15:57:39.811Z"
   },
   {
    "duration": 5,
    "start_time": "2024-02-27T15:57:39.833Z"
   },
   {
    "duration": 16,
    "start_time": "2024-02-27T15:57:39.840Z"
   },
   {
    "duration": 19,
    "start_time": "2024-02-27T15:57:39.858Z"
   },
   {
    "duration": 16,
    "start_time": "2024-02-27T15:57:39.878Z"
   },
   {
    "duration": 3451,
    "start_time": "2024-02-27T15:57:39.896Z"
   },
   {
    "duration": 1429,
    "start_time": "2024-02-27T15:57:43.348Z"
   },
   {
    "duration": 1034,
    "start_time": "2024-02-27T15:57:44.779Z"
   },
   {
    "duration": 22,
    "start_time": "2024-02-27T15:57:45.815Z"
   },
   {
    "duration": 7,
    "start_time": "2024-02-27T15:57:45.839Z"
   },
   {
    "duration": 27,
    "start_time": "2024-02-27T15:57:45.847Z"
   },
   {
    "duration": 14,
    "start_time": "2024-02-27T15:57:45.876Z"
   },
   {
    "duration": 18,
    "start_time": "2024-02-27T15:57:45.892Z"
   },
   {
    "duration": 12,
    "start_time": "2024-02-27T15:57:45.912Z"
   },
   {
    "duration": 3769,
    "start_time": "2024-02-27T15:57:45.926Z"
   },
   {
    "duration": 17,
    "start_time": "2024-02-27T15:57:49.697Z"
   },
   {
    "duration": 4,
    "start_time": "2024-02-27T15:57:49.724Z"
   },
   {
    "duration": 46,
    "start_time": "2024-02-27T15:57:49.729Z"
   },
   {
    "duration": 4,
    "start_time": "2024-02-27T15:57:49.776Z"
   },
   {
    "duration": 20,
    "start_time": "2024-02-27T15:57:49.782Z"
   },
   {
    "duration": 47,
    "start_time": "2024-02-27T15:57:49.804Z"
   },
   {
    "duration": 8,
    "start_time": "2024-02-27T15:57:49.853Z"
   },
   {
    "duration": 8,
    "start_time": "2024-02-27T15:57:49.863Z"
   },
   {
    "duration": 499,
    "start_time": "2024-02-27T15:57:49.872Z"
   },
   {
    "duration": 22,
    "start_time": "2024-02-27T15:57:50.373Z"
   },
   {
    "duration": 27,
    "start_time": "2024-02-27T15:57:50.397Z"
   },
   {
    "duration": 576,
    "start_time": "2024-02-27T15:57:50.426Z"
   },
   {
    "duration": 170,
    "start_time": "2024-02-27T15:57:51.004Z"
   },
   {
    "duration": 522,
    "start_time": "2024-02-27T15:59:27.252Z"
   },
   {
    "duration": 23,
    "start_time": "2024-02-29T09:11:46.470Z"
   },
   {
    "duration": 492,
    "start_time": "2024-02-29T09:11:57.877Z"
   },
   {
    "duration": 20,
    "start_time": "2024-02-29T09:12:05.712Z"
   },
   {
    "duration": 527,
    "start_time": "2024-02-29T09:12:09.541Z"
   },
   {
    "duration": 18,
    "start_time": "2024-02-29T09:12:36.041Z"
   },
   {
    "duration": 423,
    "start_time": "2024-02-29T09:12:41.300Z"
   },
   {
    "duration": 778,
    "start_time": "2024-02-29T09:12:53.304Z"
   },
   {
    "duration": 37,
    "start_time": "2024-02-29T09:13:17.680Z"
   },
   {
    "duration": 28,
    "start_time": "2024-02-29T09:13:37.468Z"
   },
   {
    "duration": 38,
    "start_time": "2024-02-29T09:18:56.007Z"
   },
   {
    "duration": 34,
    "start_time": "2024-02-29T09:19:18.615Z"
   },
   {
    "duration": 19,
    "start_time": "2024-02-29T09:22:10.474Z"
   },
   {
    "duration": 27,
    "start_time": "2024-02-29T09:22:18.807Z"
   },
   {
    "duration": 6,
    "start_time": "2024-02-29T09:22:44.955Z"
   },
   {
    "duration": 21,
    "start_time": "2024-02-29T09:23:13.502Z"
   },
   {
    "duration": 19,
    "start_time": "2024-02-29T09:23:20.343Z"
   },
   {
    "duration": 18,
    "start_time": "2024-02-29T09:23:26.283Z"
   },
   {
    "duration": 5,
    "start_time": "2024-02-29T09:23:31.531Z"
   },
   {
    "duration": 5,
    "start_time": "2024-02-29T09:23:42.223Z"
   },
   {
    "duration": 5,
    "start_time": "2024-02-29T09:25:24.630Z"
   },
   {
    "duration": 4,
    "start_time": "2024-02-29T09:25:33.218Z"
   },
   {
    "duration": 623,
    "start_time": "2024-02-29T09:28:18.558Z"
   },
   {
    "duration": 11,
    "start_time": "2024-02-29T09:28:27.878Z"
   },
   {
    "duration": 5,
    "start_time": "2024-02-29T09:28:30.086Z"
   },
   {
    "duration": 3,
    "start_time": "2024-02-29T09:28:31.574Z"
   },
   {
    "duration": 3,
    "start_time": "2024-02-29T09:28:32.802Z"
   },
   {
    "duration": 3502,
    "start_time": "2024-02-29T09:28:34.841Z"
   },
   {
    "duration": 36,
    "start_time": "2024-02-29T09:28:38.346Z"
   },
   {
    "duration": 4,
    "start_time": "2024-02-29T09:28:52.185Z"
   },
   {
    "duration": 48,
    "start_time": "2024-02-29T09:29:01.530Z"
   },
   {
    "duration": 5,
    "start_time": "2024-02-29T09:29:05.422Z"
   },
   {
    "duration": 6,
    "start_time": "2024-02-29T09:29:08.426Z"
   },
   {
    "duration": 5,
    "start_time": "2024-02-29T09:29:10.370Z"
   },
   {
    "duration": 33,
    "start_time": "2024-02-29T09:29:14.370Z"
   },
   {
    "duration": 31,
    "start_time": "2024-02-29T09:29:21.161Z"
   },
   {
    "duration": 12,
    "start_time": "2024-02-29T09:29:40.462Z"
   },
   {
    "duration": 8,
    "start_time": "2024-02-29T09:29:42.797Z"
   },
   {
    "duration": 522,
    "start_time": "2024-02-29T09:29:44.061Z"
   },
   {
    "duration": 28,
    "start_time": "2024-02-29T09:29:47.418Z"
   },
   {
    "duration": 35,
    "start_time": "2024-02-29T09:29:50.881Z"
   },
   {
    "duration": 16,
    "start_time": "2024-02-29T09:30:52.217Z"
   },
   {
    "duration": 20,
    "start_time": "2024-02-29T09:31:42.865Z"
   },
   {
    "duration": 17,
    "start_time": "2024-02-29T09:31:55.354Z"
   },
   {
    "duration": 17,
    "start_time": "2024-02-29T09:32:47.206Z"
   },
   {
    "duration": 14,
    "start_time": "2024-02-29T09:32:57.745Z"
   },
   {
    "duration": 16,
    "start_time": "2024-02-29T09:33:05.173Z"
   },
   {
    "duration": 13,
    "start_time": "2024-02-29T09:33:36.594Z"
   },
   {
    "duration": 3,
    "start_time": "2024-02-29T09:34:19.797Z"
   },
   {
    "duration": 7,
    "start_time": "2024-02-29T09:34:38.169Z"
   },
   {
    "duration": 34,
    "start_time": "2024-02-29T09:34:44.909Z"
   },
   {
    "duration": 5,
    "start_time": "2024-02-29T09:35:05.090Z"
   },
   {
    "duration": 17,
    "start_time": "2024-02-29T09:35:07.921Z"
   },
   {
    "duration": 35,
    "start_time": "2024-02-29T09:35:12.681Z"
   },
   {
    "duration": 4,
    "start_time": "2024-02-29T09:35:16.257Z"
   },
   {
    "duration": 7,
    "start_time": "2024-02-29T09:35:18.561Z"
   },
   {
    "duration": 29,
    "start_time": "2024-02-29T09:35:19.197Z"
   },
   {
    "duration": 29,
    "start_time": "2024-02-29T09:35:31.925Z"
   },
   {
    "duration": 4,
    "start_time": "2024-02-29T09:35:36.341Z"
   },
   {
    "duration": 7,
    "start_time": "2024-02-29T09:35:40.929Z"
   },
   {
    "duration": 5,
    "start_time": "2024-02-29T09:36:27.841Z"
   },
   {
    "duration": 38,
    "start_time": "2024-02-29T09:36:31.669Z"
   },
   {
    "duration": 5,
    "start_time": "2024-02-29T09:37:13.913Z"
   },
   {
    "duration": 12,
    "start_time": "2024-02-29T09:37:22.441Z"
   },
   {
    "duration": 12,
    "start_time": "2024-02-29T09:37:22.949Z"
   },
   {
    "duration": 632,
    "start_time": "2024-02-29T09:37:23.529Z"
   },
   {
    "duration": 35,
    "start_time": "2024-02-29T09:37:48.064Z"
   },
   {
    "duration": 5,
    "start_time": "2024-02-29T09:38:51.605Z"
   },
   {
    "duration": 3,
    "start_time": "2024-02-29T09:38:55.822Z"
   },
   {
    "duration": 3,
    "start_time": "2024-02-29T09:39:23.840Z"
   },
   {
    "duration": 4,
    "start_time": "2024-02-29T09:39:48.188Z"
   },
   {
    "duration": 238,
    "start_time": "2024-02-29T09:39:50.676Z"
   },
   {
    "duration": 3,
    "start_time": "2024-02-29T09:40:01.421Z"
   },
   {
    "duration": 193,
    "start_time": "2024-02-29T09:40:01.893Z"
   },
   {
    "duration": 5,
    "start_time": "2024-02-29T09:40:12.628Z"
   },
   {
    "duration": 7,
    "start_time": "2024-02-29T09:40:13.117Z"
   },
   {
    "duration": 34,
    "start_time": "2024-02-29T09:40:23.772Z"
   },
   {
    "duration": 4,
    "start_time": "2024-02-29T09:40:24.149Z"
   },
   {
    "duration": 5,
    "start_time": "2024-02-29T09:40:24.525Z"
   },
   {
    "duration": 4,
    "start_time": "2024-02-29T09:40:24.844Z"
   },
   {
    "duration": 10,
    "start_time": "2024-02-29T09:40:25.177Z"
   },
   {
    "duration": 10,
    "start_time": "2024-02-29T09:40:27.012Z"
   },
   {
    "duration": 657,
    "start_time": "2024-02-29T09:40:27.697Z"
   },
   {
    "duration": 45,
    "start_time": "2024-02-29T09:40:35.089Z"
   },
   {
    "duration": 3118,
    "start_time": "2024-02-29T09:40:45.437Z"
   },
   {
    "duration": 2835,
    "start_time": "2024-02-29T09:40:48.558Z"
   },
   {
    "duration": 85,
    "start_time": "2024-02-29T09:40:51.396Z"
   },
   {
    "duration": 22,
    "start_time": "2024-02-29T09:40:51.484Z"
   },
   {
    "duration": 41,
    "start_time": "2024-02-29T09:40:51.508Z"
   },
   {
    "duration": 16,
    "start_time": "2024-02-29T09:40:51.551Z"
   },
   {
    "duration": 39,
    "start_time": "2024-02-29T09:40:51.569Z"
   },
   {
    "duration": 82,
    "start_time": "2024-02-29T09:40:51.611Z"
   },
   {
    "duration": 7,
    "start_time": "2024-02-29T09:40:51.695Z"
   },
   {
    "duration": 16,
    "start_time": "2024-02-29T09:40:51.706Z"
   },
   {
    "duration": 53,
    "start_time": "2024-02-29T09:40:51.724Z"
   },
   {
    "duration": 20,
    "start_time": "2024-02-29T09:40:51.779Z"
   },
   {
    "duration": 25,
    "start_time": "2024-02-29T09:40:51.801Z"
   },
   {
    "duration": 27,
    "start_time": "2024-02-29T09:40:51.828Z"
   },
   {
    "duration": 24,
    "start_time": "2024-02-29T09:40:51.857Z"
   },
   {
    "duration": 11,
    "start_time": "2024-02-29T09:40:51.883Z"
   },
   {
    "duration": 38,
    "start_time": "2024-02-29T09:40:51.896Z"
   },
   {
    "duration": 15,
    "start_time": "2024-02-29T09:40:51.936Z"
   },
   {
    "duration": 443,
    "start_time": "2024-02-29T09:40:51.953Z"
   },
   {
    "duration": 161,
    "start_time": "2024-02-29T09:40:52.398Z"
   },
   {
    "duration": 16,
    "start_time": "2024-02-29T09:40:52.562Z"
   },
   {
    "duration": 24,
    "start_time": "2024-02-29T09:40:52.580Z"
   },
   {
    "duration": 219,
    "start_time": "2024-02-29T09:40:52.606Z"
   },
   {
    "duration": 179,
    "start_time": "2024-02-29T09:40:52.827Z"
   },
   {
    "duration": 22,
    "start_time": "2024-02-29T09:40:53.008Z"
   },
   {
    "duration": 208,
    "start_time": "2024-02-29T09:40:53.033Z"
   },
   {
    "duration": 117,
    "start_time": "2024-02-29T09:40:53.244Z"
   },
   {
    "duration": 243,
    "start_time": "2024-02-29T09:40:53.366Z"
   },
   {
    "duration": 175,
    "start_time": "2024-02-29T09:40:53.611Z"
   },
   {
    "duration": 14,
    "start_time": "2024-02-29T09:40:53.787Z"
   },
   {
    "duration": 21,
    "start_time": "2024-02-29T09:40:53.803Z"
   },
   {
    "duration": 188,
    "start_time": "2024-02-29T09:40:53.826Z"
   },
   {
    "duration": 159,
    "start_time": "2024-02-29T09:40:54.023Z"
   },
   {
    "duration": 180,
    "start_time": "2024-02-29T09:40:54.184Z"
   },
   {
    "duration": 117,
    "start_time": "2024-02-29T09:40:54.366Z"
   },
   {
    "duration": 13,
    "start_time": "2024-02-29T09:40:54.485Z"
   },
   {
    "duration": 29,
    "start_time": "2024-02-29T09:40:54.499Z"
   },
   {
    "duration": 155,
    "start_time": "2024-02-29T09:40:54.531Z"
   },
   {
    "duration": 125,
    "start_time": "2024-02-29T09:40:54.688Z"
   },
   {
    "duration": 258,
    "start_time": "2024-02-29T09:40:54.815Z"
   },
   {
    "duration": 344,
    "start_time": "2024-02-29T09:40:55.075Z"
   },
   {
    "duration": 263,
    "start_time": "2024-02-29T09:40:55.423Z"
   },
   {
    "duration": 144,
    "start_time": "2024-02-29T09:40:55.687Z"
   },
   {
    "duration": 14,
    "start_time": "2024-02-29T09:40:55.836Z"
   },
   {
    "duration": 7,
    "start_time": "2024-02-29T09:40:55.852Z"
   },
   {
    "duration": 196,
    "start_time": "2024-02-29T09:40:55.861Z"
   },
   {
    "duration": 140,
    "start_time": "2024-02-29T09:40:56.059Z"
   },
   {
    "duration": 167,
    "start_time": "2024-02-29T09:40:56.201Z"
   },
   {
    "duration": 136,
    "start_time": "2024-02-29T09:40:56.370Z"
   },
   {
    "duration": 22,
    "start_time": "2024-02-29T09:40:56.508Z"
   },
   {
    "duration": 11,
    "start_time": "2024-02-29T09:40:56.531Z"
   },
   {
    "duration": 19,
    "start_time": "2024-02-29T09:40:56.544Z"
   },
   {
    "duration": 62,
    "start_time": "2024-02-29T09:40:56.566Z"
   },
   {
    "duration": 27,
    "start_time": "2024-02-29T09:40:56.630Z"
   },
   {
    "duration": 3906,
    "start_time": "2024-02-29T09:40:56.659Z"
   },
   {
    "duration": 1641,
    "start_time": "2024-02-29T09:41:00.568Z"
   },
   {
    "duration": 1093,
    "start_time": "2024-02-29T09:41:02.211Z"
   },
   {
    "duration": 32,
    "start_time": "2024-02-29T09:41:03.306Z"
   },
   {
    "duration": 31,
    "start_time": "2024-02-29T09:41:03.341Z"
   },
   {
    "duration": 43,
    "start_time": "2024-02-29T09:41:03.374Z"
   },
   {
    "duration": 12,
    "start_time": "2024-02-29T09:41:03.420Z"
   },
   {
    "duration": 21,
    "start_time": "2024-02-29T09:41:03.435Z"
   },
   {
    "duration": 26,
    "start_time": "2024-02-29T09:41:03.458Z"
   },
   {
    "duration": 3783,
    "start_time": "2024-02-29T09:41:03.486Z"
   },
   {
    "duration": 67,
    "start_time": "2024-02-29T09:41:07.272Z"
   },
   {
    "duration": 5,
    "start_time": "2024-02-29T09:41:07.342Z"
   },
   {
    "duration": 247,
    "start_time": "2024-02-29T09:41:07.349Z"
   },
   {
    "duration": 5,
    "start_time": "2024-02-29T09:41:07.599Z"
   },
   {
    "duration": 31,
    "start_time": "2024-02-29T09:41:07.606Z"
   },
   {
    "duration": 43,
    "start_time": "2024-02-29T09:41:07.639Z"
   },
   {
    "duration": 5,
    "start_time": "2024-02-29T09:41:07.684Z"
   },
   {
    "duration": 31,
    "start_time": "2024-02-29T09:41:07.692Z"
   },
   {
    "duration": 21,
    "start_time": "2024-02-29T09:41:07.725Z"
   },
   {
    "duration": 32,
    "start_time": "2024-02-29T09:41:07.748Z"
   },
   {
    "duration": 9,
    "start_time": "2024-02-29T09:41:07.782Z"
   },
   {
    "duration": 746,
    "start_time": "2024-02-29T09:41:07.793Z"
   },
   {
    "duration": 31,
    "start_time": "2024-02-29T09:41:08.542Z"
   },
   {
    "duration": 18,
    "start_time": "2024-02-29T09:41:08.575Z"
   },
   {
    "duration": 685,
    "start_time": "2024-02-29T09:41:08.595Z"
   },
   {
    "duration": 229,
    "start_time": "2024-02-29T09:41:09.283Z"
   },
   {
    "duration": 29,
    "start_time": "2024-02-29T09:41:29.784Z"
   },
   {
    "duration": 35,
    "start_time": "2024-02-29T09:41:38.457Z"
   },
   {
    "duration": 5,
    "start_time": "2024-02-29T09:42:02.572Z"
   },
   {
    "duration": 45,
    "start_time": "2024-02-29T09:42:04.049Z"
   },
   {
    "duration": 5,
    "start_time": "2024-02-29T09:42:11.108Z"
   },
   {
    "duration": 34,
    "start_time": "2024-02-29T09:42:15.092Z"
   },
   {
    "duration": 95,
    "start_time": "2024-02-29T09:42:52.973Z"
   },
   {
    "duration": 30,
    "start_time": "2024-02-29T09:42:58.516Z"
   },
   {
    "duration": 18,
    "start_time": "2024-02-29T09:43:00.004Z"
   },
   {
    "duration": 15,
    "start_time": "2024-02-29T09:43:27.920Z"
   },
   {
    "duration": 15,
    "start_time": "2024-02-29T09:43:46.156Z"
   },
   {
    "duration": 33,
    "start_time": "2024-02-29T09:44:15.352Z"
   },
   {
    "duration": 29,
    "start_time": "2024-02-29T09:46:39.784Z"
   },
   {
    "duration": 26,
    "start_time": "2024-02-29T09:48:06.768Z"
   },
   {
    "duration": 3,
    "start_time": "2024-02-29T09:48:31.917Z"
   },
   {
    "duration": 525,
    "start_time": "2024-02-29T09:48:32.920Z"
   },
   {
    "duration": 5,
    "start_time": "2024-02-29T09:48:34.576Z"
   },
   {
    "duration": 4,
    "start_time": "2024-02-29T09:48:34.996Z"
   },
   {
    "duration": 22,
    "start_time": "2024-02-29T09:48:36.940Z"
   },
   {
    "duration": 3,
    "start_time": "2024-02-29T09:48:37.285Z"
   },
   {
    "duration": 4,
    "start_time": "2024-02-29T09:48:37.628Z"
   },
   {
    "duration": 32,
    "start_time": "2024-02-29T09:48:38.084Z"
   },
   {
    "duration": 79,
    "start_time": "2024-02-29T09:48:40.564Z"
   },
   {
    "duration": 30,
    "start_time": "2024-02-29T09:48:45.680Z"
   },
   {
    "duration": 29,
    "start_time": "2024-02-29T09:48:46.476Z"
   },
   {
    "duration": 34,
    "start_time": "2024-02-29T09:49:02.831Z"
   },
   {
    "duration": 19,
    "start_time": "2024-02-29T09:51:48.324Z"
   },
   {
    "duration": 15,
    "start_time": "2024-02-29T09:51:55.496Z"
   },
   {
    "duration": 84,
    "start_time": "2024-02-29T09:52:00.672Z"
   },
   {
    "duration": 15,
    "start_time": "2024-02-29T09:52:07.531Z"
   },
   {
    "duration": 516,
    "start_time": "2024-02-29T09:52:10.907Z"
   },
   {
    "duration": 500,
    "start_time": "2024-02-29T09:52:22.620Z"
   },
   {
    "duration": 20,
    "start_time": "2024-02-29T09:56:04.155Z"
   },
   {
    "duration": 84,
    "start_time": "2024-02-29T09:56:21.244Z"
   },
   {
    "duration": 58575,
    "start_time": "2024-02-29T09:56:49.332Z"
   },
   {
    "duration": 0,
    "start_time": "2024-02-29T09:57:47.908Z"
   },
   {
    "duration": 92,
    "start_time": "2024-02-29T09:57:53.419Z"
   },
   {
    "duration": 73,
    "start_time": "2024-02-29T09:59:03.243Z"
   },
   {
    "duration": 80,
    "start_time": "2024-02-29T09:59:12.479Z"
   },
   {
    "duration": 96,
    "start_time": "2024-02-29T09:59:49.281Z"
   },
   {
    "duration": 15,
    "start_time": "2024-02-29T10:00:33.343Z"
   },
   {
    "duration": 78,
    "start_time": "2024-02-29T10:00:40.358Z"
   },
   {
    "duration": 18,
    "start_time": "2024-02-29T10:00:45.367Z"
   },
   {
    "duration": 82,
    "start_time": "2024-02-29T10:01:21.766Z"
   },
   {
    "duration": 28,
    "start_time": "2024-02-29T10:01:44.154Z"
   },
   {
    "duration": 98,
    "start_time": "2024-02-29T10:02:15.455Z"
   },
   {
    "duration": 147,
    "start_time": "2024-02-29T10:02:39.711Z"
   },
   {
    "duration": 116,
    "start_time": "2024-02-29T10:02:58.071Z"
   },
   {
    "duration": 52,
    "start_time": "2024-02-29T10:04:33.362Z"
   },
   {
    "duration": 0,
    "start_time": "2024-02-29T10:05:05.514Z"
   },
   {
    "duration": 0,
    "start_time": "2024-02-29T10:05:05.524Z"
   },
   {
    "duration": 0,
    "start_time": "2024-02-29T10:05:05.526Z"
   },
   {
    "duration": 0,
    "start_time": "2024-02-29T10:05:05.527Z"
   },
   {
    "duration": 0,
    "start_time": "2024-02-29T10:05:05.528Z"
   },
   {
    "duration": 0,
    "start_time": "2024-02-29T10:05:05.529Z"
   },
   {
    "duration": 0,
    "start_time": "2024-02-29T10:05:05.530Z"
   },
   {
    "duration": 0,
    "start_time": "2024-02-29T10:05:05.532Z"
   },
   {
    "duration": 0,
    "start_time": "2024-02-29T10:05:05.533Z"
   },
   {
    "duration": 0,
    "start_time": "2024-02-29T10:05:05.535Z"
   },
   {
    "duration": 0,
    "start_time": "2024-02-29T10:05:05.536Z"
   },
   {
    "duration": 0,
    "start_time": "2024-02-29T10:05:05.537Z"
   },
   {
    "duration": 0,
    "start_time": "2024-02-29T10:05:05.539Z"
   },
   {
    "duration": 0,
    "start_time": "2024-02-29T10:05:05.540Z"
   },
   {
    "duration": 0,
    "start_time": "2024-02-29T10:05:05.542Z"
   },
   {
    "duration": 0,
    "start_time": "2024-02-29T10:05:05.543Z"
   },
   {
    "duration": 0,
    "start_time": "2024-02-29T10:05:05.544Z"
   },
   {
    "duration": 0,
    "start_time": "2024-02-29T10:05:05.545Z"
   },
   {
    "duration": 0,
    "start_time": "2024-02-29T10:05:05.547Z"
   },
   {
    "duration": 0,
    "start_time": "2024-02-29T10:05:05.548Z"
   },
   {
    "duration": 0,
    "start_time": "2024-02-29T10:05:05.550Z"
   },
   {
    "duration": 0,
    "start_time": "2024-02-29T10:05:05.551Z"
   },
   {
    "duration": 0,
    "start_time": "2024-02-29T10:05:05.552Z"
   },
   {
    "duration": 0,
    "start_time": "2024-02-29T10:05:05.554Z"
   },
   {
    "duration": 0,
    "start_time": "2024-02-29T10:05:05.555Z"
   },
   {
    "duration": 0,
    "start_time": "2024-02-29T10:05:05.556Z"
   },
   {
    "duration": 0,
    "start_time": "2024-02-29T10:05:05.557Z"
   },
   {
    "duration": 0,
    "start_time": "2024-02-29T10:05:05.559Z"
   },
   {
    "duration": 0,
    "start_time": "2024-02-29T10:05:05.560Z"
   },
   {
    "duration": 0,
    "start_time": "2024-02-29T10:05:05.564Z"
   },
   {
    "duration": 0,
    "start_time": "2024-02-29T10:05:05.565Z"
   },
   {
    "duration": 0,
    "start_time": "2024-02-29T10:05:05.567Z"
   },
   {
    "duration": 0,
    "start_time": "2024-02-29T10:05:05.632Z"
   },
   {
    "duration": 0,
    "start_time": "2024-02-29T10:05:05.633Z"
   },
   {
    "duration": 0,
    "start_time": "2024-02-29T10:05:05.634Z"
   },
   {
    "duration": 0,
    "start_time": "2024-02-29T10:05:05.636Z"
   },
   {
    "duration": 0,
    "start_time": "2024-02-29T10:05:05.637Z"
   },
   {
    "duration": 0,
    "start_time": "2024-02-29T10:05:05.638Z"
   },
   {
    "duration": 0,
    "start_time": "2024-02-29T10:05:05.639Z"
   },
   {
    "duration": 0,
    "start_time": "2024-02-29T10:05:05.643Z"
   },
   {
    "duration": 0,
    "start_time": "2024-02-29T10:05:05.644Z"
   },
   {
    "duration": 0,
    "start_time": "2024-02-29T10:05:05.645Z"
   },
   {
    "duration": 0,
    "start_time": "2024-02-29T10:05:05.647Z"
   },
   {
    "duration": 0,
    "start_time": "2024-02-29T10:05:05.648Z"
   },
   {
    "duration": 0,
    "start_time": "2024-02-29T10:05:05.650Z"
   },
   {
    "duration": 0,
    "start_time": "2024-02-29T10:05:05.651Z"
   },
   {
    "duration": 0,
    "start_time": "2024-02-29T10:05:05.653Z"
   },
   {
    "duration": 0,
    "start_time": "2024-02-29T10:05:05.654Z"
   },
   {
    "duration": 0,
    "start_time": "2024-02-29T10:05:05.656Z"
   },
   {
    "duration": 0,
    "start_time": "2024-02-29T10:05:05.657Z"
   },
   {
    "duration": 0,
    "start_time": "2024-02-29T10:05:05.659Z"
   },
   {
    "duration": 0,
    "start_time": "2024-02-29T10:05:05.660Z"
   },
   {
    "duration": 0,
    "start_time": "2024-02-29T10:05:05.661Z"
   },
   {
    "duration": 0,
    "start_time": "2024-02-29T10:05:05.662Z"
   },
   {
    "duration": 0,
    "start_time": "2024-02-29T10:05:05.664Z"
   },
   {
    "duration": 0,
    "start_time": "2024-02-29T10:05:05.664Z"
   },
   {
    "duration": 0,
    "start_time": "2024-02-29T10:05:05.666Z"
   },
   {
    "duration": 0,
    "start_time": "2024-02-29T10:05:05.667Z"
   },
   {
    "duration": 0,
    "start_time": "2024-02-29T10:05:05.668Z"
   },
   {
    "duration": 0,
    "start_time": "2024-02-29T10:05:05.725Z"
   },
   {
    "duration": 0,
    "start_time": "2024-02-29T10:05:05.726Z"
   },
   {
    "duration": 0,
    "start_time": "2024-02-29T10:05:05.726Z"
   },
   {
    "duration": 0,
    "start_time": "2024-02-29T10:05:05.727Z"
   },
   {
    "duration": 0,
    "start_time": "2024-02-29T10:05:05.728Z"
   },
   {
    "duration": 0,
    "start_time": "2024-02-29T10:05:05.729Z"
   },
   {
    "duration": 0,
    "start_time": "2024-02-29T10:05:05.730Z"
   },
   {
    "duration": 0,
    "start_time": "2024-02-29T10:05:05.731Z"
   },
   {
    "duration": 0,
    "start_time": "2024-02-29T10:05:05.732Z"
   },
   {
    "duration": 0,
    "start_time": "2024-02-29T10:05:05.736Z"
   },
   {
    "duration": 0,
    "start_time": "2024-02-29T10:05:05.737Z"
   },
   {
    "duration": 0,
    "start_time": "2024-02-29T10:05:05.738Z"
   },
   {
    "duration": 0,
    "start_time": "2024-02-29T10:05:05.738Z"
   },
   {
    "duration": 0,
    "start_time": "2024-02-29T10:05:05.739Z"
   },
   {
    "duration": 0,
    "start_time": "2024-02-29T10:05:05.740Z"
   },
   {
    "duration": 0,
    "start_time": "2024-02-29T10:05:05.742Z"
   },
   {
    "duration": 0,
    "start_time": "2024-02-29T10:05:05.742Z"
   },
   {
    "duration": 0,
    "start_time": "2024-02-29T10:05:05.744Z"
   },
   {
    "duration": 0,
    "start_time": "2024-02-29T10:05:05.745Z"
   },
   {
    "duration": 0,
    "start_time": "2024-02-29T10:05:05.746Z"
   },
   {
    "duration": 0,
    "start_time": "2024-02-29T10:05:05.747Z"
   },
   {
    "duration": 0,
    "start_time": "2024-02-29T10:05:05.748Z"
   },
   {
    "duration": 2813,
    "start_time": "2024-02-29T10:05:27.762Z"
   },
   {
    "duration": 2540,
    "start_time": "2024-02-29T10:05:30.577Z"
   },
   {
    "duration": 88,
    "start_time": "2024-02-29T10:05:33.119Z"
   },
   {
    "duration": 26,
    "start_time": "2024-02-29T10:05:33.209Z"
   },
   {
    "duration": 12,
    "start_time": "2024-02-29T10:05:33.240Z"
   },
   {
    "duration": 28,
    "start_time": "2024-02-29T10:05:33.253Z"
   },
   {
    "duration": 28,
    "start_time": "2024-02-29T10:05:33.282Z"
   },
   {
    "duration": 61,
    "start_time": "2024-02-29T10:05:33.311Z"
   },
   {
    "duration": 5,
    "start_time": "2024-02-29T10:05:33.374Z"
   },
   {
    "duration": 33,
    "start_time": "2024-02-29T10:05:33.382Z"
   },
   {
    "duration": 23,
    "start_time": "2024-02-29T10:05:33.417Z"
   },
   {
    "duration": 37,
    "start_time": "2024-02-29T10:05:33.442Z"
   },
   {
    "duration": 12,
    "start_time": "2024-02-29T10:05:33.481Z"
   },
   {
    "duration": 29,
    "start_time": "2024-02-29T10:05:33.495Z"
   },
   {
    "duration": 18,
    "start_time": "2024-02-29T10:05:33.532Z"
   },
   {
    "duration": 11,
    "start_time": "2024-02-29T10:05:33.553Z"
   },
   {
    "duration": 12,
    "start_time": "2024-02-29T10:05:33.566Z"
   },
   {
    "duration": 19,
    "start_time": "2024-02-29T10:05:33.581Z"
   },
   {
    "duration": 324,
    "start_time": "2024-02-29T10:05:33.603Z"
   },
   {
    "duration": 119,
    "start_time": "2024-02-29T10:05:33.929Z"
   },
   {
    "duration": 13,
    "start_time": "2024-02-29T10:05:34.050Z"
   },
   {
    "duration": 12,
    "start_time": "2024-02-29T10:05:34.065Z"
   },
   {
    "duration": 188,
    "start_time": "2024-02-29T10:05:34.079Z"
   },
   {
    "duration": 141,
    "start_time": "2024-02-29T10:05:34.269Z"
   },
   {
    "duration": 19,
    "start_time": "2024-02-29T10:05:34.412Z"
   },
   {
    "duration": 208,
    "start_time": "2024-02-29T10:05:34.437Z"
   },
   {
    "duration": 133,
    "start_time": "2024-02-29T10:05:34.647Z"
   },
   {
    "duration": 250,
    "start_time": "2024-02-29T10:05:34.786Z"
   },
   {
    "duration": 115,
    "start_time": "2024-02-29T10:05:35.039Z"
   },
   {
    "duration": 11,
    "start_time": "2024-02-29T10:05:35.155Z"
   },
   {
    "duration": 22,
    "start_time": "2024-02-29T10:05:35.168Z"
   },
   {
    "duration": 174,
    "start_time": "2024-02-29T10:05:35.191Z"
   },
   {
    "duration": 120,
    "start_time": "2024-02-29T10:05:35.367Z"
   },
   {
    "duration": 200,
    "start_time": "2024-02-29T10:05:35.489Z"
   },
   {
    "duration": 126,
    "start_time": "2024-02-29T10:05:35.691Z"
   },
   {
    "duration": 20,
    "start_time": "2024-02-29T10:05:35.822Z"
   },
   {
    "duration": 6,
    "start_time": "2024-02-29T10:05:35.844Z"
   },
   {
    "duration": 165,
    "start_time": "2024-02-29T10:05:35.852Z"
   },
   {
    "duration": 123,
    "start_time": "2024-02-29T10:05:36.025Z"
   },
   {
    "duration": 205,
    "start_time": "2024-02-29T10:05:36.150Z"
   },
   {
    "duration": 284,
    "start_time": "2024-02-29T10:05:36.357Z"
   },
   {
    "duration": 178,
    "start_time": "2024-02-29T10:05:36.643Z"
   },
   {
    "duration": 135,
    "start_time": "2024-02-29T10:05:36.823Z"
   },
   {
    "duration": 11,
    "start_time": "2024-02-29T10:05:36.960Z"
   },
   {
    "duration": 21,
    "start_time": "2024-02-29T10:05:36.972Z"
   },
   {
    "duration": 177,
    "start_time": "2024-02-29T10:05:36.995Z"
   },
   {
    "duration": 134,
    "start_time": "2024-02-29T10:05:37.174Z"
   },
   {
    "duration": 183,
    "start_time": "2024-02-29T10:05:37.310Z"
   },
   {
    "duration": 136,
    "start_time": "2024-02-29T10:05:37.496Z"
   },
   {
    "duration": 12,
    "start_time": "2024-02-29T10:05:37.634Z"
   },
   {
    "duration": 6,
    "start_time": "2024-02-29T10:05:37.648Z"
   },
   {
    "duration": 16,
    "start_time": "2024-02-29T10:05:37.655Z"
   },
   {
    "duration": 30,
    "start_time": "2024-02-29T10:05:37.672Z"
   },
   {
    "duration": 36,
    "start_time": "2024-02-29T10:05:37.704Z"
   },
   {
    "duration": 3752,
    "start_time": "2024-02-29T10:05:37.743Z"
   },
   {
    "duration": 1549,
    "start_time": "2024-02-29T10:05:41.496Z"
   },
   {
    "duration": 1050,
    "start_time": "2024-02-29T10:05:43.046Z"
   },
   {
    "duration": 29,
    "start_time": "2024-02-29T10:05:44.098Z"
   },
   {
    "duration": 7,
    "start_time": "2024-02-29T10:05:44.129Z"
   },
   {
    "duration": 18,
    "start_time": "2024-02-29T10:05:44.142Z"
   },
   {
    "duration": 9,
    "start_time": "2024-02-29T10:05:44.162Z"
   },
   {
    "duration": 17,
    "start_time": "2024-02-29T10:05:44.172Z"
   },
   {
    "duration": 5,
    "start_time": "2024-02-29T10:05:44.190Z"
   },
   {
    "duration": 3685,
    "start_time": "2024-02-29T10:05:44.196Z"
   },
   {
    "duration": 49,
    "start_time": "2024-02-29T10:05:47.883Z"
   },
   {
    "duration": 3,
    "start_time": "2024-02-29T10:05:47.938Z"
   },
   {
    "duration": 552,
    "start_time": "2024-02-29T10:05:47.942Z"
   },
   {
    "duration": 4,
    "start_time": "2024-02-29T10:05:48.495Z"
   },
   {
    "duration": 38,
    "start_time": "2024-02-29T10:05:48.500Z"
   },
   {
    "duration": 37,
    "start_time": "2024-02-29T10:05:48.540Z"
   },
   {
    "duration": 3,
    "start_time": "2024-02-29T10:05:48.579Z"
   },
   {
    "duration": 14,
    "start_time": "2024-02-29T10:05:48.584Z"
   },
   {
    "duration": 42,
    "start_time": "2024-02-29T10:05:48.600Z"
   },
   {
    "duration": 95,
    "start_time": "2024-02-29T10:05:48.643Z"
   },
   {
    "duration": 31,
    "start_time": "2024-02-29T10:05:48.740Z"
   },
   {
    "duration": 104,
    "start_time": "2024-02-29T10:05:48.773Z"
   },
   {
    "duration": 11,
    "start_time": "2024-02-29T10:05:48.879Z"
   },
   {
    "duration": 48,
    "start_time": "2024-02-29T10:05:48.892Z"
   },
   {
    "duration": 11,
    "start_time": "2024-02-29T10:05:48.942Z"
   },
   {
    "duration": 594,
    "start_time": "2024-02-29T10:05:48.955Z"
   },
   {
    "duration": 194,
    "start_time": "2024-02-29T10:05:49.551Z"
   },
   {
    "duration": 19,
    "start_time": "2024-02-29T10:31:51.927Z"
   },
   {
    "duration": 3,
    "start_time": "2024-02-29T10:31:57.899Z"
   },
   {
    "duration": 905,
    "start_time": "2024-02-29T10:32:01.154Z"
   },
   {
    "duration": 33,
    "start_time": "2024-02-29T10:32:04.940Z"
   },
   {
    "duration": 3,
    "start_time": "2024-02-29T10:32:05.467Z"
   },
   {
    "duration": 6,
    "start_time": "2024-02-29T10:32:06.087Z"
   },
   {
    "duration": 16,
    "start_time": "2024-02-29T10:32:06.640Z"
   },
   {
    "duration": 800,
    "start_time": "2024-02-29T10:39:10.463Z"
   },
   {
    "duration": 935,
    "start_time": "2024-02-29T10:39:24.907Z"
   },
   {
    "duration": 9,
    "start_time": "2024-02-29T10:40:21.602Z"
   },
   {
    "duration": 4,
    "start_time": "2024-02-29T10:40:22.174Z"
   },
   {
    "duration": 4,
    "start_time": "2024-02-29T10:40:23.886Z"
   },
   {
    "duration": 3,
    "start_time": "2024-02-29T10:40:24.550Z"
   },
   {
    "duration": 2135,
    "start_time": "2024-02-29T10:40:25.174Z"
   },
   {
    "duration": 2934,
    "start_time": "2024-02-29T10:45:14.937Z"
   },
   {
    "duration": 2522,
    "start_time": "2024-02-29T10:45:17.873Z"
   },
   {
    "duration": 86,
    "start_time": "2024-02-29T10:45:20.397Z"
   },
   {
    "duration": 18,
    "start_time": "2024-02-29T10:45:20.485Z"
   },
   {
    "duration": 33,
    "start_time": "2024-02-29T10:45:20.504Z"
   },
   {
    "duration": 34,
    "start_time": "2024-02-29T10:45:20.541Z"
   },
   {
    "duration": 24,
    "start_time": "2024-02-29T10:45:20.577Z"
   },
   {
    "duration": 64,
    "start_time": "2024-02-29T10:45:20.603Z"
   },
   {
    "duration": 6,
    "start_time": "2024-02-29T10:45:20.669Z"
   },
   {
    "duration": 17,
    "start_time": "2024-02-29T10:45:20.679Z"
   },
   {
    "duration": 12,
    "start_time": "2024-02-29T10:45:20.698Z"
   },
   {
    "duration": 27,
    "start_time": "2024-02-29T10:45:20.712Z"
   },
   {
    "duration": 8,
    "start_time": "2024-02-29T10:45:20.742Z"
   },
   {
    "duration": 9,
    "start_time": "2024-02-29T10:45:20.752Z"
   },
   {
    "duration": 10,
    "start_time": "2024-02-29T10:45:20.764Z"
   },
   {
    "duration": 11,
    "start_time": "2024-02-29T10:45:20.776Z"
   },
   {
    "duration": 38,
    "start_time": "2024-02-29T10:45:20.788Z"
   },
   {
    "duration": 17,
    "start_time": "2024-02-29T10:45:20.833Z"
   },
   {
    "duration": 330,
    "start_time": "2024-02-29T10:45:20.852Z"
   },
   {
    "duration": 120,
    "start_time": "2024-02-29T10:45:21.184Z"
   },
   {
    "duration": 23,
    "start_time": "2024-02-29T10:45:21.306Z"
   },
   {
    "duration": 14,
    "start_time": "2024-02-29T10:45:21.331Z"
   },
   {
    "duration": 200,
    "start_time": "2024-02-29T10:45:21.347Z"
   },
   {
    "duration": 137,
    "start_time": "2024-02-29T10:45:21.549Z"
   },
   {
    "duration": 14,
    "start_time": "2024-02-29T10:45:21.688Z"
   },
   {
    "duration": 227,
    "start_time": "2024-02-29T10:45:21.703Z"
   },
   {
    "duration": 108,
    "start_time": "2024-02-29T10:45:21.935Z"
   },
   {
    "duration": 217,
    "start_time": "2024-02-29T10:45:22.048Z"
   },
   {
    "duration": 118,
    "start_time": "2024-02-29T10:45:22.267Z"
   },
   {
    "duration": 11,
    "start_time": "2024-02-29T10:45:22.387Z"
   },
   {
    "duration": 70,
    "start_time": "2024-02-29T10:45:22.399Z"
   },
   {
    "duration": 187,
    "start_time": "2024-02-29T10:45:22.471Z"
   },
   {
    "duration": 139,
    "start_time": "2024-02-29T10:45:22.660Z"
   },
   {
    "duration": 176,
    "start_time": "2024-02-29T10:45:22.802Z"
   },
   {
    "duration": 133,
    "start_time": "2024-02-29T10:45:22.980Z"
   },
   {
    "duration": 17,
    "start_time": "2024-02-29T10:45:23.115Z"
   },
   {
    "duration": 12,
    "start_time": "2024-02-29T10:45:23.134Z"
   },
   {
    "duration": 158,
    "start_time": "2024-02-29T10:45:23.147Z"
   },
   {
    "duration": 113,
    "start_time": "2024-02-29T10:45:23.306Z"
   },
   {
    "duration": 194,
    "start_time": "2024-02-29T10:45:23.421Z"
   },
   {
    "duration": 263,
    "start_time": "2024-02-29T10:45:23.623Z"
   },
   {
    "duration": 201,
    "start_time": "2024-02-29T10:45:23.888Z"
   },
   {
    "duration": 158,
    "start_time": "2024-02-29T10:45:24.091Z"
   },
   {
    "duration": 11,
    "start_time": "2024-02-29T10:45:24.250Z"
   },
   {
    "duration": 47,
    "start_time": "2024-02-29T10:45:24.263Z"
   },
   {
    "duration": 227,
    "start_time": "2024-02-29T10:45:24.313Z"
   },
   {
    "duration": 112,
    "start_time": "2024-02-29T10:45:24.541Z"
   },
   {
    "duration": 172,
    "start_time": "2024-02-29T10:45:24.655Z"
   },
   {
    "duration": 123,
    "start_time": "2024-02-29T10:45:24.829Z"
   },
   {
    "duration": 11,
    "start_time": "2024-02-29T10:45:24.954Z"
   },
   {
    "duration": 21,
    "start_time": "2024-02-29T10:45:24.967Z"
   },
   {
    "duration": 15,
    "start_time": "2024-02-29T10:45:24.990Z"
   },
   {
    "duration": 44,
    "start_time": "2024-02-29T10:45:25.007Z"
   },
   {
    "duration": 25,
    "start_time": "2024-02-29T10:45:25.053Z"
   },
   {
    "duration": 3758,
    "start_time": "2024-02-29T10:45:25.080Z"
   },
   {
    "duration": 1542,
    "start_time": "2024-02-29T10:45:28.842Z"
   },
   {
    "duration": 1291,
    "start_time": "2024-02-29T10:45:30.386Z"
   },
   {
    "duration": 60,
    "start_time": "2024-02-29T10:45:31.679Z"
   },
   {
    "duration": 23,
    "start_time": "2024-02-29T10:45:31.741Z"
   },
   {
    "duration": 47,
    "start_time": "2024-02-29T10:45:31.766Z"
   },
   {
    "duration": 23,
    "start_time": "2024-02-29T10:45:31.815Z"
   },
   {
    "duration": 11,
    "start_time": "2024-02-29T10:45:31.840Z"
   },
   {
    "duration": 6,
    "start_time": "2024-02-29T10:45:31.853Z"
   },
   {
    "duration": 54,
    "start_time": "2024-02-29T14:24:12.947Z"
   },
   {
    "duration": 2776,
    "start_time": "2024-02-29T14:24:17.738Z"
   },
   {
    "duration": 2589,
    "start_time": "2024-02-29T14:24:20.517Z"
   },
   {
    "duration": 86,
    "start_time": "2024-02-29T14:24:23.107Z"
   },
   {
    "duration": 17,
    "start_time": "2024-02-29T14:24:23.196Z"
   },
   {
    "duration": 20,
    "start_time": "2024-02-29T14:24:23.215Z"
   },
   {
    "duration": 11,
    "start_time": "2024-02-29T14:24:23.237Z"
   },
   {
    "duration": 15,
    "start_time": "2024-02-29T14:24:23.250Z"
   },
   {
    "duration": 33,
    "start_time": "2024-02-29T14:24:23.267Z"
   },
   {
    "duration": 5,
    "start_time": "2024-02-29T14:24:23.301Z"
   },
   {
    "duration": 15,
    "start_time": "2024-02-29T14:24:23.309Z"
   },
   {
    "duration": 16,
    "start_time": "2024-02-29T14:24:23.327Z"
   },
   {
    "duration": 17,
    "start_time": "2024-02-29T14:24:23.345Z"
   },
   {
    "duration": 16,
    "start_time": "2024-02-29T14:24:23.364Z"
   },
   {
    "duration": 7,
    "start_time": "2024-02-29T14:24:23.381Z"
   },
   {
    "duration": 45,
    "start_time": "2024-02-29T14:24:23.390Z"
   },
   {
    "duration": 7,
    "start_time": "2024-02-29T14:24:23.436Z"
   },
   {
    "duration": 27,
    "start_time": "2024-02-29T14:24:23.445Z"
   },
   {
    "duration": 30,
    "start_time": "2024-02-29T14:24:23.473Z"
   },
   {
    "duration": 307,
    "start_time": "2024-02-29T14:24:23.505Z"
   },
   {
    "duration": 127,
    "start_time": "2024-02-29T14:24:23.814Z"
   },
   {
    "duration": 12,
    "start_time": "2024-02-29T14:24:23.943Z"
   },
   {
    "duration": 9,
    "start_time": "2024-02-29T14:24:23.957Z"
   },
   {
    "duration": 190,
    "start_time": "2024-02-29T14:24:23.967Z"
   },
   {
    "duration": 131,
    "start_time": "2024-02-29T14:24:24.159Z"
   },
   {
    "duration": 11,
    "start_time": "2024-02-29T14:24:24.292Z"
   },
   {
    "duration": 209,
    "start_time": "2024-02-29T14:24:24.304Z"
   },
   {
    "duration": 103,
    "start_time": "2024-02-29T14:24:24.515Z"
   },
   {
    "duration": 219,
    "start_time": "2024-02-29T14:24:24.625Z"
   },
   {
    "duration": 111,
    "start_time": "2024-02-29T14:24:24.846Z"
   },
   {
    "duration": 11,
    "start_time": "2024-02-29T14:24:24.959Z"
   },
   {
    "duration": 35,
    "start_time": "2024-02-29T14:24:24.971Z"
   },
   {
    "duration": 182,
    "start_time": "2024-02-29T14:24:25.008Z"
   },
   {
    "duration": 124,
    "start_time": "2024-02-29T14:24:25.191Z"
   },
   {
    "duration": 178,
    "start_time": "2024-02-29T14:24:25.317Z"
   },
   {
    "duration": 114,
    "start_time": "2024-02-29T14:24:25.497Z"
   },
   {
    "duration": 24,
    "start_time": "2024-02-29T14:24:25.613Z"
   },
   {
    "duration": 15,
    "start_time": "2024-02-29T14:24:25.639Z"
   },
   {
    "duration": 185,
    "start_time": "2024-02-29T14:24:25.656Z"
   },
   {
    "duration": 99,
    "start_time": "2024-02-29T14:24:25.843Z"
   },
   {
    "duration": 196,
    "start_time": "2024-02-29T14:24:25.943Z"
   },
   {
    "duration": 247,
    "start_time": "2024-02-29T14:24:26.141Z"
   },
   {
    "duration": 191,
    "start_time": "2024-02-29T14:24:26.390Z"
   },
   {
    "duration": 147,
    "start_time": "2024-02-29T14:24:26.583Z"
   },
   {
    "duration": 13,
    "start_time": "2024-02-29T14:24:26.737Z"
   },
   {
    "duration": 11,
    "start_time": "2024-02-29T14:24:26.751Z"
   },
   {
    "duration": 195,
    "start_time": "2024-02-29T14:24:26.764Z"
   },
   {
    "duration": 123,
    "start_time": "2024-02-29T14:24:26.961Z"
   },
   {
    "duration": 161,
    "start_time": "2024-02-29T14:24:27.085Z"
   },
   {
    "duration": 116,
    "start_time": "2024-02-29T14:24:27.248Z"
   },
   {
    "duration": 11,
    "start_time": "2024-02-29T14:24:27.366Z"
   },
   {
    "duration": 15,
    "start_time": "2024-02-29T14:24:27.378Z"
   },
   {
    "duration": 12,
    "start_time": "2024-02-29T14:24:27.395Z"
   },
   {
    "duration": 28,
    "start_time": "2024-02-29T14:24:27.422Z"
   },
   {
    "duration": 18,
    "start_time": "2024-02-29T14:24:27.452Z"
   },
   {
    "duration": 3710,
    "start_time": "2024-02-29T14:24:27.472Z"
   },
   {
    "duration": 1534,
    "start_time": "2024-02-29T14:24:31.183Z"
   },
   {
    "duration": 1040,
    "start_time": "2024-02-29T14:24:32.719Z"
   },
   {
    "duration": 16,
    "start_time": "2024-02-29T14:24:33.761Z"
   },
   {
    "duration": 17,
    "start_time": "2024-02-29T14:24:33.779Z"
   },
   {
    "duration": 19,
    "start_time": "2024-02-29T14:24:33.797Z"
   },
   {
    "duration": 19,
    "start_time": "2024-02-29T14:24:33.817Z"
   },
   {
    "duration": 4,
    "start_time": "2024-02-29T14:24:33.840Z"
   },
   {
    "duration": 5,
    "start_time": "2024-02-29T14:24:33.846Z"
   },
   {
    "duration": 3563,
    "start_time": "2024-02-29T14:24:33.853Z"
   },
   {
    "duration": 39,
    "start_time": "2024-02-29T14:24:37.425Z"
   },
   {
    "duration": 4,
    "start_time": "2024-02-29T14:24:37.466Z"
   },
   {
    "duration": 900,
    "start_time": "2024-02-29T14:24:37.472Z"
   },
   {
    "duration": 21,
    "start_time": "2024-02-29T14:24:38.374Z"
   },
   {
    "duration": 3,
    "start_time": "2024-02-29T14:24:38.397Z"
   },
   {
    "duration": 31,
    "start_time": "2024-02-29T14:24:38.401Z"
   },
   {
    "duration": 16,
    "start_time": "2024-02-29T14:24:38.434Z"
   },
   {
    "duration": 29,
    "start_time": "2024-02-29T14:24:38.451Z"
   },
   {
    "duration": 11,
    "start_time": "2024-02-29T14:24:38.482Z"
   },
   {
    "duration": 196,
    "start_time": "2024-02-29T14:24:38.494Z"
   },
   {
    "duration": 0,
    "start_time": "2024-02-29T14:24:38.691Z"
   },
   {
    "duration": 0,
    "start_time": "2024-02-29T14:24:38.693Z"
   },
   {
    "duration": 0,
    "start_time": "2024-02-29T14:24:38.694Z"
   },
   {
    "duration": 0,
    "start_time": "2024-02-29T14:24:38.695Z"
   },
   {
    "duration": 168,
    "start_time": "2024-02-29T14:30:19.171Z"
   },
   {
    "duration": 244,
    "start_time": "2024-02-29T14:30:34.615Z"
   },
   {
    "duration": 1056,
    "start_time": "2024-02-29T14:30:58.543Z"
   },
   {
    "duration": 21,
    "start_time": "2024-02-29T14:31:32.229Z"
   },
   {
    "duration": 21,
    "start_time": "2024-02-29T14:31:47.483Z"
   },
   {
    "duration": 16,
    "start_time": "2024-02-29T14:31:53.687Z"
   },
   {
    "duration": 25,
    "start_time": "2024-02-29T14:32:19.519Z"
   },
   {
    "duration": 14,
    "start_time": "2024-02-29T14:33:13.502Z"
   },
   {
    "duration": 43,
    "start_time": "2024-02-29T14:33:42.393Z"
   },
   {
    "duration": 1122,
    "start_time": "2024-02-29T14:33:47.751Z"
   },
   {
    "duration": 87,
    "start_time": "2024-02-29T14:48:55.667Z"
   },
   {
    "duration": 85,
    "start_time": "2024-02-29T14:49:08.891Z"
   },
   {
    "duration": 86,
    "start_time": "2024-02-29T14:50:13.451Z"
   },
   {
    "duration": 12,
    "start_time": "2024-02-29T14:50:39.911Z"
   },
   {
    "duration": 5,
    "start_time": "2024-02-29T14:51:21.679Z"
   },
   {
    "duration": 474,
    "start_time": "2024-02-29T14:51:26.162Z"
   },
   {
    "duration": 11087,
    "start_time": "2024-02-29T14:51:41.463Z"
   },
   {
    "duration": 6,
    "start_time": "2024-02-29T14:55:25.110Z"
   },
   {
    "duration": 36,
    "start_time": "2024-02-29T14:55:32.375Z"
   },
   {
    "duration": 33,
    "start_time": "2024-02-29T14:55:47.811Z"
   },
   {
    "duration": 45,
    "start_time": "2024-02-29T14:56:03.483Z"
   },
   {
    "duration": 24,
    "start_time": "2024-02-29T14:56:09.534Z"
   },
   {
    "duration": 11,
    "start_time": "2024-02-29T14:56:44.134Z"
   },
   {
    "duration": 12,
    "start_time": "2024-02-29T14:56:51.880Z"
   },
   {
    "duration": 26,
    "start_time": "2024-02-29T14:57:16.788Z"
   },
   {
    "duration": 26,
    "start_time": "2024-02-29T14:57:29.933Z"
   },
   {
    "duration": 9,
    "start_time": "2024-02-29T14:57:38.760Z"
   },
   {
    "duration": 24,
    "start_time": "2024-02-29T14:57:43.393Z"
   },
   {
    "duration": 25,
    "start_time": "2024-02-29T14:57:48.953Z"
   },
   {
    "duration": 26,
    "start_time": "2024-02-29T14:59:02.289Z"
   },
   {
    "duration": 22,
    "start_time": "2024-02-29T14:59:07.457Z"
   },
   {
    "duration": 8,
    "start_time": "2024-02-29T14:59:32.549Z"
   },
   {
    "duration": 3,
    "start_time": "2024-02-29T14:59:33.409Z"
   },
   {
    "duration": 3,
    "start_time": "2024-02-29T14:59:56.313Z"
   },
   {
    "duration": 3,
    "start_time": "2024-02-29T14:59:56.780Z"
   },
   {
    "duration": 3767,
    "start_time": "2024-02-29T14:59:57.040Z"
   },
   {
    "duration": 59,
    "start_time": "2024-02-29T15:00:00.809Z"
   },
   {
    "duration": 10,
    "start_time": "2024-02-29T15:00:00.870Z"
   },
   {
    "duration": 908,
    "start_time": "2024-02-29T15:00:00.882Z"
   },
   {
    "duration": 40,
    "start_time": "2024-02-29T15:00:01.793Z"
   },
   {
    "duration": 108,
    "start_time": "2024-02-29T15:00:01.836Z"
   },
   {
    "duration": 53,
    "start_time": "2024-02-29T15:00:01.946Z"
   },
   {
    "duration": 54,
    "start_time": "2024-02-29T15:00:02.001Z"
   },
   {
    "duration": 55,
    "start_time": "2024-02-29T15:00:02.057Z"
   },
   {
    "duration": 35,
    "start_time": "2024-02-29T15:00:02.115Z"
   },
   {
    "duration": 1192,
    "start_time": "2024-02-29T15:00:02.153Z"
   },
   {
    "duration": 37,
    "start_time": "2024-02-29T15:00:18.916Z"
   },
   {
    "duration": 11,
    "start_time": "2024-02-29T15:01:20.069Z"
   },
   {
    "duration": 1569,
    "start_time": "2024-02-29T15:01:35.000Z"
   },
   {
    "duration": 28,
    "start_time": "2024-02-29T15:01:47.092Z"
   },
   {
    "duration": 4,
    "start_time": "2024-02-29T15:02:15.972Z"
   },
   {
    "duration": 696,
    "start_time": "2024-02-29T15:02:35.373Z"
   },
   {
    "duration": 768,
    "start_time": "2024-02-29T15:02:45.741Z"
   },
   {
    "duration": 546,
    "start_time": "2024-02-29T15:03:15.592Z"
   },
   {
    "duration": 669,
    "start_time": "2024-02-29T15:04:16.080Z"
   },
   {
    "duration": 705,
    "start_time": "2024-02-29T15:04:21.936Z"
   },
   {
    "duration": 136,
    "start_time": "2024-02-29T15:04:28.464Z"
   },
   {
    "duration": 663,
    "start_time": "2024-02-29T15:04:35.053Z"
   },
   {
    "duration": 6,
    "start_time": "2024-02-29T15:05:33.601Z"
   },
   {
    "duration": 1049,
    "start_time": "2024-02-29T15:05:37.393Z"
   },
   {
    "duration": 663,
    "start_time": "2024-02-29T15:05:58.034Z"
   },
   {
    "duration": 5,
    "start_time": "2024-02-29T15:06:23.972Z"
   },
   {
    "duration": 695,
    "start_time": "2024-02-29T15:06:31.548Z"
   },
   {
    "duration": 757,
    "start_time": "2024-02-29T15:06:44.302Z"
   },
   {
    "duration": 744,
    "start_time": "2024-02-29T15:06:51.640Z"
   },
   {
    "duration": 717,
    "start_time": "2024-02-29T15:07:16.035Z"
   },
   {
    "duration": 718,
    "start_time": "2024-02-29T15:07:23.017Z"
   },
   {
    "duration": 38,
    "start_time": "2024-02-29T15:11:03.437Z"
   },
   {
    "duration": 23,
    "start_time": "2024-02-29T15:11:49.012Z"
   },
   {
    "duration": 7,
    "start_time": "2024-02-29T15:11:53.520Z"
   },
   {
    "duration": 28,
    "start_time": "2024-02-29T15:12:00.884Z"
   },
   {
    "duration": 10,
    "start_time": "2024-02-29T15:12:49.792Z"
   },
   {
    "duration": 13,
    "start_time": "2024-02-29T15:14:27.644Z"
   },
   {
    "duration": 22,
    "start_time": "2024-02-29T15:14:44.919Z"
   },
   {
    "duration": 81,
    "start_time": "2024-02-29T15:14:48.922Z"
   },
   {
    "duration": 89,
    "start_time": "2024-02-29T15:14:59.493Z"
   },
   {
    "duration": 77,
    "start_time": "2024-02-29T15:15:06.434Z"
   },
   {
    "duration": 7,
    "start_time": "2024-02-29T15:15:50.089Z"
   },
   {
    "duration": 14,
    "start_time": "2024-02-29T15:16:01.845Z"
   },
   {
    "duration": 121,
    "start_time": "2024-02-29T15:16:35.276Z"
   },
   {
    "duration": 581,
    "start_time": "2024-02-29T15:16:47.653Z"
   },
   {
    "duration": 94,
    "start_time": "2024-03-01T07:54:56.016Z"
   },
   {
    "duration": 15,
    "start_time": "2024-03-01T07:55:12.096Z"
   },
   {
    "duration": 14,
    "start_time": "2024-03-01T07:55:20.304Z"
   },
   {
    "duration": 111,
    "start_time": "2024-03-01T07:55:27.884Z"
   },
   {
    "duration": 86,
    "start_time": "2024-03-01T07:58:50.959Z"
   },
   {
    "duration": 89,
    "start_time": "2024-03-01T07:58:59.067Z"
   },
   {
    "duration": 65,
    "start_time": "2024-03-01T07:59:21.250Z"
   },
   {
    "duration": 8,
    "start_time": "2024-03-01T07:59:29.607Z"
   },
   {
    "duration": 74,
    "start_time": "2024-03-01T07:59:48.999Z"
   },
   {
    "duration": 10,
    "start_time": "2024-03-01T07:59:49.568Z"
   },
   {
    "duration": 62,
    "start_time": "2024-03-01T08:00:58.949Z"
   },
   {
    "duration": 5,
    "start_time": "2024-03-01T08:00:59.429Z"
   },
   {
    "duration": 98,
    "start_time": "2024-03-01T08:01:41.891Z"
   },
   {
    "duration": 18,
    "start_time": "2024-03-01T08:05:39.955Z"
   },
   {
    "duration": 24,
    "start_time": "2024-03-01T08:05:49.086Z"
   },
   {
    "duration": 18,
    "start_time": "2024-03-01T08:05:50.037Z"
   },
   {
    "duration": 26,
    "start_time": "2024-03-01T08:06:32.037Z"
   },
   {
    "duration": 28,
    "start_time": "2024-03-01T08:07:20.442Z"
   },
   {
    "duration": 11632,
    "start_time": "2024-03-01T08:07:37.975Z"
   },
   {
    "duration": 657,
    "start_time": "2024-03-01T08:09:19.946Z"
   },
   {
    "duration": 629,
    "start_time": "2024-03-01T08:09:25.662Z"
   },
   {
    "duration": 9546,
    "start_time": "2024-03-01T08:09:47.633Z"
   },
   {
    "duration": 631,
    "start_time": "2024-03-01T08:15:19.030Z"
   },
   {
    "duration": 27,
    "start_time": "2024-03-01T08:15:31.410Z"
   },
   {
    "duration": 35,
    "start_time": "2024-03-01T08:15:52.166Z"
   },
   {
    "duration": 620,
    "start_time": "2024-03-01T08:16:52.686Z"
   },
   {
    "duration": 661,
    "start_time": "2024-03-01T08:17:06.661Z"
   },
   {
    "duration": 611,
    "start_time": "2024-03-01T08:17:20.689Z"
   },
   {
    "duration": 5,
    "start_time": "2024-03-01T08:18:20.565Z"
   },
   {
    "duration": 5,
    "start_time": "2024-03-01T08:18:45.194Z"
   },
   {
    "duration": 22,
    "start_time": "2024-03-01T08:19:00.938Z"
   },
   {
    "duration": 9579,
    "start_time": "2024-03-01T08:19:09.398Z"
   },
   {
    "duration": 930,
    "start_time": "2024-03-01T08:19:59.258Z"
   },
   {
    "duration": 8,
    "start_time": "2024-03-01T08:20:18.394Z"
   },
   {
    "duration": 6,
    "start_time": "2024-03-01T08:20:33.838Z"
   },
   {
    "duration": 21,
    "start_time": "2024-03-01T08:20:39.573Z"
   },
   {
    "duration": 7,
    "start_time": "2024-03-01T08:20:49.173Z"
   },
   {
    "duration": 22,
    "start_time": "2024-03-01T08:20:51.893Z"
   },
   {
    "duration": 95,
    "start_time": "2024-03-01T08:21:58.949Z"
   },
   {
    "duration": 2906,
    "start_time": "2024-03-01T08:42:13.744Z"
   },
   {
    "duration": 2845,
    "start_time": "2024-03-01T08:42:16.652Z"
   },
   {
    "duration": 101,
    "start_time": "2024-03-01T08:42:19.499Z"
   },
   {
    "duration": 30,
    "start_time": "2024-03-01T08:42:19.602Z"
   },
   {
    "duration": 27,
    "start_time": "2024-03-01T08:42:19.635Z"
   },
   {
    "duration": 13,
    "start_time": "2024-03-01T08:42:19.664Z"
   },
   {
    "duration": 13,
    "start_time": "2024-03-01T08:42:19.679Z"
   },
   {
    "duration": 51,
    "start_time": "2024-03-01T08:42:19.694Z"
   },
   {
    "duration": 5,
    "start_time": "2024-03-01T08:42:19.750Z"
   },
   {
    "duration": 17,
    "start_time": "2024-03-01T08:42:19.757Z"
   },
   {
    "duration": 16,
    "start_time": "2024-03-01T08:42:19.776Z"
   },
   {
    "duration": 13,
    "start_time": "2024-03-01T08:42:19.794Z"
   },
   {
    "duration": 19,
    "start_time": "2024-03-01T08:42:19.808Z"
   },
   {
    "duration": 10,
    "start_time": "2024-03-01T08:42:19.833Z"
   },
   {
    "duration": 8,
    "start_time": "2024-03-01T08:42:19.845Z"
   },
   {
    "duration": 6,
    "start_time": "2024-03-01T08:42:19.854Z"
   },
   {
    "duration": 12,
    "start_time": "2024-03-01T08:42:19.862Z"
   },
   {
    "duration": 18,
    "start_time": "2024-03-01T08:42:19.876Z"
   },
   {
    "duration": 245,
    "start_time": "2024-03-01T08:42:19.896Z"
   },
   {
    "duration": 112,
    "start_time": "2024-03-01T08:42:20.143Z"
   },
   {
    "duration": 12,
    "start_time": "2024-03-01T08:42:20.257Z"
   },
   {
    "duration": 7,
    "start_time": "2024-03-01T08:42:20.271Z"
   },
   {
    "duration": 197,
    "start_time": "2024-03-01T08:42:20.279Z"
   },
   {
    "duration": 131,
    "start_time": "2024-03-01T08:42:20.477Z"
   },
   {
    "duration": 26,
    "start_time": "2024-03-01T08:42:20.610Z"
   },
   {
    "duration": 224,
    "start_time": "2024-03-01T08:42:20.638Z"
   },
   {
    "duration": 110,
    "start_time": "2024-03-01T08:42:20.864Z"
   },
   {
    "duration": 218,
    "start_time": "2024-03-01T08:42:20.977Z"
   },
   {
    "duration": 139,
    "start_time": "2024-03-01T08:42:21.197Z"
   },
   {
    "duration": 14,
    "start_time": "2024-03-01T08:42:21.337Z"
   },
   {
    "duration": 36,
    "start_time": "2024-03-01T08:42:21.352Z"
   },
   {
    "duration": 213,
    "start_time": "2024-03-01T08:42:21.391Z"
   },
   {
    "duration": 133,
    "start_time": "2024-03-01T08:42:21.606Z"
   },
   {
    "duration": 161,
    "start_time": "2024-03-01T08:42:21.744Z"
   },
   {
    "duration": 132,
    "start_time": "2024-03-01T08:42:21.907Z"
   },
   {
    "duration": 14,
    "start_time": "2024-03-01T08:42:22.043Z"
   },
   {
    "duration": 17,
    "start_time": "2024-03-01T08:42:22.059Z"
   },
   {
    "duration": 167,
    "start_time": "2024-03-01T08:42:22.078Z"
   },
   {
    "duration": 112,
    "start_time": "2024-03-01T08:42:22.247Z"
   },
   {
    "duration": 197,
    "start_time": "2024-03-01T08:42:22.361Z"
   },
   {
    "duration": 299,
    "start_time": "2024-03-01T08:42:22.566Z"
   },
   {
    "duration": 189,
    "start_time": "2024-03-01T08:42:22.867Z"
   },
   {
    "duration": 129,
    "start_time": "2024-03-01T08:42:23.058Z"
   },
   {
    "duration": 10,
    "start_time": "2024-03-01T08:42:23.189Z"
   },
   {
    "duration": 8,
    "start_time": "2024-03-01T08:42:23.201Z"
   },
   {
    "duration": 172,
    "start_time": "2024-03-01T08:42:23.230Z"
   },
   {
    "duration": 136,
    "start_time": "2024-03-01T08:42:23.403Z"
   },
   {
    "duration": 149,
    "start_time": "2024-03-01T08:42:23.541Z"
   },
   {
    "duration": 118,
    "start_time": "2024-03-01T08:42:23.692Z"
   },
   {
    "duration": 21,
    "start_time": "2024-03-01T08:42:23.811Z"
   },
   {
    "duration": 6,
    "start_time": "2024-03-01T08:42:23.839Z"
   },
   {
    "duration": 13,
    "start_time": "2024-03-01T08:42:23.847Z"
   },
   {
    "duration": 26,
    "start_time": "2024-03-01T08:42:23.862Z"
   },
   {
    "duration": 38,
    "start_time": "2024-03-01T08:42:23.889Z"
   },
   {
    "duration": 4006,
    "start_time": "2024-03-01T08:42:23.933Z"
   },
   {
    "duration": 1544,
    "start_time": "2024-03-01T08:42:27.941Z"
   },
   {
    "duration": 1107,
    "start_time": "2024-03-01T08:42:29.487Z"
   },
   {
    "duration": 7,
    "start_time": "2024-03-01T08:42:30.596Z"
   },
   {
    "duration": 86,
    "start_time": "2024-03-01T08:42:30.605Z"
   },
   {
    "duration": 104,
    "start_time": "2024-03-01T08:42:30.692Z"
   },
   {
    "duration": 46,
    "start_time": "2024-03-01T08:42:30.798Z"
   },
   {
    "duration": 3591,
    "start_time": "2024-03-01T08:42:30.845Z"
   },
   {
    "duration": 48,
    "start_time": "2024-03-01T08:42:34.438Z"
   },
   {
    "duration": 3,
    "start_time": "2024-03-01T08:42:34.488Z"
   },
   {
    "duration": 908,
    "start_time": "2024-03-01T08:42:34.493Z"
   },
   {
    "duration": 38,
    "start_time": "2024-03-01T08:42:35.403Z"
   },
   {
    "duration": 3,
    "start_time": "2024-03-01T08:42:35.443Z"
   },
   {
    "duration": 17,
    "start_time": "2024-03-01T08:42:35.448Z"
   },
   {
    "duration": 27,
    "start_time": "2024-03-01T08:42:35.466Z"
   },
   {
    "duration": 48,
    "start_time": "2024-03-01T08:42:35.494Z"
   },
   {
    "duration": 10,
    "start_time": "2024-03-01T08:42:35.544Z"
   },
   {
    "duration": 1234,
    "start_time": "2024-03-01T08:42:35.556Z"
   },
   {
    "duration": 45,
    "start_time": "2024-03-01T08:42:36.792Z"
   },
   {
    "duration": 4,
    "start_time": "2024-03-01T08:42:36.841Z"
   },
   {
    "duration": 1052,
    "start_time": "2024-03-01T08:42:36.846Z"
   },
   {
    "duration": 45,
    "start_time": "2024-03-01T08:42:37.901Z"
   },
   {
    "duration": 4,
    "start_time": "2024-03-01T08:42:37.948Z"
   },
   {
    "duration": 30,
    "start_time": "2024-03-01T08:42:37.954Z"
   },
   {
    "duration": 12,
    "start_time": "2024-03-01T08:42:37.986Z"
   },
   {
    "duration": 190,
    "start_time": "2024-03-01T08:42:38.025Z"
   },
   {
    "duration": 0,
    "start_time": "2024-03-01T08:42:38.217Z"
   },
   {
    "duration": 0,
    "start_time": "2024-03-01T08:42:38.223Z"
   },
   {
    "duration": 0,
    "start_time": "2024-03-01T08:42:38.224Z"
   },
   {
    "duration": 0,
    "start_time": "2024-03-01T08:42:38.225Z"
   },
   {
    "duration": 6,
    "start_time": "2024-03-01T08:44:31.900Z"
   },
   {
    "duration": 13,
    "start_time": "2024-03-01T08:44:39.944Z"
   },
   {
    "duration": 16,
    "start_time": "2024-03-01T08:44:59.120Z"
   },
   {
    "duration": 401,
    "start_time": "2024-03-01T08:45:06.448Z"
   },
   {
    "duration": 91,
    "start_time": "2024-03-01T08:45:11.088Z"
   },
   {
    "duration": 6,
    "start_time": "2024-03-01T08:45:13.544Z"
   },
   {
    "duration": 9821,
    "start_time": "2024-03-01T08:45:13.768Z"
   },
   {
    "duration": 100,
    "start_time": "2024-03-01T08:45:23.592Z"
   },
   {
    "duration": 44,
    "start_time": "2024-03-01T14:52:54.182Z"
   },
   {
    "duration": 4501,
    "start_time": "2024-03-01T14:53:02.913Z"
   },
   {
    "duration": 4325,
    "start_time": "2024-03-01T14:53:07.417Z"
   },
   {
    "duration": 298,
    "start_time": "2024-03-01T14:53:11.743Z"
   },
   {
    "duration": 16,
    "start_time": "2024-03-01T14:53:12.043Z"
   },
   {
    "duration": 7,
    "start_time": "2024-03-01T14:53:12.060Z"
   },
   {
    "duration": 8,
    "start_time": "2024-03-01T14:53:12.068Z"
   },
   {
    "duration": 14,
    "start_time": "2024-03-01T14:53:12.077Z"
   },
   {
    "duration": 40,
    "start_time": "2024-03-01T14:53:12.092Z"
   },
   {
    "duration": 4,
    "start_time": "2024-03-01T14:53:12.134Z"
   },
   {
    "duration": 8,
    "start_time": "2024-03-01T14:53:12.140Z"
   },
   {
    "duration": 5,
    "start_time": "2024-03-01T14:53:12.150Z"
   },
   {
    "duration": 12,
    "start_time": "2024-03-01T14:53:12.157Z"
   },
   {
    "duration": 22,
    "start_time": "2024-03-01T14:53:12.172Z"
   },
   {
    "duration": 6,
    "start_time": "2024-03-01T14:53:12.195Z"
   },
   {
    "duration": 7,
    "start_time": "2024-03-01T14:53:12.202Z"
   },
   {
    "duration": 10,
    "start_time": "2024-03-01T14:53:12.210Z"
   },
   {
    "duration": 11,
    "start_time": "2024-03-01T14:53:12.221Z"
   },
   {
    "duration": 27,
    "start_time": "2024-03-01T14:53:12.234Z"
   },
   {
    "duration": 158,
    "start_time": "2024-03-01T14:53:12.262Z"
   },
   {
    "duration": 96,
    "start_time": "2024-03-01T14:53:12.421Z"
   },
   {
    "duration": 10,
    "start_time": "2024-03-01T14:53:12.519Z"
   },
   {
    "duration": 14,
    "start_time": "2024-03-01T14:53:12.530Z"
   },
   {
    "duration": 154,
    "start_time": "2024-03-01T14:53:12.545Z"
   },
   {
    "duration": 132,
    "start_time": "2024-03-01T14:53:12.701Z"
   },
   {
    "duration": 11,
    "start_time": "2024-03-01T14:53:12.834Z"
   },
   {
    "duration": 186,
    "start_time": "2024-03-01T14:53:12.846Z"
   },
   {
    "duration": 94,
    "start_time": "2024-03-01T14:53:13.034Z"
   },
   {
    "duration": 177,
    "start_time": "2024-03-01T14:53:13.129Z"
   },
   {
    "duration": 101,
    "start_time": "2024-03-01T14:53:13.307Z"
   },
   {
    "duration": 11,
    "start_time": "2024-03-01T14:53:13.410Z"
   },
   {
    "duration": 12,
    "start_time": "2024-03-01T14:53:13.422Z"
   },
   {
    "duration": 148,
    "start_time": "2024-03-01T14:53:13.436Z"
   },
   {
    "duration": 93,
    "start_time": "2024-03-01T14:53:13.586Z"
   },
   {
    "duration": 146,
    "start_time": "2024-03-01T14:53:13.680Z"
   },
   {
    "duration": 116,
    "start_time": "2024-03-01T14:53:13.828Z"
   },
   {
    "duration": 9,
    "start_time": "2024-03-01T14:53:13.946Z"
   },
   {
    "duration": 17,
    "start_time": "2024-03-01T14:53:13.957Z"
   },
   {
    "duration": 155,
    "start_time": "2024-03-01T14:53:13.976Z"
   },
   {
    "duration": 95,
    "start_time": "2024-03-01T14:53:14.133Z"
   },
   {
    "duration": 162,
    "start_time": "2024-03-01T14:53:14.232Z"
   },
   {
    "duration": 218,
    "start_time": "2024-03-01T14:53:14.395Z"
   },
   {
    "duration": 163,
    "start_time": "2024-03-01T14:53:14.615Z"
   },
   {
    "duration": 101,
    "start_time": "2024-03-01T14:53:14.779Z"
   },
   {
    "duration": 21,
    "start_time": "2024-03-01T14:53:14.881Z"
   },
   {
    "duration": 9,
    "start_time": "2024-03-01T14:53:14.903Z"
   },
   {
    "duration": 158,
    "start_time": "2024-03-01T14:53:14.914Z"
   },
   {
    "duration": 102,
    "start_time": "2024-03-01T14:53:15.074Z"
   },
   {
    "duration": 143,
    "start_time": "2024-03-01T14:53:15.178Z"
   },
   {
    "duration": 103,
    "start_time": "2024-03-01T14:53:15.323Z"
   },
   {
    "duration": 52,
    "start_time": "2024-03-01T14:53:15.427Z"
   },
   {
    "duration": 46,
    "start_time": "2024-03-01T14:53:15.481Z"
   },
   {
    "duration": 46,
    "start_time": "2024-03-01T14:53:15.529Z"
   },
   {
    "duration": 32,
    "start_time": "2024-03-01T14:53:15.577Z"
   },
   {
    "duration": 28,
    "start_time": "2024-03-01T14:53:15.611Z"
   },
   {
    "duration": 3477,
    "start_time": "2024-03-01T14:53:15.640Z"
   },
   {
    "duration": 1309,
    "start_time": "2024-03-01T14:53:19.118Z"
   },
   {
    "duration": 869,
    "start_time": "2024-03-01T14:53:20.429Z"
   },
   {
    "duration": 7,
    "start_time": "2024-03-01T14:53:21.300Z"
   },
   {
    "duration": 28,
    "start_time": "2024-03-01T14:53:21.309Z"
   },
   {
    "duration": 2430,
    "start_time": "2024-03-01T14:56:39.147Z"
   },
   {
    "duration": 4021,
    "start_time": "2024-03-01T14:56:41.579Z"
   },
   {
    "duration": 81,
    "start_time": "2024-03-01T14:56:45.602Z"
   },
   {
    "duration": 16,
    "start_time": "2024-03-01T14:56:45.685Z"
   },
   {
    "duration": 7,
    "start_time": "2024-03-01T14:56:45.703Z"
   },
   {
    "duration": 21,
    "start_time": "2024-03-01T14:56:45.712Z"
   },
   {
    "duration": 8,
    "start_time": "2024-03-01T14:56:45.734Z"
   },
   {
    "duration": 29,
    "start_time": "2024-03-01T14:56:45.743Z"
   },
   {
    "duration": 4,
    "start_time": "2024-03-01T14:56:45.774Z"
   },
   {
    "duration": 5,
    "start_time": "2024-03-01T14:56:45.793Z"
   },
   {
    "duration": 10,
    "start_time": "2024-03-01T14:56:45.800Z"
   },
   {
    "duration": 13,
    "start_time": "2024-03-01T14:56:45.812Z"
   },
   {
    "duration": 14,
    "start_time": "2024-03-01T14:56:45.826Z"
   },
   {
    "duration": 8,
    "start_time": "2024-03-01T14:56:45.841Z"
   },
   {
    "duration": 6,
    "start_time": "2024-03-01T14:56:45.851Z"
   },
   {
    "duration": 35,
    "start_time": "2024-03-01T14:56:45.859Z"
   },
   {
    "duration": 8,
    "start_time": "2024-03-01T14:56:45.896Z"
   },
   {
    "duration": 16,
    "start_time": "2024-03-01T14:56:45.906Z"
   },
   {
    "duration": 177,
    "start_time": "2024-03-01T14:56:45.923Z"
   },
   {
    "duration": 99,
    "start_time": "2024-03-01T14:56:46.101Z"
   },
   {
    "duration": 11,
    "start_time": "2024-03-01T14:56:46.201Z"
   },
   {
    "duration": 18,
    "start_time": "2024-03-01T14:56:46.213Z"
   },
   {
    "duration": 150,
    "start_time": "2024-03-01T14:56:46.233Z"
   },
   {
    "duration": 111,
    "start_time": "2024-03-01T14:56:46.384Z"
   },
   {
    "duration": 9,
    "start_time": "2024-03-01T14:56:46.497Z"
   },
   {
    "duration": 167,
    "start_time": "2024-03-01T14:56:46.508Z"
   },
   {
    "duration": 94,
    "start_time": "2024-03-01T14:56:46.676Z"
   },
   {
    "duration": 185,
    "start_time": "2024-03-01T14:56:46.774Z"
   },
   {
    "duration": 105,
    "start_time": "2024-03-01T14:56:46.961Z"
   },
   {
    "duration": 9,
    "start_time": "2024-03-01T14:56:47.068Z"
   },
   {
    "duration": 19,
    "start_time": "2024-03-01T14:56:47.079Z"
   },
   {
    "duration": 142,
    "start_time": "2024-03-01T14:56:47.100Z"
   },
   {
    "duration": 102,
    "start_time": "2024-03-01T14:56:47.244Z"
   },
   {
    "duration": 142,
    "start_time": "2024-03-01T14:56:47.348Z"
   },
   {
    "duration": 86,
    "start_time": "2024-03-01T14:56:47.492Z"
   },
   {
    "duration": 22,
    "start_time": "2024-03-01T14:56:47.580Z"
   },
   {
    "duration": 18,
    "start_time": "2024-03-01T14:56:47.603Z"
   },
   {
    "duration": 150,
    "start_time": "2024-03-01T14:56:47.623Z"
   },
   {
    "duration": 88,
    "start_time": "2024-03-01T14:56:47.774Z"
   },
   {
    "duration": 288,
    "start_time": "2024-03-01T14:56:47.863Z"
   },
   {
    "duration": 110,
    "start_time": "2024-03-01T14:56:48.153Z"
   },
   {
    "duration": 164,
    "start_time": "2024-03-01T14:56:48.264Z"
   },
   {
    "duration": 114,
    "start_time": "2024-03-01T14:56:48.429Z"
   },
   {
    "duration": 9,
    "start_time": "2024-03-01T14:56:48.545Z"
   },
   {
    "duration": 137,
    "start_time": "2024-03-01T14:56:48.555Z"
   },
   {
    "duration": 171,
    "start_time": "2024-03-01T14:56:48.693Z"
   },
   {
    "duration": 107,
    "start_time": "2024-03-01T14:56:48.865Z"
   },
   {
    "duration": 145,
    "start_time": "2024-03-01T14:56:48.974Z"
   },
   {
    "duration": 98,
    "start_time": "2024-03-01T14:56:49.120Z"
   },
   {
    "duration": 9,
    "start_time": "2024-03-01T14:56:49.219Z"
   },
   {
    "duration": 48,
    "start_time": "2024-03-01T14:56:49.229Z"
   },
   {
    "duration": 17,
    "start_time": "2024-03-01T14:56:49.278Z"
   },
   {
    "duration": 27,
    "start_time": "2024-03-01T14:56:49.297Z"
   },
   {
    "duration": 16,
    "start_time": "2024-03-01T14:56:49.325Z"
   },
   {
    "duration": 3362,
    "start_time": "2024-03-01T14:56:49.342Z"
   },
   {
    "duration": 1309,
    "start_time": "2024-03-01T14:56:52.706Z"
   },
   {
    "duration": 881,
    "start_time": "2024-03-01T14:56:54.016Z"
   },
   {
    "duration": 8,
    "start_time": "2024-03-01T14:56:54.898Z"
   },
   {
    "duration": 9,
    "start_time": "2024-03-01T14:56:54.907Z"
   },
   {
    "duration": 7,
    "start_time": "2024-03-01T14:56:54.918Z"
   },
   {
    "duration": 8,
    "start_time": "2024-03-01T14:56:54.927Z"
   },
   {
    "duration": 2907,
    "start_time": "2024-03-01T14:56:54.936Z"
   },
   {
    "duration": 30,
    "start_time": "2024-03-01T14:56:57.844Z"
   },
   {
    "duration": 9,
    "start_time": "2024-03-02T09:16:37.262Z"
   },
   {
    "duration": 317,
    "start_time": "2024-03-02T09:16:41.406Z"
   },
   {
    "duration": 195,
    "start_time": "2024-03-02T09:19:04.030Z"
   },
   {
    "duration": 3801,
    "start_time": "2024-03-02T09:19:17.545Z"
   },
   {
    "duration": 150,
    "start_time": "2024-03-02T09:19:31.738Z"
   },
   {
    "duration": 27,
    "start_time": "2024-03-02T09:21:42.385Z"
   },
   {
    "duration": 15,
    "start_time": "2024-03-02T09:22:41.213Z"
   },
   {
    "duration": 33,
    "start_time": "2024-03-02T09:22:58.517Z"
   },
   {
    "duration": 8,
    "start_time": "2024-03-02T09:23:08.509Z"
   },
   {
    "duration": 17,
    "start_time": "2024-03-02T09:23:22.929Z"
   },
   {
    "duration": 13,
    "start_time": "2024-03-02T09:23:39.730Z"
   },
   {
    "duration": 26,
    "start_time": "2024-03-02T09:23:40.681Z"
   },
   {
    "duration": 17,
    "start_time": "2024-03-02T09:23:41.109Z"
   },
   {
    "duration": 13,
    "start_time": "2024-03-02T09:23:53.565Z"
   },
   {
    "duration": 8,
    "start_time": "2024-03-02T09:23:58.221Z"
   },
   {
    "duration": 12,
    "start_time": "2024-03-02T09:24:00.246Z"
   },
   {
    "duration": 30,
    "start_time": "2024-03-02T09:24:49.297Z"
   },
   {
    "duration": 11,
    "start_time": "2024-03-02T09:25:29.725Z"
   },
   {
    "duration": 14,
    "start_time": "2024-03-02T09:25:37.641Z"
   },
   {
    "duration": 2577,
    "start_time": "2024-03-02T09:26:22.357Z"
   },
   {
    "duration": 2595,
    "start_time": "2024-03-02T09:26:24.936Z"
   },
   {
    "duration": 86,
    "start_time": "2024-03-02T09:26:27.532Z"
   },
   {
    "duration": 17,
    "start_time": "2024-03-02T09:26:27.621Z"
   },
   {
    "duration": 7,
    "start_time": "2024-03-02T09:26:27.640Z"
   },
   {
    "duration": 11,
    "start_time": "2024-03-02T09:26:27.649Z"
   },
   {
    "duration": 20,
    "start_time": "2024-03-02T09:26:27.662Z"
   },
   {
    "duration": 50,
    "start_time": "2024-03-02T09:26:27.684Z"
   },
   {
    "duration": 5,
    "start_time": "2024-03-02T09:26:27.736Z"
   },
   {
    "duration": 7,
    "start_time": "2024-03-02T09:26:27.744Z"
   },
   {
    "duration": 6,
    "start_time": "2024-03-02T09:26:27.753Z"
   },
   {
    "duration": 47,
    "start_time": "2024-03-02T09:26:27.761Z"
   },
   {
    "duration": 21,
    "start_time": "2024-03-02T09:26:27.810Z"
   },
   {
    "duration": 7,
    "start_time": "2024-03-02T09:26:27.833Z"
   },
   {
    "duration": 6,
    "start_time": "2024-03-02T09:26:28.093Z"
   },
   {
    "duration": 4,
    "start_time": "2024-03-02T09:26:28.453Z"
   },
   {
    "duration": 9,
    "start_time": "2024-03-02T09:26:30.337Z"
   },
   {
    "duration": 13,
    "start_time": "2024-03-02T09:26:32.505Z"
   },
   {
    "duration": 191,
    "start_time": "2024-03-02T09:26:32.970Z"
   },
   {
    "duration": 104,
    "start_time": "2024-03-02T09:26:33.297Z"
   },
   {
    "duration": 167,
    "start_time": "2024-03-02T09:26:35.857Z"
   },
   {
    "duration": 114,
    "start_time": "2024-03-02T09:26:36.201Z"
   },
   {
    "duration": 10,
    "start_time": "2024-03-02T09:26:36.554Z"
   },
   {
    "duration": 175,
    "start_time": "2024-03-02T09:26:41.234Z"
   },
   {
    "duration": 92,
    "start_time": "2024-03-02T09:26:42.009Z"
   },
   {
    "duration": 198,
    "start_time": "2024-03-02T09:26:43.865Z"
   },
   {
    "duration": 100,
    "start_time": "2024-03-02T09:26:44.529Z"
   },
   {
    "duration": 155,
    "start_time": "2024-03-02T09:26:48.865Z"
   },
   {
    "duration": 107,
    "start_time": "2024-03-02T09:26:49.530Z"
   },
   {
    "duration": 144,
    "start_time": "2024-03-02T09:26:51.801Z"
   },
   {
    "duration": 100,
    "start_time": "2024-03-02T09:26:52.361Z"
   },
   {
    "duration": 150,
    "start_time": "2024-03-02T09:26:55.745Z"
   },
   {
    "duration": 96,
    "start_time": "2024-03-02T09:26:56.317Z"
   },
   {
    "duration": 173,
    "start_time": "2024-03-02T09:26:58.065Z"
   },
   {
    "duration": 240,
    "start_time": "2024-03-02T09:26:58.581Z"
   },
   {
    "duration": 177,
    "start_time": "2024-03-02T09:27:00.417Z"
   },
   {
    "duration": 111,
    "start_time": "2024-03-02T09:27:01.045Z"
   },
   {
    "duration": 6,
    "start_time": "2024-03-02T09:27:03.013Z"
   },
   {
    "duration": 154,
    "start_time": "2024-03-02T09:27:07.097Z"
   },
   {
    "duration": 105,
    "start_time": "2024-03-02T09:27:08.086Z"
   },
   {
    "duration": 154,
    "start_time": "2024-03-02T09:27:10.101Z"
   },
   {
    "duration": 102,
    "start_time": "2024-03-02T09:27:10.573Z"
   },
   {
    "duration": 15,
    "start_time": "2024-03-02T09:27:19.350Z"
   },
   {
    "duration": 24,
    "start_time": "2024-03-02T09:27:25.681Z"
   },
   {
    "duration": 17,
    "start_time": "2024-03-02T09:27:28.145Z"
   },
   {
    "duration": 11,
    "start_time": "2024-03-02T09:27:28.805Z"
   },
   {
    "duration": 11,
    "start_time": "2024-03-02T09:27:34.322Z"
   },
   {
    "duration": 13,
    "start_time": "2024-03-02T09:31:48.538Z"
   },
   {
    "duration": 17,
    "start_time": "2024-03-02T09:34:13.818Z"
   },
   {
    "duration": 43,
    "start_time": "2024-03-02T09:37:31.238Z"
   },
   {
    "duration": 39,
    "start_time": "2024-03-02T09:37:39.902Z"
   },
   {
    "duration": 17,
    "start_time": "2024-03-02T09:42:35.998Z"
   },
   {
    "duration": 15,
    "start_time": "2024-03-02T09:43:01.282Z"
   },
   {
    "duration": 17,
    "start_time": "2024-03-02T09:43:35.466Z"
   },
   {
    "duration": 22,
    "start_time": "2024-03-02T09:44:02.534Z"
   },
   {
    "duration": 24,
    "start_time": "2024-03-02T09:44:41.950Z"
   },
   {
    "duration": 23,
    "start_time": "2024-03-02T09:45:48.318Z"
   },
   {
    "duration": 33,
    "start_time": "2024-03-02T09:46:47.082Z"
   },
   {
    "duration": 183,
    "start_time": "2024-03-02T09:48:12.750Z"
   },
   {
    "duration": 19,
    "start_time": "2024-03-02T09:48:25.098Z"
   },
   {
    "duration": 21,
    "start_time": "2024-03-02T09:48:32.778Z"
   },
   {
    "duration": 16,
    "start_time": "2024-03-02T09:48:36.862Z"
   },
   {
    "duration": 27,
    "start_time": "2024-03-02T09:49:05.614Z"
   },
   {
    "duration": 26,
    "start_time": "2024-03-02T09:49:11.178Z"
   },
   {
    "duration": 24,
    "start_time": "2024-03-02T09:49:16.630Z"
   },
   {
    "duration": 23,
    "start_time": "2024-03-02T09:49:25.966Z"
   },
   {
    "duration": 28,
    "start_time": "2024-03-02T09:49:46.830Z"
   },
   {
    "duration": 13,
    "start_time": "2024-03-02T09:52:31.222Z"
   },
   {
    "duration": 18,
    "start_time": "2024-03-02T09:52:35.062Z"
   },
   {
    "duration": 300,
    "start_time": "2024-03-02T09:53:35.990Z"
   },
   {
    "duration": 12,
    "start_time": "2024-03-02T09:53:45.322Z"
   },
   {
    "duration": 19,
    "start_time": "2024-03-02T09:53:49.110Z"
   },
   {
    "duration": 30,
    "start_time": "2024-03-02T09:55:55.126Z"
   },
   {
    "duration": 19,
    "start_time": "2024-03-02T09:56:45.658Z"
   },
   {
    "duration": 34,
    "start_time": "2024-03-02T09:56:47.506Z"
   },
   {
    "duration": 17,
    "start_time": "2024-03-02T09:57:58.682Z"
   },
   {
    "duration": 19,
    "start_time": "2024-03-02T09:58:03.797Z"
   },
   {
    "duration": 24,
    "start_time": "2024-03-02T09:58:26.434Z"
   },
   {
    "duration": 91,
    "start_time": "2024-03-02T09:59:03.990Z"
   },
   {
    "duration": 143,
    "start_time": "2024-03-02T10:01:32.226Z"
   },
   {
    "duration": 143,
    "start_time": "2024-03-02T10:01:37.710Z"
   },
   {
    "duration": 17,
    "start_time": "2024-03-02T10:06:02.342Z"
   },
   {
    "duration": 3213,
    "start_time": "2024-03-02T10:06:22.744Z"
   },
   {
    "duration": 49,
    "start_time": "2024-03-02T10:06:27.305Z"
   },
   {
    "duration": 1054,
    "start_time": "2024-03-02T10:06:56.117Z"
   },
   {
    "duration": 12738,
    "start_time": "2024-03-02T10:19:57.496Z"
   },
   {
    "duration": 21,
    "start_time": "2024-03-04T09:24:42.366Z"
   },
   {
    "duration": 17,
    "start_time": "2024-03-04T09:25:11.152Z"
   },
   {
    "duration": 5737,
    "start_time": "2024-03-04T09:25:22.737Z"
   },
   {
    "duration": 26,
    "start_time": "2024-03-04T09:28:31.977Z"
   },
   {
    "duration": 21,
    "start_time": "2024-03-04T09:28:52.861Z"
   },
   {
    "duration": 14,
    "start_time": "2024-03-04T09:29:00.100Z"
   },
   {
    "duration": 13,
    "start_time": "2024-03-04T09:29:16.625Z"
   },
   {
    "duration": 14,
    "start_time": "2024-03-04T09:29:24.024Z"
   },
   {
    "duration": 22,
    "start_time": "2024-03-04T09:29:27.620Z"
   },
   {
    "duration": 2965,
    "start_time": "2024-03-04T09:29:37.097Z"
   },
   {
    "duration": 26,
    "start_time": "2024-03-04T09:31:28.053Z"
   },
   {
    "duration": 19,
    "start_time": "2024-03-04T09:32:01.532Z"
   },
   {
    "duration": 16,
    "start_time": "2024-03-04T09:33:05.117Z"
   },
   {
    "duration": 6043,
    "start_time": "2024-03-04T09:34:39.901Z"
   },
   {
    "duration": 2865,
    "start_time": "2024-03-04T09:37:15.781Z"
   },
   {
    "duration": 82,
    "start_time": "2024-03-04T09:38:12.505Z"
   },
   {
    "duration": 4030,
    "start_time": "2024-03-04T09:38:16.332Z"
   },
   {
    "duration": 70,
    "start_time": "2024-03-04T09:38:55.125Z"
   },
   {
    "duration": 5,
    "start_time": "2024-03-04T09:51:53.964Z"
   },
   {
    "duration": 23,
    "start_time": "2024-03-04T09:52:07.540Z"
   },
   {
    "duration": 4,
    "start_time": "2024-03-04T09:52:11.571Z"
   },
   {
    "duration": 6,
    "start_time": "2024-03-04T09:52:13.664Z"
   },
   {
    "duration": 3,
    "start_time": "2024-03-04T09:52:14.244Z"
   },
   {
    "duration": 17,
    "start_time": "2024-03-04T09:54:56.643Z"
   },
   {
    "duration": 81,
    "start_time": "2024-03-04T09:55:16.294Z"
   },
   {
    "duration": 16,
    "start_time": "2024-03-04T09:55:22.842Z"
   },
   {
    "duration": 3,
    "start_time": "2024-03-04T09:56:15.834Z"
   },
   {
    "duration": 4,
    "start_time": "2024-03-04T09:56:16.335Z"
   },
   {
    "duration": 5,
    "start_time": "2024-03-04T09:56:16.918Z"
   },
   {
    "duration": 3,
    "start_time": "2024-03-04T09:56:57.262Z"
   },
   {
    "duration": 8988,
    "start_time": "2024-03-04T09:56:59.298Z"
   },
   {
    "duration": 28,
    "start_time": "2024-03-04T09:58:01.166Z"
   },
   {
    "duration": 4,
    "start_time": "2024-03-04T09:58:07.822Z"
   },
   {
    "duration": 18,
    "start_time": "2024-03-04T09:58:16.305Z"
   },
   {
    "duration": 4,
    "start_time": "2024-03-04T09:59:46.693Z"
   },
   {
    "duration": 7,
    "start_time": "2024-03-04T09:59:47.153Z"
   },
   {
    "duration": 4,
    "start_time": "2024-03-04T09:59:48.593Z"
   },
   {
    "duration": 3,
    "start_time": "2024-03-04T09:59:49.581Z"
   },
   {
    "duration": 5309,
    "start_time": "2024-03-04T09:59:50.600Z"
   },
   {
    "duration": 4683,
    "start_time": "2024-03-04T10:01:09.087Z"
   },
   {
    "duration": 4709,
    "start_time": "2024-03-04T10:01:36.959Z"
   },
   {
    "duration": 78,
    "start_time": "2024-03-04T10:02:09.696Z"
   },
   {
    "duration": 16,
    "start_time": "2024-03-04T10:02:15.559Z"
   },
   {
    "duration": 13,
    "start_time": "2024-03-04T10:02:24.905Z"
   },
   {
    "duration": 28,
    "start_time": "2024-03-04T10:02:32.867Z"
   },
   {
    "duration": 22,
    "start_time": "2024-03-04T10:02:38.955Z"
   },
   {
    "duration": 4,
    "start_time": "2024-03-04T10:05:14.854Z"
   },
   {
    "duration": 260,
    "start_time": "2024-03-04T10:05:16.805Z"
   },
   {
    "duration": 31,
    "start_time": "2024-03-04T10:05:24.175Z"
   },
   {
    "duration": 4,
    "start_time": "2024-03-04T10:05:24.846Z"
   },
   {
    "duration": 332,
    "start_time": "2024-03-04T10:05:26.129Z"
   },
   {
    "duration": 24,
    "start_time": "2024-03-04T10:06:17.795Z"
   },
   {
    "duration": 26,
    "start_time": "2024-03-04T10:06:40.690Z"
   },
   {
    "duration": 67,
    "start_time": "2024-03-04T10:07:53.234Z"
   },
   {
    "duration": 73,
    "start_time": "2024-03-04T10:08:00.426Z"
   },
   {
    "duration": 14,
    "start_time": "2024-03-04T10:08:07.278Z"
   },
   {
    "duration": 14,
    "start_time": "2024-03-04T10:08:27.709Z"
   },
   {
    "duration": 4,
    "start_time": "2024-03-04T10:08:37.194Z"
   },
   {
    "duration": 13,
    "start_time": "2024-03-04T10:09:03.341Z"
   },
   {
    "duration": 15,
    "start_time": "2024-03-04T10:09:14.625Z"
   },
   {
    "duration": 12,
    "start_time": "2024-03-04T10:09:40.594Z"
   },
   {
    "duration": 12,
    "start_time": "2024-03-04T10:09:45.961Z"
   },
   {
    "duration": 13,
    "start_time": "2024-03-04T10:09:49.596Z"
   },
   {
    "duration": 4,
    "start_time": "2024-03-04T10:10:29.393Z"
   },
   {
    "duration": 13,
    "start_time": "2024-03-04T10:10:42.774Z"
   },
   {
    "duration": 5,
    "start_time": "2024-03-04T10:10:48.549Z"
   },
   {
    "duration": 4,
    "start_time": "2024-03-04T10:10:51.905Z"
   },
   {
    "duration": 6,
    "start_time": "2024-03-04T10:11:39.005Z"
   },
   {
    "duration": 12,
    "start_time": "2024-03-04T10:11:49.005Z"
   },
   {
    "duration": 13,
    "start_time": "2024-03-04T10:12:09.077Z"
   },
   {
    "duration": 12,
    "start_time": "2024-03-04T10:12:45.313Z"
   },
   {
    "duration": 13,
    "start_time": "2024-03-04T10:13:18.449Z"
   },
   {
    "duration": 3,
    "start_time": "2024-03-04T10:14:17.573Z"
   },
   {
    "duration": 5,
    "start_time": "2024-03-04T10:14:20.413Z"
   },
   {
    "duration": 10,
    "start_time": "2024-03-04T10:14:24.602Z"
   },
   {
    "duration": 14,
    "start_time": "2024-03-04T10:14:29.361Z"
   },
   {
    "duration": 27,
    "start_time": "2024-03-04T10:14:32.349Z"
   },
   {
    "duration": 911,
    "start_time": "2024-03-04T10:14:35.753Z"
   },
   {
    "duration": 2689,
    "start_time": "2024-03-04T10:14:56.294Z"
   },
   {
    "duration": 2712,
    "start_time": "2024-03-04T10:14:58.986Z"
   },
   {
    "duration": 2825,
    "start_time": "2024-03-04T10:15:01.700Z"
   },
   {
    "duration": 85,
    "start_time": "2024-03-04T10:15:04.527Z"
   },
   {
    "duration": 18,
    "start_time": "2024-03-04T10:15:04.614Z"
   },
   {
    "duration": 28,
    "start_time": "2024-03-04T10:15:04.634Z"
   },
   {
    "duration": 44,
    "start_time": "2024-03-04T10:15:04.664Z"
   },
   {
    "duration": 46,
    "start_time": "2024-03-04T10:15:04.711Z"
   },
   {
    "duration": 41,
    "start_time": "2024-03-04T10:15:04.759Z"
   },
   {
    "duration": 5,
    "start_time": "2024-03-04T10:15:04.804Z"
   },
   {
    "duration": 29,
    "start_time": "2024-03-04T10:15:04.810Z"
   },
   {
    "duration": 9,
    "start_time": "2024-03-04T10:15:04.841Z"
   },
   {
    "duration": 19,
    "start_time": "2024-03-04T10:15:04.852Z"
   },
   {
    "duration": 8,
    "start_time": "2024-03-04T10:15:04.873Z"
   },
   {
    "duration": 8,
    "start_time": "2024-03-04T10:15:04.883Z"
   },
   {
    "duration": 8,
    "start_time": "2024-03-04T10:15:04.893Z"
   },
   {
    "duration": 13,
    "start_time": "2024-03-04T10:15:04.903Z"
   },
   {
    "duration": 17,
    "start_time": "2024-03-04T10:15:04.918Z"
   },
   {
    "duration": 15,
    "start_time": "2024-03-04T10:15:04.937Z"
   },
   {
    "duration": 199,
    "start_time": "2024-03-04T10:15:04.954Z"
   },
   {
    "duration": 111,
    "start_time": "2024-03-04T10:15:05.155Z"
   },
   {
    "duration": 175,
    "start_time": "2024-03-04T10:15:05.267Z"
   },
   {
    "duration": 136,
    "start_time": "2024-03-04T10:15:05.444Z"
   },
   {
    "duration": 12,
    "start_time": "2024-03-04T10:15:05.582Z"
   },
   {
    "duration": 208,
    "start_time": "2024-03-04T10:15:05.596Z"
   },
   {
    "duration": 106,
    "start_time": "2024-03-04T10:15:05.806Z"
   },
   {
    "duration": 204,
    "start_time": "2024-03-04T10:15:05.923Z"
   },
   {
    "duration": 114,
    "start_time": "2024-03-04T10:15:06.132Z"
   },
   {
    "duration": 163,
    "start_time": "2024-03-04T10:15:06.248Z"
   },
   {
    "duration": 116,
    "start_time": "2024-03-04T10:15:06.413Z"
   },
   {
    "duration": 156,
    "start_time": "2024-03-04T10:15:06.531Z"
   },
   {
    "duration": 110,
    "start_time": "2024-03-04T10:15:06.689Z"
   },
   {
    "duration": 150,
    "start_time": "2024-03-04T10:15:06.801Z"
   },
   {
    "duration": 107,
    "start_time": "2024-03-04T10:15:06.952Z"
   },
   {
    "duration": 322,
    "start_time": "2024-03-04T10:15:07.061Z"
   },
   {
    "duration": 116,
    "start_time": "2024-03-04T10:15:07.385Z"
   },
   {
    "duration": 188,
    "start_time": "2024-03-04T10:15:07.504Z"
   },
   {
    "duration": 123,
    "start_time": "2024-03-04T10:15:07.694Z"
   },
   {
    "duration": 5,
    "start_time": "2024-03-04T10:15:07.823Z"
   },
   {
    "duration": 158,
    "start_time": "2024-03-04T10:15:07.829Z"
   },
   {
    "duration": 117,
    "start_time": "2024-03-04T10:15:07.989Z"
   },
   {
    "duration": 147,
    "start_time": "2024-03-04T10:15:08.108Z"
   },
   {
    "duration": 118,
    "start_time": "2024-03-04T10:15:08.256Z"
   },
   {
    "duration": 13,
    "start_time": "2024-03-04T10:15:08.376Z"
   },
   {
    "duration": 35,
    "start_time": "2024-03-04T10:15:08.391Z"
   },
   {
    "duration": 19,
    "start_time": "2024-03-04T10:15:08.428Z"
   },
   {
    "duration": 13,
    "start_time": "2024-03-04T10:15:08.449Z"
   },
   {
    "duration": 27,
    "start_time": "2024-03-04T10:15:08.463Z"
   },
   {
    "duration": 46,
    "start_time": "2024-03-04T10:15:08.492Z"
   },
   {
    "duration": 5881,
    "start_time": "2024-03-04T10:15:08.540Z"
   },
   {
    "duration": 3002,
    "start_time": "2024-03-04T10:15:14.424Z"
   },
   {
    "duration": 4032,
    "start_time": "2024-03-04T10:15:17.428Z"
   },
   {
    "duration": 15,
    "start_time": "2024-03-04T10:15:21.462Z"
   },
   {
    "duration": 19,
    "start_time": "2024-03-04T10:15:21.479Z"
   },
   {
    "duration": 23,
    "start_time": "2024-03-04T10:15:21.500Z"
   },
   {
    "duration": 18,
    "start_time": "2024-03-04T10:15:21.525Z"
   },
   {
    "duration": 6,
    "start_time": "2024-03-04T10:15:21.545Z"
   },
   {
    "duration": 8,
    "start_time": "2024-03-04T10:15:21.553Z"
   },
   {
    "duration": 4622,
    "start_time": "2024-03-04T10:15:21.563Z"
   },
   {
    "duration": 22,
    "start_time": "2024-03-04T10:15:26.187Z"
   },
   {
    "duration": 23,
    "start_time": "2024-03-04T10:15:26.223Z"
   },
   {
    "duration": 23,
    "start_time": "2024-03-04T10:15:26.248Z"
   },
   {
    "duration": 4,
    "start_time": "2024-03-04T10:15:26.272Z"
   },
   {
    "duration": 285,
    "start_time": "2024-03-04T10:15:26.277Z"
   },
   {
    "duration": 34,
    "start_time": "2024-03-04T10:15:26.563Z"
   },
   {
    "duration": 7,
    "start_time": "2024-03-04T10:15:26.599Z"
   },
   {
    "duration": 201,
    "start_time": "2024-03-04T10:15:26.622Z"
   },
   {
    "duration": 0,
    "start_time": "2024-03-04T10:15:26.825Z"
   },
   {
    "duration": 0,
    "start_time": "2024-03-04T10:15:26.826Z"
   },
   {
    "duration": 0,
    "start_time": "2024-03-04T10:15:26.827Z"
   },
   {
    "duration": 0,
    "start_time": "2024-03-04T10:15:26.828Z"
   },
   {
    "duration": 0,
    "start_time": "2024-03-04T10:15:26.829Z"
   },
   {
    "duration": 0,
    "start_time": "2024-03-04T10:15:26.830Z"
   },
   {
    "duration": 0,
    "start_time": "2024-03-04T10:15:26.831Z"
   },
   {
    "duration": 0,
    "start_time": "2024-03-04T10:15:26.832Z"
   },
   {
    "duration": 0,
    "start_time": "2024-03-04T10:15:26.833Z"
   },
   {
    "duration": 0,
    "start_time": "2024-03-04T10:15:26.834Z"
   },
   {
    "duration": 0,
    "start_time": "2024-03-04T10:15:26.835Z"
   },
   {
    "duration": 0,
    "start_time": "2024-03-04T10:15:26.837Z"
   },
   {
    "duration": 0,
    "start_time": "2024-03-04T10:15:26.838Z"
   },
   {
    "duration": 0,
    "start_time": "2024-03-04T10:15:26.840Z"
   },
   {
    "duration": 0,
    "start_time": "2024-03-04T10:15:26.841Z"
   },
   {
    "duration": 0,
    "start_time": "2024-03-04T10:15:26.842Z"
   },
   {
    "duration": 0,
    "start_time": "2024-03-04T10:15:26.843Z"
   },
   {
    "duration": 0,
    "start_time": "2024-03-04T10:15:26.844Z"
   },
   {
    "duration": 3,
    "start_time": "2024-03-04T10:15:39.162Z"
   },
   {
    "duration": 4,
    "start_time": "2024-03-04T10:15:39.814Z"
   },
   {
    "duration": 12,
    "start_time": "2024-03-04T10:15:40.206Z"
   },
   {
    "duration": 16,
    "start_time": "2024-03-04T10:15:40.605Z"
   },
   {
    "duration": 27,
    "start_time": "2024-03-04T10:15:41.090Z"
   },
   {
    "duration": 746,
    "start_time": "2024-03-04T10:15:41.705Z"
   },
   {
    "duration": 1181,
    "start_time": "2024-03-04T10:18:42.170Z"
   },
   {
    "duration": 75,
    "start_time": "2024-03-04T10:20:12.878Z"
   },
   {
    "duration": 10,
    "start_time": "2024-03-04T10:23:46.953Z"
   },
   {
    "duration": 919,
    "start_time": "2024-03-04T10:25:38.210Z"
   },
   {
    "duration": 1282,
    "start_time": "2024-03-04T10:26:29.370Z"
   },
   {
    "duration": 1409,
    "start_time": "2024-03-04T10:26:36.642Z"
   },
   {
    "duration": 73,
    "start_time": "2024-03-04T10:36:10.913Z"
   },
   {
    "duration": 26,
    "start_time": "2024-03-04T10:37:35.873Z"
   },
   {
    "duration": 18,
    "start_time": "2024-03-04T10:39:55.409Z"
   },
   {
    "duration": 4,
    "start_time": "2024-03-04T10:40:51.297Z"
   },
   {
    "duration": 22,
    "start_time": "2024-03-04T10:40:51.985Z"
   },
   {
    "duration": 15,
    "start_time": "2024-03-04T10:40:58.805Z"
   },
   {
    "duration": 18,
    "start_time": "2024-03-04T10:41:01.273Z"
   },
   {
    "duration": 3,
    "start_time": "2024-03-04T10:41:01.894Z"
   },
   {
    "duration": 5,
    "start_time": "2024-03-04T10:41:02.437Z"
   },
   {
    "duration": 3,
    "start_time": "2024-03-04T10:41:02.857Z"
   },
   {
    "duration": 3,
    "start_time": "2024-03-04T10:41:04.053Z"
   },
   {
    "duration": 4680,
    "start_time": "2024-03-04T10:41:04.974Z"
   },
   {
    "duration": 22,
    "start_time": "2024-03-04T10:41:09.655Z"
   },
   {
    "duration": 26,
    "start_time": "2024-03-04T10:41:09.678Z"
   },
   {
    "duration": 28,
    "start_time": "2024-03-04T10:41:14.585Z"
   },
   {
    "duration": 3,
    "start_time": "2024-03-04T10:41:24.141Z"
   },
   {
    "duration": 295,
    "start_time": "2024-03-04T10:41:24.613Z"
   },
   {
    "duration": 29,
    "start_time": "2024-03-04T10:41:25.466Z"
   },
   {
    "duration": 7,
    "start_time": "2024-03-04T10:41:25.921Z"
   },
   {
    "duration": 3,
    "start_time": "2024-03-04T10:41:27.517Z"
   },
   {
    "duration": 5,
    "start_time": "2024-03-04T10:41:28.933Z"
   },
   {
    "duration": 11,
    "start_time": "2024-03-04T10:41:29.369Z"
   },
   {
    "duration": 15,
    "start_time": "2024-03-04T10:41:30.769Z"
   },
   {
    "duration": 27,
    "start_time": "2024-03-04T10:41:31.349Z"
   },
   {
    "duration": 1286,
    "start_time": "2024-03-04T10:41:34.497Z"
   },
   {
    "duration": 26,
    "start_time": "2024-03-04T10:44:38.405Z"
   },
   {
    "duration": 11,
    "start_time": "2024-03-04T10:47:04.102Z"
   },
   {
    "duration": 123,
    "start_time": "2024-03-04T10:48:57.161Z"
   },
   {
    "duration": 12,
    "start_time": "2024-03-04T10:49:18.570Z"
   },
   {
    "duration": 14,
    "start_time": "2024-03-04T10:49:24.830Z"
   },
   {
    "duration": 13,
    "start_time": "2024-03-04T10:49:34.702Z"
   },
   {
    "duration": 16,
    "start_time": "2024-03-04T10:49:39.486Z"
   },
   {
    "duration": 4,
    "start_time": "2024-03-04T10:49:48.106Z"
   },
   {
    "duration": 6,
    "start_time": "2024-03-04T10:50:04.711Z"
   },
   {
    "duration": 127,
    "start_time": "2024-03-04T10:50:09.398Z"
   },
   {
    "duration": 11,
    "start_time": "2024-03-04T10:50:20.998Z"
   },
   {
    "duration": 4,
    "start_time": "2024-03-04T10:50:45.166Z"
   },
   {
    "duration": 6,
    "start_time": "2024-03-04T10:50:52.482Z"
   },
   {
    "duration": 29,
    "start_time": "2024-03-04T10:51:15.446Z"
   },
   {
    "duration": 1255,
    "start_time": "2024-03-04T10:51:26.222Z"
   },
   {
    "duration": 13,
    "start_time": "2024-03-04T10:57:23.986Z"
   },
   {
    "duration": 19,
    "start_time": "2024-03-04T10:57:30.158Z"
   },
   {
    "duration": 7,
    "start_time": "2024-03-04T10:57:34.438Z"
   },
   {
    "duration": 25,
    "start_time": "2024-03-04T10:57:40.378Z"
   },
   {
    "duration": 126,
    "start_time": "2024-03-04T10:57:52.398Z"
   },
   {
    "duration": 126,
    "start_time": "2024-03-04T10:58:02.086Z"
   },
   {
    "duration": 125,
    "start_time": "2024-03-04T10:58:22.670Z"
   },
   {
    "duration": 145,
    "start_time": "2024-03-04T10:59:47.922Z"
   },
   {
    "duration": 137,
    "start_time": "2024-03-04T11:00:16.018Z"
   },
   {
    "duration": 134,
    "start_time": "2024-03-04T11:00:30.021Z"
   },
   {
    "duration": 131,
    "start_time": "2024-03-04T11:00:50.129Z"
   },
   {
    "duration": 139,
    "start_time": "2024-03-04T11:00:57.949Z"
   },
   {
    "duration": 133,
    "start_time": "2024-03-04T11:01:10.741Z"
   },
   {
    "duration": 132,
    "start_time": "2024-03-04T11:01:19.721Z"
   },
   {
    "duration": 131,
    "start_time": "2024-03-04T11:01:24.309Z"
   },
   {
    "duration": 131,
    "start_time": "2024-03-04T11:01:28.930Z"
   },
   {
    "duration": 132,
    "start_time": "2024-03-04T11:01:32.809Z"
   },
   {
    "duration": 134,
    "start_time": "2024-03-04T11:01:36.469Z"
   },
   {
    "duration": 286,
    "start_time": "2024-03-04T11:01:41.177Z"
   },
   {
    "duration": 139,
    "start_time": "2024-03-04T11:01:47.861Z"
   },
   {
    "duration": 137,
    "start_time": "2024-03-04T11:02:07.266Z"
   },
   {
    "duration": 133,
    "start_time": "2024-03-04T11:08:03.564Z"
   },
   {
    "duration": 125,
    "start_time": "2024-03-04T11:08:11.572Z"
   },
   {
    "duration": 146,
    "start_time": "2024-03-04T11:09:30.701Z"
   },
   {
    "duration": 134,
    "start_time": "2024-03-04T11:09:39.512Z"
   },
   {
    "duration": 126,
    "start_time": "2024-03-04T11:10:50.108Z"
   },
   {
    "duration": 124,
    "start_time": "2024-03-04T11:10:53.020Z"
   },
   {
    "duration": 131,
    "start_time": "2024-03-04T11:10:58.432Z"
   },
   {
    "duration": 130,
    "start_time": "2024-03-04T11:12:46.688Z"
   },
   {
    "duration": 149,
    "start_time": "2024-03-04T11:13:35.940Z"
   },
   {
    "duration": 138,
    "start_time": "2024-03-04T11:13:40.272Z"
   },
   {
    "duration": 132,
    "start_time": "2024-03-04T11:13:46.144Z"
   },
   {
    "duration": 137,
    "start_time": "2024-03-04T11:14:10.209Z"
   },
   {
    "duration": 134,
    "start_time": "2024-03-04T11:14:24.919Z"
   },
   {
    "duration": 141,
    "start_time": "2024-03-04T11:14:34.956Z"
   },
   {
    "duration": 133,
    "start_time": "2024-03-04T11:14:46.092Z"
   },
   {
    "duration": 148,
    "start_time": "2024-03-04T11:15:02.672Z"
   },
   {
    "duration": 144,
    "start_time": "2024-03-04T11:15:09.712Z"
   },
   {
    "duration": 150,
    "start_time": "2024-03-04T11:15:22.696Z"
   },
   {
    "duration": 332,
    "start_time": "2024-03-04T11:15:33.860Z"
   },
   {
    "duration": 142,
    "start_time": "2024-03-04T11:16:06.160Z"
   },
   {
    "duration": 135,
    "start_time": "2024-03-04T11:16:24.364Z"
   },
   {
    "duration": 127,
    "start_time": "2024-03-04T11:16:36.076Z"
   },
   {
    "duration": 128,
    "start_time": "2024-03-04T11:16:45.968Z"
   },
   {
    "duration": 125,
    "start_time": "2024-03-04T11:17:11.315Z"
   },
   {
    "duration": 10,
    "start_time": "2024-03-04T11:19:29.320Z"
   },
   {
    "duration": 43,
    "start_time": "2024-03-04T11:20:52.611Z"
   },
   {
    "duration": 43,
    "start_time": "2024-03-04T11:21:10.392Z"
   },
   {
    "duration": 46,
    "start_time": "2024-03-04T11:21:29.484Z"
   },
   {
    "duration": 9,
    "start_time": "2024-03-04T11:21:45.824Z"
   },
   {
    "duration": 126,
    "start_time": "2024-03-04T11:21:47.928Z"
   },
   {
    "duration": 59,
    "start_time": "2024-03-04T11:21:51.503Z"
   },
   {
    "duration": 7,
    "start_time": "2024-03-04T11:22:01.036Z"
   },
   {
    "duration": 22,
    "start_time": "2024-03-04T11:22:12.505Z"
   },
   {
    "duration": 33,
    "start_time": "2024-03-04T11:22:57.628Z"
   },
   {
    "duration": 21,
    "start_time": "2024-03-04T11:23:24.304Z"
   },
   {
    "duration": 316,
    "start_time": "2024-03-04T11:25:23.847Z"
   },
   {
    "duration": 15,
    "start_time": "2024-03-04T11:26:13.640Z"
   },
   {
    "duration": 15,
    "start_time": "2024-03-04T11:26:20.048Z"
   },
   {
    "duration": 15,
    "start_time": "2024-03-04T11:26:33.685Z"
   },
   {
    "duration": 823,
    "start_time": "2024-03-04T11:26:53.044Z"
   },
   {
    "duration": 339,
    "start_time": "2024-03-04T11:26:59.208Z"
   },
   {
    "duration": 1579,
    "start_time": "2024-03-04T11:27:12.968Z"
   },
   {
    "duration": 1864,
    "start_time": "2024-03-04T11:27:20.744Z"
   },
   {
    "duration": 14,
    "start_time": "2024-03-04T11:28:09.656Z"
   },
   {
    "duration": 15,
    "start_time": "2024-03-04T11:28:14.168Z"
   },
   {
    "duration": 149,
    "start_time": "2024-03-04T11:28:28.907Z"
   },
   {
    "duration": 152,
    "start_time": "2024-03-04T11:28:42.303Z"
   },
   {
    "duration": 20,
    "start_time": "2024-03-04T11:29:05.923Z"
   },
   {
    "duration": 149,
    "start_time": "2024-03-04T11:29:15.676Z"
   },
   {
    "duration": 158,
    "start_time": "2024-03-04T11:29:24.660Z"
   },
   {
    "duration": 147,
    "start_time": "2024-03-04T11:29:35.072Z"
   },
   {
    "duration": 12,
    "start_time": "2024-03-04T11:31:24.356Z"
   },
   {
    "duration": 152,
    "start_time": "2024-03-04T11:31:30.484Z"
   },
   {
    "duration": 136,
    "start_time": "2024-03-04T11:31:37.636Z"
   },
   {
    "duration": 133,
    "start_time": "2024-03-04T11:31:41.191Z"
   },
   {
    "duration": 139,
    "start_time": "2024-03-04T12:13:18.321Z"
   },
   {
    "duration": 307,
    "start_time": "2024-03-04T12:13:54.225Z"
   },
   {
    "duration": 151,
    "start_time": "2024-03-04T12:14:16.099Z"
   },
   {
    "duration": 153,
    "start_time": "2024-03-04T12:14:28.189Z"
   },
   {
    "duration": 132,
    "start_time": "2024-03-04T12:14:31.307Z"
   },
   {
    "duration": 144,
    "start_time": "2024-03-04T12:14:36.457Z"
   },
   {
    "duration": 132,
    "start_time": "2024-03-04T12:14:41.249Z"
   },
   {
    "duration": 142,
    "start_time": "2024-03-04T12:14:48.412Z"
   },
   {
    "duration": 165,
    "start_time": "2024-03-04T12:14:51.216Z"
   },
   {
    "duration": 147,
    "start_time": "2024-03-04T12:15:05.489Z"
   },
   {
    "duration": 240,
    "start_time": "2024-03-04T12:15:58.773Z"
   },
   {
    "duration": 143,
    "start_time": "2024-03-04T12:18:40.557Z"
   },
   {
    "duration": 132,
    "start_time": "2024-03-04T12:18:51.018Z"
   },
   {
    "duration": 173,
    "start_time": "2024-03-04T12:19:11.521Z"
   },
   {
    "duration": 177,
    "start_time": "2024-03-04T12:19:17.524Z"
   },
   {
    "duration": 159,
    "start_time": "2024-03-04T12:19:21.353Z"
   },
   {
    "duration": 150,
    "start_time": "2024-03-04T12:19:38.501Z"
   },
   {
    "duration": 166,
    "start_time": "2024-03-04T12:19:47.416Z"
   },
   {
    "duration": 2766,
    "start_time": "2024-03-04T12:34:13.049Z"
   },
   {
    "duration": 2652,
    "start_time": "2024-03-04T12:34:15.818Z"
   },
   {
    "duration": 2583,
    "start_time": "2024-03-04T12:34:18.472Z"
   },
   {
    "duration": 84,
    "start_time": "2024-03-04T12:34:21.057Z"
   },
   {
    "duration": 17,
    "start_time": "2024-03-04T12:34:21.142Z"
   },
   {
    "duration": 25,
    "start_time": "2024-03-04T12:34:21.161Z"
   },
   {
    "duration": 23,
    "start_time": "2024-03-04T12:34:21.187Z"
   },
   {
    "duration": 24,
    "start_time": "2024-03-04T12:34:21.212Z"
   },
   {
    "duration": 50,
    "start_time": "2024-03-04T12:34:21.238Z"
   },
   {
    "duration": 4,
    "start_time": "2024-03-04T12:34:21.291Z"
   },
   {
    "duration": 12,
    "start_time": "2024-03-04T12:34:21.297Z"
   },
   {
    "duration": 8,
    "start_time": "2024-03-04T12:34:21.310Z"
   },
   {
    "duration": 17,
    "start_time": "2024-03-04T12:34:21.320Z"
   },
   {
    "duration": 14,
    "start_time": "2024-03-04T12:34:21.339Z"
   },
   {
    "duration": 7,
    "start_time": "2024-03-04T12:34:21.355Z"
   },
   {
    "duration": 22,
    "start_time": "2024-03-04T12:34:21.363Z"
   },
   {
    "duration": 30,
    "start_time": "2024-03-04T12:34:21.387Z"
   },
   {
    "duration": 26,
    "start_time": "2024-03-04T12:34:21.418Z"
   },
   {
    "duration": 20,
    "start_time": "2024-03-04T12:34:21.446Z"
   },
   {
    "duration": 190,
    "start_time": "2024-03-04T12:34:21.468Z"
   },
   {
    "duration": 121,
    "start_time": "2024-03-04T12:34:21.659Z"
   },
   {
    "duration": 180,
    "start_time": "2024-03-04T12:34:21.782Z"
   },
   {
    "duration": 135,
    "start_time": "2024-03-04T12:34:21.964Z"
   },
   {
    "duration": 11,
    "start_time": "2024-03-04T12:34:22.101Z"
   },
   {
    "duration": 186,
    "start_time": "2024-03-04T12:34:22.124Z"
   },
   {
    "duration": 101,
    "start_time": "2024-03-04T12:34:22.311Z"
   },
   {
    "duration": 201,
    "start_time": "2024-03-04T12:34:22.422Z"
   },
   {
    "duration": 113,
    "start_time": "2024-03-04T12:34:22.627Z"
   },
   {
    "duration": 166,
    "start_time": "2024-03-04T12:34:22.742Z"
   },
   {
    "duration": 115,
    "start_time": "2024-03-04T12:34:22.910Z"
   },
   {
    "duration": 165,
    "start_time": "2024-03-04T12:34:23.027Z"
   },
   {
    "duration": 120,
    "start_time": "2024-03-04T12:34:23.193Z"
   },
   {
    "duration": 166,
    "start_time": "2024-03-04T12:34:23.315Z"
   },
   {
    "duration": 111,
    "start_time": "2024-03-04T12:34:23.482Z"
   },
   {
    "duration": 330,
    "start_time": "2024-03-04T12:34:23.595Z"
   },
   {
    "duration": 114,
    "start_time": "2024-03-04T12:34:23.926Z"
   },
   {
    "duration": 189,
    "start_time": "2024-03-04T12:34:24.042Z"
   },
   {
    "duration": 127,
    "start_time": "2024-03-04T12:34:24.232Z"
   },
   {
    "duration": 5,
    "start_time": "2024-03-04T12:34:24.361Z"
   },
   {
    "duration": 174,
    "start_time": "2024-03-04T12:34:24.368Z"
   },
   {
    "duration": 124,
    "start_time": "2024-03-04T12:34:24.544Z"
   },
   {
    "duration": 167,
    "start_time": "2024-03-04T12:34:24.670Z"
   },
   {
    "duration": 138,
    "start_time": "2024-03-04T12:34:24.839Z"
   },
   {
    "duration": 18,
    "start_time": "2024-03-04T12:34:24.979Z"
   },
   {
    "duration": 37,
    "start_time": "2024-03-04T12:34:24.999Z"
   },
   {
    "duration": 15,
    "start_time": "2024-03-04T12:34:25.038Z"
   },
   {
    "duration": 28,
    "start_time": "2024-03-04T12:34:25.055Z"
   },
   {
    "duration": 52,
    "start_time": "2024-03-04T12:34:25.085Z"
   },
   {
    "duration": 5758,
    "start_time": "2024-03-04T12:34:25.138Z"
   },
   {
    "duration": 2986,
    "start_time": "2024-03-04T12:34:30.897Z"
   },
   {
    "duration": 4167,
    "start_time": "2024-03-04T12:34:33.884Z"
   },
   {
    "duration": 4,
    "start_time": "2024-03-04T12:34:38.053Z"
   },
   {
    "duration": 22,
    "start_time": "2024-03-04T12:34:38.059Z"
   },
   {
    "duration": 22,
    "start_time": "2024-03-04T12:34:38.082Z"
   },
   {
    "duration": 18,
    "start_time": "2024-03-04T12:34:38.106Z"
   },
   {
    "duration": 13,
    "start_time": "2024-03-04T12:34:38.126Z"
   },
   {
    "duration": 34,
    "start_time": "2024-03-04T12:34:38.141Z"
   },
   {
    "duration": 11,
    "start_time": "2024-03-04T12:34:38.177Z"
   },
   {
    "duration": 4734,
    "start_time": "2024-03-04T12:34:38.191Z"
   },
   {
    "duration": 23,
    "start_time": "2024-03-04T12:34:42.927Z"
   },
   {
    "duration": 22,
    "start_time": "2024-03-04T12:34:42.952Z"
   },
   {
    "duration": 4,
    "start_time": "2024-03-04T12:34:42.975Z"
   },
   {
    "duration": 58,
    "start_time": "2024-03-04T12:34:42.980Z"
   },
   {
    "duration": 3,
    "start_time": "2024-03-04T12:34:43.040Z"
   },
   {
    "duration": 17,
    "start_time": "2024-03-04T12:34:43.044Z"
   },
   {
    "duration": 41,
    "start_time": "2024-03-04T12:34:43.063Z"
   },
   {
    "duration": 176,
    "start_time": "2024-03-04T12:34:43.106Z"
   },
   {
    "duration": 0,
    "start_time": "2024-03-04T12:34:43.283Z"
   },
   {
    "duration": 0,
    "start_time": "2024-03-04T12:34:43.284Z"
   },
   {
    "duration": 0,
    "start_time": "2024-03-04T12:34:43.286Z"
   },
   {
    "duration": 0,
    "start_time": "2024-03-04T12:34:43.287Z"
   },
   {
    "duration": 0,
    "start_time": "2024-03-04T12:34:43.288Z"
   },
   {
    "duration": 0,
    "start_time": "2024-03-04T12:34:43.289Z"
   },
   {
    "duration": 0,
    "start_time": "2024-03-04T12:34:43.291Z"
   },
   {
    "duration": 0,
    "start_time": "2024-03-04T12:34:43.292Z"
   },
   {
    "duration": 0,
    "start_time": "2024-03-04T12:34:43.293Z"
   },
   {
    "duration": 0,
    "start_time": "2024-03-04T12:34:43.294Z"
   },
   {
    "duration": 0,
    "start_time": "2024-03-04T12:34:43.295Z"
   },
   {
    "duration": 15,
    "start_time": "2024-03-04T12:36:16.913Z"
   },
   {
    "duration": 16,
    "start_time": "2024-03-04T12:36:22.022Z"
   },
   {
    "duration": 4,
    "start_time": "2024-03-04T12:36:30.677Z"
   },
   {
    "duration": 3,
    "start_time": "2024-03-04T12:36:59.599Z"
   },
   {
    "duration": 15,
    "start_time": "2024-03-04T12:37:04.849Z"
   },
   {
    "duration": 8,
    "start_time": "2024-03-04T12:38:50.093Z"
   },
   {
    "duration": 152,
    "start_time": "2024-03-04T12:38:50.292Z"
   },
   {
    "duration": 123,
    "start_time": "2024-03-04T12:38:50.485Z"
   },
   {
    "duration": 22,
    "start_time": "2024-03-04T12:38:50.852Z"
   },
   {
    "duration": 159,
    "start_time": "2024-03-04T12:38:51.088Z"
   },
   {
    "duration": 130,
    "start_time": "2024-03-04T12:38:51.268Z"
   },
   {
    "duration": 153,
    "start_time": "2024-03-04T12:38:51.433Z"
   },
   {
    "duration": 179,
    "start_time": "2024-03-04T12:38:51.596Z"
   },
   {
    "duration": 294,
    "start_time": "2024-03-04T12:38:52.304Z"
   },
   {
    "duration": 173,
    "start_time": "2024-03-04T12:38:52.706Z"
   },
   {
    "duration": 180,
    "start_time": "2024-03-04T12:38:53.057Z"
   },
   {
    "duration": 2395,
    "start_time": "2024-03-05T06:51:40.337Z"
   },
   {
    "duration": 2343,
    "start_time": "2024-03-05T06:51:42.734Z"
   },
   {
    "duration": 6767,
    "start_time": "2024-03-05T06:51:45.080Z"
   },
   {
    "duration": 246,
    "start_time": "2024-03-05T06:51:51.849Z"
   },
   {
    "duration": 22,
    "start_time": "2024-03-05T06:51:52.097Z"
   },
   {
    "duration": 17,
    "start_time": "2024-03-05T06:51:52.121Z"
   },
   {
    "duration": 19,
    "start_time": "2024-03-05T06:51:52.140Z"
   },
   {
    "duration": 11,
    "start_time": "2024-03-05T06:51:52.161Z"
   },
   {
    "duration": 32,
    "start_time": "2024-03-05T06:51:52.174Z"
   },
   {
    "duration": 5,
    "start_time": "2024-03-05T06:51:52.207Z"
   },
   {
    "duration": 13,
    "start_time": "2024-03-05T06:51:52.213Z"
   },
   {
    "duration": 13,
    "start_time": "2024-03-05T06:51:52.228Z"
   },
   {
    "duration": 24,
    "start_time": "2024-03-05T06:51:52.243Z"
   },
   {
    "duration": 6,
    "start_time": "2024-03-05T06:51:52.270Z"
   },
   {
    "duration": 21,
    "start_time": "2024-03-05T06:51:52.278Z"
   },
   {
    "duration": 7,
    "start_time": "2024-03-05T06:51:52.301Z"
   },
   {
    "duration": 19,
    "start_time": "2024-03-05T06:51:52.310Z"
   },
   {
    "duration": 14,
    "start_time": "2024-03-05T06:51:52.331Z"
   },
   {
    "duration": 18,
    "start_time": "2024-03-05T06:51:52.347Z"
   },
   {
    "duration": 204,
    "start_time": "2024-03-05T06:51:52.367Z"
   },
   {
    "duration": 99,
    "start_time": "2024-03-05T06:51:52.572Z"
   },
   {
    "duration": 161,
    "start_time": "2024-03-05T06:51:52.673Z"
   },
   {
    "duration": 112,
    "start_time": "2024-03-05T06:51:52.836Z"
   },
   {
    "duration": 21,
    "start_time": "2024-03-05T06:51:52.950Z"
   },
   {
    "duration": 180,
    "start_time": "2024-03-05T06:51:52.972Z"
   },
   {
    "duration": 105,
    "start_time": "2024-03-05T06:51:53.154Z"
   },
   {
    "duration": 188,
    "start_time": "2024-03-05T06:51:53.260Z"
   },
   {
    "duration": 105,
    "start_time": "2024-03-05T06:51:53.450Z"
   },
   {
    "duration": 151,
    "start_time": "2024-03-05T06:51:53.556Z"
   },
   {
    "duration": 108,
    "start_time": "2024-03-05T06:51:53.708Z"
   },
   {
    "duration": 150,
    "start_time": "2024-03-05T06:51:53.817Z"
   },
   {
    "duration": 99,
    "start_time": "2024-03-05T06:51:53.968Z"
   },
   {
    "duration": 129,
    "start_time": "2024-03-05T06:51:54.068Z"
   },
   {
    "duration": 89,
    "start_time": "2024-03-05T06:51:54.199Z"
   },
   {
    "duration": 158,
    "start_time": "2024-03-05T06:51:54.290Z"
   },
   {
    "duration": 247,
    "start_time": "2024-03-05T06:51:54.450Z"
   },
   {
    "duration": 171,
    "start_time": "2024-03-05T06:51:54.699Z"
   },
   {
    "duration": 120,
    "start_time": "2024-03-05T06:51:54.872Z"
   },
   {
    "duration": 6,
    "start_time": "2024-03-05T06:51:54.994Z"
   },
   {
    "duration": 157,
    "start_time": "2024-03-05T06:51:55.002Z"
   },
   {
    "duration": 119,
    "start_time": "2024-03-05T06:51:55.167Z"
   },
   {
    "duration": 139,
    "start_time": "2024-03-05T06:51:55.288Z"
   },
   {
    "duration": 103,
    "start_time": "2024-03-05T06:51:55.429Z"
   },
   {
    "duration": 17,
    "start_time": "2024-03-05T06:51:55.534Z"
   },
   {
    "duration": 31,
    "start_time": "2024-03-05T06:51:55.552Z"
   },
   {
    "duration": 13,
    "start_time": "2024-03-05T06:51:55.584Z"
   },
   {
    "duration": 33,
    "start_time": "2024-03-05T06:51:55.598Z"
   },
   {
    "duration": 34,
    "start_time": "2024-03-05T06:51:55.634Z"
   },
   {
    "duration": 5228,
    "start_time": "2024-03-05T06:51:55.669Z"
   },
   {
    "duration": 2671,
    "start_time": "2024-03-05T06:52:00.898Z"
   },
   {
    "duration": 3717,
    "start_time": "2024-03-05T06:52:03.571Z"
   },
   {
    "duration": 3,
    "start_time": "2024-03-05T06:52:07.290Z"
   },
   {
    "duration": 15,
    "start_time": "2024-03-05T06:52:07.294Z"
   },
   {
    "duration": 15,
    "start_time": "2024-03-05T06:52:07.310Z"
   },
   {
    "duration": 4,
    "start_time": "2024-03-05T06:52:07.327Z"
   },
   {
    "duration": 5,
    "start_time": "2024-03-05T06:52:07.333Z"
   },
   {
    "duration": 3,
    "start_time": "2024-03-05T06:52:07.365Z"
   },
   {
    "duration": 13,
    "start_time": "2024-03-05T06:52:07.370Z"
   },
   {
    "duration": 4257,
    "start_time": "2024-03-05T06:52:07.385Z"
   },
   {
    "duration": 30,
    "start_time": "2024-03-05T06:52:11.643Z"
   },
   {
    "duration": 20,
    "start_time": "2024-03-05T06:52:11.674Z"
   },
   {
    "duration": 3,
    "start_time": "2024-03-05T06:52:11.695Z"
   },
   {
    "duration": 30,
    "start_time": "2024-03-05T06:52:11.699Z"
   },
   {
    "duration": 3,
    "start_time": "2024-03-05T06:52:11.730Z"
   },
   {
    "duration": 7,
    "start_time": "2024-03-05T06:52:11.734Z"
   },
   {
    "duration": 43,
    "start_time": "2024-03-05T06:52:11.742Z"
   },
   {
    "duration": 9,
    "start_time": "2024-03-05T06:52:11.786Z"
   },
   {
    "duration": 8,
    "start_time": "2024-03-05T06:52:11.796Z"
   },
   {
    "duration": 170,
    "start_time": "2024-03-05T06:52:11.805Z"
   },
   {
    "duration": 13,
    "start_time": "2024-03-05T06:58:58.636Z"
   },
   {
    "duration": 12,
    "start_time": "2024-03-05T06:59:14.885Z"
   },
   {
    "duration": 74,
    "start_time": "2024-03-05T07:01:13.724Z"
   },
   {
    "duration": 11,
    "start_time": "2024-03-05T07:01:43.325Z"
   },
   {
    "duration": 28,
    "start_time": "2024-03-05T07:01:53.186Z"
   },
   {
    "duration": 4,
    "start_time": "2024-03-05T07:02:07.925Z"
   },
   {
    "duration": 13,
    "start_time": "2024-03-05T07:02:08.005Z"
   },
   {
    "duration": 15,
    "start_time": "2024-03-05T07:02:36.704Z"
   },
   {
    "duration": 2,
    "start_time": "2024-03-05T07:02:42.385Z"
   },
   {
    "duration": 13,
    "start_time": "2024-03-05T07:02:43.183Z"
   },
   {
    "duration": 13,
    "start_time": "2024-03-05T07:03:25.984Z"
   },
   {
    "duration": 14,
    "start_time": "2024-03-05T07:03:46.864Z"
   },
   {
    "duration": 12,
    "start_time": "2024-03-05T07:04:02.545Z"
   },
   {
    "duration": 12,
    "start_time": "2024-03-05T07:06:42.668Z"
   },
   {
    "duration": 14,
    "start_time": "2024-03-05T07:06:49.684Z"
   },
   {
    "duration": 19,
    "start_time": "2024-03-05T07:07:21.744Z"
   },
   {
    "duration": 40218,
    "start_time": "2024-03-05T07:07:50.865Z"
   },
   {
    "duration": 14,
    "start_time": "2024-03-05T07:08:39.219Z"
   },
   {
    "duration": 2421,
    "start_time": "2024-03-05T07:09:25.832Z"
   },
   {
    "duration": 2363,
    "start_time": "2024-03-05T07:09:28.255Z"
   },
   {
    "duration": 4241,
    "start_time": "2024-03-05T07:09:30.620Z"
   },
   {
    "duration": 84,
    "start_time": "2024-03-05T07:09:34.864Z"
   },
   {
    "duration": 15,
    "start_time": "2024-03-05T07:09:34.949Z"
   },
   {
    "duration": 41,
    "start_time": "2024-03-05T07:09:34.965Z"
   },
   {
    "duration": 64,
    "start_time": "2024-03-05T07:09:35.008Z"
   },
   {
    "duration": 43,
    "start_time": "2024-03-05T07:09:35.074Z"
   },
   {
    "duration": 77,
    "start_time": "2024-03-05T07:09:35.119Z"
   },
   {
    "duration": 23,
    "start_time": "2024-03-05T07:09:35.197Z"
   },
   {
    "duration": 49,
    "start_time": "2024-03-05T07:09:35.222Z"
   },
   {
    "duration": 30,
    "start_time": "2024-03-05T07:09:35.273Z"
   },
   {
    "duration": 39,
    "start_time": "2024-03-05T07:09:35.306Z"
   },
   {
    "duration": 29,
    "start_time": "2024-03-05T07:09:35.347Z"
   },
   {
    "duration": 27,
    "start_time": "2024-03-05T07:09:35.378Z"
   },
   {
    "duration": 52,
    "start_time": "2024-03-05T07:09:35.407Z"
   },
   {
    "duration": 42,
    "start_time": "2024-03-05T07:09:35.461Z"
   },
   {
    "duration": 46,
    "start_time": "2024-03-05T07:09:35.505Z"
   },
   {
    "duration": 32,
    "start_time": "2024-03-05T07:09:35.553Z"
   },
   {
    "duration": 166,
    "start_time": "2024-03-05T07:09:35.587Z"
   },
   {
    "duration": 95,
    "start_time": "2024-03-05T07:09:35.755Z"
   },
   {
    "duration": 186,
    "start_time": "2024-03-05T07:09:35.851Z"
   },
   {
    "duration": 120,
    "start_time": "2024-03-05T07:09:36.038Z"
   },
   {
    "duration": 14,
    "start_time": "2024-03-05T07:09:36.159Z"
   },
   {
    "duration": 174,
    "start_time": "2024-03-05T07:09:36.175Z"
   },
   {
    "duration": 97,
    "start_time": "2024-03-05T07:09:36.351Z"
   },
   {
    "duration": 222,
    "start_time": "2024-03-05T07:09:36.450Z"
   },
   {
    "duration": 102,
    "start_time": "2024-03-05T07:09:36.674Z"
   },
   {
    "duration": 149,
    "start_time": "2024-03-05T07:09:36.777Z"
   },
   {
    "duration": 98,
    "start_time": "2024-03-05T07:09:36.927Z"
   },
   {
    "duration": 142,
    "start_time": "2024-03-05T07:09:37.027Z"
   },
   {
    "duration": 98,
    "start_time": "2024-03-05T07:09:37.171Z"
   },
   {
    "duration": 137,
    "start_time": "2024-03-05T07:09:37.270Z"
   },
   {
    "duration": 96,
    "start_time": "2024-03-05T07:09:37.409Z"
   },
   {
    "duration": 169,
    "start_time": "2024-03-05T07:09:37.507Z"
   },
   {
    "duration": 240,
    "start_time": "2024-03-05T07:09:37.677Z"
   },
   {
    "duration": 160,
    "start_time": "2024-03-05T07:09:37.919Z"
   },
   {
    "duration": 112,
    "start_time": "2024-03-05T07:09:38.081Z"
   },
   {
    "duration": 5,
    "start_time": "2024-03-05T07:09:38.194Z"
   },
   {
    "duration": 144,
    "start_time": "2024-03-05T07:09:38.203Z"
   },
   {
    "duration": 105,
    "start_time": "2024-03-05T07:09:38.349Z"
   },
   {
    "duration": 132,
    "start_time": "2024-03-05T07:09:38.455Z"
   },
   {
    "duration": 105,
    "start_time": "2024-03-05T07:09:38.588Z"
   },
   {
    "duration": 16,
    "start_time": "2024-03-05T07:09:38.695Z"
   },
   {
    "duration": 31,
    "start_time": "2024-03-05T07:09:38.713Z"
   },
   {
    "duration": 29,
    "start_time": "2024-03-05T07:09:38.746Z"
   },
   {
    "duration": 24,
    "start_time": "2024-03-05T07:09:38.777Z"
   },
   {
    "duration": 19,
    "start_time": "2024-03-05T07:09:38.803Z"
   },
   {
    "duration": 5162,
    "start_time": "2024-03-05T07:09:38.823Z"
   },
   {
    "duration": 2680,
    "start_time": "2024-03-05T07:09:43.987Z"
   },
   {
    "duration": 3646,
    "start_time": "2024-03-05T07:09:46.668Z"
   },
   {
    "duration": 3,
    "start_time": "2024-03-05T07:09:50.315Z"
   },
   {
    "duration": 36,
    "start_time": "2024-03-05T07:09:50.320Z"
   },
   {
    "duration": 20,
    "start_time": "2024-03-05T07:09:50.358Z"
   },
   {
    "duration": 9,
    "start_time": "2024-03-05T07:09:50.380Z"
   },
   {
    "duration": 13,
    "start_time": "2024-03-05T07:09:50.391Z"
   },
   {
    "duration": 43,
    "start_time": "2024-03-05T07:09:50.405Z"
   },
   {
    "duration": 23,
    "start_time": "2024-03-05T07:09:50.449Z"
   },
   {
    "duration": 4179,
    "start_time": "2024-03-05T07:09:50.474Z"
   },
   {
    "duration": 21,
    "start_time": "2024-03-05T07:09:54.657Z"
   },
   {
    "duration": 20,
    "start_time": "2024-03-05T07:09:54.680Z"
   },
   {
    "duration": 3,
    "start_time": "2024-03-05T07:09:54.702Z"
   },
   {
    "duration": 27,
    "start_time": "2024-03-05T07:09:54.707Z"
   },
   {
    "duration": 33,
    "start_time": "2024-03-05T07:09:54.736Z"
   },
   {
    "duration": 6,
    "start_time": "2024-03-05T07:09:54.770Z"
   },
   {
    "duration": 36,
    "start_time": "2024-03-05T07:09:54.778Z"
   },
   {
    "duration": 170,
    "start_time": "2024-03-05T07:09:54.816Z"
   },
   {
    "duration": 29,
    "start_time": "2024-03-05T08:32:35.744Z"
   },
   {
    "duration": 20,
    "start_time": "2024-03-05T08:32:52.931Z"
   },
   {
    "duration": 20,
    "start_time": "2024-03-05T08:34:33.291Z"
   },
   {
    "duration": 2761,
    "start_time": "2024-03-05T08:34:40.128Z"
   },
   {
    "duration": 2668,
    "start_time": "2024-03-05T08:34:42.892Z"
   },
   {
    "duration": 2706,
    "start_time": "2024-03-05T08:34:45.562Z"
   },
   {
    "duration": 85,
    "start_time": "2024-03-05T08:34:48.270Z"
   },
   {
    "duration": 18,
    "start_time": "2024-03-05T08:34:48.357Z"
   },
   {
    "duration": 12,
    "start_time": "2024-03-05T08:34:48.377Z"
   },
   {
    "duration": 16,
    "start_time": "2024-03-05T08:34:48.390Z"
   },
   {
    "duration": 16,
    "start_time": "2024-03-05T08:34:48.408Z"
   },
   {
    "duration": 44,
    "start_time": "2024-03-05T08:34:48.425Z"
   },
   {
    "duration": 4,
    "start_time": "2024-03-05T08:34:48.471Z"
   },
   {
    "duration": 35,
    "start_time": "2024-03-05T08:34:48.477Z"
   },
   {
    "duration": 39,
    "start_time": "2024-03-05T08:34:48.514Z"
   },
   {
    "duration": 28,
    "start_time": "2024-03-05T08:34:48.554Z"
   },
   {
    "duration": 14,
    "start_time": "2024-03-05T08:34:48.587Z"
   },
   {
    "duration": 28,
    "start_time": "2024-03-05T08:34:48.603Z"
   },
   {
    "duration": 18,
    "start_time": "2024-03-05T08:34:48.633Z"
   },
   {
    "duration": 34,
    "start_time": "2024-03-05T08:34:48.653Z"
   },
   {
    "duration": 19,
    "start_time": "2024-03-05T08:34:48.688Z"
   },
   {
    "duration": 30,
    "start_time": "2024-03-05T08:34:48.709Z"
   },
   {
    "duration": 225,
    "start_time": "2024-03-05T08:34:48.741Z"
   },
   {
    "duration": 118,
    "start_time": "2024-03-05T08:34:48.968Z"
   },
   {
    "duration": 194,
    "start_time": "2024-03-05T08:34:49.088Z"
   },
   {
    "duration": 139,
    "start_time": "2024-03-05T08:34:49.284Z"
   },
   {
    "duration": 14,
    "start_time": "2024-03-05T08:34:49.425Z"
   },
   {
    "duration": 221,
    "start_time": "2024-03-05T08:34:49.441Z"
   },
   {
    "duration": 107,
    "start_time": "2024-03-05T08:34:49.664Z"
   },
   {
    "duration": 205,
    "start_time": "2024-03-05T08:34:49.772Z"
   },
   {
    "duration": 118,
    "start_time": "2024-03-05T08:34:49.979Z"
   },
   {
    "duration": 172,
    "start_time": "2024-03-05T08:34:50.099Z"
   },
   {
    "duration": 114,
    "start_time": "2024-03-05T08:34:50.273Z"
   },
   {
    "duration": 166,
    "start_time": "2024-03-05T08:34:50.389Z"
   },
   {
    "duration": 128,
    "start_time": "2024-03-05T08:34:50.557Z"
   },
   {
    "duration": 166,
    "start_time": "2024-03-05T08:34:50.687Z"
   },
   {
    "duration": 107,
    "start_time": "2024-03-05T08:34:50.856Z"
   },
   {
    "duration": 197,
    "start_time": "2024-03-05T08:34:50.965Z"
   },
   {
    "duration": 271,
    "start_time": "2024-03-05T08:34:51.164Z"
   },
   {
    "duration": 198,
    "start_time": "2024-03-05T08:34:51.436Z"
   },
   {
    "duration": 125,
    "start_time": "2024-03-05T08:34:51.636Z"
   },
   {
    "duration": 6,
    "start_time": "2024-03-05T08:34:51.763Z"
   },
   {
    "duration": 176,
    "start_time": "2024-03-05T08:34:51.771Z"
   },
   {
    "duration": 129,
    "start_time": "2024-03-05T08:34:51.953Z"
   },
   {
    "duration": 168,
    "start_time": "2024-03-05T08:34:52.084Z"
   },
   {
    "duration": 120,
    "start_time": "2024-03-05T08:34:52.253Z"
   },
   {
    "duration": 19,
    "start_time": "2024-03-05T08:34:52.376Z"
   },
   {
    "duration": 40,
    "start_time": "2024-03-05T08:34:52.397Z"
   },
   {
    "duration": 14,
    "start_time": "2024-03-05T08:34:52.438Z"
   },
   {
    "duration": 42,
    "start_time": "2024-03-05T08:34:52.454Z"
   },
   {
    "duration": 32,
    "start_time": "2024-03-05T08:34:52.498Z"
   },
   {
    "duration": 6082,
    "start_time": "2024-03-05T08:34:52.531Z"
   },
   {
    "duration": 3102,
    "start_time": "2024-03-05T08:34:58.615Z"
   },
   {
    "duration": 4190,
    "start_time": "2024-03-05T08:35:01.718Z"
   },
   {
    "duration": 13,
    "start_time": "2024-03-05T08:35:05.910Z"
   },
   {
    "duration": 19,
    "start_time": "2024-03-05T08:35:05.925Z"
   },
   {
    "duration": 18,
    "start_time": "2024-03-05T08:35:05.945Z"
   },
   {
    "duration": 4,
    "start_time": "2024-03-05T08:35:05.965Z"
   },
   {
    "duration": 8,
    "start_time": "2024-03-05T08:35:05.970Z"
   },
   {
    "duration": 9,
    "start_time": "2024-03-05T08:35:05.980Z"
   },
   {
    "duration": 12,
    "start_time": "2024-03-05T08:35:05.990Z"
   },
   {
    "duration": 5099,
    "start_time": "2024-03-05T08:35:06.004Z"
   },
   {
    "duration": 32,
    "start_time": "2024-03-05T08:35:11.105Z"
   },
   {
    "duration": 23,
    "start_time": "2024-03-05T08:35:11.138Z"
   },
   {
    "duration": 7,
    "start_time": "2024-03-05T08:35:11.163Z"
   },
   {
    "duration": 192,
    "start_time": "2024-03-05T08:35:11.172Z"
   },
   {
    "duration": 0,
    "start_time": "2024-03-05T08:35:11.365Z"
   },
   {
    "duration": 0,
    "start_time": "2024-03-05T08:35:11.367Z"
   },
   {
    "duration": 0,
    "start_time": "2024-03-05T08:35:11.368Z"
   },
   {
    "duration": 0,
    "start_time": "2024-03-05T08:35:11.369Z"
   },
   {
    "duration": 0,
    "start_time": "2024-03-05T08:35:11.370Z"
   },
   {
    "duration": 0,
    "start_time": "2024-03-05T08:35:11.371Z"
   },
   {
    "duration": 0,
    "start_time": "2024-03-05T08:35:11.372Z"
   },
   {
    "duration": 0,
    "start_time": "2024-03-05T08:35:11.373Z"
   },
   {
    "duration": 0,
    "start_time": "2024-03-05T08:35:11.374Z"
   },
   {
    "duration": 0,
    "start_time": "2024-03-05T08:35:11.375Z"
   },
   {
    "duration": 0,
    "start_time": "2024-03-05T08:35:11.376Z"
   },
   {
    "duration": 0,
    "start_time": "2024-03-05T08:35:11.378Z"
   },
   {
    "duration": 0,
    "start_time": "2024-03-05T08:35:11.379Z"
   },
   {
    "duration": 0,
    "start_time": "2024-03-05T08:35:11.380Z"
   },
   {
    "duration": 0,
    "start_time": "2024-03-05T08:35:11.381Z"
   },
   {
    "duration": 27,
    "start_time": "2024-03-05T08:35:45.148Z"
   },
   {
    "duration": 3,
    "start_time": "2024-03-05T08:35:48.568Z"
   },
   {
    "duration": 5,
    "start_time": "2024-03-05T08:35:49.212Z"
   },
   {
    "duration": 26,
    "start_time": "2024-03-05T08:35:49.656Z"
   },
   {
    "duration": 22,
    "start_time": "2024-03-05T08:35:50.548Z"
   },
   {
    "duration": 16,
    "start_time": "2024-03-05T08:36:46.685Z"
   },
   {
    "duration": 20,
    "start_time": "2024-03-05T08:37:03.352Z"
   },
   {
    "duration": 21,
    "start_time": "2024-03-05T08:37:15.576Z"
   },
   {
    "duration": 19,
    "start_time": "2024-03-05T08:37:20.256Z"
   },
   {
    "duration": 12,
    "start_time": "2024-03-05T08:38:33.132Z"
   },
   {
    "duration": 250,
    "start_time": "2024-03-05T08:38:51.693Z"
   },
   {
    "duration": 0,
    "start_time": "2024-03-05T08:39:27.658Z"
   },
   {
    "duration": 13,
    "start_time": "2024-03-05T08:39:36.173Z"
   },
   {
    "duration": 15,
    "start_time": "2024-03-05T08:40:09.833Z"
   },
   {
    "duration": 1198,
    "start_time": "2024-03-05T08:40:17.577Z"
   },
   {
    "duration": 2744,
    "start_time": "2024-03-05T08:40:36.374Z"
   },
   {
    "duration": 5040,
    "start_time": "2024-03-05T08:40:39.120Z"
   },
   {
    "duration": 3346,
    "start_time": "2024-03-05T08:40:44.162Z"
   },
   {
    "duration": 84,
    "start_time": "2024-03-05T08:40:47.511Z"
   },
   {
    "duration": 24,
    "start_time": "2024-03-05T08:40:47.596Z"
   },
   {
    "duration": 20,
    "start_time": "2024-03-05T08:40:47.623Z"
   },
   {
    "duration": 14,
    "start_time": "2024-03-05T08:40:47.645Z"
   },
   {
    "duration": 25,
    "start_time": "2024-03-05T08:40:47.661Z"
   },
   {
    "duration": 53,
    "start_time": "2024-03-05T08:40:47.687Z"
   },
   {
    "duration": 5,
    "start_time": "2024-03-05T08:40:47.744Z"
   },
   {
    "duration": 8,
    "start_time": "2024-03-05T08:40:47.751Z"
   },
   {
    "duration": 11,
    "start_time": "2024-03-05T08:40:47.761Z"
   },
   {
    "duration": 23,
    "start_time": "2024-03-05T08:40:47.774Z"
   },
   {
    "duration": 8,
    "start_time": "2024-03-05T08:40:47.799Z"
   },
   {
    "duration": 19,
    "start_time": "2024-03-05T08:40:47.809Z"
   },
   {
    "duration": 6,
    "start_time": "2024-03-05T08:40:47.830Z"
   },
   {
    "duration": 24,
    "start_time": "2024-03-05T08:40:47.838Z"
   },
   {
    "duration": 13,
    "start_time": "2024-03-05T08:40:47.863Z"
   },
   {
    "duration": 14,
    "start_time": "2024-03-05T08:40:47.877Z"
   },
   {
    "duration": 191,
    "start_time": "2024-03-05T08:40:47.893Z"
   },
   {
    "duration": 118,
    "start_time": "2024-03-05T08:40:48.086Z"
   },
   {
    "duration": 184,
    "start_time": "2024-03-05T08:40:48.206Z"
   },
   {
    "duration": 132,
    "start_time": "2024-03-05T08:40:48.392Z"
   },
   {
    "duration": 12,
    "start_time": "2024-03-05T08:40:48.526Z"
   },
   {
    "duration": 205,
    "start_time": "2024-03-05T08:40:48.539Z"
   },
   {
    "duration": 115,
    "start_time": "2024-03-05T08:40:48.746Z"
   },
   {
    "duration": 228,
    "start_time": "2024-03-05T08:40:48.862Z"
   },
   {
    "duration": 115,
    "start_time": "2024-03-05T08:40:49.096Z"
   },
   {
    "duration": 168,
    "start_time": "2024-03-05T08:40:49.212Z"
   },
   {
    "duration": 113,
    "start_time": "2024-03-05T08:40:49.382Z"
   },
   {
    "duration": 188,
    "start_time": "2024-03-05T08:40:49.498Z"
   },
   {
    "duration": 115,
    "start_time": "2024-03-05T08:40:49.687Z"
   },
   {
    "duration": 153,
    "start_time": "2024-03-05T08:40:49.803Z"
   },
   {
    "duration": 106,
    "start_time": "2024-03-05T08:40:49.957Z"
   },
   {
    "duration": 330,
    "start_time": "2024-03-05T08:40:50.065Z"
   },
   {
    "duration": 120,
    "start_time": "2024-03-05T08:40:50.396Z"
   },
   {
    "duration": 183,
    "start_time": "2024-03-05T08:40:50.523Z"
   },
   {
    "duration": 136,
    "start_time": "2024-03-05T08:40:50.708Z"
   },
   {
    "duration": 6,
    "start_time": "2024-03-05T08:40:50.846Z"
   },
   {
    "duration": 171,
    "start_time": "2024-03-05T08:40:50.853Z"
   },
   {
    "duration": 117,
    "start_time": "2024-03-05T08:40:51.025Z"
   },
   {
    "duration": 151,
    "start_time": "2024-03-05T08:40:51.144Z"
   },
   {
    "duration": 113,
    "start_time": "2024-03-05T08:40:51.297Z"
   },
   {
    "duration": 29,
    "start_time": "2024-03-05T08:40:51.411Z"
   },
   {
    "duration": 21,
    "start_time": "2024-03-05T08:40:51.441Z"
   },
   {
    "duration": 21,
    "start_time": "2024-03-05T08:40:51.463Z"
   },
   {
    "duration": 52,
    "start_time": "2024-03-05T08:40:51.485Z"
   },
   {
    "duration": 28,
    "start_time": "2024-03-05T08:40:51.540Z"
   },
   {
    "duration": 5947,
    "start_time": "2024-03-05T08:40:51.570Z"
   },
   {
    "duration": 3051,
    "start_time": "2024-03-05T08:40:57.523Z"
   },
   {
    "duration": 4173,
    "start_time": "2024-03-05T08:41:00.576Z"
   },
   {
    "duration": 4,
    "start_time": "2024-03-05T08:41:04.751Z"
   },
   {
    "duration": 40,
    "start_time": "2024-03-05T08:41:04.756Z"
   },
   {
    "duration": 36,
    "start_time": "2024-03-05T08:41:04.797Z"
   },
   {
    "duration": 4,
    "start_time": "2024-03-05T08:41:04.835Z"
   },
   {
    "duration": 8,
    "start_time": "2024-03-05T08:41:04.841Z"
   },
   {
    "duration": 5,
    "start_time": "2024-03-05T08:41:04.851Z"
   },
   {
    "duration": 9,
    "start_time": "2024-03-05T08:41:04.858Z"
   },
   {
    "duration": 4812,
    "start_time": "2024-03-05T08:41:04.869Z"
   },
   {
    "duration": 58,
    "start_time": "2024-03-05T08:41:09.683Z"
   },
   {
    "duration": 21,
    "start_time": "2024-03-05T08:41:09.743Z"
   },
   {
    "duration": 5,
    "start_time": "2024-03-05T08:41:09.822Z"
   },
   {
    "duration": 38,
    "start_time": "2024-03-05T08:41:09.830Z"
   },
   {
    "duration": 3,
    "start_time": "2024-03-05T08:41:09.870Z"
   },
   {
    "duration": 35,
    "start_time": "2024-03-05T08:41:09.874Z"
   },
   {
    "duration": 26,
    "start_time": "2024-03-05T08:41:09.923Z"
   },
   {
    "duration": 289,
    "start_time": "2024-03-05T08:41:09.951Z"
   },
   {
    "duration": 0,
    "start_time": "2024-03-05T08:41:10.242Z"
   },
   {
    "duration": 0,
    "start_time": "2024-03-05T08:41:10.243Z"
   },
   {
    "duration": 0,
    "start_time": "2024-03-05T08:41:10.244Z"
   },
   {
    "duration": 0,
    "start_time": "2024-03-05T08:41:10.245Z"
   },
   {
    "duration": 0,
    "start_time": "2024-03-05T08:41:10.247Z"
   },
   {
    "duration": 0,
    "start_time": "2024-03-05T08:41:10.248Z"
   },
   {
    "duration": 0,
    "start_time": "2024-03-05T08:41:10.249Z"
   },
   {
    "duration": 0,
    "start_time": "2024-03-05T08:41:10.250Z"
   },
   {
    "duration": 0,
    "start_time": "2024-03-05T08:41:10.251Z"
   },
   {
    "duration": 0,
    "start_time": "2024-03-05T08:41:10.252Z"
   },
   {
    "duration": 0,
    "start_time": "2024-03-05T08:41:10.254Z"
   },
   {
    "duration": 16,
    "start_time": "2024-03-05T08:41:33.245Z"
   },
   {
    "duration": 19,
    "start_time": "2024-03-05T08:41:43.972Z"
   },
   {
    "duration": 239,
    "start_time": "2024-03-05T08:42:28.013Z"
   },
   {
    "duration": 15551,
    "start_time": "2024-03-05T08:42:28.561Z"
   },
   {
    "duration": 0,
    "start_time": "2024-03-05T08:43:01.081Z"
   },
   {
    "duration": 1249,
    "start_time": "2024-03-05T08:43:06.817Z"
   },
   {
    "duration": 15,
    "start_time": "2024-03-05T08:44:09.742Z"
   },
   {
    "duration": 17,
    "start_time": "2024-03-05T08:45:29.290Z"
   },
   {
    "duration": 6,
    "start_time": "2024-03-05T08:45:51.437Z"
   },
   {
    "duration": 13,
    "start_time": "2024-03-05T08:45:52.605Z"
   },
   {
    "duration": 28,
    "start_time": "2024-03-05T08:45:53.073Z"
   },
   {
    "duration": 21,
    "start_time": "2024-03-05T08:45:56.981Z"
   },
   {
    "duration": 6312,
    "start_time": "2024-03-05T08:45:58.757Z"
   },
   {
    "duration": 3198,
    "start_time": "2024-03-05T08:46:05.071Z"
   },
   {
    "duration": 4358,
    "start_time": "2024-03-05T08:46:08.271Z"
   },
   {
    "duration": 5,
    "start_time": "2024-03-05T08:46:12.632Z"
   },
   {
    "duration": 18,
    "start_time": "2024-03-05T08:46:12.639Z"
   },
   {
    "duration": 25,
    "start_time": "2024-03-05T08:46:12.659Z"
   },
   {
    "duration": 13,
    "start_time": "2024-03-05T08:46:12.686Z"
   },
   {
    "duration": 24,
    "start_time": "2024-03-05T08:46:12.701Z"
   },
   {
    "duration": 7,
    "start_time": "2024-03-05T08:46:12.727Z"
   },
   {
    "duration": 4,
    "start_time": "2024-03-05T08:46:12.738Z"
   },
   {
    "duration": 4884,
    "start_time": "2024-03-05T08:46:12.743Z"
   },
   {
    "duration": 22,
    "start_time": "2024-03-05T08:46:17.629Z"
   },
   {
    "duration": 36,
    "start_time": "2024-03-05T08:46:17.653Z"
   },
   {
    "duration": 22,
    "start_time": "2024-03-05T08:46:17.691Z"
   },
   {
    "duration": 39,
    "start_time": "2024-03-05T08:46:17.715Z"
   },
   {
    "duration": 9,
    "start_time": "2024-03-05T08:46:17.756Z"
   },
   {
    "duration": 16,
    "start_time": "2024-03-05T08:46:17.766Z"
   },
   {
    "duration": 44,
    "start_time": "2024-03-05T08:46:17.784Z"
   },
   {
    "duration": 238,
    "start_time": "2024-03-05T08:46:17.830Z"
   },
   {
    "duration": 1385,
    "start_time": "2024-03-05T08:46:18.070Z"
   },
   {
    "duration": 9,
    "start_time": "2024-03-05T08:46:19.458Z"
   },
   {
    "duration": 173,
    "start_time": "2024-03-05T08:46:19.469Z"
   },
   {
    "duration": 135,
    "start_time": "2024-03-05T08:46:19.644Z"
   },
   {
    "duration": 25,
    "start_time": "2024-03-05T08:46:19.781Z"
   },
   {
    "duration": 156,
    "start_time": "2024-03-05T08:46:19.822Z"
   },
   {
    "duration": 153,
    "start_time": "2024-03-05T08:46:19.980Z"
   },
   {
    "duration": 169,
    "start_time": "2024-03-05T08:46:20.135Z"
   },
   {
    "duration": 149,
    "start_time": "2024-03-05T08:46:20.306Z"
   },
   {
    "duration": 275,
    "start_time": "2024-03-05T08:46:20.457Z"
   },
   {
    "duration": 317,
    "start_time": "2024-03-05T08:46:20.735Z"
   },
   {
    "duration": 198,
    "start_time": "2024-03-05T08:46:21.054Z"
   },
   {
    "duration": 13,
    "start_time": "2024-03-05T08:47:29.138Z"
   },
   {
    "duration": 5,
    "start_time": "2024-03-05T08:48:04.502Z"
   },
   {
    "duration": 4,
    "start_time": "2024-03-05T08:48:10.805Z"
   },
   {
    "duration": 5,
    "start_time": "2024-03-05T08:48:23.226Z"
   },
   {
    "duration": 8,
    "start_time": "2024-03-05T08:48:27.793Z"
   },
   {
    "duration": 6,
    "start_time": "2024-03-05T08:48:32.641Z"
   },
   {
    "duration": 9,
    "start_time": "2024-03-05T08:48:37.013Z"
   },
   {
    "duration": 5,
    "start_time": "2024-03-05T08:48:41.130Z"
   },
   {
    "duration": 4,
    "start_time": "2024-03-05T08:49:29.722Z"
   },
   {
    "duration": 4892,
    "start_time": "2024-03-05T08:49:59.282Z"
   },
   {
    "duration": 213,
    "start_time": "2024-03-05T08:50:27.985Z"
   },
   {
    "duration": 64,
    "start_time": "2024-03-05T08:51:05.370Z"
   },
   {
    "duration": 70,
    "start_time": "2024-03-05T08:53:58.514Z"
   },
   {
    "duration": 2790,
    "start_time": "2024-03-05T08:54:24.721Z"
   },
   {
    "duration": 2684,
    "start_time": "2024-03-05T08:54:27.513Z"
   },
   {
    "duration": 2724,
    "start_time": "2024-03-05T08:54:30.199Z"
   },
   {
    "duration": 92,
    "start_time": "2024-03-05T08:54:32.924Z"
   },
   {
    "duration": 17,
    "start_time": "2024-03-05T08:54:33.019Z"
   },
   {
    "duration": 67,
    "start_time": "2024-03-05T08:54:33.038Z"
   },
   {
    "duration": 29,
    "start_time": "2024-03-05T08:54:33.107Z"
   },
   {
    "duration": 73,
    "start_time": "2024-03-05T08:54:33.137Z"
   },
   {
    "duration": 72,
    "start_time": "2024-03-05T08:54:33.211Z"
   },
   {
    "duration": 5,
    "start_time": "2024-03-05T08:54:33.285Z"
   },
   {
    "duration": 44,
    "start_time": "2024-03-05T08:54:33.292Z"
   },
   {
    "duration": 26,
    "start_time": "2024-03-05T08:54:33.338Z"
   },
   {
    "duration": 26,
    "start_time": "2024-03-05T08:54:33.365Z"
   },
   {
    "duration": 12,
    "start_time": "2024-03-05T08:54:33.394Z"
   },
   {
    "duration": 12,
    "start_time": "2024-03-05T08:54:33.407Z"
   },
   {
    "duration": 10,
    "start_time": "2024-03-05T08:54:33.421Z"
   },
   {
    "duration": 34,
    "start_time": "2024-03-05T08:54:33.433Z"
   },
   {
    "duration": 17,
    "start_time": "2024-03-05T08:54:33.469Z"
   },
   {
    "duration": 24,
    "start_time": "2024-03-05T08:54:33.488Z"
   },
   {
    "duration": 194,
    "start_time": "2024-03-05T08:54:33.514Z"
   },
   {
    "duration": 107,
    "start_time": "2024-03-05T08:54:33.709Z"
   },
   {
    "duration": 177,
    "start_time": "2024-03-05T08:54:33.823Z"
   },
   {
    "duration": 136,
    "start_time": "2024-03-05T08:54:34.001Z"
   },
   {
    "duration": 12,
    "start_time": "2024-03-05T08:54:34.138Z"
   },
   {
    "duration": 199,
    "start_time": "2024-03-05T08:54:34.152Z"
   },
   {
    "duration": 118,
    "start_time": "2024-03-05T08:54:34.353Z"
   },
   {
    "duration": 209,
    "start_time": "2024-03-05T08:54:34.473Z"
   },
   {
    "duration": 111,
    "start_time": "2024-03-05T08:54:34.684Z"
   },
   {
    "duration": 175,
    "start_time": "2024-03-05T08:54:34.797Z"
   },
   {
    "duration": 119,
    "start_time": "2024-03-05T08:54:34.974Z"
   },
   {
    "duration": 164,
    "start_time": "2024-03-05T08:54:35.095Z"
   },
   {
    "duration": 109,
    "start_time": "2024-03-05T08:54:35.261Z"
   },
   {
    "duration": 151,
    "start_time": "2024-03-05T08:54:35.372Z"
   },
   {
    "duration": 109,
    "start_time": "2024-03-05T08:54:35.525Z"
   },
   {
    "duration": 218,
    "start_time": "2024-03-05T08:54:35.636Z"
   },
   {
    "duration": 276,
    "start_time": "2024-03-05T08:54:35.856Z"
   },
   {
    "duration": 180,
    "start_time": "2024-03-05T08:54:36.134Z"
   },
   {
    "duration": 120,
    "start_time": "2024-03-05T08:54:36.315Z"
   },
   {
    "duration": 5,
    "start_time": "2024-03-05T08:54:36.437Z"
   },
   {
    "duration": 173,
    "start_time": "2024-03-05T08:54:36.444Z"
   },
   {
    "duration": 113,
    "start_time": "2024-03-05T08:54:36.623Z"
   },
   {
    "duration": 153,
    "start_time": "2024-03-05T08:54:36.738Z"
   },
   {
    "duration": 117,
    "start_time": "2024-03-05T08:54:36.893Z"
   },
   {
    "duration": 29,
    "start_time": "2024-03-05T08:54:37.012Z"
   },
   {
    "duration": 21,
    "start_time": "2024-03-05T08:54:37.043Z"
   },
   {
    "duration": 7,
    "start_time": "2024-03-05T08:54:37.066Z"
   },
   {
    "duration": 16,
    "start_time": "2024-03-05T08:54:37.076Z"
   },
   {
    "duration": 54,
    "start_time": "2024-03-05T08:54:37.094Z"
   },
   {
    "duration": 24,
    "start_time": "2024-03-05T08:54:37.150Z"
   },
   {
    "duration": 6322,
    "start_time": "2024-03-05T08:54:37.175Z"
   },
   {
    "duration": 3109,
    "start_time": "2024-03-05T08:54:43.498Z"
   },
   {
    "duration": 3952,
    "start_time": "2024-03-05T08:54:46.608Z"
   },
   {
    "duration": 4,
    "start_time": "2024-03-05T08:54:50.561Z"
   },
   {
    "duration": 29,
    "start_time": "2024-03-05T08:54:50.566Z"
   },
   {
    "duration": 49,
    "start_time": "2024-03-05T08:54:50.597Z"
   },
   {
    "duration": 47,
    "start_time": "2024-03-05T08:54:50.648Z"
   },
   {
    "duration": 46,
    "start_time": "2024-03-05T08:54:50.697Z"
   },
   {
    "duration": 34,
    "start_time": "2024-03-05T08:54:50.745Z"
   },
   {
    "duration": 30,
    "start_time": "2024-03-05T08:54:50.781Z"
   },
   {
    "duration": 16,
    "start_time": "2024-03-05T08:54:50.812Z"
   },
   {
    "duration": 4699,
    "start_time": "2024-03-05T08:54:50.830Z"
   },
   {
    "duration": 28,
    "start_time": "2024-03-05T08:54:55.531Z"
   },
   {
    "duration": 24,
    "start_time": "2024-03-05T08:54:55.562Z"
   },
   {
    "duration": 15,
    "start_time": "2024-03-05T08:54:55.588Z"
   },
   {
    "duration": 51,
    "start_time": "2024-03-05T08:54:55.605Z"
   },
   {
    "duration": 6,
    "start_time": "2024-03-05T08:54:55.657Z"
   },
   {
    "duration": 17,
    "start_time": "2024-03-05T08:54:55.665Z"
   },
   {
    "duration": 58,
    "start_time": "2024-03-05T08:54:55.684Z"
   },
   {
    "duration": 209,
    "start_time": "2024-03-05T08:54:55.744Z"
   },
   {
    "duration": 1429,
    "start_time": "2024-03-05T08:54:55.954Z"
   },
   {
    "duration": 9,
    "start_time": "2024-03-05T08:54:57.385Z"
   },
   {
    "duration": 150,
    "start_time": "2024-03-05T08:54:57.396Z"
   },
   {
    "duration": 137,
    "start_time": "2024-03-05T08:54:57.548Z"
   },
   {
    "duration": 21,
    "start_time": "2024-03-05T08:54:57.687Z"
   },
   {
    "duration": 156,
    "start_time": "2024-03-05T08:54:57.722Z"
   },
   {
    "duration": 146,
    "start_time": "2024-03-05T08:54:57.880Z"
   },
   {
    "duration": 165,
    "start_time": "2024-03-05T08:54:58.028Z"
   },
   {
    "duration": 158,
    "start_time": "2024-03-05T08:54:58.195Z"
   },
   {
    "duration": 259,
    "start_time": "2024-03-05T08:54:58.355Z"
   },
   {
    "duration": 142,
    "start_time": "2024-03-05T08:54:58.615Z"
   },
   {
    "duration": 167,
    "start_time": "2024-03-05T08:54:58.758Z"
   },
   {
    "duration": 76,
    "start_time": "2024-03-06T13:36:50.722Z"
   },
   {
    "duration": 1783,
    "start_time": "2024-03-06T13:36:56.604Z"
   },
   {
    "duration": 12,
    "start_time": "2024-03-06T13:37:08.221Z"
   },
   {
    "duration": 4404,
    "start_time": "2024-03-06T13:37:15.125Z"
   },
   {
    "duration": 3148,
    "start_time": "2024-03-06T13:37:19.531Z"
   },
   {
    "duration": 2669,
    "start_time": "2024-03-06T13:37:22.681Z"
   },
   {
    "duration": 246,
    "start_time": "2024-03-06T13:37:25.352Z"
   },
   {
    "duration": 17,
    "start_time": "2024-03-06T13:37:25.600Z"
   },
   {
    "duration": 8,
    "start_time": "2024-03-06T13:37:25.619Z"
   },
   {
    "duration": 12,
    "start_time": "2024-03-06T13:37:25.628Z"
   },
   {
    "duration": 14,
    "start_time": "2024-03-06T13:37:25.642Z"
   },
   {
    "duration": 32,
    "start_time": "2024-03-06T13:37:25.658Z"
   },
   {
    "duration": 5,
    "start_time": "2024-03-06T13:37:25.694Z"
   },
   {
    "duration": 32,
    "start_time": "2024-03-06T13:37:25.700Z"
   },
   {
    "duration": 6,
    "start_time": "2024-03-06T13:37:25.733Z"
   },
   {
    "duration": 17,
    "start_time": "2024-03-06T13:37:25.741Z"
   },
   {
    "duration": 8,
    "start_time": "2024-03-06T13:37:25.760Z"
   },
   {
    "duration": 9,
    "start_time": "2024-03-06T13:37:25.770Z"
   },
   {
    "duration": 10,
    "start_time": "2024-03-06T13:37:25.781Z"
   },
   {
    "duration": 30,
    "start_time": "2024-03-06T13:37:25.792Z"
   },
   {
    "duration": 17,
    "start_time": "2024-03-06T13:37:25.823Z"
   },
   {
    "duration": 15,
    "start_time": "2024-03-06T13:37:25.841Z"
   },
   {
    "duration": 192,
    "start_time": "2024-03-06T13:37:25.858Z"
   },
   {
    "duration": 103,
    "start_time": "2024-03-06T13:37:26.051Z"
   },
   {
    "duration": 178,
    "start_time": "2024-03-06T13:37:26.155Z"
   },
   {
    "duration": 125,
    "start_time": "2024-03-06T13:37:26.334Z"
   },
   {
    "duration": 11,
    "start_time": "2024-03-06T13:37:26.460Z"
   },
   {
    "duration": 187,
    "start_time": "2024-03-06T13:37:26.473Z"
   },
   {
    "duration": 104,
    "start_time": "2024-03-06T13:37:26.661Z"
   },
   {
    "duration": 195,
    "start_time": "2024-03-06T13:37:26.766Z"
   },
   {
    "duration": 114,
    "start_time": "2024-03-06T13:37:26.965Z"
   },
   {
    "duration": 158,
    "start_time": "2024-03-06T13:37:27.081Z"
   },
   {
    "duration": 107,
    "start_time": "2024-03-06T13:37:27.241Z"
   },
   {
    "duration": 178,
    "start_time": "2024-03-06T13:37:27.350Z"
   },
   {
    "duration": 117,
    "start_time": "2024-03-06T13:37:27.530Z"
   },
   {
    "duration": 152,
    "start_time": "2024-03-06T13:37:27.649Z"
   },
   {
    "duration": 118,
    "start_time": "2024-03-06T13:37:27.803Z"
   },
   {
    "duration": 310,
    "start_time": "2024-03-06T13:37:27.922Z"
   },
   {
    "duration": 117,
    "start_time": "2024-03-06T13:37:28.234Z"
   },
   {
    "duration": 185,
    "start_time": "2024-03-06T13:37:28.353Z"
   },
   {
    "duration": 125,
    "start_time": "2024-03-06T13:37:28.540Z"
   },
   {
    "duration": 5,
    "start_time": "2024-03-06T13:37:28.666Z"
   },
   {
    "duration": 165,
    "start_time": "2024-03-06T13:37:28.673Z"
   },
   {
    "duration": 118,
    "start_time": "2024-03-06T13:37:28.840Z"
   },
   {
    "duration": 156,
    "start_time": "2024-03-06T13:37:28.960Z"
   },
   {
    "duration": 106,
    "start_time": "2024-03-06T13:37:29.118Z"
   },
   {
    "duration": 24,
    "start_time": "2024-03-06T13:37:29.226Z"
   },
   {
    "duration": 23,
    "start_time": "2024-03-06T13:37:29.252Z"
   },
   {
    "duration": 6,
    "start_time": "2024-03-06T13:37:29.276Z"
   },
   {
    "duration": 40,
    "start_time": "2024-03-06T13:37:29.283Z"
   },
   {
    "duration": 25,
    "start_time": "2024-03-06T13:37:29.325Z"
   },
   {
    "duration": 20,
    "start_time": "2024-03-06T13:37:29.352Z"
   },
   {
    "duration": 6853,
    "start_time": "2024-03-06T13:37:29.374Z"
   },
   {
    "duration": 3871,
    "start_time": "2024-03-06T13:37:36.229Z"
   },
   {
    "duration": 3961,
    "start_time": "2024-03-06T13:37:40.102Z"
   },
   {
    "duration": 4,
    "start_time": "2024-03-06T13:37:44.064Z"
   },
   {
    "duration": 23,
    "start_time": "2024-03-06T13:37:44.070Z"
   },
   {
    "duration": 4,
    "start_time": "2024-03-06T13:37:44.095Z"
   },
   {
    "duration": 29,
    "start_time": "2024-03-06T13:37:44.100Z"
   },
   {
    "duration": 8,
    "start_time": "2024-03-06T13:37:44.131Z"
   },
   {
    "duration": 9,
    "start_time": "2024-03-06T13:37:44.140Z"
   },
   {
    "duration": 10,
    "start_time": "2024-03-06T13:37:44.150Z"
   },
   {
    "duration": 16,
    "start_time": "2024-03-06T13:37:44.162Z"
   },
   {
    "duration": 4683,
    "start_time": "2024-03-06T13:37:44.179Z"
   },
   {
    "duration": 1126,
    "start_time": "2024-03-06T13:37:48.864Z"
   },
   {
    "duration": 16,
    "start_time": "2024-03-06T13:37:49.993Z"
   },
   {
    "duration": 29,
    "start_time": "2024-03-06T13:37:50.011Z"
   },
   {
    "duration": 16,
    "start_time": "2024-03-06T13:37:50.042Z"
   },
   {
    "duration": 30,
    "start_time": "2024-03-06T13:37:50.060Z"
   },
   {
    "duration": 5,
    "start_time": "2024-03-06T13:37:50.092Z"
   },
   {
    "duration": 20,
    "start_time": "2024-03-06T13:37:50.098Z"
   },
   {
    "duration": 29,
    "start_time": "2024-03-06T13:37:50.120Z"
   },
   {
    "duration": 214,
    "start_time": "2024-03-06T13:37:50.151Z"
   },
   {
    "duration": 1269,
    "start_time": "2024-03-06T13:37:50.367Z"
   },
   {
    "duration": 11,
    "start_time": "2024-03-06T13:37:51.638Z"
   },
   {
    "duration": 154,
    "start_time": "2024-03-06T13:37:51.651Z"
   },
   {
    "duration": 128,
    "start_time": "2024-03-06T13:37:51.807Z"
   },
   {
    "duration": 22,
    "start_time": "2024-03-06T13:37:51.938Z"
   },
   {
    "duration": 184,
    "start_time": "2024-03-06T13:37:51.962Z"
   },
   {
    "duration": 145,
    "start_time": "2024-03-06T13:37:52.149Z"
   },
   {
    "duration": 175,
    "start_time": "2024-03-06T13:37:52.296Z"
   },
   {
    "duration": 281,
    "start_time": "2024-03-06T13:37:52.473Z"
   },
   {
    "duration": 244,
    "start_time": "2024-03-06T13:37:52.756Z"
   },
   {
    "duration": 151,
    "start_time": "2024-03-06T13:37:53.002Z"
   },
   {
    "duration": 159,
    "start_time": "2024-03-06T13:37:53.158Z"
   },
   {
    "duration": 34,
    "start_time": "2024-03-07T10:27:13.692Z"
   },
   {
    "duration": 1348,
    "start_time": "2024-04-08T10:03:35.909Z"
   },
   {
    "duration": 1164,
    "start_time": "2024-04-08T10:03:57.209Z"
   },
   {
    "duration": 1168,
    "start_time": "2024-04-08T10:04:07.265Z"
   },
   {
    "duration": 1322,
    "start_time": "2024-04-08T10:04:15.099Z"
   },
   {
    "duration": 43,
    "start_time": "2024-06-19T12:11:28.624Z"
   },
   {
    "duration": 3945,
    "start_time": "2024-10-13T02:35:23.443Z"
   },
   {
    "duration": 3143,
    "start_time": "2024-10-13T02:35:27.391Z"
   },
   {
    "duration": 2159,
    "start_time": "2024-10-13T02:35:30.536Z"
   },
   {
    "duration": 339,
    "start_time": "2024-10-13T02:35:32.697Z"
   },
   {
    "duration": 17,
    "start_time": "2024-10-13T02:35:33.037Z"
   },
   {
    "duration": 8,
    "start_time": "2024-10-13T02:35:35.621Z"
   },
   {
    "duration": 6,
    "start_time": "2024-10-13T02:35:36.250Z"
   },
   {
    "duration": 6,
    "start_time": "2024-10-13T02:35:36.701Z"
   },
   {
    "duration": 29,
    "start_time": "2024-10-13T02:35:41.977Z"
   },
   {
    "duration": 4,
    "start_time": "2024-10-13T02:35:43.417Z"
   },
   {
    "duration": 5,
    "start_time": "2024-10-13T02:35:46.285Z"
   },
   {
    "duration": 5,
    "start_time": "2024-10-13T02:35:47.336Z"
   },
   {
    "duration": 7,
    "start_time": "2024-10-13T02:35:50.721Z"
   },
   {
    "duration": 7,
    "start_time": "2024-10-13T02:35:53.712Z"
   },
   {
    "duration": 7,
    "start_time": "2024-10-13T02:35:56.028Z"
   },
   {
    "duration": 6,
    "start_time": "2024-10-13T02:35:56.432Z"
   },
   {
    "duration": 3,
    "start_time": "2024-10-13T02:35:56.689Z"
   }
  ],
  "colab": {
   "provenance": []
  },
  "kernelspec": {
   "display_name": "Python 3 (ipykernel)",
   "language": "python",
   "name": "python3"
  },
  "language_info": {
   "codemirror_mode": {
    "name": "ipython",
    "version": 3
   },
   "file_extension": ".py",
   "mimetype": "text/x-python",
   "name": "python",
   "nbconvert_exporter": "python",
   "pygments_lexer": "ipython3",
   "version": "3.9.5"
  },
  "toc": {
   "base_numbering": 1,
   "nav_menu": {},
   "number_sections": true,
   "sideBar": true,
   "skip_h1_title": true,
   "title_cell": "Table of Contents",
   "title_sidebar": "Contents",
   "toc_cell": false,
   "toc_position": {
    "height": "calc(100% - 180px)",
    "left": "10px",
    "top": "150px",
    "width": "247.766px"
   },
   "toc_section_display": true,
   "toc_window_display": true
  }
 },
 "nbformat": 4,
 "nbformat_minor": 1
}
