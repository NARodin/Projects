{
 "cells": [
  {
   "cell_type": "markdown",
   "id": "c6005497",
   "metadata": {},
   "source": [
    "# Исследование Gofast\n",
    "\n",
    "Вы аналитик популярного сервиса аренды самокатов GoFast. Вам передали данные о некоторых пользователях из нескольких городов, а также об их поездках.   \n",
    "  \n",
    "Проанализируйте данные и проверьте некоторые гипотезы, которые могут помочь бизнесу вырасти.\n",
    "Чтобы совершать поездки по городу, пользователи сервиса GoFast пользуются мобильным приложением. Сервисом можно пользоваться:  \n",
    "  \n",
    "без подписки\n",
    "абонентская плата отсутствует;\n",
    "стоимость одной минуты поездки — \n",
    "8\n",
    "8 рублей;\n",
    "стоимость старта (начала поездки) — \n",
    "50\n",
    "50 рублей;  \n",
    "  \n",
    "с подпиской Ultra\n",
    "абонентская плата — \n",
    "199\n",
    "199 рублей в месяц;\n",
    "стоимость одной минуты поездки — \n",
    "6\n",
    "6 рублей;\n",
    "стоимость старта — бесплатно.  \n",
    "\n",
    "  \n",
    "  \n",
    "  Данные представлены в трех таблицах с описанием каждого пользователя, описание каждой поездки и описанием типа подписки.  \n",
    "    \n",
    "  План работ:       \n",
    "  Шаг 1. Загрузка данных  \n",
    "  Шаг 2. Предобработка данных  \n",
    "  Шаг 3. Исследовательский анализ данных  \n",
    "  Шаг 4. Объединение данных  \n",
    "  Шаг 5. Подсчёт выручки  \n",
    "  Шаг 6. Проверка гипотез  \n",
    "  Вывод"
   ]
  },
  {
   "cell_type": "code",
   "execution_count": 1,
   "id": "72576667",
   "metadata": {},
   "outputs": [],
   "source": [
    "import pandas\n",
    "import matplotlib.pyplot as plt\n",
    "from scipy import stats as st\n",
    "import numpy as np"
   ]
  },
  {
   "cell_type": "markdown",
   "id": "c42cbe00",
   "metadata": {},
   "source": [
    "#### Шаг 1. Загрузка данных"
   ]
  },
  {
   "cell_type": "code",
   "execution_count": 2,
   "id": "eff9f206",
   "metadata": {},
   "outputs": [],
   "source": [
    "data_users = pandas.read_csv('/datasets/users_go.csv', sep=',')\n",
    "data_rides = pandas.read_csv('/datasets/rides_go.csv')\n",
    "data_sub = pandas.read_csv('/datasets/subscriptions_go.csv')"
   ]
  },
  {
   "cell_type": "code",
   "execution_count": 3,
   "id": "77c25f0c",
   "metadata": {},
   "outputs": [
    {
     "data": {
      "text/html": [
       "<div>\n",
       "<style scoped>\n",
       "    .dataframe tbody tr th:only-of-type {\n",
       "        vertical-align: middle;\n",
       "    }\n",
       "\n",
       "    .dataframe tbody tr th {\n",
       "        vertical-align: top;\n",
       "    }\n",
       "\n",
       "    .dataframe thead th {\n",
       "        text-align: right;\n",
       "    }\n",
       "</style>\n",
       "<table border=\"1\" class=\"dataframe\">\n",
       "  <thead>\n",
       "    <tr style=\"text-align: right;\">\n",
       "      <th></th>\n",
       "      <th>user_id</th>\n",
       "      <th>name</th>\n",
       "      <th>age</th>\n",
       "      <th>city</th>\n",
       "      <th>subscription_type</th>\n",
       "    </tr>\n",
       "  </thead>\n",
       "  <tbody>\n",
       "    <tr>\n",
       "      <th>0</th>\n",
       "      <td>1</td>\n",
       "      <td>Кира</td>\n",
       "      <td>22</td>\n",
       "      <td>Тюмень</td>\n",
       "      <td>ultra</td>\n",
       "    </tr>\n",
       "    <tr>\n",
       "      <th>1</th>\n",
       "      <td>2</td>\n",
       "      <td>Станислав</td>\n",
       "      <td>31</td>\n",
       "      <td>Омск</td>\n",
       "      <td>ultra</td>\n",
       "    </tr>\n",
       "    <tr>\n",
       "      <th>2</th>\n",
       "      <td>3</td>\n",
       "      <td>Алексей</td>\n",
       "      <td>20</td>\n",
       "      <td>Москва</td>\n",
       "      <td>ultra</td>\n",
       "    </tr>\n",
       "    <tr>\n",
       "      <th>3</th>\n",
       "      <td>4</td>\n",
       "      <td>Константин</td>\n",
       "      <td>26</td>\n",
       "      <td>Ростов-на-Дону</td>\n",
       "      <td>ultra</td>\n",
       "    </tr>\n",
       "    <tr>\n",
       "      <th>4</th>\n",
       "      <td>5</td>\n",
       "      <td>Адель</td>\n",
       "      <td>28</td>\n",
       "      <td>Омск</td>\n",
       "      <td>ultra</td>\n",
       "    </tr>\n",
       "  </tbody>\n",
       "</table>\n",
       "</div>"
      ],
      "text/plain": [
       "   user_id        name  age            city subscription_type\n",
       "0        1        Кира   22          Тюмень             ultra\n",
       "1        2   Станислав   31            Омск             ultra\n",
       "2        3     Алексей   20          Москва             ultra\n",
       "3        4  Константин   26  Ростов-на-Дону             ultra\n",
       "4        5       Адель   28            Омск             ultra"
      ]
     },
     "execution_count": 3,
     "metadata": {},
     "output_type": "execute_result"
    }
   ],
   "source": [
    "data_users.head()"
   ]
  },
  {
   "cell_type": "code",
   "execution_count": 4,
   "id": "3dbc7e36",
   "metadata": {},
   "outputs": [
    {
     "data": {
      "text/plain": [
       "array(['ultra', 'free'], dtype=object)"
      ]
     },
     "execution_count": 4,
     "metadata": {},
     "output_type": "execute_result"
    }
   ],
   "source": [
    "data_users['subscription_type'].unique()"
   ]
  },
  {
   "cell_type": "code",
   "execution_count": 5,
   "id": "eeb66556",
   "metadata": {},
   "outputs": [
    {
     "name": "stdout",
     "output_type": "stream",
     "text": [
      "<class 'pandas.core.frame.DataFrame'>\n",
      "RangeIndex: 1565 entries, 0 to 1564\n",
      "Data columns (total 5 columns):\n",
      " #   Column             Non-Null Count  Dtype \n",
      "---  ------             --------------  ----- \n",
      " 0   user_id            1565 non-null   int64 \n",
      " 1   name               1565 non-null   object\n",
      " 2   age                1565 non-null   int64 \n",
      " 3   city               1565 non-null   object\n",
      " 4   subscription_type  1565 non-null   object\n",
      "dtypes: int64(2), object(3)\n",
      "memory usage: 61.3+ KB\n"
     ]
    }
   ],
   "source": [
    "data_users.info()"
   ]
  },
  {
   "cell_type": "code",
   "execution_count": 6,
   "id": "33ad3f20",
   "metadata": {},
   "outputs": [
    {
     "data": {
      "text/html": [
       "<div>\n",
       "<style scoped>\n",
       "    .dataframe tbody tr th:only-of-type {\n",
       "        vertical-align: middle;\n",
       "    }\n",
       "\n",
       "    .dataframe tbody tr th {\n",
       "        vertical-align: top;\n",
       "    }\n",
       "\n",
       "    .dataframe thead th {\n",
       "        text-align: right;\n",
       "    }\n",
       "</style>\n",
       "<table border=\"1\" class=\"dataframe\">\n",
       "  <thead>\n",
       "    <tr style=\"text-align: right;\">\n",
       "      <th></th>\n",
       "      <th>user_id</th>\n",
       "      <th>distance</th>\n",
       "      <th>duration</th>\n",
       "      <th>date</th>\n",
       "    </tr>\n",
       "  </thead>\n",
       "  <tbody>\n",
       "    <tr>\n",
       "      <th>0</th>\n",
       "      <td>1</td>\n",
       "      <td>4409.919140</td>\n",
       "      <td>25.599769</td>\n",
       "      <td>2021-01-01</td>\n",
       "    </tr>\n",
       "    <tr>\n",
       "      <th>1</th>\n",
       "      <td>1</td>\n",
       "      <td>2617.592153</td>\n",
       "      <td>15.816871</td>\n",
       "      <td>2021-01-18</td>\n",
       "    </tr>\n",
       "    <tr>\n",
       "      <th>2</th>\n",
       "      <td>1</td>\n",
       "      <td>754.159807</td>\n",
       "      <td>6.232113</td>\n",
       "      <td>2021-04-20</td>\n",
       "    </tr>\n",
       "    <tr>\n",
       "      <th>3</th>\n",
       "      <td>1</td>\n",
       "      <td>2694.783254</td>\n",
       "      <td>18.511000</td>\n",
       "      <td>2021-08-11</td>\n",
       "    </tr>\n",
       "    <tr>\n",
       "      <th>4</th>\n",
       "      <td>1</td>\n",
       "      <td>4028.687306</td>\n",
       "      <td>26.265803</td>\n",
       "      <td>2021-08-28</td>\n",
       "    </tr>\n",
       "  </tbody>\n",
       "</table>\n",
       "</div>"
      ],
      "text/plain": [
       "   user_id     distance   duration        date\n",
       "0        1  4409.919140  25.599769  2021-01-01\n",
       "1        1  2617.592153  15.816871  2021-01-18\n",
       "2        1   754.159807   6.232113  2021-04-20\n",
       "3        1  2694.783254  18.511000  2021-08-11\n",
       "4        1  4028.687306  26.265803  2021-08-28"
      ]
     },
     "execution_count": 6,
     "metadata": {},
     "output_type": "execute_result"
    }
   ],
   "source": [
    "data_rides.head()"
   ]
  },
  {
   "cell_type": "code",
   "execution_count": 7,
   "id": "2ff3e4ae",
   "metadata": {},
   "outputs": [
    {
     "name": "stdout",
     "output_type": "stream",
     "text": [
      "<class 'pandas.core.frame.DataFrame'>\n",
      "RangeIndex: 18068 entries, 0 to 18067\n",
      "Data columns (total 4 columns):\n",
      " #   Column    Non-Null Count  Dtype  \n",
      "---  ------    --------------  -----  \n",
      " 0   user_id   18068 non-null  int64  \n",
      " 1   distance  18068 non-null  float64\n",
      " 2   duration  18068 non-null  float64\n",
      " 3   date      18068 non-null  object \n",
      "dtypes: float64(2), int64(1), object(1)\n",
      "memory usage: 564.8+ KB\n"
     ]
    }
   ],
   "source": [
    "data_rides.info()"
   ]
  },
  {
   "cell_type": "code",
   "execution_count": 8,
   "id": "1b3340e9",
   "metadata": {},
   "outputs": [
    {
     "data": {
      "text/html": [
       "<div>\n",
       "<style scoped>\n",
       "    .dataframe tbody tr th:only-of-type {\n",
       "        vertical-align: middle;\n",
       "    }\n",
       "\n",
       "    .dataframe tbody tr th {\n",
       "        vertical-align: top;\n",
       "    }\n",
       "\n",
       "    .dataframe thead th {\n",
       "        text-align: right;\n",
       "    }\n",
       "</style>\n",
       "<table border=\"1\" class=\"dataframe\">\n",
       "  <thead>\n",
       "    <tr style=\"text-align: right;\">\n",
       "      <th></th>\n",
       "      <th>subscription_type</th>\n",
       "      <th>minute_price</th>\n",
       "      <th>start_ride_price</th>\n",
       "      <th>subscription_fee</th>\n",
       "    </tr>\n",
       "  </thead>\n",
       "  <tbody>\n",
       "    <tr>\n",
       "      <th>0</th>\n",
       "      <td>free</td>\n",
       "      <td>8</td>\n",
       "      <td>50</td>\n",
       "      <td>0</td>\n",
       "    </tr>\n",
       "    <tr>\n",
       "      <th>1</th>\n",
       "      <td>ultra</td>\n",
       "      <td>6</td>\n",
       "      <td>0</td>\n",
       "      <td>199</td>\n",
       "    </tr>\n",
       "  </tbody>\n",
       "</table>\n",
       "</div>"
      ],
      "text/plain": [
       "  subscription_type  minute_price  start_ride_price  subscription_fee\n",
       "0              free             8                50                 0\n",
       "1             ultra             6                 0               199"
      ]
     },
     "execution_count": 8,
     "metadata": {},
     "output_type": "execute_result"
    }
   ],
   "source": [
    "data_sub.head(10)"
   ]
  },
  {
   "cell_type": "markdown",
   "id": "10660e42",
   "metadata": {},
   "source": [
    "Вывод 1.4  \n",
    "Проведя первичное изучение данных, можно сказать, что данных более чем достаточно для проведения иследования. В данных хватает есть ошибки и дубликаты, которые необходимо устранить для успешой выполнении работы."
   ]
  },
  {
   "cell_type": "markdown",
   "id": "e95ebca7",
   "metadata": {},
   "source": [
    "#### Шаг 2. Предобработка данных"
   ]
  },
  {
   "cell_type": "code",
   "execution_count": 9,
   "id": "af6d202c",
   "metadata": {},
   "outputs": [
    {
     "name": "stdout",
     "output_type": "stream",
     "text": [
      "user_id              0\n",
      "name                 0\n",
      "age                  0\n",
      "city                 0\n",
      "subscription_type    0\n",
      "dtype: int64\n",
      "user_id     0\n",
      "distance    0\n",
      "duration    0\n",
      "date        0\n",
      "dtype: int64\n",
      "subscription_type    0\n",
      "minute_price         0\n",
      "start_ride_price     0\n",
      "subscription_fee     0\n",
      "dtype: int64\n"
     ]
    }
   ],
   "source": [
    "print(data_users.isna().sum())\n",
    "print(data_rides.isna().sum())\n",
    "print(data_sub.isna().sum())"
   ]
  },
  {
   "cell_type": "markdown",
   "id": "d7a6553a",
   "metadata": {},
   "source": [
    "Пропусков в данных не обнаруженно, все названия столбцов введены корректно "
   ]
  },
  {
   "cell_type": "code",
   "execution_count": 10,
   "id": "d6d8ab0e",
   "metadata": {},
   "outputs": [],
   "source": [
    "#Удалим дублиты\n",
    "data_users = data_users.drop_duplicates()\n",
    "data_rides = data_rides.drop_duplicates()\n",
    "data_sub = data_sub.drop_duplicates()"
   ]
  },
  {
   "cell_type": "code",
   "execution_count": 11,
   "id": "bc862784",
   "metadata": {},
   "outputs": [
    {
     "name": "stdout",
     "output_type": "stream",
     "text": [
      "<class 'pandas.core.frame.DataFrame'>\n",
      "Int64Index: 18068 entries, 0 to 18067\n",
      "Data columns (total 4 columns):\n",
      " #   Column    Non-Null Count  Dtype         \n",
      "---  ------    --------------  -----         \n",
      " 0   user_id   18068 non-null  int64         \n",
      " 1   distance  18068 non-null  float64       \n",
      " 2   duration  18068 non-null  float64       \n",
      " 3   date      18068 non-null  datetime64[ns]\n",
      "dtypes: datetime64[ns](1), float64(2), int64(1)\n",
      "memory usage: 705.8 KB\n"
     ]
    }
   ],
   "source": [
    "#Приведем данные столбца date к правильному типу данных\n",
    "data_rides['date'] = pandas.to_datetime(data_rides['date'], format = '%Y-%m-%d')\n",
    "data_rides.info()"
   ]
  },
  {
   "cell_type": "code",
   "execution_count": 12,
   "id": "37a12b12",
   "metadata": {},
   "outputs": [
    {
     "data": {
      "text/plain": [
       "0         1\n",
       "1         1\n",
       "2         4\n",
       "3         8\n",
       "4         8\n",
       "         ..\n",
       "18063    11\n",
       "18064    11\n",
       "18065    11\n",
       "18066    11\n",
       "18067    12\n",
       "Name: month, Length: 18068, dtype: int64"
      ]
     },
     "execution_count": 12,
     "metadata": {},
     "output_type": "execute_result"
    }
   ],
   "source": [
    "#Добавим новый столбец, в которов будут месяцы\n",
    "data_rides['month'] = data_rides['date'].dt.month\n",
    "data_rides['month']"
   ]
  },
  {
   "cell_type": "markdown",
   "id": "25bcf03e",
   "metadata": {},
   "source": [
    "Вывод    \n",
    "  В процессе предварительной обработки данных были выявлены явные дубликаты, изменен тип данных в столбце с датой. Повтовряющие значения в данных скорее всего вызваны техническими ошибками. "
   ]
  },
  {
   "cell_type": "markdown",
   "id": "212593c7",
   "metadata": {},
   "source": [
    "#### Шаг 3. Исследовательский анализ данных"
   ]
  },
  {
   "cell_type": "markdown",
   "id": "802ba7e9",
   "metadata": {},
   "source": [
    "##### Частота встречаемости городов"
   ]
  },
  {
   "cell_type": "code",
   "execution_count": 13,
   "id": "e9ecfaf3",
   "metadata": {},
   "outputs": [
    {
     "name": "stdout",
     "output_type": "stream",
     "text": [
      "count          1534\n",
      "unique            8\n",
      "top       Пятигорск\n",
      "freq            219\n",
      "Name: city, dtype: object\n"
     ]
    },
    {
     "data": {
      "image/png": "[encoded data removed]",
      "text/plain": [
       "<Figure size 432x288 with 1 Axes>"
      ]
     },
     "metadata": {
      "needs_background": "light"
     },
     "output_type": "display_data"
    }
   ],
   "source": [
    "data_users['city'].value_counts().plot(kind='bar')\n",
    "print(data_users['city'].describe())\n",
    "plt.title(\"Частота встречаемости городов\")\n",
    "plt.ylabel(\"Пользователи в городах\")\n",
    "plt.xlabel(\"Города\")\n",
    "None"
   ]
  },
  {
   "cell_type": "markdown",
   "id": "c28dba16",
   "metadata": {},
   "source": [
    "Из графика видно, что больше всего пользователей из Пятигорска, а меньше всего из Москвы"
   ]
  },
  {
   "cell_type": "markdown",
   "id": "cb4a1a4f",
   "metadata": {},
   "source": [
    "##### Соотношение пользователей с подпиской и без подписки"
   ]
  },
  {
   "cell_type": "code",
   "execution_count": 14,
   "id": "c999b404",
   "metadata": {},
   "outputs": [
    {
     "name": "stdout",
     "output_type": "stream",
     "text": [
      "count     1534\n",
      "unique       2\n",
      "top       free\n",
      "freq       835\n",
      "Name: subscription_type, dtype: object\n"
     ]
    },
    {
     "data": {
      "image/png": "[encoded data removed]",
      "text/plain": [
       "<Figure size 432x288 with 1 Axes>"
      ]
     },
     "metadata": {},
     "output_type": "display_data"
    }
   ],
   "source": [
    "data_users['subscription_type'].value_counts().plot(kind='pie', autopct='%1.0f%%')\n",
    "print(data_users['subscription_type'].describe())\n",
    "plt.title(\"Соотношение пользователей с подпиской и без подписки\")\n",
    "None"
   ]
  },
  {
   "cell_type": "markdown",
   "id": "a639d4b6",
   "metadata": {},
   "source": [
    "Как видно из графика, людей с подпиской и без примерно поровну, хотя тех кто пользуется приложением бесплатно - немного больше."
   ]
  },
  {
   "cell_type": "markdown",
   "id": "acb754f4",
   "metadata": {},
   "source": [
    "##### Возраст пользователей"
   ]
  },
  {
   "cell_type": "code",
   "execution_count": 15,
   "id": "1b7d30dc",
   "metadata": {},
   "outputs": [
    {
     "name": "stdout",
     "output_type": "stream",
     "text": [
      "count    1534.000000\n",
      "mean       24.903520\n",
      "std         4.572367\n",
      "min        12.000000\n",
      "25%        22.000000\n",
      "50%        25.000000\n",
      "75%        28.000000\n",
      "max        43.000000\n",
      "Name: age, dtype: float64\n"
     ]
    },
    {
     "data": {
      "image/png": "[encoded data removed]",
      "text/plain": [
       "<Figure size 432x288 with 1 Axes>"
      ]
     },
     "metadata": {
      "needs_background": "light"
     },
     "output_type": "display_data"
    }
   ],
   "source": [
    "data_users.groupby(['age']).count()['user_id'].plot(marker='o', grid=True)\n",
    "print(data_users['age'].describe())\n",
    "plt.title(\"Возраст пользователей\")\n",
    "plt.ylabel(\"Пользователи\")\n",
    "plt.xlabel(\"Возраст\")\n",
    "None"
   ]
  },
  {
   "cell_type": "markdown",
   "id": "5e1d7e28",
   "metadata": {},
   "source": [
    "Распределение графика похоже на нормальное, что говорит о его доставерности. Видно, что наиболее вероятный возраст пользователя находится на отметке примерно в 25 лет"
   ]
  },
  {
   "cell_type": "markdown",
   "id": "4c4a6bde",
   "metadata": {},
   "source": [
    "##### Расстояние"
   ]
  },
  {
   "cell_type": "markdown",
   "id": "8485570a",
   "metadata": {},
   "source": [
    "Диаграмма показала, что в данных присутсвуют выбросы, от которых лучше избавиться"
   ]
  },
  {
   "cell_type": "code",
   "execution_count": 16,
   "id": "e2bb306a",
   "metadata": {},
   "outputs": [
    {
     "name": "stdout",
     "output_type": "stream",
     "text": [
      "count    18068.000000\n",
      "mean      3070.659976\n",
      "std       1116.831209\n",
      "min          0.855683\n",
      "25%       2543.226360\n",
      "50%       3133.609994\n",
      "75%       3776.222735\n",
      "max       7211.007745\n",
      "Name: distance, dtype: float64\n"
     ]
    },
    {
     "data": {
      "image/png": "[encoded data removed]",
      "text/plain": [
       "<Figure size 432x288 with 1 Axes>"
      ]
     },
     "metadata": {
      "needs_background": "light"
     },
     "output_type": "display_data"
    }
   ],
   "source": [
    "data_rides['distance'].hist(bins=100)\n",
    "print(data_rides['distance'].describe())\n",
    "plt.title(\"Расстояние за одну поездку\")\n",
    "plt.ylabel(\"Пользователи\")\n",
    "plt.xlabel(\"Расстояние\")\n",
    "None"
   ]
  },
  {
   "cell_type": "markdown",
   "id": "f2a6e7a8",
   "metadata": {},
   "source": [
    "Распределение графика походит на нормальное с главным пиком в 3000м и небольшим пиком в области 600м. Небольшие расстояние 1000-2000м пользаватели чаще проходят ногами. Вероятно это связано с тем что люди не видят необходимости брать самокаты на такие короткие расстояния, а небольшой пик в начале, вероятно вызван теми людьми, которые берут самокат когда очень спешат."
   ]
  },
  {
   "cell_type": "markdown",
   "id": "04482dad",
   "metadata": {},
   "source": [
    "##### Длительность поездки"
   ]
  },
  {
   "cell_type": "code",
   "execution_count": 17,
   "id": "90d197c6",
   "metadata": {},
   "outputs": [
    {
     "name": "stdout",
     "output_type": "stream",
     "text": [
      "count    18068.000000\n",
      "mean        17.805011\n",
      "std          6.091051\n",
      "min          0.500000\n",
      "25%         13.597563\n",
      "50%         17.678395\n",
      "75%         21.724800\n",
      "max         40.823963\n",
      "Name: duration, dtype: float64\n"
     ]
    },
    {
     "data": {
      "image/png": "[encoded data removed]",
      "text/plain": [
       "<Figure size 432x288 with 1 Axes>"
      ]
     },
     "metadata": {
      "needs_background": "light"
     },
     "output_type": "display_data"
    }
   ],
   "source": [
    "data_rides['duration'].hist(bins=100)\n",
    "print(data_rides['duration'].describe())\n",
    "plt.title(\"Длительность одной поездки\")\n",
    "plt.ylabel(\"Пользователи\")\n",
    "plt.xlabel(\"Длительность\")\n",
    "None"
   ]
  },
  {
   "cell_type": "markdown",
   "id": "eeef5418",
   "metadata": {},
   "source": [
    "График похож на нормальное распределение что говорит о его достоверности. Я ожидал что он будет похож на график из предыдущего пункта, однако это не так, и у графика длительности поездки только один пик"
   ]
  },
  {
   "cell_type": "markdown",
   "id": "ba624913",
   "metadata": {},
   "source": [
    "##### Вывод по Шаг 3"
   ]
  },
  {
   "cell_type": "markdown",
   "id": "1a543207",
   "metadata": {},
   "source": [
    "Исследовательский анализ данных показал, что наибольшее количество пользователей находится в Пятигорске, а наименьшее - в Москве  \n",
    "  \n",
    "Количество пользователей без подписки составляет большее число пользователей.  \n",
    "  \n",
    "Возраст пользователей доходит до 40 лет, однако больше всего пользователей находится в области 25 лет.  \n",
    "  \n",
    "Средняя поездка длится примерно 18 минут и за это время пользователь в среднем успевает проехать 3000 метров. Однако наблюдается небольшой пик в области до 1000 метров, который вызвал тем что у пользователей с подпиской нет ограничений на старт поездок, а значит даже короткие расстояния получатся дешево."
   ]
  },
  {
   "cell_type": "markdown",
   "id": "4ef51331",
   "metadata": {},
   "source": [
    "#### Шаг 4. Объединение данных"
   ]
  },
  {
   "cell_type": "markdown",
   "id": "bd3adbb9",
   "metadata": {},
   "source": [
    "##### Составные таблицы\n"
   ]
  },
  {
   "cell_type": "code",
   "execution_count": 18,
   "id": "2bd05a2d",
   "metadata": {},
   "outputs": [
    {
     "name": "stdout",
     "output_type": "stream",
     "text": [
      "1534 18068 2\n"
     ]
    }
   ],
   "source": [
    "#Размерность исходных датасетов\n",
    "print(len(data_users), len(data_rides), len(data_sub))"
   ]
  },
  {
   "cell_type": "code",
   "execution_count": 19,
   "id": "6bf288b5",
   "metadata": {},
   "outputs": [
    {
     "data": {
      "text/html": [
       "<div>\n",
       "<style scoped>\n",
       "    .dataframe tbody tr th:only-of-type {\n",
       "        vertical-align: middle;\n",
       "    }\n",
       "\n",
       "    .dataframe tbody tr th {\n",
       "        vertical-align: top;\n",
       "    }\n",
       "\n",
       "    .dataframe thead th {\n",
       "        text-align: right;\n",
       "    }\n",
       "</style>\n",
       "<table border=\"1\" class=\"dataframe\">\n",
       "  <thead>\n",
       "    <tr style=\"text-align: right;\">\n",
       "      <th></th>\n",
       "      <th>user_id</th>\n",
       "      <th>name</th>\n",
       "      <th>age</th>\n",
       "      <th>city</th>\n",
       "      <th>subscription_type</th>\n",
       "      <th>distance</th>\n",
       "      <th>duration</th>\n",
       "      <th>date</th>\n",
       "      <th>month</th>\n",
       "      <th>minute_price</th>\n",
       "      <th>start_ride_price</th>\n",
       "      <th>subscription_fee</th>\n",
       "    </tr>\n",
       "  </thead>\n",
       "  <tbody>\n",
       "    <tr>\n",
       "      <th>0</th>\n",
       "      <td>1</td>\n",
       "      <td>Кира</td>\n",
       "      <td>22</td>\n",
       "      <td>Тюмень</td>\n",
       "      <td>ultra</td>\n",
       "      <td>4409.919140</td>\n",
       "      <td>25.599769</td>\n",
       "      <td>2021-01-01</td>\n",
       "      <td>1</td>\n",
       "      <td>6</td>\n",
       "      <td>0</td>\n",
       "      <td>199</td>\n",
       "    </tr>\n",
       "    <tr>\n",
       "      <th>1</th>\n",
       "      <td>1</td>\n",
       "      <td>Кира</td>\n",
       "      <td>22</td>\n",
       "      <td>Тюмень</td>\n",
       "      <td>ultra</td>\n",
       "      <td>2617.592153</td>\n",
       "      <td>15.816871</td>\n",
       "      <td>2021-01-18</td>\n",
       "      <td>1</td>\n",
       "      <td>6</td>\n",
       "      <td>0</td>\n",
       "      <td>199</td>\n",
       "    </tr>\n",
       "    <tr>\n",
       "      <th>2</th>\n",
       "      <td>1</td>\n",
       "      <td>Кира</td>\n",
       "      <td>22</td>\n",
       "      <td>Тюмень</td>\n",
       "      <td>ultra</td>\n",
       "      <td>754.159807</td>\n",
       "      <td>6.232113</td>\n",
       "      <td>2021-04-20</td>\n",
       "      <td>4</td>\n",
       "      <td>6</td>\n",
       "      <td>0</td>\n",
       "      <td>199</td>\n",
       "    </tr>\n",
       "    <tr>\n",
       "      <th>3</th>\n",
       "      <td>1</td>\n",
       "      <td>Кира</td>\n",
       "      <td>22</td>\n",
       "      <td>Тюмень</td>\n",
       "      <td>ultra</td>\n",
       "      <td>2694.783254</td>\n",
       "      <td>18.511000</td>\n",
       "      <td>2021-08-11</td>\n",
       "      <td>8</td>\n",
       "      <td>6</td>\n",
       "      <td>0</td>\n",
       "      <td>199</td>\n",
       "    </tr>\n",
       "    <tr>\n",
       "      <th>4</th>\n",
       "      <td>1</td>\n",
       "      <td>Кира</td>\n",
       "      <td>22</td>\n",
       "      <td>Тюмень</td>\n",
       "      <td>ultra</td>\n",
       "      <td>4028.687306</td>\n",
       "      <td>26.265803</td>\n",
       "      <td>2021-08-28</td>\n",
       "      <td>8</td>\n",
       "      <td>6</td>\n",
       "      <td>0</td>\n",
       "      <td>199</td>\n",
       "    </tr>\n",
       "    <tr>\n",
       "      <th>...</th>\n",
       "      <td>...</td>\n",
       "      <td>...</td>\n",
       "      <td>...</td>\n",
       "      <td>...</td>\n",
       "      <td>...</td>\n",
       "      <td>...</td>\n",
       "      <td>...</td>\n",
       "      <td>...</td>\n",
       "      <td>...</td>\n",
       "      <td>...</td>\n",
       "      <td>...</td>\n",
       "      <td>...</td>\n",
       "    </tr>\n",
       "    <tr>\n",
       "      <th>18063</th>\n",
       "      <td>1534</td>\n",
       "      <td>Альберт</td>\n",
       "      <td>25</td>\n",
       "      <td>Краснодар</td>\n",
       "      <td>free</td>\n",
       "      <td>3781.098080</td>\n",
       "      <td>19.822962</td>\n",
       "      <td>2021-11-04</td>\n",
       "      <td>11</td>\n",
       "      <td>8</td>\n",
       "      <td>50</td>\n",
       "      <td>0</td>\n",
       "    </tr>\n",
       "    <tr>\n",
       "      <th>18064</th>\n",
       "      <td>1534</td>\n",
       "      <td>Альберт</td>\n",
       "      <td>25</td>\n",
       "      <td>Краснодар</td>\n",
       "      <td>free</td>\n",
       "      <td>2840.423057</td>\n",
       "      <td>21.409799</td>\n",
       "      <td>2021-11-16</td>\n",
       "      <td>11</td>\n",
       "      <td>8</td>\n",
       "      <td>50</td>\n",
       "      <td>0</td>\n",
       "    </tr>\n",
       "    <tr>\n",
       "      <th>18065</th>\n",
       "      <td>1534</td>\n",
       "      <td>Альберт</td>\n",
       "      <td>25</td>\n",
       "      <td>Краснодар</td>\n",
       "      <td>free</td>\n",
       "      <td>3826.185507</td>\n",
       "      <td>18.435051</td>\n",
       "      <td>2021-11-18</td>\n",
       "      <td>11</td>\n",
       "      <td>8</td>\n",
       "      <td>50</td>\n",
       "      <td>0</td>\n",
       "    </tr>\n",
       "    <tr>\n",
       "      <th>18066</th>\n",
       "      <td>1534</td>\n",
       "      <td>Альберт</td>\n",
       "      <td>25</td>\n",
       "      <td>Краснодар</td>\n",
       "      <td>free</td>\n",
       "      <td>2902.308661</td>\n",
       "      <td>16.674362</td>\n",
       "      <td>2021-11-27</td>\n",
       "      <td>11</td>\n",
       "      <td>8</td>\n",
       "      <td>50</td>\n",
       "      <td>0</td>\n",
       "    </tr>\n",
       "    <tr>\n",
       "      <th>18067</th>\n",
       "      <td>1534</td>\n",
       "      <td>Альберт</td>\n",
       "      <td>25</td>\n",
       "      <td>Краснодар</td>\n",
       "      <td>free</td>\n",
       "      <td>2371.711192</td>\n",
       "      <td>15.893917</td>\n",
       "      <td>2021-12-29</td>\n",
       "      <td>12</td>\n",
       "      <td>8</td>\n",
       "      <td>50</td>\n",
       "      <td>0</td>\n",
       "    </tr>\n",
       "  </tbody>\n",
       "</table>\n",
       "<p>18068 rows × 12 columns</p>\n",
       "</div>"
      ],
      "text/plain": [
       "       user_id     name  age       city subscription_type     distance  \\\n",
       "0            1     Кира   22     Тюмень             ultra  4409.919140   \n",
       "1            1     Кира   22     Тюмень             ultra  2617.592153   \n",
       "2            1     Кира   22     Тюмень             ultra   754.159807   \n",
       "3            1     Кира   22     Тюмень             ultra  2694.783254   \n",
       "4            1     Кира   22     Тюмень             ultra  4028.687306   \n",
       "...        ...      ...  ...        ...               ...          ...   \n",
       "18063     1534  Альберт   25  Краснодар              free  3781.098080   \n",
       "18064     1534  Альберт   25  Краснодар              free  2840.423057   \n",
       "18065     1534  Альберт   25  Краснодар              free  3826.185507   \n",
       "18066     1534  Альберт   25  Краснодар              free  2902.308661   \n",
       "18067     1534  Альберт   25  Краснодар              free  2371.711192   \n",
       "\n",
       "        duration       date  month  minute_price  start_ride_price  \\\n",
       "0      25.599769 2021-01-01      1             6                 0   \n",
       "1      15.816871 2021-01-18      1             6                 0   \n",
       "2       6.232113 2021-04-20      4             6                 0   \n",
       "3      18.511000 2021-08-11      8             6                 0   \n",
       "4      26.265803 2021-08-28      8             6                 0   \n",
       "...          ...        ...    ...           ...               ...   \n",
       "18063  19.822962 2021-11-04     11             8                50   \n",
       "18064  21.409799 2021-11-16     11             8                50   \n",
       "18065  18.435051 2021-11-18     11             8                50   \n",
       "18066  16.674362 2021-11-27     11             8                50   \n",
       "18067  15.893917 2021-12-29     12             8                50   \n",
       "\n",
       "       subscription_fee  \n",
       "0                   199  \n",
       "1                   199  \n",
       "2                   199  \n",
       "3                   199  \n",
       "4                   199  \n",
       "...                 ...  \n",
       "18063                 0  \n",
       "18064                 0  \n",
       "18065                 0  \n",
       "18066                 0  \n",
       "18067                 0  \n",
       "\n",
       "[18068 rows x 12 columns]"
      ]
     },
     "execution_count": 19,
     "metadata": {},
     "output_type": "execute_result"
    }
   ],
   "source": [
    "data_merge = data_users.merge(data_rides, on='user_id').merge(data_sub, on='subscription_type')\n",
    "data_merge"
   ]
  },
  {
   "cell_type": "code",
   "execution_count": 20,
   "id": "9e20e079",
   "metadata": {},
   "outputs": [
    {
     "name": "stdout",
     "output_type": "stream",
     "text": [
      "18068\n"
     ]
    },
    {
     "data": {
      "text/plain": [
       "user_id              0\n",
       "name                 0\n",
       "age                  0\n",
       "city                 0\n",
       "subscription_type    0\n",
       "distance             0\n",
       "duration             0\n",
       "date                 0\n",
       "month                0\n",
       "minute_price         0\n",
       "start_ride_price     0\n",
       "subscription_fee     0\n",
       "dtype: int64"
      ]
     },
     "execution_count": 20,
     "metadata": {},
     "output_type": "execute_result"
    }
   ],
   "source": [
    "print(len(data_merge))\n",
    "data_merge.isna().sum()"
   ]
  },
  {
   "cell_type": "markdown",
   "id": "1bffcfa8",
   "metadata": {},
   "source": [
    "Размерности сопадают, пропусков не обнаружено, можно двигаться дальше"
   ]
  },
  {
   "cell_type": "code",
   "execution_count": 21,
   "id": "f641a468",
   "metadata": {},
   "outputs": [],
   "source": [
    "data_merge_ultra = data_merge.query('subscription_type == \"ultra\"')\n",
    "data_merge_free = data_merge.query('subscription_type == \"free\"')"
   ]
  },
  {
   "cell_type": "markdown",
   "id": "c1dc22d7",
   "metadata": {},
   "source": [
    "##### Длительность и дальность поездки пользователями с подпиской"
   ]
  },
  {
   "cell_type": "code",
   "execution_count": 22,
   "id": "0b5b4a5f",
   "metadata": {},
   "outputs": [
    {
     "data": {
      "image/png": "[encoded data removed]",
      "text/plain": [
       "<Figure size 432x288 with 1 Axes>"
      ]
     },
     "metadata": {
      "needs_background": "light"
     },
     "output_type": "display_data"
    }
   ],
   "source": [
    "data_merge_ultra['duration'].hist(bins=100)\n",
    "plt.title(\"Длительность поездки с подпиской\")\n",
    "plt.ylabel(\"Пользователи\")\n",
    "plt.xlabel(\"Дллительность\")\n",
    "None"
   ]
  },
  {
   "cell_type": "code",
   "execution_count": 23,
   "id": "5cb89462",
   "metadata": {},
   "outputs": [
    {
     "data": {
      "image/png": "[encoded data removed]",
      "text/plain": [
       "<Figure size 432x288 with 1 Axes>"
      ]
     },
     "metadata": {
      "needs_background": "light"
     },
     "output_type": "display_data"
    }
   ],
   "source": [
    "data_merge_ultra['distance'].hist(bins=100)\n",
    "plt.title(\"Расстояние поездки с подпиской\")\n",
    "plt.ylabel(\"Пользователи\")\n",
    "plt.xlabel(\"Расстояние\")\n",
    "None"
   ]
  },
  {
   "cell_type": "markdown",
   "id": "0a61e900",
   "metadata": {},
   "source": [
    "Графики длительности поездки и расстония похожи на нормальное распределение, что говорит о их достоверности. У графика расстояния поездки наблюдается небольшой необычный пик в районе 1000м"
   ]
  },
  {
   "cell_type": "markdown",
   "id": "53bc1ef4",
   "metadata": {},
   "source": [
    "##### Длительность и дальность поездки пользователями без подписки"
   ]
  },
  {
   "cell_type": "code",
   "execution_count": 24,
   "id": "4699b7d2",
   "metadata": {},
   "outputs": [
    {
     "data": {
      "image/png": "[encoded data removed]",
      "text/plain": [
       "<Figure size 432x288 with 1 Axes>"
      ]
     },
     "metadata": {
      "needs_background": "light"
     },
     "output_type": "display_data"
    }
   ],
   "source": [
    "data_merge_free['duration'].hist(bins=100)\n",
    "plt.title(\"Длительность поездки без подписки\")\n",
    "plt.ylabel(\"Пользователи\")\n",
    "plt.xlabel(\"Дллительность\")\n",
    "None"
   ]
  },
  {
   "cell_type": "code",
   "execution_count": 25,
   "id": "2f037236",
   "metadata": {},
   "outputs": [
    {
     "data": {
      "image/png": "[encoded data removed]",
      "text/plain": [
       "<Figure size 432x288 with 1 Axes>"
      ]
     },
     "metadata": {
      "needs_background": "light"
     },
     "output_type": "display_data"
    }
   ],
   "source": [
    "data_merge_free['distance'].hist(bins=100)\n",
    "plt.title(\"Расстояние поездки без подписки\")\n",
    "plt.ylabel(\"Пользователи\")\n",
    "plt.xlabel(\"Расстояние\")\n",
    "None"
   ]
  },
  {
   "cell_type": "markdown",
   "id": "92f81594",
   "metadata": {},
   "source": [
    "Графики длительности поездки у обоих категорий практически совпадают. У обоих графиков наблюдается небольшой дополнительный пик в области коротких поездкок. между пиками графики распределены нормально, что может говорить об их достоверности."
   ]
  },
  {
   "cell_type": "markdown",
   "id": "402d620f",
   "metadata": {},
   "source": [
    "#### Шаг 5. Подсчёт выручки"
   ]
  },
  {
   "cell_type": "markdown",
   "id": "5bcf9b32",
   "metadata": {},
   "source": [
    "##### Агрегированый датафрейм"
   ]
  },
  {
   "cell_type": "code",
   "execution_count": 26,
   "id": "b0e34b0c",
   "metadata": {},
   "outputs": [
    {
     "data": {
      "text/html": [
       "<div>\n",
       "<style scoped>\n",
       "    .dataframe tbody tr th:only-of-type {\n",
       "        vertical-align: middle;\n",
       "    }\n",
       "\n",
       "    .dataframe tbody tr th {\n",
       "        vertical-align: top;\n",
       "    }\n",
       "\n",
       "    .dataframe thead th {\n",
       "        text-align: right;\n",
       "    }\n",
       "</style>\n",
       "<table border=\"1\" class=\"dataframe\">\n",
       "  <thead>\n",
       "    <tr style=\"text-align: right;\">\n",
       "      <th></th>\n",
       "      <th>user_id</th>\n",
       "      <th>name</th>\n",
       "      <th>age</th>\n",
       "      <th>city</th>\n",
       "      <th>subscription_type</th>\n",
       "      <th>distance</th>\n",
       "      <th>duration</th>\n",
       "      <th>date</th>\n",
       "      <th>month</th>\n",
       "      <th>minute_price</th>\n",
       "      <th>start_ride_price</th>\n",
       "      <th>subscription_fee</th>\n",
       "    </tr>\n",
       "  </thead>\n",
       "  <tbody>\n",
       "    <tr>\n",
       "      <th>0</th>\n",
       "      <td>1</td>\n",
       "      <td>Кира</td>\n",
       "      <td>22</td>\n",
       "      <td>Тюмень</td>\n",
       "      <td>ultra</td>\n",
       "      <td>4409.919140</td>\n",
       "      <td>26</td>\n",
       "      <td>2021-01-01</td>\n",
       "      <td>1</td>\n",
       "      <td>6</td>\n",
       "      <td>0</td>\n",
       "      <td>199</td>\n",
       "    </tr>\n",
       "    <tr>\n",
       "      <th>1</th>\n",
       "      <td>1</td>\n",
       "      <td>Кира</td>\n",
       "      <td>22</td>\n",
       "      <td>Тюмень</td>\n",
       "      <td>ultra</td>\n",
       "      <td>2617.592153</td>\n",
       "      <td>16</td>\n",
       "      <td>2021-01-18</td>\n",
       "      <td>1</td>\n",
       "      <td>6</td>\n",
       "      <td>0</td>\n",
       "      <td>199</td>\n",
       "    </tr>\n",
       "    <tr>\n",
       "      <th>2</th>\n",
       "      <td>1</td>\n",
       "      <td>Кира</td>\n",
       "      <td>22</td>\n",
       "      <td>Тюмень</td>\n",
       "      <td>ultra</td>\n",
       "      <td>754.159807</td>\n",
       "      <td>6</td>\n",
       "      <td>2021-04-20</td>\n",
       "      <td>4</td>\n",
       "      <td>6</td>\n",
       "      <td>0</td>\n",
       "      <td>199</td>\n",
       "    </tr>\n",
       "    <tr>\n",
       "      <th>3</th>\n",
       "      <td>1</td>\n",
       "      <td>Кира</td>\n",
       "      <td>22</td>\n",
       "      <td>Тюмень</td>\n",
       "      <td>ultra</td>\n",
       "      <td>2694.783254</td>\n",
       "      <td>19</td>\n",
       "      <td>2021-08-11</td>\n",
       "      <td>8</td>\n",
       "      <td>6</td>\n",
       "      <td>0</td>\n",
       "      <td>199</td>\n",
       "    </tr>\n",
       "    <tr>\n",
       "      <th>4</th>\n",
       "      <td>1</td>\n",
       "      <td>Кира</td>\n",
       "      <td>22</td>\n",
       "      <td>Тюмень</td>\n",
       "      <td>ultra</td>\n",
       "      <td>4028.687306</td>\n",
       "      <td>26</td>\n",
       "      <td>2021-08-28</td>\n",
       "      <td>8</td>\n",
       "      <td>6</td>\n",
       "      <td>0</td>\n",
       "      <td>199</td>\n",
       "    </tr>\n",
       "    <tr>\n",
       "      <th>...</th>\n",
       "      <td>...</td>\n",
       "      <td>...</td>\n",
       "      <td>...</td>\n",
       "      <td>...</td>\n",
       "      <td>...</td>\n",
       "      <td>...</td>\n",
       "      <td>...</td>\n",
       "      <td>...</td>\n",
       "      <td>...</td>\n",
       "      <td>...</td>\n",
       "      <td>...</td>\n",
       "      <td>...</td>\n",
       "    </tr>\n",
       "    <tr>\n",
       "      <th>18063</th>\n",
       "      <td>1534</td>\n",
       "      <td>Альберт</td>\n",
       "      <td>25</td>\n",
       "      <td>Краснодар</td>\n",
       "      <td>free</td>\n",
       "      <td>3781.098080</td>\n",
       "      <td>20</td>\n",
       "      <td>2021-11-04</td>\n",
       "      <td>11</td>\n",
       "      <td>8</td>\n",
       "      <td>50</td>\n",
       "      <td>0</td>\n",
       "    </tr>\n",
       "    <tr>\n",
       "      <th>18064</th>\n",
       "      <td>1534</td>\n",
       "      <td>Альберт</td>\n",
       "      <td>25</td>\n",
       "      <td>Краснодар</td>\n",
       "      <td>free</td>\n",
       "      <td>2840.423057</td>\n",
       "      <td>21</td>\n",
       "      <td>2021-11-16</td>\n",
       "      <td>11</td>\n",
       "      <td>8</td>\n",
       "      <td>50</td>\n",
       "      <td>0</td>\n",
       "    </tr>\n",
       "    <tr>\n",
       "      <th>18065</th>\n",
       "      <td>1534</td>\n",
       "      <td>Альберт</td>\n",
       "      <td>25</td>\n",
       "      <td>Краснодар</td>\n",
       "      <td>free</td>\n",
       "      <td>3826.185507</td>\n",
       "      <td>18</td>\n",
       "      <td>2021-11-18</td>\n",
       "      <td>11</td>\n",
       "      <td>8</td>\n",
       "      <td>50</td>\n",
       "      <td>0</td>\n",
       "    </tr>\n",
       "    <tr>\n",
       "      <th>18066</th>\n",
       "      <td>1534</td>\n",
       "      <td>Альберт</td>\n",
       "      <td>25</td>\n",
       "      <td>Краснодар</td>\n",
       "      <td>free</td>\n",
       "      <td>2902.308661</td>\n",
       "      <td>17</td>\n",
       "      <td>2021-11-27</td>\n",
       "      <td>11</td>\n",
       "      <td>8</td>\n",
       "      <td>50</td>\n",
       "      <td>0</td>\n",
       "    </tr>\n",
       "    <tr>\n",
       "      <th>18067</th>\n",
       "      <td>1534</td>\n",
       "      <td>Альберт</td>\n",
       "      <td>25</td>\n",
       "      <td>Краснодар</td>\n",
       "      <td>free</td>\n",
       "      <td>2371.711192</td>\n",
       "      <td>16</td>\n",
       "      <td>2021-12-29</td>\n",
       "      <td>12</td>\n",
       "      <td>8</td>\n",
       "      <td>50</td>\n",
       "      <td>0</td>\n",
       "    </tr>\n",
       "  </tbody>\n",
       "</table>\n",
       "<p>18068 rows × 12 columns</p>\n",
       "</div>"
      ],
      "text/plain": [
       "       user_id     name  age       city subscription_type     distance  \\\n",
       "0            1     Кира   22     Тюмень             ultra  4409.919140   \n",
       "1            1     Кира   22     Тюмень             ultra  2617.592153   \n",
       "2            1     Кира   22     Тюмень             ultra   754.159807   \n",
       "3            1     Кира   22     Тюмень             ultra  2694.783254   \n",
       "4            1     Кира   22     Тюмень             ultra  4028.687306   \n",
       "...        ...      ...  ...        ...               ...          ...   \n",
       "18063     1534  Альберт   25  Краснодар              free  3781.098080   \n",
       "18064     1534  Альберт   25  Краснодар              free  2840.423057   \n",
       "18065     1534  Альберт   25  Краснодар              free  3826.185507   \n",
       "18066     1534  Альберт   25  Краснодар              free  2902.308661   \n",
       "18067     1534  Альберт   25  Краснодар              free  2371.711192   \n",
       "\n",
       "       duration       date  month  minute_price  start_ride_price  \\\n",
       "0            26 2021-01-01      1             6                 0   \n",
       "1            16 2021-01-18      1             6                 0   \n",
       "2             6 2021-04-20      4             6                 0   \n",
       "3            19 2021-08-11      8             6                 0   \n",
       "4            26 2021-08-28      8             6                 0   \n",
       "...         ...        ...    ...           ...               ...   \n",
       "18063        20 2021-11-04     11             8                50   \n",
       "18064        21 2021-11-16     11             8                50   \n",
       "18065        18 2021-11-18     11             8                50   \n",
       "18066        17 2021-11-27     11             8                50   \n",
       "18067        16 2021-12-29     12             8                50   \n",
       "\n",
       "       subscription_fee  \n",
       "0                   199  \n",
       "1                   199  \n",
       "2                   199  \n",
       "3                   199  \n",
       "4                   199  \n",
       "...                 ...  \n",
       "18063                 0  \n",
       "18064                 0  \n",
       "18065                 0  \n",
       "18066                 0  \n",
       "18067                 0  \n",
       "\n",
       "[18068 rows x 12 columns]"
      ]
     },
     "execution_count": 26,
     "metadata": {},
     "output_type": "execute_result"
    }
   ],
   "source": [
    "#Округление значений в столбце\n",
    "data_merge['duration'] = data_merge['duration'].apply(lambda x: int(x + 0.5))\n",
    "data_merge"
   ]
  },
  {
   "cell_type": "code",
   "execution_count": 27,
   "id": "53049e0a",
   "metadata": {},
   "outputs": [
    {
     "data": {
      "text/html": [
       "<div>\n",
       "<style scoped>\n",
       "    .dataframe tbody tr th:only-of-type {\n",
       "        vertical-align: middle;\n",
       "    }\n",
       "\n",
       "    .dataframe tbody tr th {\n",
       "        vertical-align: top;\n",
       "    }\n",
       "\n",
       "    .dataframe thead th {\n",
       "        text-align: right;\n",
       "    }\n",
       "</style>\n",
       "<table border=\"1\" class=\"dataframe\">\n",
       "  <thead>\n",
       "    <tr style=\"text-align: right;\">\n",
       "      <th></th>\n",
       "      <th></th>\n",
       "      <th></th>\n",
       "      <th>distance</th>\n",
       "      <th>duration</th>\n",
       "      <th>count</th>\n",
       "    </tr>\n",
       "    <tr>\n",
       "      <th>user_id</th>\n",
       "      <th>month</th>\n",
       "      <th>subscription_type</th>\n",
       "      <th></th>\n",
       "      <th></th>\n",
       "      <th></th>\n",
       "    </tr>\n",
       "  </thead>\n",
       "  <tbody>\n",
       "    <tr>\n",
       "      <th rowspan=\"5\" valign=\"top\">1</th>\n",
       "      <th>1</th>\n",
       "      <th>ultra</th>\n",
       "      <td>7027.511294</td>\n",
       "      <td>42</td>\n",
       "      <td>2</td>\n",
       "    </tr>\n",
       "    <tr>\n",
       "      <th>4</th>\n",
       "      <th>ultra</th>\n",
       "      <td>754.159807</td>\n",
       "      <td>6</td>\n",
       "      <td>1</td>\n",
       "    </tr>\n",
       "    <tr>\n",
       "      <th>8</th>\n",
       "      <th>ultra</th>\n",
       "      <td>6723.470560</td>\n",
       "      <td>45</td>\n",
       "      <td>2</td>\n",
       "    </tr>\n",
       "    <tr>\n",
       "      <th>10</th>\n",
       "      <th>ultra</th>\n",
       "      <td>5809.911100</td>\n",
       "      <td>32</td>\n",
       "      <td>2</td>\n",
       "    </tr>\n",
       "    <tr>\n",
       "      <th>11</th>\n",
       "      <th>ultra</th>\n",
       "      <td>7003.499363</td>\n",
       "      <td>53</td>\n",
       "      <td>3</td>\n",
       "    </tr>\n",
       "    <tr>\n",
       "      <th>...</th>\n",
       "      <th>...</th>\n",
       "      <th>...</th>\n",
       "      <td>...</td>\n",
       "      <td>...</td>\n",
       "      <td>...</td>\n",
       "    </tr>\n",
       "    <tr>\n",
       "      <th rowspan=\"5\" valign=\"top\">1534</th>\n",
       "      <th>6</th>\n",
       "      <th>free</th>\n",
       "      <td>3409.468534</td>\n",
       "      <td>24</td>\n",
       "      <td>2</td>\n",
       "    </tr>\n",
       "    <tr>\n",
       "      <th>8</th>\n",
       "      <th>free</th>\n",
       "      <td>7622.453034</td>\n",
       "      <td>47</td>\n",
       "      <td>2</td>\n",
       "    </tr>\n",
       "    <tr>\n",
       "      <th>9</th>\n",
       "      <th>free</th>\n",
       "      <td>4928.173852</td>\n",
       "      <td>23</td>\n",
       "      <td>1</td>\n",
       "    </tr>\n",
       "    <tr>\n",
       "      <th>11</th>\n",
       "      <th>free</th>\n",
       "      <td>13350.015305</td>\n",
       "      <td>76</td>\n",
       "      <td>4</td>\n",
       "    </tr>\n",
       "    <tr>\n",
       "      <th>12</th>\n",
       "      <th>free</th>\n",
       "      <td>2371.711192</td>\n",
       "      <td>16</td>\n",
       "      <td>1</td>\n",
       "    </tr>\n",
       "  </tbody>\n",
       "</table>\n",
       "<p>11331 rows × 3 columns</p>\n",
       "</div>"
      ],
      "text/plain": [
       "                                     distance  duration  count\n",
       "user_id month subscription_type                               \n",
       "1       1     ultra               7027.511294        42      2\n",
       "        4     ultra                754.159807         6      1\n",
       "        8     ultra               6723.470560        45      2\n",
       "        10    ultra               5809.911100        32      2\n",
       "        11    ultra               7003.499363        53      3\n",
       "...                                       ...       ...    ...\n",
       "1534    6     free                3409.468534        24      2\n",
       "        8     free                7622.453034        47      2\n",
       "        9     free                4928.173852        23      1\n",
       "        11    free               13350.015305        76      4\n",
       "        12    free                2371.711192        16      1\n",
       "\n",
       "[11331 rows x 3 columns]"
      ]
     },
     "execution_count": 27,
     "metadata": {},
     "output_type": "execute_result"
    }
   ],
   "source": [
    "data_merge_month = data_merge.pivot_table(index=['user_id', 'month', 'subscription_type'], values=['distance', 'duration'],  aggfunc=['sum', 'count'])\n",
    "data_merge_month.columns = ['distance', 'duration', 'count', 'drop']\n",
    "data_merge_month.drop('drop', axis= 1 , inplace= True )\n",
    "data_merge_month"
   ]
  },
  {
   "cell_type": "code",
   "execution_count": 28,
   "id": "d527bfa9",
   "metadata": {},
   "outputs": [
    {
     "data": {
      "text/html": [
       "<div>\n",
       "<style scoped>\n",
       "    .dataframe tbody tr th:only-of-type {\n",
       "        vertical-align: middle;\n",
       "    }\n",
       "\n",
       "    .dataframe tbody tr th {\n",
       "        vertical-align: top;\n",
       "    }\n",
       "\n",
       "    .dataframe thead th {\n",
       "        text-align: right;\n",
       "    }\n",
       "</style>\n",
       "<table border=\"1\" class=\"dataframe\">\n",
       "  <thead>\n",
       "    <tr style=\"text-align: right;\">\n",
       "      <th></th>\n",
       "      <th></th>\n",
       "      <th></th>\n",
       "      <th>distance</th>\n",
       "      <th>duration</th>\n",
       "      <th>count</th>\n",
       "      <th>month_profit</th>\n",
       "    </tr>\n",
       "    <tr>\n",
       "      <th>user_id</th>\n",
       "      <th>month</th>\n",
       "      <th>subscription_type</th>\n",
       "      <th></th>\n",
       "      <th></th>\n",
       "      <th></th>\n",
       "      <th></th>\n",
       "    </tr>\n",
       "  </thead>\n",
       "  <tbody>\n",
       "    <tr>\n",
       "      <th rowspan=\"5\" valign=\"top\">1</th>\n",
       "      <th>1</th>\n",
       "      <th>ultra</th>\n",
       "      <td>7027.511294</td>\n",
       "      <td>42</td>\n",
       "      <td>2</td>\n",
       "      <td>2</td>\n",
       "    </tr>\n",
       "    <tr>\n",
       "      <th>4</th>\n",
       "      <th>ultra</th>\n",
       "      <td>754.159807</td>\n",
       "      <td>6</td>\n",
       "      <td>1</td>\n",
       "      <td>1</td>\n",
       "    </tr>\n",
       "    <tr>\n",
       "      <th>8</th>\n",
       "      <th>ultra</th>\n",
       "      <td>6723.470560</td>\n",
       "      <td>45</td>\n",
       "      <td>2</td>\n",
       "      <td>2</td>\n",
       "    </tr>\n",
       "    <tr>\n",
       "      <th>10</th>\n",
       "      <th>ultra</th>\n",
       "      <td>5809.911100</td>\n",
       "      <td>32</td>\n",
       "      <td>2</td>\n",
       "      <td>2</td>\n",
       "    </tr>\n",
       "    <tr>\n",
       "      <th>11</th>\n",
       "      <th>ultra</th>\n",
       "      <td>7003.499363</td>\n",
       "      <td>53</td>\n",
       "      <td>3</td>\n",
       "      <td>3</td>\n",
       "    </tr>\n",
       "    <tr>\n",
       "      <th>...</th>\n",
       "      <th>...</th>\n",
       "      <th>...</th>\n",
       "      <td>...</td>\n",
       "      <td>...</td>\n",
       "      <td>...</td>\n",
       "      <td>...</td>\n",
       "    </tr>\n",
       "    <tr>\n",
       "      <th rowspan=\"5\" valign=\"top\">1534</th>\n",
       "      <th>6</th>\n",
       "      <th>free</th>\n",
       "      <td>3409.468534</td>\n",
       "      <td>24</td>\n",
       "      <td>2</td>\n",
       "      <td>2</td>\n",
       "    </tr>\n",
       "    <tr>\n",
       "      <th>8</th>\n",
       "      <th>free</th>\n",
       "      <td>7622.453034</td>\n",
       "      <td>47</td>\n",
       "      <td>2</td>\n",
       "      <td>2</td>\n",
       "    </tr>\n",
       "    <tr>\n",
       "      <th>9</th>\n",
       "      <th>free</th>\n",
       "      <td>4928.173852</td>\n",
       "      <td>23</td>\n",
       "      <td>1</td>\n",
       "      <td>1</td>\n",
       "    </tr>\n",
       "    <tr>\n",
       "      <th>11</th>\n",
       "      <th>free</th>\n",
       "      <td>13350.015305</td>\n",
       "      <td>76</td>\n",
       "      <td>4</td>\n",
       "      <td>4</td>\n",
       "    </tr>\n",
       "    <tr>\n",
       "      <th>12</th>\n",
       "      <th>free</th>\n",
       "      <td>2371.711192</td>\n",
       "      <td>16</td>\n",
       "      <td>1</td>\n",
       "      <td>1</td>\n",
       "    </tr>\n",
       "  </tbody>\n",
       "</table>\n",
       "<p>11331 rows × 4 columns</p>\n",
       "</div>"
      ],
      "text/plain": [
       "                                     distance  duration  count  month_profit\n",
       "user_id month subscription_type                                             \n",
       "1       1     ultra               7027.511294        42      2             2\n",
       "        4     ultra                754.159807         6      1             1\n",
       "        8     ultra               6723.470560        45      2             2\n",
       "        10    ultra               5809.911100        32      2             2\n",
       "        11    ultra               7003.499363        53      3             3\n",
       "...                                       ...       ...    ...           ...\n",
       "1534    6     free                3409.468534        24      2             2\n",
       "        8     free                7622.453034        47      2             2\n",
       "        9     free                4928.173852        23      1             1\n",
       "        11    free               13350.015305        76      4             4\n",
       "        12    free                2371.711192        16      1             1\n",
       "\n",
       "[11331 rows x 4 columns]"
      ]
     },
     "execution_count": 28,
     "metadata": {},
     "output_type": "execute_result"
    }
   ],
   "source": [
    "data_merge_month['month_profit'] = data_merge_month['count']\n",
    "data_merge_month"
   ]
  },
  {
   "cell_type": "code",
   "execution_count": 29,
   "id": "ff79d336",
   "metadata": {},
   "outputs": [],
   "source": [
    "data_merge_month = data_merge_month.reset_index()"
   ]
  },
  {
   "cell_type": "code",
   "execution_count": 30,
   "id": "b4371c3c",
   "metadata": {},
   "outputs": [
    {
     "name": "stderr",
     "output_type": "stream",
     "text": [
      "/tmp/ipykernel_218/2787539168.py:3: SettingWithCopyWarning: \n",
      "A value is trying to be set on a copy of a slice from a DataFrame\n",
      "\n",
      "See the caveats in the documentation: https://pandas.pydata.org/pandas-docs/stable/user_guide/indexing.html#returning-a-view-versus-a-copy\n",
      "  data_merge_month['month_profit'][i] = 199 + (data_merge_month['duration'][i]*6)\n",
      "/tmp/ipykernel_218/2787539168.py:5: SettingWithCopyWarning: \n",
      "A value is trying to be set on a copy of a slice from a DataFrame\n",
      "\n",
      "See the caveats in the documentation: https://pandas.pydata.org/pandas-docs/stable/user_guide/indexing.html#returning-a-view-versus-a-copy\n",
      "  data_merge_month['month_profit'][i] = (data_merge_month['duration'][i]*8) + (50*data_merge_month['count'][i])\n"
     ]
    }
   ],
   "source": [
    "for i in range(len(data_merge_month)):\n",
    "    if  'ultra' in data_merge_month['subscription_type'][i] == 'ultra':\n",
    "        data_merge_month['month_profit'][i] = 199 + (data_merge_month['duration'][i]*6)       \n",
    "    else:\n",
    "        data_merge_month['month_profit'][i] = (data_merge_month['duration'][i]*8) + (50*data_merge_month['count'][i])"
   ]
  },
  {
   "cell_type": "code",
   "execution_count": 31,
   "id": "f1992024",
   "metadata": {},
   "outputs": [
    {
     "data": {
      "text/html": [
       "<div>\n",
       "<style scoped>\n",
       "    .dataframe tbody tr th:only-of-type {\n",
       "        vertical-align: middle;\n",
       "    }\n",
       "\n",
       "    .dataframe tbody tr th {\n",
       "        vertical-align: top;\n",
       "    }\n",
       "\n",
       "    .dataframe thead th {\n",
       "        text-align: right;\n",
       "    }\n",
       "</style>\n",
       "<table border=\"1\" class=\"dataframe\">\n",
       "  <thead>\n",
       "    <tr style=\"text-align: right;\">\n",
       "      <th></th>\n",
       "      <th>user_id</th>\n",
       "      <th>month</th>\n",
       "      <th>subscription_type</th>\n",
       "      <th>distance</th>\n",
       "      <th>duration</th>\n",
       "      <th>count</th>\n",
       "      <th>month_profit</th>\n",
       "    </tr>\n",
       "  </thead>\n",
       "  <tbody>\n",
       "    <tr>\n",
       "      <th>0</th>\n",
       "      <td>1</td>\n",
       "      <td>1</td>\n",
       "      <td>ultra</td>\n",
       "      <td>7027.511294</td>\n",
       "      <td>42</td>\n",
       "      <td>2</td>\n",
       "      <td>451</td>\n",
       "    </tr>\n",
       "    <tr>\n",
       "      <th>1</th>\n",
       "      <td>1</td>\n",
       "      <td>4</td>\n",
       "      <td>ultra</td>\n",
       "      <td>754.159807</td>\n",
       "      <td>6</td>\n",
       "      <td>1</td>\n",
       "      <td>235</td>\n",
       "    </tr>\n",
       "    <tr>\n",
       "      <th>2</th>\n",
       "      <td>1</td>\n",
       "      <td>8</td>\n",
       "      <td>ultra</td>\n",
       "      <td>6723.470560</td>\n",
       "      <td>45</td>\n",
       "      <td>2</td>\n",
       "      <td>469</td>\n",
       "    </tr>\n",
       "    <tr>\n",
       "      <th>3</th>\n",
       "      <td>1</td>\n",
       "      <td>10</td>\n",
       "      <td>ultra</td>\n",
       "      <td>5809.911100</td>\n",
       "      <td>32</td>\n",
       "      <td>2</td>\n",
       "      <td>391</td>\n",
       "    </tr>\n",
       "    <tr>\n",
       "      <th>4</th>\n",
       "      <td>1</td>\n",
       "      <td>11</td>\n",
       "      <td>ultra</td>\n",
       "      <td>7003.499363</td>\n",
       "      <td>53</td>\n",
       "      <td>3</td>\n",
       "      <td>517</td>\n",
       "    </tr>\n",
       "    <tr>\n",
       "      <th>...</th>\n",
       "      <td>...</td>\n",
       "      <td>...</td>\n",
       "      <td>...</td>\n",
       "      <td>...</td>\n",
       "      <td>...</td>\n",
       "      <td>...</td>\n",
       "      <td>...</td>\n",
       "    </tr>\n",
       "    <tr>\n",
       "      <th>11326</th>\n",
       "      <td>1534</td>\n",
       "      <td>6</td>\n",
       "      <td>free</td>\n",
       "      <td>3409.468534</td>\n",
       "      <td>24</td>\n",
       "      <td>2</td>\n",
       "      <td>292</td>\n",
       "    </tr>\n",
       "    <tr>\n",
       "      <th>11327</th>\n",
       "      <td>1534</td>\n",
       "      <td>8</td>\n",
       "      <td>free</td>\n",
       "      <td>7622.453034</td>\n",
       "      <td>47</td>\n",
       "      <td>2</td>\n",
       "      <td>476</td>\n",
       "    </tr>\n",
       "    <tr>\n",
       "      <th>11328</th>\n",
       "      <td>1534</td>\n",
       "      <td>9</td>\n",
       "      <td>free</td>\n",
       "      <td>4928.173852</td>\n",
       "      <td>23</td>\n",
       "      <td>1</td>\n",
       "      <td>234</td>\n",
       "    </tr>\n",
       "    <tr>\n",
       "      <th>11329</th>\n",
       "      <td>1534</td>\n",
       "      <td>11</td>\n",
       "      <td>free</td>\n",
       "      <td>13350.015305</td>\n",
       "      <td>76</td>\n",
       "      <td>4</td>\n",
       "      <td>808</td>\n",
       "    </tr>\n",
       "    <tr>\n",
       "      <th>11330</th>\n",
       "      <td>1534</td>\n",
       "      <td>12</td>\n",
       "      <td>free</td>\n",
       "      <td>2371.711192</td>\n",
       "      <td>16</td>\n",
       "      <td>1</td>\n",
       "      <td>178</td>\n",
       "    </tr>\n",
       "  </tbody>\n",
       "</table>\n",
       "<p>11331 rows × 7 columns</p>\n",
       "</div>"
      ],
      "text/plain": [
       "       user_id  month subscription_type      distance  duration  count  \\\n",
       "0            1      1             ultra   7027.511294        42      2   \n",
       "1            1      4             ultra    754.159807         6      1   \n",
       "2            1      8             ultra   6723.470560        45      2   \n",
       "3            1     10             ultra   5809.911100        32      2   \n",
       "4            1     11             ultra   7003.499363        53      3   \n",
       "...        ...    ...               ...           ...       ...    ...   \n",
       "11326     1534      6              free   3409.468534        24      2   \n",
       "11327     1534      8              free   7622.453034        47      2   \n",
       "11328     1534      9              free   4928.173852        23      1   \n",
       "11329     1534     11              free  13350.015305        76      4   \n",
       "11330     1534     12              free   2371.711192        16      1   \n",
       "\n",
       "       month_profit  \n",
       "0               451  \n",
       "1               235  \n",
       "2               469  \n",
       "3               391  \n",
       "4               517  \n",
       "...             ...  \n",
       "11326           292  \n",
       "11327           476  \n",
       "11328           234  \n",
       "11329           808  \n",
       "11330           178  \n",
       "\n",
       "[11331 rows x 7 columns]"
      ]
     },
     "execution_count": 31,
     "metadata": {},
     "output_type": "execute_result"
    }
   ],
   "source": [
    "data_merge_month"
   ]
  },
  {
   "cell_type": "code",
   "execution_count": 32,
   "id": "7b71064d",
   "metadata": {},
   "outputs": [
    {
     "data": {
      "text/plain": [
       "user_id              0\n",
       "month                0\n",
       "subscription_type    0\n",
       "distance             0\n",
       "duration             0\n",
       "count                0\n",
       "month_profit         0\n",
       "dtype: int64"
      ]
     },
     "execution_count": 32,
     "metadata": {},
     "output_type": "execute_result"
    }
   ],
   "source": [
    "data_merge_month.isna().sum()"
   ]
  },
  {
   "cell_type": "markdown",
   "id": "0e916a43",
   "metadata": {},
   "source": [
    "Пропусков нет, таблица заполнена корректно"
   ]
  },
  {
   "cell_type": "markdown",
   "id": "41545ac0",
   "metadata": {},
   "source": [
    "#### Шаг 6. Проверка гипотез"
   ]
  },
  {
   "cell_type": "markdown",
   "id": "f3be746f",
   "metadata": {},
   "source": [
    "##### Нулевая гипотеза: Средняя длительность поездки пользователей двух групп равны. Альтернативная гипотеза: Пользователи с подпиской тратят больше времени\n",
    "\n"
   ]
  },
  {
   "cell_type": "code",
   "execution_count": 33,
   "id": "d7bd8e8e",
   "metadata": {},
   "outputs": [
    {
     "name": "stdout",
     "output_type": "stream",
     "text": [
      "count    6500.000000\n",
      "mean       18.541985\n",
      "std         5.572048\n",
      "min         3.760353\n",
      "25%        14.524654\n",
      "50%        18.178153\n",
      "75%        21.884129\n",
      "max        40.823963\n",
      "Name: duration, dtype: float64\n"
     ]
    },
    {
     "data": {
      "image/png": "[encoded data removed]",
      "text/plain": [
       "<Figure size 432x288 with 1 Axes>"
      ]
     },
     "metadata": {
      "needs_background": "light"
     },
     "output_type": "display_data"
    }
   ],
   "source": [
    "data_merge_ultra['duration'].hist(bins=80)\n",
    "print(data_merge_ultra['duration'].describe())\n",
    "plt.title(\"Длительность поездки с подпиской\")\n",
    "plt.ylabel(\"Пользователи\")\n",
    "plt.xlabel(\"Дллительность\")\n",
    "None"
   ]
  },
  {
   "cell_type": "code",
   "execution_count": 34,
   "id": "bf92fe44",
   "metadata": {},
   "outputs": [
    {
     "name": "stdout",
     "output_type": "stream",
     "text": [
      "count    11568.000000\n",
      "mean        17.390909\n",
      "std          6.326803\n",
      "min          0.500000\n",
      "25%         12.958437\n",
      "50%         17.326890\n",
      "75%         21.594071\n",
      "max         34.948498\n",
      "Name: duration, dtype: float64\n"
     ]
    },
    {
     "data": {
      "image/png": "[encoded data removed]",
      "text/plain": [
       "<Figure size 432x288 with 1 Axes>"
      ]
     },
     "metadata": {
      "needs_background": "light"
     },
     "output_type": "display_data"
    }
   ],
   "source": [
    "data_merge_free['duration'].hist(bins=80)\n",
    "print(data_merge_free['duration'].describe())\n",
    "plt.title(\"Длительность поездки без подписки\")\n",
    "plt.ylabel(\"Пользователи\")\n",
    "plt.xlabel(\"Дллительность\")\n",
    "None"
   ]
  },
  {
   "cell_type": "code",
   "execution_count": 35,
   "id": "c871af51",
   "metadata": {},
   "outputs": [
    {
     "name": "stdout",
     "output_type": "stream",
     "text": [
      "p-значение: 1.2804098316645618e-34\n",
      "Отвергаем нулевую гипотезу\n"
     ]
    }
   ],
   "source": [
    "results = st.ttest_ind(data_merge_ultra['duration'], data_merge_free['duration'], alternative='greater')\n",
    "alpha = 0.05\n",
    "print('p-значение:', results.pvalue)\n",
    "if results.pvalue < alpha:\n",
    "    print('Отвергаем нулевую гипотезу')\n",
    "else:\n",
    "    print('Не получилось отвергнуть нулевую гипотезу') "
   ]
  },
  {
   "cell_type": "markdown",
   "id": "9c42b4fd",
   "metadata": {},
   "source": [
    "Полученное значение p-value меньше заданного уровня значимости, поэтому можно отвергнуть нулевую гипотезу. Есть основания говорить, что пользователи с подпиской тратят в сервисе больше денег."
   ]
  },
  {
   "cell_type": "markdown",
   "id": "0aa2b764",
   "metadata": {},
   "source": [
    "##### Нулевая гипотеза: Пользователи с подпиской в среднем проезжают 3130 метров за поездку. Альтернативная гипотеза: Они проезжают меньше 3130 метров"
   ]
  },
  {
   "cell_type": "code",
   "execution_count": 36,
   "id": "44d62908",
   "metadata": {},
   "outputs": [
    {
     "name": "stdout",
     "output_type": "stream",
     "text": [
      "count    6500.000000\n",
      "mean     3115.445388\n",
      "std       836.895330\n",
      "min       244.210438\n",
      "25%      2785.444017\n",
      "50%      3148.637229\n",
      "75%      3560.574425\n",
      "max      5699.769662\n",
      "Name: distance, dtype: float64\n"
     ]
    },
    {
     "data": {
      "image/png": "[encoded data removed]",
      "text/plain": [
       "<Figure size 432x288 with 1 Axes>"
      ]
     },
     "metadata": {
      "needs_background": "light"
     },
     "output_type": "display_data"
    }
   ],
   "source": [
    "data_merge_ultra['distance'].hist(bins=80)\n",
    "print(data_merge_ultra['distance'].describe())\n",
    "plt.title(\"Расстояние поездки с подпиской\")\n",
    "plt.ylabel(\"Пользователи\")\n",
    "plt.xlabel(\"Расстояние\")\n",
    "None"
   ]
  },
  {
   "cell_type": "code",
   "execution_count": 37,
   "id": "b290c2fc",
   "metadata": {},
   "outputs": [
    {
     "name": "stdout",
     "output_type": "stream",
     "text": [
      "p-значение: 0.9195368847849785\n",
      "Не отвергаем нулевую гипотезу\n"
     ]
    }
   ],
   "source": [
    "optimal_distance = 3130\n",
    "\n",
    "alpha = 0.05 # уровень статистической значимости\n",
    "\n",
    "results = st.ttest_1samp(\n",
    "    data_merge_ultra['distance'], \n",
    "    optimal_distance,\n",
    "      alternative='greater')\n",
    "\n",
    "print('p-значение:', results.pvalue)\n",
    "\n",
    "if (results.pvalue < alpha):\n",
    "    print('Отвергаем нулевую гипотезу')\n",
    "else:\n",
    "    print('Не отвергаем нулевую гипотезу') "
   ]
  },
  {
   "cell_type": "markdown",
   "id": "4f65c781",
   "metadata": {},
   "source": [
    "Значение pvalue выше уровня статистической значимости, а значит нулевую гипотезу отвергнуть не получилось"
   ]
  },
  {
   "cell_type": "markdown",
   "id": "d8b0e635",
   "metadata": {},
   "source": [
    "##### Нулевая гипотеза: Средняя помесячная вурычку пользователей двух групп равны. Альтернативная гипотеза: Пользователи с подпиской тратят больше денег в месяц"
   ]
  },
  {
   "cell_type": "code",
   "execution_count": 38,
   "id": "c30ad04c",
   "metadata": {},
   "outputs": [
    {
     "name": "stdout",
     "output_type": "stream",
     "text": [
      "count    4533.000000\n",
      "mean      358.589676\n",
      "std        86.467087\n",
      "min       223.000000\n",
      "25%       295.000000\n",
      "50%       331.000000\n",
      "75%       403.000000\n",
      "max       937.000000\n",
      "Name: month_profit, dtype: float64\n"
     ]
    },
    {
     "data": {
      "image/png": "[encoded data removed]",
      "text/plain": [
       "<Figure size 432x288 with 1 Axes>"
      ]
     },
     "metadata": {
      "needs_background": "light"
     },
     "output_type": "display_data"
    }
   ],
   "source": [
    "data_merge_month_ultra = data_merge_month.query('subscription_type == \"ultra\"')\n",
    "print(data_merge_month_ultra['month_profit'].describe())\n",
    "data_merge_month_ultra['month_profit'].hist(bins=80)\n",
    "plt.title(\"Помесячная выручка пользователей с  подпиской\")\n",
    "plt.ylabel(\"Пользователи\")\n",
    "plt.xlabel(\"Выручка\")\n",
    "None"
   ]
  },
  {
   "cell_type": "code",
   "execution_count": 39,
   "id": "73e49896",
   "metadata": {},
   "outputs": [
    {
     "name": "stdout",
     "output_type": "stream",
     "text": [
      "count    6798.000000\n",
      "mean      321.865254\n",
      "std       180.597448\n",
      "min        58.000000\n",
      "25%       186.000000\n",
      "50%       266.000000\n",
      "75%       420.000000\n",
      "max      1428.000000\n",
      "Name: month_profit, dtype: float64\n"
     ]
    },
    {
     "data": {
      "image/png": "[encoded data removed]",
      "text/plain": [
       "<Figure size 432x288 with 1 Axes>"
      ]
     },
     "metadata": {
      "needs_background": "light"
     },
     "output_type": "display_data"
    }
   ],
   "source": [
    "data_merge_month_free = data_merge_month.query('subscription_type == \"free\"')\n",
    "print(data_merge_month_free['month_profit'].describe())\n",
    "data_merge_month_free['month_profit'].hist(bins=80)\n",
    "plt.title(\"Помесячная выручка пользователей без подписки\")\n",
    "plt.ylabel(\"Пользователи\")\n",
    "plt.xlabel(\"Выручка\")\n",
    "None"
   ]
  },
  {
   "cell_type": "code",
   "execution_count": 40,
   "id": "eea33ff7",
   "metadata": {},
   "outputs": [
    {
     "name": "stdout",
     "output_type": "stream",
     "text": [
      "p-значение: 2.7619013746589185e-37\n",
      "Отвергаем нулевую гипотезу\n"
     ]
    }
   ],
   "source": [
    "results = st.ttest_ind(data_merge_month_ultra['month_profit'], data_merge_month_free['month_profit'], alternative='greater')\n",
    "alpha = 0.05\n",
    "print('p-значение:', results.pvalue)\n",
    "if results.pvalue < alpha:\n",
    "    print('Отвергаем нулевую гипотезу')\n",
    "else:\n",
    "    print('Не получилось отвергнуть нулевую гипотезу') "
   ]
  },
  {
   "cell_type": "markdown",
   "id": "2e6afecc",
   "metadata": {},
   "source": [
    "Полученное значение p-value меньше заданного уровня значимости, поэтому можно отвергнуть нулевую гипотезу. Есть основания говорить, что пользователи с подпиской тратят в ежемесячно приносят больший доход. Это сходит с проверяемой ранее теорией о том, что пользователи с подпиской приносят больше денег."
   ]
  },
  {
   "cell_type": "markdown",
   "id": "7fad8cc0",
   "metadata": {},
   "source": [
    "##### Нулевая гипотеза: Количество обращений не изменилось, несмотря на обновление приложения. Альтернативная гипотеза: Количество обращений снизилось"
   ]
  },
  {
   "cell_type": "markdown",
   "id": "405d0df0",
   "metadata": {},
   "source": [
    "Во всех предыдущих проверках гипотез мы работали с независимыми выборками, в отличие от этого. Поэтому в данном случае я прибегну к методу st.ttesl_rel()"
   ]
  },
  {
   "cell_type": "raw",
   "id": "d601f52d",
   "metadata": {},
   "source": [
    "Код примерно выглядел бы так\n",
    "\n",
    "alpha = 0.05 # уровень статистической значимости\n",
    "\n",
    "results = st.ttest_rel(before, after, altenative='less')\n",
    "\n",
    "print('p-значение:', results.pvalue)\n",
    "\n",
    "if results.pvalue < alpha:\n",
    "    print('Отвергаем нулевую гипотезу о равенстве среднего числа обращений, обращений и правда стало меньше')\n",
    "else:\n",
    "    print('Не получилось отвергнуть нулевую гипотезу о равенстве среднего числа обращений до и после обновления')"
   ]
  },
  {
   "cell_type": "markdown",
   "id": "e6ecd946",
   "metadata": {},
   "source": [
    "##### Вывод по Шаг 6"
   ]
  },
  {
   "cell_type": "markdown",
   "id": "ceb820ee",
   "metadata": {},
   "source": [
    "Проверки гипотез показали что:    \n",
    "  Пользователи с подпиской тратят больше времени в поезках, чем пользователи без подписки в среднем  \n",
    "    Пользователи с подпиской проезжают 3130 метров за поездку в среднем  \n",
    "    Пользователи с подпиской тратят больше денег в месяц чем пользователи без подписки в среднем  "
   ]
  },
  {
   "cell_type": "markdown",
   "id": "61213c5e",
   "metadata": {},
   "source": [
    "#### Шаг 7. Распределения"
   ]
  },
  {
   "cell_type": "markdown",
   "id": "b9e9978a",
   "metadata": {},
   "source": [
    "К сожалению не успеваю выполнить этот пункт, обязательно вернусь к нему позже, если успею до дедлайна((("
   ]
  },
  {
   "cell_type": "markdown",
   "id": "73404714",
   "metadata": {},
   "source": [
    "#### Вывод"
   ]
  },
  {
   "cell_type": "markdown",
   "id": "2da9f910",
   "metadata": {},
   "source": [
    "В процессе предварительной обработки данных были выявлены явные дубликаты, изменен тип данных в столбце с датой, а также на основе его был добавлен новый столбец. Повтовряющие значения в данных скорее всего вызваны техническими ошибками.  \n",
    "  \n",
    "Был проведен исследовательский анализ данных, были изучены и сделаны выводы по следующим параметрам: частота встречаемости городов, соотношение пользователей с подпиской и без, возраст пользователей, расстояние за одну поездку, длительность одной поездки.  \n",
    "  \n",
    "Исследовательский анализ данных показал, что наибольшее количество пользователей находится в Пятигорске, а наименьшее - в Москве  \n",
    "  \n",
    "Количество пользователей без подписки составляет большее число пользователей.  \n",
    "  \n",
    "Возраст пользователей доходит до 40 лет, однако больше всего пользователей находится в области 25 лет.  \n",
    "  \n",
    "Средняя поездка длится примерно 18 минут и за это время пользователь в среднем успевает проехать 3000 метров. Однако наблюдается небольшой пик в области до 1000 метров, который вызвал тем что у пользователей с подпиской нет ограничений на старт поездок, а значит даже короткие расстояния получатся дешево.  \n",
    "  \n",
    "Была проведена работа по расчету ежемесячной выручки для каждого пользователя с подпиской и без. соответсвующий столбец был добавлен в актуальный датафрейм.  \n",
    "  \n",
    "  Были проверены следующие гипотезы: Средняя длительность поездки пользователей двух групп равны, Пользователи с подпиской в среднем проезжают 3130 метров за поездку, Средняя помесячная вурычку пользователей двух групп равны.  \n",
    "  \n",
    "  Проверки гипотез показали что:    \n",
    "  Пользователи с подпиской тратят больше времени в поезках, чем пользователи без подписки в среднем  \n",
    "    Пользователи с подпиской проезжают 3130 метров за поездку в среднем  \n",
    "    Пользователи с подпиской тратят больше денег в месяц чем пользователи без подписки в среднем "
   ]
  }
 ],
 "metadata": {
  "ExecuteTimeLog": [
   {
    "duration": 1299,
    "start_time": "2023-11-19T21:07:45.307Z"
   },
   {
    "duration": 98,
    "start_time": "2023-11-19T21:07:46.608Z"
   },
   {
    "duration": 0,
    "start_time": "2023-11-19T21:07:46.708Z"
   },
   {
    "duration": 8,
    "start_time": "2023-11-19T21:07:46.997Z"
   },
   {
    "duration": 2,
    "start_time": "2023-11-19T21:07:54.661Z"
   },
   {
    "duration": 342,
    "start_time": "2023-11-19T21:07:55.470Z"
   },
   {
    "duration": 9,
    "start_time": "2023-11-19T21:07:56.193Z"
   },
   {
    "duration": 8,
    "start_time": "2023-11-19T21:07:56.488Z"
   },
   {
    "duration": 7,
    "start_time": "2023-11-19T21:07:59.633Z"
   },
   {
    "duration": 139,
    "start_time": "2023-11-19T21:08:14.401Z"
   },
   {
    "duration": 27,
    "start_time": "2023-11-19T21:08:14.908Z"
   },
   {
    "duration": 9,
    "start_time": "2023-11-19T21:08:15.787Z"
   },
   {
    "duration": 7,
    "start_time": "2023-11-19T21:08:16.269Z"
   },
   {
    "duration": 7,
    "start_time": "2023-11-19T21:08:26.956Z"
   },
   {
    "duration": 8,
    "start_time": "2023-11-19T21:09:24.608Z"
   },
   {
    "duration": 7,
    "start_time": "2023-11-19T21:09:32.336Z"
   },
   {
    "duration": 18,
    "start_time": "2023-11-19T21:10:20.064Z"
   },
   {
    "duration": 120,
    "start_time": "2023-11-19T21:10:48.994Z"
   },
   {
    "duration": 7,
    "start_time": "2023-11-19T21:10:49.456Z"
   },
   {
    "duration": 67,
    "start_time": "2023-11-19T21:10:54.828Z"
   },
   {
    "duration": 7,
    "start_time": "2023-11-19T21:10:56.243Z"
   },
   {
    "duration": 9,
    "start_time": "2023-11-19T21:10:58.836Z"
   },
   {
    "duration": 8,
    "start_time": "2023-11-19T21:11:01.992Z"
   },
   {
    "duration": 7,
    "start_time": "2023-11-19T21:11:02.786Z"
   },
   {
    "duration": 12,
    "start_time": "2023-11-19T21:11:07.916Z"
   },
   {
    "duration": 6,
    "start_time": "2023-11-19T21:12:05.692Z"
   },
   {
    "duration": 9,
    "start_time": "2023-11-19T21:12:54.476Z"
   },
   {
    "duration": 11,
    "start_time": "2023-11-19T21:15:09.384Z"
   },
   {
    "duration": 11,
    "start_time": "2023-11-19T21:15:27.423Z"
   },
   {
    "duration": 8,
    "start_time": "2023-11-19T21:17:23.955Z"
   },
   {
    "duration": 20,
    "start_time": "2023-11-19T21:17:35.948Z"
   },
   {
    "duration": 21,
    "start_time": "2023-11-19T21:17:49.596Z"
   },
   {
    "duration": 20,
    "start_time": "2023-11-19T21:17:55.864Z"
   },
   {
    "duration": 18,
    "start_time": "2023-11-19T21:18:00.892Z"
   },
   {
    "duration": 19,
    "start_time": "2023-11-19T21:18:15.163Z"
   },
   {
    "duration": 8,
    "start_time": "2023-11-19T21:19:37.540Z"
   },
   {
    "duration": 6,
    "start_time": "2023-11-19T21:22:36.976Z"
   },
   {
    "duration": 7,
    "start_time": "2023-11-19T21:23:04.655Z"
   },
   {
    "duration": 9,
    "start_time": "2023-11-19T21:23:45.911Z"
   },
   {
    "duration": 7,
    "start_time": "2023-11-19T21:23:59.751Z"
   },
   {
    "duration": 10,
    "start_time": "2023-11-19T21:25:00.499Z"
   },
   {
    "duration": 13,
    "start_time": "2023-11-19T21:25:02.615Z"
   },
   {
    "duration": 9,
    "start_time": "2023-11-19T21:25:07.483Z"
   },
   {
    "duration": 1047,
    "start_time": "2023-11-19T21:26:16.479Z"
   },
   {
    "duration": 71,
    "start_time": "2023-11-19T21:26:17.528Z"
   },
   {
    "duration": 11,
    "start_time": "2023-11-19T21:26:17.600Z"
   },
   {
    "duration": 8,
    "start_time": "2023-11-19T21:26:18.688Z"
   },
   {
    "duration": 6,
    "start_time": "2023-11-19T21:26:18.944Z"
   },
   {
    "duration": 11,
    "start_time": "2023-11-19T21:26:21.723Z"
   },
   {
    "duration": 13,
    "start_time": "2023-11-19T21:26:23.382Z"
   },
   {
    "duration": 15,
    "start_time": "2023-11-19T21:26:28.711Z"
   },
   {
    "duration": 8,
    "start_time": "2023-11-19T21:26:31.871Z"
   },
   {
    "duration": 5,
    "start_time": "2023-11-19T21:29:55.203Z"
   },
   {
    "duration": 150,
    "start_time": "2023-11-19T21:30:06.111Z"
   },
   {
    "duration": 130,
    "start_time": "2023-11-19T21:30:26.503Z"
   },
   {
    "duration": 5,
    "start_time": "2023-11-19T21:30:38.367Z"
   },
   {
    "duration": 94,
    "start_time": "2023-11-19T21:32:20.711Z"
   },
   {
    "duration": 113,
    "start_time": "2023-11-19T21:32:32.435Z"
   },
   {
    "duration": 127,
    "start_time": "2023-11-19T21:32:41.743Z"
   },
   {
    "duration": 112,
    "start_time": "2023-11-19T21:32:49.791Z"
   },
   {
    "duration": 91,
    "start_time": "2023-11-19T21:33:57.903Z"
   },
   {
    "duration": 8,
    "start_time": "2023-11-19T21:38:17.663Z"
   },
   {
    "duration": 4,
    "start_time": "2023-11-19T21:38:24.854Z"
   },
   {
    "duration": 5,
    "start_time": "2023-11-19T21:39:28.771Z"
   },
   {
    "duration": 60,
    "start_time": "2023-11-19T21:39:53.267Z"
   },
   {
    "duration": 62,
    "start_time": "2023-11-19T21:40:02.023Z"
   },
   {
    "duration": 68,
    "start_time": "2023-11-19T21:41:21.051Z"
   },
   {
    "duration": 2,
    "start_time": "2023-11-19T21:42:49.239Z"
   },
   {
    "duration": 6,
    "start_time": "2023-11-19T22:56:01.212Z"
   },
   {
    "duration": 13,
    "start_time": "2023-11-19T22:56:56.748Z"
   },
   {
    "duration": 11,
    "start_time": "2023-11-19T22:57:03.004Z"
   },
   {
    "duration": 13,
    "start_time": "2023-11-19T22:57:12.988Z"
   },
   {
    "duration": 10,
    "start_time": "2023-11-19T22:57:27.200Z"
   },
   {
    "duration": 123,
    "start_time": "2023-11-19T22:57:45.688Z"
   },
   {
    "duration": 188,
    "start_time": "2023-11-19T22:58:01.874Z"
   },
   {
    "duration": 136,
    "start_time": "2023-11-19T22:58:45.001Z"
   },
   {
    "duration": 2,
    "start_time": "2023-11-19T23:01:32.959Z"
   },
   {
    "duration": 10,
    "start_time": "2023-11-19T23:02:42.408Z"
   },
   {
    "duration": 10,
    "start_time": "2023-11-19T23:03:03.392Z"
   },
   {
    "duration": 10,
    "start_time": "2023-11-19T23:03:15.784Z"
   },
   {
    "duration": 154,
    "start_time": "2023-11-19T23:03:32.842Z"
   },
   {
    "duration": 124,
    "start_time": "2023-11-19T23:03:51.006Z"
   },
   {
    "duration": 107,
    "start_time": "2023-11-19T23:03:59.896Z"
   },
   {
    "duration": 112,
    "start_time": "2023-11-19T23:04:05.772Z"
   },
   {
    "duration": 110,
    "start_time": "2023-11-19T23:04:22.784Z"
   },
   {
    "duration": 1648,
    "start_time": "2023-11-19T23:05:16.108Z"
   },
   {
    "duration": 203,
    "start_time": "2023-11-19T23:05:47.996Z"
   },
   {
    "duration": 215,
    "start_time": "2023-11-19T23:06:07.820Z"
   },
   {
    "duration": 1221,
    "start_time": "2023-11-19T23:08:58.312Z"
   },
   {
    "duration": 364,
    "start_time": "2023-11-19T23:09:13.071Z"
   },
   {
    "duration": 11,
    "start_time": "2023-11-19T23:10:15.128Z"
   },
   {
    "duration": 105,
    "start_time": "2023-11-19T23:10:35.804Z"
   },
   {
    "duration": 117,
    "start_time": "2023-11-19T23:10:45.924Z"
   },
   {
    "duration": 11,
    "start_time": "2023-11-19T23:13:26.991Z"
   },
   {
    "duration": 14,
    "start_time": "2023-11-19T23:14:12.264Z"
   },
   {
    "duration": 1626,
    "start_time": "2023-11-19T23:14:26.555Z"
   },
   {
    "duration": 9,
    "start_time": "2023-11-19T23:14:34.036Z"
   },
   {
    "duration": 10,
    "start_time": "2023-11-19T23:14:45.528Z"
   },
   {
    "duration": 216,
    "start_time": "2023-11-19T23:14:46.136Z"
   },
   {
    "duration": 9,
    "start_time": "2023-11-19T23:14:53.104Z"
   },
   {
    "duration": 9,
    "start_time": "2023-11-19T23:14:54.435Z"
   },
   {
    "duration": 11,
    "start_time": "2023-11-19T23:15:14.623Z"
   },
   {
    "duration": 10,
    "start_time": "2023-11-19T23:15:40.368Z"
   },
   {
    "duration": 10,
    "start_time": "2023-11-19T23:15:51.723Z"
   },
   {
    "duration": 5,
    "start_time": "2023-11-19T23:16:53.364Z"
   },
   {
    "duration": 201,
    "start_time": "2023-11-19T23:16:58.368Z"
   },
   {
    "duration": 124,
    "start_time": "2023-11-19T23:18:40.708Z"
   },
   {
    "duration": 70,
    "start_time": "2023-11-19T23:18:57.278Z"
   },
   {
    "duration": 10,
    "start_time": "2023-11-19T23:20:37.360Z"
   },
   {
    "duration": 9,
    "start_time": "2023-11-19T23:21:02.384Z"
   },
   {
    "duration": 10,
    "start_time": "2023-11-19T23:21:04.175Z"
   },
   {
    "duration": 6,
    "start_time": "2023-11-19T23:21:04.855Z"
   },
   {
    "duration": 209,
    "start_time": "2023-11-19T23:21:20.267Z"
   },
   {
    "duration": 8,
    "start_time": "2023-11-19T23:37:46.667Z"
   },
   {
    "duration": 22,
    "start_time": "2023-11-19T23:37:52.250Z"
   },
   {
    "duration": 20,
    "start_time": "2023-11-19T23:38:49.275Z"
   },
   {
    "duration": 28,
    "start_time": "2023-11-19T23:38:55.882Z"
   },
   {
    "duration": 29,
    "start_time": "2023-11-19T23:41:01.470Z"
   },
   {
    "duration": 7,
    "start_time": "2023-11-19T23:41:21.878Z"
   },
   {
    "duration": 10,
    "start_time": "2023-11-19T23:41:42.292Z"
   },
   {
    "duration": 2,
    "start_time": "2023-11-19T23:42:23.054Z"
   },
   {
    "duration": 2,
    "start_time": "2023-11-19T23:43:43.526Z"
   },
   {
    "duration": 303,
    "start_time": "2023-11-19T23:44:19.225Z"
   },
   {
    "duration": 213,
    "start_time": "2023-11-19T23:44:43.165Z"
   },
   {
    "duration": 199,
    "start_time": "2023-11-19T23:45:33.637Z"
   },
   {
    "duration": 242,
    "start_time": "2023-11-19T23:45:47.090Z"
   },
   {
    "duration": 31,
    "start_time": "2023-11-19T23:55:03.317Z"
   },
   {
    "duration": 19,
    "start_time": "2023-11-19T23:57:53.937Z"
   },
   {
    "duration": 29,
    "start_time": "2023-11-19T23:57:59.225Z"
   },
   {
    "duration": 29,
    "start_time": "2023-11-19T23:58:13.316Z"
   },
   {
    "duration": 1356,
    "start_time": "2023-11-19T23:58:29.409Z"
   },
   {
    "duration": 21,
    "start_time": "2023-11-19T23:58:50.917Z"
   },
   {
    "duration": 29,
    "start_time": "2023-11-19T23:58:56.621Z"
   },
   {
    "duration": 4,
    "start_time": "2023-11-20T00:02:27.385Z"
   },
   {
    "duration": 4,
    "start_time": "2023-11-20T00:02:37.381Z"
   },
   {
    "duration": 4,
    "start_time": "2023-11-20T00:02:56.813Z"
   },
   {
    "duration": 4,
    "start_time": "2023-11-20T00:03:00.493Z"
   },
   {
    "duration": 9,
    "start_time": "2023-11-20T00:10:59.460Z"
   },
   {
    "duration": 12,
    "start_time": "2023-11-20T00:11:06.236Z"
   },
   {
    "duration": 7,
    "start_time": "2023-11-20T00:11:32.873Z"
   },
   {
    "duration": 36,
    "start_time": "2023-11-20T00:12:34.221Z"
   },
   {
    "duration": 2142,
    "start_time": "2023-11-20T00:13:24.345Z"
   },
   {
    "duration": 1981,
    "start_time": "2023-11-20T00:13:40.088Z"
   },
   {
    "duration": 29,
    "start_time": "2023-11-20T00:14:21.412Z"
   },
   {
    "duration": 9,
    "start_time": "2023-11-20T00:15:49.257Z"
   },
   {
    "duration": 15,
    "start_time": "2023-11-20T00:15:56.933Z"
   },
   {
    "duration": 11,
    "start_time": "2023-11-20T00:16:20.769Z"
   },
   {
    "duration": 6,
    "start_time": "2023-11-20T00:16:31.008Z"
   },
   {
    "duration": 15,
    "start_time": "2023-11-20T00:16:50.825Z"
   },
   {
    "duration": 519,
    "start_time": "2023-11-20T00:19:38.593Z"
   },
   {
    "duration": 37,
    "start_time": "2023-11-20T00:19:48.561Z"
   },
   {
    "duration": 42,
    "start_time": "2023-11-20T00:20:43.832Z"
   },
   {
    "duration": 6,
    "start_time": "2023-11-20T00:24:04.856Z"
   },
   {
    "duration": 3,
    "start_time": "2023-11-20T00:25:12.000Z"
   },
   {
    "duration": 120,
    "start_time": "2023-11-20T00:25:29.115Z"
   },
   {
    "duration": 126,
    "start_time": "2023-11-20T00:25:43.580Z"
   },
   {
    "duration": 128,
    "start_time": "2023-11-20T00:25:49.762Z"
   },
   {
    "duration": 3,
    "start_time": "2023-11-20T00:26:16.528Z"
   },
   {
    "duration": 3,
    "start_time": "2023-11-20T00:26:19.146Z"
   },
   {
    "duration": 70,
    "start_time": "2023-11-20T00:39:40.137Z"
   },
   {
    "duration": 9,
    "start_time": "2023-11-20T00:39:45.948Z"
   },
   {
    "duration": 3,
    "start_time": "2023-11-20T00:40:10.653Z"
   },
   {
    "duration": 6,
    "start_time": "2023-11-20T00:40:14.485Z"
   },
   {
    "duration": 17,
    "start_time": "2023-11-20T00:40:18.769Z"
   },
   {
    "duration": 9,
    "start_time": "2023-11-20T00:40:31.096Z"
   },
   {
    "duration": 5,
    "start_time": "2023-11-20T00:40:31.524Z"
   },
   {
    "duration": 14,
    "start_time": "2023-11-20T00:40:32.192Z"
   },
   {
    "duration": 5,
    "start_time": "2023-11-20T00:42:45.240Z"
   },
   {
    "duration": 14,
    "start_time": "2023-11-20T00:42:45.960Z"
   },
   {
    "duration": 38,
    "start_time": "2023-11-20T00:42:52.220Z"
   },
   {
    "duration": 8,
    "start_time": "2023-11-20T00:42:55.344Z"
   },
   {
    "duration": 5,
    "start_time": "2023-11-20T00:42:56.876Z"
   },
   {
    "duration": 14,
    "start_time": "2023-11-20T00:42:57.405Z"
   },
   {
    "duration": 4,
    "start_time": "2023-11-20T00:45:37.690Z"
   },
   {
    "duration": 3,
    "start_time": "2023-11-20T00:45:41.525Z"
   },
   {
    "duration": 4,
    "start_time": "2023-11-20T00:45:47.044Z"
   },
   {
    "duration": 2,
    "start_time": "2023-11-20T00:45:55.596Z"
   },
   {
    "duration": 3,
    "start_time": "2023-11-20T00:46:08.152Z"
   },
   {
    "duration": 42,
    "start_time": "2023-11-20T00:47:40.977Z"
   },
   {
    "duration": 8,
    "start_time": "2023-11-20T00:47:41.477Z"
   },
   {
    "duration": 2,
    "start_time": "2023-11-20T00:47:42.816Z"
   },
   {
    "duration": 19,
    "start_time": "2023-11-20T00:47:43.533Z"
   },
   {
    "duration": 80,
    "start_time": "2023-11-20T00:49:55.427Z"
   },
   {
    "duration": 3,
    "start_time": "2023-11-20T00:51:06.820Z"
   },
   {
    "duration": 103,
    "start_time": "2023-11-20T00:52:09.996Z"
   },
   {
    "duration": 110,
    "start_time": "2023-11-20T00:52:20.036Z"
   },
   {
    "duration": 131,
    "start_time": "2023-11-20T00:52:40.704Z"
   },
   {
    "duration": 78,
    "start_time": "2023-11-20T00:53:19.652Z"
   },
   {
    "duration": 4,
    "start_time": "2023-11-20T00:53:24.426Z"
   },
   {
    "duration": 15,
    "start_time": "2023-11-20T00:53:25.248Z"
   },
   {
    "duration": 4,
    "start_time": "2023-11-20T00:53:36.048Z"
   },
   {
    "duration": 109,
    "start_time": "2023-11-20T00:53:37.800Z"
   },
   {
    "duration": 5,
    "start_time": "2023-11-20T00:54:31.300Z"
   },
   {
    "duration": 4,
    "start_time": "2023-11-20T00:59:28.300Z"
   },
   {
    "duration": 11,
    "start_time": "2023-11-20T00:59:41.044Z"
   },
   {
    "duration": 4,
    "start_time": "2023-11-20T00:59:44.540Z"
   },
   {
    "duration": 74,
    "start_time": "2023-11-20T01:01:51.676Z"
   },
   {
    "duration": 4,
    "start_time": "2023-11-20T01:01:58.543Z"
   },
   {
    "duration": 114,
    "start_time": "2023-11-20T01:02:00.688Z"
   },
   {
    "duration": 3,
    "start_time": "2023-11-20T01:02:42.564Z"
   },
   {
    "duration": 16,
    "start_time": "2023-11-20T01:02:43.632Z"
   },
   {
    "duration": 4,
    "start_time": "2023-11-20T01:02:52.379Z"
   },
   {
    "duration": 1475,
    "start_time": "2023-11-20T01:02:56.500Z"
   },
   {
    "duration": 3,
    "start_time": "2023-11-20T01:03:00.992Z"
   },
   {
    "duration": 1257,
    "start_time": "2023-11-20T01:03:02.452Z"
   },
   {
    "duration": 129,
    "start_time": "2023-11-20T01:03:11.155Z"
   },
   {
    "duration": 1421,
    "start_time": "2023-11-20T01:03:14.836Z"
   },
   {
    "duration": 11,
    "start_time": "2023-11-20T01:03:18.824Z"
   },
   {
    "duration": 114,
    "start_time": "2023-11-20T01:03:22.328Z"
   },
   {
    "duration": 3,
    "start_time": "2023-11-20T01:03:26.680Z"
   },
   {
    "duration": 111,
    "start_time": "2023-11-20T01:03:27.396Z"
   },
   {
    "duration": 6,
    "start_time": "2023-11-20T01:08:05.455Z"
   },
   {
    "duration": 5,
    "start_time": "2023-11-20T01:11:12.496Z"
   },
   {
    "duration": 77,
    "start_time": "2023-11-20T01:11:18.968Z"
   },
   {
    "duration": 5,
    "start_time": "2023-11-20T01:11:23.287Z"
   },
   {
    "duration": 4,
    "start_time": "2023-11-20T01:11:33.847Z"
   },
   {
    "duration": 1913,
    "start_time": "2023-11-20T01:12:16.892Z"
   },
   {
    "duration": 1646,
    "start_time": "2023-11-20T01:12:20.496Z"
   },
   {
    "duration": 4,
    "start_time": "2023-11-20T01:12:50.875Z"
   },
   {
    "duration": 6,
    "start_time": "2023-11-20T01:15:47.700Z"
   },
   {
    "duration": 11,
    "start_time": "2023-11-20T01:15:58.984Z"
   },
   {
    "duration": 5,
    "start_time": "2023-11-20T01:16:07.755Z"
   },
   {
    "duration": 454,
    "start_time": "2023-11-20T01:16:51.932Z"
   },
   {
    "duration": 5,
    "start_time": "2023-11-20T01:17:07.011Z"
   },
   {
    "duration": 4,
    "start_time": "2023-11-20T01:18:03.187Z"
   },
   {
    "duration": 4,
    "start_time": "2023-11-20T01:18:13.566Z"
   },
   {
    "duration": 4,
    "start_time": "2023-11-20T01:18:20.766Z"
   },
   {
    "duration": 5,
    "start_time": "2023-11-20T01:19:34.551Z"
   },
   {
    "duration": 4,
    "start_time": "2023-11-20T01:19:38.031Z"
   },
   {
    "duration": 1751,
    "start_time": "2023-11-20T01:19:51.995Z"
   },
   {
    "duration": 4,
    "start_time": "2023-11-20T01:20:00.324Z"
   },
   {
    "duration": 15,
    "start_time": "2023-11-20T01:27:05.151Z"
   },
   {
    "duration": 1661,
    "start_time": "2023-11-20T12:23:16.662Z"
   },
   {
    "duration": 9,
    "start_time": "2023-11-20T12:23:27.871Z"
   },
   {
    "duration": 18,
    "start_time": "2023-11-20T12:23:36.251Z"
   },
   {
    "duration": 5,
    "start_time": "2023-11-20T12:23:53.207Z"
   },
   {
    "duration": 15,
    "start_time": "2023-11-20T12:23:56.983Z"
   },
   {
    "duration": 4,
    "start_time": "2023-11-20T12:24:07.259Z"
   },
   {
    "duration": 4,
    "start_time": "2023-11-20T12:24:11.347Z"
   },
   {
    "duration": 1634,
    "start_time": "2023-11-20T12:25:36.635Z"
   },
   {
    "duration": 4094,
    "start_time": "2023-11-20T12:25:51.671Z"
   },
   {
    "duration": 7,
    "start_time": "2023-11-20T12:26:03.026Z"
   },
   {
    "duration": 15,
    "start_time": "2023-11-20T12:26:06.963Z"
   },
   {
    "duration": 42,
    "start_time": "2023-11-20T15:19:53.132Z"
   },
   {
    "duration": 38,
    "start_time": "2023-11-20T15:19:57.068Z"
   },
   {
    "duration": 8,
    "start_time": "2023-11-20T15:19:58.464Z"
   },
   {
    "duration": 2,
    "start_time": "2023-11-20T15:19:59.492Z"
   },
   {
    "duration": 15,
    "start_time": "2023-11-20T15:19:59.939Z"
   },
   {
    "duration": 2,
    "start_time": "2023-11-20T15:20:04.312Z"
   },
   {
    "duration": 2,
    "start_time": "2023-11-20T15:20:04.704Z"
   },
   {
    "duration": 2,
    "start_time": "2023-11-20T15:20:05.935Z"
   },
   {
    "duration": 16,
    "start_time": "2023-11-20T15:20:44.788Z"
   },
   {
    "duration": 5,
    "start_time": "2023-11-20T15:20:48.248Z"
   },
   {
    "duration": 4105,
    "start_time": "2023-11-20T15:20:49.951Z"
   },
   {
    "duration": 13,
    "start_time": "2023-11-20T15:20:54.079Z"
   },
   {
    "duration": 8,
    "start_time": "2023-11-20T15:23:26.699Z"
   },
   {
    "duration": 3,
    "start_time": "2023-11-20T15:24:20.563Z"
   },
   {
    "duration": 6,
    "start_time": "2023-11-20T16:51:16.770Z"
   },
   {
    "duration": 5,
    "start_time": "2023-11-20T16:52:47.887Z"
   },
   {
    "duration": 5,
    "start_time": "2023-11-20T16:52:56.867Z"
   },
   {
    "duration": 6,
    "start_time": "2023-11-20T16:53:39.456Z"
   },
   {
    "duration": 5,
    "start_time": "2023-11-20T16:55:30.636Z"
   },
   {
    "duration": 6,
    "start_time": "2023-11-20T16:55:45.448Z"
   },
   {
    "duration": 5,
    "start_time": "2023-11-20T16:55:53.333Z"
   },
   {
    "duration": 6,
    "start_time": "2023-11-20T16:55:58.920Z"
   },
   {
    "duration": 138,
    "start_time": "2023-11-20T16:56:13.612Z"
   },
   {
    "duration": 276,
    "start_time": "2023-11-20T16:56:30.524Z"
   },
   {
    "duration": 8,
    "start_time": "2023-11-20T16:57:54.540Z"
   },
   {
    "duration": 10,
    "start_time": "2023-11-20T16:58:36.679Z"
   },
   {
    "duration": 9,
    "start_time": "2023-11-20T16:58:58.747Z"
   },
   {
    "duration": 10,
    "start_time": "2023-11-20T16:59:11.631Z"
   },
   {
    "duration": 6,
    "start_time": "2023-11-20T17:00:18.994Z"
   },
   {
    "duration": 122,
    "start_time": "2023-11-20T17:01:05.479Z"
   },
   {
    "duration": 126,
    "start_time": "2023-11-20T17:01:16.776Z"
   },
   {
    "duration": 119,
    "start_time": "2023-11-20T17:01:26.182Z"
   },
   {
    "duration": 117,
    "start_time": "2023-11-20T17:01:31.406Z"
   },
   {
    "duration": 132,
    "start_time": "2023-11-20T17:01:37.686Z"
   },
   {
    "duration": 133,
    "start_time": "2023-11-20T17:01:52.587Z"
   },
   {
    "duration": 122,
    "start_time": "2023-11-20T17:08:37.501Z"
   },
   {
    "duration": 221,
    "start_time": "2023-11-20T17:08:54.365Z"
   },
   {
    "duration": 316,
    "start_time": "2023-11-20T17:09:01.690Z"
   },
   {
    "duration": 171,
    "start_time": "2023-11-20T17:09:05.825Z"
   },
   {
    "duration": 224,
    "start_time": "2023-11-20T17:09:12.345Z"
   },
   {
    "duration": 188,
    "start_time": "2023-11-20T17:09:19.881Z"
   },
   {
    "duration": 191,
    "start_time": "2023-11-20T17:09:28.141Z"
   },
   {
    "duration": 6,
    "start_time": "2023-11-20T17:10:27.841Z"
   },
   {
    "duration": 5,
    "start_time": "2023-11-20T17:12:18.513Z"
   },
   {
    "duration": 5,
    "start_time": "2023-11-20T17:12:25.453Z"
   },
   {
    "duration": 6,
    "start_time": "2023-11-20T17:17:44.185Z"
   },
   {
    "duration": 16,
    "start_time": "2023-11-20T17:17:50.542Z"
   },
   {
    "duration": 224,
    "start_time": "2023-11-20T17:18:41.787Z"
   },
   {
    "duration": 323,
    "start_time": "2023-11-20T17:18:54.797Z"
   },
   {
    "duration": 194,
    "start_time": "2023-11-20T17:19:22.876Z"
   },
   {
    "duration": 5,
    "start_time": "2023-11-20T17:21:19.437Z"
   },
   {
    "duration": 82,
    "start_time": "2023-11-20T17:27:34.400Z"
   },
   {
    "duration": 240,
    "start_time": "2023-11-20T17:38:42.304Z"
   },
   {
    "duration": 239,
    "start_time": "2023-11-20T17:38:57.620Z"
   },
   {
    "duration": 1694,
    "start_time": "2023-11-20T17:39:22.148Z"
   },
   {
    "duration": 127,
    "start_time": "2023-11-20T17:39:32.912Z"
   },
   {
    "duration": 75,
    "start_time": "2023-11-20T17:39:41.368Z"
   },
   {
    "duration": 124,
    "start_time": "2023-11-20T17:39:53.036Z"
   },
   {
    "duration": 2,
    "start_time": "2023-11-20T17:44:25.060Z"
   },
   {
    "duration": 290,
    "start_time": "2023-11-21T11:37:24.867Z"
   },
   {
    "duration": 133,
    "start_time": "2023-11-21T11:38:12.804Z"
   },
   {
    "duration": 85,
    "start_time": "2023-11-21T11:39:04.920Z"
   },
   {
    "duration": 138,
    "start_time": "2023-11-21T11:40:06.399Z"
   },
   {
    "duration": 125,
    "start_time": "2023-11-21T11:40:18.695Z"
   },
   {
    "duration": 138,
    "start_time": "2023-11-21T11:40:31.640Z"
   },
   {
    "duration": 215,
    "start_time": "2023-11-21T11:40:52.924Z"
   },
   {
    "duration": 231,
    "start_time": "2023-11-21T11:41:22.127Z"
   },
   {
    "duration": 331,
    "start_time": "2023-11-21T11:41:26.811Z"
   },
   {
    "duration": 253,
    "start_time": "2023-11-21T11:42:09.423Z"
   },
   {
    "duration": 4,
    "start_time": "2023-11-21T11:43:49.274Z"
   },
   {
    "duration": 3,
    "start_time": "2023-11-21T11:45:27.574Z"
   },
   {
    "duration": 3,
    "start_time": "2023-11-21T11:45:58.891Z"
   },
   {
    "duration": 10,
    "start_time": "2023-11-21T11:46:20.348Z"
   },
   {
    "duration": 223,
    "start_time": "2023-11-21T11:48:52.535Z"
   },
   {
    "duration": 222,
    "start_time": "2023-11-21T11:49:10.899Z"
   },
   {
    "duration": 228,
    "start_time": "2023-11-21T11:49:20.775Z"
   },
   {
    "duration": 228,
    "start_time": "2023-11-21T11:49:44.262Z"
   },
   {
    "duration": 345,
    "start_time": "2023-11-21T11:50:30.143Z"
   },
   {
    "duration": 238,
    "start_time": "2023-11-21T11:50:45.079Z"
   },
   {
    "duration": 226,
    "start_time": "2023-11-21T11:51:08.190Z"
   },
   {
    "duration": 10,
    "start_time": "2023-11-21T11:51:58.148Z"
   },
   {
    "duration": 243,
    "start_time": "2023-11-21T11:51:59.659Z"
   },
   {
    "duration": 236,
    "start_time": "2023-11-21T11:52:01.080Z"
   },
   {
    "duration": 336,
    "start_time": "2023-11-21T11:52:04.159Z"
   },
   {
    "duration": 227,
    "start_time": "2023-11-21T11:52:05.806Z"
   },
   {
    "duration": 25,
    "start_time": "2023-11-21T11:54:24.086Z"
   },
   {
    "duration": 45,
    "start_time": "2023-11-21T11:54:30.863Z"
   },
   {
    "duration": 17,
    "start_time": "2023-11-21T11:54:38.510Z"
   },
   {
    "duration": 5,
    "start_time": "2023-11-21T11:54:40.479Z"
   },
   {
    "duration": 4154,
    "start_time": "2023-11-21T11:54:41.235Z"
   },
   {
    "duration": 13,
    "start_time": "2023-11-21T11:54:53.707Z"
   },
   {
    "duration": 8,
    "start_time": "2023-11-21T11:54:57.006Z"
   },
   {
    "duration": 211,
    "start_time": "2023-11-21T11:56:20.305Z"
   },
   {
    "duration": 215,
    "start_time": "2023-11-21T11:57:06.306Z"
   },
   {
    "duration": 211,
    "start_time": "2023-11-21T11:57:11.795Z"
   },
   {
    "duration": 241,
    "start_time": "2023-11-21T11:58:00.522Z"
   },
   {
    "duration": 370,
    "start_time": "2023-11-21T11:58:19.334Z"
   },
   {
    "duration": 5,
    "start_time": "2023-11-21T11:59:16.071Z"
   },
   {
    "duration": 101,
    "start_time": "2023-11-21T12:02:06.037Z"
   },
   {
    "duration": 85,
    "start_time": "2023-11-21T12:12:06.486Z"
   },
   {
    "duration": 1046,
    "start_time": "2023-11-21T12:12:26.449Z"
   },
   {
    "duration": 71,
    "start_time": "2023-11-21T12:12:27.497Z"
   },
   {
    "duration": 12,
    "start_time": "2023-11-21T12:12:27.570Z"
   },
   {
    "duration": 4,
    "start_time": "2023-11-21T12:12:27.584Z"
   },
   {
    "duration": 12,
    "start_time": "2023-11-21T12:12:27.765Z"
   },
   {
    "duration": 9,
    "start_time": "2023-11-21T12:12:27.957Z"
   },
   {
    "duration": 11,
    "start_time": "2023-11-21T12:12:28.138Z"
   },
   {
    "duration": 7,
    "start_time": "2023-11-21T12:12:28.309Z"
   },
   {
    "duration": 9,
    "start_time": "2023-11-21T12:12:29.177Z"
   },
   {
    "duration": 12,
    "start_time": "2023-11-21T12:12:29.505Z"
   },
   {
    "duration": 15,
    "start_time": "2023-11-21T12:12:29.681Z"
   },
   {
    "duration": 7,
    "start_time": "2023-11-21T12:12:30.014Z"
   },
   {
    "duration": 163,
    "start_time": "2023-11-21T12:12:31.009Z"
   },
   {
    "duration": 87,
    "start_time": "2023-11-21T12:12:31.845Z"
   },
   {
    "duration": 128,
    "start_time": "2023-11-21T12:12:32.542Z"
   },
   {
    "duration": 250,
    "start_time": "2023-11-21T12:12:33.761Z"
   },
   {
    "duration": 248,
    "start_time": "2023-11-21T12:12:34.302Z"
   },
   {
    "duration": 5,
    "start_time": "2023-11-21T12:12:35.545Z"
   },
   {
    "duration": 29,
    "start_time": "2023-11-21T12:12:35.722Z"
   },
   {
    "duration": 10,
    "start_time": "2023-11-21T12:12:35.898Z"
   },
   {
    "duration": 12,
    "start_time": "2023-11-21T12:12:36.245Z"
   },
   {
    "duration": 243,
    "start_time": "2023-11-21T12:12:36.949Z"
   },
   {
    "duration": 327,
    "start_time": "2023-11-21T12:12:37.194Z"
   },
   {
    "duration": 230,
    "start_time": "2023-11-21T12:12:38.033Z"
   },
   {
    "duration": 240,
    "start_time": "2023-11-21T12:12:38.265Z"
   },
   {
    "duration": 27,
    "start_time": "2023-11-21T12:12:38.933Z"
   },
   {
    "duration": 43,
    "start_time": "2023-11-21T12:12:39.114Z"
   },
   {
    "duration": 20,
    "start_time": "2023-11-21T12:12:39.666Z"
   },
   {
    "duration": 6,
    "start_time": "2023-11-21T12:12:39.849Z"
   },
   {
    "duration": 3958,
    "start_time": "2023-11-21T12:12:40.029Z"
   },
   {
    "duration": 14,
    "start_time": "2023-11-21T12:12:43.989Z"
   },
   {
    "duration": 26,
    "start_time": "2023-11-21T12:12:44.004Z"
   },
   {
    "duration": 246,
    "start_time": "2023-11-21T12:12:44.033Z"
   },
   {
    "duration": 263,
    "start_time": "2023-11-21T12:12:44.280Z"
   },
   {
    "duration": 6,
    "start_time": "2023-11-21T12:12:44.545Z"
   },
   {
    "duration": 355,
    "start_time": "2023-11-21T12:12:44.552Z"
   },
   {
    "duration": 5,
    "start_time": "2023-11-21T12:12:44.909Z"
   },
   {
    "duration": 275,
    "start_time": "2023-11-21T12:12:46.962Z"
   },
   {
    "duration": 259,
    "start_time": "2023-11-21T12:12:47.314Z"
   },
   {
    "duration": 6,
    "start_time": "2023-11-21T12:12:47.605Z"
   },
   {
    "duration": 1218,
    "start_time": "2023-11-22T08:55:27.076Z"
   },
   {
    "duration": 72,
    "start_time": "2023-11-22T08:55:28.296Z"
   },
   {
    "duration": 13,
    "start_time": "2023-11-22T08:55:28.370Z"
   },
   {
    "duration": 5,
    "start_time": "2023-11-22T08:55:28.385Z"
   },
   {
    "duration": 15,
    "start_time": "2023-11-22T08:55:28.391Z"
   },
   {
    "duration": 11,
    "start_time": "2023-11-22T08:55:28.407Z"
   },
   {
    "duration": 13,
    "start_time": "2023-11-22T08:55:28.420Z"
   },
   {
    "duration": 7,
    "start_time": "2023-11-22T08:55:28.435Z"
   },
   {
    "duration": 39,
    "start_time": "2023-11-22T08:55:28.443Z"
   },
   {
    "duration": 12,
    "start_time": "2023-11-22T08:55:28.485Z"
   },
   {
    "duration": 14,
    "start_time": "2023-11-22T08:55:28.498Z"
   },
   {
    "duration": 7,
    "start_time": "2023-11-22T08:55:28.514Z"
   },
   {
    "duration": 204,
    "start_time": "2023-11-22T08:55:28.523Z"
   },
   {
    "duration": 104,
    "start_time": "2023-11-22T08:55:28.728Z"
   },
   {
    "duration": 159,
    "start_time": "2023-11-22T08:55:28.833Z"
   },
   {
    "duration": 296,
    "start_time": "2023-11-22T08:55:28.994Z"
   },
   {
    "duration": 283,
    "start_time": "2023-11-22T08:55:29.291Z"
   },
   {
    "duration": 3,
    "start_time": "2023-11-22T08:55:29.576Z"
   },
   {
    "duration": 37,
    "start_time": "2023-11-22T08:55:29.581Z"
   },
   {
    "duration": 9,
    "start_time": "2023-11-22T08:55:29.620Z"
   },
   {
    "duration": 26,
    "start_time": "2023-11-22T08:55:29.631Z"
   },
   {
    "duration": 277,
    "start_time": "2023-11-22T08:55:29.659Z"
   },
   {
    "duration": 356,
    "start_time": "2023-11-22T08:55:29.938Z"
   },
   {
    "duration": 267,
    "start_time": "2023-11-22T08:55:30.295Z"
   },
   {
    "duration": 277,
    "start_time": "2023-11-22T08:55:30.564Z"
   },
   {
    "duration": 31,
    "start_time": "2023-11-22T08:55:30.843Z"
   },
   {
    "duration": 108,
    "start_time": "2023-11-22T08:55:30.876Z"
   },
   {
    "duration": 70,
    "start_time": "2023-11-22T08:55:30.987Z"
   },
   {
    "duration": 61,
    "start_time": "2023-11-22T08:55:31.059Z"
   },
   {
    "duration": 4159,
    "start_time": "2023-11-22T08:55:31.122Z"
   },
   {
    "duration": 14,
    "start_time": "2023-11-22T08:55:35.283Z"
   },
   {
    "duration": 26,
    "start_time": "2023-11-22T08:55:35.299Z"
   },
   {
    "duration": 250,
    "start_time": "2023-11-22T08:55:35.327Z"
   },
   {
    "duration": 250,
    "start_time": "2023-11-22T08:55:35.579Z"
   },
   {
    "duration": 5,
    "start_time": "2023-11-22T08:55:35.831Z"
   },
   {
    "duration": 336,
    "start_time": "2023-11-22T08:55:35.838Z"
   },
   {
    "duration": 6,
    "start_time": "2023-11-22T08:55:36.176Z"
   },
   {
    "duration": 280,
    "start_time": "2023-11-22T08:55:36.183Z"
   },
   {
    "duration": 256,
    "start_time": "2023-11-22T08:55:36.465Z"
   },
   {
    "duration": 6,
    "start_time": "2023-11-22T08:55:36.722Z"
   }
  ],
  "kernelspec": {
   "display_name": "Python 3 (ipykernel)",
   "language": "python",
   "name": "python3"
  },
  "language_info": {
   "codemirror_mode": {
    "name": "ipython",
    "version": 3
   },
   "file_extension": ".py",
   "mimetype": "text/x-python",
   "name": "python",
   "nbconvert_exporter": "python",
   "pygments_lexer": "ipython3",
   "version": "3.9.5"
  },
  "toc": {
   "base_numbering": 1,
   "nav_menu": {},
   "number_sections": true,
   "sideBar": true,
   "skip_h1_title": true,
   "title_cell": "Table of Contents",
   "title_sidebar": "Contents",
   "toc_cell": false,
   "toc_position": {
    "height": "calc(100% - 180px)",
    "left": "10px",
    "top": "150px",
    "width": "361.391px"
   },
   "toc_section_display": true,
   "toc_window_display": true
  }
 },
 "nbformat": 4,
 "nbformat_minor": 5
}
